{
 "cells": [
  {
   "cell_type": "markdown",
   "metadata": {
    "id": "ntCI7OooTvbG"
   },
   "source": [
    "# NumPy\n",
    "[(**Num**eric **Py**thon)](http://www.numpy.org/)"
   ]
  },
  {
   "cell_type": "markdown",
   "metadata": {
    "id": "BU6c2MQ9TvbJ"
   },
   "source": [
    "## Содержание\n",
    " - Особенности Numpy\n",
    " - Некоторые функции\n",
    " - Массивы ndarray и операции с ними\n",
    " - Cпособы создания массива\n",
    " - Индексация\n",
    " - Операции с матрицами и векторами\n",
    " - Полезные функций и методы\n",
    " - Вычисление статистик"
   ]
  },
  {
   "cell_type": "markdown",
   "metadata": {
    "id": "vrbwKsdRTvbO"
   },
   "source": [
    "# <a id=\"Особенности Numpy\"><span style=\"color:green\">Особенности</span></a>\n",
    "\n",
    "**NumPy** - это open-source модуль для Python, который предоставляет общие математические и числовые операции в виде пре-скомпилированных, быстрых функций (использует типы из C, которые существенно быстрее чем Python типы). Они обеспечивают функционал, который можно сравнить с функционалом MatLab.  \n",
    "\n",
    "Возможности:\n",
    "   - поддержка многомерных массивов (включая матрицы);\n",
    "   - поддержка высокоуровневых математических функций, предназначенных для работы с многомерными массивами.  "
   ]
  },
  {
   "cell_type": "markdown",
   "metadata": {
    "id": "G7gM42J6TvbP"
   },
   "source": [
    "**Типы данных в NumPy**"
   ]
  },
  {
   "cell_type": "markdown",
   "metadata": {
    "id": "NLOejZXhTvbQ"
   },
   "source": [
    "В `Python` к числовым типам относятся:\n",
    "   - int\n",
    "   - float\n",
    "   - bool\n",
    "   - complex   \n",
    "   \n",
    "В `numpy` имеются эти типы, а также обёртки над этими типами, которые **используют реализацию типов на C**, например, `int8`, `int16`, `int32`, `int64` (подробнее о типах данных `numpy` можно прочитать [здесь](https://www.numpy.org/devdocs/user/basics.types.html)). За счёт того, что используются типы данных из C, numpy получает ускорение операций."
   ]
  },
  {
   "cell_type": "code",
   "execution_count": 1,
   "metadata": {
    "id": "USBh92hETvbR"
   },
   "outputs": [],
   "source": [
    "import numpy as np\n",
    "from tqdm import tqdm_notebook  # посмотрите, что делает tqdm_notebook"
   ]
  },
  {
   "cell_type": "markdown",
   "metadata": {
    "id": "t3Qza82ATvbS"
   },
   "source": [
    "# <a id=\"Некоторые функции\"><span style=\"color:green\">Некоторые функции</span></a>\n",
    "\n",
    "В numpy реализовано огромное число функций.\n",
    "Вот некоторые из них:"
   ]
  },
  {
   "cell_type": "markdown",
   "metadata": {
    "id": "LrEDyq-TTvbT"
   },
   "source": [
    "- np.log(x) - натуральный логарифм x\n",
    "- np.log10(x) - десятичный логарифм x\n",
    "- np.log2(x)\n",
    "- np.sqrt(x) - квадратный корень из x\n",
    "- np.power(x, n) - возведение x в степень n\n",
    "- np.abs(x) - модуль x\n",
    "- np.round(x, n) - математическое округление x\n",
    "- np.floor(x) - округление вниз\n",
    "- np.ceil(x) - округление вверх\n",
    "- np.int(x) - округление к нулю\n",
    "- sin(x) - синус\n",
    "- cos(x) - косинус\n",
    "- ... и т. д.."
   ]
  },
  {
   "cell_type": "markdown",
   "metadata": {
    "id": "S3VXJ4eSTvbU"
   },
   "source": [
    "**Примеры**"
   ]
  },
  {
   "cell_type": "markdown",
   "metadata": {
    "id": "QrhZU2IsTvbU"
   },
   "source": [
    "Все аргументы, описание функций легко найти:"
   ]
  },
  {
   "cell_type": "code",
   "execution_count": 2,
   "metadata": {
    "id": "nbe9wyrSTvbU"
   },
   "outputs": [],
   "source": [
    "# справка\n",
    "np.log?"
   ]
  },
  {
   "cell_type": "markdown",
   "metadata": {
    "id": "Kcm5hoU2TvbV"
   },
   "source": [
    "Также используйте сочетаия клавиш `Shift + Tab` для получения короткой справки (Работает только в Jupyter Notebook)"
   ]
  },
  {
   "cell_type": "code",
   "execution_count": 3,
   "metadata": {
    "colab": {
     "base_uri": "https://localhost:8080/"
    },
    "id": "3GeASL_nTvbV",
    "outputId": "f00cd75c-e6ca-41e0-9a6a-73b3b7f2c5d4"
   },
   "outputs": [
    {
     "data": {
      "text/plain": [
       "2.302585092994046"
      ]
     },
     "execution_count": 3,
     "metadata": {},
     "output_type": "execute_result"
    }
   ],
   "source": [
    "np.log(10, dtype=np.float64)"
   ]
  },
  {
   "cell_type": "code",
   "execution_count": 4,
   "metadata": {},
   "outputs": [
    {
     "data": {
      "text/plain": [
       "2.303"
      ]
     },
     "execution_count": 4,
     "metadata": {},
     "output_type": "execute_result"
    }
   ],
   "source": [
    "np.log(10, dtype=np.float16)"
   ]
  },
  {
   "cell_type": "code",
   "execution_count": 5,
   "metadata": {
    "colab": {
     "base_uri": "https://localhost:8080/"
    },
    "id": "HfUobTqCTvbW",
    "outputId": "683e6d4a-4b9a-44a2-acc5-490f8d1bdc20"
   },
   "outputs": [
    {
     "name": "stderr",
     "output_type": "stream",
     "text": [
      "/var/folders/v8/2cskhqjj0_g0zp3824glf1tm0000gn/T/ipykernel_6186/2773519477.py:1: RuntimeWarning: divide by zero encountered in log\n",
      "  np.log(0.)\n"
     ]
    },
    {
     "data": {
      "text/plain": [
       "-inf"
      ]
     },
     "execution_count": 5,
     "metadata": {},
     "output_type": "execute_result"
    }
   ],
   "source": [
    "np.log(0.)"
   ]
  },
  {
   "cell_type": "code",
   "execution_count": 6,
   "metadata": {
    "colab": {
     "base_uri": "https://localhost:8080/"
    },
    "id": "PE91dyhKgxal",
    "outputId": "f2ebbb35-66ab-46af-f09e-fff3ced07e0b"
   },
   "outputs": [
    {
     "data": {
      "text/plain": [
       "True"
      ]
     },
     "execution_count": 6,
     "metadata": {},
     "output_type": "execute_result"
    }
   ],
   "source": [
    "0 == 0."
   ]
  },
  {
   "cell_type": "code",
   "execution_count": 7,
   "metadata": {
    "colab": {
     "base_uri": "https://localhost:8080/"
    },
    "id": "embe1ZwMg4Hg",
    "outputId": "3256fe7c-609c-47e4-bf1e-a3e13b2e1003"
   },
   "outputs": [
    {
     "data": {
      "text/plain": [
       "1.0"
      ]
     },
     "execution_count": 7,
     "metadata": {},
     "output_type": "execute_result"
    }
   ],
   "source": [
    "1."
   ]
  },
  {
   "cell_type": "code",
   "execution_count": 8,
   "metadata": {
    "colab": {
     "base_uri": "https://localhost:8080/"
    },
    "id": "it5SbUkxTvbW",
    "outputId": "6c583b85-a950-4058-f97f-85530f6f98ca"
   },
   "outputs": [
    {
     "name": "stdout",
     "output_type": "stream",
     "text": [
      "1.0\n",
      "2.0\n"
     ]
    }
   ],
   "source": [
    "print(np.log10(10))\n",
    "print(np.log10(100))"
   ]
  },
  {
   "cell_type": "code",
   "execution_count": 9,
   "metadata": {},
   "outputs": [
    {
     "data": {
      "text/plain": [
       "'1.21.4'"
      ]
     },
     "execution_count": 9,
     "metadata": {},
     "output_type": "execute_result"
    }
   ],
   "source": [
    "np.__version__"
   ]
  },
  {
   "cell_type": "code",
   "execution_count": 10,
   "metadata": {
    "colab": {
     "base_uri": "https://localhost:8080/"
    },
    "id": "4KFscjsuTvbX",
    "outputId": "407efe60-6886-40e6-f72a-04268e71ae5a"
   },
   "outputs": [
    {
     "name": "stderr",
     "output_type": "stream",
     "text": [
      "/var/folders/v8/2cskhqjj0_g0zp3824glf1tm0000gn/T/ipykernel_6186/3503751535.py:1: DeprecationWarning: `np.int` is a deprecated alias for the builtin `int`. To silence this warning, use `int` by itself. Doing this will not modify any behavior and is safe. When replacing `np.int`, you may wish to use e.g. `np.int64` or `np.int32` to specify the precision. If you wish to review your current use, check the release note link for additional information.\n",
      "Deprecated in NumPy 1.20; for more details and guidance: https://numpy.org/devdocs/release/1.20.0-notes.html#deprecations\n",
      "  np.round(4.5), np.floor(4.5), np.ceil(4.5), np.int(4.5)\n"
     ]
    },
    {
     "data": {
      "text/plain": [
       "(4.0, 4.0, 5.0, 4)"
      ]
     },
     "execution_count": 10,
     "metadata": {},
     "output_type": "execute_result"
    }
   ],
   "source": [
    "np.round(4.5), np.floor(4.5), np.ceil(4.5), np.int(4.5)"
   ]
  },
  {
   "cell_type": "code",
   "execution_count": 11,
   "metadata": {
    "colab": {
     "base_uri": "https://localhost:8080/"
    },
    "id": "1mtNuCOaTvbX",
    "outputId": "b28431bd-19e2-458d-ff3a-da36baede0cb"
   },
   "outputs": [
    {
     "name": "stderr",
     "output_type": "stream",
     "text": [
      "/var/folders/v8/2cskhqjj0_g0zp3824glf1tm0000gn/T/ipykernel_6186/4276226590.py:1: DeprecationWarning: `np.int` is a deprecated alias for the builtin `int`. To silence this warning, use `int` by itself. Doing this will not modify any behavior and is safe. When replacing `np.int`, you may wish to use e.g. `np.int64` or `np.int32` to specify the precision. If you wish to review your current use, check the release note link for additional information.\n",
      "Deprecated in NumPy 1.20; for more details and guidance: https://numpy.org/devdocs/release/1.20.0-notes.html#deprecations\n",
      "  np.round(-4.5), np.floor(-4.5), np.ceil(-4.5), np.int(-4.5)\n"
     ]
    },
    {
     "data": {
      "text/plain": [
       "(-4.0, -5.0, -4.0, -4)"
      ]
     },
     "execution_count": 11,
     "metadata": {},
     "output_type": "execute_result"
    }
   ],
   "source": [
    "np.round(-4.5), np.floor(-4.5), np.ceil(-4.5), np.int(-4.5)"
   ]
  },
  {
   "cell_type": "code",
   "execution_count": 14,
   "metadata": {
    "colab": {
     "base_uri": "https://localhost:8080/"
    },
    "id": "DM3BuJKxTvbY",
    "outputId": "e621c1fd-638b-4645-ae7e-7174c56d1c0e"
   },
   "outputs": [
    {
     "data": {
      "text/plain": [
       "(0, numpy.int64)"
      ]
     },
     "execution_count": 14,
     "metadata": {},
     "output_type": "execute_result"
    }
   ],
   "source": [
    "# переполнение!\n",
    "np.power(2, 1000), type(np.power(2, 1000))"
   ]
  },
  {
   "cell_type": "markdown",
   "metadata": {
    "id": "uBRgVtzQTvbY"
   },
   "source": [
    "То же самое но с помощью Python-типа int"
   ]
  },
  {
   "cell_type": "code",
   "execution_count": 15,
   "metadata": {
    "colab": {
     "base_uri": "https://localhost:8080/"
    },
    "id": "ArbovcFUTvbY",
    "outputId": "886aa6ef-679f-487a-f045-ee9b939a8add"
   },
   "outputs": [
    {
     "data": {
      "text/plain": [
       "(10715086071862673209484250490600018105614048117055336074437503883703510511249361224931983788156958581275946729175531468251871452856923140435984577574698574803934567774824230985421074605062371141877954182153046474983581941267398767559165543946077062914571196477686542167660429831652624386837205668069376,\n",
       " int)"
      ]
     },
     "execution_count": 15,
     "metadata": {},
     "output_type": "execute_result"
    }
   ],
   "source": [
    "2 ** 1000, type(2 ** 1000) # питоновское возведение в степень"
   ]
  },
  {
   "cell_type": "code",
   "execution_count": 16,
   "metadata": {
    "colab": {
     "base_uri": "https://localhost:8080/"
    },
    "id": "3rCXRrX2TvbZ",
    "outputId": "1e000c3a-d89d-4ac7-c36d-63fb1eba257b"
   },
   "outputs": [
    {
     "data": {
      "text/plain": [
       "-1.0"
      ]
     },
     "execution_count": 16,
     "metadata": {},
     "output_type": "execute_result"
    }
   ],
   "source": [
    "np.cos(np.pi)"
   ]
  },
  {
   "cell_type": "code",
   "execution_count": 17,
   "metadata": {
    "colab": {
     "base_uri": "https://localhost:8080/"
    },
    "id": "E9qP9JB0Tvba",
    "outputId": "95a48ef7-d220-48f3-884d-5e9e44720205"
   },
   "outputs": [
    {
     "data": {
      "text/plain": [
       "2.718281828459045"
      ]
     },
     "execution_count": 17,
     "metadata": {},
     "output_type": "execute_result"
    }
   ],
   "source": [
    "np.e"
   ]
  },
  {
   "cell_type": "markdown",
   "metadata": {
    "id": "PVcFTwa4Tvbb"
   },
   "source": [
    "# <a id=\"Массивы ndarray и операции с ними\"><span style=\"color:green\">Массивы ndarray и операции с ними</span></a>"
   ]
  },
  {
   "cell_type": "markdown",
   "metadata": {
    "id": "yhot_vrPTvbb"
   },
   "source": [
    "Основным объектом `NumPy` является *однородный* многомерный массив, в numpy он реализован через объект `ndarray`. Массивы (`ndarray`) похожи на списки (`list`), но могут хранить только элементы одного типа. Производить вычисления с массивами гораздо быстрее и эффективнее чем со списками."
   ]
  },
  {
   "cell_type": "markdown",
   "metadata": {
    "id": "ynKMtaNQTvbc"
   },
   "source": [
    "Наиболее важные атрибуты объектов ndarray:\n",
    "1. **`ndarray.ndim`** - число измерений (чаще их называют \"оси\") массива.\n",
    "  \n",
    "2. **`ndarray.shape`** - размеры массива, его форма. Это кортеж натуральных чисел, показывающий длину массива по каждой оси. Для матрицы из n строк и m столбов, shape будет (n,m). Число элементов кортежа shape равно ndim.\n",
    "3. **`ndarray.size`** - количество элементов массива. Очевидно, равно произведению всех элементов атрибута shape.\n",
    "4. **`ndarray.dtype`** - объект, описывающий тип элементов массива. Можно определить dtype, используя стандартные типы данных Python. Можно хранить и numpy типы, например: bool, int16, int32, int64, float16, float32, float64, complex64\n",
    "5. **`ndarray.itemsize`** - размер каждого элемента массива в байтах.\n",
    "6. **`ndarray.data`** - буфер, содержащий фактические элементы массива. Обычно не нужно использовать этот атрибут, так как обращаться к элементам массива проще всего с помощью индексов."
   ]
  },
  {
   "cell_type": "code",
   "execution_count": 18,
   "metadata": {
    "collapsed": true
   },
   "outputs": [
    {
     "name": "stdout",
     "output_type": "stream",
     "text": [
      "71\n",
      "T\n",
      "all\n",
      "any\n",
      "argmax\n",
      "argmin\n",
      "argpartition\n",
      "argsort\n",
      "astype\n",
      "base\n",
      "byteswap\n",
      "choose\n",
      "clip\n",
      "compress\n",
      "conj\n",
      "conjugate\n",
      "copy\n",
      "ctypes\n",
      "cumprod\n",
      "cumsum\n",
      "data\n",
      "diagonal\n",
      "dot\n",
      "dtype\n",
      "dump\n",
      "dumps\n",
      "fill\n",
      "flags\n",
      "flat\n",
      "flatten\n",
      "getfield\n",
      "imag\n",
      "item\n",
      "itemset\n",
      "itemsize\n",
      "max\n",
      "mean\n",
      "min\n",
      "nbytes\n",
      "ndim\n",
      "newbyteorder\n",
      "nonzero\n",
      "partition\n",
      "prod\n",
      "ptp\n",
      "put\n",
      "ravel\n",
      "real\n",
      "repeat\n",
      "reshape\n",
      "resize\n",
      "round\n",
      "searchsorted\n",
      "setfield\n",
      "setflags\n",
      "shape\n",
      "size\n",
      "sort\n",
      "squeeze\n",
      "std\n",
      "strides\n",
      "sum\n",
      "swapaxes\n",
      "take\n",
      "tobytes\n",
      "tofile\n",
      "tolist\n",
      "tostring\n",
      "trace\n",
      "transpose\n",
      "var\n",
      "view\n"
     ]
    }
   ],
   "source": [
    "print(len([name for name in dir(np.ndarray) if not name.startswith('_')]),\n",
    "      *[name for name in dir(np.ndarray) if not name.startswith('_')], sep='\\n')"
   ]
  },
  {
   "cell_type": "markdown",
   "metadata": {
    "id": "EEfC2-0ETvbd"
   },
   "source": [
    "Одномерный массив"
   ]
  },
  {
   "cell_type": "code",
   "execution_count": 19,
   "metadata": {
    "colab": {
     "base_uri": "https://localhost:8080/"
    },
    "id": "05NIWdZgTvbd",
    "outputId": "9a7b89f9-9957-4469-b92a-65d5225e1563"
   },
   "outputs": [
    {
     "data": {
      "text/plain": [
       "numpy.ndarray"
      ]
     },
     "execution_count": 19,
     "metadata": {},
     "output_type": "execute_result"
    }
   ],
   "source": [
    "# создание массива из списка\n",
    "a = np.array([1, 2, 3, 1, 0])\n",
    "type(a)"
   ]
  },
  {
   "cell_type": "code",
   "execution_count": null,
   "metadata": {
    "id": "O8JrloYqTvbe"
   },
   "outputs": [],
   "source": [
    "np.array?"
   ]
  },
  {
   "cell_type": "code",
   "execution_count": 24,
   "metadata": {
    "id": "DFWBle7lTvbf"
   },
   "outputs": [
    {
     "name": "stdout",
     "output_type": "stream",
     "text": [
      "[1 2 3 1 0]\n",
      "a.shape =  (5,)\n",
      "a.ndim = 1\n",
      "a.size = 5\n",
      "a.dtype = int64\n",
      "Размер каждого элемента массива в байтах a.itemsize = 8\n",
      "Обращение к элементу a[0] = 1\n"
     ]
    },
    {
     "data": {
      "text/plain": [
       "array([1, 2, 3, 1, 0])"
      ]
     },
     "execution_count": 24,
     "metadata": {},
     "output_type": "execute_result"
    }
   ],
   "source": [
    "print(a)\n",
    "print(\"a.shape = \", a.shape)\n",
    "print(\"a.ndim =\", a.ndim)\n",
    "print(\"a.size =\", a.size)\n",
    "print(\"a.dtype =\", a.dtype)\n",
    "print(\"Размер каждого элемента массива в байтах a.itemsize =\", a.itemsize)\n",
    "print(\"Обращение к элементу a[0] =\", a[0])\n",
    "a"
   ]
  },
  {
   "cell_type": "markdown",
   "metadata": {
    "id": "aLaZiVIzTvbf"
   },
   "source": [
    "Двумерный массив"
   ]
  },
  {
   "cell_type": "code",
   "execution_count": 21,
   "metadata": {
    "id": "75jkWpQLTvbg"
   },
   "outputs": [],
   "source": [
    "b = np.array([[1, 8, 3], \n",
    "              [3, 2, 1], \n",
    "              [3, 5, 6]])"
   ]
  },
  {
   "cell_type": "code",
   "execution_count": 23,
   "metadata": {
    "colab": {
     "base_uri": "https://localhost:8080/"
    },
    "id": "zw4umI6ETvbg",
    "outputId": "ef2a73d6-f83c-4a96-a6b4-71467f7ab0b5"
   },
   "outputs": [
    {
     "name": "stdout",
     "output_type": "stream",
     "text": [
      "[[1 8 3]\n",
      " [3 2 1]\n",
      " [3 5 6]]\n",
      "a.shape =  (3, 3)\n",
      "a.ndim = 2\n",
      "a.size = 9\n",
      "a.dtype = int64\n",
      "Размер каждого элемента массива в байтах a.itemsize = 8\n",
      "Нулевая строка b[0] = [1 8 3]\n",
      "Обращение к элементу b[строка][столбец]: b[0][1] = 8\n",
      "Обращение к элементу b[строка, столбец]: b[0, 1] = 8\n"
     ]
    },
    {
     "data": {
      "text/plain": [
       "array([[1, 8, 3],\n",
       "       [3, 2, 1],\n",
       "       [3, 5, 6]])"
      ]
     },
     "execution_count": 23,
     "metadata": {},
     "output_type": "execute_result"
    }
   ],
   "source": [
    "print(b)\n",
    "print(\"a.shape = \", b.shape)\n",
    "print(\"a.ndim =\", b.ndim)\n",
    "print(\"a.size =\", b.size)\n",
    "print(\"a.dtype =\", b.dtype)\n",
    "print(\"Размер каждого элемента массива в байтах a.itemsize =\", b.itemsize)\n",
    "print(\"Нулевая строка b[0] =\", b[0])\n",
    "print(\"Обращение к элементу b[строка][столбец]: b[0][1] =\", b[0][1])\n",
    "print(\"Обращение к элементу b[строка, столбец]: b[0, 1] =\", b[0, 1])\n",
    "b"
   ]
  },
  {
   "cell_type": "markdown",
   "metadata": {
    "id": "qUCeb5xjTvbh"
   },
   "source": [
    "Индексация n-мерных массивов такая же как и для n-мерных списоков."
   ]
  },
  {
   "cell_type": "markdown",
   "metadata": {
    "id": "Ho0N9KKwTvbh"
   },
   "source": [
    "## <a id=\"Cпособы создания массива\"><span style=\"color:green\">Cпособы создания массива</span></a>"
   ]
  },
  {
   "cell_type": "markdown",
   "metadata": {
    "id": "ZQvbz7zPTvbi"
   },
   "source": [
    "- Из списка"
   ]
  },
  {
   "cell_type": "code",
   "execution_count": 25,
   "metadata": {
    "colab": {
     "base_uri": "https://localhost:8080/"
    },
    "id": "zRck_VQITvbi",
    "outputId": "7c01fe56-e7e8-492c-d1a4-e3e2aa78e6af"
   },
   "outputs": [
    {
     "name": "stdout",
     "output_type": "stream",
     "text": [
      "[[1 8 3]\n",
      " [3 2 1]\n",
      " [3 5 6]]\n"
     ]
    }
   ],
   "source": [
    "# из списка\n",
    "m = np.array([[1, 8, 3], \n",
    "              [3, 2, 1], \n",
    "              [3, 5, 6]])\n",
    "print(m)"
   ]
  },
  {
   "cell_type": "markdown",
   "metadata": {
    "id": "E5sw68QkTvbi"
   },
   "source": [
    "- Создание единичной матрицы"
   ]
  },
  {
   "cell_type": "code",
   "execution_count": 26,
   "metadata": {
    "colab": {
     "base_uri": "https://localhost:8080/"
    },
    "id": "9XXNpnGuTvbj",
    "outputId": "beb3a536-c772-417d-83b3-10bd7291004c"
   },
   "outputs": [
    {
     "name": "stdout",
     "output_type": "stream",
     "text": [
      "[[1. 0. 0.]\n",
      " [0. 1. 0.]\n",
      " [0. 0. 1.]]\n"
     ]
    }
   ],
   "source": [
    "# создание единичной матрицы\n",
    "m = np.eye(3)\n",
    "print(m)"
   ]
  },
  {
   "cell_type": "code",
   "execution_count": 29,
   "metadata": {
    "colab": {
     "base_uri": "https://localhost:8080/"
    },
    "id": "6tWj7-oOTvbj",
    "outputId": "7723d379-cd67-42d6-866f-9382bee6d87e"
   },
   "outputs": [
    {
     "name": "stdout",
     "output_type": "stream",
     "text": [
      "[[1. 0. 0. 0.]\n",
      " [0. 1. 0. 0.]\n",
      " [0. 0. 1. 0.]]\n"
     ]
    }
   ],
   "source": [
    "m = np.eye(N=3, M=4) \n",
    "m = np.eye(3, 4) # аналог первой строчки\n",
    "m = np.eye(M=4, N=3) # аналог первой строчки\n",
    "print(m)"
   ]
  },
  {
   "cell_type": "code",
   "execution_count": 30,
   "metadata": {
    "id": "kUDyufZWjtFa"
   },
   "outputs": [],
   "source": [
    "np.eye?"
   ]
  },
  {
   "cell_type": "markdown",
   "metadata": {
    "id": "JoRP9I9tTvbj"
   },
   "source": [
    "- Создание матрицы из единиц"
   ]
  },
  {
   "cell_type": "code",
   "execution_count": 31,
   "metadata": {
    "id": "sEDpvEKpjQvm"
   },
   "outputs": [],
   "source": [
    "np.ones?"
   ]
  },
  {
   "cell_type": "code",
   "execution_count": 36,
   "metadata": {
    "colab": {
     "base_uri": "https://localhost:8080/"
    },
    "id": "f-tPC_nlTvbk",
    "outputId": "659a2b81-e576-47a6-9b97-1255bcfc5ce4"
   },
   "outputs": [
    {
     "name": "stdout",
     "output_type": "stream",
     "text": [
      "[[1. 1.]\n",
      " [1. 1.]\n",
      " [1. 1.]]\n"
     ]
    }
   ],
   "source": [
    "# создание матрицы из единиц\n",
    "# m = np.ones(3, 2) # ошибка \n",
    "m = np.ones((3, 2))\n",
    "print(m)"
   ]
  },
  {
   "cell_type": "code",
   "execution_count": 40,
   "metadata": {
    "colab": {
     "base_uri": "https://localhost:8080/"
    },
    "id": "WdU_dBCVTvbk",
    "outputId": "6da46d5e-e6ee-4954-9bfa-86fb1d80592d"
   },
   "outputs": [
    {
     "name": "stdout",
     "output_type": "stream",
     "text": [
      "[1. 1. 1. 1. 1.]\n",
      "(5,)\n",
      "1\n",
      "<class 'numpy.float64'>\n"
     ]
    }
   ],
   "source": [
    "m = np.ones(5)\n",
    "print(m)\n",
    "print(m.shape)\n",
    "print(m.ndim)\n",
    "print(type(m[1]))"
   ]
  },
  {
   "cell_type": "markdown",
   "metadata": {
    "id": "fFqVXRiQTvbk"
   },
   "source": [
    "- Создание матрицы из нулей"
   ]
  },
  {
   "cell_type": "code",
   "execution_count": 39,
   "metadata": {
    "colab": {
     "base_uri": "https://localhost:8080/"
    },
    "id": "P--vhCrxTvbl",
    "outputId": "8763f122-54d1-4daa-a302-9992e99bdf68"
   },
   "outputs": [
    {
     "name": "stdout",
     "output_type": "stream",
     "text": [
      "[[0.]\n",
      " [0.]\n",
      " [0.]\n",
      " [0.]\n",
      " [0.]]\n",
      "(5, 1)\n",
      "2\n"
     ]
    }
   ],
   "source": [
    "# создание матрицы из нулей\n",
    "m = np.zeros((5, 1))\n",
    "print(m)\n",
    "print(m.shape)\n",
    "print(m.ndim)"
   ]
  },
  {
   "cell_type": "code",
   "execution_count": 41,
   "metadata": {
    "colab": {
     "base_uri": "https://localhost:8080/"
    },
    "id": "cZQR5E5FTvbl",
    "outputId": "d8fdb03a-0f07-45cf-9b46-4dcd036a2f92"
   },
   "outputs": [
    {
     "name": "stdout",
     "output_type": "stream",
     "text": [
      "[0. 0. 0. 0.]\n"
     ]
    }
   ],
   "source": [
    "# создание вектора из нулей\n",
    "v = np.zeros(4)\n",
    "print(v)"
   ]
  },
  {
   "cell_type": "markdown",
   "metadata": {
    "id": "1aVx8_pITvbl"
   },
   "source": [
    "- **Создание массива из диапазона**"
   ]
  },
  {
   "cell_type": "markdown",
   "metadata": {
    "id": "yzIPvqzcTvbm"
   },
   "source": [
    "   - создание массива из диапазона значений [start, end)"
   ]
  },
  {
   "cell_type": "code",
   "execution_count": 42,
   "metadata": {
    "colab": {
     "base_uri": "https://localhost:8080/"
    },
    "id": "Jdf5e5VeTvbm",
    "outputId": "aac6d055-6455-4be8-9d58-5467a2279574"
   },
   "outputs": [
    {
     "name": "stdout",
     "output_type": "stream",
     "text": [
      "[0 2 4 6 8]\n",
      "[0 1 2 3 4 5 6 7 8 9]\n"
     ]
    }
   ],
   "source": [
    "# np.arrange(start=0, stop, step=1)\n",
    "m = np.arange(0, 10, 2)\n",
    "print(m)\n",
    "m = np.arange(10)\n",
    "print(m)"
   ]
  },
  {
   "cell_type": "markdown",
   "metadata": {
    "id": "yPFbknBfTvbm"
   },
   "source": [
    "<span style=\"color:blue\">Создайте матрицу 5x5 со значениями строк в диапазоне от 0 до 4</span>"
   ]
  },
  {
   "cell_type": "code",
   "execution_count": 43,
   "metadata": {
    "colab": {
     "base_uri": "https://localhost:8080/"
    },
    "id": "VN0YZXyyTvbn",
    "outputId": "58f17e06-44fb-4989-a444-4e2b62104f55",
    "scrolled": true
   },
   "outputs": [
    {
     "data": {
      "text/plain": [
       "array([[0., 0., 0., 0., 0.],\n",
       "       [0., 0., 0., 0., 0.],\n",
       "       [0., 0., 0., 0., 0.],\n",
       "       [0., 0., 0., 0., 0.],\n",
       "       [0., 0., 0., 0., 0.]])"
      ]
     },
     "execution_count": 43,
     "metadata": {},
     "output_type": "execute_result"
    }
   ],
   "source": [
    "m = np.zeros((5, 5))\n",
    "m"
   ]
  },
  {
   "cell_type": "code",
   "execution_count": 44,
   "metadata": {
    "colab": {
     "base_uri": "https://localhost:8080/"
    },
    "id": "MRnmW0e3Tvbn",
    "outputId": "0aa09771-5b79-4151-d197-a75ecd28fa3d"
   },
   "outputs": [
    {
     "data": {
      "text/plain": [
       "array([0, 1, 2, 3, 4])"
      ]
     },
     "execution_count": 44,
     "metadata": {},
     "output_type": "execute_result"
    }
   ],
   "source": [
    "np.arange(5)"
   ]
  },
  {
   "cell_type": "code",
   "execution_count": 45,
   "metadata": {
    "colab": {
     "base_uri": "https://localhost:8080/"
    },
    "id": "HCozSgIKTvbn",
    "outputId": "975a40b8-6abe-4b9e-9120-73abb2e261e5"
   },
   "outputs": [
    {
     "name": "stdout",
     "output_type": "stream",
     "text": [
      "[[0. 1. 2. 3. 4.]\n",
      " [0. 1. 2. 3. 4.]\n",
      " [0. 1. 2. 3. 4.]\n",
      " [0. 1. 2. 3. 4.]\n",
      " [0. 1. 2. 3. 4.]]\n"
     ]
    }
   ],
   "source": [
    "m = np.zeros((5, 5))\n",
    "m += np.arange(5)\n",
    "print(m)"
   ]
  },
  {
   "cell_type": "markdown",
   "metadata": {
    "id": "Az1Kocx-Tvbo"
   },
   "source": [
    "- создание массива из диапазона значений [start, stop] с заданием кол-ва точек"
   ]
  },
  {
   "cell_type": "code",
   "execution_count": 46,
   "metadata": {
    "colab": {
     "base_uri": "https://localhost:8080/"
    },
    "id": "i0oieP9yTvbo",
    "outputId": "06ba9612-9ae1-4f68-d411-a581424cc310"
   },
   "outputs": [
    {
     "name": "stdout",
     "output_type": "stream",
     "text": [
      "[0.   0.75 1.5  2.25 3.  ]\n"
     ]
    }
   ],
   "source": [
    "m = np.linspace(0, 3, 5)\n",
    "print(m)"
   ]
  },
  {
   "cell_type": "code",
   "execution_count": 47,
   "metadata": {
    "id": "RQLat0jwlQcw"
   },
   "outputs": [],
   "source": [
    "np.linspace?"
   ]
  },
  {
   "cell_type": "markdown",
   "metadata": {
    "id": "3XLcJPStTvbp"
   },
   "source": [
    "- создание массива из диапазона [$base^{start}$, $base^{end}$]"
   ]
  },
  {
   "cell_type": "code",
   "execution_count": 48,
   "metadata": {
    "colab": {
     "base_uri": "https://localhost:8080/"
    },
    "id": "Bn7x2OfKTvbp",
    "outputId": "0f09af51-3c1c-44a1-8f9d-72f088448eaf"
   },
   "outputs": [
    {
     "name": "stdout",
     "output_type": "stream",
     "text": [
      "[ 4.  8. 16. 32.]\n"
     ]
    }
   ],
   "source": [
    "# np.logspace(start, end, num=50, base=10)\n",
    "m = np.logspace(2.0, 5.0, num=4, base=2.0)\n",
    "print(m)"
   ]
  },
  {
   "cell_type": "markdown",
   "metadata": {
    "id": "H_fKxsMyTvbq"
   },
   "source": [
    "- **Создание массива из случайных чисел**"
   ]
  },
  {
   "cell_type": "code",
   "execution_count": 49,
   "metadata": {
    "id": "lI4JHgVBTvbq"
   },
   "outputs": [
    {
     "name": "stdout",
     "output_type": "stream",
     "text": [
      "[[0.37454012 0.95071431]\n",
      " [0.73199394 0.59865848]]\n"
     ]
    }
   ],
   "source": [
    "np.random.seed(42)\n",
    "print(np.random.rand(2, 2))"
   ]
  },
  {
   "cell_type": "code",
   "execution_count": 50,
   "metadata": {},
   "outputs": [
    {
     "name": "stdout",
     "output_type": "stream",
     "text": [
      "[[0.15601864 0.15599452]\n",
      " [0.05808361 0.86617615]]\n"
     ]
    }
   ],
   "source": [
    "print(np.random.rand(2, 2))"
   ]
  },
  {
   "cell_type": "code",
   "execution_count": 51,
   "metadata": {},
   "outputs": [
    {
     "name": "stdout",
     "output_type": "stream",
     "text": [
      "[[0.37454012 0.95071431]\n",
      " [0.73199394 0.59865848]]\n",
      "[[0.37454012 0.95071431]\n",
      " [0.73199394 0.59865848]]\n"
     ]
    }
   ],
   "source": [
    "np.random.seed(42)\n",
    "print(np.random.rand(2, 2))\n",
    "np.random.seed(42)\n",
    "print(np.random.rand(2, 2))"
   ]
  },
  {
   "cell_type": "markdown",
   "metadata": {
    "id": "SMRaRLCbTvbq"
   },
   "source": [
    "В `numpy` есть аналог модуля `random` - `numpy.random`. Используя типизацию из C, он как и свой аналог генерирует случайные данные."
   ]
  },
  {
   "cell_type": "code",
   "execution_count": 54,
   "metadata": {
    "colab": {
     "base_uri": "https://localhost:8080/"
    },
    "id": "2ctKLUqrTvbr",
    "outputId": "0a6f7088-419f-4d49-e1e4-806d57afb389"
   },
   "outputs": [
    {
     "name": "stdout",
     "output_type": "stream",
     "text": [
      "[[0.83244264 0.21233911]\n",
      " [0.18182497 0.18340451]]\n",
      "(2, 2)\n"
     ]
    }
   ],
   "source": [
    "# массив чисел из равномерного (uniform) распределения в диапазоне [0, 1)\n",
    "# np.random.rand(d0, d1, d2, ...) d0, d1,... - pазмеры возвращаемого массива\n",
    "print(np.random.rand(2, 2))\n",
    "print(np.random.rand(2, 2).shape)"
   ]
  },
  {
   "cell_type": "code",
   "execution_count": 55,
   "metadata": {
    "id": "hwSdXvu7mNbO"
   },
   "outputs": [],
   "source": [
    "np.random.rand?"
   ]
  },
  {
   "cell_type": "code",
   "execution_count": 56,
   "metadata": {
    "colab": {
     "base_uri": "https://localhost:8080/"
    },
    "id": "2QCVQmJNTvbs",
    "outputId": "bf85de9c-f5ea-4c7c-b0a0-bb6f156be9c6"
   },
   "outputs": [
    {
     "data": {
      "text/plain": [
       "array([[[-1.01283112,  0.31424733],\n",
       "        [-0.90802408, -1.4123037 ],\n",
       "        [ 1.46564877, -0.2257763 ]],\n",
       "\n",
       "       [[ 0.0675282 , -1.42474819],\n",
       "        [-0.54438272,  0.11092259],\n",
       "        [-1.15099358,  0.37569802]]])"
      ]
     },
     "execution_count": 56,
     "metadata": {},
     "output_type": "execute_result"
    }
   ],
   "source": [
    "# массив чисел из стандартного нормального (norm) распределения\n",
    "# нормальное распределение в заданном shape\n",
    "np.random.randn(2, 3, 2)"
   ]
  },
  {
   "cell_type": "code",
   "execution_count": 57,
   "metadata": {
    "colab": {
     "base_uri": "https://localhost:8080/"
    },
    "id": "tbfo_0YSTvbs",
    "outputId": "0b8ddcd5-5456-48bb-d9e7-b6c27d164b6b"
   },
   "outputs": [
    {
     "data": {
      "text/plain": [
       "array([16,  5, 10,  7,  0,  2, 11, 12, 19, 18])"
      ]
     },
     "execution_count": 57,
     "metadata": {},
     "output_type": "execute_result"
    }
   ],
   "source": [
    "# массив из случайно выбранных чисел\n",
    "# size - размер возвращаемого массива, reaplce=False без замещения\n",
    "np.random.choice(a=np.arange(20), size=10, replace=False)"
   ]
  },
  {
   "cell_type": "code",
   "execution_count": 58,
   "metadata": {
    "id": "UQmU_WlomsTI"
   },
   "outputs": [],
   "source": [
    "np.random.choice?"
   ]
  },
  {
   "cell_type": "code",
   "execution_count": 59,
   "metadata": {
    "colab": {
     "base_uri": "https://localhost:8080/"
    },
    "id": "gCgRaE5gTvbt",
    "outputId": "198fd95f-152a-4e86-ee54-b2341da6c9d6"
   },
   "outputs": [
    {
     "data": {
      "text/plain": [
       "array([[ 3,  1,  5],\n",
       "       [ 9,  3, 17],\n",
       "       [11,  1,  9],\n",
       "       [ 3, 13, 15],\n",
       "       [14,  7, 13]])"
      ]
     },
     "execution_count": 59,
     "metadata": {},
     "output_type": "execute_result"
    }
   ],
   "source": [
    "np.random.choice(a=np.arange(20), size=(5, 3), replace=True)"
   ]
  },
  {
   "cell_type": "markdown",
   "metadata": {
    "id": "pfUOf0LOTvbt"
   },
   "source": [
    "**А что со временем?**"
   ]
  },
  {
   "cell_type": "code",
   "execution_count": 60,
   "metadata": {
    "colab": {
     "base_uri": "https://localhost:8080/"
    },
    "id": "VfJH16c2VpSm",
    "outputId": "a3d96661-4616-4819-c840-0996bb4b94e1"
   },
   "outputs": [
    {
     "name": "stdout",
     "output_type": "stream",
     "text": [
      "954 ms ± 24.6 ms per loop (mean ± std. dev. of 7 runs, 1 loop each)\n"
     ]
    }
   ],
   "source": [
    "%%timeit\n",
    "a = list(range(10 ** 8))\n",
    "#  %%time - выводит время выполнения ячейки"
   ]
  },
  {
   "cell_type": "code",
   "execution_count": 61,
   "metadata": {
    "colab": {
     "base_uri": "https://localhost:8080/"
    },
    "id": "YKAobWpqWSxO",
    "outputId": "09516052-85e4-4e7c-8a78-7129257664a7"
   },
   "outputs": [
    {
     "name": "stdout",
     "output_type": "stream",
     "text": [
      "93.6 ms ± 1.18 ms per loop (mean ± std. dev. of 7 runs, 10 loops each)\n"
     ]
    }
   ],
   "source": [
    "%%timeit\n",
    "a_numpy = np.arange(10 ** 8)"
   ]
  },
  {
   "cell_type": "code",
   "execution_count": 62,
   "metadata": {
    "colab": {
     "base_uri": "https://localhost:8080/"
    },
    "id": "08kZxT6soeuc",
    "outputId": "0e699189-e525-4742-f8b1-16be04f1306e"
   },
   "outputs": [
    {
     "ename": "NameError",
     "evalue": "name 'a_numpy' is not defined",
     "output_type": "error",
     "traceback": [
      "\u001b[0;31m---------------------------------------------------------------------------\u001b[0m",
      "\u001b[0;31mNameError\u001b[0m                                 Traceback (most recent call last)",
      "\u001b[0;32m/var/folders/v8/2cskhqjj0_g0zp3824glf1tm0000gn/T/ipykernel_6186/4272139276.py\u001b[0m in \u001b[0;36m<module>\u001b[0;34m\u001b[0m\n\u001b[0;32m----> 1\u001b[0;31m \u001b[0mtype\u001b[0m\u001b[0;34m(\u001b[0m\u001b[0ma_numpy\u001b[0m\u001b[0;34m)\u001b[0m\u001b[0;34m\u001b[0m\u001b[0;34m\u001b[0m\u001b[0m\n\u001b[0m",
      "\u001b[0;31mNameError\u001b[0m: name 'a_numpy' is not defined"
     ]
    }
   ],
   "source": [
    "type(a_numpy)"
   ]
  },
  {
   "cell_type": "code",
   "execution_count": 63,
   "metadata": {},
   "outputs": [],
   "source": [
    "# поскольку timeit не создает объекты, то сделаем это еще раз\n",
    "a = list(range(10 ** 8))\n",
    "a_numpy = np.arange(10 ** 8)"
   ]
  },
  {
   "cell_type": "code",
   "execution_count": 64,
   "metadata": {
    "colab": {
     "base_uri": "https://localhost:8080/"
    },
    "id": "tXIJVqjDWodc",
    "outputId": "dfd8c24f-a83d-4b83-b2f9-03a00471e086"
   },
   "outputs": [
    {
     "name": "stdout",
     "output_type": "stream",
     "text": [
      "CPU times: user 8.62 s, sys: 559 ms, total: 9.18 s\n",
      "Wall time: 9.43 s\n"
     ]
    }
   ],
   "source": [
    "%%time\n",
    "for idx, elem in enumerate(a):\n",
    "    a[idx] = elem * 2"
   ]
  },
  {
   "cell_type": "code",
   "execution_count": 66,
   "metadata": {
    "colab": {
     "base_uri": "https://localhost:8080/"
    },
    "id": "McLl0P_mTvbu",
    "outputId": "2a5ed227-1d71-463f-f406-33d75cae37c5",
    "scrolled": false
   },
   "outputs": [
    {
     "name": "stdout",
     "output_type": "stream",
     "text": [
      "CPU times: user 129 ms, sys: 222 ms, total: 350 ms\n",
      "Wall time: 387 ms\n"
     ]
    }
   ],
   "source": [
    "%%time\n",
    "a_numpy = np.arange(10 ** 8)\n",
    "a_numpy = a_numpy * 2"
   ]
  },
  {
   "cell_type": "code",
   "execution_count": 65,
   "metadata": {
    "colab": {
     "base_uri": "https://localhost:8080/"
    },
    "id": "kNSdjYGwoBlX",
    "outputId": "8dcc4069-4de5-4c02-8a01-f090bcb93f12"
   },
   "outputs": [
    {
     "data": {
      "text/plain": [
       "[0, 1, 2, 3, 4, 5, 6, 7, 8, 9, 0, 1, 2, 3, 4, 5, 6, 7, 8, 9]"
      ]
     },
     "execution_count": 65,
     "metadata": {},
     "output_type": "execute_result"
    }
   ],
   "source": [
    "lst = list(range(10))\n",
    "lst * 2"
   ]
  },
  {
   "cell_type": "markdown",
   "metadata": {
    "id": "XpWzXNidTvbu"
   },
   "source": [
    "**Вывод:** старайтесь использовать векторизированные вычисления!"
   ]
  },
  {
   "cell_type": "markdown",
   "metadata": {
    "id": "I3ocxdEFTvbu"
   },
   "source": [
    "## <a id=\"Индексация\"> <span style=\"color:green\">Индексация</span></a>"
   ]
  },
  {
   "cell_type": "code",
   "execution_count": 67,
   "metadata": {
    "colab": {
     "base_uri": "https://localhost:8080/"
    },
    "id": "YtNr04tLTvbv",
    "outputId": "c1eacb68-14fb-4888-9e24-9e55c4d2773f"
   },
   "outputs": [
    {
     "name": "stdout",
     "output_type": "stream",
     "text": [
      "[[1 8 3]\n",
      " [3 2 1]\n",
      " [3 5 6]]\n"
     ]
    }
   ],
   "source": [
    "m = np.array([[1, 8, 3], \n",
    "              [3, 2, 1], \n",
    "              [3, 5, 6]])\n",
    "print(m)"
   ]
  },
  {
   "cell_type": "code",
   "execution_count": 68,
   "metadata": {
    "colab": {
     "base_uri": "https://localhost:8080/"
    },
    "id": "vBJ443QKTvbw",
    "outputId": "6ba9e7b0-0516-48cf-fd60-b28926c39cda"
   },
   "outputs": [
    {
     "data": {
      "text/plain": [
       "array([3, 5, 6])"
      ]
     },
     "execution_count": 68,
     "metadata": {},
     "output_type": "execute_result"
    }
   ],
   "source": [
    "# третья строка (вторая если считать с 0)\n",
    "m[2]"
   ]
  },
  {
   "cell_type": "code",
   "execution_count": 69,
   "metadata": {
    "colab": {
     "base_uri": "https://localhost:8080/"
    },
    "id": "VB3E8Q4XTvbw",
    "outputId": "f50116f8-9dd3-44d4-b05e-2f6c147e099b"
   },
   "outputs": [
    {
     "data": {
      "text/plain": [
       "array([3, 5, 6])"
      ]
     },
     "execution_count": 69,
     "metadata": {},
     "output_type": "execute_result"
    }
   ],
   "source": [
    "# третья строка (вторая если считать с 0)\n",
    "m[2, :]"
   ]
  },
  {
   "cell_type": "code",
   "execution_count": 70,
   "metadata": {
    "colab": {
     "base_uri": "https://localhost:8080/"
    },
    "id": "JWLqRvwZTvbw",
    "outputId": "c1f438c7-fe49-4750-bc94-77b4ee0b4209"
   },
   "outputs": [
    {
     "data": {
      "text/plain": [
       "array([8, 2, 5])"
      ]
     },
     "execution_count": 70,
     "metadata": {},
     "output_type": "execute_result"
    }
   ],
   "source": [
    "# второй столбец\n",
    "m[:, 1]"
   ]
  },
  {
   "cell_type": "code",
   "execution_count": 71,
   "metadata": {
    "colab": {
     "base_uri": "https://localhost:8080/"
    },
    "collapsed": true,
    "id": "sjxk0m_kqK2r",
    "outputId": "ea57b55e-540c-4520-9443-08f4ce1adaab"
   },
   "outputs": [
    {
     "data": {
      "text/plain": [
       "[0,\n",
       " 2,\n",
       " 4,\n",
       " 6,\n",
       " 8,\n",
       " 10,\n",
       " 12,\n",
       " 14,\n",
       " 16,\n",
       " 18,\n",
       " 20,\n",
       " 22,\n",
       " 24,\n",
       " 26,\n",
       " 28,\n",
       " 30,\n",
       " 32,\n",
       " 34,\n",
       " 36,\n",
       " 38,\n",
       " 40,\n",
       " 42,\n",
       " 44,\n",
       " 46,\n",
       " 48,\n",
       " 50,\n",
       " 52,\n",
       " 54,\n",
       " 56,\n",
       " 58,\n",
       " 60,\n",
       " 62,\n",
       " 64,\n",
       " 66,\n",
       " 68,\n",
       " 70,\n",
       " 72,\n",
       " 74,\n",
       " 76,\n",
       " 78,\n",
       " 80,\n",
       " 82,\n",
       " 84,\n",
       " 86,\n",
       " 88,\n",
       " 90,\n",
       " 92,\n",
       " 94,\n",
       " 96,\n",
       " 98,\n",
       " 100,\n",
       " 102,\n",
       " 104,\n",
       " 106,\n",
       " 108,\n",
       " 110,\n",
       " 112,\n",
       " 114,\n",
       " 116,\n",
       " 118,\n",
       " 120,\n",
       " 122,\n",
       " 124,\n",
       " 126,\n",
       " 128,\n",
       " 130,\n",
       " 132,\n",
       " 134,\n",
       " 136,\n",
       " 138,\n",
       " 140,\n",
       " 142,\n",
       " 144,\n",
       " 146,\n",
       " 148,\n",
       " 150,\n",
       " 152,\n",
       " 154,\n",
       " 156,\n",
       " 158,\n",
       " 160,\n",
       " 162,\n",
       " 164,\n",
       " 166,\n",
       " 168,\n",
       " 170,\n",
       " 172,\n",
       " 174,\n",
       " 176,\n",
       " 178,\n",
       " 180,\n",
       " 182,\n",
       " 184,\n",
       " 186,\n",
       " 188,\n",
       " 190,\n",
       " 192,\n",
       " 194,\n",
       " 196,\n",
       " 198,\n",
       " 200,\n",
       " 202,\n",
       " 204,\n",
       " 206,\n",
       " 208,\n",
       " 210,\n",
       " 212,\n",
       " 214,\n",
       " 216,\n",
       " 218,\n",
       " 220,\n",
       " 222,\n",
       " 224,\n",
       " 226,\n",
       " 228,\n",
       " 230,\n",
       " 232,\n",
       " 234,\n",
       " 236,\n",
       " 238,\n",
       " 240,\n",
       " 242,\n",
       " 244,\n",
       " 246,\n",
       " 248,\n",
       " 250,\n",
       " 252,\n",
       " 254,\n",
       " 256,\n",
       " 258,\n",
       " 260,\n",
       " 262,\n",
       " 264,\n",
       " 266,\n",
       " 268,\n",
       " 270,\n",
       " 272,\n",
       " 274,\n",
       " 276,\n",
       " 278,\n",
       " 280,\n",
       " 282,\n",
       " 284,\n",
       " 286,\n",
       " 288,\n",
       " 290,\n",
       " 292,\n",
       " 294,\n",
       " 296,\n",
       " 298,\n",
       " 300,\n",
       " 302,\n",
       " 304,\n",
       " 306,\n",
       " 308,\n",
       " 310,\n",
       " 312,\n",
       " 314,\n",
       " 316,\n",
       " 318,\n",
       " 320,\n",
       " 322,\n",
       " 324,\n",
       " 326,\n",
       " 328,\n",
       " 330,\n",
       " 332,\n",
       " 334,\n",
       " 336,\n",
       " 338,\n",
       " 340,\n",
       " 342,\n",
       " 344,\n",
       " 346,\n",
       " 348,\n",
       " 350,\n",
       " 352,\n",
       " 354,\n",
       " 356,\n",
       " 358,\n",
       " 360,\n",
       " 362,\n",
       " 364,\n",
       " 366,\n",
       " 368,\n",
       " 370,\n",
       " 372,\n",
       " 374,\n",
       " 376,\n",
       " 378,\n",
       " 380,\n",
       " 382,\n",
       " 384,\n",
       " 386,\n",
       " 388,\n",
       " 390,\n",
       " 392,\n",
       " 394,\n",
       " 396,\n",
       " 398,\n",
       " 400,\n",
       " 402,\n",
       " 404,\n",
       " 406,\n",
       " 408,\n",
       " 410,\n",
       " 412,\n",
       " 414,\n",
       " 416,\n",
       " 418,\n",
       " 420,\n",
       " 422,\n",
       " 424,\n",
       " 426,\n",
       " 428,\n",
       " 430,\n",
       " 432,\n",
       " 434,\n",
       " 436,\n",
       " 438,\n",
       " 440,\n",
       " 442,\n",
       " 444,\n",
       " 446,\n",
       " 448,\n",
       " 450,\n",
       " 452,\n",
       " 454,\n",
       " 456,\n",
       " 458,\n",
       " 460,\n",
       " 462,\n",
       " 464,\n",
       " 466,\n",
       " 468,\n",
       " 470,\n",
       " 472,\n",
       " 474,\n",
       " 476,\n",
       " 478,\n",
       " 480,\n",
       " 482,\n",
       " 484,\n",
       " 486,\n",
       " 488,\n",
       " 490,\n",
       " 492,\n",
       " 494,\n",
       " 496,\n",
       " 498,\n",
       " 500,\n",
       " 502,\n",
       " 504,\n",
       " 506,\n",
       " 508,\n",
       " 510,\n",
       " 512,\n",
       " 514,\n",
       " 516,\n",
       " 518,\n",
       " 520,\n",
       " 522,\n",
       " 524,\n",
       " 526,\n",
       " 528,\n",
       " 530,\n",
       " 532,\n",
       " 534,\n",
       " 536,\n",
       " 538,\n",
       " 540,\n",
       " 542,\n",
       " 544,\n",
       " 546,\n",
       " 548,\n",
       " 550,\n",
       " 552,\n",
       " 554,\n",
       " 556,\n",
       " 558,\n",
       " 560,\n",
       " 562,\n",
       " 564,\n",
       " 566,\n",
       " 568,\n",
       " 570,\n",
       " 572,\n",
       " 574,\n",
       " 576,\n",
       " 578,\n",
       " 580,\n",
       " 582,\n",
       " 584,\n",
       " 586,\n",
       " 588,\n",
       " 590,\n",
       " 592,\n",
       " 594,\n",
       " 596,\n",
       " 598,\n",
       " 600,\n",
       " 602,\n",
       " 604,\n",
       " 606,\n",
       " 608,\n",
       " 610,\n",
       " 612,\n",
       " 614,\n",
       " 616,\n",
       " 618,\n",
       " 620,\n",
       " 622,\n",
       " 624,\n",
       " 626,\n",
       " 628,\n",
       " 630,\n",
       " 632,\n",
       " 634,\n",
       " 636,\n",
       " 638,\n",
       " 640,\n",
       " 642,\n",
       " 644,\n",
       " 646,\n",
       " 648,\n",
       " 650,\n",
       " 652,\n",
       " 654,\n",
       " 656,\n",
       " 658,\n",
       " 660,\n",
       " 662,\n",
       " 664,\n",
       " 666,\n",
       " 668,\n",
       " 670,\n",
       " 672,\n",
       " 674,\n",
       " 676,\n",
       " 678,\n",
       " 680,\n",
       " 682,\n",
       " 684,\n",
       " 686,\n",
       " 688,\n",
       " 690,\n",
       " 692,\n",
       " 694,\n",
       " 696,\n",
       " 698,\n",
       " 700,\n",
       " 702,\n",
       " 704,\n",
       " 706,\n",
       " 708,\n",
       " 710,\n",
       " 712,\n",
       " 714,\n",
       " 716,\n",
       " 718,\n",
       " 720,\n",
       " 722,\n",
       " 724,\n",
       " 726,\n",
       " 728,\n",
       " 730,\n",
       " 732,\n",
       " 734,\n",
       " 736,\n",
       " 738,\n",
       " 740,\n",
       " 742,\n",
       " 744,\n",
       " 746,\n",
       " 748,\n",
       " 750,\n",
       " 752,\n",
       " 754,\n",
       " 756,\n",
       " 758,\n",
       " 760,\n",
       " 762,\n",
       " 764,\n",
       " 766,\n",
       " 768,\n",
       " 770,\n",
       " 772,\n",
       " 774,\n",
       " 776,\n",
       " 778,\n",
       " 780,\n",
       " 782,\n",
       " 784,\n",
       " 786,\n",
       " 788,\n",
       " 790,\n",
       " 792,\n",
       " 794,\n",
       " 796,\n",
       " 798,\n",
       " 800,\n",
       " 802,\n",
       " 804,\n",
       " 806,\n",
       " 808,\n",
       " 810,\n",
       " 812,\n",
       " 814,\n",
       " 816,\n",
       " 818,\n",
       " 820,\n",
       " 822,\n",
       " 824,\n",
       " 826,\n",
       " 828,\n",
       " 830,\n",
       " 832,\n",
       " 834,\n",
       " 836,\n",
       " 838,\n",
       " 840,\n",
       " 842,\n",
       " 844,\n",
       " 846,\n",
       " 848,\n",
       " 850,\n",
       " 852,\n",
       " 854,\n",
       " 856,\n",
       " 858,\n",
       " 860,\n",
       " 862,\n",
       " 864,\n",
       " 866,\n",
       " 868,\n",
       " 870,\n",
       " 872,\n",
       " 874,\n",
       " 876,\n",
       " 878,\n",
       " 880,\n",
       " 882,\n",
       " 884,\n",
       " 886,\n",
       " 888,\n",
       " 890,\n",
       " 892,\n",
       " 894,\n",
       " 896,\n",
       " 898,\n",
       " 900,\n",
       " 902,\n",
       " 904,\n",
       " 906,\n",
       " 908,\n",
       " 910,\n",
       " 912,\n",
       " 914,\n",
       " 916,\n",
       " 918,\n",
       " 920,\n",
       " 922,\n",
       " 924,\n",
       " 926,\n",
       " 928,\n",
       " 930,\n",
       " 932,\n",
       " 934,\n",
       " 936,\n",
       " 938,\n",
       " 940,\n",
       " 942,\n",
       " 944,\n",
       " 946,\n",
       " 948,\n",
       " 950,\n",
       " 952,\n",
       " 954,\n",
       " 956,\n",
       " 958,\n",
       " 960,\n",
       " 962,\n",
       " 964,\n",
       " 966,\n",
       " 968,\n",
       " 970,\n",
       " 972,\n",
       " 974,\n",
       " 976,\n",
       " 978,\n",
       " 980,\n",
       " 982,\n",
       " 984,\n",
       " 986,\n",
       " 988,\n",
       " 990,\n",
       " 992,\n",
       " 994,\n",
       " 996,\n",
       " 998,\n",
       " 1000,\n",
       " 1002,\n",
       " 1004,\n",
       " 1006,\n",
       " 1008,\n",
       " 1010,\n",
       " 1012,\n",
       " 1014,\n",
       " 1016,\n",
       " 1018,\n",
       " 1020,\n",
       " 1022,\n",
       " 1024,\n",
       " 1026,\n",
       " 1028,\n",
       " 1030,\n",
       " 1032,\n",
       " 1034,\n",
       " 1036,\n",
       " 1038,\n",
       " 1040,\n",
       " 1042,\n",
       " 1044,\n",
       " 1046,\n",
       " 1048,\n",
       " 1050,\n",
       " 1052,\n",
       " 1054,\n",
       " 1056,\n",
       " 1058,\n",
       " 1060,\n",
       " 1062,\n",
       " 1064,\n",
       " 1066,\n",
       " 1068,\n",
       " 1070,\n",
       " 1072,\n",
       " 1074,\n",
       " 1076,\n",
       " 1078,\n",
       " 1080,\n",
       " 1082,\n",
       " 1084,\n",
       " 1086,\n",
       " 1088,\n",
       " 1090,\n",
       " 1092,\n",
       " 1094,\n",
       " 1096,\n",
       " 1098,\n",
       " 1100,\n",
       " 1102,\n",
       " 1104,\n",
       " 1106,\n",
       " 1108,\n",
       " 1110,\n",
       " 1112,\n",
       " 1114,\n",
       " 1116,\n",
       " 1118,\n",
       " 1120,\n",
       " 1122,\n",
       " 1124,\n",
       " 1126,\n",
       " 1128,\n",
       " 1130,\n",
       " 1132,\n",
       " 1134,\n",
       " 1136,\n",
       " 1138,\n",
       " 1140,\n",
       " 1142,\n",
       " 1144,\n",
       " 1146,\n",
       " 1148,\n",
       " 1150,\n",
       " 1152,\n",
       " 1154,\n",
       " 1156,\n",
       " 1158,\n",
       " 1160,\n",
       " 1162,\n",
       " 1164,\n",
       " 1166,\n",
       " 1168,\n",
       " 1170,\n",
       " 1172,\n",
       " 1174,\n",
       " 1176,\n",
       " 1178,\n",
       " 1180,\n",
       " 1182,\n",
       " 1184,\n",
       " 1186,\n",
       " 1188,\n",
       " 1190,\n",
       " 1192,\n",
       " 1194,\n",
       " 1196,\n",
       " 1198,\n",
       " 1200,\n",
       " 1202,\n",
       " 1204,\n",
       " 1206,\n",
       " 1208,\n",
       " 1210,\n",
       " 1212,\n",
       " 1214,\n",
       " 1216,\n",
       " 1218,\n",
       " 1220,\n",
       " 1222,\n",
       " 1224,\n",
       " 1226,\n",
       " 1228,\n",
       " 1230,\n",
       " 1232,\n",
       " 1234,\n",
       " 1236,\n",
       " 1238,\n",
       " 1240,\n",
       " 1242,\n",
       " 1244,\n",
       " 1246,\n",
       " 1248,\n",
       " 1250,\n",
       " 1252,\n",
       " 1254,\n",
       " 1256,\n",
       " 1258,\n",
       " 1260,\n",
       " 1262,\n",
       " 1264,\n",
       " 1266,\n",
       " 1268,\n",
       " 1270,\n",
       " 1272,\n",
       " 1274,\n",
       " 1276,\n",
       " 1278,\n",
       " 1280,\n",
       " 1282,\n",
       " 1284,\n",
       " 1286,\n",
       " 1288,\n",
       " 1290,\n",
       " 1292,\n",
       " 1294,\n",
       " 1296,\n",
       " 1298,\n",
       " 1300,\n",
       " 1302,\n",
       " 1304,\n",
       " 1306,\n",
       " 1308,\n",
       " 1310,\n",
       " 1312,\n",
       " 1314,\n",
       " 1316,\n",
       " 1318,\n",
       " 1320,\n",
       " 1322,\n",
       " 1324,\n",
       " 1326,\n",
       " 1328,\n",
       " 1330,\n",
       " 1332,\n",
       " 1334,\n",
       " 1336,\n",
       " 1338,\n",
       " 1340,\n",
       " 1342,\n",
       " 1344,\n",
       " 1346,\n",
       " 1348,\n",
       " 1350,\n",
       " 1352,\n",
       " 1354,\n",
       " 1356,\n",
       " 1358,\n",
       " 1360,\n",
       " 1362,\n",
       " 1364,\n",
       " 1366,\n",
       " 1368,\n",
       " 1370,\n",
       " 1372,\n",
       " 1374,\n",
       " 1376,\n",
       " 1378,\n",
       " 1380,\n",
       " 1382,\n",
       " 1384,\n",
       " 1386,\n",
       " 1388,\n",
       " 1390,\n",
       " 1392,\n",
       " 1394,\n",
       " 1396,\n",
       " 1398,\n",
       " 1400,\n",
       " 1402,\n",
       " 1404,\n",
       " 1406,\n",
       " 1408,\n",
       " 1410,\n",
       " 1412,\n",
       " 1414,\n",
       " 1416,\n",
       " 1418,\n",
       " 1420,\n",
       " 1422,\n",
       " 1424,\n",
       " 1426,\n",
       " 1428,\n",
       " 1430,\n",
       " 1432,\n",
       " 1434,\n",
       " 1436,\n",
       " 1438,\n",
       " 1440,\n",
       " 1442,\n",
       " 1444,\n",
       " 1446,\n",
       " 1448,\n",
       " 1450,\n",
       " 1452,\n",
       " 1454,\n",
       " 1456,\n",
       " 1458,\n",
       " 1460,\n",
       " 1462,\n",
       " 1464,\n",
       " 1466,\n",
       " 1468,\n",
       " 1470,\n",
       " 1472,\n",
       " 1474,\n",
       " 1476,\n",
       " 1478,\n",
       " 1480,\n",
       " 1482,\n",
       " 1484,\n",
       " 1486,\n",
       " 1488,\n",
       " 1490,\n",
       " 1492,\n",
       " 1494,\n",
       " 1496,\n",
       " 1498,\n",
       " 1500,\n",
       " 1502,\n",
       " 1504,\n",
       " 1506,\n",
       " 1508,\n",
       " 1510,\n",
       " 1512,\n",
       " 1514,\n",
       " 1516,\n",
       " 1518,\n",
       " 1520,\n",
       " 1522,\n",
       " 1524,\n",
       " 1526,\n",
       " 1528,\n",
       " 1530,\n",
       " 1532,\n",
       " 1534,\n",
       " 1536,\n",
       " 1538,\n",
       " 1540,\n",
       " 1542,\n",
       " 1544,\n",
       " 1546,\n",
       " 1548,\n",
       " 1550,\n",
       " 1552,\n",
       " 1554,\n",
       " 1556,\n",
       " 1558,\n",
       " 1560,\n",
       " 1562,\n",
       " 1564,\n",
       " 1566,\n",
       " 1568,\n",
       " 1570,\n",
       " 1572,\n",
       " 1574,\n",
       " 1576,\n",
       " 1578,\n",
       " 1580,\n",
       " 1582,\n",
       " 1584,\n",
       " 1586,\n",
       " 1588,\n",
       " 1590,\n",
       " 1592,\n",
       " 1594,\n",
       " 1596,\n",
       " 1598,\n",
       " 1600,\n",
       " 1602,\n",
       " 1604,\n",
       " 1606,\n",
       " 1608,\n",
       " 1610,\n",
       " 1612,\n",
       " 1614,\n",
       " 1616,\n",
       " 1618,\n",
       " 1620,\n",
       " 1622,\n",
       " 1624,\n",
       " 1626,\n",
       " 1628,\n",
       " 1630,\n",
       " 1632,\n",
       " 1634,\n",
       " 1636,\n",
       " 1638,\n",
       " 1640,\n",
       " 1642,\n",
       " 1644,\n",
       " 1646,\n",
       " 1648,\n",
       " 1650,\n",
       " 1652,\n",
       " 1654,\n",
       " 1656,\n",
       " 1658,\n",
       " 1660,\n",
       " 1662,\n",
       " 1664,\n",
       " 1666,\n",
       " 1668,\n",
       " 1670,\n",
       " 1672,\n",
       " 1674,\n",
       " 1676,\n",
       " 1678,\n",
       " 1680,\n",
       " 1682,\n",
       " 1684,\n",
       " 1686,\n",
       " 1688,\n",
       " 1690,\n",
       " 1692,\n",
       " 1694,\n",
       " 1696,\n",
       " 1698,\n",
       " 1700,\n",
       " 1702,\n",
       " 1704,\n",
       " 1706,\n",
       " 1708,\n",
       " 1710,\n",
       " 1712,\n",
       " 1714,\n",
       " 1716,\n",
       " 1718,\n",
       " 1720,\n",
       " 1722,\n",
       " 1724,\n",
       " 1726,\n",
       " 1728,\n",
       " 1730,\n",
       " 1732,\n",
       " 1734,\n",
       " 1736,\n",
       " 1738,\n",
       " 1740,\n",
       " 1742,\n",
       " 1744,\n",
       " 1746,\n",
       " 1748,\n",
       " 1750,\n",
       " 1752,\n",
       " 1754,\n",
       " 1756,\n",
       " 1758,\n",
       " 1760,\n",
       " 1762,\n",
       " 1764,\n",
       " 1766,\n",
       " 1768,\n",
       " 1770,\n",
       " 1772,\n",
       " 1774,\n",
       " 1776,\n",
       " 1778,\n",
       " 1780,\n",
       " 1782,\n",
       " 1784,\n",
       " 1786,\n",
       " 1788,\n",
       " 1790,\n",
       " 1792,\n",
       " 1794,\n",
       " 1796,\n",
       " 1798,\n",
       " 1800,\n",
       " 1802,\n",
       " 1804,\n",
       " 1806,\n",
       " 1808,\n",
       " 1810,\n",
       " 1812,\n",
       " 1814,\n",
       " 1816,\n",
       " 1818,\n",
       " 1820,\n",
       " 1822,\n",
       " 1824,\n",
       " 1826,\n",
       " 1828,\n",
       " 1830,\n",
       " 1832,\n",
       " 1834,\n",
       " 1836,\n",
       " 1838,\n",
       " 1840,\n",
       " 1842,\n",
       " 1844,\n",
       " 1846,\n",
       " 1848,\n",
       " 1850,\n",
       " 1852,\n",
       " 1854,\n",
       " 1856,\n",
       " 1858,\n",
       " 1860,\n",
       " 1862,\n",
       " 1864,\n",
       " 1866,\n",
       " 1868,\n",
       " 1870,\n",
       " 1872,\n",
       " 1874,\n",
       " 1876,\n",
       " 1878,\n",
       " 1880,\n",
       " 1882,\n",
       " 1884,\n",
       " 1886,\n",
       " 1888,\n",
       " 1890,\n",
       " 1892,\n",
       " 1894,\n",
       " 1896,\n",
       " 1898,\n",
       " 1900,\n",
       " 1902,\n",
       " 1904,\n",
       " 1906,\n",
       " 1908,\n",
       " 1910,\n",
       " 1912,\n",
       " 1914,\n",
       " 1916,\n",
       " 1918,\n",
       " 1920,\n",
       " 1922,\n",
       " 1924,\n",
       " 1926,\n",
       " 1928,\n",
       " 1930,\n",
       " 1932,\n",
       " 1934,\n",
       " 1936,\n",
       " 1938,\n",
       " 1940,\n",
       " 1942,\n",
       " 1944,\n",
       " 1946,\n",
       " 1948,\n",
       " 1950,\n",
       " 1952,\n",
       " 1954,\n",
       " 1956,\n",
       " 1958,\n",
       " 1960,\n",
       " 1962,\n",
       " 1964,\n",
       " 1966,\n",
       " 1968,\n",
       " 1970,\n",
       " 1972,\n",
       " 1974,\n",
       " 1976,\n",
       " 1978,\n",
       " 1980,\n",
       " 1982,\n",
       " 1984,\n",
       " 1986,\n",
       " 1988,\n",
       " 1990,\n",
       " 1992,\n",
       " 1994,\n",
       " 1996,\n",
       " 1998,\n",
       " ...]"
      ]
     },
     "execution_count": 71,
     "metadata": {},
     "output_type": "execute_result"
    }
   ],
   "source": [
    "# как было со списками\n",
    "a[:]"
   ]
  },
  {
   "cell_type": "code",
   "execution_count": 72,
   "metadata": {
    "colab": {
     "base_uri": "https://localhost:8080/"
    },
    "id": "YBP5R9WuqSLs",
    "outputId": "d8d0f50f-0573-4937-eead-44c731076196"
   },
   "outputs": [
    {
     "data": {
      "text/plain": [
       "[[0, 1, 2, 3, 4, 5, 6, 7, 8, 9],\n",
       " [0, 1, 2, 3, 4, 5, 6, 7, 8, 9],\n",
       " [0, 1, 2, 3, 4, 5, 6, 7, 8, 9],\n",
       " [0, 1, 2, 3, 4, 5, 6, 7, 8, 9],\n",
       " [0, 1, 2, 3, 4, 5, 6, 7, 8, 9]]"
      ]
     },
     "execution_count": 72,
     "metadata": {},
     "output_type": "execute_result"
    }
   ],
   "source": [
    "a = [[i for i in range(10)] for i in range(5)]\n",
    "a"
   ]
  },
  {
   "cell_type": "code",
   "execution_count": 73,
   "metadata": {
    "colab": {
     "base_uri": "https://localhost:8080/",
     "height": 166
    },
    "id": "YoA4-b7KqsX_",
    "outputId": "ff0617a6-db44-4ea5-9bd5-fe100e150d51"
   },
   "outputs": [
    {
     "ename": "TypeError",
     "evalue": "list indices must be integers or slices, not tuple",
     "output_type": "error",
     "traceback": [
      "\u001b[0;31m---------------------------------------------------------------------------\u001b[0m",
      "\u001b[0;31mTypeError\u001b[0m                                 Traceback (most recent call last)",
      "\u001b[0;32m/var/folders/v8/2cskhqjj0_g0zp3824glf1tm0000gn/T/ipykernel_6186/1613680537.py\u001b[0m in \u001b[0;36m<module>\u001b[0;34m\u001b[0m\n\u001b[0;32m----> 1\u001b[0;31m \u001b[0ma\u001b[0m\u001b[0;34m[\u001b[0m\u001b[0;36m1\u001b[0m\u001b[0;34m,\u001b[0m \u001b[0;34m:\u001b[0m\u001b[0;34m]\u001b[0m\u001b[0;34m\u001b[0m\u001b[0;34m\u001b[0m\u001b[0m\n\u001b[0m",
      "\u001b[0;31mTypeError\u001b[0m: list indices must be integers or slices, not tuple"
     ]
    }
   ],
   "source": [
    "a[1, :]"
   ]
  },
  {
   "cell_type": "code",
   "execution_count": 74,
   "metadata": {
    "colab": {
     "base_uri": "https://localhost:8080/"
    },
    "id": "B-E1pHkxrOxd",
    "outputId": "799b4edf-c44f-43f8-cd05-cbd8698bcbc8"
   },
   "outputs": [
    {
     "data": {
      "text/plain": [
       "array([[ 0,  1,  2,  3,  4,  5,  6,  7,  8,  9],\n",
       "       [10, 11, 12, 13, 14, 15, 16, 17, 18, 19],\n",
       "       [20, 21, 22, 23, 24, 25, 26, 27, 28, 29],\n",
       "       [30, 31, 32, 33, 34, 35, 36, 37, 38, 39],\n",
       "       [40, 41, 42, 43, 44, 45, 46, 47, 48, 49]])"
      ]
     },
     "execution_count": 74,
     "metadata": {},
     "output_type": "execute_result"
    }
   ],
   "source": [
    "a_np = np.arange(50).reshape(5, -1)  # пока на reshape не смотрим\n",
    "a_np"
   ]
  },
  {
   "cell_type": "code",
   "execution_count": 75,
   "metadata": {
    "colab": {
     "base_uri": "https://localhost:8080/"
    },
    "id": "lsX1tUrQrVG4",
    "outputId": "9c7fa8dd-ca33-4c00-c1e1-509cb8c7d5ff"
   },
   "outputs": [
    {
     "data": {
      "text/plain": [
       "array([[ 2,  4,  6],\n",
       "       [12, 14, 16],\n",
       "       [22, 24, 26]])"
      ]
     },
     "execution_count": 75,
     "metadata": {},
     "output_type": "execute_result"
    }
   ],
   "source": [
    "a_np[:3, 2:7:2]"
   ]
  },
  {
   "cell_type": "markdown",
   "metadata": {
    "id": "JjKUwiVoTvbx"
   },
   "source": [
    "Выделение \"подматрицы\""
   ]
  },
  {
   "cell_type": "code",
   "execution_count": 76,
   "metadata": {
    "colab": {
     "base_uri": "https://localhost:8080/"
    },
    "id": "NsBvjNg1Tvbx",
    "outputId": "05ac2ae5-361c-4792-924b-b68d09f1c530"
   },
   "outputs": [
    {
     "data": {
      "text/plain": [
       "array([ 0, 20, 10, 40])"
      ]
     },
     "execution_count": 76,
     "metadata": {},
     "output_type": "execute_result"
    }
   ],
   "source": [
    "# a_np [список строк, список столбцов]\n",
    "a_np[[0, 2, 1, 4], [0]]"
   ]
  },
  {
   "cell_type": "code",
   "execution_count": 77,
   "metadata": {
    "colab": {
     "base_uri": "https://localhost:8080/",
     "height": 183
    },
    "id": "5L0ma4l6Tvby",
    "outputId": "89a9eaef-a165-4a5e-ce18-c482e475ca39"
   },
   "outputs": [
    {
     "ename": "IndexError",
     "evalue": "shape mismatch: indexing arrays could not be broadcast together with shapes (2,) (3,) ",
     "output_type": "error",
     "traceback": [
      "\u001b[0;31m---------------------------------------------------------------------------\u001b[0m",
      "\u001b[0;31mIndexError\u001b[0m                                Traceback (most recent call last)",
      "\u001b[0;32m/var/folders/v8/2cskhqjj0_g0zp3824glf1tm0000gn/T/ipykernel_6186/993511033.py\u001b[0m in \u001b[0;36m<module>\u001b[0;34m\u001b[0m\n\u001b[0;32m----> 1\u001b[0;31m \u001b[0mm\u001b[0m\u001b[0;34m[\u001b[0m\u001b[0;34m[\u001b[0m\u001b[0;36m0\u001b[0m\u001b[0;34m,\u001b[0m \u001b[0;36m2\u001b[0m\u001b[0;34m]\u001b[0m\u001b[0;34m,\u001b[0m \u001b[0;34m[\u001b[0m\u001b[0;36m0\u001b[0m\u001b[0;34m,\u001b[0m \u001b[0;36m1\u001b[0m\u001b[0;34m,\u001b[0m \u001b[0;36m2\u001b[0m\u001b[0;34m]\u001b[0m\u001b[0;34m]\u001b[0m\u001b[0;34m\u001b[0m\u001b[0;34m\u001b[0m\u001b[0m\n\u001b[0m",
      "\u001b[0;31mIndexError\u001b[0m: shape mismatch: indexing arrays could not be broadcast together with shapes (2,) (3,) "
     ]
    }
   ],
   "source": [
    "m[[0, 2], [0, 1, 2]]"
   ]
  },
  {
   "cell_type": "code",
   "execution_count": 78,
   "metadata": {
    "colab": {
     "base_uri": "https://localhost:8080/"
    },
    "id": "WriyY7aLpqhJ",
    "outputId": "2825ea09-5fde-4530-abdb-f6b2c42ce035"
   },
   "outputs": [
    {
     "data": {
      "text/plain": [
       "(array([[0],\n",
       "        [2]]),\n",
       " array([[0, 2]]))"
      ]
     },
     "execution_count": 78,
     "metadata": {},
     "output_type": "execute_result"
    }
   ],
   "source": [
    "np.ix_([0, 2], [0, 2])"
   ]
  },
  {
   "cell_type": "code",
   "execution_count": 79,
   "metadata": {
    "id": "uMRsItLDTvbz"
   },
   "outputs": [],
   "source": [
    "m_dop = m[np.ix_([0, 2], [0, 2])]"
   ]
  },
  {
   "cell_type": "code",
   "execution_count": 80,
   "metadata": {
    "colab": {
     "base_uri": "https://localhost:8080/"
    },
    "id": "cHQpgQkYpe7J",
    "outputId": "5a685ff9-c60d-42a9-b55a-c98d60142f49"
   },
   "outputs": [
    {
     "data": {
      "text/plain": [
       "array([[1, 3],\n",
       "       [3, 6]])"
      ]
     },
     "execution_count": 80,
     "metadata": {},
     "output_type": "execute_result"
    }
   ],
   "source": [
    "m_dop"
   ]
  },
  {
   "cell_type": "markdown",
   "metadata": {
    "id": "htiw2Mf4Tvbz"
   },
   "source": [
    "## <a id=\"Операции с матрицами и векторами\"><span style=\"color:green\">Операции с матрицами и векторами</span></a>"
   ]
  },
  {
   "cell_type": "markdown",
   "metadata": {
    "id": "2nyPZWkMTvbz"
   },
   "source": [
    "В NumPy двумерный массив можно рассматривать и как матрицу, то есть для него определены все матричные операции. Одномерный массив также можно рассматривать как вектор."
   ]
  },
  {
   "cell_type": "markdown",
   "metadata": {
    "id": "PVQiG6OfTvbz"
   },
   "source": [
    "**Транспонирование**"
   ]
  },
  {
   "cell_type": "markdown",
   "metadata": {
    "id": "Ae8WPQQJTvb0"
   },
   "source": [
    "Транспонированной матрицей $A^{T}$ называется матрица, полученная из исходной матрицы $A$ путем замены строк на столбцы."
   ]
  },
  {
   "cell_type": "code",
   "execution_count": 87,
   "metadata": {
    "colab": {
     "base_uri": "https://localhost:8080/"
    },
    "id": "UiupbJ8xTvb0",
    "outputId": "a74fc7d5-5da0-4e79-ad02-b6f383116f59"
   },
   "outputs": [
    {
     "name": "stdout",
     "output_type": "stream",
     "text": [
      "[[ 1 12  3  4]\n",
      " [ 3  2 10  2]\n",
      " [ 3 56  6 11]]\n",
      "<class 'numpy.ndarray'>\n",
      "\n",
      "[[ 1  3  3]\n",
      " [12  2 56]\n",
      " [ 3 10  6]\n",
      " [ 4  2 11]]\n"
     ]
    }
   ],
   "source": [
    "m = np.array([[1, 12, 3, 4], \n",
    "              [3, 2, 10, 2], \n",
    "              [3, 56, 6, 11]])\n",
    "print(m)\n",
    "print(type(m))\n",
    "print()\n",
    "print(m.T)"
   ]
  },
  {
   "cell_type": "markdown",
   "metadata": {
    "id": "5xFICzJ5Tvb0"
   },
   "source": [
    "**Скалярное произведение векторов**"
   ]
  },
  {
   "cell_type": "markdown",
   "metadata": {
    "collapsed": true,
    "id": "tZ15kMMgTvb0"
   },
   "source": [
    "Рассмотрим два вектора $a$ и $b$ в n-мерном пространстве  \n",
    "$a = (a_1, a_2, a_3, \\dots a_n)$   \n",
    "$b = (b_1, b_2, b_3, \\dots b_n)$   \n",
    "Скалярное произведение векторов $a$ и $b$ определяется следующим образом:  \n",
    "$$\\langle a, b \\rangle = a_1 b_1 + a_2 b_2 + a_3 b_3 \\dots + a_n b_n = \\sum_{i = 1}^{n} a_i b_i$$"
   ]
  },
  {
   "cell_type": "code",
   "execution_count": 88,
   "metadata": {
    "colab": {
     "base_uri": "https://localhost:8080/"
    },
    "id": "qGgYjq2kTvb1",
    "outputId": "d7555f25-4047-4821-f7cf-a991fbcf6189"
   },
   "outputs": [
    {
     "name": "stdout",
     "output_type": "stream",
     "text": [
      "29\n",
      "29\n",
      "29\n"
     ]
    }
   ],
   "source": [
    "a = np.array([3, 1, 5, 2])\n",
    "b = np.array([2, 5, 2, 4])\n",
    "# <a, b> = 3*1 + 1*5 + 5*2 + 2*4\n",
    "print(a @ b)    # python 3 style\n",
    "print(a.dot(b)) \n",
    "print(np.dot(a, b))"
   ]
  },
  {
   "cell_type": "markdown",
   "metadata": {
    "id": "ojOJ8v_5Tvb1"
   },
   "source": [
    "**Умножение матриц**  \n",
    "  \n",
    "Операция умножения определена для двух матриц, таких что число столбцов первой равно числу строк второй. \n",
    "\n",
    "Пусть матрицы $A$ и $B$ таковы, что $A \\in \\mathbb{R}^{n \\times k}$ и $B \\in \\mathbb{R}^{k \\times m}$.    \n",
    "__Произведением__ матриц $A$ и $B$ называется матрица $C$, такая что \n",
    "$$c_{ij} = \\sum_{r=1}^{k} a_{ir}b_{rj}$$, \n",
    "где  $c_{ij}$ — элемент матрицы $C$, стоящий на пересечении строки с номером $i$ и столбца с номером $j$."
   ]
  },
  {
   "cell_type": "code",
   "execution_count": 89,
   "metadata": {
    "colab": {
     "base_uri": "https://localhost:8080/"
    },
    "id": "DQ0JcGlqTvb2",
    "outputId": "45329d1d-d62c-4925-d2ac-5945634452e3"
   },
   "outputs": [
    {
     "name": "stdout",
     "output_type": "stream",
     "text": [
      "[[8 5]\n",
      " [2 2]]\n",
      "[[8 5]\n",
      " [2 2]]\n",
      "[[8 5]\n",
      " [2 2]]\n"
     ]
    }
   ],
   "source": [
    "a = np.array([[1, 2], [0, 1]])\n",
    "b = np.array([[4, 1], [2, 2]])\n",
    "print(a @ b)    # python 3 style\n",
    "print(a.dot(b)) \n",
    "print(np.dot(a, b))"
   ]
  },
  {
   "cell_type": "markdown",
   "metadata": {
    "id": "q8qbSx1bTvb2"
   },
   "source": [
    "Также доступно *ПОКООРДИНАТНОЕ* умножение, не путать с матричным!"
   ]
  },
  {
   "cell_type": "code",
   "execution_count": 91,
   "metadata": {
    "colab": {
     "base_uri": "https://localhost:8080/"
    },
    "id": "8jL31NmyTvb3",
    "outputId": "46c7586c-f550-4ccc-b68c-a233080ed5ba"
   },
   "outputs": [
    {
     "name": "stdout",
     "output_type": "stream",
     "text": [
      "[[1 2]\n",
      " [0 1]]\n",
      "[[4 1]\n",
      " [2 2]]\n",
      "[[4 2]\n",
      " [0 2]]\n"
     ]
    }
   ],
   "source": [
    "print(a)\n",
    "print(b)\n",
    "print(a * b)"
   ]
  },
  {
   "cell_type": "markdown",
   "metadata": {
    "id": "PZfiErYHTvb3"
   },
   "source": [
    "**Умножение матриц и векторов**"
   ]
  },
  {
   "cell_type": "code",
   "execution_count": 93,
   "metadata": {
    "colab": {
     "base_uri": "https://localhost:8080/"
    },
    "id": "dI_S5nBlTvb3",
    "outputId": "8b3fb191-0647-4ea8-c4f8-6685be166344"
   },
   "outputs": [
    {
     "name": "stdout",
     "output_type": "stream",
     "text": [
      "[[1 2]\n",
      " [0 1]\n",
      " [2 4]]\n",
      "v = [2 5]\n"
     ]
    }
   ],
   "source": [
    "m = np.array([[1, 2], [0, 1], [2, 4]])\n",
    "print(m)\n",
    "v = np.array([2, 5])\n",
    "print(\"v =\", v)"
   ]
  },
  {
   "cell_type": "code",
   "execution_count": 94,
   "metadata": {
    "colab": {
     "base_uri": "https://localhost:8080/"
    },
    "id": "CZpGDFOuTvb3",
    "outputId": "5b069a42-28b6-4270-9de5-06c5ac8b2919"
   },
   "outputs": [
    {
     "data": {
      "text/plain": [
       "array([12,  5, 24])"
      ]
     },
     "execution_count": 94,
     "metadata": {},
     "output_type": "execute_result"
    }
   ],
   "source": [
    "m @ v"
   ]
  },
  {
   "cell_type": "markdown",
   "metadata": {
    "id": "5XyZSihx_gbs"
   },
   "source": [
    "### Rules of Broadcasting\n",
    "\n",
    "Broadcasting in NumPy follows a strict set of rules to determine the interaction between the two arrays:\n",
    "\n",
    "- Rule 1: If the two arrays differ in their number of dimensions, the shape of the one with fewer dimensions is *padded* with ones on its leading (left) side.\n",
    "- Rule 2: If the shape of the two arrays does not match in any dimension, the array with shape equal to 1 in that dimension is stretched to match the other shape.\n",
    "- Rule 3: If in any dimension the sizes disagree and neither is equal to 1, an error is raised."
   ]
  },
  {
   "cell_type": "code",
   "execution_count": 184,
   "metadata": {},
   "outputs": [
    {
     "data": {
      "text/plain": [
       "array([5, 6, 7])"
      ]
     },
     "execution_count": 184,
     "metadata": {},
     "output_type": "execute_result"
    }
   ],
   "source": [
    "a = np.arange(3)\n",
    "a + 5"
   ]
  },
  {
   "cell_type": "markdown",
   "metadata": {
    "id": "NcF8KBRyPNsu"
   },
   "source": [
    "a.shape = (3,)\n",
    "\n",
    "5.shape = (,) --> (1,) --> (3,)"
   ]
  },
  {
   "cell_type": "code",
   "execution_count": 185,
   "metadata": {
    "colab": {
     "base_uri": "https://localhost:8080/"
    },
    "id": "dyjK9aNeP4Vk",
    "outputId": "dab9420f-0ecc-4e3e-a257-303caf671fe1"
   },
   "outputs": [
    {
     "name": "stdout",
     "output_type": "stream",
     "text": [
      "[[0]\n",
      " [1]\n",
      " [2]]\n",
      "[0 1 2]\n"
     ]
    },
    {
     "data": {
      "text/plain": [
       "array([[0, 1, 2],\n",
       "       [1, 2, 3],\n",
       "       [2, 3, 4]])"
      ]
     },
     "execution_count": 185,
     "metadata": {},
     "output_type": "execute_result"
    }
   ],
   "source": [
    "a = np.arange(3).reshape((3, 1))\n",
    "b = np.arange(3)\n",
    "print(a)\n",
    "print(b)\n",
    "a + b"
   ]
  },
  {
   "cell_type": "markdown",
   "metadata": {
    "id": "r5CW9SBdQJ9i"
   },
   "source": [
    "a.shape = (3, 1)          --> (3, 3)\n",
    "\n",
    "b.shape = (3,) --> (1, 3) --> (3, 3)"
   ]
  },
  {
   "cell_type": "code",
   "execution_count": 186,
   "metadata": {
    "colab": {
     "base_uri": "https://localhost:8080/"
    },
    "id": "DvtR0mkBQEhC",
    "outputId": "be7107ae-c861-4753-a276-179cd4fe6846"
   },
   "outputs": [
    {
     "data": {
      "text/plain": [
       "array([[0, 1, 2],\n",
       "       [1, 2, 3],\n",
       "       [2, 3, 4]])"
      ]
     },
     "execution_count": 186,
     "metadata": {},
     "output_type": "execute_result"
    }
   ],
   "source": [
    "arr = a + b\n",
    "arr"
   ]
  },
  {
   "cell_type": "code",
   "execution_count": 187,
   "metadata": {},
   "outputs": [
    {
     "data": {
      "text/plain": [
       "(array([[0, 0, 0],\n",
       "        [0, 0, 0]]),\n",
       " array([[0, 0],\n",
       "        [0, 0]]))"
      ]
     },
     "execution_count": 187,
     "metadata": {},
     "output_type": "execute_result"
    }
   ],
   "source": [
    "a = np.array(((0, 0, 0), (0, 0, 0)))\n",
    "b = np.array(((0, 0), (0, 0)))\n",
    "\n",
    "a, b"
   ]
  },
  {
   "cell_type": "code",
   "execution_count": 188,
   "metadata": {
    "scrolled": true
   },
   "outputs": [
    {
     "ename": "ValueError",
     "evalue": "operands could not be broadcast together with shapes (2,3) (2,2) ",
     "output_type": "error",
     "traceback": [
      "\u001b[0;31m---------------------------------------------------------------------------\u001b[0m",
      "\u001b[0;31mValueError\u001b[0m                                Traceback (most recent call last)",
      "\u001b[0;32m/var/folders/v8/2cskhqjj0_g0zp3824glf1tm0000gn/T/ipykernel_6186/1216668022.py\u001b[0m in \u001b[0;36m<module>\u001b[0;34m\u001b[0m\n\u001b[0;32m----> 1\u001b[0;31m \u001b[0ma\u001b[0m \u001b[0;34m+\u001b[0m \u001b[0mb\u001b[0m\u001b[0;34m\u001b[0m\u001b[0;34m\u001b[0m\u001b[0m\n\u001b[0m",
      "\u001b[0;31mValueError\u001b[0m: operands could not be broadcast together with shapes (2,3) (2,2) "
     ]
    }
   ],
   "source": [
    "a + b"
   ]
  },
  {
   "cell_type": "markdown",
   "metadata": {
    "id": "dYfGBPAAPR0A"
   },
   "source": [
    "#### Broadcasting (Расширение/адаптация размерностей)\n",
    "Мощный механизм, позволяющий NumPy работать с массивами различной формы при выполнении арифметических операций. Часто у нас есть меньший массив и больший массив, и мы хотим использовать меньший массив несколько раз, чтобы выполнить некоторую операцию над большим массивом\n",
    "\n",
    "[Наглядный туториал](https://scipy.github.io/old-wiki/pages/EricsBroadcastingDoc)"
   ]
  },
  {
   "cell_type": "code",
   "execution_count": null,
   "metadata": {
    "id": "CB376l76PZi-"
   },
   "outputs": [],
   "source": [
    "# прибавление вектора ко всем строкам матрицы"
   ]
  },
  {
   "cell_type": "code",
   "execution_count": 95,
   "metadata": {
    "colab": {
     "base_uri": "https://localhost:8080/"
    },
    "id": "6kFE8ieLhC2C",
    "outputId": "559892d3-595f-4b13-d579-792109078f74"
   },
   "outputs": [
    {
     "name": "stdout",
     "output_type": "stream",
     "text": [
      "[[ 1  2  3]\n",
      " [ 4  5  6]\n",
      " [ 7  8  9]\n",
      " [10 11 12]]\n",
      "[3 4 5]\n",
      "y: \n",
      "[[-4616131831826001543  4599332596597818911 -4617018063533177863]\n",
      " [-4614332767259061305  4609279514422218049 -4626069568062318375]\n",
      " [ 4589530340622677446 -4614276722281601182 -4620293453638862296]\n",
      " [ 4592657235602114101 -4615509603435743979  4600439593739607528]]\n",
      "[[ 4  6  8]\n",
      " [ 7  9 11]\n",
      " [10 12 14]\n",
      " [13 15 17]]\n"
     ]
    }
   ],
   "source": [
    "# без broadcasting\n",
    "x = np.array([[1, 2, 3], [4, 5, 6], [7, 8, 9], [10, 11, 12]])\n",
    "v = np.array([3, 4, 5])\n",
    "# empty like создает пустую матрицу такого же размера как x\n",
    "y = np.empty_like(x) # создаем пустую структуру, в нее мы будем складывать ответ\n",
    "\n",
    "print(x)\n",
    "print(v)\n",
    "print(f'y: \\n{y}')\n",
    "\n",
    "for i in range(4):\n",
    "    y[i, :] = x[i, :] + v\n",
    "\n",
    "print(y)"
   ]
  },
  {
   "cell_type": "markdown",
   "metadata": {
    "id": "u4z8riz0Ja37"
   },
   "source": [
    "`np.tile` повторяет массив v (n,m,...) n раз по 0-ой оси и m раз по 1-ой итд, получается новый массив"
   ]
  },
  {
   "cell_type": "code",
   "execution_count": 96,
   "metadata": {
    "colab": {
     "base_uri": "https://localhost:8080/"
    },
    "id": "A3s5-vI2zD2Z",
    "outputId": "650e86a8-a432-4dde-f093-ce5c7345888f"
   },
   "outputs": [
    {
     "data": {
      "text/plain": [
       "array([3, 4, 5])"
      ]
     },
     "execution_count": 96,
     "metadata": {},
     "output_type": "execute_result"
    }
   ],
   "source": [
    "v"
   ]
  },
  {
   "cell_type": "code",
   "execution_count": 97,
   "metadata": {
    "colab": {
     "base_uri": "https://localhost:8080/"
    },
    "id": "6ZcXOPUgiAW1",
    "outputId": "1b8ea4ed-ecee-4d39-b15f-1dd3113165ca"
   },
   "outputs": [
    {
     "data": {
      "text/plain": [
       "array([[3, 4, 5],\n",
       "       [3, 4, 5],\n",
       "       [3, 4, 5],\n",
       "       [3, 4, 5]])"
      ]
     },
     "execution_count": 97,
     "metadata": {},
     "output_type": "execute_result"
    }
   ],
   "source": [
    "vv = np.tile(v, (4, 1))\n",
    "vv # получилась матрица такой же размерности как и матрица x"
   ]
  },
  {
   "cell_type": "code",
   "execution_count": 98,
   "metadata": {
    "colab": {
     "base_uri": "https://localhost:8080/"
    },
    "id": "lsKQK72WzZ9D",
    "outputId": "d2f96100-85b4-42fb-ef6a-8e491a2c523d"
   },
   "outputs": [
    {
     "data": {
      "text/plain": [
       "array([[ 1,  2,  3],\n",
       "       [ 4,  5,  6],\n",
       "       [ 7,  8,  9],\n",
       "       [10, 11, 12]])"
      ]
     },
     "execution_count": 98,
     "metadata": {},
     "output_type": "execute_result"
    }
   ],
   "source": [
    "x"
   ]
  },
  {
   "cell_type": "code",
   "execution_count": 99,
   "metadata": {
    "colab": {
     "base_uri": "https://localhost:8080/"
    },
    "id": "tYuVC4iyiNhr",
    "outputId": "9d54b2e7-c27b-47e2-a995-f71e972ead17"
   },
   "outputs": [
    {
     "name": "stdout",
     "output_type": "stream",
     "text": [
      "[[ 4  6  8]\n",
      " [ 7  9 11]\n",
      " [10 12 14]\n",
      " [13 15 17]]\n"
     ]
    }
   ],
   "source": [
    "y = x + vv\n",
    "print(y)"
   ]
  },
  {
   "cell_type": "code",
   "execution_count": 100,
   "metadata": {
    "colab": {
     "base_uri": "https://localhost:8080/"
    },
    "id": "1lINGNRMz4I5",
    "outputId": "f59a743c-29b5-40ac-95c2-6752476df9b0"
   },
   "outputs": [
    {
     "data": {
      "text/plain": [
       "array([3, 4, 5])"
      ]
     },
     "execution_count": 100,
     "metadata": {},
     "output_type": "execute_result"
    }
   ],
   "source": [
    "v"
   ]
  },
  {
   "cell_type": "code",
   "execution_count": 101,
   "metadata": {
    "colab": {
     "base_uri": "https://localhost:8080/"
    },
    "id": "g8LM-ZAYiYHH",
    "outputId": "dc5ac9f8-8eb9-45a2-c7ec-d67a9e4bd839"
   },
   "outputs": [
    {
     "data": {
      "text/plain": [
       "array([[ 4,  6,  8],\n",
       "       [ 7,  9, 11],\n",
       "       [10, 12, 14],\n",
       "       [13, 15, 17]])"
      ]
     },
     "execution_count": 101,
     "metadata": {},
     "output_type": "execute_result"
    }
   ],
   "source": [
    "x + v"
   ]
  },
  {
   "cell_type": "markdown",
   "metadata": {
    "id": "aITk7HjpQv9l"
   },
   "source": [
    "Бродкастинг двух массивов работает следующим образом:\n",
    "*   Если массивы не имеют одинаковый ранг (кол-во размерностей), нужно выровнять кол-во размерностей, добавлением дополнительных \"единичных\" размерностей массиву меньшего ранга\n",
    "*   Говорят, что два массива *совместимы* в i-ой размерности, если они имеют одинаковый по величине набор значений в этой размерности, или если один из массивов имеет ровно 1 элемент в этом измерении.\n",
    "*   Массивы **broadcastable**, если они совместимы во всех размерностях.\n",
    "*   После адаптации каждый массив ведет себя так, как будто он имеет форму, равную поэлементному максимуму форм двух входных массивов.\n",
    "*   В любом измерении, где один массив имел размер 1, а другой массив имел размер больше 1, первый массив ведет себя так, как если бы он был скопирован \"вдоль\" этого измерения"
   ]
  },
  {
   "cell_type": "markdown",
   "metadata": {
    "id": "mZTkQ8b0J-nz"
   },
   "source": [
    "Прибавим теперь не по строкам, а по столбцам"
   ]
  },
  {
   "cell_type": "code",
   "execution_count": 102,
   "metadata": {
    "colab": {
     "base_uri": "https://localhost:8080/"
    },
    "id": "lwP0lIySiw39",
    "outputId": "3ad2103f-7e98-41fe-ce4d-29190156fe98"
   },
   "outputs": [
    {
     "data": {
      "text/plain": [
       "array([3, 4, 5])"
      ]
     },
     "execution_count": 102,
     "metadata": {},
     "output_type": "execute_result"
    }
   ],
   "source": [
    "v"
   ]
  },
  {
   "cell_type": "markdown",
   "metadata": {
    "id": "MY-MIBszKC79"
   },
   "source": [
    "Для этого нужно добавить \"дополнительную\" размерность 1.\n",
    "\n",
    "Обратите внимание, что (4,) и (4,1) это разные numpy массивы по форме. Первое интерпретируется как строка матрицы, а второе как столбец. Проведите над этим утверждением пару минут."
   ]
  },
  {
   "cell_type": "code",
   "execution_count": 104,
   "metadata": {},
   "outputs": [
    {
     "data": {
      "text/plain": [
       "array([1, 2, 3, 4])"
      ]
     },
     "execution_count": 104,
     "metadata": {},
     "output_type": "execute_result"
    }
   ],
   "source": [
    "np.arange(1, 5)"
   ]
  },
  {
   "cell_type": "code",
   "execution_count": 103,
   "metadata": {
    "colab": {
     "base_uri": "https://localhost:8080/"
    },
    "id": "gNT5ZBMJi505",
    "outputId": "f7612cad-f6be-4cc0-97cc-f1c5092d85b9"
   },
   "outputs": [
    {
     "data": {
      "text/plain": [
       "array([[1],\n",
       "       [2],\n",
       "       [3],\n",
       "       [4]])"
      ]
     },
     "execution_count": 103,
     "metadata": {},
     "output_type": "execute_result"
    }
   ],
   "source": [
    "np.arange(1, 5).reshape(4, 1)"
   ]
  },
  {
   "cell_type": "code",
   "execution_count": 105,
   "metadata": {
    "colab": {
     "base_uri": "https://localhost:8080/"
    },
    "id": "_qzx5i2s0fOO",
    "outputId": "cffa2f87-1fac-4318-feb8-65a2a99218bb"
   },
   "outputs": [
    {
     "data": {
      "text/plain": [
       "array([[ 1,  2,  3],\n",
       "       [ 4,  5,  6],\n",
       "       [ 7,  8,  9],\n",
       "       [10, 11, 12]])"
      ]
     },
     "execution_count": 105,
     "metadata": {},
     "output_type": "execute_result"
    }
   ],
   "source": [
    "x"
   ]
  },
  {
   "cell_type": "code",
   "execution_count": 106,
   "metadata": {
    "colab": {
     "base_uri": "https://localhost:8080/"
    },
    "id": "k1f7eno10h9A",
    "outputId": "7a0615e3-f8e5-472c-a797-c1536cc8f007"
   },
   "outputs": [
    {
     "data": {
      "text/plain": [
       "(4, 1)"
      ]
     },
     "execution_count": 106,
     "metadata": {},
     "output_type": "execute_result"
    }
   ],
   "source": [
    "np.arange(1,5).reshape(4,1).shape"
   ]
  },
  {
   "cell_type": "code",
   "execution_count": 107,
   "metadata": {
    "colab": {
     "base_uri": "https://localhost:8080/"
    },
    "id": "cnnpuBUVjDi3",
    "outputId": "f8880f4f-fd7c-4e1d-8bf9-c2d280409976"
   },
   "outputs": [
    {
     "data": {
      "text/plain": [
       "array([[ 2,  3,  4],\n",
       "       [ 6,  7,  8],\n",
       "       [10, 11, 12],\n",
       "       [14, 15, 16]])"
      ]
     },
     "execution_count": 107,
     "metadata": {},
     "output_type": "execute_result"
    }
   ],
   "source": [
    "x + np.arange(1,5).reshape(4,1) # у нас происходит сложение по столбцам"
   ]
  },
  {
   "cell_type": "code",
   "execution_count": 109,
   "metadata": {},
   "outputs": [
    {
     "data": {
      "text/plain": [
       "array([[3, 4, 5, 3, 4, 5],\n",
       "       [3, 4, 5, 3, 4, 5],\n",
       "       [3, 4, 5, 3, 4, 5],\n",
       "       [3, 4, 5, 3, 4, 5]])"
      ]
     },
     "execution_count": 109,
     "metadata": {},
     "output_type": "execute_result"
    }
   ],
   "source": [
    "np.tile(v, (4, 2))"
   ]
  },
  {
   "cell_type": "code",
   "execution_count": 108,
   "metadata": {
    "colab": {
     "base_uri": "https://localhost:8080/",
     "height": 183
    },
    "id": "IOeQ2nFG015h",
    "outputId": "57e0b022-cdfa-4992-d239-e5ae6f5d4ae4"
   },
   "outputs": [
    {
     "ename": "ValueError",
     "evalue": "operands could not be broadcast together with shapes (4,3) (4,6) ",
     "output_type": "error",
     "traceback": [
      "\u001b[0;31m---------------------------------------------------------------------------\u001b[0m",
      "\u001b[0;31mValueError\u001b[0m                                Traceback (most recent call last)",
      "\u001b[0;32m/var/folders/v8/2cskhqjj0_g0zp3824glf1tm0000gn/T/ipykernel_6186/1355807699.py\u001b[0m in \u001b[0;36m<module>\u001b[0;34m\u001b[0m\n\u001b[1;32m      1\u001b[0m \u001b[0mvv\u001b[0m \u001b[0;34m=\u001b[0m \u001b[0mnp\u001b[0m\u001b[0;34m.\u001b[0m\u001b[0mtile\u001b[0m\u001b[0;34m(\u001b[0m\u001b[0mv\u001b[0m\u001b[0;34m,\u001b[0m \u001b[0;34m(\u001b[0m\u001b[0;36m4\u001b[0m\u001b[0;34m,\u001b[0m \u001b[0;36m2\u001b[0m\u001b[0;34m)\u001b[0m\u001b[0;34m)\u001b[0m\u001b[0;34m\u001b[0m\u001b[0;34m\u001b[0m\u001b[0m\n\u001b[0;32m----> 2\u001b[0;31m \u001b[0mx\u001b[0m \u001b[0;34m+\u001b[0m \u001b[0mvv\u001b[0m\u001b[0;34m\u001b[0m\u001b[0;34m\u001b[0m\u001b[0m\n\u001b[0m",
      "\u001b[0;31mValueError\u001b[0m: operands could not be broadcast together with shapes (4,3) (4,6) "
     ]
    }
   ],
   "source": [
    "vv = np.tile(v, (4, 2))\n",
    "x + vv"
   ]
  },
  {
   "cell_type": "code",
   "execution_count": 110,
   "metadata": {
    "colab": {
     "base_uri": "https://localhost:8080/",
     "height": 183
    },
    "id": "AIXg8l-x1Di0",
    "outputId": "475e7ad1-db96-4345-c76d-95acf6ff69f3"
   },
   "outputs": [
    {
     "ename": "ValueError",
     "evalue": "operands could not be broadcast together with shapes (4,6) (4,3) ",
     "output_type": "error",
     "traceback": [
      "\u001b[0;31m---------------------------------------------------------------------------\u001b[0m",
      "\u001b[0;31mValueError\u001b[0m                                Traceback (most recent call last)",
      "\u001b[0;32m/var/folders/v8/2cskhqjj0_g0zp3824glf1tm0000gn/T/ipykernel_6186/576273791.py\u001b[0m in \u001b[0;36m<module>\u001b[0;34m\u001b[0m\n\u001b[1;32m      1\u001b[0m \u001b[0mvv\u001b[0m \u001b[0;34m=\u001b[0m \u001b[0mnp\u001b[0m\u001b[0;34m.\u001b[0m\u001b[0mtile\u001b[0m\u001b[0;34m(\u001b[0m\u001b[0mv\u001b[0m\u001b[0;34m,\u001b[0m \u001b[0;34m(\u001b[0m\u001b[0;36m4\u001b[0m\u001b[0;34m,\u001b[0m \u001b[0;36m2\u001b[0m\u001b[0;34m)\u001b[0m\u001b[0;34m)\u001b[0m\u001b[0;34m\u001b[0m\u001b[0;34m\u001b[0m\u001b[0m\n\u001b[0;32m----> 2\u001b[0;31m \u001b[0mvv\u001b[0m \u001b[0;34m+\u001b[0m \u001b[0mx\u001b[0m\u001b[0;34m\u001b[0m\u001b[0;34m\u001b[0m\u001b[0m\n\u001b[0m",
      "\u001b[0;31mValueError\u001b[0m: operands could not be broadcast together with shapes (4,6) (4,3) "
     ]
    }
   ],
   "source": [
    "vv = np.tile(v, (4, 2))\n",
    "vv + x"
   ]
  },
  {
   "cell_type": "markdown",
   "metadata": {
    "id": "aZS5hsZKTvb4"
   },
   "source": [
    "## <a id=\"Полезные функции и методы\"><span style=\"color:green\">Полезные функций и методы</span></a>"
   ]
  },
  {
   "cell_type": "markdown",
   "metadata": {
    "id": "JUspURHSTvb4"
   },
   "source": [
    "Все функции описанные в предыдущем разделе можно применять к массивам!"
   ]
  },
  {
   "cell_type": "code",
   "execution_count": 111,
   "metadata": {
    "colab": {
     "base_uri": "https://localhost:8080/"
    },
    "id": "DKk64Mseasg6",
    "outputId": "a8f8e39a-aa62-4865-98ae-9e54208a6f6b"
   },
   "outputs": [
    {
     "name": "stdout",
     "output_type": "stream",
     "text": [
      "[[1 2]\n",
      " [0 1]]\n",
      "[[4 1]\n",
      " [2 2]]\n"
     ]
    }
   ],
   "source": [
    "print(a, b, sep='\\n')"
   ]
  },
  {
   "cell_type": "code",
   "execution_count": 112,
   "metadata": {
    "colab": {
     "base_uri": "https://localhost:8080/"
    },
    "id": "_xV3iCn2Tvb4",
    "outputId": "c66df372-3ad3-4af8-9f6c-13b37046f98f"
   },
   "outputs": [
    {
     "data": {
      "text/plain": [
       "array([[1.38629436, 0.        ],\n",
       "       [0.69314718, 0.69314718]])"
      ]
     },
     "execution_count": 112,
     "metadata": {},
     "output_type": "execute_result"
    }
   ],
   "source": [
    "np.log(b)"
   ]
  },
  {
   "cell_type": "code",
   "execution_count": 113,
   "metadata": {
    "colab": {
     "base_uri": "https://localhost:8080/"
    },
    "id": "py8DwT8D1al7",
    "outputId": "5f059f63-a160-46aa-c903-a08d89e2a9c1"
   },
   "outputs": [
    {
     "data": {
      "text/plain": [
       "True"
      ]
     },
     "execution_count": 113,
     "metadata": {},
     "output_type": "execute_result"
    }
   ],
   "source": [
    "np.log(b).shape == b.shape"
   ]
  },
  {
   "cell_type": "code",
   "execution_count": 114,
   "metadata": {
    "colab": {
     "base_uri": "https://localhost:8080/"
    },
    "id": "iJ95wGN_Tvb5",
    "outputId": "e8ca4346-726d-45e0-cd8f-ad8de979c8a7"
   },
   "outputs": [
    {
     "data": {
      "text/plain": [
       "array([[0.84147098, 0.90929743],\n",
       "       [0.        , 0.84147098]])"
      ]
     },
     "execution_count": 114,
     "metadata": {},
     "output_type": "execute_result"
    }
   ],
   "source": [
    "np.sin(a)"
   ]
  },
  {
   "cell_type": "markdown",
   "metadata": {
    "id": "2DNDqsiDTvb5"
   },
   "source": [
    "Кроме математических функций есть также полезные функции для работы с массивами."
   ]
  },
  {
   "cell_type": "code",
   "execution_count": 117,
   "metadata": {},
   "outputs": [
    {
     "data": {
      "text/plain": [
       "array([101., 102., 103., 104., 105., 106., 107., 108., 109., 110., 111.,\n",
       "       112., 113., 114., 115., 116., 117., 118., 119., 120., 121., 122.,\n",
       "       123., 124., 125., 126., 127., 128., 129., 130., 131., 132., 133.,\n",
       "       134., 135., 136., 137., 138., 139., 140., 141., 142., 143., 144.,\n",
       "       145., 146., 147., 148., 149., 150.])"
      ]
     },
     "execution_count": 117,
     "metadata": {},
     "output_type": "execute_result"
    }
   ],
   "source": [
    "np.linspace(1, 50, 50) + 100"
   ]
  },
  {
   "cell_type": "code",
   "execution_count": 115,
   "metadata": {
    "colab": {
     "base_uri": "https://localhost:8080/"
    },
    "id": "V0O7d1yaTvb5",
    "outputId": "0692981a-338b-44f9-dd12-e5a1394af23c"
   },
   "outputs": [
    {
     "name": "stdout",
     "output_type": "stream",
     "text": [
      "[114. 149. 113. 127. 148. 106. 104. 130. 122. 147.]\n"
     ]
    }
   ],
   "source": [
    "a = np.random.choice(a=np.linspace(1, 50, 50) + 100, size=10, replace=False)\n",
    "print(a)"
   ]
  },
  {
   "cell_type": "markdown",
   "metadata": {
    "id": "UKsBN8R_Tvb5"
   },
   "source": [
    "- Замена элементов по индексу"
   ]
  },
  {
   "cell_type": "code",
   "execution_count": 118,
   "metadata": {
    "colab": {
     "base_uri": "https://localhost:8080/"
    },
    "id": "HIhN_OzNTvb6",
    "outputId": "01a4da48-d319-4bde-a573-e7805f7c8c51"
   },
   "outputs": [
    {
     "data": {
      "text/plain": [
       "array([-44., 131., -55., 149., 108., 116., 146., 118., 122., 140.])"
      ]
     },
     "execution_count": 118,
     "metadata": {},
     "output_type": "execute_result"
    }
   ],
   "source": [
    "np.put(a, ind=[0, 2], v=[-44, -55, -66])\n",
    "a"
   ]
  },
  {
   "cell_type": "markdown",
   "metadata": {
    "id": "Q8tW2ELRTvb6"
   },
   "source": [
    "- Выделение элементов по условию"
   ]
  },
  {
   "cell_type": "code",
   "execution_count": 119,
   "metadata": {},
   "outputs": [
    {
     "data": {
      "text/plain": [
       "array([ True, False,  True, False, False, False, False, False, False,\n",
       "       False])"
      ]
     },
     "execution_count": 119,
     "metadata": {},
     "output_type": "execute_result"
    }
   ],
   "source": [
    "a < 0"
   ]
  },
  {
   "cell_type": "code",
   "execution_count": 120,
   "metadata": {
    "colab": {
     "base_uri": "https://localhost:8080/"
    },
    "id": "umD_BNiUTvb6",
    "outputId": "86d7de0f-b048-44f9-8142-fbf512eaaa2b"
   },
   "outputs": [
    {
     "data": {
      "text/plain": [
       "array([ -1., 131.,  -1., 149., 108., 116., 146., 118., 122., 140.])"
      ]
     },
     "execution_count": 120,
     "metadata": {},
     "output_type": "execute_result"
    }
   ],
   "source": [
    "np.where(a < 0, -1, a)"
   ]
  },
  {
   "cell_type": "code",
   "execution_count": null,
   "metadata": {},
   "outputs": [],
   "source": [
    "# обязательно к прочтению\n",
    "np.where?"
   ]
  },
  {
   "cell_type": "code",
   "execution_count": 121,
   "metadata": {
    "colab": {
     "base_uri": "https://localhost:8080/"
    },
    "id": "HMyehVX4Tvb6",
    "outputId": "e4967136-a626-473f-8abf-4c9cf0141644"
   },
   "outputs": [
    {
     "data": {
      "text/plain": [
       "array([-44., -55.])"
      ]
     },
     "execution_count": 121,
     "metadata": {},
     "output_type": "execute_result"
    }
   ],
   "source": [
    "a[np.where(a < 0)]  # a[array([ True, False,  True, False, False, False, False, False, False, False])]"
   ]
  },
  {
   "cell_type": "markdown",
   "metadata": {
    "id": "f_5fLH3PTvb7"
   },
   "source": [
    "- Сортировка"
   ]
  },
  {
   "cell_type": "code",
   "execution_count": 122,
   "metadata": {
    "colab": {
     "base_uri": "https://localhost:8080/"
    },
    "id": "lWnBLLtTcf2Y",
    "outputId": "d401fd4c-e810-4967-c073-246794fbc1ff"
   },
   "outputs": [
    {
     "data": {
      "text/plain": [
       "array([-44., -55.])"
      ]
     },
     "execution_count": 122,
     "metadata": {},
     "output_type": "execute_result"
    }
   ],
   "source": [
    "a[a < 0]"
   ]
  },
  {
   "cell_type": "code",
   "execution_count": 123,
   "metadata": {
    "colab": {
     "base_uri": "https://localhost:8080/"
    },
    "id": "lcFpQAzQcv05",
    "outputId": "7e85e445-2758-451f-e5b9-f6cb8b1f351a"
   },
   "outputs": [
    {
     "data": {
      "text/plain": [
       "array([-44., 131., -55., 149., 108., 116., 146., 118., 122., 140.])"
      ]
     },
     "execution_count": 123,
     "metadata": {},
     "output_type": "execute_result"
    }
   ],
   "source": [
    "a"
   ]
  },
  {
   "cell_type": "code",
   "execution_count": 124,
   "metadata": {
    "colab": {
     "base_uri": "https://localhost:8080/"
    },
    "id": "9rlOfyLoTvb7",
    "outputId": "b98200a4-e5dd-47ac-ae54-4fdb9fa4278c"
   },
   "outputs": [
    {
     "data": {
      "text/plain": [
       "array([-55., -44., 108., 116., 118., 122., 131., 140., 146., 149.])"
      ]
     },
     "execution_count": 124,
     "metadata": {},
     "output_type": "execute_result"
    }
   ],
   "source": [
    "np.sort(a)"
   ]
  },
  {
   "cell_type": "markdown",
   "metadata": {
    "id": "43Bsps-YTvb7"
   },
   "source": [
    "Индексы сортированного массива"
   ]
  },
  {
   "cell_type": "code",
   "execution_count": 125,
   "metadata": {
    "colab": {
     "base_uri": "https://localhost:8080/"
    },
    "id": "owRiHvIaTvb7",
    "outputId": "25115e0d-879d-4d00-d67a-d04a543130a2"
   },
   "outputs": [
    {
     "data": {
      "text/plain": [
       "array([2, 0, 4, 5, 7, 8, 1, 9, 6, 3])"
      ]
     },
     "execution_count": 125,
     "metadata": {},
     "output_type": "execute_result"
    }
   ],
   "source": [
    "np.argsort(a)"
   ]
  },
  {
   "cell_type": "code",
   "execution_count": 126,
   "metadata": {
    "colab": {
     "base_uri": "https://localhost:8080/"
    },
    "id": "aRkLnBT9Tvb8",
    "outputId": "d8d138e6-b3d8-4d8a-9094-a148d76c7ff8"
   },
   "outputs": [
    {
     "name": "stdout",
     "output_type": "stream",
     "text": [
      "[[8.18  8.607 0.07  5.107 4.174]\n",
      " [2.221 1.199 3.376 9.429 3.232]\n",
      " [5.188 7.03  3.636 9.718 9.624]\n",
      " [2.518 4.972 3.009 2.848 0.369]]\n"
     ]
    }
   ],
   "source": [
    "# создание матрицы для демонстрации примеров\n",
    "m = np.round(np.random.rand(4, 5) * 10, 3)\n",
    "print(m)"
   ]
  },
  {
   "cell_type": "code",
   "execution_count": 127,
   "metadata": {
    "colab": {
     "base_uri": "https://localhost:8080/"
    },
    "id": "84YmeFjbTvb8",
    "outputId": "9b98039b-2cd7-4180-e1ba-bba993c9f8a9"
   },
   "outputs": [
    {
     "data": {
      "text/plain": [
       "array([[2.221, 1.199, 0.07 , 2.848, 0.369],\n",
       "       [2.518, 4.972, 3.009, 5.107, 3.232],\n",
       "       [5.188, 7.03 , 3.376, 9.429, 4.174],\n",
       "       [8.18 , 8.607, 3.636, 9.718, 9.624]])"
      ]
     },
     "execution_count": 127,
     "metadata": {},
     "output_type": "execute_result"
    }
   ],
   "source": [
    "# сортировка по столбцам\n",
    "np.sort(m, axis=0)"
   ]
  },
  {
   "cell_type": "code",
   "execution_count": 128,
   "metadata": {
    "colab": {
     "base_uri": "https://localhost:8080/"
    },
    "id": "okFkToAQTvb8",
    "outputId": "0386d68a-eae7-4a37-f595-8834e01f0745"
   },
   "outputs": [
    {
     "data": {
      "text/plain": [
       "array([[0.07 , 4.174, 5.107, 8.18 , 8.607],\n",
       "       [1.199, 2.221, 3.232, 3.376, 9.429],\n",
       "       [3.636, 5.188, 7.03 , 9.624, 9.718],\n",
       "       [0.369, 2.518, 2.848, 3.009, 4.972]])"
      ]
     },
     "execution_count": 128,
     "metadata": {},
     "output_type": "execute_result"
    }
   ],
   "source": [
    "# сортировка по строкам\n",
    "np.sort(m, axis=1)"
   ]
  },
  {
   "cell_type": "markdown",
   "metadata": {
    "id": "CFMuTsb4Tvb8"
   },
   "source": [
    "<span style=\"color:blue\">Отсортируйте все столбцы по первому столбцу:</span>"
   ]
  },
  {
   "cell_type": "code",
   "execution_count": 129,
   "metadata": {
    "colab": {
     "base_uri": "https://localhost:8080/"
    },
    "id": "Ibb3k_dYTvb8",
    "outputId": "7c788893-27ef-474f-de4d-1b57a2fd4b7c"
   },
   "outputs": [
    {
     "name": "stdout",
     "output_type": "stream",
     "text": [
      "[[6 3 7]\n",
      " [4 6 9]\n",
      " [2 6 7]\n",
      " [4 3 7]\n",
      " [7 2 5]]\n",
      "\n",
      "[[7 2 5]\n",
      " [6 3 7]\n",
      " [4 3 7]\n",
      " [4 6 9]\n",
      " [2 6 7]]\n"
     ]
    }
   ],
   "source": [
    "np.random.seed(42)\n",
    "a = np.random.randint(0, 10, (5, 3))\n",
    "print(a)\n",
    "print()\n",
    "print(a[a[:, 1].argsort()])"
   ]
  },
  {
   "cell_type": "code",
   "execution_count": 130,
   "metadata": {
    "colab": {
     "base_uri": "https://localhost:8080/"
    },
    "id": "mOfL9kRc4v7Y",
    "outputId": "2cef9b75-85b5-482c-b220-c59690db74d6"
   },
   "outputs": [
    {
     "data": {
      "text/plain": [
       "array([4, 0, 3, 1, 2])"
      ]
     },
     "execution_count": 130,
     "metadata": {},
     "output_type": "execute_result"
    }
   ],
   "source": [
    "a[:, 1].argsort()"
   ]
  },
  {
   "cell_type": "code",
   "execution_count": 131,
   "metadata": {
    "colab": {
     "base_uri": "https://localhost:8080/"
    },
    "id": "MW-gEBQZ52Ru",
    "outputId": "6e1c66e4-983a-4b58-e537-9d5d7af18da7"
   },
   "outputs": [
    {
     "name": "stdout",
     "output_type": "stream",
     "text": [
      "[[7 2 5]\n",
      " [6 3 7]\n",
      " [4 3 7]\n",
      " [4 6 9]\n",
      " [2 6 7]]\n"
     ]
    }
   ],
   "source": [
    "print(a[np.array([4, 0, 3, 1, 2])])"
   ]
  },
  {
   "cell_type": "markdown",
   "metadata": {
    "id": "rFyycvfhTvb9"
   },
   "source": [
    "- **newaxis**"
   ]
  },
  {
   "cell_type": "markdown",
   "metadata": {
    "id": "VgNJ43TBTvb9"
   },
   "source": [
    "Добавление нового измерения"
   ]
  },
  {
   "cell_type": "code",
   "execution_count": 132,
   "metadata": {
    "colab": {
     "base_uri": "https://localhost:8080/"
    },
    "id": "53DvQ77TTvb9",
    "outputId": "d0e8e57b-fb8c-4b43-a572-ec76eba9479e"
   },
   "outputs": [
    {
     "name": "stdout",
     "output_type": "stream",
     "text": [
      "[ 1.  2.  3.  4.  5.  6.  7.  8.  9. 10.]\n",
      "(10,)\n"
     ]
    }
   ],
   "source": [
    "a = np.linspace(1, 10, 10)\n",
    "print(a)\n",
    "print(a.shape)"
   ]
  },
  {
   "cell_type": "code",
   "execution_count": 133,
   "metadata": {
    "colab": {
     "base_uri": "https://localhost:8080/"
    },
    "id": "5Y4pQ_a4Tvb9",
    "outputId": "af6996dc-e8fb-4f2d-94e4-c5376bff2e27"
   },
   "outputs": [
    {
     "name": "stdout",
     "output_type": "stream",
     "text": [
      "[[ 1.]\n",
      " [ 2.]\n",
      " [ 3.]\n",
      " [ 4.]\n",
      " [ 5.]\n",
      " [ 6.]\n",
      " [ 7.]\n",
      " [ 8.]\n",
      " [ 9.]\n",
      " [10.]]\n",
      "New shape  (10, 1)\n"
     ]
    }
   ],
   "source": [
    "print(a[:, np.newaxis])\n",
    "print(\"New shape \", a[:, np.newaxis].shape)"
   ]
  },
  {
   "cell_type": "code",
   "execution_count": 134,
   "metadata": {
    "colab": {
     "base_uri": "https://localhost:8080/"
    },
    "id": "0xkb9a_79kDd",
    "outputId": "ef66b4d7-1158-4831-8e35-ca99bda86005"
   },
   "outputs": [
    {
     "name": "stdout",
     "output_type": "stream",
     "text": [
      "[[ 1.  2.  3.  4.  5.  6.  7.  8.  9. 10.]]\n",
      "New shape  (1, 10)\n"
     ]
    }
   ],
   "source": [
    "print(a[np.newaxis, :])\n",
    "print(\"New shape \", a[np.newaxis, :].shape)"
   ]
  },
  {
   "cell_type": "code",
   "execution_count": 135,
   "metadata": {
    "colab": {
     "base_uri": "https://localhost:8080/"
    },
    "id": "T65IPZzPTvb-",
    "outputId": "ea193f2e-5173-4cc7-b3bf-33639085f4e5"
   },
   "outputs": [
    {
     "data": {
      "text/plain": [
       "array([[4, 1, 7, 5, 1, 4, 0, 9, 5, 8],\n",
       "       [0, 9, 2, 6, 3, 8, 2, 4, 2, 6],\n",
       "       [4, 8, 6, 1, 3, 8, 1, 9, 8, 9],\n",
       "       [4, 1, 3, 6, 7, 2, 0, 3, 1, 7],\n",
       "       [3, 1, 5, 5, 9, 3, 5, 1, 9, 1]])"
      ]
     },
     "execution_count": 135,
     "metadata": {},
     "output_type": "execute_result"
    }
   ],
   "source": [
    "m = np.random.randint(0, 10, (5, 10))\n",
    "m"
   ]
  },
  {
   "cell_type": "code",
   "execution_count": 136,
   "metadata": {
    "colab": {
     "base_uri": "https://localhost:8080/"
    },
    "id": "0RQbCPAjTvb-",
    "outputId": "4cd15b97-c4a6-4efe-8cf3-69e64f447326",
    "scrolled": true
   },
   "outputs": [
    {
     "data": {
      "text/plain": [
       "array([273., 235., 346., 189., 237.])"
      ]
     },
     "execution_count": 136,
     "metadata": {},
     "output_type": "execute_result"
    }
   ],
   "source": [
    "m @ a"
   ]
  },
  {
   "cell_type": "code",
   "execution_count": 137,
   "metadata": {
    "id": "OOtezYic-sJB"
   },
   "outputs": [],
   "source": [
    "b = a[:, np.newaxis]"
   ]
  },
  {
   "cell_type": "code",
   "execution_count": 138,
   "metadata": {
    "colab": {
     "base_uri": "https://localhost:8080/",
     "height": 183
    },
    "id": "IdDq0ugb-vlG",
    "outputId": "adecbf25-0bd1-4e23-9b25-30a3df631ec0"
   },
   "outputs": [
    {
     "data": {
      "text/plain": [
       "array([[273.],\n",
       "       [235.],\n",
       "       [346.],\n",
       "       [189.],\n",
       "       [237.]])"
      ]
     },
     "execution_count": 138,
     "metadata": {},
     "output_type": "execute_result"
    }
   ],
   "source": [
    "m @ b"
   ]
  },
  {
   "cell_type": "code",
   "execution_count": 139,
   "metadata": {
    "colab": {
     "base_uri": "https://localhost:8080/"
    },
    "id": "JbtJ65IzTvb-",
    "outputId": "89629c3f-bc3f-474d-c875-bc21bf2ddae9"
   },
   "outputs": [
    {
     "data": {
      "text/plain": [
       "array([[273.],\n",
       "       [235.],\n",
       "       [346.],\n",
       "       [189.],\n",
       "       [237.]])"
      ]
     },
     "execution_count": 139,
     "metadata": {},
     "output_type": "execute_result"
    }
   ],
   "source": [
    "m @ a[:, np.newaxis]"
   ]
  },
  {
   "cell_type": "code",
   "execution_count": 140,
   "metadata": {
    "colab": {
     "base_uri": "https://localhost:8080/"
    },
    "id": "HdVqeETvfYHB",
    "outputId": "5b026e42-8b1f-4488-a9c5-eb7c8e984f52"
   },
   "outputs": [
    {
     "data": {
      "text/plain": [
       "array([ 1.,  2.,  3.,  4.,  5.,  6.,  7.,  8.,  9., 10.])"
      ]
     },
     "execution_count": 140,
     "metadata": {},
     "output_type": "execute_result"
    }
   ],
   "source": [
    "a"
   ]
  },
  {
   "cell_type": "code",
   "execution_count": 148,
   "metadata": {
    "colab": {
     "base_uri": "https://localhost:8080/"
    },
    "id": "LyFqHyt9Tvb-",
    "outputId": "79e3935e-8b56-4cea-f960-6905695b90f6"
   },
   "outputs": [
    {
     "name": "stdout",
     "output_type": "stream",
     "text": [
      "[[[[ 1.]]\n",
      "\n",
      "  [[ 2.]]]\n",
      "\n",
      "\n",
      " [[[ 3.]]\n",
      "\n",
      "  [[ 4.]]]\n",
      "\n",
      "\n",
      " [[[ 5.]]\n",
      "\n",
      "  [[ 6.]]]\n",
      "\n",
      "\n",
      " [[[ 7.]]\n",
      "\n",
      "  [[ 8.]]]\n",
      "\n",
      "\n",
      " [[[ 9.]]\n",
      "\n",
      "  [[10.]]]]\n",
      "(5, 2, 1, 1)\n",
      "------------------------\n",
      "(5, 2, 1, 1, 1, 1)\n",
      "------------------------\n",
      "New shape  (5, 1, 1, 2, 1, 1)\n"
     ]
    }
   ],
   "source": [
    "m = a.reshape((5, 2, 1, 1))\n",
    "print(m)\n",
    "print(m.shape)\n",
    "print('------------------------')\n",
    "print(m[..., np.newaxis, np.newaxis].shape)  # print(m[*m.shape, np.newaxis, np.newaxis].shape)\n",
    "print('------------------------')\n",
    "# print(m[:, np.newaxis, np.newaxis])\n",
    "print(\"New shape \", m[:, np.newaxis, np.newaxis].shape)"
   ]
  },
  {
   "cell_type": "code",
   "execution_count": 145,
   "metadata": {},
   "outputs": [
    {
     "data": {
      "text/plain": [
       "(5, 1, 1, 2, 1, 1)"
      ]
     },
     "execution_count": 145,
     "metadata": {},
     "output_type": "execute_result"
    }
   ],
   "source": [
    "m[:, None, None].shape"
   ]
  },
  {
   "cell_type": "markdown",
   "metadata": {
    "id": "ryIZbx2BTvb_"
   },
   "source": [
    "- **any all**"
   ]
  },
  {
   "cell_type": "markdown",
   "metadata": {
    "id": "ExfZWp6lTvb_"
   },
   "source": [
    "`Any` возвращает True, если хотя бы один элемент `True`   \n",
    "`All` возвращает True, если все элементы `True`"
   ]
  },
  {
   "cell_type": "code",
   "execution_count": 149,
   "metadata": {
    "colab": {
     "base_uri": "https://localhost:8080/"
    },
    "id": "mgxHXR5ITvb_",
    "outputId": "4e8c700d-5c7d-49f2-a615-74a10382b5ea"
   },
   "outputs": [
    {
     "data": {
      "text/plain": [
       "True"
      ]
     },
     "execution_count": 149,
     "metadata": {},
     "output_type": "execute_result"
    }
   ],
   "source": [
    "any([True, True, False, True, False, False, False])"
   ]
  },
  {
   "cell_type": "code",
   "execution_count": 150,
   "metadata": {
    "colab": {
     "base_uri": "https://localhost:8080/"
    },
    "id": "17NO8kGfTvb_",
    "outputId": "11f56582-ac57-4e39-ac58-acc1c066df1e"
   },
   "outputs": [
    {
     "data": {
      "text/plain": [
       "False"
      ]
     },
     "execution_count": 150,
     "metadata": {},
     "output_type": "execute_result"
    }
   ],
   "source": [
    "all([True, True, False, True, False, False, False])"
   ]
  },
  {
   "cell_type": "code",
   "execution_count": 151,
   "metadata": {
    "colab": {
     "base_uri": "https://localhost:8080/"
    },
    "id": "-mlVnGwTTvcA",
    "outputId": "0414e8bb-eaa2-44bd-ade2-8167dea36bbb"
   },
   "outputs": [
    {
     "data": {
      "text/plain": [
       "array([ True,  True,  True,  True])"
      ]
     },
     "execution_count": 151,
     "metadata": {},
     "output_type": "execute_result"
    }
   ],
   "source": [
    "np.array([1, 1, 0, 2]) == np.array([1, 1, 0, 2])"
   ]
  },
  {
   "cell_type": "code",
   "execution_count": 152,
   "metadata": {
    "colab": {
     "base_uri": "https://localhost:8080/"
    },
    "id": "zkkJajFYTvcA",
    "outputId": "e115c246-9d64-4022-dc96-964a8ba72a77"
   },
   "outputs": [
    {
     "data": {
      "text/plain": [
       "True"
      ]
     },
     "execution_count": 152,
     "metadata": {},
     "output_type": "execute_result"
    }
   ],
   "source": [
    "# сравнение векторов\n",
    "all(np.array([1, 1, 0, 2]) == np.array([1, 1, 0, 2]))"
   ]
  },
  {
   "cell_type": "code",
   "execution_count": 153,
   "metadata": {
    "colab": {
     "base_uri": "https://localhost:8080/"
    },
    "id": "4yf_7wqYTvcA",
    "outputId": "4bd33909-4f85-42b2-ef5a-188acc1b1177"
   },
   "outputs": [
    {
     "data": {
      "text/plain": [
       "False"
      ]
     },
     "execution_count": 153,
     "metadata": {},
     "output_type": "execute_result"
    }
   ],
   "source": [
    "all(np.array([1, 1, 0, 0]) == np.array([1, 1, 0, 2]))"
   ]
  },
  {
   "cell_type": "code",
   "execution_count": 154,
   "metadata": {
    "colab": {
     "base_uri": "https://localhost:8080/"
    },
    "id": "y2olgB-oTvcA",
    "outputId": "1e525749-89a0-4809-cc11-0c3e863dc097"
   },
   "outputs": [
    {
     "data": {
      "text/plain": [
       "True"
      ]
     },
     "execution_count": 154,
     "metadata": {},
     "output_type": "execute_result"
    }
   ],
   "source": [
    "any(np.array([1, 1, 0, 0]) == np.array([1, 1, 0, 2]))"
   ]
  },
  {
   "cell_type": "markdown",
   "metadata": {
    "id": "wH9wOaNATvcB"
   },
   "source": [
    "- Методы all и any"
   ]
  },
  {
   "cell_type": "code",
   "execution_count": 155,
   "metadata": {
    "colab": {
     "base_uri": "https://localhost:8080/"
    },
    "id": "nRGXIj0P_v2_",
    "outputId": "6fd6f305-ae48-455f-8ad0-b595c42752e2"
   },
   "outputs": [
    {
     "data": {
      "text/plain": [
       "array([ True,  True, False, False,  True,  True,  True,  True])"
      ]
     },
     "execution_count": 155,
     "metadata": {},
     "output_type": "execute_result"
    }
   ],
   "source": [
    "np.array([1, 1, 0, 8, 1, 5, 1, 1]) == np.array([1, 1, 3, 2, 1, 5, 1, 1])"
   ]
  },
  {
   "cell_type": "code",
   "execution_count": 156,
   "metadata": {
    "colab": {
     "base_uri": "https://localhost:8080/"
    },
    "id": "eayCygyyTvcB",
    "outputId": "2112ab9b-3f57-4d0d-a17e-2526568becbc"
   },
   "outputs": [
    {
     "name": "stdout",
     "output_type": "stream",
     "text": [
      "[[ True  True False False]\n",
      " [ True  True  True  True]]\n"
     ]
    }
   ],
   "source": [
    "a = (np.array([1, 1, 0, 8, 1, 5, 1, 1]) == np.array([1, 1, 3, 2, 1, 5, 1, 1])).reshape((2, 4))\n",
    "print(a)"
   ]
  },
  {
   "cell_type": "code",
   "execution_count": 157,
   "metadata": {
    "colab": {
     "base_uri": "https://localhost:8080/"
    },
    "id": "gzFk5t0sTvcB",
    "outputId": "d01aaf9e-7968-4bb1-b18c-b8db0823e7e5"
   },
   "outputs": [
    {
     "data": {
      "text/plain": [
       "array([ True,  True])"
      ]
     },
     "execution_count": 157,
     "metadata": {},
     "output_type": "execute_result"
    }
   ],
   "source": [
    "# any по строкам\n",
    "a.any(axis=1)"
   ]
  },
  {
   "cell_type": "code",
   "execution_count": 158,
   "metadata": {
    "colab": {
     "base_uri": "https://localhost:8080/"
    },
    "id": "Z87iUrmxTvcB",
    "outputId": "3dcba62c-ddf6-42a7-fc56-95f16315a3aa"
   },
   "outputs": [
    {
     "data": {
      "text/plain": [
       "array([ True,  True,  True,  True])"
      ]
     },
     "execution_count": 158,
     "metadata": {},
     "output_type": "execute_result"
    }
   ],
   "source": [
    "# any по столбцам\n",
    "a.any(axis=0)"
   ]
  },
  {
   "cell_type": "code",
   "execution_count": 159,
   "metadata": {
    "colab": {
     "base_uri": "https://localhost:8080/"
    },
    "id": "3JLkylevTvcB",
    "outputId": "c5377078-ef57-4961-f521-46d15f32dd8b"
   },
   "outputs": [
    {
     "data": {
      "text/plain": [
       "False"
      ]
     },
     "execution_count": 159,
     "metadata": {},
     "output_type": "execute_result"
    }
   ],
   "source": [
    "# По строкам и столбцам\n",
    "a.all((0, 1)) # берем элементы по осям исходной подматрицы с индексами 0 и 1"
   ]
  },
  {
   "cell_type": "code",
   "execution_count": null,
   "metadata": {
    "id": "RlmidpknAO9m"
   },
   "outputs": [],
   "source": [
    "a.all?"
   ]
  },
  {
   "cell_type": "markdown",
   "metadata": {
    "id": "5voWLDRbTvcC"
   },
   "source": [
    "- diff   \n",
    "out[n] = a[n+1] - a[n]"
   ]
  },
  {
   "cell_type": "code",
   "execution_count": 160,
   "metadata": {
    "colab": {
     "base_uri": "https://localhost:8080/"
    },
    "id": "fjtP-vvdTvcC",
    "outputId": "8aeea68c-2964-407a-dbf1-df39f1d924db"
   },
   "outputs": [
    {
     "name": "stdout",
     "output_type": "stream",
     "text": [
      "[1 2 4 7 0]\n",
      "[ 1  2  3 -7]\n"
     ]
    }
   ],
   "source": [
    "a = np.array([1, 2, 4, 7, 0])\n",
    "print(a)\n",
    "print(np.diff(a))"
   ]
  },
  {
   "cell_type": "markdown",
   "metadata": {
    "id": "nqjDH15ATvcC"
   },
   "source": [
    "- split (забиение на части)"
   ]
  },
  {
   "cell_type": "code",
   "execution_count": 161,
   "metadata": {
    "colab": {
     "base_uri": "https://localhost:8080/"
    },
    "id": "rVe1vq3TTvcC",
    "outputId": "d3b06320-4362-4bb6-c753-c16908c37c7f"
   },
   "outputs": [
    {
     "name": "stdout",
     "output_type": "stream",
     "text": [
      "[0 1 2 3 4 5 6 7 8 9]\n"
     ]
    }
   ],
   "source": [
    "a = np.arange(10)\n",
    "print(a)"
   ]
  },
  {
   "cell_type": "code",
   "execution_count": 162,
   "metadata": {
    "colab": {
     "base_uri": "https://localhost:8080/"
    },
    "id": "Nl63I91DTvcD",
    "outputId": "dc851af9-5e2c-4345-a6b4-c705542ee5c6"
   },
   "outputs": [
    {
     "data": {
      "text/plain": [
       "[array([0, 1]), array([2, 3, 4, 5, 6]), array([7, 8, 9])]"
      ]
     },
     "execution_count": 162,
     "metadata": {},
     "output_type": "execute_result"
    }
   ],
   "source": [
    "np.split(a, [2, 7])  # разбивает по индексам 2 и 7"
   ]
  },
  {
   "cell_type": "markdown",
   "metadata": {
    "id": "56zwXFOYTvcD"
   },
   "source": [
    "## <a id=\"Вычисление статистик\"><span style=\"color:green\">Вычисление статистик</span></a>"
   ]
  },
  {
   "cell_type": "code",
   "execution_count": 163,
   "metadata": {
    "colab": {
     "base_uri": "https://localhost:8080/"
    },
    "id": "KtwTBC4iTvcD",
    "outputId": "596060b8-ab88-43d4-97cc-0be0224bea6e"
   },
   "outputs": [
    {
     "name": "stdout",
     "output_type": "stream",
     "text": [
      "[[63 51  3 37]\n",
      " [ 4 61 67 51]\n",
      " [29 69 42 13]\n",
      " [15 49 30 18]\n",
      " [ 4 34 54 60]]\n"
     ]
    }
   ],
   "source": [
    "a = np.random.randint(-10, 70, (5, 4))\n",
    "print(a)"
   ]
  },
  {
   "cell_type": "markdown",
   "metadata": {
    "id": "odwIPEUSTvcD"
   },
   "source": [
    "- среднее"
   ]
  },
  {
   "cell_type": "code",
   "execution_count": 164,
   "metadata": {
    "colab": {
     "base_uri": "https://localhost:8080/"
    },
    "id": "qgqtHV8eTvcE",
    "outputId": "c0560829-4610-486e-cb90-93c85d543338"
   },
   "outputs": [
    {
     "data": {
      "text/plain": [
       "37.7"
      ]
     },
     "execution_count": 164,
     "metadata": {},
     "output_type": "execute_result"
    }
   ],
   "source": [
    "a.mean()"
   ]
  },
  {
   "cell_type": "code",
   "execution_count": 165,
   "metadata": {
    "colab": {
     "base_uri": "https://localhost:8080/"
    },
    "id": "vzHM-6m3TvcE",
    "outputId": "b3bbe9c8-f68a-48bc-b883-c89a08718e8b"
   },
   "outputs": [
    {
     "data": {
      "text/plain": [
       "array([23. , 52.8, 39.2, 35.8])"
      ]
     },
     "execution_count": 165,
     "metadata": {},
     "output_type": "execute_result"
    }
   ],
   "source": [
    "# среднее по столбцам\n",
    "a.mean(axis=0)"
   ]
  },
  {
   "cell_type": "code",
   "execution_count": 166,
   "metadata": {
    "colab": {
     "base_uri": "https://localhost:8080/"
    },
    "id": "OeEiND14TvcE",
    "outputId": "846956d7-cc0d-4725-b94c-dfc4e44a1bca"
   },
   "outputs": [
    {
     "data": {
      "text/plain": [
       "array([38.5 , 45.75, 38.25, 28.  , 38.  ])"
      ]
     },
     "execution_count": 166,
     "metadata": {},
     "output_type": "execute_result"
    }
   ],
   "source": [
    "# среднее по строкам\n",
    "a.mean(axis=1)"
   ]
  },
  {
   "cell_type": "markdown",
   "metadata": {
    "id": "yGo6WYfYTvcE"
   },
   "source": [
    "- медиана"
   ]
  },
  {
   "cell_type": "code",
   "execution_count": 167,
   "metadata": {
    "colab": {
     "base_uri": "https://localhost:8080/"
    },
    "id": "TR2Dqe1NTvcF",
    "outputId": "8e1aff69-572b-4671-f823-0dc70f1a0b94"
   },
   "outputs": [
    {
     "name": "stdout",
     "output_type": "stream",
     "text": [
      "39.5\n",
      "[15. 51. 42. 37.]\n",
      "[44.  56.  35.5 24.  44. ]\n"
     ]
    }
   ],
   "source": [
    "print(np.median(a))\n",
    "print(np.median(a, axis=0))\n",
    "print(np.median(a, axis=1))"
   ]
  },
  {
   "cell_type": "markdown",
   "metadata": {
    "id": "D1dhHxyETvcF"
   },
   "source": [
    "- максимум и минимум"
   ]
  },
  {
   "cell_type": "code",
   "execution_count": 168,
   "metadata": {
    "colab": {
     "base_uri": "https://localhost:8080/"
    },
    "id": "YR88t5NVTvcF",
    "outputId": "d3ceccf8-78dd-475e-88ab-5e2472b37c51"
   },
   "outputs": [
    {
     "name": "stdout",
     "output_type": "stream",
     "text": [
      "[[63 51  3 37]\n",
      " [ 4 61 67 51]\n",
      " [29 69 42 13]\n",
      " [15 49 30 18]\n",
      " [ 4 34 54 60]]\n"
     ]
    }
   ],
   "source": [
    "print(a)"
   ]
  },
  {
   "cell_type": "code",
   "execution_count": 170,
   "metadata": {
    "colab": {
     "base_uri": "https://localhost:8080/"
    },
    "id": "K94gSHCvTvcF",
    "outputId": "1d8e8eb1-1b3c-4fbb-c65a-2ffee8859573"
   },
   "outputs": [
    {
     "name": "stdout",
     "output_type": "stream",
     "text": [
      "69\n",
      "[63 69 67 60]\n",
      "[0 2 1 4]\n",
      "[63 67 69 49 60]\n",
      "[0 2 1 1 3]\n"
     ]
    }
   ],
   "source": [
    "print(a.max())              # максимальный элемент\n",
    "print(a.max(axis=0))        # максимумы по столбцам\n",
    "print(a.argmax(axis=0))     # индексы строк максимумов по столбцам\n",
    "print(a.max(axis=1))        # максимумы по строкам\n",
    "print(a.argmax(axis=1))     # индексы столбцов максимумов по строкам"
   ]
  },
  {
   "cell_type": "markdown",
   "metadata": {
    "id": "F2Gc-AHRTvcG"
   },
   "source": [
    "- счетчик"
   ]
  },
  {
   "cell_type": "code",
   "execution_count": 171,
   "metadata": {
    "colab": {
     "base_uri": "https://localhost:8080/"
    },
    "id": "lUrDR_csTvcG",
    "outputId": "fe6b3158-2caa-40e5-8850-b83765d409ca"
   },
   "outputs": [
    {
     "data": {
      "text/plain": [
       "array([1, 1, 1, 1, 1])"
      ]
     },
     "execution_count": 171,
     "metadata": {},
     "output_type": "execute_result"
    }
   ],
   "source": [
    "np.bincount(np.arange(5))\n",
    "# np.arange(5) == array([0, 1, 2, 3, 4])\n",
    "# [0, 1, 2, 3, 4]"
   ]
  },
  {
   "cell_type": "code",
   "execution_count": 172,
   "metadata": {
    "colab": {
     "base_uri": "https://localhost:8080/"
    },
    "id": "hzZ2TbhFTvcG",
    "outputId": "e41e8c2b-9b7f-463d-ca81-2b22b5d98d42"
   },
   "outputs": [
    {
     "data": {
      "text/plain": [
       "array([1, 3, 1, 1, 0, 0, 0, 1])"
      ]
     },
     "execution_count": 172,
     "metadata": {},
     "output_type": "execute_result"
    }
   ],
   "source": [
    "np.bincount(np.array([0, 1, 1, 3, 2, 1, 7]))\n",
    "# [0, 1, 2, 3, 4, 5, 6, 7]"
   ]
  },
  {
   "cell_type": "markdown",
   "metadata": {
    "id": "XSy2TA6aTvcG"
   },
   "source": [
    "Как это получилось? Получили массив соответсвующий диапазону от 0 до max. И посчитали кол-во попаданий в 0, 1, 2, ... max."
   ]
  },
  {
   "cell_type": "code",
   "execution_count": 173,
   "metadata": {
    "colab": {
     "base_uri": "https://localhost:8080/"
    },
    "id": "6DvhRkkrTvcG",
    "outputId": "30730517-8f4c-4e39-90bd-3a99d94b2fdd"
   },
   "outputs": [
    {
     "name": "stdout",
     "output_type": "stream",
     "text": [
      "[17.  8. 13.]\n"
     ]
    }
   ],
   "source": [
    "# с помощью аргумента weights можно посчитать сумму части эелемента массива\n",
    "sub_sums = np.bincount(np.array([2, 0, 2, 1, 0, 0, 2, 2, 0, 1]), \n",
    "                        weights=[4, 4, 2, 3, 5, 1, 6, 1, 7, 5])\n",
    "# [0, 1, 2]\n",
    "# 0 -> 4 + 5 + 1 + 7 = 17\n",
    "# 1 -> 3 + 5 = 8\n",
    "# 2 -> 4 + 2 + 6 + 1 = 13\n",
    "print(sub_sums)"
   ]
  },
  {
   "cell_type": "markdown",
   "metadata": {
    "id": "3yOOmB-5TvcH"
   },
   "source": [
    "<span style=\"color:blue\">Как найти наиболее частое значение в массиве?</span>"
   ]
  },
  {
   "cell_type": "code",
   "execution_count": 174,
   "metadata": {
    "colab": {
     "base_uri": "https://localhost:8080/"
    },
    "id": "ZfmYhm6xTvcH",
    "outputId": "e7521eda-71e0-4ed0-b24f-5b25269fbe78"
   },
   "outputs": [
    {
     "name": "stdout",
     "output_type": "stream",
     "text": [
      "[8 7 0 7 7 2 0 7 2 2 0 4 9 6 9 8 6 8 7 1 0 6 6 7 4 2 7 5 2 0 2 4 2 0 4 9 6\n",
      " 6 8 9 9 2 6 0 3 3 4 6 6 3]\n",
      "6\n"
     ]
    }
   ],
   "source": [
    "z = np.random.randint(0, 10, 50)\n",
    "print(z)\n",
    "print(np.bincount(z).argmax())"
   ]
  },
  {
   "cell_type": "code",
   "execution_count": 175,
   "metadata": {
    "colab": {
     "base_uri": "https://localhost:8080/"
    },
    "id": "U79QnWqfD4zF",
    "outputId": "b111ab43-22b2-492a-bde4-aef265ecce69"
   },
   "outputs": [
    {
     "data": {
      "text/plain": [
       "array([7, 1, 8, 3, 5, 1, 9, 7, 4, 5])"
      ]
     },
     "execution_count": 175,
     "metadata": {},
     "output_type": "execute_result"
    }
   ],
   "source": [
    "np.bincount(z)"
   ]
  },
  {
   "cell_type": "code",
   "execution_count": null,
   "metadata": {
    "id": "fYY-NNtqTvcH"
   },
   "outputs": [],
   "source": [
    "# Задачи"
   ]
  },
  {
   "cell_type": "markdown",
   "metadata": {
    "id": "1RYPOSXZElN1"
   },
   "source": [
    "Создайте массив из 100 элементов (от 1 до 100), переформатируйте в формат (10 * 10), сделайте слайсинг с шагом 2 по каждой оси."
   ]
  },
  {
   "cell_type": "code",
   "execution_count": 176,
   "metadata": {
    "colab": {
     "base_uri": "https://localhost:8080/"
    },
    "id": "X7vGIUKuTvcH",
    "outputId": "cabf6f12-42a8-4e5c-c2c2-be15c5c2d24f"
   },
   "outputs": [
    {
     "data": {
      "text/plain": [
       "array([12, 31, 70, 58, 85, 27, 65, 41, 44, 61, 56,  5, 27, 27, 43, 83, 29,\n",
       "       61, 74, 91, 88, 61, 96,  0, 26, 61, 76,  2, 69, 71, 26,  8, 61, 36,\n",
       "       96, 50, 43, 23, 78, 58, 31, 95, 87, 51, 61, 57, 51, 11, 38,  1,  2,\n",
       "       55, 80, 58,  1,  1, 91, 53, 86, 95, 96,  0, 18,  1, 52, 43, 89, 31,\n",
       "       69, 31, 67, 54, 74, 55, 16, 37, 23, 68, 97, 69, 85, 10, 15, 96, 72,\n",
       "       58, 69, 79, 92,  2, 19, 58, 35, 18, 89, 66, 18, 19, 95, 70])"
      ]
     },
     "execution_count": 176,
     "metadata": {},
     "output_type": "execute_result"
    }
   ],
   "source": [
    "z = np.random.randint(0, 100, 100) \n",
    "z"
   ]
  },
  {
   "cell_type": "code",
   "execution_count": 177,
   "metadata": {
    "colab": {
     "base_uri": "https://localhost:8080/"
    },
    "id": "a2zAOqvdFDI1",
    "outputId": "e427ba82-54b3-4e5a-ccf7-0b6c74ae162d"
   },
   "outputs": [
    {
     "data": {
      "text/plain": [
       "array([  1,   2,   3,   4,   5,   6,   7,   8,   9,  10,  11,  12,  13,\n",
       "        14,  15,  16,  17,  18,  19,  20,  21,  22,  23,  24,  25,  26,\n",
       "        27,  28,  29,  30,  31,  32,  33,  34,  35,  36,  37,  38,  39,\n",
       "        40,  41,  42,  43,  44,  45,  46,  47,  48,  49,  50,  51,  52,\n",
       "        53,  54,  55,  56,  57,  58,  59,  60,  61,  62,  63,  64,  65,\n",
       "        66,  67,  68,  69,  70,  71,  72,  73,  74,  75,  76,  77,  78,\n",
       "        79,  80,  81,  82,  83,  84,  85,  86,  87,  88,  89,  90,  91,\n",
       "        92,  93,  94,  95,  96,  97,  98,  99, 100])"
      ]
     },
     "execution_count": 177,
     "metadata": {},
     "output_type": "execute_result"
    }
   ],
   "source": [
    "arr = np.arange(1, 101)\n",
    "arr"
   ]
  },
  {
   "cell_type": "code",
   "execution_count": 178,
   "metadata": {
    "colab": {
     "base_uri": "https://localhost:8080/"
    },
    "id": "4vqjtIaIFxaI",
    "outputId": "f69642d4-f528-4912-c089-309e55ea9c4a"
   },
   "outputs": [
    {
     "data": {
      "text/plain": [
       "array([[  1,   2,   3,   4,   5,   6,   7,   8,   9,  10],\n",
       "       [ 11,  12,  13,  14,  15,  16,  17,  18,  19,  20],\n",
       "       [ 21,  22,  23,  24,  25,  26,  27,  28,  29,  30],\n",
       "       [ 31,  32,  33,  34,  35,  36,  37,  38,  39,  40],\n",
       "       [ 41,  42,  43,  44,  45,  46,  47,  48,  49,  50],\n",
       "       [ 51,  52,  53,  54,  55,  56,  57,  58,  59,  60],\n",
       "       [ 61,  62,  63,  64,  65,  66,  67,  68,  69,  70],\n",
       "       [ 71,  72,  73,  74,  75,  76,  77,  78,  79,  80],\n",
       "       [ 81,  82,  83,  84,  85,  86,  87,  88,  89,  90],\n",
       "       [ 91,  92,  93,  94,  95,  96,  97,  98,  99, 100]])"
      ]
     },
     "execution_count": 178,
     "metadata": {},
     "output_type": "execute_result"
    }
   ],
   "source": [
    "arr = np.arange(1, 101, 1).reshape((10, 10))\n",
    "arr"
   ]
  },
  {
   "cell_type": "code",
   "execution_count": 179,
   "metadata": {
    "colab": {
     "base_uri": "https://localhost:8080/"
    },
    "id": "pIVbgBYrGdvg",
    "outputId": "cbcf38cf-0003-4986-8622-e589580022c2"
   },
   "outputs": [
    {
     "data": {
      "text/plain": [
       "array([[ 1,  3,  5,  7,  9],\n",
       "       [21, 23, 25, 27, 29],\n",
       "       [41, 43, 45, 47, 49],\n",
       "       [61, 63, 65, 67, 69],\n",
       "       [81, 83, 85, 87, 89]])"
      ]
     },
     "execution_count": 179,
     "metadata": {},
     "output_type": "execute_result"
    }
   ],
   "source": [
    "arr = np.arange(1, 101, 1).reshape((10, 10))[::2, ::2]\n",
    "arr"
   ]
  },
  {
   "cell_type": "code",
   "execution_count": 180,
   "metadata": {
    "id": "pU3ce6d-G5jZ"
   },
   "outputs": [],
   "source": [
    "shape = (720, 1080, 3)\n",
    "ndim = 3\n",
    "size = 720 * 1080 * 3"
   ]
  },
  {
   "cell_type": "code",
   "execution_count": 181,
   "metadata": {},
   "outputs": [
    {
     "data": {
      "text/plain": [
       "2332800"
      ]
     },
     "execution_count": 181,
     "metadata": {},
     "output_type": "execute_result"
    }
   ],
   "source": [
    "size"
   ]
  },
  {
   "cell_type": "code",
   "execution_count": 182,
   "metadata": {},
   "outputs": [
    {
     "data": {
      "text/plain": [
       "18662400"
      ]
     },
     "execution_count": 182,
     "metadata": {},
     "output_type": "execute_result"
    }
   ],
   "source": [
    "2332800 * 8"
   ]
  },
  {
   "cell_type": "code",
   "execution_count": null,
   "metadata": {},
   "outputs": [],
   "source": []
  }
 ],
 "metadata": {
  "colab": {
   "provenance": []
  },
  "kernelspec": {
   "display_name": "Python 3 (ipykernel)",
   "language": "python",
   "name": "python3"
  },
  "language_info": {
   "codemirror_mode": {
    "name": "ipython",
    "version": 3
   },
   "file_extension": ".py",
   "mimetype": "text/x-python",
   "name": "python",
   "nbconvert_exporter": "python",
   "pygments_lexer": "ipython3",
   "version": "3.8.12"
  }
 },
 "nbformat": 4,
 "nbformat_minor": 1
}
