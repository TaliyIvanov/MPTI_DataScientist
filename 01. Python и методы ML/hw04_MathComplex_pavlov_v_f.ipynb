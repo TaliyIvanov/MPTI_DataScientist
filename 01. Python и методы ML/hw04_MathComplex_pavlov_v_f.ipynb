{
  "cells": [
    {
      "cell_type": "markdown",
      "metadata": {
        "id": "ehMkXe5IvhsQ"
      },
      "source": [
        "# Домашнее задание 4"
      ]
    },
    {
      "cell_type": "markdown",
      "metadata": {
        "id": "KM7tnu8SnXX6"
      },
      "source": [
        "В этом задании вам нужно реализовать класс `MathComplex` для комплексных чисел. Они должны быть идентичны привычным нам комплексным числам из математики, а не объектам класса `complex` из питона. Например, число `0+1i` должно печататься как `i`, число `42+0i` как просто `42`."
      ]
    },
    {
      "cell_type": "markdown",
      "metadata": {
        "id": "HB110VgAvhsU"
      },
      "source": [
        "Вспомнить базовые свойства и операции комплексных чисел можно [здесь](http://www.mathprofi.ru/kompleksnye_chisla_dlya_chainikov.html) и [здесь](http://mathportal.net/index.php/kompleksnye-chisla/dejstviya-s-kompleksnymi-chislami)."
      ]
    },
    {
      "cell_type": "markdown",
      "metadata": {
        "id": "PI6TSugmvhsU"
      },
      "source": [
        "Задание состоит из 4 последовательных пунктов:\n",
        "1. реализовать методы `__init__` и нахождение модуля `__abs__`. Атрибуты назовите `real` и `imag`\n",
        "2. красивый вывод на печать (достаточно реализовать `__repr__`). Для обозначения мнимой части используйте символ `i`.\n",
        "3. перегрузить операторы:\n",
        "    - сложения\n",
        "    - умножения\n",
        "    - вычитания\n",
        "    - деления (`__truediv__`)\n",
        "4. Этот пункт стоит __2 балла__. В математике у нас определены выражения вида (1+5i)  + 42. Если перевести это на язык объектов питона, то мы к комплексному числу прибавляем объект `int`. Поэтому теперь вам нужно отнаследовать класс `ExtendedComplex` и реализовать в нем соответствующие специальные методы, чтобы арифметические операции из пункта 2 выполнялись еще и с операндами типа `int/float`. Немного подробнее: если `а` - объект любого из классов `(int, float, ExtendedComplex`), x - экземпляр `ExtendedComplex`, то должны выполняться оба выражения `x + a` и `a + x`.\n",
        "\n",
        "*Подсказки для 4 пункта*: вспомните про функцию `isinstance`, а также поищите специальные методы для правых выражений (`a + x`) [тут](https://pythonworld.ru/osnovy/peregruzka-operatorov.html). Например, `__radd__`.\n",
        "\n",
        "Если у вас возникли вопросы, что должно печататься или получаться для той или иной операции, то загляните в ячейки с тестами или спросите в чате."
      ]
    },
    {
      "cell_type": "code",
      "execution_count": null,
      "metadata": {
        "id": "Dd3bbqFRnqn5"
      },
      "outputs": [],
      "source": [
        "class MathComplex:\n",
        "    # ваш код здесь\n",
        "    pass"
      ]
    },
    {
      "cell_type": "markdown",
      "metadata": {
        "id": "vJaEN8w8vhsW"
      },
      "source": [
        "Тесты для __пункта 1__:"
      ]
    },
    {
      "cell_type": "code",
      "execution_count": null,
      "metadata": {
        "id": "H1QtPl_PwPrd"
      },
      "outputs": [],
      "source": [
        "# test 1 for __init__ and __abs__\n",
        "e = MathComplex()\n",
        "a = MathComplex(2, 1)\n",
        "b = MathComplex(4, 3)\n",
        "\n",
        "assert e.imag == 0 and e.real == 0\n",
        "assert a.imag == 1 and a.real == 2\n",
        "assert b.real == 4 and b.imag == 3\n",
        "assert abs(b) == 5\n",
        "assert round(abs(a), 3) == 2.236"
      ]
    },
    {
      "cell_type": "markdown",
      "metadata": {
        "id": "2aEfAhOcvhsX"
      },
      "source": [
        "Тесты для __пункта 2__:"
      ]
    },
    {
      "cell_type": "code",
      "execution_count": null,
      "metadata": {
        "id": "0INS0l6gvhsX"
      },
      "outputs": [],
      "source": [
        "# test 2 for __repr__\n",
        "\n",
        "e = MathComplex()\n",
        "a = MathComplex(2, 1)\n",
        "b = MathComplex(4, 3)\n",
        "\n",
        "assert str(MathComplex(0, 1)) == 'i'\n",
        "assert str(MathComplex(0, -1)) == '-i'\n",
        "assert str(MathComplex(42, 0)) == '42'\n",
        "assert str(a) == '2+i'\n",
        "assert str(MathComplex(-42, -42)) == '-42-42i'"
      ]
    },
    {
      "cell_type": "markdown",
      "metadata": {
        "id": "b2p_ST_YvhsY"
      },
      "source": [
        "Тесты для __пункта 3__:"
      ]
    },
    {
      "cell_type": "code",
      "execution_count": null,
      "metadata": {
        "id": "HUVFB2i3sFZ9"
      },
      "outputs": [],
      "source": [
        "# test 3 for arithmetic operators +, -, *, /\n",
        "\n",
        "# Обратите внимание, что проверка равенства\n",
        "# MathComplex(5, 10) == MathComplex(5, 10) вернет False\n",
        "# Чтобы сравнения работали, надо также реализовать специальные методы,\n",
        "# но в этом задании от вас этого не требуется\n",
        "\n",
        "\n",
        "e = MathComplex()\n",
        "a = MathComplex(2, 1)\n",
        "b = MathComplex(4, 3)\n",
        "\n",
        "assert str(a + e) == str(b + MathComplex(-2, -2)), 'ошибка в __add__'\n",
        "assert str(a - e) == str(a)\n",
        "assert str(b * a) == str(MathComplex(5, 10))\n",
        "assert str(b / a) == str(MathComplex(2.2, 0.4)), 'проверьте, выполняете ли вы деление по правилам математики'"
      ]
    },
    {
      "cell_type": "markdown",
      "metadata": {
        "id": "Gl_bjLn6vhsY"
      },
      "source": [
        "__Пункт 4__:"
      ]
    },
    {
      "cell_type": "code",
      "execution_count": null,
      "metadata": {
        "id": "vyRmHQ2SvhsZ"
      },
      "outputs": [],
      "source": [
        "class ExtendedComplex(MathComplex):\n",
        "    pass"
      ]
    },
    {
      "cell_type": "markdown",
      "metadata": {
        "id": "p8xrJu6NvhsZ"
      },
      "source": [
        "В этом пункте попробуйте написать также и свои тесты!"
      ]
    },
    {
      "cell_type": "code",
      "execution_count": null,
      "metadata": {
        "id": "MFgD8allvhsZ"
      },
      "outputs": [],
      "source": [
        "# test 4\n",
        "\n",
        "e = ExtendedComplex()\n",
        "a = ExtendedComplex(2, 1)\n",
        "b = ExtendedComplex(4, 3)\n",
        "\n",
        "assert str(a * 5) == str(5 * a), 'упс, что-то пошло не так'"
      ]
    }
  ],
  "metadata": {
    "colab": {
      "private_outputs": true,
      "provenance": []
    },
    "kernelspec": {
      "display_name": "Python 3 (ipykernel)",
      "language": "python",
      "name": "python3"
    },
    "language_info": {
      "codemirror_mode": {
        "name": "ipython",
        "version": 3
      },
      "file_extension": ".py",
      "mimetype": "text/x-python",
      "name": "python",
      "nbconvert_exporter": "python",
      "pygments_lexer": "ipython3",
      "version": "3.8.12"
    }
  },
  "nbformat": 4,
  "nbformat_minor": 0
}