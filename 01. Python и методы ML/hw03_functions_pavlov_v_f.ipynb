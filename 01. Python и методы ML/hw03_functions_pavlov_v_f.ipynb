{
  "cells": [
    {
      "cell_type": "markdown",
      "metadata": {
        "id": "B7TpktH--KyR"
      },
      "source": [
        "# Домашнее задание 3\n",
        "\n",
        "Задачи с 4 по 6 стоят 1 балл"
      ],
      "id": "B7TpktH--KyR"
    },
    {
      "cell_type": "markdown",
      "metadata": {
        "id": "934dda1a"
      },
      "source": [
        "# Задача 1 (0.5)"
      ],
      "id": "934dda1a"
    },
    {
      "cell_type": "markdown",
      "metadata": {
        "id": "oYQTNvd3t6-v"
      },
      "source": [
        "Реализуйте функцию `is_prime`, проверяющую целое число n на простоту. Число является простым, если нацело делится лишь на 1 и на само себя."
      ],
      "id": "oYQTNvd3t6-v"
    },
    {
      "cell_type": "code",
      "execution_count": null,
      "metadata": {
        "id": "03a316f8"
      },
      "outputs": [],
      "source": [
        "def is_prime(n):\n",
        "    \"\"\"Check if the number n is prime or not.\"\"\"\n",
        "    # your code here\n",
        "    pass"
      ],
      "id": "03a316f8"
    },
    {
      "cell_type": "markdown",
      "source": [
        "Решать данную задачу я буду несколькими способами, во-первых чтобы лучше понять алгоритмы. Во-вторых мне самому интересно повторить решения человека, которые я нашел на хабре.\n",
        "https://habr.com/ru/articles/122538/"
      ],
      "metadata": {
        "id": "sf4Q72rizzTR"
      },
      "id": "sf4Q72rizzTR"
    },
    {
      "cell_type": "code",
      "source": [
        "#Решение №1 в лоб перебором элементов с подсчетом количества делителей\n",
        "def is_prime_1(n):\n",
        "  n=int(n)\n",
        "  counter = 0  # Необходим для подсчета количества делителей\n",
        "  if n == 1:  # Сразу отсеиваем единицу, т.к. 1 не есть простое число\n",
        "    return False\n",
        "  else:\n",
        "    for i in range(2, n):\n",
        "      if n % i == 0:\n",
        "        counter += 1\n",
        "    if counter == 0:\n",
        "      return True\n",
        "    else:\n",
        "      return False"
      ],
      "metadata": {
        "id": "qWtvnJCvzvKR"
      },
      "id": "qWtvnJCvzvKR",
      "execution_count": null,
      "outputs": []
    },
    {
      "cell_type": "code",
      "execution_count": null,
      "metadata": {
        "id": "3e6174db"
      },
      "outputs": [],
      "source": [
        "# tests\n",
        "assert is_prime_1(1) is False, 'test 1'\n",
        "assert is_prime_1(2) is True, 'test 2'\n",
        "assert is_prime_1(3), 'test 3'\n",
        "assert not is_prime_1(4), 'test 4'\n",
        "assert is_prime_1(2017) is True, 'test 5'\n",
        "assert is_prime_1(18375703), 'test 6'  # возможно этот тест будет проверяться долго - зависит от вашего алгоритма"
      ],
      "id": "3e6174db"
    },
    {
      "cell_type": "code",
      "source": [
        "# проверка скорости\n",
        "%time\n",
        "is_prime_1(1_000_000_000)"
      ],
      "metadata": {
        "colab": {
          "base_uri": "https://localhost:8080/"
        },
        "id": "O3hFJ9DizvAf",
        "outputId": "023044aa-45bf-4381-b152-0537d06de67e"
      },
      "id": "O3hFJ9DizvAf",
      "execution_count": null,
      "outputs": [
        {
          "output_type": "stream",
          "name": "stdout",
          "text": [
            "CPU times: user 4 µs, sys: 0 ns, total: 4 µs\n",
            "Wall time: 9.3 µs\n"
          ]
        },
        {
          "output_type": "execute_result",
          "data": {
            "text/plain": [
              "False"
            ]
          },
          "metadata": {},
          "execution_count": 60
        }
      ]
    },
    {
      "cell_type": "code",
      "source": [
        "#Решение №2 здесь не имеет смысла считать все делители\n",
        "#Если есть хотя бы один делитель, то число уже не простое\n",
        "def is_prime_2(n):\n",
        "  n = int(n)\n",
        "  if n == 1:  # Сразу отсеиваем единицу, т.к. 1 не есть простое число\n",
        "    return False\n",
        "  elif n == 2:\n",
        "    return True\n",
        "  else:\n",
        "    for i in range(2, n):\n",
        "      if n % i == 0:\n",
        "        break\n",
        "        return False\n",
        "      else:\n",
        "        return True"
      ],
      "metadata": {
        "id": "4Yb4p4L86tyY"
      },
      "id": "4Yb4p4L86tyY",
      "execution_count": null,
      "outputs": []
    },
    {
      "cell_type": "code",
      "source": [
        "# tests\n",
        "assert is_prime_2(1) is False, 'test 1'\n",
        "assert is_prime_2(2) is True, 'test 2'\n",
        "assert is_prime_2(3), 'test 3'\n",
        "assert not is_prime_2(4), 'test 4'\n",
        "assert is_prime_2(2017) is True, 'test 5'\n",
        "assert is_prime_2(18375703), 'test 6'  # возможно этот тест будет проверяться долго - зависит от вашего алгоритма"
      ],
      "metadata": {
        "id": "cgQ2GFj-6tvb"
      },
      "id": "cgQ2GFj-6tvb",
      "execution_count": null,
      "outputs": []
    },
    {
      "cell_type": "code",
      "source": [
        "# проверка скорости\n",
        "%time\n",
        "is_prime_2(1_000_000_000)"
      ],
      "metadata": {
        "colab": {
          "base_uri": "https://localhost:8080/"
        },
        "id": "GMuzILdU6tsN",
        "outputId": "b766c87e-d864-4e56-ad7d-c7face854913"
      },
      "id": "GMuzILdU6tsN",
      "execution_count": null,
      "outputs": [
        {
          "output_type": "stream",
          "name": "stdout",
          "text": [
            "CPU times: user 4 µs, sys: 0 ns, total: 4 µs\n",
            "Wall time: 8.34 µs\n"
          ]
        }
      ]
    },
    {
      "cell_type": "markdown",
      "source": [
        "Далее возникает вопрос: «а зачем делить на 4, если на 2 число не делится?»"
      ],
      "metadata": {
        "id": "NJiXYmpU_AiF"
      },
      "id": "NJiXYmpU_AiF"
    },
    {
      "cell_type": "code",
      "source": [
        "# вариант №3\n",
        "# добавляю проверку делимости на 2\n",
        "\n",
        "def is_prime_3(n):\n",
        "  n = int(n)\n",
        "  if n == 1:  # Сразу отсеиваем единицу, т.к. 1 не есть простое число\n",
        "    return False\n",
        "  elif n == 2:\n",
        "    return True\n",
        "  elif n == 3:\n",
        "    return True\n",
        "  else:\n",
        "    if n % 2 != 0:  # Проверка деления на 2\n",
        "      for i in range(3, n, 2):\n",
        "        if n % i == 0:\n",
        "          break\n",
        "          return False\n",
        "        else:\n",
        "          return True\n",
        "    else:\n",
        "      for i in range(2, n):\n",
        "        if n % i == 0:\n",
        "          break\n",
        "          return False\n",
        "        else:\n",
        "          return True"
      ],
      "metadata": {
        "id": "2g60-jtD6tn0"
      },
      "id": "2g60-jtD6tn0",
      "execution_count": null,
      "outputs": []
    },
    {
      "cell_type": "code",
      "source": [
        "# tests\n",
        "assert is_prime_3(1) is False, 'test 1'\n",
        "assert is_prime_3(2) is True, 'test 2'\n",
        "assert is_prime_3(3), 'test 3'\n",
        "assert not is_prime_3(4), 'test 4'\n",
        "assert is_prime_3(2017) is True, 'test 5'\n",
        "assert is_prime_3(18375703), 'test 6'"
      ],
      "metadata": {
        "id": "_U41mmOt-buQ"
      },
      "id": "_U41mmOt-buQ",
      "execution_count": null,
      "outputs": []
    },
    {
      "cell_type": "code",
      "source": [
        "# проверка скорости\n",
        "%time\n",
        "is_prime_3(1_000_000_000)"
      ],
      "metadata": {
        "colab": {
          "base_uri": "https://localhost:8080/"
        },
        "id": "ywEnT4c4-bm-",
        "outputId": "f0cacf79-2855-46ed-cd66-f30f011995fd"
      },
      "id": "ywEnT4c4-bm-",
      "execution_count": null,
      "outputs": [
        {
          "output_type": "stream",
          "name": "stdout",
          "text": [
            "CPU times: user 4 µs, sys: 0 ns, total: 4 µs\n",
            "Wall time: 7.39 µs\n"
          ]
        }
      ]
    },
    {
      "cell_type": "code",
      "source": [],
      "metadata": {
        "id": "V9nmGZcc-bjp"
      },
      "id": "V9nmGZcc-bjp",
      "execution_count": null,
      "outputs": []
    },
    {
      "cell_type": "code",
      "source": [],
      "metadata": {
        "id": "HYV6nKUi-bf3"
      },
      "id": "HYV6nKUi-bf3",
      "execution_count": null,
      "outputs": []
    },
    {
      "cell_type": "markdown",
      "metadata": {
        "id": "ddbbbd69"
      },
      "source": [
        "# Задача 2 (0.5)"
      ],
      "id": "ddbbbd69"
    },
    {
      "cell_type": "markdown",
      "metadata": {
        "id": "S2nxjxf8uGTA"
      },
      "source": [
        "Напишите функцию `inspect_function`, которая в качестве аргумента принимает другую функцию (но не built-in) и выводит следующую информацию:\n",
        "- название анализируемой функции\n",
        "- документационную строку\n",
        "- принимаемые ею аргументы\n",
        "- типы этих аргументов (позиционные, ключевые и т.п.)\n",
        "Каждый из этих пунктов выводится с новой строки.\n",
        "\n",
        "**Примечание:** в этой задаче вам поможет встроенный модуль [inspect](https://docs.python.org/3.8/library/inspect.html)."
      ],
      "id": "S2nxjxf8uGTA"
    },
    {
      "cell_type": "code",
      "execution_count": null,
      "metadata": {
        "id": "d1d9bd0f"
      },
      "outputs": [],
      "source": [
        "import inspect\n",
        "from math import sqrt  # for tests\n",
        "\n",
        "def inspect_function(func):\n",
        "    \"\"\"\n",
        "    Takes another function as an argument (but not built-in)\n",
        "    and print the following data:\n",
        "    the name of the analyzed function,\n",
        "    the name of all the arguments it takes\n",
        "    and their types (positional, keyword, etc.)\n",
        "    \"\"\"\n",
        "    # your code here\n",
        "    pass\n"
      ],
      "id": "d1d9bd0f"
    },
    {
      "cell_type": "markdown",
      "metadata": {
        "id": "0HPN968xvl5l"
      },
      "source": [
        "Проверьте себя на следующих функциях:"
      ],
      "id": "0HPN968xvl5l"
    },
    {
      "cell_type": "code",
      "execution_count": null,
      "metadata": {
        "id": "96b852dd",
        "colab": {
          "base_uri": "https://localhost:8080/"
        },
        "outputId": "6a51db89-a2ea-490e-dbbb-5469224f278e"
      },
      "outputs": [
        {
          "output_type": "stream",
          "name": "stdout",
          "text": [
            "Имя функции: is_prime\n",
            "Аргументы, принимаемые функцией: ['n']\n",
            "Позиционные аргументы: ['n']\n",
            "Ключевые аргументы: []\n",
            "Аргументы для распаковки: []\n",
            "____________________\n",
            "Имя функции: sqrt\n",
            "Аргументы, принимаемые функцией: ['x', '/']\n",
            "Позиционные аргументы: ['x', '/']\n",
            "Ключевые аргументы: []\n",
            "Аргументы для распаковки: []\n"
          ]
        }
      ],
      "source": [
        "# tests\n",
        "inspect_function(is_prime)\n",
        "print('____________________')\n",
        "inspect_function(sqrt)"
      ],
      "id": "96b852dd"
    },
    {
      "cell_type": "code",
      "execution_count": null,
      "metadata": {
        "id": "RZIUn_HKgjUg"
      },
      "outputs": [],
      "source": [
        "# test for foo function\n",
        "\n",
        "def foo(a, b=2, *args, c, d=4, **kwargs):\n",
        "    'This is a really nice looking docstring'\n",
        "    pass\n",
        "\n",
        "inspect_function(foo)"
      ],
      "id": "RZIUn_HKgjUg"
    },
    {
      "cell_type": "markdown",
      "metadata": {
        "id": "a5730e12"
      },
      "source": [
        "# Задача 3 (0.5 + 0.5)"
      ],
      "id": "a5730e12"
    },
    {
      "cell_type": "markdown",
      "metadata": {
        "id": "ff703047"
      },
      "source": [
        "Реализуйте функцию сортировки [методом слияния](https://neerc.ifmo.ru/wiki/index.php?title=%D0%A1%D0%BE%D1%80%D1%82%D0%B8%D1%80%D0%BE%D0%B2%D0%BA%D0%B0_%D1%81%D0%BB%D0%B8%D1%8F%D0%BD%D0%B8%D0%B5%D0%BC). Нужно сделать ее как рекурсивно, так и нерекурсивно, каждый вариант стоит по 0.5."
      ],
      "id": "ff703047"
    },
    {
      "cell_type": "code",
      "execution_count": null,
      "metadata": {
        "id": "28087cb6"
      },
      "outputs": [],
      "source": [
        "def merge_sort1(x):\n",
        "    \"\"\"\n",
        "    Sorts list x using merge sort method\n",
        "    \"\"\"\n",
        "    # your code here\n",
        "    pass"
      ],
      "id": "28087cb6"
    },
    {
      "cell_type": "code",
      "execution_count": null,
      "metadata": {
        "id": "rMXNTmY6hHQL"
      },
      "outputs": [],
      "source": [
        "# tests\n",
        "assert merge_sort1([1, 2, 3, 4, 5, 6]) == [1, 2, 3, 4, 5, 6], \"test 1\"\n",
        "assert merge_sort1([6, 1, 2, 3, 4, 5, 6]) == [1, 2, 3, 4, 5, 6, 6], \"test 2\"\n",
        "assert merge_sort1([3,1,4,1,5,9,2,6,5,3,5]) == [1, 1, 2, 3, 3, 4, 5, 5, 5, 6, 9], \"test 3\""
      ],
      "id": "rMXNTmY6hHQL"
    },
    {
      "cell_type": "code",
      "execution_count": null,
      "metadata": {
        "id": "G-j5kSGua54P"
      },
      "outputs": [],
      "source": [
        "def merge_sort2(x):\n",
        "    \"\"\"\n",
        "    Sorts list x using merge sort method with recursion\n",
        "    \"\"\"\n",
        "    # your code here\n",
        "    pass"
      ],
      "id": "G-j5kSGua54P"
    },
    {
      "cell_type": "code",
      "execution_count": null,
      "metadata": {
        "id": "6711aef5"
      },
      "outputs": [],
      "source": [
        "# tests\n",
        "assert merge_sort2([1, 2, 3, 4, 5, 6]) == [1, 2, 3, 4, 5, 6], \"test 1\"\n",
        "assert merge_sort2([6, 1, 2, 3, 4, 5, 6]) == [1, 2, 3, 4, 5, 6, 6], \"test 2\"\n",
        "assert merge_sort2([3,1,4,1,5,9,2,6,5,3,5]) == [1, 1, 2, 3, 3, 4, 5, 5, 5, 6, 9], \"test 3\""
      ],
      "id": "6711aef5"
    },
    {
      "cell_type": "markdown",
      "metadata": {
        "id": "f3d1e448"
      },
      "source": [
        "# Задача 4"
      ],
      "id": "f3d1e448"
    },
    {
      "cell_type": "markdown",
      "metadata": {
        "id": "PLSBRMf0w9bb"
      },
      "source": [
        "Реализуйте **генератор**, возвращающий **бесконечную** последовательность чисел из [треугольника Паскаля](https://ru.wikipedia.org/wiki/%D0%A2%D1%80%D0%B5%D1%83%D0%B3%D0%BE%D0%BB%D1%8C%D0%BD%D0%B8%D0%BA_%D0%9F%D0%B0%D1%81%D0%BA%D0%B0%D0%BB%D1%8F).\n",
        "\n",
        "Последовательность, возвращаемая генератором, должна выглядеть так:\n",
        "`1 1 1 1 2 1 1 3 3 1 1 4 6 4 1 1 5 10 10 5 1 1 6 15 20 15 6 1 1 7 21 35 35 21 7 1 1 8 28 56 70 56 28 8 1 1 9 36 84 126 126 84 36 9 1 ...`.\n",
        "\n",
        "**Генератор должен быть экономным по памяти**, т.е. не хранить в себе все предыдущие вычисленные значения."
      ],
      "id": "PLSBRMf0w9bb"
    },
    {
      "cell_type": "code",
      "execution_count": null,
      "metadata": {
        "id": "25461272"
      },
      "outputs": [],
      "source": [
        "from math import factorial\n",
        "\n",
        "def pascal_triangle():\n",
        "    \"\"\"Return numbers from pascal triangle, where n - is index of string\n",
        "    and m - is index of number in the string\"\"\"\n",
        "    pass\n"
      ],
      "id": "25461272"
    },
    {
      "cell_type": "markdown",
      "metadata": {
        "id": "SukiU_7DzmqO"
      },
      "source": [
        "Проверить можете на ячейке ниже:"
      ],
      "id": "SukiU_7DzmqO"
    },
    {
      "cell_type": "code",
      "execution_count": null,
      "metadata": {
        "id": "428552b1"
      },
      "outputs": [],
      "source": [
        "pascal_string = \"1 1 1 1 2 1 1 3 3 1 1 4 6 4 1 1 5 10 10 5 1 1 6 15 20 15 6 1 1 7 21 35 35 21 7 1 1 8 28 56 70 56 28 8 1 1 9 36 84 126\"\n",
        "blez_pascal = pascal_triangle()\n",
        "assert [next(blez_pascal) for _ in range(50)] == list(map(int, pascal_string.split())), \"Wrong values!\""
      ],
      "id": "428552b1"
    },
    {
      "cell_type": "markdown",
      "metadata": {
        "id": "gFt_A_iGzq2x"
      },
      "source": [
        "Еще раз подчеркну - нужен именно **генератор**:"
      ],
      "id": "gFt_A_iGzq2x"
    },
    {
      "cell_type": "code",
      "execution_count": null,
      "metadata": {
        "id": "I7hEiDpEzunU"
      },
      "outputs": [],
      "source": [
        "from collections.abc import Generator\n",
        "\n",
        "assert isinstance(blez_pascal, Generator), \"You have created not a generator\""
      ],
      "id": "I7hEiDpEzunU"
    },
    {
      "cell_type": "markdown",
      "metadata": {
        "id": "9270dbe5"
      },
      "source": [
        "# Задача 5"
      ],
      "id": "9270dbe5"
    },
    {
      "cell_type": "markdown",
      "metadata": {
        "id": "or5RM1GF0mHQ"
      },
      "source": [
        "Написать **генераторную функцию** `limit(input_generator, max_count)`, который возвращает не более `max_count` значений генератора `input_generator`:"
      ],
      "id": "or5RM1GF0mHQ"
    },
    {
      "cell_type": "code",
      "execution_count": null,
      "metadata": {
        "id": "0303a12f"
      },
      "outputs": [],
      "source": [
        "def limit(input_generator, max_count):\n",
        "    \"\"\"Returns not more than max_count\n",
        "    values of the input_generator.\n",
        "    \"\"\"\n",
        "    # your code here\n",
        "    pass\n"
      ],
      "id": "0303a12f"
    },
    {
      "cell_type": "code",
      "execution_count": null,
      "metadata": {
        "id": "f6511189"
      },
      "outputs": [],
      "source": [
        "# если pascal_triangle из предыдущего задания не реализован, то\n",
        "# напишите несколько своих тестов в этой ячейке\n",
        "# your code here"
      ],
      "id": "f6511189"
    },
    {
      "cell_type": "code",
      "execution_count": null,
      "metadata": {
        "id": "dddc1199"
      },
      "outputs": [],
      "source": [
        "# tests\n",
        "assert list(limit(pascal_triangle, 5)) == [1, 1, 1, 1, 2]\n",
        "assert 499 < len(list(limit(pascal_triangle, 500))) < 501"
      ],
      "id": "dddc1199"
    },
    {
      "cell_type": "code",
      "execution_count": null,
      "metadata": {
        "id": "bOqlzFur04lI"
      },
      "outputs": [],
      "source": [
        "# tests\n",
        "from collections.abc import Generator\n",
        "\n",
        "assert isinstance(limit(pascal_triangle, 5), Generator), \"You have created not a generator\""
      ],
      "id": "bOqlzFur04lI"
    },
    {
      "cell_type": "markdown",
      "metadata": {
        "id": "5f7f5f09"
      },
      "source": [
        "# Задача 6"
      ],
      "id": "5f7f5f09"
    },
    {
      "cell_type": "markdown",
      "metadata": {
        "id": "O72nL1kt1CUH"
      },
      "source": [
        "Написать генератор `all_elements(lst)`, который возвращает все элементы списка `lst` **любой** вложенности (см. пример для конкретики).\n",
        "\n",
        "Указание: для проверки того, что объект итерируемый, можно проверить, что он наследник `Iterable` (используйте функции `isinstance`/`issubclass`  и модуль [`collections.abc`](https://docs.python.org/3/library/collections.abc.html))"
      ],
      "id": "O72nL1kt1CUH"
    },
    {
      "cell_type": "code",
      "execution_count": null,
      "metadata": {
        "id": "29f9bb21"
      },
      "outputs": [],
      "source": [
        "from collections.abc import Iterable\n",
        "\n",
        "def all_elements(lst):\n",
        "    # your code here\n",
        "    pass\n"
      ],
      "id": "29f9bb21"
    },
    {
      "cell_type": "code",
      "execution_count": null,
      "metadata": {
        "id": "8af89f17"
      },
      "outputs": [],
      "source": [
        "# test\n",
        "from collections.abc import Generator\n",
        "\n",
        "assert isinstance(all_elements([1, [2, 3], [4, [5, 6], [[[7]]]], 8]), Generator), \"You have created not a generator\"\n",
        "assert list(all_elements([1, [2, 3], [4, [5, 6], [[[7]]]], 8])) == [1, 2, 3, 4, 5, 6, 7, 8], \"Wrong values\""
      ],
      "id": "8af89f17"
    }
  ],
  "metadata": {
    "colab": {
      "provenance": []
    },
    "kernelspec": {
      "display_name": "Python 3 (ipykernel)",
      "language": "python",
      "name": "python3"
    },
    "language_info": {
      "codemirror_mode": {
        "name": "ipython",
        "version": 3
      },
      "file_extension": ".py",
      "mimetype": "text/x-python",
      "name": "python",
      "nbconvert_exporter": "python",
      "pygments_lexer": "ipython3",
      "version": "3.9.5"
    }
  },
  "nbformat": 4,
  "nbformat_minor": 5
}