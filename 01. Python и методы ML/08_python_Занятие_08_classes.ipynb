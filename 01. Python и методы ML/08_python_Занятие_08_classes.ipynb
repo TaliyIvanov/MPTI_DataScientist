{
 "cells": [
  {
   "cell_type": "markdown",
   "metadata": {
    "id": "__JLzgHtjtqe"
   },
   "source": [
    "## Наследование"
   ]
  },
  {
   "cell_type": "code",
   "execution_count": 1,
   "metadata": {
    "collapsed": true
   },
   "outputs": [
    {
     "name": "stdout",
     "output_type": "stream",
     "text": [
      "Help on class object in module builtins:\n",
      "\n",
      "class object\n",
      " |  The base class of the class hierarchy.\n",
      " |  \n",
      " |  When called, it accepts no arguments and returns a new featureless\n",
      " |  instance that has no instance attributes and cannot be given any.\n",
      " |  \n",
      " |  Built-in subclasses:\n",
      " |      async_generator\n",
      " |      BaseException\n",
      " |      builtin_function_or_method\n",
      " |      bytearray\n",
      " |      ... and 93 other subclasses\n",
      " |  \n",
      " |  Methods defined here:\n",
      " |  \n",
      " |  __delattr__(self, name, /)\n",
      " |      Implement delattr(self, name).\n",
      " |  \n",
      " |  __dir__(self, /)\n",
      " |      Default dir() implementation.\n",
      " |  \n",
      " |  __eq__(self, value, /)\n",
      " |      Return self==value.\n",
      " |  \n",
      " |  __format__(self, format_spec, /)\n",
      " |      Default object formatter.\n",
      " |  \n",
      " |  __ge__(self, value, /)\n",
      " |      Return self>=value.\n",
      " |  \n",
      " |  __getattribute__(self, name, /)\n",
      " |      Return getattr(self, name).\n",
      " |  \n",
      " |  __gt__(self, value, /)\n",
      " |      Return self>value.\n",
      " |  \n",
      " |  __hash__(self, /)\n",
      " |      Return hash(self).\n",
      " |  \n",
      " |  __init__(self, /, *args, **kwargs)\n",
      " |      Initialize self.  See help(type(self)) for accurate signature.\n",
      " |  \n",
      " |  __le__(self, value, /)\n",
      " |      Return self<=value.\n",
      " |  \n",
      " |  __lt__(self, value, /)\n",
      " |      Return self<value.\n",
      " |  \n",
      " |  __ne__(self, value, /)\n",
      " |      Return self!=value.\n",
      " |  \n",
      " |  __reduce__(self, /)\n",
      " |      Helper for pickle.\n",
      " |  \n",
      " |  __reduce_ex__(self, protocol, /)\n",
      " |      Helper for pickle.\n",
      " |  \n",
      " |  __repr__(self, /)\n",
      " |      Return repr(self).\n",
      " |  \n",
      " |  __setattr__(self, name, value, /)\n",
      " |      Implement setattr(self, name, value).\n",
      " |  \n",
      " |  __sizeof__(self, /)\n",
      " |      Size of object in memory, in bytes.\n",
      " |  \n",
      " |  __str__(self, /)\n",
      " |      Return str(self).\n",
      " |  \n",
      " |  ----------------------------------------------------------------------\n",
      " |  Class methods defined here:\n",
      " |  \n",
      " |  __init_subclass__(...) from builtins.type\n",
      " |      This method is called when a class is subclassed.\n",
      " |      \n",
      " |      The default implementation does nothing. It may be\n",
      " |      overridden to extend subclasses.\n",
      " |  \n",
      " |  __subclasshook__(...) from builtins.type\n",
      " |      Abstract classes can override this to customize issubclass().\n",
      " |      \n",
      " |      This is invoked early on by abc.ABCMeta.__subclasscheck__().\n",
      " |      It should return True, False or NotImplemented.  If it returns\n",
      " |      NotImplemented, the normal algorithm is used.  Otherwise, it\n",
      " |      overrides the normal algorithm (and the outcome is cached).\n",
      " |  \n",
      " |  ----------------------------------------------------------------------\n",
      " |  Static methods defined here:\n",
      " |  \n",
      " |  __new__(*args, **kwargs) from builtins.type\n",
      " |      Create and return a new object.  See help(type) for accurate signature.\n",
      " |  \n",
      " |  ----------------------------------------------------------------------\n",
      " |  Data and other attributes defined here:\n",
      " |  \n",
      " |  __class__ = <class 'type'>\n",
      " |      type(object_or_name, bases, dict)\n",
      " |      type(object) -> the object's type\n",
      " |      type(name, bases, dict) -> a new type\n",
      "\n"
     ]
    }
   ],
   "source": [
    "help(object)"
   ]
  },
  {
   "cell_type": "code",
   "execution_count": null,
   "metadata": {},
   "outputs": [],
   "source": [
    "object.__hash__"
   ]
  },
  {
   "cell_type": "code",
   "execution_count": 2,
   "metadata": {
    "id": "8N-AZdJejtqe"
   },
   "outputs": [],
   "source": [
    "class Animal:\n",
    "    \n",
    "    some_value = \"animal\"\n",
    "    \n",
    "    def __init__(self):\n",
    "        print(\"i am an animal\")\n",
    "    \n",
    "    def speak(self):\n",
    "        raise NotImplementedError('i don\\'t know how to speak')"
   ]
  },
  {
   "cell_type": "code",
   "execution_count": 3,
   "metadata": {},
   "outputs": [
    {
     "name": "stdout",
     "output_type": "stream",
     "text": [
      "i am an animal\n"
     ]
    }
   ],
   "source": [
    "animal = Animal()"
   ]
  },
  {
   "cell_type": "code",
   "execution_count": 4,
   "metadata": {},
   "outputs": [
    {
     "data": {
      "text/plain": [
       "'animal'"
      ]
     },
     "execution_count": 4,
     "metadata": {},
     "output_type": "execute_result"
    }
   ],
   "source": [
    "animal.some_value"
   ]
  },
  {
   "cell_type": "code",
   "execution_count": 5,
   "metadata": {},
   "outputs": [
    {
     "ename": "NotImplementedError",
     "evalue": "i don't know how to speak",
     "output_type": "error",
     "traceback": [
      "\u001b[0;31m---------------------------------------------------------------------------\u001b[0m",
      "\u001b[0;31mNotImplementedError\u001b[0m                       Traceback (most recent call last)",
      "\u001b[0;32m/var/folders/v8/2cskhqjj0_g0zp3824glf1tm0000gn/T/ipykernel_45115/3553675796.py\u001b[0m in \u001b[0;36m<module>\u001b[0;34m\u001b[0m\n\u001b[0;32m----> 1\u001b[0;31m \u001b[0manimal\u001b[0m\u001b[0;34m.\u001b[0m\u001b[0mspeak\u001b[0m\u001b[0;34m(\u001b[0m\u001b[0;34m)\u001b[0m\u001b[0;34m\u001b[0m\u001b[0;34m\u001b[0m\u001b[0m\n\u001b[0m",
      "\u001b[0;32m/var/folders/v8/2cskhqjj0_g0zp3824glf1tm0000gn/T/ipykernel_45115/615340877.py\u001b[0m in \u001b[0;36mspeak\u001b[0;34m(self)\u001b[0m\n\u001b[1;32m      7\u001b[0m \u001b[0;34m\u001b[0m\u001b[0m\n\u001b[1;32m      8\u001b[0m     \u001b[0;32mdef\u001b[0m \u001b[0mspeak\u001b[0m\u001b[0;34m(\u001b[0m\u001b[0mself\u001b[0m\u001b[0;34m)\u001b[0m\u001b[0;34m:\u001b[0m\u001b[0;34m\u001b[0m\u001b[0;34m\u001b[0m\u001b[0m\n\u001b[0;32m----> 9\u001b[0;31m         \u001b[0;32mraise\u001b[0m \u001b[0mNotImplementedError\u001b[0m\u001b[0;34m(\u001b[0m\u001b[0;34m'i don\\'t know how to speak'\u001b[0m\u001b[0;34m)\u001b[0m\u001b[0;34m\u001b[0m\u001b[0;34m\u001b[0m\u001b[0m\n\u001b[0m",
      "\u001b[0;31mNotImplementedError\u001b[0m: i don't know how to speak"
     ]
    }
   ],
   "source": [
    "animal.speak()"
   ]
  },
  {
   "cell_type": "code",
   "execution_count": 6,
   "metadata": {
    "id": "8N-AZdJejtqe"
   },
   "outputs": [],
   "source": [
    "class Cat(Animal):\n",
    "    \n",
    "    some_value = \"cat\"\n",
    "    \n",
    "    def __init__(self):\n",
    "        super().__init__()\n",
    "        print(\"i am a cat\")\n",
    "    \n",
    "    def speak(self):\n",
    "        print('meoooow')"
   ]
  },
  {
   "cell_type": "code",
   "execution_count": 7,
   "metadata": {
    "colab": {
     "base_uri": "https://localhost:8080/",
     "height": 53
    },
    "id": "7rPSlk-Njtqf",
    "outputId": "d3067cb7-2392-45b2-e2f0-ccac8d093c1e"
   },
   "outputs": [
    {
     "name": "stdout",
     "output_type": "stream",
     "text": [
      "i am an animal\n"
     ]
    },
    {
     "data": {
      "text/plain": [
       "'animal'"
      ]
     },
     "execution_count": 7,
     "metadata": {},
     "output_type": "execute_result"
    }
   ],
   "source": [
    "animal = Animal()\n",
    "animal.some_value"
   ]
  },
  {
   "cell_type": "code",
   "execution_count": 8,
   "metadata": {
    "colab": {
     "base_uri": "https://localhost:8080/",
     "height": 71
    },
    "id": "7HszCJIfjtqf",
    "outputId": "dc35f5e1-91e9-4116-f373-65395bc6304a",
    "scrolled": true
   },
   "outputs": [
    {
     "name": "stdout",
     "output_type": "stream",
     "text": [
      "i am an animal\n",
      "i am a cat\n"
     ]
    },
    {
     "data": {
      "text/plain": [
       "'cat'"
      ]
     },
     "execution_count": 8,
     "metadata": {},
     "output_type": "execute_result"
    }
   ],
   "source": [
    "cat = Cat()\n",
    "cat.some_value  # переопределено"
   ]
  },
  {
   "cell_type": "code",
   "execution_count": null,
   "metadata": {
    "id": "8N-AZdJejtqe"
   },
   "outputs": [],
   "source": [
    "class Hedgehog(Animal):\n",
    "    def __init__(self):\n",
    "        super().__init__()\n",
    "        print(\"i am a hedgehog\")"
   ]
  },
  {
   "cell_type": "code",
   "execution_count": null,
   "metadata": {
    "id": "8N-AZdJejtqe"
   },
   "outputs": [],
   "source": [
    "class Dog(Animal):\n",
    "    some_value = \"dog\"\n",
    "    def __init__(self):\n",
    "        super().__init__()\n",
    "        print(\"i am a dog\")"
   ]
  },
  {
   "cell_type": "code",
   "execution_count": null,
   "metadata": {
    "id": "8N-AZdJejtqe"
   },
   "outputs": [],
   "source": [
    "class CatDog(Cat, Dog):  # ромбовидное наследование возможно\n",
    "    def __init__(self):\n",
    "        super().__init__()\n",
    "        print(\"i am a CatDog!\")"
   ]
  },
  {
   "cell_type": "code",
   "execution_count": null,
   "metadata": {
    "id": "JxOncfhU6-ku"
   },
   "outputs": [],
   "source": [
    "# ______Animal______\n",
    "# ___/    |    \\\n",
    "# Cat   Dog   Hedgehog\n",
    "#    \\   /\n",
    "#    CatDog"
   ]
  },
  {
   "cell_type": "code",
   "execution_count": null,
   "metadata": {
    "colab": {
     "base_uri": "https://localhost:8080/",
     "height": 71
    },
    "id": "E44xtL7njtqf",
    "outputId": "bd9cc7f0-a399-4cdf-9ca0-12ce321978e3"
   },
   "outputs": [],
   "source": [
    "hedgehog = Hedgehog()\n",
    "hedgehog.some_value  # не переопределено"
   ]
  },
  {
   "cell_type": "code",
   "execution_count": null,
   "metadata": {
    "colab": {
     "base_uri": "https://localhost:8080/",
     "height": 71
    },
    "id": "CjTEPk-qjtqf",
    "outputId": "ed203e89-4e6d-4ff9-8a68-4ec9c2ccc0a2"
   },
   "outputs": [],
   "source": [
    "dog = Dog()\n",
    "dog.some_value  # переопределено"
   ]
  },
  {
   "cell_type": "code",
   "execution_count": null,
   "metadata": {
    "colab": {
     "base_uri": "https://localhost:8080/",
     "height": 106
    },
    "id": "ci_lczg3jtqf",
    "outputId": "d3f66d76-140b-45a3-ec94-2f167d203ac6"
   },
   "outputs": [],
   "source": [
    "catdog = CatDog()\n",
    "catdog.some_value"
   ]
  },
  {
   "cell_type": "code",
   "execution_count": null,
   "metadata": {
    "colab": {
     "base_uri": "https://localhost:8080/",
     "height": 106
    },
    "id": "uLTW9wRTjtqf",
    "outputId": "769ec99f-39ab-4d83-923a-5d6b5bde6f85"
   },
   "outputs": [],
   "source": [
    "class CatDog(Dog, Cat):  # теперь наоборот, найдите два отличия!\n",
    "    def __init__(self):\n",
    "        super().__init__()\n",
    "        print(\"i am a CatDog!\")\n",
    "\n",
    "catdog = CatDog()\n",
    "catdog.some_value"
   ]
  },
  {
   "cell_type": "code",
   "execution_count": null,
   "metadata": {
    "colab": {
     "base_uri": "https://localhost:8080/",
     "height": 329
    },
    "id": "XUlv8zBqjtqf",
    "outputId": "a2a31419-e7a4-4771-e9d3-1574d59692fe"
   },
   "outputs": [],
   "source": [
    "cat.speak()  # переопределено\n",
    "dog.speak()  # не переопределено"
   ]
  },
  {
   "cell_type": "code",
   "execution_count": null,
   "metadata": {
    "id": "6SkXXgsBf5Sn"
   },
   "outputs": [],
   "source": [
    "class RandomClass:\n",
    "    \n",
    "    cls_attr = 'just a string'\n",
    "    \n",
    "    def __init__(self):\n",
    "        self.inst_attr = 0\n",
    "    def sample_method(self):\n",
    "        self.inst_attr += 1\n",
    "    # def __init__(self):\n",
    "    #     self.new_attr = 0\n",
    "    "
   ]
  },
  {
   "cell_type": "code",
   "execution_count": null,
   "metadata": {
    "colab": {
     "base_uri": "https://localhost:8080/"
    },
    "id": "IXyE36-DgU_q",
    "outputId": "c8e217ce-7c3d-4eae-d0d3-796ab614dc38"
   },
   "outputs": [],
   "source": [
    "clas_obj = RandomClass()\n",
    "print(f'{clas_obj.inst_attr = }')\n",
    "clas_obj.sample_method(), clas_obj.inst_attr"
   ]
  },
  {
   "cell_type": "code",
   "execution_count": null,
   "metadata": {},
   "outputs": [],
   "source": [
    "# expr1, expr2, expr3\n",
    "1, 2 + 2, 3 ** 2"
   ]
  },
  {
   "cell_type": "code",
   "execution_count": null,
   "metadata": {},
   "outputs": [],
   "source": [
    "clas_obj.sample_method(), clas_obj.inst_attr, clas_obj.sample_method()"
   ]
  },
  {
   "cell_type": "code",
   "execution_count": null,
   "metadata": {},
   "outputs": [],
   "source": [
    "class MutableClass:\n",
    "    \n",
    "    def __init__(self):\n",
    "        self.inst_attr = [0]\n",
    "    def sample_method(self):\n",
    "        self.inst_attr[0] += 1"
   ]
  },
  {
   "cell_type": "code",
   "execution_count": null,
   "metadata": {},
   "outputs": [],
   "source": [
    "mut = MutableClass()\n",
    "mut.inst_attr"
   ]
  },
  {
   "cell_type": "code",
   "execution_count": null,
   "metadata": {},
   "outputs": [],
   "source": [
    "mut.sample_method(), mut.inst_attr, mut.sample_method()"
   ]
  },
  {
   "cell_type": "code",
   "execution_count": null,
   "metadata": {},
   "outputs": [],
   "source": [
    "mut.sample_method(), mut.inst_attr, mut.sample_method()"
   ]
  },
  {
   "cell_type": "code",
   "execution_count": null,
   "metadata": {},
   "outputs": [],
   "source": [
    "mut.sample_method(), mut.inst_attr, mut.sample_method(), mut.sample_method(), MutableClass.sample_method(mut)"
   ]
  },
  {
   "cell_type": "markdown",
   "metadata": {},
   "source": [
    "exp3, exp4 = exp1, exp2"
   ]
  },
  {
   "cell_type": "code",
   "execution_count": null,
   "metadata": {
    "colab": {
     "base_uri": "https://localhost:8080/"
    },
    "id": "mCHZ2ezyjAbs",
    "outputId": "f0127c33-46d6-4670-c90d-0e1f64205f93"
   },
   "outputs": [],
   "source": [
    "class A:\n",
    "    def method(self):\n",
    "        print('I\\'m \"class A\"')\n",
    "        # super().method()\n",
    "        print('I\\'m here \"class A\"')\n",
    "\n",
    "class B(A):\n",
    "    def method(self):\n",
    "        print('I\\'m \"class B\"')\n",
    "        super().method()\n",
    "        print('I\\'m here \"class B\"')\n",
    "\n",
    "class C(A):\n",
    "    def method(self):\n",
    "        print('I\\'m \"class C\"')\n",
    "        super().method()\n",
    "        print('I\\'m here \"class C\"')\n",
    "\n",
    "class D(B, C):\n",
    "    def method(self):\n",
    "        print('I\\'m \"class D\"')\n",
    "        super().method()\n",
    "        print('I\\'m here \"class D\"')\n",
    "\n",
    "\n",
    "class E:\n",
    "    def method(self):\n",
    "        print('I\\'m \"class E\"')\n",
    "        super().method()\n",
    "        print('I\\'m here \"class E\"')\n",
    "\n",
    "class F(E, D):\n",
    "    def method(self):\n",
    "        print('I\\'m \"class F\"')\n",
    "        super().method()\n",
    "        print('I\\'m here \"class F\"')\n",
    "\n",
    "print(F.mro())\n",
    "f = F()\n",
    "f.method()"
   ]
  },
  {
   "cell_type": "code",
   "execution_count": null,
   "metadata": {
    "colab": {
     "base_uri": "https://localhost:8080/"
    },
    "id": "HkcjakBOjQun",
    "outputId": "4374c97e-04f0-4a0a-9709-5335ea898573"
   },
   "outputs": [],
   "source": [
    "D.__mro__"
   ]
  },
  {
   "cell_type": "code",
   "execution_count": null,
   "metadata": {},
   "outputs": [],
   "source": [
    "__name__"
   ]
  },
  {
   "cell_type": "code",
   "execution_count": null,
   "metadata": {},
   "outputs": [],
   "source": [
    "D.__mro__ = (D, C, B, A, object)"
   ]
  },
  {
   "cell_type": "code",
   "execution_count": null,
   "metadata": {},
   "outputs": [],
   "source": [
    "print(isinstance(1, int))\n",
    "print(isinstance(True, int))\n",
    "print(isinstance(Animal, object))\n",
    "print(isinstance(F, object))\n",
    "print(isinstance(42, str))\n",
    "print(issubclass(F, B))\n",
    "print(issubclass(D, (E, C)))"
   ]
  },
  {
   "cell_type": "markdown",
   "metadata": {
    "id": "AjwJDLvS146-"
   },
   "source": [
    "# Специальные методы классов"
   ]
  },
  {
   "cell_type": "code",
   "execution_count": null,
   "metadata": {
    "id": "A6m2SXlZ147C"
   },
   "outputs": [],
   "source": [
    "import random\n",
    "\n",
    "class Vector:\n",
    "    def __init__(self, x=0, y=0, color=None):\n",
    "        print(\"initializing a vector\")\n",
    "        if type(x) != int or type(y) != int:\n",
    "            raise AttributeError('x and y should be int')\n",
    "        \n",
    "        if not isinstance(x, int):\n",
    "            raise AttributeError('x should be int')\n",
    "        \n",
    "        if not isinstance(y, int):\n",
    "            raise AttributeError('y should be int')\n",
    "        \n",
    "        \n",
    "        self._x = x\n",
    "        self._y = y\n",
    "        self._color = color\n",
    "    \n",
    "    def get_x(self):\n",
    "        return self._x\n",
    "    \n",
    "    def get_y(self):\n",
    "        return self._y"
   ]
  },
  {
   "cell_type": "code",
   "execution_count": null,
   "metadata": {
    "colab": {
     "base_uri": "https://localhost:8080/",
     "height": 53
    },
    "id": "5F0Llj-8147F",
    "outputId": "ca252163-bdcf-4214-d695-7512a807d97d"
   },
   "outputs": [],
   "source": [
    "vector = Vector(1, 2, 'red')\n",
    "str(vector)"
   ]
  },
  {
   "cell_type": "code",
   "execution_count": null,
   "metadata": {},
   "outputs": [],
   "source": [
    "print(vector)"
   ]
  },
  {
   "cell_type": "code",
   "execution_count": null,
   "metadata": {
    "id": "bbbBHQ4V147I"
   },
   "outputs": [],
   "source": [
    "class VectorWithStr(Vector):\n",
    "    def __str__(self):\n",
    "        return f'vector ({self._x}, {self._y}) of color {self._color}'"
   ]
  },
  {
   "cell_type": "code",
   "execution_count": null,
   "metadata": {
    "colab": {
     "base_uri": "https://localhost:8080/",
     "height": 53
    },
    "id": "eLJ1D-yo147J",
    "outputId": "4e2bfba5-1e9f-40dd-e5e7-cee47092c827"
   },
   "outputs": [],
   "source": [
    "vector = VectorWithStr(1, 2, 'red')\n",
    "str(vector)"
   ]
  },
  {
   "cell_type": "code",
   "execution_count": null,
   "metadata": {
    "colab": {
     "base_uri": "https://localhost:8080/"
    },
    "id": "IpDIC9oT147M",
    "outputId": "09a01982-a88d-4c05-8ce5-f944af25a977"
   },
   "outputs": [],
   "source": [
    "print(vector)"
   ]
  },
  {
   "cell_type": "code",
   "execution_count": null,
   "metadata": {
    "colab": {
     "base_uri": "https://localhost:8080/",
     "height": 187
    },
    "id": "58ZQyT7I147N",
    "outputId": "4e98e88a-7d07-4035-a592-7faa8424cc99"
   },
   "outputs": [],
   "source": [
    "mydict = {}\n",
    "mydict[vector]"
   ]
  },
  {
   "cell_type": "code",
   "execution_count": null,
   "metadata": {
    "colab": {
     "base_uri": "https://localhost:8080/"
    },
    "id": "9AprPbl6147O",
    "outputId": "188bec53-7629-4c06-ee20-81c793787aa1"
   },
   "outputs": [],
   "source": [
    "mylist = [vector]\n",
    "print(mylist)"
   ]
  },
  {
   "cell_type": "code",
   "execution_count": null,
   "metadata": {
    "id": "IxYDswqW147Q"
   },
   "outputs": [],
   "source": [
    "class VectorWithRepr(Vector):\n",
    "    def __repr__(self):\n",
    "        return f'vector representation (x: {self._x}, y: {self._y}, color: {self._color})'"
   ]
  },
  {
   "cell_type": "code",
   "execution_count": null,
   "metadata": {
    "colab": {
     "base_uri": "https://localhost:8080/",
     "height": 258
    },
    "id": "HRh1xb3-147R",
    "outputId": "f37061d7-0c40-48f9-c8ba-bb8dfacb1af7"
   },
   "outputs": [],
   "source": [
    "vector = VectorWithRepr(1, 2, 'red')\n",
    "\n",
    "print(vector)\n",
    "mylist = [vector]\n",
    "print(mylist)\n",
    "mydict = {}\n",
    "mydict[vector]"
   ]
  },
  {
   "cell_type": "code",
   "execution_count": null,
   "metadata": {
    "id": "5Q8ROuKi147S"
   },
   "outputs": [],
   "source": [
    "class VectorWithBothReprAndStr(VectorWithRepr, VectorWithStr):\n",
    "    pass"
   ]
  },
  {
   "cell_type": "code",
   "execution_count": null,
   "metadata": {
    "colab": {
     "base_uri": "https://localhost:8080/"
    },
    "id": "HjOE8hDX147S",
    "outputId": "02c38180-9533-4720-bc92-f6964cdd8d8b"
   },
   "outputs": [],
   "source": [
    "vector = VectorWithBothReprAndStr(1, 2, 'red')\n",
    "# вот здесь должны получиться разные значения\n",
    "print(vector)\n",
    "print([vector])"
   ]
  },
  {
   "cell_type": "code",
   "execution_count": null,
   "metadata": {},
   "outputs": [],
   "source": [
    "vector"
   ]
  },
  {
   "cell_type": "code",
   "execution_count": null,
   "metadata": {},
   "outputs": [],
   "source": [
    "print('hello')\n",
    "'hello'"
   ]
  },
  {
   "cell_type": "code",
   "execution_count": null,
   "metadata": {},
   "outputs": [],
   "source": [
    "import numpy as np\n",
    "\n",
    "arr = np.arange(10)\n",
    "\n",
    "print(arr)\n",
    "print(list(range(10)))\n",
    "arr  # , list(range(10))"
   ]
  },
  {
   "cell_type": "markdown",
   "metadata": {
    "id": "jR8D-m0Y147T"
   },
   "source": [
    "## Арифметика"
   ]
  },
  {
   "cell_type": "markdown",
   "metadata": {
    "id": "jaX_WGO47xjB"
   },
   "source": [
    "[перегрузка операторов](https://pythonworld.ru/osnovy/peregruzka-operatorov.html)"
   ]
  },
  {
   "cell_type": "markdown",
   "metadata": {},
   "source": [
    "$\\sqrt{x^2 + y^2 + z^2}$"
   ]
  },
  {
   "cell_type": "markdown",
   "metadata": {},
   "source": [
    "$|x| + |y| + |z|$"
   ]
  },
  {
   "cell_type": "code",
   "execution_count": null,
   "metadata": {
    "colab": {
     "base_uri": "https://localhost:8080/"
    },
    "id": "UnOUQ6i7eFlK",
    "outputId": "11869279-6cc8-45eb-95f7-779c5219e672"
   },
   "outputs": [],
   "source": [
    "abs(-1000)"
   ]
  },
  {
   "cell_type": "code",
   "execution_count": null,
   "metadata": {},
   "outputs": [],
   "source": [
    "abs(vector)"
   ]
  },
  {
   "cell_type": "code",
   "execution_count": null,
   "metadata": {
    "id": "5ciwP450147T"
   },
   "outputs": [],
   "source": [
    "import math\n",
    "import random\n",
    "\n",
    "class VectorWithMath(VectorWithBothReprAndStr):    \n",
    "    def __abs__(self):\n",
    "        return math.hypot(self._x, self._y)\n",
    "\n",
    "    def __add__(self, other):\n",
    "        print('line 1')\n",
    "        return VectorWithMath(self.get_x() + other.get_x(),\n",
    "                              self.get_y() + other.get_y(),\n",
    "                              random.choice((str(self._color), str(other._color))))\n",
    "    \n",
    "    def __sub__(self, other):\n",
    "        return VectorWithMath(self.get_x() - other.get_x(),\n",
    "                              self.get_y() - other.get_y(),\n",
    "                              random.choice((str(self._color), str(other._color))))\n",
    "    \n",
    "    # ещё есть div, mul и многое другое"
   ]
  },
  {
   "cell_type": "code",
   "execution_count": null,
   "metadata": {
    "colab": {
     "base_uri": "https://localhost:8080/"
    },
    "id": "_hxyHfEN147U",
    "outputId": "c712ee5a-b921-4d6e-9a47-b0cd626eeb17"
   },
   "outputs": [],
   "source": [
    "vector1 = VectorWithMath(3, 4, 'blue')\n",
    "vector2 = VectorWithMath(1, 2, 'red')\n",
    "print(vector1)\n",
    "print(vector2)"
   ]
  },
  {
   "cell_type": "code",
   "execution_count": null,
   "metadata": {
    "colab": {
     "base_uri": "https://localhost:8080/"
    },
    "id": "PKBJ5_lG147W",
    "outputId": "2a43fde2-3b3b-407a-f324-15a983d0f141"
   },
   "outputs": [],
   "source": [
    "print(abs(vector1))\n",
    "print(vector1 + vector2)  # vector1 + vector2 == vector1.__add__(vector2)\n",
    "print(vector1 - vector2)"
   ]
  },
  {
   "cell_type": "code",
   "execution_count": null,
   "metadata": {},
   "outputs": [],
   "source": [
    "2 + '2'"
   ]
  },
  {
   "cell_type": "code",
   "execution_count": null,
   "metadata": {},
   "outputs": [],
   "source": [
    "\"2\" + 2"
   ]
  },
  {
   "cell_type": "code",
   "execution_count": null,
   "metadata": {},
   "outputs": [],
   "source": [
    "# *\n",
    "# **\n",
    "# /\n",
    "# //\n",
    "# %\n",
    "# @"
   ]
  },
  {
   "cell_type": "markdown",
   "metadata": {
    "id": "dBRX-T3Z147W"
   },
   "source": [
    "## Приведение типов"
   ]
  },
  {
   "cell_type": "code",
   "execution_count": null,
   "metadata": {
    "colab": {
     "base_uri": "https://localhost:8080/"
    },
    "id": "u5cQJkK3hCac",
    "outputId": "bde8898a-390a-44a8-e2e6-144fdd746530"
   },
   "outputs": [],
   "source": [
    "bool(1)"
   ]
  },
  {
   "cell_type": "code",
   "execution_count": null,
   "metadata": {},
   "outputs": [],
   "source": [
    "bool(VectorWithMath())"
   ]
  },
  {
   "cell_type": "code",
   "execution_count": null,
   "metadata": {
    "id": "VW09Jxin147X"
   },
   "outputs": [],
   "source": [
    "import math\n",
    "\n",
    "class VectorWithTypes(VectorWithMath):\n",
    "    def __bool__(self):\n",
    "        return bool(self._x) or bool(self._y)\n",
    "    \n",
    "    def __int__(self):\n",
    "        return int(float(self))\n",
    "    \n",
    "    def __float__(self):\n",
    "        return abs(self)"
   ]
  },
  {
   "cell_type": "code",
   "execution_count": null,
   "metadata": {
    "colab": {
     "base_uri": "https://localhost:8080/"
    },
    "id": "DlvLeqq5147X",
    "outputId": "bf78840c-cce5-4160-d20b-5963fb468790"
   },
   "outputs": [],
   "source": [
    "vector = VectorWithTypes(4, 4, 'blue')\n",
    "print(vector)\n",
    "print(int(vector))\n",
    "print(float(vector))\n",
    "\n",
    "print(\"vector ~ True\") if vector else print(\"vector ~ False\")"
   ]
  },
  {
   "cell_type": "code",
   "execution_count": null,
   "metadata": {
    "colab": {
     "base_uri": "https://localhost:8080/"
    },
    "id": "dpHckElD147X",
    "outputId": "c0060b7d-7c01-41d6-91f0-b36e430c3682"
   },
   "outputs": [],
   "source": [
    "print(VectorWithTypes())\n",
    "\n",
    "print(\"vector ~ True\") if VectorWithTypes() else print(\"vector ~ False\")"
   ]
  },
  {
   "cell_type": "markdown",
   "metadata": {
    "id": "I33Guvbf147Y"
   },
   "source": [
    "## Итерирование"
   ]
  },
  {
   "cell_type": "markdown",
   "metadata": {
    "id": "fV0HmkHx147Y"
   },
   "source": [
    "Один способ сделать объект \"итерабельным\" нам уже известен, это метод `__next__`. Но он не единственный"
   ]
  },
  {
   "cell_type": "code",
   "execution_count": null,
   "metadata": {
    "id": "OB0078hb147Y"
   },
   "outputs": [],
   "source": [
    "class VectorIterable(VectorWithTypes):\n",
    "    def __getitem__(self, position):\n",
    "        if position in (0, 1):\n",
    "            return (self._x, self._y)[position]\n",
    "        else:\n",
    "            raise Exception('position should be 0 or 1')\n",
    "    \n",
    "    def __len__(self):\n",
    "        return 2\n",
    "    \n",
    "    def __reversed__(self):\n",
    "        return tuple(reversed(self._x, self._y))"
   ]
  },
  {
   "cell_type": "code",
   "execution_count": null,
   "metadata": {
    "colab": {
     "base_uri": "https://localhost:8080/",
     "height": 365
    },
    "id": "qwkl1UdV147Y",
    "outputId": "abff5e8c-7193-4669-8acd-c0e35d3624cc"
   },
   "outputs": [],
   "source": [
    "vector = VectorIterable(100, 500)\n",
    "print(vector[0])\n",
    "print(vector[3])"
   ]
  },
  {
   "cell_type": "code",
   "execution_count": null,
   "metadata": {},
   "outputs": [],
   "source": [
    "class VectorIterable(VectorWithTypes):\n",
    "    def __getitem__(self, position):\n",
    "        print(f'{position=}')\n",
    "        if position in (0, 1):\n",
    "            return (self._x, self._y)[position]\n",
    "        else:\n",
    "            raise Exception('index should be 0 or 1')\n",
    "    \n",
    "    def __len__(self):\n",
    "        return 2\n",
    "    \n",
    "    def __reversed__(self):\n",
    "        return (self._x, self._y)[::-1]\n",
    "    \n",
    "vector = VectorIterable(100, 500)"
   ]
  },
  {
   "cell_type": "code",
   "execution_count": null,
   "metadata": {
    "colab": {
     "base_uri": "https://localhost:8080/"
    },
    "id": "ITeqd-ec147Z",
    "outputId": "4a6d53e4-b66a-4922-b4de-411ce606049d"
   },
   "outputs": [],
   "source": [
    "# for вызывает __getitem__ ТОЛЬКО если у класса отсутствует __iter__ \n",
    "\n",
    "for coordinate in vector:\n",
    "    print(coordinate)\n",
    "    print('----')"
   ]
  },
  {
   "cell_type": "code",
   "execution_count": null,
   "metadata": {
    "colab": {
     "base_uri": "https://localhost:8080/"
    },
    "id": "N5KbgSry147Z",
    "outputId": "62a19f9c-1e8a-4858-a78f-30aff2e8345a"
   },
   "outputs": [],
   "source": [
    "for coordinate in reversed(vector):\n",
    "    print(coordinate)"
   ]
  },
  {
   "cell_type": "code",
   "execution_count": null,
   "metadata": {
    "id": "5AcnPwo1147Z"
   },
   "outputs": [],
   "source": [
    "class VectorIterable(VectorWithTypes):\n",
    "    \n",
    "    def __getitem__(self, position):\n",
    "        return (self._y, self._x)[position]\n",
    "    \n",
    "    def __iter__(self):\n",
    "        \n",
    "        #return iter((self._x, self._y))\n",
    "        return self\n",
    "    \n",
    "    def __next__(self):\n",
    "        \n",
    "        if not hasattr(self, 'count'):\n",
    "            self.count = 0\n",
    "        print(f'self.count: {self.count}')\n",
    "        self.count += 1\n",
    "        print(f'self.count after inc: {self.count}')\n",
    "        if self.count < 3:\n",
    "            return (self._x, self._y)[self.count - 1]\n",
    "        else:\n",
    "            raise StopIteration\n",
    "    \n",
    "    def __len__(self):\n",
    "        return 2\n",
    "    \n",
    "    def __reversed__(self):\n",
    "        return (self._x, self._y)[::-1]"
   ]
  },
  {
   "cell_type": "code",
   "execution_count": null,
   "metadata": {
    "colab": {
     "base_uri": "https://localhost:8080/"
    },
    "id": "9OM8eh9I147a",
    "outputId": "89b7b014-b267-4a50-a112-77d0422519ca"
   },
   "outputs": [],
   "source": [
    "vect = VectorIterable(3, 5)\n",
    "\n",
    "for c in vect:\n",
    "    print(c)"
   ]
  },
  {
   "cell_type": "code",
   "execution_count": null,
   "metadata": {
    "colab": {
     "base_uri": "https://localhost:8080/"
    },
    "id": "GOxkqcytgwS1",
    "outputId": "5614b67c-c1af-48b7-f163-9d4478164295"
   },
   "outputs": [],
   "source": [
    "for c in vect:\n",
    "    print(c)\n",
    "vect.count"
   ]
  },
  {
   "cell_type": "markdown",
   "metadata": {
    "id": "LpzTAA0w147a"
   },
   "source": [
    "## Динамическая работа с атрибутами"
   ]
  },
  {
   "cell_type": "markdown",
   "metadata": {
    "collapsed": true,
    "id": "U5oNW1FD147b"
   },
   "source": [
    "Казалось бы, в питоне нет никакой защиты от \"взлома\". Но нельзя ли сделать её самостоятельно?"
   ]
  },
  {
   "cell_type": "code",
   "execution_count": null,
   "metadata": {
    "id": "9VvW-kbr147b"
   },
   "outputs": [],
   "source": [
    "class VectorWithAllAttributes(VectorIterable):\n",
    "    def __getattr__(self, attr_name):\n",
    "        return \"value of {}\".format(attr_name)\n",
    "    \n",
    "    def __setattr__(self, attr_name, attr_value):\n",
    "        if attr_name not in ('_x', '_y', '_color'):\n",
    "            raise Exception('you shall not add new attributes here, young padawan!')\n",
    "        else:\n",
    "            super().__setattr__(attr_name, attr_value)\n",
    "            \n",
    "    def __delattr__(self, attr_name):\n",
    "        print('Heh, you can delete nothing')"
   ]
  },
  {
   "cell_type": "code",
   "execution_count": null,
   "metadata": {
    "colab": {
     "base_uri": "https://localhost:8080/"
    },
    "id": "EEmIKITo147b",
    "outputId": "05ae1877-698e-4d8f-b1b6-80cd3aeaf126"
   },
   "outputs": [],
   "source": [
    "vector = VectorWithAllAttributes(1, 2, 'violet')\n",
    "print(dir(vector))"
   ]
  },
  {
   "cell_type": "code",
   "execution_count": null,
   "metadata": {
    "colab": {
     "base_uri": "https://localhost:8080/"
    },
    "id": "KeJ_KqFu147c",
    "outputId": "20b7145c-3ac8-44b8-e34a-0b8944390174"
   },
   "outputs": [],
   "source": [
    "print(vector.some_attribute)\n",
    "print(vector._color)\n",
    "print(vector.get_x())"
   ]
  },
  {
   "cell_type": "code",
   "execution_count": null,
   "metadata": {
    "colab": {
     "base_uri": "https://localhost:8080/",
     "height": 294
    },
    "id": "U0QWSHbf147c",
    "outputId": "701e2eba-04bc-4d90-916e-5fdda9b11db0"
   },
   "outputs": [],
   "source": [
    "vector.new_attribute = \"value\""
   ]
  },
  {
   "cell_type": "code",
   "execution_count": null,
   "metadata": {
    "colab": {
     "base_uri": "https://localhost:8080/"
    },
    "id": "yWMRb8U3147c",
    "outputId": "cd8dac50-ce23-454b-dc3e-12ff3f2f495a"
   },
   "outputs": [],
   "source": [
    "del vector._color\n",
    "delattr(vector, '_color')\n",
    "print(vector._color)"
   ]
  },
  {
   "cell_type": "markdown",
   "metadata": {
    "id": "F3wLf6hN147d"
   },
   "source": [
    "### ```__getattr__ vs. __getattribute__```"
   ]
  },
  {
   "cell_type": "markdown",
   "metadata": {},
   "source": [
    "**Offtop** [descriptor protocol](https://docs.python.org/3/reference/datamodel.html#invoking-descriptors)"
   ]
  },
  {
   "cell_type": "code",
   "execution_count": null,
   "metadata": {
    "colab": {
     "base_uri": "https://localhost:8080/"
    },
    "id": "rOIy8vlI8jDD",
    "outputId": "5cd0b355-b212-4a2f-e51d-14d19904e541"
   },
   "outputs": [],
   "source": [
    "class Empty:\n",
    "    def __init__(self, x, y):\n",
    "        self.x = x\n",
    "        self.y = y\n",
    "\n",
    "    def __getattr__(self, attr):\n",
    "        print(f'__getattr__({attr})')\n",
    "        return 100\n",
    "\n",
    "\n",
    "empty = Empty(1, 2)\n",
    "print(empty.x)\n",
    "print(empty.z)"
   ]
  },
  {
   "cell_type": "code",
   "execution_count": null,
   "metadata": {
    "id": "08wvyGsx147d"
   },
   "outputs": [],
   "source": [
    "class GetAttr:\n",
    "    attr1 = 1\n",
    "    def __init__(self):\n",
    "        self.attr2 = 2\n",
    "    def __getattr__(self, attr):   # Только для неопределенных атрибутов\n",
    "        print('get: ' + attr)      # Не attr1: наследуется от класса\n",
    "        return 3                   # Не attr2: хранится в экземпляре\n",
    "    \n",
    "\n",
    "class GetAttribute:\n",
    "    attr1 = 1\n",
    "    def __init__(self):\n",
    "        self.attr2 = 2\n",
    "    def __getattribute__(self, attr):  # Вызывается всеми операциями присваивания\n",
    "        print('get: ' + attr)          # Для предотвращения зацикливания используется суперкласс\n",
    "        if attr == 'attr3':\n",
    "            return 3\n",
    "        else:\n",
    "            return super().__getattribute__(attr)\n"
   ]
  },
  {
   "cell_type": "code",
   "execution_count": null,
   "metadata": {
    "colab": {
     "base_uri": "https://localhost:8080/",
     "height": 490
    },
    "id": "N4h1nejA147d",
    "outputId": "aec59ea1-73b0-4231-87df-cf51961f29f4"
   },
   "outputs": [],
   "source": [
    "X = GetAttr()\n",
    "print(X.attr1)\n",
    "print(X.attr2)\n",
    "print(X.attr3)\n",
    "print(X.attr4)\n",
    "print('-' * 40)        \n",
    "X = GetAttribute()\n",
    "print(X.attr1)\n",
    "print(X.attr2)\n",
    "print(X.attr3)\n",
    "print(X.attr4)"
   ]
  },
  {
   "cell_type": "code",
   "execution_count": null,
   "metadata": {},
   "outputs": [],
   "source": [
    "class GetAttrAndGetAttribute:\n",
    "    attr1 = 1\n",
    "    def __init__(self):\n",
    "        self.attr2 = 2\n",
    "    def __getattr__(self, attr):   # Только для неопределенных атрибутов\n",
    "        print('getattr: ' + attr)      # Не attr1: наследуется от класса\n",
    "        return 3                   # Не attr2: хранится в экземпляре\n",
    "    \n",
    "    def __getattribute__(self, attr):  # Вызывается всеми операциями присваивания\n",
    "        print('getattribute: ' + attr)          # Для предотвращения зацикливания используется суперкласс\n",
    "        if attr == 'attr3':\n",
    "            return 3\n",
    "        else:\n",
    "            return super().__getattribute__(attr)\n",
    "        \n",
    "        \n",
    "X = GetAttrAndGetAttribute()\n",
    "print(X.attr1)\n",
    "print(X.attr2)\n",
    "print(X.attr3)\n",
    "print(X.attr4)"
   ]
  },
  {
   "cell_type": "markdown",
   "metadata": {
    "id": "oW0B-62C147d"
   },
   "source": [
    "## Контексты"
   ]
  },
  {
   "cell_type": "code",
   "execution_count": null,
   "metadata": {
    "id": "ttzSX6r4147e"
   },
   "outputs": [],
   "source": [
    "class VectorWithContextManager(VectorWithAllAttributes):\n",
    "    def __enter__(self):\n",
    "        print('entering context')\n",
    "    def __exit__(self, *args):\n",
    "        print(args)\n",
    "        print(dir(args[2]), args[2].tb_lineno)\n",
    "        print('leaving context')\n",
    "#         return False # -- бросаем ошибку дальше\n",
    "        return True  # -- НЕ бросаем ошибку дальше"
   ]
  },
  {
   "cell_type": "code",
   "execution_count": null,
   "metadata": {},
   "outputs": [],
   "source": [
    "with VectorWithContextManager() as vec:\n",
    "    for i in range(3):\n",
    "        print(i)\n",
    "    raise Exception('something happened inside!')"
   ]
  },
  {
   "cell_type": "code",
   "execution_count": null,
   "metadata": {
    "colab": {
     "base_uri": "https://localhost:8080/"
    },
    "id": "xkuedAFM147e",
    "outputId": "ab7c7241-fb69-4622-cb1b-eb36b366e4bd"
   },
   "outputs": [],
   "source": [
    "try:\n",
    "    with VectorWithContextManager() as vec:\n",
    "        for i in range(3):\n",
    "            print(i)\n",
    "        raise Exception('something happened inside!')\n",
    "except:\n",
    "    print('an exception was raised...')\n",
    "    pass\n",
    "print('we are out of the context')"
   ]
  },
  {
   "cell_type": "markdown",
   "metadata": {
    "id": "gJ3RhNFW147e"
   },
   "source": [
    "Но можно и проще!"
   ]
  },
  {
   "cell_type": "code",
   "execution_count": null,
   "metadata": {
    "colab": {
     "base_uri": "https://localhost:8080/"
    },
    "id": "Dlhjh3hW147e",
    "outputId": "6dc4a0cb-9219-4bd8-cab2-e3ecffddb0c4"
   },
   "outputs": [],
   "source": [
    "from contextlib import contextmanager\n",
    "\n",
    "@contextmanager\n",
    "def vector_mgr():\n",
    "    print('handling entering the context')\n",
    "    yield Vector()\n",
    "    print('handling leaving the context')\n",
    "          \n",
    "print('statement before context')\n",
    "with vector_mgr() as vector:\n",
    "    for i in range(3):\n",
    "        print(vector)\n",
    "print('statement after context')"
   ]
  },
  {
   "cell_type": "code",
   "execution_count": null,
   "metadata": {
    "colab": {
     "base_uri": "https://localhost:8080/"
    },
    "id": "qq_n9xRI147f",
    "outputId": "6735e827-c85e-4216-b38d-84de8aaebd54"
   },
   "outputs": [],
   "source": [
    "# А теперь с ошибкой:\n",
    "\n",
    "@contextmanager\n",
    "def vector_mgr():\n",
    "    try:\n",
    "        print('handling entering the context')\n",
    "        yield Vector()\n",
    "    except ZeroDivisionError as e:\n",
    "        pass\n",
    "#     else:\n",
    "#         code\n",
    "    finally:\n",
    "        print('handling leaving the context')\n",
    "          \n",
    "print('statement before context')\n",
    "with vector_mgr() as vector:\n",
    "    for i in range(3):\n",
    "        print(vector)\n",
    "        infin = 1 / 0\n",
    "print('statement after context')"
   ]
  },
  {
   "cell_type": "markdown",
   "metadata": {
    "id": "4lHeMDvi147f"
   },
   "source": [
    "## Создание и удаление объектов"
   ]
  },
  {
   "cell_type": "code",
   "execution_count": null,
   "metadata": {
    "id": "E0Ce9Psc147f"
   },
   "outputs": [],
   "source": [
    "class VectorInitialized(VectorWithContextManager):\n",
    "    def __new__(cls, *args, **kwargs):\n",
    "        print('invoking __new__ method')\n",
    "        print(cls, args, kwargs)\n",
    "        print(object)\n",
    "        return object.__new__(cls)\n",
    "    \n",
    "    def __del__(self):\n",
    "        print('deleting an object')\n",
    "        raise Exception(\"exception while destructing\")"
   ]
  },
  {
   "cell_type": "code",
   "execution_count": null,
   "metadata": {
    "id": "EgBfAIYU147f"
   },
   "outputs": [],
   "source": [
    "vect = VectorInitialized(1, 2, color='navy blue')\n",
    "print(vect)"
   ]
  },
  {
   "cell_type": "code",
   "execution_count": null,
   "metadata": {},
   "outputs": [],
   "source": [
    "import sys\n",
    "print('aaaaa', file=sys.stdout)"
   ]
  },
  {
   "cell_type": "code",
   "execution_count": null,
   "metadata": {
    "id": "HXUHu37z147g",
    "scrolled": true
   },
   "outputs": [],
   "source": [
    "del vect"
   ]
  },
  {
   "cell_type": "code",
   "execution_count": null,
   "metadata": {},
   "outputs": [],
   "source": [
    "# vect1 = VectorInitialized(1, 2, color='navy blue')\n",
    "# vect2 = vect1\n",
    "\n",
    "vect1 = vect2 = VectorInitialized(1, 2, color='navy blue')"
   ]
  },
  {
   "cell_type": "code",
   "execution_count": null,
   "metadata": {},
   "outputs": [],
   "source": [
    "a = b = c = 1000000"
   ]
  },
  {
   "cell_type": "code",
   "execution_count": null,
   "metadata": {},
   "outputs": [],
   "source": [
    "a is b"
   ]
  },
  {
   "cell_type": "code",
   "execution_count": null,
   "metadata": {},
   "outputs": [],
   "source": [
    "del vect1"
   ]
  },
  {
   "cell_type": "code",
   "execution_count": null,
   "metadata": {
    "scrolled": true
   },
   "outputs": [],
   "source": [
    "del vect2"
   ]
  },
  {
   "cell_type": "markdown",
   "metadata": {
    "id": "OtxxD37Y147g"
   },
   "source": [
    "### Упражнение! \n",
    "\n",
    "Как с помощью метода `__new__` сделать класс \"синглтоном\" -- объектом, который создается один раз, а при попытке повторного создания возвращается уже готовый объект?"
   ]
  },
  {
   "cell_type": "code",
   "execution_count": null,
   "metadata": {},
   "outputs": [],
   "source": [
    "type(None)"
   ]
  },
  {
   "cell_type": "code",
   "execution_count": null,
   "metadata": {},
   "outputs": [],
   "source": [
    "type(...)"
   ]
  },
  {
   "cell_type": "code",
   "execution_count": null,
   "metadata": {},
   "outputs": [],
   "source": [
    "s1 = 'ab'\n",
    "s2 = 'a' + 'b'\n",
    "print(s1 == s2)\n",
    "print(s1 is s2)"
   ]
  },
  {
   "cell_type": "code",
   "execution_count": null,
   "metadata": {},
   "outputs": [],
   "source": [
    "n = 1000\n",
    "s3 = ''\n",
    "for _ in range(n):\n",
    "    s3 += 'a'\n",
    "    \n",
    "s4 = ''.join(['a' for _ in range(n)])\n",
    "print(len(s3) == len(s4))\n",
    "s3 is s4"
   ]
  },
  {
   "cell_type": "code",
   "execution_count": null,
   "metadata": {
    "id": "sWdLs7qb147g"
   },
   "outputs": [],
   "source": [
    "class SingletonClass:\n",
    "    \n",
    "    _inst = None\n",
    "    \n",
    "    def __new__(cls, *args, **kwargs):\n",
    "        if cls._inst is None:\n",
    "            cls._inst = object.__new__(cls)\n",
    "        return cls._inst\n",
    "        \n",
    "obj1 = SingletonClass()\n",
    "obj2 = SingletonClass()\n",
    "assert id(obj1) == id(obj2)"
   ]
  },
  {
   "cell_type": "code",
   "execution_count": null,
   "metadata": {},
   "outputs": [],
   "source": [
    "class A:\n",
    "    a = []\n",
    "    \n",
    "b = A()\n",
    "b.a.append(1)\n",
    "A.a"
   ]
  },
  {
   "cell_type": "code",
   "execution_count": null,
   "metadata": {},
   "outputs": [],
   "source": []
  }
 ],
 "metadata": {
  "colab": {
   "provenance": []
  },
  "kernelspec": {
   "display_name": "Python 3 (ipykernel)",
   "language": "python",
   "name": "python3"
  },
  "language_info": {
   "codemirror_mode": {
    "name": "ipython",
    "version": 3
   },
   "file_extension": ".py",
   "mimetype": "text/x-python",
   "name": "python",
   "nbconvert_exporter": "python",
   "pygments_lexer": "ipython3",
   "version": "3.8.12"
  }
 },
 "nbformat": 4,
 "nbformat_minor": 1
}
