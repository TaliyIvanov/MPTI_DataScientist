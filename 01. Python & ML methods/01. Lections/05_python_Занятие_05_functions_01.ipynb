{
 "cells": [
  {
   "cell_type": "markdown",
   "metadata": {
    "toc": true
   },
   "source": [
    "<h1>Table of Contents<span class=\"tocSkip\"></span></h1>\n",
    "<div class=\"toc\"><ul class=\"toc-item\"><li><span><a href=\"#Повторение\" data-toc-modified-id=\"Повторение-1\"><span class=\"toc-item-num\">1&nbsp;&nbsp;</span>Повторение</a></span><ul class=\"toc-item\"><li><span><a href=\"#№1\" data-toc-modified-id=\"№1-1.1\"><span class=\"toc-item-num\">1.1&nbsp;&nbsp;</span>№1</a></span></li><li><span><a href=\"#№2\" data-toc-modified-id=\"№2-1.2\"><span class=\"toc-item-num\">1.2&nbsp;&nbsp;</span>№2</a></span></li><li><span><a href=\"#№3\" data-toc-modified-id=\"№3-1.3\"><span class=\"toc-item-num\">1.3&nbsp;&nbsp;</span>№3</a></span></li></ul></li><li><span><a href=\"#Функции-1\" data-toc-modified-id=\"Функции-1-2\"><span class=\"toc-item-num\">2&nbsp;&nbsp;</span>Функции 1</a></span><ul class=\"toc-item\"><li><span><a href=\"#План-на-сегодня\" data-toc-modified-id=\"План-на-сегодня-2.1\"><span class=\"toc-item-num\">2.1&nbsp;&nbsp;</span>План на сегодня</a></span></li><li><span><a href=\"#Базовый-синтаксис\" data-toc-modified-id=\"Базовый-синтаксис-2.2\"><span class=\"toc-item-num\">2.2&nbsp;&nbsp;</span>Базовый синтаксис</a></span></li></ul></li><li><span><a href=\"#Аргументы\" data-toc-modified-id=\"Аргументы-3\"><span class=\"toc-item-num\">3&nbsp;&nbsp;</span>Аргументы</a></span><ul class=\"toc-item\"><li><span><a href=\"#Позиционные-a-и-b:\" data-toc-modified-id=\"Позиционные-a-и-b:-3.1\"><span class=\"toc-item-num\">3.1&nbsp;&nbsp;</span>Позиционные <code>a</code> и <code>b</code>:</a></span></li><li><span><a href=\"#Именованные-c-и-d\" data-toc-modified-id=\"Именованные-c-и-d-3.2\"><span class=\"toc-item-num\">3.2&nbsp;&nbsp;</span>Именованные <code>c</code> и <code>d</code></a></span></li><li><span><a href=\"#Изменяемые-объекты-для-значений-аргументов-передаются-по-ссылке,-неизменяемые---по-значению\" data-toc-modified-id=\"Изменяемые-объекты-для-значений-аргументов-передаются-по-ссылке,-неизменяемые---по-значению-3.3\"><span class=\"toc-item-num\">3.3&nbsp;&nbsp;</span>Изменяемые объекты для значений аргументов передаются по ссылке, неизменяемые - по значению</a></span></li><li><span><a href=\"#Переменное-число-позиционных-аргументов-*args\" data-toc-modified-id=\"Переменное-число-позиционных-аргументов-*args-3.4\"><span class=\"toc-item-num\">3.4&nbsp;&nbsp;</span>Переменное число позиционных аргументов *args</a></span></li><li><span><a href=\"#переменное-число-именованных-аргументов-**kwargs\" data-toc-modified-id=\"переменное-число-именованных-аргументов-**kwargs-3.5\"><span class=\"toc-item-num\">3.5&nbsp;&nbsp;</span>переменное число именованных аргументов **kwargs</a></span></li><li><span><a href=\"#Модуль-inspect\" data-toc-modified-id=\"Модуль-inspect-3.6\"><span class=\"toc-item-num\">3.6&nbsp;&nbsp;</span>Модуль inspect</a></span></li></ul></li><li><span><a href=\"#Рекурсия\" data-toc-modified-id=\"Рекурсия-4\"><span class=\"toc-item-num\">4&nbsp;&nbsp;</span>Рекурсия</a></span><ul class=\"toc-item\"><li><ul class=\"toc-item\"><li><span><a href=\"#Оператор-assert\" data-toc-modified-id=\"Оператор-assert-4.0.1\"><span class=\"toc-item-num\">4.0.1&nbsp;&nbsp;</span>Оператор assert</a></span></li></ul></li></ul></li><li><span><a href=\"#Анонимные-функции-(или-лямбда-функции)\" data-toc-modified-id=\"Анонимные-функции-(или-лямбда-функции)-5\"><span class=\"toc-item-num\">5&nbsp;&nbsp;</span>Анонимные функции (или лямбда-функции)</a></span></li><li><span><a href=\"#Атрибуты\" data-toc-modified-id=\"Атрибуты-6\"><span class=\"toc-item-num\">6&nbsp;&nbsp;</span>Атрибуты</a></span><ul class=\"toc-item\"><li><span><a href=\"#Атрибуты-можно-использовать-как-статические-переменные\" data-toc-modified-id=\"Атрибуты-можно-использовать-как-статические-переменные-6.1\"><span class=\"toc-item-num\">6.1&nbsp;&nbsp;</span>Атрибуты можно использовать как статические переменные</a></span></li><li><span><a href=\"#Почему-не-стоит-использовать-mutable-аргументы-по-умолчанию\" data-toc-modified-id=\"Почему-не-стоит-использовать-mutable-аргументы-по-умолчанию-6.2\"><span class=\"toc-item-num\">6.2&nbsp;&nbsp;</span>Почему не стоит использовать mutable аргументы по умолчанию</a></span></li></ul></li></ul></div>"
   ]
  },
  {
   "cell_type": "code",
   "execution_count": null,
   "metadata": {},
   "outputs": [],
   "source": []
  },
  {
   "cell_type": "markdown",
   "metadata": {
    "toc": true
   },
   "source": [
    "<h1>Table of Contents<span class=\"tocSkip\"></span></h1>\n",
    "<div class=\"toc\"><ul class=\"toc-item\"><li><span><a href=\"#Повторение\" data-toc-modified-id=\"Повторение-1\"><span class=\"toc-item-num\">1&nbsp;&nbsp;</span>Повторение</a></span><ul class=\"toc-item\"><li><span><a href=\"#№1\" data-toc-modified-id=\"№1-1.1\"><span class=\"toc-item-num\">1.1&nbsp;&nbsp;</span>№1</a></span></li><li><span><a href=\"#№2\" data-toc-modified-id=\"№2-1.2\"><span class=\"toc-item-num\">1.2&nbsp;&nbsp;</span>№2</a></span></li><li><span><a href=\"#№3\" data-toc-modified-id=\"№3-1.3\"><span class=\"toc-item-num\">1.3&nbsp;&nbsp;</span>№3</a></span></li></ul></li><li><span><a href=\"#Функции-1\" data-toc-modified-id=\"Функции-1-2\"><span class=\"toc-item-num\">2&nbsp;&nbsp;</span>Функции 1</a></span><ul class=\"toc-item\"><li><span><a href=\"#План-на-сегодня\" data-toc-modified-id=\"План-на-сегодня-2.1\"><span class=\"toc-item-num\">2.1&nbsp;&nbsp;</span>План на сегодня</a></span></li><li><span><a href=\"#Базовый-синтаксис\" data-toc-modified-id=\"Базовый-синтаксис-2.2\"><span class=\"toc-item-num\">2.2&nbsp;&nbsp;</span>Базовый синтаксис</a></span></li></ul></li><li><span><a href=\"#Аргументы\" data-toc-modified-id=\"Аргументы-3\"><span class=\"toc-item-num\">3&nbsp;&nbsp;</span>Аргументы</a></span><ul class=\"toc-item\"><li><span><a href=\"#Позиционные-a-и-b:\" data-toc-modified-id=\"Позиционные-a-и-b:-3.1\"><span class=\"toc-item-num\">3.1&nbsp;&nbsp;</span>Позиционные <code>a</code> и <code>b</code>:</a></span></li><li><span><a href=\"#Именованные-c-и-d\" data-toc-modified-id=\"Именованные-c-и-d-3.2\"><span class=\"toc-item-num\">3.2&nbsp;&nbsp;</span>Именованные <code>c</code> и <code>d</code></a></span></li><li><span><a href=\"#Изменяемые-объекты-для-значений-аргументов-передаются-по-ссылке,-неизменяемые---по-значению\" data-toc-modified-id=\"Изменяемые-объекты-для-значений-аргументов-передаются-по-ссылке,-неизменяемые---по-значению-3.3\"><span class=\"toc-item-num\">3.3&nbsp;&nbsp;</span>Изменяемые объекты для значений аргументов передаются по ссылке, неизменяемые - по значению</a></span></li><li><span><a href=\"#Переменное-число-позиционных-аргументов-*args\" data-toc-modified-id=\"Переменное-число-позиционных-аргументов-*args-3.4\"><span class=\"toc-item-num\">3.4&nbsp;&nbsp;</span>Переменное число позиционных аргументов *args</a></span></li><li><span><a href=\"#переменное-число-именованных-аргументов-**kwargs\" data-toc-modified-id=\"переменное-число-именованных-аргументов-**kwargs-3.5\"><span class=\"toc-item-num\">3.5&nbsp;&nbsp;</span>переменное число именованных аргументов **kwargs</a></span></li><li><span><a href=\"#Модуль-inspect\" data-toc-modified-id=\"Модуль-inspect-3.6\"><span class=\"toc-item-num\">3.6&nbsp;&nbsp;</span>Модуль inspect</a></span></li></ul></li><li><span><a href=\"#Рекурсия\" data-toc-modified-id=\"Рекурсия-4\"><span class=\"toc-item-num\">4&nbsp;&nbsp;</span>Рекурсия</a></span></li><li><span><a href=\"#Анонимные-функции-(или-лямбда-функции)\" data-toc-modified-id=\"Анонимные-функции-(или-лямбда-функции)-5\"><span class=\"toc-item-num\">5&nbsp;&nbsp;</span>Анонимные функции (или лямбда-функции)</a></span></li><li><span><a href=\"#Атрибуты\" data-toc-modified-id=\"Атрибуты-6\"><span class=\"toc-item-num\">6&nbsp;&nbsp;</span>Атрибуты</a></span><ul class=\"toc-item\"><li><span><a href=\"#Атрибуты-можно-использовать-как-статические-переменные\" data-toc-modified-id=\"Атрибуты-можно-использовать-как-статические-переменные-6.1\"><span class=\"toc-item-num\">6.1&nbsp;&nbsp;</span>Атрибуты можно использовать как статические переменные</a></span></li><li><span><a href=\"#Почему-не-стоит-использовать-mutable-аргументы-по-умолчанию\" data-toc-modified-id=\"Почему-не-стоит-использовать-mutable-аргументы-по-умолчанию-6.2\"><span class=\"toc-item-num\">6.2&nbsp;&nbsp;</span>Почему не стоит использовать mutable аргументы по умолчанию</a></span></li></ul></li></ul></div>"
   ]
  },
  {
   "cell_type": "markdown",
   "metadata": {
    "id": "vAggjP30nWL5"
   },
   "source": [
    "## Повторение"
   ]
  },
  {
   "cell_type": "markdown",
   "metadata": {},
   "source": [
    "\n",
    "### №1\n",
    "\n",
    "На вход подаётся матрица (список списков) - вывести (==создать) транспонированную матрицу (а в одну строку?)\n",
    "\n",
    "$$transpose(A^{n, m}) = B^{m, n}$$\n",
    "\n",
    "$$ b_{ij}= a_{ji}$$"
   ]
  },
  {
   "cell_type": "code",
   "execution_count": 2,
   "metadata": {
    "colab": {
     "base_uri": "https://localhost:8080/"
    },
    "id": "iaZlD7MvnWL6",
    "outputId": "c290d48f-6985-415a-cdb8-eeaea3e3e38e"
   },
   "outputs": [
    {
     "name": "stdout",
     "output_type": "stream",
     "text": [
      "[1, 4, 7]\n",
      "[2, 5, 8]\n",
      "[3, 6, 9]\n",
      "[10, 10, 10]\n",
      "(1, 4, 7)\n",
      "(2, 5, 8)\n",
      "(3, 6, 9)\n",
      "(10, 10, 10)\n"
     ]
    }
   ],
   "source": [
    "mat = [[1, 2, 3, 10], \n",
    "       [4, 5, 6, 10], \n",
    "       [7, 8, 9, 10]]\n",
    "\n",
    "# [[1, 4, 7],\n",
    "# [2, 5, 8],\n",
    "# [3, 6, 9]],\n",
    "# [10, 10, 10]\n",
    "\n",
    "n = len(mat)\n",
    "m = len(mat[0])\n",
    "\n",
    "mat_tran = []\n",
    "\n",
    "for i in range(m):\n",
    "    mat_tran.append([])\n",
    "    for j in range(n):\n",
    "        mat_tran[-1].append(mat[j][i])\n",
    "\n",
    "print(*mat_tran, sep='\\n')\n",
    "\n",
    "\n",
    "mat_tran = list(zip(*mat))\n",
    "# mat_tran = list(list(t) for t in zip(*mat))\n",
    "\n",
    "print(*mat_tran, sep='\\n')"
   ]
  },
  {
   "cell_type": "code",
   "execution_count": 4,
   "metadata": {},
   "outputs": [
    {
     "data": {
      "text/plain": [
       "4"
      ]
     },
     "execution_count": 4,
     "metadata": {},
     "output_type": "execute_result"
    }
   ],
   "source": [
    "m"
   ]
  },
  {
   "cell_type": "markdown",
   "metadata": {},
   "source": [
    "### №2\n",
    "\n",
    "На вход подаются две матрицы - вывести сумму матриц:\n",
    "\n",
    "$$A^{n, m} + B^{n, m} = C^{n, m}$$\n",
    "\n",
    "$$ c_{ij}= a_{ij} + b_{ij} $$"
   ]
  },
  {
   "cell_type": "code",
   "execution_count": 15,
   "metadata": {
    "id": "s26FwhNOnWL6"
   },
   "outputs": [
    {
     "name": "stdout",
     "output_type": "stream",
     "text": [
      "[2, 6, 10]\n",
      "[6, 10, 14]\n",
      "[10, 14, 18]\n",
      "[2, 6, 10]\n",
      "[6, 10, 14]\n",
      "[10, 14, 18]\n"
     ]
    }
   ],
   "source": [
    "A = [[1, 2, 3],\n",
    "     [4, 5, 6],\n",
    "     [7, 8, 9]]\n",
    "\n",
    "B = [[1, 4, 7], \n",
    "     [2, 5, 8], \n",
    "     [3, 6, 9]]\n",
    "\n",
    "n = len(A)\n",
    "m = len(A[-1])\n",
    "C = list()\n",
    "\n",
    "for i in range(n):\n",
    "    C.append([])\n",
    "    for j in range(m):\n",
    "        C[-1].append(A[i][j] + B[i][j])\n",
    "\n",
    "print(*C, sep='\\n')\n",
    "\n",
    "# в одну строку:\n",
    "\n",
    "C = [[A[i][j] + B[i][j] for j in range(m)] for i in range(n)]\n",
    "print(*C, sep='\\n')"
   ]
  },
  {
   "cell_type": "markdown",
   "metadata": {},
   "source": [
    "### №3\n",
    "\n",
    "На вход подаются две матрицы - вывести произведение матриц или сообщение о некорректности входа. Напоминание про умножение матриц: $$A^{n, m} \\times B^{m, k} = C^{n, k}$$\n",
    "\n",
    "$$ c_{ij}= a_{i1} b_{1j} + a_{i2} b_{2j} +\\cdots+ a_{im} b_{mj} = \\sum_{k=1}^m a_{ik}b_{kj} $$"
   ]
  },
  {
   "cell_type": "code",
   "execution_count": 14,
   "metadata": {
    "id": "jAT9ny3KnWL6"
   },
   "outputs": [
    {
     "name": "stdout",
     "output_type": "stream",
     "text": [
      "[14, 32, 50, 6]\n",
      "[32, 77, 122, 15]\n"
     ]
    }
   ],
   "source": [
    "A = [[1, 2, 3],\n",
    "     [4, 5, 6]]\n",
    "\n",
    "B = [[1, 4, 7, 1], \n",
    "     [2, 5, 8, 1], \n",
    "     [3, 6, 9, 1]]\n",
    "\n",
    "# можно просто написать тройной цикл - на дом\n",
    "\n",
    "C = [[sum(a * b for a, b in zip(row, column)) for column in zip(*B)] for row in A]\n",
    "\n",
    "print(*C, sep='\\n')"
   ]
  },
  {
   "cell_type": "code",
   "execution_count": 10,
   "metadata": {},
   "outputs": [
    {
     "data": {
      "text/plain": [
       "[(1, 2, 3), (4, 5, 6), (7, 8, 9), (1, 1, 1)]"
      ]
     },
     "execution_count": 10,
     "metadata": {},
     "output_type": "execute_result"
    }
   ],
   "source": [
    "B = [[1, 4, 7, 1], \n",
    "     [2, 5, 8, 1], \n",
    "     [3, 6, 9, 1]]\n",
    "\n",
    "list(zip(B[0], B[1], B[2]))"
   ]
  },
  {
   "cell_type": "code",
   "execution_count": 13,
   "metadata": {},
   "outputs": [
    {
     "data": {
      "text/plain": [
       "[('a', 0, 0, 6), ('b', 1, 1, 5), ('c', 2, 2, 4)]"
      ]
     },
     "execution_count": 13,
     "metadata": {},
     "output_type": "execute_result"
    }
   ],
   "source": [
    "list(zip('abcdefg', range(3), range(4), [6, 5, 4, 3, 2, 1]))"
   ]
  },
  {
   "cell_type": "markdown",
   "metadata": {},
   "source": [
    "4) На вход подаётся число N - вывести матрицу-спираль размера NxN. Пример для 3x3:\n",
    "```\n",
    "1 2 3 \n",
    "8 9 4\n",
    "7 6 5 \n",
    "```"
   ]
  },
  {
   "cell_type": "code",
   "execution_count": 1,
   "metadata": {},
   "outputs": [
    {
     "name": "stdout",
     "output_type": "stream",
     "text": [
      "r\n"
     ]
    },
    {
     "ename": "ValueError",
     "evalue": "invalid literal for int() with base 10: 'r'",
     "output_type": "error",
     "traceback": [
      "\u001b[1;31m---------------------------------------------------------------------------\u001b[0m",
      "\u001b[1;31mValueError\u001b[0m                                Traceback (most recent call last)",
      "Input \u001b[1;32mIn [1]\u001b[0m, in \u001b[0;36m<cell line: 1>\u001b[1;34m()\u001b[0m\n\u001b[1;32m----> 1\u001b[0m n \u001b[38;5;241m=\u001b[39m \u001b[38;5;28;43mint\u001b[39;49m\u001b[43m(\u001b[49m\u001b[38;5;28;43minput\u001b[39;49m\u001b[43m(\u001b[49m\u001b[43m)\u001b[49m\u001b[43m)\u001b[49m\n",
      "\u001b[1;31mValueError\u001b[0m: invalid literal for int() with base 10: 'r'"
     ]
    }
   ],
   "source": [
    "n = int(input())\n",
    "\n",
    "# ваше решение тут"
   ]
  },
  {
   "cell_type": "markdown",
   "metadata": {},
   "source": [
    "Решение: https://mob25.com/zapolnenie-matricy-po-spirali-v-python/"
   ]
  },
  {
   "cell_type": "markdown",
   "metadata": {
    "id": "m0fMdvd6HlhA"
   },
   "source": [
    "## Функции 1\n",
    "\n",
    "### План на сегодня\n",
    "\n",
    "* Базовый синтаксис: `def`, `return`\n",
    "* Типы аргументов\n",
    "* Рекурсия, стек вызовов\n",
    "* Анонимные функции: `lambda`\n",
    "* Атрибуты"
   ]
  },
  {
   "cell_type": "markdown",
   "metadata": {},
   "source": [
    "### Базовый синтаксис"
   ]
  },
  {
   "cell_type": "markdown",
   "metadata": {},
   "source": [
    "Фукнции создаются следующим образом：\n",
    "\n",
    "```python\n",
    "def function_name(a, b, c):\n",
    "    ... \n",
    "```\n",
    "\n",
    "* объявление функции начинается с ключевого слова `def`\n",
    "* затем через пробел идет имя функции `function_name` \n",
    "* в скобках указываются параметры функции `(a, b, c)`\n",
    "* в конце ставится двоеточие `:`"
   ]
  },
  {
   "cell_type": "markdown",
   "metadata": {},
   "source": [
    "В следующем примере мы создадим функцию без параметров (да, так тоже можно): "
   ]
  },
  {
   "cell_type": "code",
   "execution_count": 1,
   "metadata": {},
   "outputs": [],
   "source": [
    "def hello_function():\n",
    "    print('hello')"
   ]
  },
  {
   "cell_type": "markdown",
   "metadata": {},
   "source": [
    "Мы уже использовали много различных функций: `print`, `sum`, `sorted` и т.д. Синтаксис вызова ваших собственных функций ничем не отличается: "
   ]
  },
  {
   "cell_type": "code",
   "execution_count": 2,
   "metadata": {},
   "outputs": [
    {
     "data": {
      "text/plain": [
       "<function __main__.hello_function()>"
      ]
     },
     "execution_count": 2,
     "metadata": {},
     "output_type": "execute_result"
    }
   ],
   "source": [
    "hello_function"
   ]
  },
  {
   "cell_type": "markdown",
   "metadata": {},
   "source": [
    "нужно просто добавить скобки:"
   ]
  },
  {
   "cell_type": "code",
   "execution_count": 3,
   "metadata": {},
   "outputs": [
    {
     "name": "stdout",
     "output_type": "stream",
     "text": [
      "hello\n"
     ]
    }
   ],
   "source": [
    "hello_function()"
   ]
  },
  {
   "cell_type": "markdown",
   "metadata": {},
   "source": [
    "Для наименований функций работают те же правила, что и для переменных:"
   ]
  },
  {
   "cell_type": "code",
   "execution_count": 4,
   "metadata": {},
   "outputs": [
    {
     "name": "stdout",
     "output_type": "stream",
     "text": [
      "good or bad?\n"
     ]
    }
   ],
   "source": [
    "def Name():\n",
    "    print('good or bad?')\n",
    "\n",
    "Name()"
   ]
  },
  {
   "cell_type": "markdown",
   "metadata": {},
   "source": [
    "После объявления функции и ее параметров (**сигнатура функции**), начиная со следующей строки, надо написать, что она должна делать - это будет **тело функции**. \n",
    "\n",
    "```python\n",
    "def name_of_function(param1, param2, ...):\n",
    "    body of function \n",
    "```  \n",
    "\n",
    "Как и тело цикла - это просто программа (набор инструкций питона). Тело функции идет с уже привычным для нас отступом:\n",
    "\n",
    "```python\n",
    "def name_of_function(param1, param2, ...):\n",
    "    statement 1\n",
    "    statement 2\n",
    "    statement 3\n",
    "    ...\n",
    "```\n"
   ]
  },
  {
   "cell_type": "code",
   "execution_count": 5,
   "metadata": {},
   "outputs": [
    {
     "name": "stdout",
     "output_type": "stream",
     "text": [
      "Help on built-in function sorted in module builtins:\n",
      "\n",
      "sorted(iterable, /, *, key=None, reverse=False)\n",
      "    Return a new list containing all items from the iterable in ascending order.\n",
      "    \n",
      "    A custom key function can be supplied to customize the sort order, and the\n",
      "    reverse flag can be set to request the result in descending order.\n",
      "\n"
     ]
    }
   ],
   "source": [
    "help(sorted)"
   ]
  },
  {
   "cell_type": "code",
   "execution_count": 6,
   "metadata": {},
   "outputs": [
    {
     "name": "stdout",
     "output_type": "stream",
     "text": [
      "line4\n"
     ]
    }
   ],
   "source": [
    "def function_name():\n",
    "    print('line 1')\n",
    "    print('line 2')\n",
    "    print('line 3')\n",
    "    \n",
    "print('line4')"
   ]
  },
  {
   "cell_type": "code",
   "execution_count": 7,
   "metadata": {},
   "outputs": [
    {
     "name": "stdout",
     "output_type": "stream",
     "text": [
      "line 1\n",
      "line 2\n",
      "line 3\n"
     ]
    }
   ],
   "source": [
    "function_name()"
   ]
  },
  {
   "cell_type": "markdown",
   "metadata": {},
   "source": [
    "Есть специальная инструкция `return`, которая может использоваться только в теле функции. Она **завершает** выполнение функции и возвращает объект, созданный выражением `exp` после нее:\n",
    "\n",
    "```python\n",
    "def name_of_function(param1, param2, ...):\n",
    "    body of function \n",
    "    return exp\n",
    "```  "
   ]
  },
  {
   "cell_type": "code",
   "execution_count": 8,
   "metadata": {
    "id": "PlVLJLALVtqY"
   },
   "outputs": [
    {
     "data": {
      "text/plain": [
       "42"
      ]
     },
     "execution_count": 8,
     "metadata": {},
     "output_type": "execute_result"
    }
   ],
   "source": [
    "def func(a, b):\n",
    "    result = a + b\n",
    "    return result\n",
    "\n",
    "func(20, 22)"
   ]
  },
  {
   "cell_type": "code",
   "execution_count": 9,
   "metadata": {},
   "outputs": [
    {
     "name": "stdout",
     "output_type": "stream",
     "text": [
      "1764\n"
     ]
    }
   ],
   "source": [
    "var = func(20, 22)\n",
    "\n",
    "print(var ** 2)"
   ]
  },
  {
   "cell_type": "markdown",
   "metadata": {},
   "source": [
    "В таких простых случаях можно и короче, так как выражение после `return` посчитается:"
   ]
  },
  {
   "cell_type": "code",
   "execution_count": 10,
   "metadata": {},
   "outputs": [
    {
     "data": {
      "text/plain": [
       "42"
      ]
     },
     "execution_count": 10,
     "metadata": {},
     "output_type": "execute_result"
    }
   ],
   "source": [
    "def func(a, b):\n",
    "    return a + b\n",
    "\n",
    "func(20, 22)"
   ]
  },
  {
   "cell_type": "markdown",
   "metadata": {},
   "source": [
    "Обычно объект, посчитанный функцией, сохраняют в переменной, чтобы использовать дальше в коде:"
   ]
  },
  {
   "cell_type": "code",
   "execution_count": 11,
   "metadata": {},
   "outputs": [
    {
     "name": "stdout",
     "output_type": "stream",
     "text": [
      "value1 = 6\n",
      "value2 = '42'\n"
     ]
    }
   ],
   "source": [
    "value1 = func(4, 2)\n",
    "\n",
    "value2 = func('4', '2')\n",
    "\n",
    "print(f'{value1 = }\\n{value2 = }')"
   ]
  },
  {
   "cell_type": "markdown",
   "metadata": {},
   "source": [
    "Давайте вспомним, какое значение возвращает, например, `print()`. Как это выяснить с помощью кода?"
   ]
  },
  {
   "cell_type": "code",
   "execution_count": 12,
   "metadata": {},
   "outputs": [
    {
     "name": "stdout",
     "output_type": "stream",
     "text": [
      "\n",
      "None\n",
      "\n",
      "None\n"
     ]
    }
   ],
   "source": [
    "var = print()\n",
    "\n",
    "print(var)\n",
    "\n",
    "# аналогично\n",
    "print(print())"
   ]
  },
  {
   "cell_type": "code",
   "execution_count": 13,
   "metadata": {},
   "outputs": [
    {
     "name": "stdout",
     "output_type": "stream",
     "text": [
      "line 1\n",
      "line 2\n",
      "line 3\n",
      "None\n"
     ]
    }
   ],
   "source": [
    "print(function_name())"
   ]
  },
  {
   "cell_type": "markdown",
   "metadata": {},
   "source": [
    "Если не указывать `return` или ничего не писать после него, то функция просто возвращает ссылку на `None`. Поэтому запоминаем правило: **вызов** любой функции всегда возвращает нам объект, и при том только один."
   ]
  },
  {
   "cell_type": "code",
   "execution_count": 14,
   "metadata": {},
   "outputs": [],
   "source": [
    "def func01():\n",
    "    print('am I first?')\n",
    "    return \n",
    "\n",
    "def func02():\n",
    "    print('am I second?')\n",
    "    \n",
    "def func03():\n",
    "    print('am I third?')\n",
    "    return None"
   ]
  },
  {
   "cell_type": "code",
   "execution_count": 15,
   "metadata": {},
   "outputs": [
    {
     "name": "stdout",
     "output_type": "stream",
     "text": [
      "am I first?\n"
     ]
    }
   ],
   "source": [
    "func01()"
   ]
  },
  {
   "cell_type": "code",
   "execution_count": 16,
   "metadata": {},
   "outputs": [
    {
     "data": {
      "text/plain": [
       "False"
      ]
     },
     "execution_count": 16,
     "metadata": {},
     "output_type": "execute_result"
    }
   ],
   "source": [
    "# почему False?\n",
    "func01 is func02"
   ]
  },
  {
   "cell_type": "code",
   "execution_count": 17,
   "metadata": {},
   "outputs": [
    {
     "name": "stdout",
     "output_type": "stream",
     "text": [
      "am I first?\n",
      "am I second?\n"
     ]
    },
    {
     "data": {
      "text/plain": [
       "True"
      ]
     },
     "execution_count": 17,
     "metadata": {},
     "output_type": "execute_result"
    }
   ],
   "source": [
    "func01() is func02()"
   ]
  },
  {
   "cell_type": "markdown",
   "metadata": {},
   "source": [
    "А как же возврат нескольких значений? Все просто: они упаковываются в кортеж, если мы их просто перечислим через запятую:"
   ]
  },
  {
   "cell_type": "code",
   "execution_count": 18,
   "metadata": {},
   "outputs": [
    {
     "data": {
      "text/plain": [
       "(1, 'name', False, None)"
      ]
     },
     "execution_count": 18,
     "metadata": {},
     "output_type": "execute_result"
    }
   ],
   "source": [
    "1, 'name', False, None"
   ]
  },
  {
   "cell_type": "code",
   "execution_count": 19,
   "metadata": {},
   "outputs": [
    {
     "name": "stdout",
     "output_type": "stream",
     "text": [
      "return many objects\n",
      "return many objects\n",
      "return many objects\n",
      "return many objects\n"
     ]
    },
    {
     "data": {
      "text/plain": [
       "tuple"
      ]
     },
     "execution_count": 19,
     "metadata": {},
     "output_type": "execute_result"
    }
   ],
   "source": [
    "def one_more_func():\n",
    "    print('return many objects')\n",
    "    print('return many objects')\n",
    "    print('return many objects')\n",
    "    print('return many objects')\n",
    "    return 1, 'name', False, None\n",
    "\n",
    "type(one_more_func())"
   ]
  },
  {
   "cell_type": "code",
   "execution_count": 20,
   "metadata": {},
   "outputs": [
    {
     "name": "stdout",
     "output_type": "stream",
     "text": [
      "a = 1, b = 2, c = 3\n"
     ]
    },
    {
     "data": {
      "text/plain": [
       "(3, 5, 4)"
      ]
     },
     "execution_count": 20,
     "metadata": {},
     "output_type": "execute_result"
    }
   ],
   "source": [
    "def one_more_func(a, b, c):\n",
    "    print(f'{a = }, {b = }, {c = }')\n",
    "    first = a + b\n",
    "    second = b + c\n",
    "    third = a + c\n",
    "    return first, second, third \n",
    "\n",
    "one_more_func(1, 2, 3)"
   ]
  },
  {
   "cell_type": "code",
   "execution_count": 21,
   "metadata": {},
   "outputs": [
    {
     "name": "stdout",
     "output_type": "stream",
     "text": [
      "a = 1, b = 2, c = 3\n"
     ]
    },
    {
     "data": {
      "text/plain": [
       "(3, 5, 4)"
      ]
     },
     "execution_count": 21,
     "metadata": {},
     "output_type": "execute_result"
    }
   ],
   "source": [
    "a, b, c = 1, 2, 3\n",
    "print(f'{a = }, {b = }, {c = }')\n",
    "first = a + b\n",
    "second = b + c\n",
    "third = a + c\n",
    "first, second, third"
   ]
  },
  {
   "cell_type": "code",
   "execution_count": 22,
   "metadata": {},
   "outputs": [
    {
     "name": "stdout",
     "output_type": "stream",
     "text": [
      "[0, 1, 4, 9, 16, 25, 36]\n"
     ]
    },
    {
     "data": {
      "text/plain": [
       "91"
      ]
     },
     "execution_count": 22,
     "metadata": {},
     "output_type": "execute_result"
    }
   ],
   "source": [
    "# создаем список квадратов от 0 - 6\n",
    "lst = [i**2 for i in range(7)]\n",
    "print(lst)\n",
    "# переменная для суммы квадратов элементов списка\n",
    "S = 0\n",
    "\n",
    "for value in lst:\n",
    "    S += value\n",
    "    \n",
    "S"
   ]
  },
  {
   "cell_type": "code",
   "execution_count": 23,
   "metadata": {},
   "outputs": [
    {
     "name": "stdout",
     "output_type": "stream",
     "text": [
      "90\n",
      "135\n",
      "180\n"
     ]
    }
   ],
   "source": [
    "# создадим функцию, принимающую список и суммирующую его значния\n",
    "def lst_sum(L):\n",
    "    # переменная для результата\n",
    "    result = 0\n",
    "    # итерируемся по списку\n",
    "    for value in L:\n",
    "        result += value\n",
    "    return result\n",
    "\n",
    "print(lst_sum([2*i for i in range(10)]))\n",
    "print(lst_sum([3*i for i in range(10)]))\n",
    "print(lst_sum([4*i for i in range(10)]))"
   ]
  },
  {
   "cell_type": "code",
   "execution_count": 24,
   "metadata": {},
   "outputs": [],
   "source": [
    "# создадим функцию транспонирования матрицы\n",
    "def transpose(matrix):\n",
    "    # итерируемся по строкам\n",
    "    n = len(matrix) \n",
    "    # итерируемся по столбцам\n",
    "    m = len(matrix[0])\n",
    "    # пустая матрица для складывания значений\n",
    "    mat_tran = []\n",
    "    # итерируемся по строкам\n",
    "    for i in range(m):\n",
    "        mat_tran.append([])\n",
    "        # итерируемся по столбцами\n",
    "        for j in range(n):\n",
    "            # добавляем элемент\n",
    "            mat_tran[-1].append(matrix[j][i])\n",
    "    # возвращаем получившуюся матрицу\n",
    "    return mat_tran\n",
    "# ну и второй вариант, естественно\n",
    "#     return list(zip(*matrix))"
   ]
  },
  {
   "cell_type": "code",
   "execution_count": 25,
   "metadata": {},
   "outputs": [
    {
     "name": "stdout",
     "output_type": "stream",
     "text": [
      "Help on function transpose in module __main__:\n",
      "\n",
      "transpose(matrix)\n",
      "    # создадим функцию транспонирования матрицы\n",
      "\n"
     ]
    }
   ],
   "source": [
    "help(transpose)"
   ]
  },
  {
   "cell_type": "markdown",
   "metadata": {
    "id": "nvzwXHfSHlhF"
   },
   "source": [
    "## Аргументы"
   ]
  },
  {
   "cell_type": "markdown",
   "metadata": {},
   "source": [
    "Аргументы бывают двух типов: позиционные и именованные - positional and keyword соответственно. Каждый из них **может** обладать дефолтным значением (значение по умолчанию), которое будет использовано, если во время вызова функции соответствующему параметру не передали значение. До версии 3.8 порядок следования аргументов можно было описать следующим образом: "
   ]
  },
  {
   "cell_type": "code",
   "execution_count": 26,
   "metadata": {},
   "outputs": [],
   "source": [
    "# def foo(positional_args, \n",
    "#         positional_args_with_default, \n",
    "#         *pos_args_name, \n",
    "#         keyword_only_args,\n",
    "#         keyword_only_args_with_default,\n",
    "#         **kw_args_name)"
   ]
  },
  {
   "cell_type": "markdown",
   "metadata": {},
   "source": [
    "### Позиционные `a` и `b`:"
   ]
  },
  {
   "cell_type": "code",
   "execution_count": 27,
   "metadata": {},
   "outputs": [
    {
     "data": {
      "text/plain": [
       "3"
      ]
     },
     "execution_count": 27,
     "metadata": {},
     "output_type": "execute_result"
    }
   ],
   "source": [
    "def func1(a, b):\n",
    "    return a + b\n",
    "\n",
    "func1(1, 2)"
   ]
  },
  {
   "cell_type": "code",
   "execution_count": 28,
   "metadata": {},
   "outputs": [],
   "source": [
    "# b = 8 - позиционный аргумент с дефолтным значением\n",
    "def func2(a, b=8):\n",
    "    return a + b"
   ]
  },
  {
   "cell_type": "code",
   "execution_count": 29,
   "metadata": {},
   "outputs": [
    {
     "data": {
      "text/plain": [
       "6"
      ]
     },
     "execution_count": 29,
     "metadata": {},
     "output_type": "execute_result"
    }
   ],
   "source": [
    "func2(2, 4)"
   ]
  },
  {
   "cell_type": "code",
   "execution_count": 30,
   "metadata": {},
   "outputs": [
    {
     "data": {
      "text/plain": [
       "6"
      ]
     },
     "execution_count": 30,
     "metadata": {},
     "output_type": "execute_result"
    }
   ],
   "source": [
    "func2(a=2, b=4)"
   ]
  },
  {
   "cell_type": "markdown",
   "metadata": {},
   "source": [
    "Но если значение для аргумента не будет передано, то автоматически используется дефолтный:"
   ]
  },
  {
   "cell_type": "code",
   "execution_count": 31,
   "metadata": {},
   "outputs": [
    {
     "data": {
      "text/plain": [
       "10"
      ]
     },
     "execution_count": 31,
     "metadata": {},
     "output_type": "execute_result"
    }
   ],
   "source": [
    "func2(2)"
   ]
  },
  {
   "cell_type": "markdown",
   "metadata": {},
   "source": [
    "Поэтому пустыми принтами можно печатать пустые строки:"
   ]
  },
  {
   "cell_type": "code",
   "execution_count": 32,
   "metadata": {},
   "outputs": [
    {
     "name": "stdout",
     "output_type": "stream",
     "text": [
      "hello\n",
      "world\n"
     ]
    }
   ],
   "source": [
    "print('hello')\n",
    "print('world')"
   ]
  },
  {
   "cell_type": "code",
   "execution_count": 33,
   "metadata": {},
   "outputs": [
    {
     "name": "stdout",
     "output_type": "stream",
     "text": [
      "hello\n",
      "\n",
      "world\n"
     ]
    }
   ],
   "source": [
    "print('hello')\n",
    "print()\n",
    "print('world')"
   ]
  },
  {
   "cell_type": "markdown",
   "metadata": {},
   "source": [
    "### Именованные `c` и `d`"
   ]
  },
  {
   "cell_type": "code",
   "execution_count": 34,
   "metadata": {
    "colab": {
     "base_uri": "https://localhost:8080/"
    },
    "executionInfo": {
     "elapsed": 5,
     "status": "ok",
     "timestamp": 1654710013655,
     "user": {
      "displayName": "Ilia Sklonin",
      "userId": "11017978408778967846"
     },
     "user_tz": -180
    },
    "id": "Wpucv7JPHlhF",
    "outputId": "d4ecb373-c3bb-4d7b-fa3c-cf8eae08476d"
   },
   "outputs": [],
   "source": [
    "def foo(a, b, c=0.5, d=(None,)):\n",
    "    print(f'{a=} {b=} {c=} {d=}')"
   ]
  },
  {
   "cell_type": "code",
   "execution_count": 35,
   "metadata": {
    "colab": {
     "base_uri": "https://localhost:8080/"
    },
    "executionInfo": {
     "elapsed": 5,
     "status": "ok",
     "timestamp": 1654710013655,
     "user": {
      "displayName": "Ilia Sklonin",
      "userId": "11017978408778967846"
     },
     "user_tz": -180
    },
    "id": "Wpucv7JPHlhF",
    "outputId": "d4ecb373-c3bb-4d7b-fa3c-cf8eae08476d"
   },
   "outputs": [
    {
     "name": "stdout",
     "output_type": "stream",
     "text": [
      "a=1 b='b' c=0.5 d=(None,)\n"
     ]
    }
   ],
   "source": [
    "# вызываем функцию и видим, что печатаются и c и d, хотя их не передавали\n",
    "foo(1, 'b')"
   ]
  },
  {
   "cell_type": "code",
   "execution_count": 36,
   "metadata": {
    "colab": {
     "base_uri": "https://localhost:8080/"
    },
    "executionInfo": {
     "elapsed": 5,
     "status": "ok",
     "timestamp": 1654710013655,
     "user": {
      "displayName": "Ilia Sklonin",
      "userId": "11017978408778967846"
     },
     "user_tz": -180
    },
    "id": "Wpucv7JPHlhF",
    "outputId": "d4ecb373-c3bb-4d7b-fa3c-cf8eae08476d"
   },
   "outputs": [
    {
     "name": "stdout",
     "output_type": "stream",
     "text": [
      "a=1 b='b' c=0.3 d=(None,)\n"
     ]
    }
   ],
   "source": [
    "# подставим три значения\n",
    "foo(1, 'b', 0.3)"
   ]
  },
  {
   "cell_type": "code",
   "execution_count": 37,
   "metadata": {
    "colab": {
     "base_uri": "https://localhost:8080/"
    },
    "executionInfo": {
     "elapsed": 5,
     "status": "ok",
     "timestamp": 1654710013655,
     "user": {
      "displayName": "Ilia Sklonin",
      "userId": "11017978408778967846"
     },
     "user_tz": -180
    },
    "id": "Wpucv7JPHlhF",
    "outputId": "d4ecb373-c3bb-4d7b-fa3c-cf8eae08476d"
   },
   "outputs": [
    {
     "name": "stdout",
     "output_type": "stream",
     "text": [
      "a=1 b='b' c=0.5 d='d'\n"
     ]
    }
   ],
   "source": [
    "foo(1, 'b', d='d')"
   ]
  },
  {
   "cell_type": "code",
   "execution_count": 38,
   "metadata": {},
   "outputs": [
    {
     "name": "stdout",
     "output_type": "stream",
     "text": [
      "a=1 b=2 c=42 d=4\n"
     ]
    }
   ],
   "source": [
    "foo(1, 2, d=4, c=42)"
   ]
  },
  {
   "cell_type": "code",
   "execution_count": 39,
   "metadata": {
    "colab": {
     "base_uri": "https://localhost:8080/"
    },
    "executionInfo": {
     "elapsed": 5,
     "status": "ok",
     "timestamp": 1654710013655,
     "user": {
      "displayName": "Ilia Sklonin",
      "userId": "11017978408778967846"
     },
     "user_tz": -180
    },
    "id": "Wpucv7JPHlhF",
    "outputId": "d4ecb373-c3bb-4d7b-fa3c-cf8eae08476d"
   },
   "outputs": [
    {
     "name": "stdout",
     "output_type": "stream",
     "text": [
      "a=1 b=3 c=20 d=100\n"
     ]
    }
   ],
   "source": [
    "# подставим вызов функции в другую функцию\n",
    "foo(1, d=100, c=20, b=func2(1, 2))"
   ]
  },
  {
   "cell_type": "code",
   "execution_count": 40,
   "metadata": {
    "colab": {
     "base_uri": "https://localhost:8080/",
     "height": 169
    },
    "executionInfo": {
     "elapsed": 420,
     "status": "error",
     "timestamp": 1654710284808,
     "user": {
      "displayName": "Ilia Sklonin",
      "userId": "11017978408778967846"
     },
     "user_tz": -180
    },
    "id": "mZUsph1vayVg",
    "outputId": "ba19810c-b968-47be-e4d4-1b7957fa195c"
   },
   "outputs": [
    {
     "ename": "TypeError",
     "evalue": "foo() missing 1 required positional argument: 'b'",
     "output_type": "error",
     "traceback": [
      "\u001b[1;31m---------------------------------------------------------------------------\u001b[0m",
      "\u001b[1;31mTypeError\u001b[0m                                 Traceback (most recent call last)",
      "Input \u001b[1;32mIn [40]\u001b[0m, in \u001b[0;36m<cell line: 2>\u001b[1;34m()\u001b[0m\n\u001b[0;32m      1\u001b[0m \u001b[38;5;66;03m# необходимо передать еще один аргумент, для выполнения функции\u001b[39;00m\n\u001b[1;32m----> 2\u001b[0m \u001b[43mfoo\u001b[49m\u001b[43m(\u001b[49m\u001b[38;5;124;43m'\u001b[39;49m\u001b[38;5;124;43mline1\u001b[39;49m\u001b[38;5;124;43m'\u001b[39;49m\u001b[43m)\u001b[49m\n",
      "\u001b[1;31mTypeError\u001b[0m: foo() missing 1 required positional argument: 'b'"
     ]
    }
   ],
   "source": [
    "# необходимо передать еще один аргумент, для выполнения функции\n",
    "foo('line1')"
   ]
  },
  {
   "cell_type": "code",
   "execution_count": null,
   "metadata": {},
   "outputs": [],
   "source": [
    "foo('line1', 'line2')"
   ]
  },
  {
   "cell_type": "code",
   "execution_count": null,
   "metadata": {},
   "outputs": [],
   "source": [
    "# взглянем на переменную с, она равна 3, т.к. мы объявляли ее ранее\n",
    "# все переменные, которые объявляются внутри функции - \"живут\" внутри нее\n",
    "c"
   ]
  },
  {
   "cell_type": "code",
   "execution_count": null,
   "metadata": {},
   "outputs": [],
   "source": [
    "d = 42\n",
    "# в параметры функции мы может передавать аргументы, используя выражения, которые их считают\n",
    "foo(bool(1), 2 ** 10, c=d * 3, d=sum([1, 2, 3]))"
   ]
  },
  {
   "cell_type": "markdown",
   "metadata": {
    "id": "42LAwYf1HlhG"
   },
   "source": [
    "### Изменяемые объекты для значений аргументов передаются по ссылке, неизменяемые - по значению"
   ]
  },
  {
   "cell_type": "markdown",
   "metadata": {},
   "source": [
    "Очередная причина важности понимания изменяемый объект или нет"
   ]
  },
  {
   "cell_type": "code",
   "execution_count": null,
   "metadata": {
    "id": "xTDPuPGioWtb"
   },
   "outputs": [],
   "source": [
    "def get_my_hero_team(team, number):\n",
    "    print(team, number)\n",
    "    number = 10\n",
    "    # это у нас словарь\n",
    "    team['person1'] = 'Ilia'\n",
    "    team['person3'] = 'Ivan'\n",
    "    print(team, number)"
   ]
  },
  {
   "cell_type": "code",
   "execution_count": null,
   "metadata": {
    "id": "FVx4yf4iHlhG"
   },
   "outputs": [],
   "source": [
    "number_value = 5  # immutable\n",
    "artist_team = {'person1': 'Olga', 'person2': 'Ekaterina'}  # mutable"
   ]
  },
  {
   "cell_type": "code",
   "execution_count": null,
   "metadata": {
    "id": "FVx4yf4iHlhG"
   },
   "outputs": [],
   "source": [
    "# данная функция изменила значение по ключу 'person1' и добавила значение для 'person3'\n",
    "# так же она изменила сам объект  artist_team\n",
    "# так же изменился number_value\n",
    "get_my_hero_team(artist_team, number_value)"
   ]
  },
  {
   "cell_type": "code",
   "execution_count": null,
   "metadata": {},
   "outputs": [],
   "source": [
    "# team --> указывает на сам объект artist_team, поскольку он изменяемый"
   ]
  },
  {
   "cell_type": "code",
   "execution_count": null,
   "metadata": {},
   "outputs": [],
   "source": [
    "# неизменяемый тип int не изменился\n",
    "number_value"
   ]
  },
  {
   "cell_type": "code",
   "execution_count": null,
   "metadata": {},
   "outputs": [],
   "source": [
    "# а вот изменяемый словарь изменился\n",
    "artist_team"
   ]
  },
  {
   "cell_type": "code",
   "execution_count": null,
   "metadata": {
    "colab": {
     "base_uri": "https://localhost:8080/"
    },
    "executionInfo": {
     "elapsed": 4,
     "status": "ok",
     "timestamp": 1654714152094,
     "user": {
      "displayName": "Ilia Sklonin",
      "userId": "11017978408778967846"
     },
     "user_tz": -180
    },
    "id": "d27II3zOddqH",
    "outputId": "039e43d9-ac08-4245-dd00-fdd6e906eaa0"
   },
   "outputs": [],
   "source": [
    "[print(*item) for item in artist_team.items()]"
   ]
  },
  {
   "cell_type": "markdown",
   "metadata": {
    "id": "BB5SjGcMHlhH"
   },
   "source": [
    "### Переменное число позиционных аргументов *args"
   ]
  },
  {
   "cell_type": "code",
   "execution_count": null,
   "metadata": {},
   "outputs": [],
   "source": [
    "# * указывает на то, что мы передадим какое то число объектов\n",
    "# а она упакует их в кортеж\n",
    "# Такой синтаксиси используется только при объявлении функции\n",
    "def foo(*args):\n",
    "    print(f'{args = }')\n",
    "    \n",
    "foo(1, 2, 3, 42)"
   ]
  },
  {
   "cell_type": "code",
   "execution_count": null,
   "metadata": {
    "colab": {
     "base_uri": "https://localhost:8080/"
    },
    "executionInfo": {
     "elapsed": 396,
     "status": "ok",
     "timestamp": 1654715925179,
     "user": {
      "displayName": "Ilia Sklonin",
      "userId": "11017978408778967846"
     },
     "user_tz": -180
    },
    "id": "sEq1GA55HlhI",
    "outputId": "baefc4b9-ce7f-42ea-dce2-253c05cac6d0"
   },
   "outputs": [],
   "source": [
    "# аргументы a и b - позиционные\n",
    "# все аргументы после * не могут быть позиционными\n",
    "def foo(a, b, *args):\n",
    "    print(f'{a=} {b=} {args=}')\n",
    "    \n",
    "foo(1, 'bbb')\n",
    "foo(1, 'bbb', 0.5)\n",
    "foo(1, 'bbb', 1, 2, 3, 4, 5)"
   ]
  },
  {
   "cell_type": "code",
   "execution_count": null,
   "metadata": {
    "colab": {
     "base_uri": "https://localhost:8080/",
     "height": 169
    },
    "executionInfo": {
     "elapsed": 421,
     "status": "error",
     "timestamp": 1654715959500,
     "user": {
      "displayName": "Ilia Sklonin",
      "userId": "11017978408778967846"
     },
     "user_tz": -180
    },
    "id": "bUcVxKYfql4m",
    "outputId": "a4a9a7b2-cf95-4cdf-af6e-86e0d5e8b62e"
   },
   "outputs": [],
   "source": [
    "args"
   ]
  },
  {
   "cell_type": "code",
   "execution_count": null,
   "metadata": {
    "colab": {
     "base_uri": "https://localhost:8080/",
     "height": 205
    },
    "executionInfo": {
     "elapsed": 373,
     "status": "error",
     "timestamp": 1654716161755,
     "user": {
      "displayName": "Ilia Sklonin",
      "userId": "11017978408778967846"
     },
     "user_tz": -180
    },
    "id": "Wv8mwOP9HlhJ",
    "outputId": "9e3c7e1f-b8d3-4370-a420-fb862c0044b4"
   },
   "outputs": [],
   "source": [
    "# в данной ячейке ошибка в том, что после *args мы можем передавать только именованные аргументы\n",
    "def foo(a, *args, b):\n",
    "    print(f'{a=} {b=} {args=}')\n",
    "    \n",
    "foo(1, [1, 2], 0.5, 'bbbb')"
   ]
  },
  {
   "cell_type": "code",
   "execution_count": null,
   "metadata": {},
   "outputs": [],
   "source": [
    "# вот так необходимо объявлять такие аргументы\n",
    "foo(1, [1, 2], 0.5, b='bbbb')"
   ]
  },
  {
   "cell_type": "code",
   "execution_count": null,
   "metadata": {
    "colab": {
     "base_uri": "https://localhost:8080/"
    },
    "executionInfo": {
     "elapsed": 481,
     "status": "ok",
     "timestamp": 1654716398614,
     "user": {
      "displayName": "Ilia Sklonin",
      "userId": "11017978408778967846"
     },
     "user_tz": -180
    },
    "id": "wTe79x8_kMoy",
    "outputId": "5bd60652-46b9-44d5-b89e-ed9847639332"
   },
   "outputs": [],
   "source": [
    "def foo(a, *list_of_args, b):\n",
    "    print(f'{a=} {b=} {list_of_args=}')\n",
    "    print(type(list_of_args))\n",
    "    \n",
    "foo(1, [1, 2], 0.5, b='bbbb')  # отличие в наличии имени аргумента "
   ]
  },
  {
   "cell_type": "markdown",
   "metadata": {},
   "source": [
    "### переменное число именованных аргументов **kwargs"
   ]
  },
  {
   "cell_type": "code",
   "execution_count": null,
   "metadata": {
    "colab": {
     "base_uri": "https://localhost:8080/"
    },
    "executionInfo": {
     "elapsed": 372,
     "status": "ok",
     "timestamp": 1654716560610,
     "user": {
      "displayName": "Ilia Sklonin",
      "userId": "11017978408778967846"
     },
     "user_tz": -180
    },
    "id": "YtLrEO1iHlhJ",
    "outputId": "a3ffe990-1386-4df5-f092-219577553d08"
   },
   "outputs": [],
   "source": [
    "# еще одно применение *\n",
    "def foo(a, b=0.5, **kwargs):  # key-word arguments\n",
    "    print(f'{a=} {b=} {kwargs=}')\n",
    "    print(type(kwargs))"
   ]
  },
  {
   "cell_type": "code",
   "execution_count": null,
   "metadata": {
    "colab": {
     "base_uri": "https://localhost:8080/"
    },
    "executionInfo": {
     "elapsed": 372,
     "status": "ok",
     "timestamp": 1654716560610,
     "user": {
      "displayName": "Ilia Sklonin",
      "userId": "11017978408778967846"
     },
     "user_tz": -180
    },
    "id": "YtLrEO1iHlhJ",
    "outputId": "a3ffe990-1386-4df5-f092-219577553d08"
   },
   "outputs": [],
   "source": [
    "# с легло как ключ, а 'сссс', как значение\n",
    "foo(1, c='cccc')"
   ]
  },
  {
   "cell_type": "code",
   "execution_count": 41,
   "metadata": {
    "colab": {
     "base_uri": "https://localhost:8080/"
    },
    "executionInfo": {
     "elapsed": 372,
     "status": "ok",
     "timestamp": 1654716560610,
     "user": {
      "displayName": "Ilia Sklonin",
      "userId": "11017978408778967846"
     },
     "user_tz": -180
    },
    "id": "YtLrEO1iHlhJ",
    "outputId": "a3ffe990-1386-4df5-f092-219577553d08"
   },
   "outputs": [
    {
     "name": "stdout",
     "output_type": "stream",
     "text": [
      "a=1 b=42 c='cccc' d=(None,)\n"
     ]
    }
   ],
   "source": [
    "# вызовем в таком формате. b попал куда указывали, а с снова в словарь\n",
    "foo(1, c='cccc', b=42)"
   ]
  },
  {
   "cell_type": "code",
   "execution_count": 45,
   "metadata": {
    "colab": {
     "base_uri": "https://localhost:8080/"
    },
    "executionInfo": {
     "elapsed": 372,
     "status": "ok",
     "timestamp": 1654716560610,
     "user": {
      "displayName": "Ilia Sklonin",
      "userId": "11017978408778967846"
     },
     "user_tz": -180
    },
    "id": "YtLrEO1iHlhJ",
    "outputId": "a3ffe990-1386-4df5-f092-219577553d08"
   },
   "outputs": [
    {
     "name": "stdout",
     "output_type": "stream",
     "text": [
      "a=1 b='bbbb' c='ccccc' d=1000\n"
     ]
    }
   ],
   "source": [
    "# аргументы d у нас не было, поэтому он, как и с лег тоже в словарь ключ:значение\n",
    "foo(1, 'bbbb', c='ccccc', d=1000)"
   ]
  },
  {
   "cell_type": "code",
   "execution_count": 46,
   "metadata": {},
   "outputs": [
    {
     "name": "stdout",
     "output_type": "stream",
     "text": [
      "Help on class dict in module builtins:\n",
      "\n",
      "class dict(object)\n",
      " |  dict() -> new empty dictionary\n",
      " |  dict(mapping) -> new dictionary initialized from a mapping object's\n",
      " |      (key, value) pairs\n",
      " |  dict(iterable) -> new dictionary initialized as if via:\n",
      " |      d = {}\n",
      " |      for k, v in iterable:\n",
      " |          d[k] = v\n",
      " |  dict(**kwargs) -> new dictionary initialized with the name=value pairs\n",
      " |      in the keyword argument list.  For example:  dict(one=1, two=2)\n",
      " |  \n",
      " |  Built-in subclasses:\n",
      " |      StgDict\n",
      " |  \n",
      " |  Methods defined here:\n",
      " |  \n",
      " |  __contains__(self, key, /)\n",
      " |      True if the dictionary has the specified key, else False.\n",
      " |  \n",
      " |  __delitem__(self, key, /)\n",
      " |      Delete self[key].\n",
      " |  \n",
      " |  __eq__(self, value, /)\n",
      " |      Return self==value.\n",
      " |  \n",
      " |  __ge__(self, value, /)\n",
      " |      Return self>=value.\n",
      " |  \n",
      " |  __getattribute__(self, name, /)\n",
      " |      Return getattr(self, name).\n",
      " |  \n",
      " |  __getitem__(...)\n",
      " |      x.__getitem__(y) <==> x[y]\n",
      " |  \n",
      " |  __gt__(self, value, /)\n",
      " |      Return self>value.\n",
      " |  \n",
      " |  __init__(self, /, *args, **kwargs)\n",
      " |      Initialize self.  See help(type(self)) for accurate signature.\n",
      " |  \n",
      " |  __ior__(self, value, /)\n",
      " |      Return self|=value.\n",
      " |  \n",
      " |  __iter__(self, /)\n",
      " |      Implement iter(self).\n",
      " |  \n",
      " |  __le__(self, value, /)\n",
      " |      Return self<=value.\n",
      " |  \n",
      " |  __len__(self, /)\n",
      " |      Return len(self).\n",
      " |  \n",
      " |  __lt__(self, value, /)\n",
      " |      Return self<value.\n",
      " |  \n",
      " |  __ne__(self, value, /)\n",
      " |      Return self!=value.\n",
      " |  \n",
      " |  __or__(self, value, /)\n",
      " |      Return self|value.\n",
      " |  \n",
      " |  __repr__(self, /)\n",
      " |      Return repr(self).\n",
      " |  \n",
      " |  __reversed__(self, /)\n",
      " |      Return a reverse iterator over the dict keys.\n",
      " |  \n",
      " |  __ror__(self, value, /)\n",
      " |      Return value|self.\n",
      " |  \n",
      " |  __setitem__(self, key, value, /)\n",
      " |      Set self[key] to value.\n",
      " |  \n",
      " |  __sizeof__(...)\n",
      " |      D.__sizeof__() -> size of D in memory, in bytes\n",
      " |  \n",
      " |  clear(...)\n",
      " |      D.clear() -> None.  Remove all items from D.\n",
      " |  \n",
      " |  copy(...)\n",
      " |      D.copy() -> a shallow copy of D\n",
      " |  \n",
      " |  get(self, key, default=None, /)\n",
      " |      Return the value for key if key is in the dictionary, else default.\n",
      " |  \n",
      " |  items(...)\n",
      " |      D.items() -> a set-like object providing a view on D's items\n",
      " |  \n",
      " |  keys(...)\n",
      " |      D.keys() -> a set-like object providing a view on D's keys\n",
      " |  \n",
      " |  pop(...)\n",
      " |      D.pop(k[,d]) -> v, remove specified key and return the corresponding value.\n",
      " |      \n",
      " |      If key is not found, default is returned if given, otherwise KeyError is raised\n",
      " |  \n",
      " |  popitem(self, /)\n",
      " |      Remove and return a (key, value) pair as a 2-tuple.\n",
      " |      \n",
      " |      Pairs are returned in LIFO (last-in, first-out) order.\n",
      " |      Raises KeyError if the dict is empty.\n",
      " |  \n",
      " |  setdefault(self, key, default=None, /)\n",
      " |      Insert key with a value of default if key is not in the dictionary.\n",
      " |      \n",
      " |      Return the value for key if key is in the dictionary, else default.\n",
      " |  \n",
      " |  update(...)\n",
      " |      D.update([E, ]**F) -> None.  Update D from dict/iterable E and F.\n",
      " |      If E is present and has a .keys() method, then does:  for k in E: D[k] = E[k]\n",
      " |      If E is present and lacks a .keys() method, then does:  for k, v in E: D[k] = v\n",
      " |      In either case, this is followed by: for k in F:  D[k] = F[k]\n",
      " |  \n",
      " |  values(...)\n",
      " |      D.values() -> an object providing a view on D's values\n",
      " |  \n",
      " |  ----------------------------------------------------------------------\n",
      " |  Class methods defined here:\n",
      " |  \n",
      " |  __class_getitem__(...) from builtins.type\n",
      " |      See PEP 585\n",
      " |  \n",
      " |  fromkeys(iterable, value=None, /) from builtins.type\n",
      " |      Create a new dictionary with keys from iterable and values set to value.\n",
      " |  \n",
      " |  ----------------------------------------------------------------------\n",
      " |  Static methods defined here:\n",
      " |  \n",
      " |  __new__(*args, **kwargs) from builtins.type\n",
      " |      Create and return a new object.  See help(type) for accurate signature.\n",
      " |  \n",
      " |  ----------------------------------------------------------------------\n",
      " |  Data and other attributes defined here:\n",
      " |  \n",
      " |  __hash__ = None\n",
      "\n"
     ]
    }
   ],
   "source": [
    "help(dict)"
   ]
  },
  {
   "cell_type": "code",
   "execution_count": 47,
   "metadata": {
    "colab": {
     "base_uri": "https://localhost:8080/"
    },
    "executionInfo": {
     "elapsed": 383,
     "status": "ok",
     "timestamp": 1654716892175,
     "user": {
      "displayName": "Ilia Sklonin",
      "userId": "11017978408778967846"
     },
     "user_tz": -180
    },
    "id": "OnWGgJDCy8wd",
    "outputId": "aa500e5c-1e54-4816-a7a2-bfa131b17d8c"
   },
   "outputs": [
    {
     "name": "stdout",
     "output_type": "stream",
     "text": [
      "{'a': 1, 'b': 2}\n"
     ]
    },
    {
     "data": {
      "text/plain": [
       "False"
      ]
     },
     "execution_count": 47,
     "metadata": {},
     "output_type": "execute_result"
    }
   ],
   "source": [
    "# создание словаря\n",
    "dct = dict(a=1, b=2)\n",
    "# ** - оператор распаковки словаря\n",
    "d = dict(**dct)  # эквивалентно вот такому вызову dict(a=1, b=2)\n",
    "print(d)\n",
    "# при этом словари будут разные, т.к. это изменяемый объект\n",
    "d is dct"
   ]
  },
  {
   "cell_type": "code",
   "execution_count": 48,
   "metadata": {},
   "outputs": [
    {
     "name": "stdout",
     "output_type": "stream",
     "text": [
      "hello---worldAAAAAAAA"
     ]
    }
   ],
   "source": [
    "dct = {'sep':'---', 'end':'AAAAAAAA'}\n",
    "# передадим в принт распаковку словаря\n",
    "print('hello', 'world', **dct)"
   ]
  },
  {
   "cell_type": "code",
   "execution_count": 49,
   "metadata": {
    "colab": {
     "base_uri": "https://localhost:8080/"
    },
    "executionInfo": {
     "elapsed": 401,
     "status": "ok",
     "timestamp": 1654717145540,
     "user": {
      "displayName": "Ilia Sklonin",
      "userId": "11017978408778967846"
     },
     "user_tz": -180
    },
    "id": "Sh8RHFC1HlhK",
    "outputId": "42c76abf-d888-40f8-f210-b602d3965ffd"
   },
   "outputs": [],
   "source": [
    "# при объявлении функции ** - оператор ЗАПАКОВКИ словаря\n",
    "# теперь мы моежм передавать хоть позиционные, хоть именованные аргументы\n",
    "def foo(*args, **kwargs):\n",
    "    print(f'{args=}, {kwargs=}')"
   ]
  },
  {
   "cell_type": "code",
   "execution_count": 50,
   "metadata": {
    "colab": {
     "base_uri": "https://localhost:8080/"
    },
    "executionInfo": {
     "elapsed": 401,
     "status": "ok",
     "timestamp": 1654717145540,
     "user": {
      "displayName": "Ilia Sklonin",
      "userId": "11017978408778967846"
     },
     "user_tz": -180
    },
    "id": "Sh8RHFC1HlhK",
    "outputId": "42c76abf-d888-40f8-f210-b602d3965ffd"
   },
   "outputs": [
    {
     "name": "stdout",
     "output_type": "stream",
     "text": [
      "args=(1, 'a'), kwargs={'x': 0.5, 'y': [3, 4]}\n"
     ]
    }
   ],
   "source": [
    "foo(1, 'a', x=0.5, y=[3, 4])"
   ]
  },
  {
   "cell_type": "code",
   "execution_count": 51,
   "metadata": {
    "colab": {
     "base_uri": "https://localhost:8080/"
    },
    "executionInfo": {
     "elapsed": 401,
     "status": "ok",
     "timestamp": 1654717145540,
     "user": {
      "displayName": "Ilia Sklonin",
      "userId": "11017978408778967846"
     },
     "user_tz": -180
    },
    "id": "Sh8RHFC1HlhK",
    "outputId": "42c76abf-d888-40f8-f210-b602d3965ffd"
   },
   "outputs": [],
   "source": [
    "# соберем словарь\n",
    "dct = {'x': 0.5, 'y': [3, 4]}"
   ]
  },
  {
   "cell_type": "code",
   "execution_count": 52,
   "metadata": {
    "colab": {
     "base_uri": "https://localhost:8080/"
    },
    "executionInfo": {
     "elapsed": 401,
     "status": "ok",
     "timestamp": 1654717145540,
     "user": {
      "displayName": "Ilia Sklonin",
      "userId": "11017978408778967846"
     },
     "user_tz": -180
    },
    "id": "Sh8RHFC1HlhK",
    "outputId": "42c76abf-d888-40f8-f210-b602d3965ffd"
   },
   "outputs": [
    {
     "name": "stdout",
     "output_type": "stream",
     "text": [
      "args=(1, 'a'), kwargs={'x': 0.5, 'y': [3, 4]}\n"
     ]
    }
   ],
   "source": [
    "foo(*[1, 'a'], **dct)  # foo(1, 'a', x=0.5, y=[3, 4])"
   ]
  },
  {
   "cell_type": "code",
   "execution_count": 53,
   "metadata": {
    "id": "mP7VvRHLZ02U"
   },
   "outputs": [],
   "source": [
    "# def foo([positional_args, \n",
    "#         [positional_args_with_default, \n",
    "#         [*pos_args_name, \n",
    "#         [keyword_only_args,\n",
    "#         [keyword_only_args_with_default]\n",
    "#         [**kw_args_name]]]]])\n",
    "\n",
    "def foo(a, b=10, *args, c, d=10, **kwargs):\n",
    "    print(f'{args = }')\n",
    "    print(f'{kwargs = }')\n",
    "    return a + b + sum(args) + c + d + sum(kwargs.values())"
   ]
  },
  {
   "cell_type": "code",
   "execution_count": 54,
   "metadata": {
    "id": "5JUWnDLvvQSJ"
   },
   "outputs": [],
   "source": [
    "arg1, arg2 = 10, 10"
   ]
  },
  {
   "cell_type": "code",
   "execution_count": 55,
   "metadata": {
    "colab": {
     "base_uri": "https://localhost:8080/"
    },
    "executionInfo": {
     "elapsed": 381,
     "status": "ok",
     "timestamp": 1654717871914,
     "user": {
      "displayName": "Ilia Sklonin",
      "userId": "11017978408778967846"
     },
     "user_tz": -180
    },
    "id": "4jfuHUCkxkzc",
    "outputId": "4b0fc86d-765b-4caa-b056-0968d97fc075"
   },
   "outputs": [
    {
     "name": "stdout",
     "output_type": "stream",
     "text": [
      "args = (10, 10)\n",
      "kwargs = {'arg3': 10, 'arg4': 10}\n",
      "result = 80\n"
     ]
    }
   ],
   "source": [
    "# поиграться)\n",
    "result = foo(10, 10, arg1, arg2, c=10, arg3=10, arg4=10)  \n",
    "print(f'result = {result}')"
   ]
  },
  {
   "cell_type": "code",
   "execution_count": 56,
   "metadata": {
    "colab": {
     "base_uri": "https://localhost:8080/"
    },
    "executionInfo": {
     "elapsed": 470,
     "status": "ok",
     "timestamp": 1654718017181,
     "user": {
      "displayName": "Ilia Sklonin",
      "userId": "11017978408778967846"
     },
     "user_tz": -180
    },
    "id": "eF0GjFKnmdUY",
    "outputId": "27244267-1c81-41c7-d5fe-33f612e01f6b"
   },
   "outputs": [
    {
     "name": "stdout",
     "output_type": "stream",
     "text": [
      "args = (10,)\n",
      "kwargs = {'arg3': 10, 'arg4': 10}\n",
      "result = 70\n"
     ]
    }
   ],
   "source": [
    "result = foo(10, arg1, arg2, c=10, arg3=10, arg4=10)\n",
    "print(f'result = {result}')"
   ]
  },
  {
   "cell_type": "code",
   "execution_count": 57,
   "metadata": {
    "colab": {
     "base_uri": "https://localhost:8080/"
    },
    "executionInfo": {
     "elapsed": 403,
     "status": "ok",
     "timestamp": 1654718087938,
     "user": {
      "displayName": "Ilia Sklonin",
      "userId": "11017978408778967846"
     },
     "user_tz": -180
    },
    "id": "UXunX0qEvxWI",
    "outputId": "67d89dd8-9f78-4ce9-8d2b-1ee128603861"
   },
   "outputs": [
    {
     "data": {
      "text/plain": [
       "{'arg3': 25, 'arg4': 25, 'd': 25}"
      ]
     },
     "execution_count": 57,
     "metadata": {},
     "output_type": "execute_result"
    }
   ],
   "source": [
    "sample_dct = {'arg3': 25, 'arg4': 25, 'd': 25}\n",
    "sample_dct"
   ]
  },
  {
   "cell_type": "code",
   "execution_count": 58,
   "metadata": {},
   "outputs": [
    {
     "name": "stdout",
     "output_type": "stream",
     "text": [
      "args = (10,)\n",
      "kwargs = {'arg3': 25, 'arg4': 25}\n"
     ]
    },
    {
     "data": {
      "text/plain": [
       "115"
      ]
     },
     "execution_count": 58,
     "metadata": {},
     "output_type": "execute_result"
    }
   ],
   "source": [
    "foo(10, arg1, arg2, c=10, **sample_dct)"
   ]
  },
  {
   "cell_type": "code",
   "execution_count": 59,
   "metadata": {
    "colab": {
     "base_uri": "https://localhost:8080/"
    },
    "executionInfo": {
     "elapsed": 391,
     "status": "ok",
     "timestamp": 1654718123849,
     "user": {
      "displayName": "Ilia Sklonin",
      "userId": "11017978408778967846"
     },
     "user_tz": -180
    },
    "id": "F3NnOsCZ0X7a",
    "outputId": "e5ed09bd-0ba7-4287-e2a1-df5585c136f6"
   },
   "outputs": [
    {
     "name": "stdout",
     "output_type": "stream",
     "text": [
      "(10, 10)\n",
      "50\n"
     ]
    },
    {
     "data": {
      "text/plain": [
       "125"
      ]
     },
     "execution_count": 59,
     "metadata": {},
     "output_type": "execute_result"
    }
   ],
   "source": [
    "def foo1(a, b=10, *name_for_pos_args, c, d=10, **name_for_kwargs):\n",
    "    print(name_for_pos_args)\n",
    "    print(sum(name_for_kwargs.values()))\n",
    "    return a + b + sum(name_for_pos_args) + c + d + sum(name_for_kwargs.values())\n",
    "\n",
    "foo1(10, 10, arg1, arg2, c=10, **sample_dct)"
   ]
  },
  {
   "cell_type": "code",
   "execution_count": 60,
   "metadata": {
    "colab": {
     "base_uri": "https://localhost:8080/"
    },
    "executionInfo": {
     "elapsed": 381,
     "status": "ok",
     "timestamp": 1654718259800,
     "user": {
      "displayName": "Ilia Sklonin",
      "userId": "11017978408778967846"
     },
     "user_tz": -180
    },
    "id": "0BKlgiepBGhr",
    "outputId": "318b7e11-72b5-487a-8327-90ea7d0587b4"
   },
   "outputs": [
    {
     "data": {
      "text/plain": [
       "{'arg3': 25, 'arg4': 25, 'd': 25, 'c': 25}"
      ]
     },
     "execution_count": 60,
     "metadata": {},
     "output_type": "execute_result"
    }
   ],
   "source": [
    "sample_dct = {'arg3': 25, 'arg4': 25, 'd': 25, 'c': 25}\n",
    "sample_dct"
   ]
  },
  {
   "cell_type": "code",
   "execution_count": 61,
   "metadata": {
    "colab": {
     "base_uri": "https://localhost:8080/",
     "height": 169
    },
    "executionInfo": {
     "elapsed": 404,
     "status": "error",
     "timestamp": 1654718266180,
     "user": {
      "displayName": "Ilia Sklonin",
      "userId": "11017978408778967846"
     },
     "user_tz": -180
    },
    "id": "GQcDJ6GnBLMl",
    "outputId": "fc3d8955-bf3a-42c4-88e6-7f33ddada8bb"
   },
   "outputs": [
    {
     "ename": "TypeError",
     "evalue": "__main__.foo1() got multiple values for keyword argument 'c'",
     "output_type": "error",
     "traceback": [
      "\u001b[1;31m---------------------------------------------------------------------------\u001b[0m",
      "\u001b[1;31mTypeError\u001b[0m                                 Traceback (most recent call last)",
      "Input \u001b[1;32mIn [61]\u001b[0m, in \u001b[0;36m<cell line: 4>\u001b[1;34m()\u001b[0m\n\u001b[0;32m      1\u001b[0m \u001b[38;5;66;03m# выше у нас с = 10\u001b[39;00m\n\u001b[0;32m      2\u001b[0m \u001b[38;5;66;03m# а после распаковки **sample_dct с = 25\u001b[39;00m\n\u001b[0;32m      3\u001b[0m \u001b[38;5;66;03m# соответственно будет коллизия\u001b[39;00m\n\u001b[1;32m----> 4\u001b[0m foo1(\u001b[38;5;241m10\u001b[39m, \u001b[38;5;241m10\u001b[39m, arg1, arg2, c\u001b[38;5;241m=\u001b[39m\u001b[38;5;241m10\u001b[39m, \u001b[38;5;241m*\u001b[39m\u001b[38;5;241m*\u001b[39msample_dct)\n",
      "\u001b[1;31mTypeError\u001b[0m: __main__.foo1() got multiple values for keyword argument 'c'"
     ]
    }
   ],
   "source": [
    "# выше у нас с = 10\n",
    "# а после распаковки **sample_dct с = 25\n",
    "# соответственно будет коллизия\n",
    "foo1(10, 10, arg1, arg2, c=10, **sample_dct)"
   ]
  },
  {
   "cell_type": "markdown",
   "metadata": {
    "id": "oB8vpUQ0tKK7"
   },
   "source": [
    "Ссылка на все виды использования `*` [звездочки в питоне](https://tproger.ru/translations/asterisks-in-python-what-they-are-and-how-to-use-them/)"
   ]
  },
  {
   "cell_type": "markdown",
   "metadata": {},
   "source": [
    "### Модуль inspect"
   ]
  },
  {
   "cell_type": "markdown",
   "metadata": {},
   "source": [
    "Модуль inspect Python – очень полезный модуль, который используется для интроспекции объектов в программе и просмотра исходного кода модулей, классов и функций, которые используются во всей программе.\n",
    "\n",
    "Модуль фактически может использоваться для извлечения исходного кода самой функции, анализа аргументов, которые эта функция принимает."
   ]
  },
  {
   "cell_type": "code",
   "execution_count": 62,
   "metadata": {},
   "outputs": [
    {
     "data": {
      "text/plain": [
       "<Signature (a, b=10, *args, c, d=10, **kwargs)>"
      ]
     },
     "execution_count": 62,
     "metadata": {},
     "output_type": "execute_result"
    }
   ],
   "source": [
    "import inspect\n",
    "\n",
    "inspect.signature(foo)\n",
    "# inspect.getfullargspec"
   ]
  },
  {
   "cell_type": "code",
   "execution_count": 63,
   "metadata": {},
   "outputs": [
    {
     "data": {
      "text/plain": [
       "FullArgSpec(args=['a', 'b'], varargs='args', varkw='kwargs', defaults=(10,), kwonlyargs=['c', 'd'], kwonlydefaults={'d': 10}, annotations={})"
      ]
     },
     "execution_count": 63,
     "metadata": {},
     "output_type": "execute_result"
    }
   ],
   "source": [
    "inspect.getfullargspec(foo)"
   ]
  },
  {
   "cell_type": "code",
   "execution_count": 64,
   "metadata": {},
   "outputs": [
    {
     "data": {
      "text/plain": [
       "['ArgInfo',\n",
       " 'ArgSpec',\n",
       " 'Arguments',\n",
       " 'Attribute',\n",
       " 'BlockFinder',\n",
       " 'BoundArguments',\n",
       " 'CORO_CLOSED',\n",
       " 'CORO_CREATED',\n",
       " 'CORO_RUNNING',\n",
       " 'CORO_SUSPENDED',\n",
       " 'CO_ASYNC_GENERATOR',\n",
       " 'CO_COROUTINE',\n",
       " 'CO_GENERATOR',\n",
       " 'CO_ITERABLE_COROUTINE',\n",
       " 'CO_NESTED',\n",
       " 'CO_NEWLOCALS',\n",
       " 'CO_NOFREE',\n",
       " 'CO_OPTIMIZED',\n",
       " 'CO_VARARGS',\n",
       " 'CO_VARKEYWORDS',\n",
       " 'ClassFoundException',\n",
       " 'ClosureVars',\n",
       " 'EndOfBlock',\n",
       " 'FrameInfo',\n",
       " 'FullArgSpec',\n",
       " 'GEN_CLOSED',\n",
       " 'GEN_CREATED',\n",
       " 'GEN_RUNNING',\n",
       " 'GEN_SUSPENDED',\n",
       " 'OrderedDict',\n",
       " 'Parameter',\n",
       " 'Signature',\n",
       " 'TPFLAGS_IS_ABSTRACT',\n",
       " 'Traceback',\n",
       " '_ClassFinder',\n",
       " '_ClassMethodWrapper',\n",
       " '_KEYWORD_ONLY',\n",
       " '_MethodWrapper',\n",
       " '_NonUserDefinedCallables',\n",
       " '_PARAM_NAME_MAPPING',\n",
       " '_POSITIONAL_ONLY',\n",
       " '_POSITIONAL_OR_KEYWORD',\n",
       " '_ParameterKind',\n",
       " '_VAR_KEYWORD',\n",
       " '_VAR_POSITIONAL',\n",
       " '_WrapperDescriptor',\n",
       " '__author__',\n",
       " '__builtins__',\n",
       " '__cached__',\n",
       " '__doc__',\n",
       " '__file__',\n",
       " '__loader__',\n",
       " '__name__',\n",
       " '__package__',\n",
       " '__spec__',\n",
       " '_check_class',\n",
       " '_check_instance',\n",
       " '_empty',\n",
       " '_filesbymodname',\n",
       " '_findclass',\n",
       " '_finddoc',\n",
       " '_has_code_flag',\n",
       " '_is_type',\n",
       " '_main',\n",
       " '_missing_arguments',\n",
       " '_sentinel',\n",
       " '_shadowed_dict',\n",
       " '_signature_bound_method',\n",
       " '_signature_from_builtin',\n",
       " '_signature_from_callable',\n",
       " '_signature_from_function',\n",
       " '_signature_fromstr',\n",
       " '_signature_get_bound_param',\n",
       " '_signature_get_partial',\n",
       " '_signature_get_user_defined_method',\n",
       " '_signature_is_builtin',\n",
       " '_signature_is_functionlike',\n",
       " '_signature_strip_non_python_syntax',\n",
       " '_static_getmro',\n",
       " '_too_many',\n",
       " '_void',\n",
       " 'abc',\n",
       " 'ast',\n",
       " 'attrgetter',\n",
       " 'builtins',\n",
       " 'classify_class_attrs',\n",
       " 'cleandoc',\n",
       " 'collections',\n",
       " 'currentframe',\n",
       " 'dis',\n",
       " 'enum',\n",
       " 'findsource',\n",
       " 'formatannotation',\n",
       " 'formatannotationrelativeto',\n",
       " 'formatargspec',\n",
       " 'formatargvalues',\n",
       " 'functools',\n",
       " 'getabsfile',\n",
       " 'getargs',\n",
       " 'getargspec',\n",
       " 'getargvalues',\n",
       " 'getattr_static',\n",
       " 'getblock',\n",
       " 'getcallargs',\n",
       " 'getclasstree',\n",
       " 'getclosurevars',\n",
       " 'getcomments',\n",
       " 'getcoroutinelocals',\n",
       " 'getcoroutinestate',\n",
       " 'getdoc',\n",
       " 'getfile',\n",
       " 'getframeinfo',\n",
       " 'getfullargspec',\n",
       " 'getgeneratorlocals',\n",
       " 'getgeneratorstate',\n",
       " 'getinnerframes',\n",
       " 'getlineno',\n",
       " 'getmembers',\n",
       " 'getmodule',\n",
       " 'getmodulename',\n",
       " 'getmro',\n",
       " 'getouterframes',\n",
       " 'getsource',\n",
       " 'getsourcefile',\n",
       " 'getsourcelines',\n",
       " 'importlib',\n",
       " 'indentsize',\n",
       " 'isabstract',\n",
       " 'isasyncgen',\n",
       " 'isasyncgenfunction',\n",
       " 'isawaitable',\n",
       " 'isbuiltin',\n",
       " 'isclass',\n",
       " 'iscode',\n",
       " 'iscoroutine',\n",
       " 'iscoroutinefunction',\n",
       " 'isdatadescriptor',\n",
       " 'isframe',\n",
       " 'isfunction',\n",
       " 'isgenerator',\n",
       " 'isgeneratorfunction',\n",
       " 'isgetsetdescriptor',\n",
       " 'ismemberdescriptor',\n",
       " 'ismethod',\n",
       " 'ismethoddescriptor',\n",
       " 'ismodule',\n",
       " 'isroutine',\n",
       " 'istraceback',\n",
       " 'itertools',\n",
       " 'k',\n",
       " 'linecache',\n",
       " 'mod_dict',\n",
       " 'modulesbyfile',\n",
       " 'namedtuple',\n",
       " 'os',\n",
       " 're',\n",
       " 'signature',\n",
       " 'stack',\n",
       " 'sys',\n",
       " 'token',\n",
       " 'tokenize',\n",
       " 'trace',\n",
       " 'types',\n",
       " 'unwrap',\n",
       " 'v',\n",
       " 'walktree',\n",
       " 'warnings']"
      ]
     },
     "execution_count": 64,
     "metadata": {},
     "output_type": "execute_result"
    }
   ],
   "source": [
    "dir(inspect)"
   ]
  },
  {
   "cell_type": "code",
   "execution_count": 47,
   "metadata": {},
   "outputs": [],
   "source": [
    "def full_function(pos_arg1,\n",
    "                  pos_arg2, \n",
    "                  pos_arg3_with_def='arg with def value', \n",
    "                  *args, \n",
    "                  kw_arg1,\n",
    "                  kw_arg2,\n",
    "                  kw_arg3_with_def=100, \n",
    "                  **kwargs):\n",
    "    \n",
    "    print(type(args), type(kwargs))\n",
    "    print(pos_arg1, \n",
    "          pos_arg2, \n",
    "          pos_arg3_with_def, \n",
    "          args, \n",
    "          kw_arg1, \n",
    "          kw_arg2, \n",
    "          kw_arg3_with_def, \n",
    "          kwargs, \n",
    "          sep='\\n')"
   ]
  },
  {
   "cell_type": "code",
   "execution_count": 66,
   "metadata": {},
   "outputs": [
    {
     "data": {
      "text/plain": [
       "FullArgSpec(args=['pos_arg1', 'pos_arg2', 'pos_arg3_with_def'], varargs='args', varkw='kwargs', defaults=('arg with def value',), kwonlyargs=['kw_arg1', 'kw_arg2', 'kw_arg3_with_def'], kwonlydefaults={'kw_arg3_with_def': 100}, annotations={})"
      ]
     },
     "execution_count": 66,
     "metadata": {},
     "output_type": "execute_result"
    }
   ],
   "source": [
    "inspect.getfullargspec(full_function)"
   ]
  },
  {
   "cell_type": "markdown",
   "metadata": {},
   "source": [
    "В python3.8 появился новый символ `/` в объявлении функции, позволяющий навести порядок в порядке аргументов: все, объявленные до него, могут быть только позиционными, и их нельзя передать по имени. Подробности можно прочитать [здесь](https://docs.python.org/3.8/whatsnew/3.8.html#positional-only-parameters)"
   ]
  },
  {
   "cell_type": "code",
   "execution_count": 67,
   "metadata": {},
   "outputs": [
    {
     "data": {
      "text/plain": [
       "['ArithmeticError',\n",
       " 'AssertionError',\n",
       " 'AttributeError',\n",
       " 'BaseException',\n",
       " 'BlockingIOError',\n",
       " 'BrokenPipeError',\n",
       " 'BufferError',\n",
       " 'BytesWarning',\n",
       " 'ChildProcessError',\n",
       " 'ConnectionAbortedError',\n",
       " 'ConnectionError',\n",
       " 'ConnectionRefusedError',\n",
       " 'ConnectionResetError',\n",
       " 'DeprecationWarning',\n",
       " 'EOFError',\n",
       " 'Ellipsis',\n",
       " 'EnvironmentError',\n",
       " 'Exception',\n",
       " 'False',\n",
       " 'FileExistsError',\n",
       " 'FileNotFoundError',\n",
       " 'FloatingPointError',\n",
       " 'FutureWarning',\n",
       " 'GeneratorExit',\n",
       " 'IOError',\n",
       " 'ImportError',\n",
       " 'ImportWarning',\n",
       " 'IndentationError',\n",
       " 'IndexError',\n",
       " 'InterruptedError',\n",
       " 'IsADirectoryError',\n",
       " 'KeyError',\n",
       " 'KeyboardInterrupt',\n",
       " 'LookupError',\n",
       " 'MemoryError',\n",
       " 'ModuleNotFoundError',\n",
       " 'NameError',\n",
       " 'None',\n",
       " 'NotADirectoryError',\n",
       " 'NotImplemented',\n",
       " 'NotImplementedError',\n",
       " 'OSError',\n",
       " 'OverflowError',\n",
       " 'PendingDeprecationWarning',\n",
       " 'PermissionError',\n",
       " 'ProcessLookupError',\n",
       " 'RecursionError',\n",
       " 'ReferenceError',\n",
       " 'ResourceWarning',\n",
       " 'RuntimeError',\n",
       " 'RuntimeWarning',\n",
       " 'StopAsyncIteration',\n",
       " 'StopIteration',\n",
       " 'SyntaxError',\n",
       " 'SyntaxWarning',\n",
       " 'SystemError',\n",
       " 'SystemExit',\n",
       " 'TabError',\n",
       " 'TimeoutError',\n",
       " 'True',\n",
       " 'TypeError',\n",
       " 'UnboundLocalError',\n",
       " 'UnicodeDecodeError',\n",
       " 'UnicodeEncodeError',\n",
       " 'UnicodeError',\n",
       " 'UnicodeTranslateError',\n",
       " 'UnicodeWarning',\n",
       " 'UserWarning',\n",
       " 'ValueError',\n",
       " 'Warning',\n",
       " 'WindowsError',\n",
       " 'ZeroDivisionError',\n",
       " '__IPYTHON__',\n",
       " '__build_class__',\n",
       " '__debug__',\n",
       " '__doc__',\n",
       " '__import__',\n",
       " '__loader__',\n",
       " '__name__',\n",
       " '__package__',\n",
       " '__spec__',\n",
       " 'abs',\n",
       " 'all',\n",
       " 'any',\n",
       " 'ascii',\n",
       " 'bin',\n",
       " 'bool',\n",
       " 'breakpoint',\n",
       " 'bytearray',\n",
       " 'bytes',\n",
       " 'callable',\n",
       " 'chr',\n",
       " 'classmethod',\n",
       " 'compile',\n",
       " 'complex',\n",
       " 'copyright',\n",
       " 'credits',\n",
       " 'delattr',\n",
       " 'dict',\n",
       " 'dir',\n",
       " 'display',\n",
       " 'divmod',\n",
       " 'enumerate',\n",
       " 'eval',\n",
       " 'exec',\n",
       " 'execfile',\n",
       " 'filter',\n",
       " 'float',\n",
       " 'format',\n",
       " 'frozenset',\n",
       " 'get_ipython',\n",
       " 'getattr',\n",
       " 'globals',\n",
       " 'hasattr',\n",
       " 'hash',\n",
       " 'help',\n",
       " 'hex',\n",
       " 'id',\n",
       " 'input',\n",
       " 'int',\n",
       " 'isinstance',\n",
       " 'issubclass',\n",
       " 'iter',\n",
       " 'len',\n",
       " 'license',\n",
       " 'list',\n",
       " 'locals',\n",
       " 'map',\n",
       " 'max',\n",
       " 'memoryview',\n",
       " 'min',\n",
       " 'next',\n",
       " 'object',\n",
       " 'oct',\n",
       " 'open',\n",
       " 'ord',\n",
       " 'pow',\n",
       " 'print',\n",
       " 'property',\n",
       " 'range',\n",
       " 'repr',\n",
       " 'reversed',\n",
       " 'round',\n",
       " 'runfile',\n",
       " 'set',\n",
       " 'setattr',\n",
       " 'slice',\n",
       " 'sorted',\n",
       " 'staticmethod',\n",
       " 'str',\n",
       " 'sum',\n",
       " 'super',\n",
       " 'tuple',\n",
       " 'type',\n",
       " 'vars',\n",
       " 'zip']"
      ]
     },
     "execution_count": 67,
     "metadata": {},
     "output_type": "execute_result"
    }
   ],
   "source": [
    "import builtins\n",
    "\n",
    "dir(builtins)"
   ]
  },
  {
   "cell_type": "code",
   "execution_count": 68,
   "metadata": {},
   "outputs": [
    {
     "name": "stdout",
     "output_type": "stream",
     "text": [
      "Help on built-in function sorted in module builtins:\n",
      "\n",
      "sorted(iterable, /, *, key=None, reverse=False)\n",
      "    Return a new list containing all items from the iterable in ascending order.\n",
      "    \n",
      "    A custom key function can be supplied to customize the sort order, and the\n",
      "    reverse flag can be set to request the result in descending order.\n",
      "\n"
     ]
    }
   ],
   "source": [
    "help(sorted)"
   ]
  },
  {
   "cell_type": "markdown",
   "metadata": {
    "id": "W0OZoJknHlhK"
   },
   "source": [
    "## Рекурсия"
   ]
  },
  {
   "cell_type": "markdown",
   "metadata": {},
   "source": [
    "Функция внутри себя может вызывать другие функции. \n",
    "\n",
    "Важный частный случай - функция внутри себя вызывает **саму себя**."
   ]
  },
  {
   "cell_type": "code",
   "execution_count": 5,
   "metadata": {
    "ExecuteTime": {
     "end_time": "2019-10-07T18:24:00.154295Z",
     "start_time": "2019-10-07T18:24:00.147111Z"
    },
    "code_folding": [
     3
    ]
   },
   "outputs": [],
   "source": [
    "# Давайте попробуем написать обычную функцию, которая вычисляет факториал числа\n",
    "\n",
    "# объявляем функцию\n",
    "def factorial(n):\n",
    "    # объявляем переменную равную 1\n",
    "    factorial = 1\n",
    "    # итерируемся \n",
    "    for i in range(1, n + 1):\n",
    "        # умножаем факториал\n",
    "        factorial *= i\n",
    "        \n",
    "    return factorial"
   ]
  },
  {
   "cell_type": "code",
   "execution_count": 70,
   "metadata": {},
   "outputs": [
    {
     "data": {
      "text/plain": [
       "720"
      ]
     },
     "execution_count": 70,
     "metadata": {},
     "output_type": "execute_result"
    }
   ],
   "source": [
    "factorial(6)"
   ]
  },
  {
   "cell_type": "code",
   "execution_count": 71,
   "metadata": {},
   "outputs": [
    {
     "data": {
      "text/plain": [
       "24"
      ]
     },
     "execution_count": 71,
     "metadata": {},
     "output_type": "execute_result"
    }
   ],
   "source": [
    "factorial(4)"
   ]
  },
  {
   "cell_type": "code",
   "execution_count": 72,
   "metadata": {},
   "outputs": [
    {
     "data": {
      "text/plain": [
       "3628800"
      ]
     },
     "execution_count": 72,
     "metadata": {},
     "output_type": "execute_result"
    }
   ],
   "source": [
    "factorial(10)"
   ]
  },
  {
   "cell_type": "markdown",
   "metadata": {
    "ExecuteTime": {
     "end_time": "2019-10-07T18:25:12.588115Z",
     "start_time": "2019-10-07T18:25:12.579529Z"
    }
   },
   "source": [
    "Математически факториал можно написать в виде рекурсивной формулы: \n",
    "\n",
    "```factorial(n+1) = factorial(n) * (n+1) = factorial(n - 1) * n * (n+1) = ...```"
   ]
  },
  {
   "cell_type": "markdown",
   "metadata": {},
   "source": [
    "Советую начинать с того, чтобы продумывать, когда рекурсия заканчивается (т.е. что должно случиться, чтобы была \"последняя\" итерация):"
   ]
  },
  {
   "cell_type": "code",
   "execution_count": 73,
   "metadata": {
    "ExecuteTime": {
     "end_time": "2019-10-07T18:28:29.546337Z",
     "start_time": "2019-10-07T18:28:29.539280Z"
    },
    "code_folding": [
     3
    ]
   },
   "outputs": [],
   "source": [
    "# Давайте попробуем написать рекурсивную функцию,\n",
    "# которая вычисляет факториал числа\n",
    "\n",
    "def recursive_factorial(n):\n",
    "#     print(f\"Вызов функции с {n=}\")\n",
    "    print(len(inspect.stack()))\n",
    "    # тернальное условие, оно обязательно\n",
    "    # когда мы пишем рекурсивную функцию, нам необходимо условие\n",
    "    # когда эта функция сможет остановиться\n",
    "    # если этого не сделать, функция будет вызывать саму себя до бесконечности\n",
    "    if n == 0:\n",
    "        return 1\n",
    "\n",
    "    return n * recursive_factorial(n - 1)  \n",
    "\n",
    "# recursive_factorial(n-1) == (n-1) * recursive_factorial(n-2)"
   ]
  },
  {
   "cell_type": "code",
   "execution_count": 74,
   "metadata": {},
   "outputs": [
    {
     "name": "stdout",
     "output_type": "stream",
     "text": [
      "23\n",
      "24\n",
      "25\n",
      "26\n",
      "27\n",
      "28\n",
      "29\n",
      "30\n"
     ]
    },
    {
     "data": {
      "text/plain": [
       "5040"
      ]
     },
     "execution_count": 74,
     "metadata": {},
     "output_type": "execute_result"
    }
   ],
   "source": [
    "# здесь мы можем видеть, что наша функция кладется в стэк\n",
    "# и он постепенно увеличивается\n",
    "# когда функция завершится, стэк очистится и снова станет 22\n",
    "recursive_factorial(7)"
   ]
  },
  {
   "cell_type": "code",
   "execution_count": 76,
   "metadata": {
    "scrolled": false
   },
   "outputs": [
    {
     "name": "stdout",
     "output_type": "stream",
     "text": [
      "23\n",
      "24\n",
      "25\n",
      "26\n"
     ]
    },
    {
     "data": {
      "text/plain": [
       "6"
      ]
     },
     "execution_count": 76,
     "metadata": {},
     "output_type": "execute_result"
    }
   ],
   "source": [
    "# как мы видим, здесь стэк начала снова заполнятся с 23\n",
    "recursive_factorial(3)"
   ]
  },
  {
   "cell_type": "markdown",
   "metadata": {},
   "source": [
    "О том, что такое стэк [https://ru.wikipedia.org/wiki/%D0%A1%D1%82%D0%B5%D0%BA]"
   ]
  },
  {
   "cell_type": "code",
   "execution_count": 77,
   "metadata": {},
   "outputs": [
    {
     "data": {
      "text/plain": [
       "22"
      ]
     },
     "execution_count": 77,
     "metadata": {},
     "output_type": "execute_result"
    }
   ],
   "source": [
    "len(inspect.stack())"
   ]
  },
  {
   "cell_type": "code",
   "execution_count": 78,
   "metadata": {},
   "outputs": [
    {
     "name": "stdout",
     "output_type": "stream",
     "text": [
      "Help on function stack in module inspect:\n",
      "\n",
      "stack(context=1)\n",
      "    Return a list of records for the stack above the caller's frame.\n",
      "\n"
     ]
    }
   ],
   "source": [
    "help(inspect.stack)"
   ]
  },
  {
   "cell_type": "code",
   "execution_count": 79,
   "metadata": {},
   "outputs": [
    {
     "data": {
      "text/plain": [
       "True"
      ]
     },
     "execution_count": 79,
     "metadata": {},
     "output_type": "execute_result"
    }
   ],
   "source": [
    "not []"
   ]
  },
  {
   "cell_type": "code",
   "execution_count": 80,
   "metadata": {
    "colab": {
     "base_uri": "https://localhost:8080/"
    },
    "executionInfo": {
     "elapsed": 3,
     "status": "ok",
     "timestamp": 1655137979877,
     "user": {
      "displayName": "Ilia Sklonin",
      "userId": "11017978408778967846"
     },
     "user_tz": -180
    },
    "id": "JAuR_ofnHlhK",
    "outputId": "68243cb3-ddb7-4130-916a-b45a0cd5234f"
   },
   "outputs": [
    {
     "name": "stdout",
     "output_type": "stream",
     "text": [
      "1\n",
      "[4, 2, 3, 7, 5]\n",
      "2\n",
      "[4, 3, 7, 5]\n",
      "3\n",
      "[4, 7, 5]\n",
      "4\n",
      "[7, 5]\n",
      "5\n",
      "[7]\n",
      "7\n",
      "[]\n",
      "[1, 2, 3, 4, 5, 7]\n"
     ]
    }
   ],
   "source": [
    "# пример, как с помощью рекурсии написать сортировку\n",
    "def easy_sort(x):\n",
    "    # тернальное условие\n",
    "    # если придет пустой список, то мы вернем его\n",
    "    if not x:\n",
    "        return x # при вызове return функция возвращает значение и ее выполнение завершается\n",
    "    # запоминаем минимальный элемент\n",
    "    first = min(x)\n",
    "    # печатаем минимальный элемент\n",
    "    print(first) \n",
    "    # удаляем минимальный элемент из списка\n",
    "    x.remove(first)  \n",
    "    # печатаем список\n",
    "    print(x)\n",
    "    # пакуем минимальное значение в список возвращаем\n",
    "    # и к нему прибавляем конкатенацией список, в котором уже меньше элементов\n",
    "    # так будет происходить, пока список не станет нулевым и рекурсия не прекратится\n",
    "    return [first] + easy_sort(x)\n",
    "    \n",
    "print(easy_sort([4, 2, 3, 1, 7, 5]))  # O(n^2)"
   ]
  },
  {
   "cell_type": "code",
   "execution_count": 81,
   "metadata": {
    "colab": {
     "base_uri": "https://localhost:8080/",
     "height": 169
    },
    "executionInfo": {
     "elapsed": 718,
     "status": "error",
     "timestamp": 1655138191101,
     "user": {
      "displayName": "Ilia Sklonin",
      "userId": "11017978408778967846"
     },
     "user_tz": -180
    },
    "id": "z-HXl76L7HTJ",
    "outputId": "f0fd25ea-a075-40de-d665-bded9647ab05"
   },
   "outputs": [
    {
     "data": {
      "text/plain": [
       "[1, 2, 3, 4, 5, 7]"
      ]
     },
     "execution_count": 81,
     "metadata": {},
     "output_type": "execute_result"
    }
   ],
   "source": [
    "[1] + [2] + [3] + [4] + [5] + [7] + []"
   ]
  },
  {
   "cell_type": "markdown",
   "metadata": {},
   "source": [
    "Существует предел глубины рекурсии:"
   ]
  },
  {
   "cell_type": "code",
   "execution_count": 21,
   "metadata": {
    "colab": {
     "base_uri": "https://localhost:8080/"
    },
    "executionInfo": {
     "elapsed": 412,
     "status": "ok",
     "timestamp": 1655139532114,
     "user": {
      "displayName": "Ilia Sklonin",
      "userId": "11017978408778967846"
     },
     "user_tz": -180
    },
    "id": "52zFvrR8uUDD",
    "outputId": "5c77be76-ce20-43f6-b254-020317470ab9"
   },
   "outputs": [
    {
     "data": {
      "text/plain": [
       "3000"
      ]
     },
     "execution_count": 21,
     "metadata": {},
     "output_type": "execute_result"
    }
   ],
   "source": [
    "# узнаем текущий лимит глубины стэка\n",
    "import sys\n",
    "sys.getrecursionlimit()"
   ]
  },
  {
   "cell_type": "code",
   "execution_count": 83,
   "metadata": {
    "id": "2k9YVyieAgz2"
   },
   "outputs": [],
   "source": [
    "# увеличим наш лимит\n",
    "sys.setrecursionlimit(10000)"
   ]
  },
  {
   "cell_type": "code",
   "execution_count": 84,
   "metadata": {
    "colab": {
     "base_uri": "https://localhost:8080/"
    },
    "executionInfo": {
     "elapsed": 4,
     "status": "ok",
     "timestamp": 1655139663992,
     "user": {
      "displayName": "Ilia Sklonin",
      "userId": "11017978408778967846"
     },
     "user_tz": -180
    },
    "id": "CnLH_IlGAvnI",
    "outputId": "059a05b9-7ade-48a9-aa07-16869c4c29e0"
   },
   "outputs": [
    {
     "data": {
      "text/plain": [
       "10000"
      ]
     },
     "execution_count": 84,
     "metadata": {},
     "output_type": "execute_result"
    }
   ],
   "source": [
    "sys.getrecursionlimit()"
   ]
  },
  {
   "cell_type": "code",
   "execution_count": 85,
   "metadata": {
    "id": "yhxhCH9fAU8m"
   },
   "outputs": [],
   "source": [
    "def inf_f():\n",
    "    return inf_f()"
   ]
  },
  {
   "cell_type": "code",
   "execution_count": null,
   "metadata": {
    "colab": {
     "base_uri": "https://localhost:8080/",
     "height": 300
    },
    "executionInfo": {
     "elapsed": 2653,
     "status": "error",
     "timestamp": 1655139577286,
     "user": {
      "displayName": "Ilia Sklonin",
      "userId": "11017978408778967846"
     },
     "user_tz": -180
    },
    "id": "VqqtC6XWAZTw",
    "outputId": "9db11114-3599-4189-e58e-eabbf8d2c4ac"
   },
   "outputs": [],
   "source": [
    "inf_f()\n",
    "# Здесь у меня умирает ядро. Видимо не хватает мощей ПК)\n",
    "# Вообще должна выдаваться ошибка\n",
    "# RecursionError: maximum recursion depth exceeded"
   ]
  },
  {
   "cell_type": "markdown",
   "metadata": {
    "id": "6D2GpOT7wONF"
   },
   "source": [
    "[Ackerman f](https://ru.wikipedia.org/wiki/%D0%A4%D1%83%D0%BD%D0%BA%D1%86%D0%B8%D1%8F_%D0%90%D0%BA%D0%BA%D0%B5%D1%80%D0%BC%D0%B0%D0%BD%D0%B0)"
   ]
  },
  {
   "cell_type": "code",
   "execution_count": 1,
   "metadata": {
    "id": "t2AMNLLzHlhL"
   },
   "outputs": [],
   "source": [
    "def ackermann(m, n):\n",
    "    if m == 0:\n",
    "        return n + 1\n",
    "    if n == 0:\n",
    "        return ackermann(m - 1, 1)\n",
    "    return ackermann(m - 1, ackermann(m, n - 1))"
   ]
  },
  {
   "cell_type": "code",
   "execution_count": 3,
   "metadata": {
    "colab": {
     "base_uri": "https://localhost:8080/"
    },
    "executionInfo": {
     "elapsed": 361,
     "status": "ok",
     "timestamp": 1655140185650,
     "user": {
      "displayName": "Ilia Sklonin",
      "userId": "11017978408778967846"
     },
     "user_tz": -180
    },
    "id": "2q2kAxb-HlhL",
    "outputId": "30b67960-569f-49d2-f137-447d1cec4aa9"
   },
   "outputs": [
    {
     "name": "stdout",
     "output_type": "stream",
     "text": [
      "5\n",
      "9\n",
      "125\n"
     ]
    }
   ],
   "source": [
    "print(ackermann(1, 3))\n",
    "print(ackermann(2, 3))\n",
    "print(ackermann(3, 4))"
   ]
  },
  {
   "cell_type": "markdown",
   "metadata": {},
   "source": [
    "#### Оператор assert"
   ]
  },
  {
   "cell_type": "code",
   "execution_count": 6,
   "metadata": {},
   "outputs": [],
   "source": [
    "# assert пробел выражение, которое проверяется на истинность\n",
    "# удобные проверки, можно оставлять в коде, чтобы проверять самих себя\n",
    "assert True\n",
    "assert factorial(5) == 120, 'тут ошибка'"
   ]
  },
  {
   "cell_type": "code",
   "execution_count": 7,
   "metadata": {},
   "outputs": [
    {
     "ename": "AssertionError",
     "evalue": "тут ошибка",
     "output_type": "error",
     "traceback": [
      "\u001b[1;31m---------------------------------------------------------------------------\u001b[0m",
      "\u001b[1;31mAssertionError\u001b[0m                            Traceback (most recent call last)",
      "Input \u001b[1;32mIn [7]\u001b[0m, in \u001b[0;36m<cell line: 2>\u001b[1;34m()\u001b[0m\n\u001b[0;32m      1\u001b[0m \u001b[38;5;28;01massert\u001b[39;00m \u001b[38;5;28;01mTrue\u001b[39;00m\n\u001b[1;32m----> 2\u001b[0m \u001b[38;5;28;01massert\u001b[39;00m factorial(\u001b[38;5;241m5\u001b[39m) \u001b[38;5;241m==\u001b[39m \u001b[38;5;241m125\u001b[39m, \u001b[38;5;124m'\u001b[39m\u001b[38;5;124mтут ошибка\u001b[39m\u001b[38;5;124m'\u001b[39m\n",
      "\u001b[1;31mAssertionError\u001b[0m: тут ошибка"
     ]
    }
   ],
   "source": [
    "assert True\n",
    "assert factorial(5) == 125, 'тут ошибка'"
   ]
  },
  {
   "cell_type": "code",
   "execution_count": 9,
   "metadata": {
    "id": "82k1UQ1NCwZw"
   },
   "outputs": [],
   "source": [
    "# пример с Фибоначчи\n",
    "# обычная функция фибоначчи\n",
    "def fib(n):\n",
    "    fib1, fib2 = 0, 1\n",
    "    if n == 1:\n",
    "        return fib1\n",
    "    elif n == 2:\n",
    "        return fib2\n",
    "    for _ in range(2, n):\n",
    "        fib1, fib2 = fib2, fib1 + fib2\n",
    "    return fib2\n",
    "\n",
    "# рекурсивная последовательность фибоначчи\n",
    "# она очень жаднос съедает стэк рекурсивных вызовов\n",
    "def fib_rec(n):\n",
    "    if n in (1, 2):\n",
    "        return 0 if n == 1 else 1\n",
    "    return fib_rec(n - 1) + fib_rec(n - 2)\n",
    "\n",
    "\n",
    "for i in range(1, 11):\n",
    "    assert fib(i) == fib_rec(i)"
   ]
  },
  {
   "cell_type": "code",
   "execution_count": 10,
   "metadata": {},
   "outputs": [
    {
     "data": {
      "text/plain": [
       "377"
      ]
     },
     "execution_count": 10,
     "metadata": {},
     "output_type": "execute_result"
    }
   ],
   "source": [
    "fib(15)"
   ]
  },
  {
   "cell_type": "code",
   "execution_count": 11,
   "metadata": {},
   "outputs": [
    {
     "data": {
      "text/plain": [
       "377"
      ]
     },
     "execution_count": 11,
     "metadata": {},
     "output_type": "execute_result"
    }
   ],
   "source": [
    "fib_rec(15)"
   ]
  },
  {
   "cell_type": "markdown",
   "metadata": {
    "id": "4EnFZjOqHlhR"
   },
   "source": [
    "## Анонимные функции (или лямбда-функции)"
   ]
  },
  {
   "cell_type": "code",
   "execution_count": 12,
   "metadata": {
    "id": "INpcKkYgHlhR"
   },
   "outputs": [],
   "source": [
    "# lambda-expression для создания функции\n",
    "# данная функция не создает объект функции\n",
    "# удобно использовать там, где нужны быстрые коротенькие функции\n",
    "lambda x: print(x)\n",
    "# а это обычная функция, которая делает тоже самое, что и ф-я выше\n",
    "def f(x):\n",
    "    print(x)"
   ]
  },
  {
   "cell_type": "code",
   "execution_count": 13,
   "metadata": {
    "colab": {
     "base_uri": "https://localhost:8080/"
    },
    "executionInfo": {
     "elapsed": 395,
     "status": "ok",
     "timestamp": 1655143822431,
     "user": {
      "displayName": "Ilia Sklonin",
      "userId": "11017978408778967846"
     },
     "user_tz": -180
    },
    "id": "MKf_xvtVE28c",
    "outputId": "4bd4f866-9e92-4bfc-dcfa-3da962e14079"
   },
   "outputs": [
    {
     "data": {
      "text/plain": [
       "function"
      ]
     },
     "execution_count": 13,
     "metadata": {},
     "output_type": "execute_result"
    }
   ],
   "source": [
    "type(f)"
   ]
  },
  {
   "cell_type": "code",
   "execution_count": 14,
   "metadata": {
    "colab": {
     "base_uri": "https://localhost:8080/"
    },
    "executionInfo": {
     "elapsed": 379,
     "status": "ok",
     "timestamp": 1655143829295,
     "user": {
      "displayName": "Ilia Sklonin",
      "userId": "11017978408778967846"
     },
     "user_tz": -180
    },
    "id": "iDRws09AFYrf",
    "outputId": "e5156b81-e082-4fd0-92c5-add2c6c2d1cd"
   },
   "outputs": [
    {
     "data": {
      "text/plain": [
       "function"
      ]
     },
     "execution_count": 14,
     "metadata": {},
     "output_type": "execute_result"
    }
   ],
   "source": [
    "type(lambda x : print(x))"
   ]
  },
  {
   "cell_type": "code",
   "execution_count": 15,
   "metadata": {
    "id": "JMy62dhhFeRU"
   },
   "outputs": [],
   "source": [
    "f_lambda = lambda x : sum(x)  # так никогда не делайте!"
   ]
  },
  {
   "cell_type": "code",
   "execution_count": 16,
   "metadata": {
    "colab": {
     "base_uri": "https://localhost:8080/"
    },
    "executionInfo": {
     "elapsed": 3,
     "status": "ok",
     "timestamp": 1655143839507,
     "user": {
      "displayName": "Ilia Sklonin",
      "userId": "11017978408778967846"
     },
     "user_tz": -180
    },
    "id": "Nrc8nv01Fo8z",
    "outputId": "199ae041-6118-4ac3-ae4c-b46874cb3593"
   },
   "outputs": [],
   "source": [
    "lst = [1, 2, 3]"
   ]
  },
  {
   "cell_type": "code",
   "execution_count": 17,
   "metadata": {
    "colab": {
     "base_uri": "https://localhost:8080/"
    },
    "executionInfo": {
     "elapsed": 386,
     "status": "ok",
     "timestamp": 1655143851696,
     "user": {
      "displayName": "Ilia Sklonin",
      "userId": "11017978408778967846"
     },
     "user_tz": -180
    },
    "id": "S-B5L36LFkh4",
    "outputId": "5b2d51a5-5e0d-4cf6-f183-fde59cb9139b"
   },
   "outputs": [
    {
     "data": {
      "text/plain": [
       "6"
      ]
     },
     "execution_count": 17,
     "metadata": {},
     "output_type": "execute_result"
    }
   ],
   "source": [
    "f_lambda(lst)"
   ]
  },
  {
   "cell_type": "code",
   "execution_count": 18,
   "metadata": {
    "colab": {
     "base_uri": "https://localhost:8080/"
    },
    "executionInfo": {
     "elapsed": 405,
     "status": "ok",
     "timestamp": 1655143953664,
     "user": {
      "displayName": "Ilia Sklonin",
      "userId": "11017978408778967846"
     },
     "user_tz": -180
    },
    "id": "RuoxhQtLQ0Ls",
    "outputId": "ff2de61f-f915-428f-bc62-62fb70cef6a8"
   },
   "outputs": [
    {
     "data": {
      "text/plain": [
       "3"
      ]
     },
     "execution_count": 18,
     "metadata": {},
     "output_type": "execute_result"
    }
   ],
   "source": [
    "f_lambda_add_two = lambda x, y : x + y\n",
    "f_lambda_add_two(1, 2)"
   ]
  },
  {
   "cell_type": "code",
   "execution_count": 19,
   "metadata": {
    "colab": {
     "base_uri": "https://localhost:8080/"
    },
    "executionInfo": {
     "elapsed": 6,
     "status": "ok",
     "timestamp": 1655144064677,
     "user": {
      "displayName": "Ilia Sklonin",
      "userId": "11017978408778967846"
     },
     "user_tz": -180
    },
    "id": "7UNcMsySRh_R",
    "outputId": "1a5bfc51-a24d-4875-bb18-d7035a122bf2"
   },
   "outputs": [
    {
     "data": {
      "text/plain": [
       "<map at 0x1ec788ef340>"
      ]
     },
     "execution_count": 19,
     "metadata": {},
     "output_type": "execute_result"
    }
   ],
   "source": [
    "# удобно использовать в различных мапах\n",
    "map(lambda x : x ** 2, range(10))"
   ]
  },
  {
   "cell_type": "code",
   "execution_count": 24,
   "metadata": {
    "colab": {
     "base_uri": "https://localhost:8080/"
    },
    "executionInfo": {
     "elapsed": 3,
     "status": "ok",
     "timestamp": 1655144135749,
     "user": {
      "displayName": "Ilia Sklonin",
      "userId": "11017978408778967846"
     },
     "user_tz": -180
    },
    "id": "Dnwb1I2ARo9c",
    "outputId": "8c74d2c0-7a5f-4d4a-d5d2-d89eb1c10473"
   },
   "outputs": [
    {
     "name": "stdout",
     "output_type": "stream",
     "text": [
      "48\n",
      "48\n"
     ]
    }
   ],
   "source": [
    "# посмотрим сколько у нас занимает места в оперативной памяти такие ф-ии\n",
    "# в первую передаается последовательность от 1 до 10\n",
    "print(sys.getsizeof(map(lambda x: x ** 2, range(10))))\n",
    "# во вторую передается последовательность от 1 до 100 000 000 \n",
    "print(sys.getsizeof(map(lambda x: x ** 2, range(10 ** 8))))\n",
    "# а места в оперативной памяти они занимают одинаково"
   ]
  },
  {
   "cell_type": "code",
   "execution_count": 25,
   "metadata": {},
   "outputs": [
    {
     "data": {
      "text/plain": [
       "136"
      ]
     },
     "execution_count": 25,
     "metadata": {},
     "output_type": "execute_result"
    }
   ],
   "source": [
    "# теперь посмотрим на длину списка от 1 до 10\n",
    "sys.getsizeof(list(range(10)))"
   ]
  },
  {
   "cell_type": "code",
   "execution_count": 23,
   "metadata": {},
   "outputs": [
    {
     "data": {
      "text/plain": [
       "800000056"
      ]
     },
     "execution_count": 23,
     "metadata": {},
     "output_type": "execute_result"
    }
   ],
   "source": [
    "# теперь посмотрим на длину списка от 1 до 100 000 000 \n",
    "# 800Мб занимает такой список, почти 1 Гб!\n",
    "# если присвоить такой список переменной, то минус 800Мб оперативки\n",
    "sys.getsizeof(list(range(10 ** 8)))"
   ]
  },
  {
   "cell_type": "code",
   "execution_count": 26,
   "metadata": {
    "colab": {
     "base_uri": "https://localhost:8080/"
    },
    "executionInfo": {
     "elapsed": 392,
     "status": "ok",
     "timestamp": 1655144157274,
     "user": {
      "displayName": "Ilia Sklonin",
      "userId": "11017978408778967846"
     },
     "user_tz": -180
    },
    "id": "98y1K-7RHlhR",
    "outputId": "93aef97e-8912-4a93-f0a4-d714767a35be"
   },
   "outputs": [
    {
     "data": {
      "text/plain": [
       "[0, 1, 4, 9, 16, 25, 36, 49, 64, 81]"
      ]
     },
     "execution_count": 26,
     "metadata": {},
     "output_type": "execute_result"
    }
   ],
   "source": [
    "list(map(lambda x: x ** 2, range(10)))"
   ]
  },
  {
   "cell_type": "code",
   "execution_count": 27,
   "metadata": {
    "colab": {
     "base_uri": "https://localhost:8080/"
    },
    "executionInfo": {
     "elapsed": 4,
     "status": "ok",
     "timestamp": 1655144626871,
     "user": {
      "displayName": "Ilia Sklonin",
      "userId": "11017978408778967846"
     },
     "user_tz": -180
    },
    "id": "6k8mcoI7S1wi",
    "outputId": "c1492f51-735b-478c-8576-59ab7fc5535d"
   },
   "outputs": [
    {
     "name": "stdout",
     "output_type": "stream",
     "text": [
      "[0, 1, 2, 3, 4, 5, 6, 7, 8, 9]\n",
      "[10, 9, 8, 7, 6, 5, 4, 3, 2, 1]\n"
     ]
    },
    {
     "data": {
      "text/plain": [
       "[10, 10, 10, 10, 10, 10, 10, 10, 10, 10]"
      ]
     },
     "execution_count": 27,
     "metadata": {},
     "output_type": "execute_result"
    }
   ],
   "source": [
    "print(list(range(10)))\n",
    "print(list(range(10, 0, -1)))\n",
    "\n",
    "# здесь имена лямбда функциям присваиваются только в учебных целях\n",
    "# никогда так не делайте!\n",
    "f_lambda_add_two = lambda x, y : x + y\n",
    "list(map(f_lambda_add_two, range(10), range(10, 0, -1)))"
   ]
  },
  {
   "cell_type": "code",
   "execution_count": 28,
   "metadata": {},
   "outputs": [
    {
     "data": {
      "text/plain": [
       "[10, 10, 10, 10, 10, 10, 10, 10, 10, 10]"
      ]
     },
     "execution_count": 28,
     "metadata": {},
     "output_type": "execute_result"
    }
   ],
   "source": [
    "# ответ будет тот же самый\n",
    "list(map(lambda t: sum(t), zip(range(10), range(10, 0, -1))))"
   ]
  },
  {
   "cell_type": "code",
   "execution_count": 29,
   "metadata": {
    "colab": {
     "base_uri": "https://localhost:8080/"
    },
    "executionInfo": {
     "elapsed": 2,
     "status": "ok",
     "timestamp": 1655144728162,
     "user": {
      "displayName": "Ilia Sklonin",
      "userId": "11017978408778967846"
     },
     "user_tz": -180
    },
    "id": "479woK2GT6IL",
    "outputId": "06b1e21e-0a87-484d-e10a-d68968841f26"
   },
   "outputs": [
    {
     "data": {
      "text/plain": [
       "nan"
      ]
     },
     "execution_count": 29,
     "metadata": {},
     "output_type": "execute_result"
    }
   ],
   "source": [
    "float('nan')  # Not A Number"
   ]
  },
  {
   "cell_type": "code",
   "execution_count": 30,
   "metadata": {
    "colab": {
     "base_uri": "https://localhost:8080/"
    },
    "executionInfo": {
     "elapsed": 444,
     "status": "ok",
     "timestamp": 1655144996802,
     "user": {
      "displayName": "Ilia Sklonin",
      "userId": "11017978408778967846"
     },
     "user_tz": -180
    },
    "id": "RYKRwYVUUfin",
    "outputId": "1d630f9e-a3e6-4f36-f086-2cf9c4141cdb"
   },
   "outputs": [
    {
     "data": {
      "text/plain": [
       "<function __main__.<lambda>(*args, **kwargs)>"
      ]
     },
     "execution_count": 30,
     "metadata": {},
     "output_type": "execute_result"
    }
   ],
   "source": [
    "# можно использовать неопределенное число именованных и позиционных аргументов\n",
    "function_name = lambda *args, **kwargs: (args, kwargs)\n",
    "function_name"
   ]
  },
  {
   "cell_type": "code",
   "execution_count": 31,
   "metadata": {},
   "outputs": [
    {
     "data": {
      "text/plain": [
       "[0, 1, 2, 3, 4]"
      ]
     },
     "execution_count": 31,
     "metadata": {},
     "output_type": "execute_result"
    }
   ],
   "source": [
    "sorted([1, 2, 3, 4, 0])"
   ]
  },
  {
   "cell_type": "code",
   "execution_count": 32,
   "metadata": {
    "colab": {
     "base_uri": "https://localhost:8080/"
    },
    "executionInfo": {
     "elapsed": 530,
     "status": "ok",
     "timestamp": 1655145070485,
     "user": {
      "displayName": "Ilia Sklonin",
      "userId": "11017978408778967846"
     },
     "user_tz": -180
    },
    "id": "ALm2xzSNGFPj",
    "outputId": "0c4ed46d-a1ea-46d0-c96c-a3ba6a385612"
   },
   "outputs": [
    {
     "data": {
      "text/plain": [
       "[4, 3, 2, 1, 0]"
      ]
     },
     "execution_count": 32,
     "metadata": {},
     "output_type": "execute_result"
    }
   ],
   "source": [
    "sorted([1, 2, 3, 4, 0], reverse=True)"
   ]
  },
  {
   "cell_type": "code",
   "execution_count": 34,
   "metadata": {
    "colab": {
     "base_uri": "https://localhost:8080/"
    },
    "executionInfo": {
     "elapsed": 5,
     "status": "ok",
     "timestamp": 1655145417908,
     "user": {
      "displayName": "Ilia Sklonin",
      "userId": "11017978408778967846"
     },
     "user_tz": -180
    },
    "id": "CuA29xrGHlhR",
    "outputId": "c4f46267-6f96-430c-8e47-60635afef70f"
   },
   "outputs": [
    {
     "data": {
      "text/plain": [
       "[4, 3, 2, 1]"
      ]
     },
     "execution_count": 34,
     "metadata": {},
     "output_type": "execute_result"
    }
   ],
   "source": [
    "# сортировка в обратном порядке\n",
    "sorted([1, 2, 3, 4], key=lambda x: 1 / x)  \n",
    "# [1, 2, 3, 4] --> 1, 1/2, 1/3, 1/4 --> 1/4, 1/3, 1/2, 1 --> 4, 3, 2, 1"
   ]
  },
  {
   "cell_type": "code",
   "execution_count": 35,
   "metadata": {
    "colab": {
     "base_uri": "https://localhost:8080/"
    },
    "executionInfo": {
     "elapsed": 522,
     "status": "ok",
     "timestamp": 1655145435202,
     "user": {
      "displayName": "Ilia Sklonin",
      "userId": "11017978408778967846"
     },
     "user_tz": -180
    },
    "id": "NOvat0N4WK1z",
    "outputId": "9d3f5dc6-f9f2-40b9-ca36-93a49a8ce4e1"
   },
   "outputs": [
    {
     "data": {
      "text/plain": [
       "[4, 3, 2, 1]"
      ]
     },
     "execution_count": 35,
     "metadata": {},
     "output_type": "execute_result"
    }
   ],
   "source": [
    "# вот этот способ нужен, если наприме необходимо отсортировать последовательность кортежей\n",
    "sorted([1, 2, 3, 4], key=lambda x: -x)"
   ]
  },
  {
   "cell_type": "code",
   "execution_count": 36,
   "metadata": {
    "colab": {
     "base_uri": "https://localhost:8080/"
    },
    "executionInfo": {
     "elapsed": 500,
     "status": "ok",
     "timestamp": 1655145644590,
     "user": {
      "displayName": "Ilia Sklonin",
      "userId": "11017978408778967846"
     },
     "user_tz": -180
    },
    "id": "28Mlp9ABXGwj",
    "outputId": "3771d001-6fd5-4b8f-c709-02fc4aaed95f"
   },
   "outputs": [
    {
     "data": {
      "text/plain": [
       "['diojfgnosihbogueg', 'lskdfbg', 'dfg']"
      ]
     },
     "execution_count": 36,
     "metadata": {},
     "output_type": "execute_result"
    }
   ],
   "source": [
    "# сортировка строк по длине в обратном порядке\n",
    "sorted(['lskdfbg', 'dfg', 'diojfgnosihbogueg'], key=lambda x: -len(x))"
   ]
  },
  {
   "cell_type": "markdown",
   "metadata": {
    "id": "FwTXe6qzHlhR"
   },
   "source": [
    "## Атрибуты"
   ]
  },
  {
   "cell_type": "code",
   "execution_count": 37,
   "metadata": {
    "id": "16VCk26lIKPt"
   },
   "outputs": [
    {
     "name": "stdout",
     "output_type": "stream",
     "text": [
      "Help on built-in function print in module builtins:\n",
      "\n",
      "print(...)\n",
      "    print(value, ..., sep=' ', end='\\n', file=sys.stdout, flush=False)\n",
      "    \n",
      "    Prints the values to a stream, or to sys.stdout by default.\n",
      "    Optional keyword arguments:\n",
      "    file:  a file-like object (stream); defaults to the current sys.stdout.\n",
      "    sep:   string inserted between values, default a space.\n",
      "    end:   string appended after the last value, default a newline.\n",
      "    flush: whether to forcibly flush the stream.\n",
      "\n"
     ]
    }
   ],
   "source": [
    "help(print)"
   ]
  },
  {
   "cell_type": "code",
   "execution_count": 38,
   "metadata": {
    "colab": {
     "base_uri": "https://localhost:8080/"
    },
    "executionInfo": {
     "elapsed": 388,
     "status": "ok",
     "timestamp": 1655146980207,
     "user": {
      "displayName": "Ilia Sklonin",
      "userId": "11017978408778967846"
     },
     "user_tz": -180
    },
    "id": "nOm73CoMIBTe",
    "outputId": "7f1d9656-baa7-4315-d899-a25deba79866"
   },
   "outputs": [
    {
     "name": "stdout",
     "output_type": "stream",
     "text": [
      "print.__doc__ = \"print(value, ..., sep=' ', end='\\\\n', file=sys.stdout, flush=False)\\n\\nPrints the values to a stream, or to sys.stdout by default.\\nOptional keyword arguments:\\nfile:  a file-like object (stream); defaults to the current sys.stdout.\\nsep:   string inserted between values, default a space.\\nend:   string appended after the last value, default a newline.\\nflush: whether to forcibly flush the stream.\"\n",
      "\n",
      "print.__name__ = 'print'\n"
     ]
    }
   ],
   "source": [
    "print(f'{print.__doc__ = }')\n",
    "print()\n",
    "print(f'{print.__name__ = }')"
   ]
  },
  {
   "cell_type": "markdown",
   "metadata": {},
   "source": [
    "Оператор `pass` ни ничего не делает, а используются тогда, когда в коде требуется какой-то синтаксис, но никаких действий производить не надо:"
   ]
  },
  {
   "cell_type": "code",
   "execution_count": 40,
   "metadata": {},
   "outputs": [],
   "source": [
    "for i in range(100):\n",
    "    pass"
   ]
  },
  {
   "cell_type": "code",
   "execution_count": 41,
   "metadata": {},
   "outputs": [
    {
     "ename": "IndentationError",
     "evalue": "expected an indented block (3218583273.py, line 2)",
     "output_type": "error",
     "traceback": [
      "\u001b[1;36m  Input \u001b[1;32mIn [41]\u001b[1;36m\u001b[0m\n\u001b[1;33m    for i in range(100):\u001b[0m\n\u001b[1;37m                        ^\u001b[0m\n\u001b[1;31mIndentationError\u001b[0m\u001b[1;31m:\u001b[0m expected an indented block\n"
     ]
    }
   ],
   "source": [
    "# если же сделать вот так, то получим ошибку\n",
    "for i in range(100):"
   ]
  },
  {
   "cell_type": "code",
   "execution_count": null,
   "metadata": {},
   "outputs": [],
   "source": [
    "# inf\n",
    "# while True:\n",
    "#     pass"
   ]
  },
  {
   "cell_type": "markdown",
   "metadata": {},
   "source": [
    "Код будет выполняться, но ничего не произойдет. Этот оператор удобно использовать как заглушку для функций, которые вы хотите реализовать позже, а сейчас нужно просто объявить ее имя. После этого редактор кода будет знать имя этого объекта и поможет автозаполнением"
   ]
  },
  {
   "cell_type": "code",
   "execution_count": 42,
   "metadata": {},
   "outputs": [],
   "source": [
    "def foo():\n",
    "    \"\"\"This is doc string\"\"\"\n",
    "    pass"
   ]
  },
  {
   "cell_type": "code",
   "execution_count": 44,
   "metadata": {},
   "outputs": [
    {
     "data": {
      "text/plain": [
       "<function __main__.foo()>"
      ]
     },
     "execution_count": 44,
     "metadata": {},
     "output_type": "execute_result"
    }
   ],
   "source": [
    "foo  # поставьте указатель после f и нажмите Tab"
   ]
  },
  {
   "cell_type": "code",
   "execution_count": 45,
   "metadata": {
    "scrolled": true
   },
   "outputs": [
    {
     "data": {
      "text/plain": [
       "'This is doc string'"
      ]
     },
     "execution_count": 45,
     "metadata": {},
     "output_type": "execute_result"
    }
   ],
   "source": [
    "foo.__doc__"
   ]
  },
  {
   "cell_type": "code",
   "execution_count": 48,
   "metadata": {
    "colab": {
     "base_uri": "https://localhost:8080/"
    },
    "executionInfo": {
     "elapsed": 395,
     "status": "ok",
     "timestamp": 1655147014314,
     "user": {
      "displayName": "Ilia Sklonin",
      "userId": "11017978408778967846"
     },
     "user_tz": -180
    },
    "id": "FwRIKhKx5Ss4",
    "outputId": "87d11b83-9fc4-499c-b48b-aa8879c7502f"
   },
   "outputs": [
    {
     "data": {
      "text/plain": [
       "['__annotations__',\n",
       " '__call__',\n",
       " '__class__',\n",
       " '__closure__',\n",
       " '__code__',\n",
       " '__defaults__',\n",
       " '__delattr__',\n",
       " '__dict__',\n",
       " '__dir__',\n",
       " '__doc__',\n",
       " '__eq__',\n",
       " '__format__',\n",
       " '__ge__',\n",
       " '__get__',\n",
       " '__getattribute__',\n",
       " '__globals__',\n",
       " '__gt__',\n",
       " '__hash__',\n",
       " '__init__',\n",
       " '__init_subclass__',\n",
       " '__kwdefaults__',\n",
       " '__le__',\n",
       " '__lt__',\n",
       " '__module__',\n",
       " '__name__',\n",
       " '__ne__',\n",
       " '__new__',\n",
       " '__qualname__',\n",
       " '__reduce__',\n",
       " '__reduce_ex__',\n",
       " '__repr__',\n",
       " '__setattr__',\n",
       " '__sizeof__',\n",
       " '__str__',\n",
       " '__subclasshook__']"
      ]
     },
     "execution_count": 48,
     "metadata": {},
     "output_type": "execute_result"
    }
   ],
   "source": [
    "dir(full_function)"
   ]
  },
  {
   "cell_type": "code",
   "execution_count": 49,
   "metadata": {},
   "outputs": [
    {
     "data": {
      "text/plain": [
       "'__main__'"
      ]
     },
     "execution_count": 49,
     "metadata": {},
     "output_type": "execute_result"
    }
   ],
   "source": [
    "full_function.__module__"
   ]
  },
  {
   "cell_type": "code",
   "execution_count": 61,
   "metadata": {},
   "outputs": [
    {
     "data": {
      "text/plain": [
       "'full_function'"
      ]
     },
     "execution_count": 61,
     "metadata": {},
     "output_type": "execute_result"
    }
   ],
   "source": [
    "full_function.__name__"
   ]
  },
  {
   "cell_type": "code",
   "execution_count": 62,
   "metadata": {},
   "outputs": [],
   "source": [
    "from math import cos as c"
   ]
  },
  {
   "cell_type": "code",
   "execution_count": 63,
   "metadata": {},
   "outputs": [
    {
     "data": {
      "text/plain": [
       "0.5403023058681398"
      ]
     },
     "execution_count": 63,
     "metadata": {},
     "output_type": "execute_result"
    }
   ],
   "source": [
    "c(1)"
   ]
  },
  {
   "cell_type": "code",
   "execution_count": 64,
   "metadata": {},
   "outputs": [
    {
     "ename": "NameError",
     "evalue": "name 'cos' is not defined",
     "output_type": "error",
     "traceback": [
      "\u001b[1;31m---------------------------------------------------------------------------\u001b[0m",
      "\u001b[1;31mNameError\u001b[0m                                 Traceback (most recent call last)",
      "Input \u001b[1;32mIn [64]\u001b[0m, in \u001b[0;36m<cell line: 1>\u001b[1;34m()\u001b[0m\n\u001b[1;32m----> 1\u001b[0m \u001b[43mcos\u001b[49m(\u001b[38;5;241m1\u001b[39m)\n",
      "\u001b[1;31mNameError\u001b[0m: name 'cos' is not defined"
     ]
    }
   ],
   "source": [
    "cos(1)"
   ]
  },
  {
   "cell_type": "code",
   "execution_count": 65,
   "metadata": {},
   "outputs": [
    {
     "ename": "NameError",
     "evalue": "name 'cos' is not defined",
     "output_type": "error",
     "traceback": [
      "\u001b[1;31m---------------------------------------------------------------------------\u001b[0m",
      "\u001b[1;31mNameError\u001b[0m                                 Traceback (most recent call last)",
      "Input \u001b[1;32mIn [65]\u001b[0m, in \u001b[0;36m<cell line: 1>\u001b[1;34m()\u001b[0m\n\u001b[1;32m----> 1\u001b[0m \u001b[43mcos\u001b[49m\u001b[38;5;241m.\u001b[39m\u001b[38;5;18m__name__\u001b[39m\n",
      "\u001b[1;31mNameError\u001b[0m: name 'cos' is not defined"
     ]
    }
   ],
   "source": [
    "cos.__name__"
   ]
  },
  {
   "cell_type": "code",
   "execution_count": 66,
   "metadata": {},
   "outputs": [
    {
     "data": {
      "text/plain": [
       "'cos'"
      ]
     },
     "execution_count": 66,
     "metadata": {},
     "output_type": "execute_result"
    }
   ],
   "source": [
    "# увидим, что у c хранится родительское имя, которое доставалось из модуля math\n",
    "c.__name__"
   ]
  },
  {
   "cell_type": "code",
   "execution_count": 67,
   "metadata": {},
   "outputs": [
    {
     "data": {
      "text/plain": [
       "'math'"
      ]
     },
     "execution_count": 67,
     "metadata": {},
     "output_type": "execute_result"
    }
   ],
   "source": [
    "c.__module__"
   ]
  },
  {
   "cell_type": "code",
   "execution_count": 51,
   "metadata": {},
   "outputs": [
    {
     "data": {
      "text/plain": [
       "True"
      ]
     },
     "execution_count": 51,
     "metadata": {},
     "output_type": "execute_result"
    }
   ],
   "source": [
    "full_function.__doc__ is None"
   ]
  },
  {
   "cell_type": "code",
   "execution_count": 52,
   "metadata": {},
   "outputs": [
    {
     "data": {
      "text/plain": [
       "('arg with def value',)"
      ]
     },
     "execution_count": 52,
     "metadata": {},
     "output_type": "execute_result"
    }
   ],
   "source": [
    "full_function.__defaults__"
   ]
  },
  {
   "cell_type": "code",
   "execution_count": 53,
   "metadata": {},
   "outputs": [
    {
     "data": {
      "text/plain": [
       "{'kw_arg3_with_def': 100}"
      ]
     },
     "execution_count": 53,
     "metadata": {},
     "output_type": "execute_result"
    }
   ],
   "source": [
    "full_function.__kwdefaults__"
   ]
  },
  {
   "cell_type": "markdown",
   "metadata": {
    "id": "_Gth1Y8WHlhS"
   },
   "source": [
    "### Атрибуты можно использовать как статические переменные"
   ]
  },
  {
   "cell_type": "code",
   "execution_count": 54,
   "metadata": {
    "colab": {
     "base_uri": "https://localhost:8080/"
    },
    "executionInfo": {
     "elapsed": 7,
     "status": "ok",
     "timestamp": 1655147389350,
     "user": {
      "displayName": "Ilia Sklonin",
      "userId": "11017978408778967846"
     },
     "user_tz": -180
    },
    "id": "ZX8levfJHlhS",
    "outputId": "0fbb116c-795e-433a-8623-20d81aa398f4"
   },
   "outputs": [],
   "source": [
    "def get_next_id():\n",
    "    # данная ф-я проверяеть есть ли атрибут у объекта или нет\n",
    "    if not hasattr(get_next_id, 'value'):\n",
    "        get_next_id.value = 0\n",
    "    \n",
    "    get_next_id.value += 1\n",
    "    return get_next_id.value"
   ]
  },
  {
   "cell_type": "code",
   "execution_count": 55,
   "metadata": {
    "colab": {
     "base_uri": "https://localhost:8080/"
    },
    "executionInfo": {
     "elapsed": 7,
     "status": "ok",
     "timestamp": 1655147389350,
     "user": {
      "displayName": "Ilia Sklonin",
      "userId": "11017978408778967846"
     },
     "user_tz": -180
    },
    "id": "ZX8levfJHlhS",
    "outputId": "0fbb116c-795e-433a-8623-20d81aa398f4"
   },
   "outputs": [
    {
     "name": "stdout",
     "output_type": "stream",
     "text": [
      "1\n",
      "2\n",
      "3\n",
      "get_next_id.value=3\n"
     ]
    }
   ],
   "source": [
    "print(get_next_id())\n",
    "print(get_next_id())\n",
    "print(get_next_id())\n",
    "print(f'{get_next_id.value=}')"
   ]
  },
  {
   "cell_type": "markdown",
   "metadata": {
    "id": "xQYjlZeKHlhV"
   },
   "source": [
    "### Почему не стоит использовать mutable аргументы по умолчанию"
   ]
  },
  {
   "cell_type": "code",
   "execution_count": 56,
   "metadata": {
    "colab": {
     "base_uri": "https://localhost:8080/"
    },
    "executionInfo": {
     "elapsed": 488,
     "status": "ok",
     "timestamp": 1655147619210,
     "user": {
      "displayName": "Ilia Sklonin",
      "userId": "11017978408778967846"
     },
     "user_tz": -180
    },
    "id": "dLFcKVzeHlhV",
    "outputId": "806ebe47-e98a-4b63-eb50-b5cd1290633f"
   },
   "outputs": [
    {
     "name": "stdout",
     "output_type": "stream",
     "text": [
      "([],)\n",
      "Hello\n",
      "Hello the\n",
      "(['Hello', 'the'],)\n",
      "Hello the wonderful\n",
      "Hello the wonderful world!\n"
     ]
    }
   ],
   "source": [
    "# создаем функцию в качестве дефолтного значения у b пустой список\n",
    "def foo(a, b=[]):\n",
    "    # добавляем в список b аргумент а\n",
    "    b.append(a)\n",
    "    # печатаем b\n",
    "    print(*b)\n",
    "\n",
    "# посмотрим в атрибут defaults\n",
    "print(foo.__defaults__)\n",
    "foo('Hello')\n",
    "foo('the')\n",
    "# снова смотрим в defaults\n",
    "print(foo.__defaults__)\n",
    "foo('wonderful')\n",
    "foo('world!')\n",
    "\n",
    "# ! Обрати внимание, т.к. мы сделали значением по умолчанию изменяемый объект\n",
    "# У нас между запусками функции происходили изменения дефолтных значения для параметра"
   ]
  },
  {
   "cell_type": "code",
   "execution_count": 58,
   "metadata": {},
   "outputs": [
    {
     "data": {
      "text/plain": [
       "(['Hello', 'the', 'wonderful', 'world!'],)"
      ]
     },
     "execution_count": 58,
     "metadata": {},
     "output_type": "execute_result"
    }
   ],
   "source": [
    "# в конце естественно лежит кортеж с одним элементом\n",
    "foo.__defaults__"
   ]
  },
  {
   "cell_type": "code",
   "execution_count": 59,
   "metadata": {},
   "outputs": [
    {
     "data": {
      "text/plain": [
       "'wonder'"
      ]
     },
     "execution_count": 59,
     "metadata": {},
     "output_type": "execute_result"
    }
   ],
   "source": [
    "# ради интереса доберемся до слова wonder\n",
    "foo.__defaults__[0][2][:6]"
   ]
  },
  {
   "cell_type": "code",
   "execution_count": 60,
   "metadata": {
    "colab": {
     "base_uri": "https://localhost:8080/"
    },
    "executionInfo": {
     "elapsed": 524,
     "status": "ok",
     "timestamp": 1655147659023,
     "user": {
      "displayName": "Ilia Sklonin",
      "userId": "11017978408778967846"
     },
     "user_tz": -180
    },
    "id": "Bf1bhPiKVUYV",
    "outputId": "4408d522-2823-49a3-a0d3-5a56e9415808"
   },
   "outputs": [
    {
     "name": "stdout",
     "output_type": "stream",
     "text": [
      "Hello\n",
      "1 2 the\n",
      "wonderful\n",
      "world!\n"
     ]
    }
   ],
   "source": [
    "def foo(a, b=None):\n",
    "    if b is None:\n",
    "        b = []\n",
    "    b.append(a)\n",
    "    print(*b)\n",
    "    \n",
    "foo('Hello', [])\n",
    "foo('the', [1, 2])\n",
    "foo('wonderful')\n",
    "foo('world!')"
   ]
  }
 ],
 "metadata": {
  "colab": {
   "name": "Copy of 04_functions",
   "provenance": [
    {
     "file_id": "1ure0Sg5su84-9DM0NEBsUnRfUmryWY03",
     "timestamp": 1658345992125
    },
    {
     "file_id": "1sHcsL2u2hI233fUQSxC3Lw-ZQSNDGBsf",
     "timestamp": 1638375939809
    },
    {
     "file_id": "1ZuCK8TECNyzIDXnA8mdvcjWw4KKwRSc3",
     "timestamp": 1632931533603
    },
    {
     "file_id": "https://github.com/febos/mipt-python-21spring/blob/master/Seminar4/Seminar04.ipynb",
     "timestamp": 1627308092991
    }
   ]
  },
  "kernelspec": {
   "display_name": "Python 3 (ipykernel)",
   "language": "python",
   "name": "python3"
  },
  "language_info": {
   "codemirror_mode": {
    "name": "ipython",
    "version": 3
   },
   "file_extension": ".py",
   "mimetype": "text/x-python",
   "name": "python",
   "nbconvert_exporter": "python",
   "pygments_lexer": "ipython3",
   "version": "3.9.12"
  },
  "toc": {
   "base_numbering": 1,
   "nav_menu": {},
   "number_sections": true,
   "sideBar": true,
   "skip_h1_title": false,
   "title_cell": "Table of Contents",
   "title_sidebar": "Contents",
   "toc_cell": true,
   "toc_position": {},
   "toc_section_display": true,
   "toc_window_display": true
  }
 },
 "nbformat": 4,
 "nbformat_minor": 1
}
