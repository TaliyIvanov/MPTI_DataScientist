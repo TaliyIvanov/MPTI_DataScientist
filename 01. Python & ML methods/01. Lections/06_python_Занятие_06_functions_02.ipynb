{
 "cells": [
  {
   "cell_type": "markdown",
   "id": "e7323621",
   "metadata": {
    "id": "m0fMdvd6HlhA"
   },
   "source": [
    "## Функции 2\n",
    "\n",
    "### План на сегодня\n",
    "\n",
    "- итераторы и итерабельность\n",
    "- генераторы, generator expression, yield\n",
    "- пространства имен, `globals()` и `locals()`\n",
    "- области видимости, LEGB, `global` и `nonlocal`\n",
    "- замыкания, `__closure__`\n",
    "- `itertools`, `functools`"
   ]
  },
  {
   "cell_type": "markdown",
   "id": "7efacc35",
   "metadata": {},
   "source": [
    "Очень удобно проверять наличие той или иной функциональности у объекта с помощью модуля `collections.abc`. Посмотреть список доступных Абстрактных классов можно [здесь](https://docs.python.org/3/library/collections.abc.html#collections-abstract-base-classes)"
   ]
  },
  {
   "cell_type": "code",
   "execution_count": 1,
   "id": "74bc482d",
   "metadata": {},
   "outputs": [
    {
     "data": {
      "text/plain": [
       "['ChainMap',\n",
       " 'Counter',\n",
       " 'OrderedDict',\n",
       " 'UserDict',\n",
       " 'UserList',\n",
       " 'UserString',\n",
       " '_Link',\n",
       " '_OrderedDictItemsView',\n",
       " '_OrderedDictKeysView',\n",
       " '_OrderedDictValuesView',\n",
       " '__all__',\n",
       " '__builtins__',\n",
       " '__cached__',\n",
       " '__doc__',\n",
       " '__file__',\n",
       " '__getattr__',\n",
       " '__loader__',\n",
       " '__name__',\n",
       " '__package__',\n",
       " '__path__',\n",
       " '__spec__',\n",
       " '_chain',\n",
       " '_collections_abc',\n",
       " '_count_elements',\n",
       " '_eq',\n",
       " '_heapq',\n",
       " '_iskeyword',\n",
       " '_itemgetter',\n",
       " '_proxy',\n",
       " '_recursive_repr',\n",
       " '_repeat',\n",
       " '_starmap',\n",
       " '_sys',\n",
       " '_tuplegetter',\n",
       " 'abc',\n",
       " 'defaultdict',\n",
       " 'deque',\n",
       " 'namedtuple']"
      ]
     },
     "execution_count": 1,
     "metadata": {},
     "output_type": "execute_result"
    }
   ],
   "source": [
    "import collections\n",
    "\n",
    "dir(collections)"
   ]
  },
  {
   "cell_type": "markdown",
   "id": "b299d32d",
   "metadata": {},
   "source": [
    "**вопрос** Какая функция помогает нам проверять тип объекта?"
   ]
  },
  {
   "cell_type": "code",
   "execution_count": 2,
   "id": "4ba41e24",
   "metadata": {},
   "outputs": [
    {
     "data": {
      "text/plain": [
       "True"
      ]
     },
     "execution_count": 2,
     "metadata": {},
     "output_type": "execute_result"
    }
   ],
   "source": [
    "type([1, 2, 3]) == list"
   ]
  },
  {
   "cell_type": "code",
   "execution_count": 3,
   "id": "8759c3e5",
   "metadata": {},
   "outputs": [
    {
     "data": {
      "text/plain": [
       "True"
      ]
     },
     "execution_count": 3,
     "metadata": {},
     "output_type": "execute_result"
    }
   ],
   "source": [
    "isinstance([1, 2, 3], list)"
   ]
  },
  {
   "cell_type": "code",
   "execution_count": 4,
   "id": "859ef269",
   "metadata": {},
   "outputs": [
    {
     "data": {
      "text/plain": [
       "False"
      ]
     },
     "execution_count": 4,
     "metadata": {},
     "output_type": "execute_result"
    }
   ],
   "source": [
    "isinstance(True, str)"
   ]
  },
  {
   "cell_type": "code",
   "execution_count": 5,
   "id": "e9797d47",
   "metadata": {},
   "outputs": [
    {
     "data": {
      "text/plain": [
       "True"
      ]
     },
     "execution_count": 5,
     "metadata": {},
     "output_type": "execute_result"
    }
   ],
   "source": [
    "isinstance(True, int)"
   ]
  },
  {
   "cell_type": "markdown",
   "id": "2714517b",
   "metadata": {
    "slideshow": {
     "slide_type": "slide"
    }
   },
   "source": [
    "## Iterator and Iterable\n",
    "\n",
    "- **Iterator** - объект, от которого можно взять `next()`\n",
    "- **Iterable** - объект, от которого можно взять `iter()`, получив `Iterator`"
   ]
  },
  {
   "cell_type": "code",
   "execution_count": 6,
   "id": "46b08196",
   "metadata": {},
   "outputs": [
    {
     "name": "stdout",
     "output_type": "stream",
     "text": [
      "<list_iterator object at 0x105464f10>\n"
     ]
    }
   ],
   "source": [
    "values = ['Hello', 'world!']\n",
    "print(values.__iter__())"
   ]
  },
  {
   "cell_type": "code",
   "execution_count": 7,
   "id": "a25212d2",
   "metadata": {},
   "outputs": [
    {
     "data": {
      "text/plain": [
       "<list_iterator at 0x105464820>"
      ]
     },
     "execution_count": 7,
     "metadata": {},
     "output_type": "execute_result"
    }
   ],
   "source": [
    "iter(values)"
   ]
  },
  {
   "cell_type": "code",
   "execution_count": 8,
   "id": "1954d2cb",
   "metadata": {},
   "outputs": [],
   "source": [
    "def foo(x):\n",
    "    print('I am a generator function!')\n",
    "    return iter(x)"
   ]
  },
  {
   "cell_type": "code",
   "execution_count": 9,
   "id": "04de2e6c",
   "metadata": {},
   "outputs": [
    {
     "name": "stdout",
     "output_type": "stream",
     "text": [
      "I am a generator function!\n"
     ]
    },
    {
     "data": {
      "text/plain": [
       "<list_iterator at 0x10557f0a0>"
      ]
     },
     "execution_count": 9,
     "metadata": {},
     "output_type": "execute_result"
    }
   ],
   "source": [
    "iterator = foo(values)  # iter(values)\n",
    "iterator"
   ]
  },
  {
   "cell_type": "code",
   "execution_count": 10,
   "id": "d9b7c8c3",
   "metadata": {},
   "outputs": [
    {
     "name": "stdout",
     "output_type": "stream",
     "text": [
      "I am a generator function!\n",
      "Hello-world!-"
     ]
    }
   ],
   "source": [
    "for value in foo(values):\n",
    "    print(value, end='-')"
   ]
  },
  {
   "cell_type": "code",
   "execution_count": 12,
   "id": "bf2f53dc",
   "metadata": {
    "slideshow": {
     "slide_type": "subslide"
    }
   },
   "outputs": [],
   "source": [
    "from collections.abc import Iterable, Iterator"
   ]
  },
  {
   "cell_type": "code",
   "execution_count": 11,
   "id": "ddea822d",
   "metadata": {
    "slideshow": {
     "slide_type": "subslide"
    }
   },
   "outputs": [],
   "source": [
    "iterable = ['Alice', 'Bob', 'Charlie']\n",
    "iterator = iter(iterable)"
   ]
  },
  {
   "cell_type": "code",
   "execution_count": 13,
   "id": "78af95b5",
   "metadata": {
    "slideshow": {
     "slide_type": "subslide"
    }
   },
   "outputs": [
    {
     "name": "stdout",
     "output_type": "stream",
     "text": [
      "['Alice', 'Bob', 'Charlie']\n",
      "True\n",
      "<list_iterator object at 0x105464d90>\n",
      "True\n"
     ]
    }
   ],
   "source": [
    "print(iterable)\n",
    "print(isinstance(iterable, Iterable))\n",
    "print(iterator)\n",
    "print(isinstance(iterator, Iterator))"
   ]
  },
  {
   "cell_type": "markdown",
   "id": "1e2e3693",
   "metadata": {},
   "source": [
    "## Generator"
   ]
  },
  {
   "cell_type": "markdown",
   "id": "1d09705e",
   "metadata": {},
   "source": [
    "Иногда удобно создать генератор вместо списка, чтобы не хранить в памяти весь список сразу, а \"считать\" объекты только когда понадобятся:"
   ]
  },
  {
   "cell_type": "code",
   "execution_count": 14,
   "id": "2e342885",
   "metadata": {},
   "outputs": [
    {
     "data": {
      "text/plain": [
       "[0, 1, 4, 9, 16, 25, 36, 49, 64, 81]"
      ]
     },
     "execution_count": 14,
     "metadata": {},
     "output_type": "execute_result"
    }
   ],
   "source": [
    "[x * x for x in range(10)]"
   ]
  },
  {
   "cell_type": "code",
   "execution_count": 15,
   "id": "6f05a63f",
   "metadata": {},
   "outputs": [
    {
     "data": {
      "text/plain": [
       "285"
      ]
     },
     "execution_count": 15,
     "metadata": {},
     "output_type": "execute_result"
    }
   ],
   "source": [
    "sum([x * x for x in range(10)]) # list comprehension"
   ]
  },
  {
   "cell_type": "code",
   "execution_count": 16,
   "id": "f1749e9c",
   "metadata": {},
   "outputs": [
    {
     "data": {
      "text/plain": [
       "285"
      ]
     },
     "execution_count": 16,
     "metadata": {},
     "output_type": "execute_result"
    }
   ],
   "source": [
    "sum(x * x for x in range(10))   # generator expression"
   ]
  },
  {
   "cell_type": "markdown",
   "id": "d1bc2b8f",
   "metadata": {},
   "source": [
    "А в чём разница?"
   ]
  },
  {
   "cell_type": "code",
   "execution_count": 17,
   "id": "d5dd4f2a",
   "metadata": {},
   "outputs": [
    {
     "data": {
      "text/plain": [
       "list"
      ]
     },
     "execution_count": 17,
     "metadata": {},
     "output_type": "execute_result"
    }
   ],
   "source": [
    "type([x * x for x in range(10)])"
   ]
  },
  {
   "cell_type": "code",
   "execution_count": 18,
   "id": "05346c77",
   "metadata": {},
   "outputs": [
    {
     "data": {
      "text/plain": [
       "generator"
      ]
     },
     "execution_count": 18,
     "metadata": {},
     "output_type": "execute_result"
    }
   ],
   "source": [
    "type(x * x for x in range(10))"
   ]
  },
  {
   "cell_type": "markdown",
   "id": "39bf8a58",
   "metadata": {},
   "source": [
    "- **Generator** - особый вид Iterator\n",
    "- **Generator Expression** - способ создания Generator\n",
    "- **Generator Function** (в простонародии тоже Generator) - еще один способ создания Generator "
   ]
  },
  {
   "cell_type": "code",
   "execution_count": 19,
   "id": "dd0a184a",
   "metadata": {
    "slideshow": {
     "slide_type": "subslide"
    }
   },
   "outputs": [
    {
     "name": "stdout",
     "output_type": "stream",
     "text": [
      "<generator object <genexpr> at 0x1055aa190>\n"
     ]
    }
   ],
   "source": [
    "from collections.abc import Generator \n",
    "\n",
    "generator = (x**2 for x in range(10))\n",
    "print(generator)"
   ]
  },
  {
   "cell_type": "code",
   "execution_count": 20,
   "id": "f4963348",
   "metadata": {},
   "outputs": [
    {
     "ename": "SyntaxError",
     "evalue": "invalid syntax (1296835223.py, line 1)",
     "output_type": "error",
     "traceback": [
      "\u001b[0;36m  File \u001b[0;32m\"/var/folders/v8/2cskhqjj0_g0zp3824glf1tm0000gn/T/ipykernel_34478/1296835223.py\"\u001b[0;36m, line \u001b[0;32m1\u001b[0m\n\u001b[0;31m    generator = x**2 for x in range(10)\u001b[0m\n\u001b[0m                     ^\u001b[0m\n\u001b[0;31mSyntaxError\u001b[0m\u001b[0;31m:\u001b[0m invalid syntax\n"
     ]
    }
   ],
   "source": [
    "generator = x**2 for x in range(10)"
   ]
  },
  {
   "cell_type": "code",
   "execution_count": 21,
   "id": "c84437f6",
   "metadata": {},
   "outputs": [
    {
     "data": {
      "text/plain": [
       "<list_iterator at 0x105464d90>"
      ]
     },
     "execution_count": 21,
     "metadata": {},
     "output_type": "execute_result"
    }
   ],
   "source": [
    "iterator"
   ]
  },
  {
   "cell_type": "code",
   "execution_count": 22,
   "id": "fb7edfd6",
   "metadata": {
    "slideshow": {
     "slide_type": "subslide"
    }
   },
   "outputs": [
    {
     "name": "stdout",
     "output_type": "stream",
     "text": [
      "True\n",
      "True\n",
      "False\n"
     ]
    }
   ],
   "source": [
    "print(isinstance(generator, Generator))\n",
    "print(isinstance(generator, Iterator))\n",
    "print(isinstance(iterator, Generator))"
   ]
  },
  {
   "cell_type": "code",
   "execution_count": 23,
   "id": "46fbb48e",
   "metadata": {},
   "outputs": [
    {
     "data": {
      "text/plain": [
       "<generator object <genexpr> at 0x1055aa190>"
      ]
     },
     "execution_count": 23,
     "metadata": {},
     "output_type": "execute_result"
    }
   ],
   "source": [
    "generator"
   ]
  },
  {
   "cell_type": "code",
   "execution_count": 24,
   "id": "4bdac964",
   "metadata": {
    "slideshow": {
     "slide_type": "subslide"
    }
   },
   "outputs": [
    {
     "name": "stdout",
     "output_type": "stream",
     "text": [
      "0\n",
      "1\n",
      "4\n"
     ]
    }
   ],
   "source": [
    "print(next(generator))\n",
    "print(next(generator))\n",
    "print(next(generator))"
   ]
  },
  {
   "cell_type": "code",
   "execution_count": 25,
   "id": "f1b176c6",
   "metadata": {},
   "outputs": [
    {
     "name": "stdout",
     "output_type": "stream",
     "text": [
      "9\n",
      "16\n",
      "25\n"
     ]
    }
   ],
   "source": [
    "print(next(generator))\n",
    "print(next(generator))\n",
    "print(next(generator))"
   ]
  },
  {
   "cell_type": "code",
   "execution_count": 26,
   "id": "09fcbb8c",
   "metadata": {},
   "outputs": [
    {
     "name": "stdout",
     "output_type": "stream",
     "text": [
      "36\n",
      "49\n",
      "64\n"
     ]
    }
   ],
   "source": [
    "print(next(generator))\n",
    "print(next(generator))\n",
    "print(next(generator))"
   ]
  },
  {
   "cell_type": "code",
   "execution_count": 27,
   "id": "e697d8f0",
   "metadata": {},
   "outputs": [
    {
     "name": "stdout",
     "output_type": "stream",
     "text": [
      "81\n"
     ]
    },
    {
     "ename": "StopIteration",
     "evalue": "",
     "output_type": "error",
     "traceback": [
      "\u001b[0;31m---------------------------------------------------------------------------\u001b[0m",
      "\u001b[0;31mStopIteration\u001b[0m                             Traceback (most recent call last)",
      "\u001b[0;32m/var/folders/v8/2cskhqjj0_g0zp3824glf1tm0000gn/T/ipykernel_34478/1309668407.py\u001b[0m in \u001b[0;36m<module>\u001b[0;34m\u001b[0m\n\u001b[1;32m      1\u001b[0m \u001b[0mprint\u001b[0m\u001b[0;34m(\u001b[0m\u001b[0mnext\u001b[0m\u001b[0;34m(\u001b[0m\u001b[0mgenerator\u001b[0m\u001b[0;34m)\u001b[0m\u001b[0;34m)\u001b[0m\u001b[0;34m\u001b[0m\u001b[0;34m\u001b[0m\u001b[0m\n\u001b[0;32m----> 2\u001b[0;31m \u001b[0mprint\u001b[0m\u001b[0;34m(\u001b[0m\u001b[0mnext\u001b[0m\u001b[0;34m(\u001b[0m\u001b[0mgenerator\u001b[0m\u001b[0;34m)\u001b[0m\u001b[0;34m)\u001b[0m\u001b[0;34m\u001b[0m\u001b[0;34m\u001b[0m\u001b[0m\n\u001b[0m\u001b[1;32m      3\u001b[0m \u001b[0mprint\u001b[0m\u001b[0;34m(\u001b[0m\u001b[0mnext\u001b[0m\u001b[0;34m(\u001b[0m\u001b[0mgenerator\u001b[0m\u001b[0;34m)\u001b[0m\u001b[0;34m)\u001b[0m\u001b[0;34m\u001b[0m\u001b[0;34m\u001b[0m\u001b[0m\n",
      "\u001b[0;31mStopIteration\u001b[0m: "
     ]
    }
   ],
   "source": [
    "print(next(generator))\n",
    "print(next(generator))\n",
    "print(next(generator))"
   ]
  },
  {
   "cell_type": "code",
   "execution_count": 34,
   "id": "560e8c81",
   "metadata": {},
   "outputs": [
    {
     "name": "stdout",
     "output_type": "stream",
     "text": [
      "<generator object <genexpr> at 0x1055e9740>\n"
     ]
    }
   ],
   "source": [
    "gen2 = ((bin(x) for x in range(16)), )\n",
    "\n",
    "for elem in gen2:\n",
    "    print(elem)"
   ]
  },
  {
   "cell_type": "code",
   "execution_count": 30,
   "id": "61837fe7",
   "metadata": {},
   "outputs": [
    {
     "data": {
      "text/plain": [
       "(1,)"
      ]
     },
     "execution_count": 30,
     "metadata": {},
     "output_type": "execute_result"
    }
   ],
   "source": [
    "(1,)"
   ]
  },
  {
   "cell_type": "markdown",
   "id": "a67c906c",
   "metadata": {
    "slideshow": {
     "slide_type": "subslide"
    }
   },
   "source": [
    "### Ключевое слово **yield**"
   ]
  },
  {
   "cell_type": "code",
   "execution_count": 38,
   "id": "79604e4d",
   "metadata": {},
   "outputs": [
    {
     "data": {
      "text/plain": [
       "'yes'"
      ]
     },
     "execution_count": 38,
     "metadata": {},
     "output_type": "execute_result"
    }
   ],
   "source": [
    "def foo(x):\n",
    "    if x >= 0:\n",
    "        return 'yes'\n",
    "    else:\n",
    "        return 'no'\n",
    "    \n",
    "foo(0)"
   ]
  },
  {
   "cell_type": "code",
   "execution_count": 36,
   "id": "9b2e429d",
   "metadata": {},
   "outputs": [
    {
     "data": {
      "text/plain": [
       "'да'"
      ]
     },
     "execution_count": 36,
     "metadata": {},
     "output_type": "execute_result"
    }
   ],
   "source": [
    "def foo(x):\n",
    "    return 'да' if x >= 0 else 'нет'\n",
    "\n",
    "foo(5)"
   ]
  },
  {
   "cell_type": "code",
   "execution_count": 39,
   "id": "ba0fb3f1",
   "metadata": {},
   "outputs": [
    {
     "data": {
      "text/plain": [
       "'нет'"
      ]
     },
     "execution_count": 39,
     "metadata": {},
     "output_type": "execute_result"
    }
   ],
   "source": [
    "foo = lambda x: 'да' if x >= 0 else 'нет'\n",
    "\n",
    "foo(-5)"
   ]
  },
  {
   "cell_type": "code",
   "execution_count": 40,
   "id": "e9196d58",
   "metadata": {
    "slideshow": {
     "slide_type": "-"
    }
   },
   "outputs": [],
   "source": [
    "values = ['Hello', 'world!']\n",
    "\n",
    "def foo(lst):\n",
    "    print('I am the generator!')\n",
    "    for value in lst:\n",
    "        yield value\n",
    "        \n",
    "#foo - generator function\n",
    "#foo() - generator"
   ]
  },
  {
   "cell_type": "code",
   "execution_count": 41,
   "id": "709fdb08",
   "metadata": {
    "slideshow": {
     "slide_type": "-"
    }
   },
   "outputs": [
    {
     "name": "stdout",
     "output_type": "stream",
     "text": [
      "I am the generator!\n",
      "Hello world! "
     ]
    }
   ],
   "source": [
    "for value in foo(values):\n",
    "    print(value, end=' ')"
   ]
  },
  {
   "cell_type": "code",
   "execution_count": 42,
   "id": "99994b75",
   "metadata": {},
   "outputs": [
    {
     "data": {
      "text/plain": [
       "generator"
      ]
     },
     "execution_count": 42,
     "metadata": {},
     "output_type": "execute_result"
    }
   ],
   "source": [
    "gen = foo(values)\n",
    "\n",
    "type(gen)"
   ]
  },
  {
   "cell_type": "code",
   "execution_count": 43,
   "id": "99b3e913",
   "metadata": {},
   "outputs": [
    {
     "data": {
      "text/plain": [
       "function"
      ]
     },
     "execution_count": 43,
     "metadata": {},
     "output_type": "execute_result"
    }
   ],
   "source": [
    "type(foo)"
   ]
  },
  {
   "cell_type": "markdown",
   "id": "229f7d84",
   "metadata": {
    "slideshow": {
     "slide_type": "subslide"
    }
   },
   "source": [
    "### Кубы натуральных чисел"
   ]
  },
  {
   "cell_type": "code",
   "execution_count": 44,
   "id": "28c4f709",
   "metadata": {
    "slideshow": {
     "slide_type": "-"
    }
   },
   "outputs": [
    {
     "data": {
      "text/plain": [
       "<generator object cubes at 0x1055e9eb0>"
      ]
     },
     "execution_count": 44,
     "metadata": {},
     "output_type": "execute_result"
    }
   ],
   "source": [
    "def cubes(x):\n",
    "    for value in x:\n",
    "        yield value ** 3\n",
    "        \n",
    "gen_cubes = cubes(range(10))\n",
    "gen_cubes"
   ]
  },
  {
   "cell_type": "code",
   "execution_count": 45,
   "id": "827679e2",
   "metadata": {
    "slideshow": {
     "slide_type": "-"
    }
   },
   "outputs": [
    {
     "name": "stdout",
     "output_type": "stream",
     "text": [
      "0 1 8 27 64 125 216 343 512 729 "
     ]
    }
   ],
   "source": [
    "for value in gen_cubes:\n",
    "    print(value, end=' ')"
   ]
  },
  {
   "cell_type": "code",
   "execution_count": 46,
   "id": "87fdebf1",
   "metadata": {},
   "outputs": [],
   "source": [
    "for value in gen_cubes:\n",
    "    print(value, end=' ')"
   ]
  },
  {
   "cell_type": "code",
   "execution_count": 47,
   "id": "3124f337",
   "metadata": {},
   "outputs": [
    {
     "ename": "StopIteration",
     "evalue": "",
     "output_type": "error",
     "traceback": [
      "\u001b[0;31m---------------------------------------------------------------------------\u001b[0m",
      "\u001b[0;31mStopIteration\u001b[0m                             Traceback (most recent call last)",
      "\u001b[0;32m/var/folders/v8/2cskhqjj0_g0zp3824glf1tm0000gn/T/ipykernel_34478/809786014.py\u001b[0m in \u001b[0;36m<module>\u001b[0;34m\u001b[0m\n\u001b[0;32m----> 1\u001b[0;31m \u001b[0mnext\u001b[0m\u001b[0;34m(\u001b[0m\u001b[0mgen_cubes\u001b[0m\u001b[0;34m)\u001b[0m\u001b[0;34m\u001b[0m\u001b[0;34m\u001b[0m\u001b[0m\n\u001b[0m",
      "\u001b[0;31mStopIteration\u001b[0m: "
     ]
    }
   ],
   "source": [
    "next(gen_cubes)"
   ]
  },
  {
   "cell_type": "markdown",
   "id": "0e786daa",
   "metadata": {
    "slideshow": {
     "slide_type": "subslide"
    }
   },
   "source": [
    "Генератор может быть бесконечным"
   ]
  },
  {
   "cell_type": "markdown",
   "id": "b3989e44",
   "metadata": {},
   "source": [
    "### минизадача\n",
    "\n",
    "Напишите бесконечный $\\infty$ генератор кубов натуральных чисел"
   ]
  },
  {
   "cell_type": "code",
   "execution_count": null,
   "id": "0d08b4ad",
   "metadata": {},
   "outputs": [],
   "source": [
    "def inf_cubes():\n"
   ]
  },
  {
   "cell_type": "code",
   "execution_count": null,
   "id": "6e49b2c7",
   "metadata": {},
   "outputs": [],
   "source": [
    "for x in inf_cubes():\n",
    "    print(x)\n",
    "    if x > 1000:\n",
    "        break"
   ]
  },
  {
   "cell_type": "markdown",
   "id": "5ee92637",
   "metadata": {},
   "source": [
    "## functools"
   ]
  },
  {
   "cell_type": "code",
   "execution_count": null,
   "id": "4edce543",
   "metadata": {},
   "outputs": [],
   "source": [
    "list(map(lambda x: x > 0, range(-5, 5)))"
   ]
  },
  {
   "cell_type": "code",
   "execution_count": null,
   "id": "c539ba0b",
   "metadata": {},
   "outputs": [],
   "source": [
    "# Функция filter - возвращает фильтр-объект (генератор)\n",
    "res = [y for y in filter(lambda x: x > 0, range(-5, 5))]\n",
    "\n",
    "print(res)"
   ]
  },
  {
   "cell_type": "code",
   "execution_count": null,
   "id": "3f792088",
   "metadata": {},
   "outputs": [],
   "source": [
    "list(filter(lambda x: x > 0, range(-5, 5)))"
   ]
  },
  {
   "cell_type": "markdown",
   "id": "92d835ae",
   "metadata": {},
   "source": [
    "Является ли range итератором:"
   ]
  },
  {
   "cell_type": "code",
   "execution_count": null,
   "id": "7dbb2a7e",
   "metadata": {},
   "outputs": [],
   "source": [
    "ran = range(10)\n",
    "\n",
    "next(ran)"
   ]
  },
  {
   "cell_type": "code",
   "execution_count": null,
   "id": "4c71d857",
   "metadata": {},
   "outputs": [],
   "source": [
    "iter(ran)"
   ]
  },
  {
   "cell_type": "code",
   "execution_count": null,
   "id": "1430c253",
   "metadata": {},
   "outputs": [],
   "source": [
    "sequence = [1, 2, 3, 4, 5]"
   ]
  },
  {
   "cell_type": "code",
   "execution_count": null,
   "id": "f47a9f07",
   "metadata": {},
   "outputs": [],
   "source": [
    "import functools\n",
    "\n",
    "help(functools.reduce)\n",
    "\n",
    "print(functools.reduce(lambda x, y: x * y, sequence))"
   ]
  },
  {
   "cell_type": "code",
   "execution_count": null,
   "id": "e0490edd",
   "metadata": {},
   "outputs": [],
   "source": [
    "import random\n",
    "\n",
    "seq = list(range(-10, 10))\n",
    "random.shuffle(seq)\n",
    "\n",
    "seq_pos = filter(lambda x: (x > 0 and not x % 2), seq)\n",
    "seq_neg = filter(lambda x: (x < 0 and not x % 3), seq)"
   ]
  },
  {
   "cell_type": "code",
   "execution_count": null,
   "id": "867c625a",
   "metadata": {},
   "outputs": [],
   "source": [
    "functools.reduce(lambda x, y: x + y, list(seq_pos) + list(seq_neg))"
   ]
  },
  {
   "cell_type": "code",
   "execution_count": null,
   "id": "4247ae6e",
   "metadata": {},
   "outputs": [],
   "source": [
    "# The partial() is used for partial function application which “freezes” some portion of \n",
    "# a function’s arguments and/or keywords resulting in a new object.\n",
    "\n",
    "basetwo = functools.partial(int, base=2)\n",
    "basetwo.__doc__ = 'Convert base 2 string to an int.'\n",
    "basetwo('10010')"
   ]
  },
  {
   "cell_type": "markdown",
   "id": "adae382b",
   "metadata": {
    "slideshow": {
     "slide_type": "slide"
    }
   },
   "source": [
    "## itertools\n",
    "\n",
    "https://docs.python.org/3/library/itertools.html"
   ]
  },
  {
   "cell_type": "code",
   "execution_count": null,
   "id": "9744ec82",
   "metadata": {},
   "outputs": [],
   "source": [
    "import itertools\n",
    "\n",
    "#Product: можно \"разворачивать\" циклы\n",
    "\n",
    "for i in range(2):\n",
    "    for j in \"abc\":\n",
    "        print(i, j)\n",
    "\n",
    "print()\n",
    "\n",
    "#Эквивалентно:\n",
    "for i, j in itertools.product(range(2), \"abc\"):\n",
    "    print(i, j)"
   ]
  },
  {
   "cell_type": "markdown",
   "id": "2ce90833",
   "metadata": {
    "slideshow": {
     "slide_type": "subslide"
    }
   },
   "source": [
    "Прочая комбинаторика: перестановки, комбинации, комбинации с повторениями"
   ]
  },
  {
   "cell_type": "code",
   "execution_count": null,
   "id": "a2e63404",
   "metadata": {},
   "outputs": [],
   "source": [
    "list(itertools.permutations([1, 2, 3]))"
   ]
  },
  {
   "cell_type": "code",
   "execution_count": null,
   "id": "4c6b36cc",
   "metadata": {},
   "outputs": [],
   "source": [
    "list(itertools.combinations([1, 2, 3], 2))"
   ]
  },
  {
   "cell_type": "code",
   "execution_count": null,
   "id": "2fe947b3",
   "metadata": {},
   "outputs": [],
   "source": [
    "list(itertools.combinations_with_replacement([1, 2, 3], 2))"
   ]
  },
  {
   "cell_type": "markdown",
   "id": "c67147f6",
   "metadata": {
    "slideshow": {
     "slide_type": "subslide"
    }
   },
   "source": [
    "Бесконечные генераторы: count, cycle, repeat"
   ]
  },
  {
   "cell_type": "code",
   "execution_count": null,
   "id": "b70c3465",
   "metadata": {},
   "outputs": [],
   "source": [
    "for x in itertools.count():\n",
    "    print(x)\n",
    "    if x > 3: break\n",
    "    "
   ]
  },
  {
   "cell_type": "code",
   "execution_count": null,
   "id": "56259925",
   "metadata": {},
   "outputs": [],
   "source": [
    "i = 0\n",
    "for x in itertools.cycle([1, 2, 3]):\n",
    "    print(x)\n",
    "    if i > 3: \n",
    "        break\n",
    "    i += 1"
   ]
  },
  {
   "cell_type": "code",
   "execution_count": null,
   "id": "1d3a5fdc",
   "metadata": {},
   "outputs": [],
   "source": [
    "for elems in zip(itertools.count(), \n",
    "                 itertools.cycle([1, 2, 3]), \n",
    "                 itertools.repeat(\"oak\"), \n",
    "                 range(7)):\n",
    "    print(elems)"
   ]
  },
  {
   "cell_type": "markdown",
   "id": "c1d4668a",
   "metadata": {
    "slideshow": {
     "slide_type": "subslide"
    }
   },
   "source": [
    "первые N элементов"
   ]
  },
  {
   "cell_type": "code",
   "execution_count": null,
   "id": "bc661472",
   "metadata": {},
   "outputs": [],
   "source": [
    "list(itertools.islice(itertools.count(), 5))"
   ]
  },
  {
   "cell_type": "code",
   "execution_count": null,
   "id": "845cd07e",
   "metadata": {},
   "outputs": [],
   "source": [
    "for elem in zip(range(5), \n",
    "                'qwertyui', \n",
    "                (chr(x) for x in range(70, 78))):\n",
    "    print(elem)"
   ]
  },
  {
   "cell_type": "code",
   "execution_count": null,
   "id": "db763718",
   "metadata": {},
   "outputs": [],
   "source": [
    "seq"
   ]
  },
  {
   "cell_type": "code",
   "execution_count": null,
   "id": "b205c042",
   "metadata": {},
   "outputs": [],
   "source": [
    "for i, elem in enumerate(seq):\n",
    "    print(f\"{i = }, {elem = }\")"
   ]
  },
  {
   "cell_type": "code",
   "execution_count": null,
   "id": "28bfc8fa",
   "metadata": {},
   "outputs": [],
   "source": [
    "seq_str = map(str, seq)"
   ]
  },
  {
   "cell_type": "code",
   "execution_count": null,
   "id": "ef3da8e9",
   "metadata": {},
   "outputs": [],
   "source": [
    "list(zip(seq, seq_str))"
   ]
  },
  {
   "cell_type": "code",
   "execution_count": null,
   "id": "5b2fa697",
   "metadata": {},
   "outputs": [],
   "source": [
    "list(enumerate(zip(seq, seq_str)))"
   ]
  },
  {
   "cell_type": "code",
   "execution_count": null,
   "id": "808edcd1",
   "metadata": {},
   "outputs": [],
   "source": [
    "seq = zip('qwerty', 'bgtmju', 'aoiefvgoaygeyveroyvg')\n",
    "f = ''.join"
   ]
  },
  {
   "cell_type": "code",
   "execution_count": null,
   "id": "28912b42",
   "metadata": {},
   "outputs": [],
   "source": [
    "sorted(list(map(f, seq)))"
   ]
  },
  {
   "cell_type": "markdown",
   "id": "a41a6f2d",
   "metadata": {
    "slideshow": {
     "slide_type": "slide"
    }
   },
   "source": [
    "## Namespaces\n",
    "\n",
    "Пространство имён -- маппинг из имен переменных в объекты."
   ]
  },
  {
   "cell_type": "markdown",
   "id": "1f38a9f6",
   "metadata": {},
   "source": [
    "**locals()** - возвращает текущий namespace в виде словаря <br>\n",
    "**globals()** - возвращает namespace модуля"
   ]
  },
  {
   "cell_type": "code",
   "execution_count": null,
   "id": "50f05fc5",
   "metadata": {},
   "outputs": [],
   "source": [
    "dir()"
   ]
  },
  {
   "cell_type": "code",
   "execution_count": null,
   "id": "1321fad4",
   "metadata": {},
   "outputs": [],
   "source": [
    "globals()"
   ]
  },
  {
   "cell_type": "code",
   "execution_count": null,
   "id": "47a3fc5b",
   "metadata": {},
   "outputs": [],
   "source": [
    "locals()"
   ]
  },
  {
   "cell_type": "code",
   "execution_count": null,
   "id": "b98d3fb6",
   "metadata": {},
   "outputs": [],
   "source": [
    "locals() is globals()"
   ]
  },
  {
   "cell_type": "code",
   "execution_count": null,
   "id": "e1414625",
   "metadata": {},
   "outputs": [],
   "source": [
    "value = 42\n",
    "print(globals()['value'])\n",
    "\n",
    "globals()['value'] = 100500\n",
    "print(value)"
   ]
  },
  {
   "cell_type": "markdown",
   "id": "a8a78a1c",
   "metadata": {
    "slideshow": {
     "slide_type": "subslide"
    }
   },
   "source": [
    "#### Циклы и условия не создают своё пространство имён"
   ]
  },
  {
   "cell_type": "code",
   "execution_count": null,
   "id": "90c8680e",
   "metadata": {},
   "outputs": [],
   "source": [
    "if True:\n",
    "    value_assigned_in_if = 1\n",
    "    \n",
    "for loop_counter in range(10):\n",
    "    print(f'{loop_counter = }')\n",
    "    value_assigned_in_for = 2\n",
    "    \n",
    "print(loop_counter)\n",
    "print(value_assigned_in_if)\n",
    "print(value_assigned_in_for)"
   ]
  },
  {
   "cell_type": "markdown",
   "id": "5aa1c129",
   "metadata": {
    "slideshow": {
     "slide_type": "subslide"
    }
   },
   "source": [
    "#### Функции создают своё пространство имён"
   ]
  },
  {
   "cell_type": "code",
   "execution_count": null,
   "id": "6fe17777",
   "metadata": {},
   "outputs": [],
   "source": [
    "value = 0\n",
    "\n",
    "def foo():\n",
    "    value = 1\n",
    "    print(f'{value = }')\n",
    "    \n",
    "    print('locals:', locals()['value'])\n",
    "    print('globals:', globals()['value'])\n",
    "    \n",
    "foo()\n",
    "print(f'{value = }')"
   ]
  },
  {
   "cell_type": "markdown",
   "id": "c56de43a",
   "metadata": {
    "slideshow": {
     "slide_type": "slide"
    }
   },
   "source": [
    "### Область видимости (scope)\n",
    "\n",
    "Правило LEGB:\n",
    "1. Local - имена, определенные внутри функции (и не помеченные global)\n",
    "2. Enclosing-function locals - имена в области видимости всех оборачивающих (enclosing) функций, в порядке уменьшения глубины\n",
    "3. Global - имена, определенные на уровне модуля или посредством global\n",
    "4. Built-in - предопределенные (range, open, ...)"
   ]
  },
  {
   "cell_type": "code",
   "execution_count": null,
   "id": "36023265",
   "metadata": {
    "slideshow": {
     "slide_type": "-"
    }
   },
   "outputs": [],
   "source": [
    "value = 1\n",
    "\n",
    "def foo():\n",
    "    value = 2\n",
    "    \n",
    "    def bar():\n",
    "        value = 3\n",
    "        print('bar local scope', value)\n",
    "    \n",
    "    bar()\n",
    "    print('enclosing scope value', value)\n",
    "    \n",
    "foo()\n",
    "print('global value', value)"
   ]
  },
  {
   "cell_type": "code",
   "execution_count": null,
   "id": "4cb40ee2",
   "metadata": {},
   "outputs": [],
   "source": [
    "value = 42\n",
    "\n",
    "def foo():\n",
    "    print(value)\n",
    "    \n",
    "foo()"
   ]
  },
  {
   "cell_type": "markdown",
   "id": "583bd1e4",
   "metadata": {
    "slideshow": {
     "slide_type": "skip"
    }
   },
   "source": [
    "#### Пример LEGB"
   ]
  },
  {
   "cell_type": "code",
   "execution_count": null,
   "id": "57e88d62",
   "metadata": {},
   "outputs": [],
   "source": [
    "range"
   ]
  },
  {
   "cell_type": "code",
   "execution_count": null,
   "id": "0a961e16",
   "metadata": {},
   "outputs": [],
   "source": [
    "print(range)"
   ]
  },
  {
   "cell_type": "code",
   "execution_count": null,
   "id": "a63f36f2",
   "metadata": {
    "slideshow": {
     "slide_type": "subslide"
    }
   },
   "outputs": [],
   "source": [
    "def foo():\n",
    "    def bar():\n",
    "        print('built-in:', range)\n",
    "    bar()\n",
    "foo()"
   ]
  },
  {
   "cell_type": "code",
   "execution_count": null,
   "id": "9cb0f5a4",
   "metadata": {
    "slideshow": {
     "slide_type": "subslide"
    }
   },
   "outputs": [],
   "source": [
    "range = 'global range'\n",
    "\n",
    "def foo():\n",
    "    def bar():\n",
    "        print('global:', range)\n",
    "    bar()\n",
    "foo()"
   ]
  },
  {
   "cell_type": "code",
   "execution_count": null,
   "id": "9fd45ed8",
   "metadata": {
    "slideshow": {
     "slide_type": "subslide"
    }
   },
   "outputs": [],
   "source": [
    "range = 'global range'\n",
    "\n",
    "def foo():\n",
    "    range = 'enclosing-function range'\n",
    "    def bar():\n",
    "        print('enclosing-function:', range)\n",
    "    bar()\n",
    "foo()"
   ]
  },
  {
   "cell_type": "code",
   "execution_count": null,
   "id": "907f4e3c",
   "metadata": {
    "slideshow": {
     "slide_type": "subslide"
    }
   },
   "outputs": [],
   "source": [
    "range = 'global range'\n",
    "\n",
    "def foo():\n",
    "    range = 'enclosing-function range'\n",
    "    def bar():\n",
    "        range = 'local range'\n",
    "        print('local:', range)\n",
    "    bar()\n",
    "foo()"
   ]
  },
  {
   "cell_type": "markdown",
   "id": "41a42aa6",
   "metadata": {
    "slideshow": {
     "slide_type": "slide"
    }
   },
   "source": [
    "### Ключевое слово global"
   ]
  },
  {
   "cell_type": "code",
   "execution_count": null,
   "id": "b0bc5384",
   "metadata": {},
   "outputs": [],
   "source": [
    "value = 1\n",
    "\n",
    "def foo():\n",
    "    value = 2\n",
    "    \n",
    "    def bar():\n",
    "        global value\n",
    "        value = 3\n",
    "    \n",
    "    bar()\n",
    "    print('enclosing scope value', value)\n",
    "    \n",
    "foo()\n",
    "print('global value', value)"
   ]
  },
  {
   "cell_type": "markdown",
   "id": "88e2a851",
   "metadata": {
    "slideshow": {
     "slide_type": "subslide"
    }
   },
   "source": [
    "### Ключевое слово nonlocal"
   ]
  },
  {
   "cell_type": "code",
   "execution_count": null,
   "id": "9e2fb861",
   "metadata": {},
   "outputs": [],
   "source": [
    "value = 1\n",
    "\n",
    "def foo():\n",
    "    value = 2\n",
    "    \n",
    "    def bar():\n",
    "        nonlocal value\n",
    "        value = 3\n",
    "    \n",
    "    bar()\n",
    "    print('enclosing scope value', value)\n",
    "    \n",
    "foo()\n",
    "print('global value', value)"
   ]
  },
  {
   "cell_type": "markdown",
   "id": "d797f101",
   "metadata": {
    "slideshow": {
     "slide_type": "subslide"
    }
   },
   "source": [
    "Пространства имён в python **статические** <br>\n",
    "Определение любого используемого в коде обьекта можно найти без запуска программы."
   ]
  },
  {
   "cell_type": "code",
   "execution_count": null,
   "id": "19df18ac",
   "metadata": {
    "scrolled": true
   },
   "outputs": [],
   "source": [
    "value = 1\n",
    "\n",
    "def foo():\n",
    "    \n",
    "    print(value)\n",
    "    \n",
    "    def bar():\n",
    "        print(value)\n",
    "    \n",
    "    bar()\n",
    "    value = 2\n",
    "    \n",
    "foo()"
   ]
  },
  {
   "cell_type": "markdown",
   "id": "910d6359",
   "metadata": {
    "slideshow": {
     "slide_type": "slide"
    }
   },
   "source": [
    "# Замыкания [Closures]\n",
    "*In computer programming languages, a closure is a function together with a referencing environment of that function. A closure function is any function that uses a variable that is defined in an environment (or scope) that is external to that function, and is accessible within the function when invoked from a scope in which that free variable is not defined.*\n",
    "\n",
    "Существования замыканий следует из правила LEGB, возможности оперировать с функциями как обьектами и того что области видимости в Питоне - статические."
   ]
  },
  {
   "cell_type": "code",
   "execution_count": null,
   "id": "a1147f86",
   "metadata": {
    "slideshow": {
     "slide_type": "subslide"
    }
   },
   "outputs": [],
   "source": [
    "try:\n",
    "    del range\n",
    "except:\n",
    "    pass\n",
    "\n",
    "multipliers = []\n",
    "\n",
    "for m in range(5):\n",
    "    multipliers.append(lambda x: x * m)\n",
    "    print(f'In loop: {m = }')\n",
    "\n",
    "print(f'{m = }')\n",
    "\n",
    "print([multipliers[i](5) for i in range(5)])\n",
    "\n",
    "m = 100\n",
    "    \n",
    "print([multipliers[i](5) for i in range(5)])"
   ]
  },
  {
   "cell_type": "code",
   "execution_count": null,
   "id": "863f9290",
   "metadata": {},
   "outputs": [],
   "source": [
    "m"
   ]
  },
  {
   "cell_type": "code",
   "execution_count": null,
   "id": "f72d0f4c",
   "metadata": {},
   "outputs": [],
   "source": [
    "list_of_functions = []\n",
    "\n",
    "def f1(x):\n",
    "    return x\n",
    "\n",
    "def f2(x):\n",
    "    return x ** 2\n",
    "\n",
    "def f3(x):\n",
    "    return x ** 3\n",
    "\n",
    "list_of_functions = [f1, f2, f3]\n",
    "\n",
    "list_of_functions[2](10)"
   ]
  },
  {
   "cell_type": "code",
   "execution_count": null,
   "id": "ba92fec4",
   "metadata": {},
   "outputs": [],
   "source": [
    "def m1(x):\n",
    "    return str(m)\n",
    "\n",
    "def m2(x):\n",
    "    return str(m) * 2\n",
    "\n",
    "def m3(x):\n",
    "    return str(m) * 3\n",
    "\n",
    "list_of_functions = [m1, m2, m3]\n",
    "\n",
    "list_of_functions[1](10)"
   ]
  },
  {
   "cell_type": "code",
   "execution_count": null,
   "id": "5c41cd5b",
   "metadata": {},
   "outputs": [],
   "source": [
    "import sys\n",
    "\n",
    "def deprecate(func):\n",
    "    def inner(*args, **kwargs):\n",
    "        print(f'{func.__name__} is deprecated', file=sys.stdout)\n",
    "        return func(*args, **kwargs)\n",
    "    return inner\n",
    "\n",
    "pprint = deprecate(print)\n",
    "\n",
    "pprint([1, 2, 3])"
   ]
  },
  {
   "cell_type": "code",
   "execution_count": null,
   "id": "1412c6e9",
   "metadata": {},
   "outputs": [],
   "source": [
    "sorted = deprecate(sorted)\n",
    "\n",
    "sorted([111, -42, 0])"
   ]
  },
  {
   "cell_type": "code",
   "execution_count": null,
   "id": "2a84858e",
   "metadata": {},
   "outputs": [],
   "source": [
    "val = 1\n",
    "\n",
    "def f():\n",
    "    print(val)\n",
    "    \n",
    "val = 2\n",
    "\n",
    "f()\n",
    "\n",
    "val "
   ]
  },
  {
   "cell_type": "code",
   "execution_count": null,
   "id": "ce2a89ee",
   "metadata": {},
   "outputs": [],
   "source": [
    "def foo():\n",
    "    x = 3\n",
    "    def bar():\n",
    "        print(x)\n",
    "    x = 5\n",
    "    \n",
    "    return bar\n",
    "\n",
    "bar_global = foo()\n",
    "bar_global()\n",
    "\n",
    "x = 9\n",
    "bar_global()"
   ]
  },
  {
   "cell_type": "code",
   "execution_count": null,
   "id": "cc0af755",
   "metadata": {},
   "outputs": [],
   "source": [
    "foo()"
   ]
  },
  {
   "cell_type": "code",
   "execution_count": null,
   "id": "57e11665",
   "metadata": {
    "slideshow": {
     "slide_type": "subslide"
    }
   },
   "outputs": [],
   "source": [
    "def foo():\n",
    "    x = 3\n",
    "    def foo_bar():\n",
    "        x = 100\n",
    "        def bar():\n",
    "    #         x = 1\n",
    "            print(x)\n",
    "        return bar\n",
    "    f = foo_bar()\n",
    "    x = 42\n",
    "    \n",
    "    return f\n",
    "\n",
    "bar_global = foo()\n",
    "# bar_global()\n",
    "\n",
    "x = 9\n",
    "bar_global()"
   ]
  },
  {
   "cell_type": "code",
   "execution_count": null,
   "id": "778c7f46",
   "metadata": {},
   "outputs": [],
   "source": [
    "foo()"
   ]
  },
  {
   "cell_type": "code",
   "execution_count": null,
   "id": "a639bf7e",
   "metadata": {
    "slideshow": {
     "slide_type": "subslide"
    }
   },
   "outputs": [],
   "source": [
    "def make_adder(x):\n",
    "    def adder(y):\n",
    "        return x + y\n",
    "    return adder\n",
    "\n",
    "add_two = make_adder(2)\n",
    "\n",
    "print(add_two(5))\n",
    "print(add_two(7))"
   ]
  },
  {
   "cell_type": "markdown",
   "id": "3db17f69",
   "metadata": {
    "slideshow": {
     "slide_type": "subslide"
    }
   },
   "source": [
    "#### Функции могут замыкать одинаковые переменные"
   ]
  },
  {
   "cell_type": "code",
   "execution_count": null,
   "id": "1c820931",
   "metadata": {
    "slideshow": {
     "slide_type": "-"
    }
   },
   "outputs": [],
   "source": [
    "def cell(value=0):\n",
    "    def Get():\n",
    "        return value\n",
    "    \n",
    "    def Set(new_value):\n",
    "        nonlocal value\n",
    "        value = new_value\n",
    "        return value\n",
    "    \n",
    "    return Get, Set\n",
    "\n",
    "get_glob, set_glob = cell(10)\n",
    "print(get_glob())\n",
    "\n",
    "set_glob(20)\n",
    "print(get_glob())"
   ]
  },
  {
   "cell_type": "markdown",
   "id": "37becb3e",
   "metadata": {
    "slideshow": {
     "slide_type": "subslide"
    }
   },
   "source": [
    "#### Посмотрим, что внутри замыкания"
   ]
  },
  {
   "cell_type": "code",
   "execution_count": null,
   "id": "3d17fefa",
   "metadata": {},
   "outputs": [],
   "source": []
  },
  {
   "cell_type": "code",
   "execution_count": null,
   "id": "4de74b05",
   "metadata": {},
   "outputs": [],
   "source": [
    "print(get_glob.__closure__)\n",
    "print(get_glob.__closure__[0].cell_contents)"
   ]
  },
  {
   "cell_type": "markdown",
   "id": "ad00b2c6",
   "metadata": {},
   "source": [
    "**\\_\\_closure\\_\\_** &mdash; список замкнутых переменных.<br>\n",
    "Переменная представлена в виде класса **cell** с единственным полем **cell_contents**"
   ]
  },
  {
   "cell_type": "code",
   "execution_count": null,
   "id": "f3d87a76",
   "metadata": {},
   "outputs": [],
   "source": [
    "print(get_glob.__closure__ == set_glob.__closure__)\n",
    "print(get_glob.__closure__[0] is set_glob.__closure__[0])"
   ]
  }
 ],
 "metadata": {
  "kernelspec": {
   "display_name": "Python 3 (ipykernel)",
   "language": "python",
   "name": "python3"
  },
  "language_info": {
   "codemirror_mode": {
    "name": "ipython",
    "version": 3
   },
   "file_extension": ".py",
   "mimetype": "text/x-python",
   "name": "python",
   "nbconvert_exporter": "python",
   "pygments_lexer": "ipython3",
   "version": "3.8.12"
  }
 },
 "nbformat": 4,
 "nbformat_minor": 5
}
