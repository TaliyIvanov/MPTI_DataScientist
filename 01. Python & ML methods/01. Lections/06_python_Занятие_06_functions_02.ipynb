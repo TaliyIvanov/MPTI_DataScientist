{
 "cells": [
  {
   "cell_type": "markdown",
   "id": "1d9bab86",
   "metadata": {
    "toc": true
   },
   "source": [
    "<h1>Table of Contents<span class=\"tocSkip\"></span></h1>\n",
    "<div class=\"toc\"><ul class=\"toc-item\"><li><ul class=\"toc-item\"><li><span><a href=\"#Функции-2\" data-toc-modified-id=\"Функции-2-0.1\"><span class=\"toc-item-num\">0.1&nbsp;&nbsp;</span>Функции 2</a></span><ul class=\"toc-item\"><li><span><a href=\"#План-на-сегодня\" data-toc-modified-id=\"План-на-сегодня-0.1.1\"><span class=\"toc-item-num\">0.1.1&nbsp;&nbsp;</span>План на сегодня</a></span></li></ul></li><li><span><a href=\"#Iterator-and-Iterable\" data-toc-modified-id=\"Iterator-and-Iterable-0.2\"><span class=\"toc-item-num\">0.2&nbsp;&nbsp;</span>Iterator and Iterable</a></span></li><li><span><a href=\"#Generator\" data-toc-modified-id=\"Generator-0.3\"><span class=\"toc-item-num\">0.3&nbsp;&nbsp;</span>Generator</a></span><ul class=\"toc-item\"><li><span><a href=\"#Ключевое-слово-yield\" data-toc-modified-id=\"Ключевое-слово-yield-0.3.1\"><span class=\"toc-item-num\">0.3.1&nbsp;&nbsp;</span>Ключевое слово <strong>yield</strong></a></span></li><li><span><a href=\"#Кубы-натуральных-чисел\" data-toc-modified-id=\"Кубы-натуральных-чисел-0.3.2\"><span class=\"toc-item-num\">0.3.2&nbsp;&nbsp;</span>Кубы натуральных чисел</a></span></li><li><span><a href=\"#минизадача\" data-toc-modified-id=\"минизадача-0.3.3\"><span class=\"toc-item-num\">0.3.3&nbsp;&nbsp;</span>минизадача</a></span></li><li><span><a href=\"#Является-ли-range-итератором:\" data-toc-modified-id=\"Является-ли-range-итератором:-0.3.4\"><span class=\"toc-item-num\">0.3.4&nbsp;&nbsp;</span>Является ли range итератором:</a></span></li></ul></li><li><span><a href=\"#functools\" data-toc-modified-id=\"functools-0.4\"><span class=\"toc-item-num\">0.4&nbsp;&nbsp;</span>functools</a></span><ul class=\"toc-item\"><li><span><a href=\"#map-и-zip\" data-toc-modified-id=\"map-и-zip-0.4.1\"><span class=\"toc-item-num\">0.4.1&nbsp;&nbsp;</span>map и zip</a></span></li></ul></li><li><span><a href=\"#itertools\" data-toc-modified-id=\"itertools-0.5\"><span class=\"toc-item-num\">0.5&nbsp;&nbsp;</span>itertools</a></span></li><li><span><a href=\"#Namespaces\" data-toc-modified-id=\"Namespaces-0.6\"><span class=\"toc-item-num\">0.6&nbsp;&nbsp;</span>Namespaces</a></span><ul class=\"toc-item\"><li><ul class=\"toc-item\"><li><span><a href=\"#Циклы-и-условия-не-создают-своё-пространство-имён\" data-toc-modified-id=\"Циклы-и-условия-не-создают-своё-пространство-имён-0.6.0.1\"><span class=\"toc-item-num\">0.6.0.1&nbsp;&nbsp;</span>Циклы и условия не создают своё пространство имён</a></span></li><li><span><a href=\"#Функции-создают-своё-пространство-имён\" data-toc-modified-id=\"Функции-создают-своё-пространство-имён-0.6.0.2\"><span class=\"toc-item-num\">0.6.0.2&nbsp;&nbsp;</span>Функции создают своё пространство имён</a></span></li></ul></li></ul></li><li><span><a href=\"#Область-видимости-(scope)-LEGB\" data-toc-modified-id=\"Область-видимости-(scope)-LEGB-0.7\"><span class=\"toc-item-num\">0.7&nbsp;&nbsp;</span>Область видимости (scope) LEGB</a></span><ul class=\"toc-item\"><li><ul class=\"toc-item\"><li><span><a href=\"#Пример-LEGB\" data-toc-modified-id=\"Пример-LEGB-0.7.0.1\"><span class=\"toc-item-num\">0.7.0.1&nbsp;&nbsp;</span>Пример LEGB</a></span></li></ul></li></ul></li><li><span><a href=\"#Ключевое-слово-global\" data-toc-modified-id=\"Ключевое-слово-global-0.8\"><span class=\"toc-item-num\">0.8&nbsp;&nbsp;</span>Ключевое слово global</a></span><ul class=\"toc-item\"><li><span><a href=\"#Ключевое-слово-nonlocal\" data-toc-modified-id=\"Ключевое-слово-nonlocal-0.8.1\"><span class=\"toc-item-num\">0.8.1&nbsp;&nbsp;</span>Ключевое слово nonlocal</a></span></li></ul></li></ul></li><li><span><a href=\"#Замыкания-[Closures]\" data-toc-modified-id=\"Замыкания-[Closures]-1\"><span class=\"toc-item-num\">1&nbsp;&nbsp;</span>Замыкания [Closures]</a></span><ul class=\"toc-item\"><li><ul class=\"toc-item\"><li><ul class=\"toc-item\"><li><span><a href=\"#Функции-могут-замыкать-одинаковые-переменные\" data-toc-modified-id=\"Функции-могут-замыкать-одинаковые-переменные-1.0.0.1\"><span class=\"toc-item-num\">1.0.0.1&nbsp;&nbsp;</span>Функции могут замыкать одинаковые переменные</a></span></li><li><span><a href=\"#Посмотрим,-что-внутри-замыкания\" data-toc-modified-id=\"Посмотрим,-что-внутри-замыкания-1.0.0.2\"><span class=\"toc-item-num\">1.0.0.2&nbsp;&nbsp;</span>Посмотрим, что внутри замыкания</a></span></li></ul></li></ul></li></ul></li></ul></div>"
   ]
  },
  {
   "cell_type": "markdown",
   "id": "e7323621",
   "metadata": {
    "id": "m0fMdvd6HlhA"
   },
   "source": [
    "## Функции 2\n",
    "\n",
    "### План на сегодня\n",
    "\n",
    "- итераторы и итерабельность\n",
    "- генераторы, generator expression, yield\n",
    "- пространства имен, `globals()` и `locals()`\n",
    "- области видимости, LEGB, `global` и `nonlocal`\n",
    "- замыкания, `__closure__`\n",
    "- `itertools`, `functools`"
   ]
  },
  {
   "cell_type": "markdown",
   "id": "7efacc35",
   "metadata": {},
   "source": [
    "Очень удобно проверять наличие той или иной функциональности у объекта с помощью модуля `collections.abc`. Посмотреть список доступных Абстрактных классов можно [здесь](https://docs.python.org/3/library/collections.abc.html#collections-abstract-base-classes)"
   ]
  },
  {
   "cell_type": "code",
   "execution_count": 1,
   "id": "74bc482d",
   "metadata": {},
   "outputs": [
    {
     "data": {
      "text/plain": [
       "['ChainMap',\n",
       " 'Counter',\n",
       " 'OrderedDict',\n",
       " 'UserDict',\n",
       " 'UserList',\n",
       " 'UserString',\n",
       " '_Link',\n",
       " '_OrderedDictItemsView',\n",
       " '_OrderedDictKeysView',\n",
       " '_OrderedDictValuesView',\n",
       " '__all__',\n",
       " '__builtins__',\n",
       " '__cached__',\n",
       " '__doc__',\n",
       " '__file__',\n",
       " '__getattr__',\n",
       " '__loader__',\n",
       " '__name__',\n",
       " '__package__',\n",
       " '__path__',\n",
       " '__spec__',\n",
       " '_chain',\n",
       " '_collections_abc',\n",
       " '_count_elements',\n",
       " '_eq',\n",
       " '_heapq',\n",
       " '_iskeyword',\n",
       " '_itemgetter',\n",
       " '_proxy',\n",
       " '_recursive_repr',\n",
       " '_repeat',\n",
       " '_starmap',\n",
       " '_sys',\n",
       " '_tuplegetter',\n",
       " 'abc',\n",
       " 'defaultdict',\n",
       " 'deque',\n",
       " 'namedtuple']"
      ]
     },
     "execution_count": 1,
     "metadata": {},
     "output_type": "execute_result"
    }
   ],
   "source": [
    "import collections\n",
    "\n",
    "dir(collections)"
   ]
  },
  {
   "cell_type": "markdown",
   "id": "b299d32d",
   "metadata": {},
   "source": [
    "**вопрос** Какая функция помогает нам проверять тип объекта?"
   ]
  },
  {
   "cell_type": "code",
   "execution_count": 2,
   "id": "4ba41e24",
   "metadata": {},
   "outputs": [
    {
     "data": {
      "text/plain": [
       "True"
      ]
     },
     "execution_count": 2,
     "metadata": {},
     "output_type": "execute_result"
    }
   ],
   "source": [
    "type([1, 2, 3]) == list"
   ]
  },
  {
   "cell_type": "code",
   "execution_count": 3,
   "id": "8759c3e5",
   "metadata": {},
   "outputs": [
    {
     "data": {
      "text/plain": [
       "True"
      ]
     },
     "execution_count": 3,
     "metadata": {},
     "output_type": "execute_result"
    }
   ],
   "source": [
    "isinstance([1, 2, 3], list)"
   ]
  },
  {
   "cell_type": "code",
   "execution_count": 3,
   "id": "859ef269",
   "metadata": {},
   "outputs": [
    {
     "data": {
      "text/plain": [
       "True"
      ]
     },
     "execution_count": 3,
     "metadata": {},
     "output_type": "execute_result"
    }
   ],
   "source": [
    "# специально для таких задач, как проверка типа есть следующая функция\n",
    "isinstance([1, 2, 3], list)"
   ]
  },
  {
   "cell_type": "code",
   "execution_count": 5,
   "id": "e9797d47",
   "metadata": {},
   "outputs": [
    {
     "data": {
      "text/plain": [
       "True"
      ]
     },
     "execution_count": 5,
     "metadata": {},
     "output_type": "execute_result"
    }
   ],
   "source": [
    "isinstance(True, int)"
   ]
  },
  {
   "cell_type": "code",
   "execution_count": 6,
   "id": "02112a08",
   "metadata": {},
   "outputs": [
    {
     "data": {
      "text/plain": [
       "True"
      ]
     },
     "execution_count": 6,
     "metadata": {},
     "output_type": "execute_result"
    }
   ],
   "source": [
    "# возвращает True, если объект является наследником \n",
    "# 1 и 0 это True и False\n",
    "isinstance(True, int)"
   ]
  },
  {
   "cell_type": "markdown",
   "id": "2714517b",
   "metadata": {
    "slideshow": {
     "slide_type": "slide"
    }
   },
   "source": [
    "## Iterator and Iterable\n",
    "\n",
    "- **Iterator** - объект, от которого можно взять `next()`\n",
    "- **Iterable** - объект, от которого можно взять `iter()`, получив `Iterator`\n",
    "- Понятие итерабельности указывает можем мы по объекту проитерироваться или нет"
   ]
  },
  {
   "cell_type": "code",
   "execution_count": 7,
   "id": "46b08196",
   "metadata": {},
   "outputs": [
    {
     "name": "stdout",
     "output_type": "stream",
     "text": [
      "<list_iterator object at 0x000001CEC02E34C0>\n"
     ]
    }
   ],
   "source": [
    "# посмотри является ли наш список Iterable объектом?\n",
    "values = ['Hello', 'world!']\n",
    "print(values.__iter__())"
   ]
  },
  {
   "cell_type": "code",
   "execution_count": 8,
   "id": "a25212d2",
   "metadata": {},
   "outputs": [
    {
     "data": {
      "text/plain": [
       "<list_iterator at 0x1cec02e38e0>"
      ]
     },
     "execution_count": 8,
     "metadata": {},
     "output_type": "execute_result"
    }
   ],
   "source": [
    "iter(values)"
   ]
  },
  {
   "cell_type": "code",
   "execution_count": 9,
   "id": "1954d2cb",
   "metadata": {},
   "outputs": [],
   "source": [
    "def foo(x):\n",
    "    print('I am a generator function!')\n",
    "    return iter(x)"
   ]
  },
  {
   "cell_type": "code",
   "execution_count": 10,
   "id": "04de2e6c",
   "metadata": {},
   "outputs": [
    {
     "name": "stdout",
     "output_type": "stream",
     "text": [
      "I am a generator function!\n"
     ]
    },
    {
     "data": {
      "text/plain": [
       "<list_iterator at 0x1cec02e38b0>"
      ]
     },
     "execution_count": 10,
     "metadata": {},
     "output_type": "execute_result"
    }
   ],
   "source": [
    "iterator = foo(values)  # iter(values)\n",
    "iterator"
   ]
  },
  {
   "cell_type": "code",
   "execution_count": 11,
   "id": "d9b7c8c3",
   "metadata": {},
   "outputs": [
    {
     "name": "stdout",
     "output_type": "stream",
     "text": [
      "I am a generator function!\n",
      "Hello-world!-"
     ]
    }
   ],
   "source": [
    "for value in foo(values):\n",
    "    print(value, end='-')"
   ]
  },
  {
   "cell_type": "code",
   "execution_count": 12,
   "id": "bf2f53dc",
   "metadata": {
    "slideshow": {
     "slide_type": "subslide"
    }
   },
   "outputs": [],
   "source": [
    "# импортируем классы \n",
    "from collections.abc import Iterable, Iterator"
   ]
  },
  {
   "cell_type": "code",
   "execution_count": 13,
   "id": "ddea822d",
   "metadata": {
    "slideshow": {
     "slide_type": "subslide"
    }
   },
   "outputs": [],
   "source": [
    "# сам список\n",
    "iterable = ['Alice', 'Bob', 'Charlie']\n",
    "# вызов функции iter от нашего списка\n",
    "iterator = iter(iterable)"
   ]
  },
  {
   "cell_type": "code",
   "execution_count": 14,
   "id": "78af95b5",
   "metadata": {
    "slideshow": {
     "slide_type": "subslide"
    }
   },
   "outputs": [
    {
     "name": "stdout",
     "output_type": "stream",
     "text": [
      "['Alice', 'Bob', 'Charlie']\n",
      "True\n",
      "<list_iterator object at 0x000001CEC02D9FA0>\n",
      "True\n"
     ]
    }
   ],
   "source": [
    "print(iterable)\n",
    "print(isinstance(iterable, Iterable))\n",
    "print(iterator)\n",
    "print(isinstance(iterator, Iterator))"
   ]
  },
  {
   "cell_type": "markdown",
   "id": "1e2e3693",
   "metadata": {},
   "source": [
    "## Generator"
   ]
  },
  {
   "cell_type": "markdown",
   "id": "1d09705e",
   "metadata": {},
   "source": [
    "Иногда удобно создать генератор вместо списка, чтобы не хранить в памяти весь список сразу, а \"считать\" объекты только когда понадобятся:"
   ]
  },
  {
   "cell_type": "code",
   "execution_count": 15,
   "id": "2e342885",
   "metadata": {},
   "outputs": [
    {
     "data": {
      "text/plain": [
       "[0, 1, 4, 9, 16, 25, 36, 49, 64, 81]"
      ]
     },
     "execution_count": 15,
     "metadata": {},
     "output_type": "execute_result"
    }
   ],
   "source": [
    "# все эти объекты создались только в момент запуска нашего кода\n",
    "[x * x for x in range(10)]"
   ]
  },
  {
   "cell_type": "code",
   "execution_count": 16,
   "id": "6f05a63f",
   "metadata": {},
   "outputs": [
    {
     "data": {
      "text/plain": [
       "285"
      ]
     },
     "execution_count": 16,
     "metadata": {},
     "output_type": "execute_result"
    }
   ],
   "source": [
    "sum([x * x for x in range(10)]) # list comprehension"
   ]
  },
  {
   "cell_type": "code",
   "execution_count": 17,
   "id": "f1749e9c",
   "metadata": {},
   "outputs": [
    {
     "data": {
      "text/plain": [
       "285"
      ]
     },
     "execution_count": 17,
     "metadata": {},
     "output_type": "execute_result"
    }
   ],
   "source": [
    "sum(x * x for x in range(10))   # generator expression"
   ]
  },
  {
   "cell_type": "markdown",
   "id": "d1bc2b8f",
   "metadata": {},
   "source": [
    "А в чём разница?"
   ]
  },
  {
   "cell_type": "code",
   "execution_count": 18,
   "id": "d5dd4f2a",
   "metadata": {},
   "outputs": [
    {
     "data": {
      "text/plain": [
       "list"
      ]
     },
     "execution_count": 18,
     "metadata": {},
     "output_type": "execute_result"
    }
   ],
   "source": [
    "type([x * x for x in range(10)])"
   ]
  },
  {
   "cell_type": "code",
   "execution_count": 20,
   "id": "05346c77",
   "metadata": {},
   "outputs": [
    {
     "data": {
      "text/plain": [
       "generator"
      ]
     },
     "execution_count": 20,
     "metadata": {},
     "output_type": "execute_result"
    }
   ],
   "source": [
    "type(x * x for x in range(10))  # Generator Expression"
   ]
  },
  {
   "cell_type": "markdown",
   "id": "39bf8a58",
   "metadata": {},
   "source": [
    "- **Generator** - особый вид Iterator\n",
    "- **Generator Expression** - способ создания Generator\n",
    "- **Generator Function** (в простонародии тоже Generator) - еще один способ создания Generator "
   ]
  },
  {
   "cell_type": "code",
   "execution_count": 21,
   "id": "dd0a184a",
   "metadata": {
    "slideshow": {
     "slide_type": "subslide"
    }
   },
   "outputs": [
    {
     "name": "stdout",
     "output_type": "stream",
     "text": [
      "<generator object <genexpr> at 0x000001CEC033E190>\n"
     ]
    }
   ],
   "source": [
    "# импортируем класс генераторв\n",
    "from collections.abc import Generator \n",
    "# обрати внимание, как создается генератор\n",
    "generator = (x**2 for x in range(10))\n",
    "print(generator)"
   ]
  },
  {
   "cell_type": "code",
   "execution_count": 22,
   "id": "f4963348",
   "metadata": {},
   "outputs": [
    {
     "ename": "SyntaxError",
     "evalue": "invalid syntax (1905612182.py, line 2)",
     "output_type": "error",
     "traceback": [
      "\u001b[1;36m  Input \u001b[1;32mIn [22]\u001b[1;36m\u001b[0m\n\u001b[1;33m    generator = x**2 for x in range(10)\u001b[0m\n\u001b[1;37m                     ^\u001b[0m\n\u001b[1;31mSyntaxError\u001b[0m\u001b[1;31m:\u001b[0m invalid syntax\n"
     ]
    }
   ],
   "source": [
    "# вот так генератор не создастся\n",
    "generator = x**2 for x in range(10)"
   ]
  },
  {
   "cell_type": "code",
   "execution_count": 23,
   "id": "c84437f6",
   "metadata": {},
   "outputs": [
    {
     "data": {
      "text/plain": [
       "<list_iterator at 0x1cec02d9fa0>"
      ]
     },
     "execution_count": 23,
     "metadata": {},
     "output_type": "execute_result"
    }
   ],
   "source": [
    "iterator"
   ]
  },
  {
   "cell_type": "code",
   "execution_count": 24,
   "id": "fb7edfd6",
   "metadata": {
    "slideshow": {
     "slide_type": "subslide"
    }
   },
   "outputs": [
    {
     "name": "stdout",
     "output_type": "stream",
     "text": [
      "True\n",
      "True\n",
      "False\n"
     ]
    }
   ],
   "source": [
    "# проверим чем является наш генератор?\n",
    "# является ли генератор объектом класса Generator?\n",
    "print(isinstance(generator, Generator))\n",
    "# является ли генератор наследником Iterator?\n",
    "print(isinstance(generator, Iterator))\n",
    "#является ли итератор наследником класса Generator?\n",
    "print(isinstance(iterator, Generator))"
   ]
  },
  {
   "cell_type": "code",
   "execution_count": 25,
   "id": "46fbb48e",
   "metadata": {},
   "outputs": [
    {
     "data": {
      "text/plain": [
       "<generator object <genexpr> at 0x000001CEC033E190>"
      ]
     },
     "execution_count": 25,
     "metadata": {},
     "output_type": "execute_result"
    }
   ],
   "source": [
    "generator"
   ]
  },
  {
   "cell_type": "code",
   "execution_count": 26,
   "id": "4bdac964",
   "metadata": {
    "slideshow": {
     "slide_type": "subslide"
    }
   },
   "outputs": [
    {
     "name": "stdout",
     "output_type": "stream",
     "text": [
      "0\n",
      "1\n",
      "4\n"
     ]
    }
   ],
   "source": [
    "print(next(generator))\n",
    "print(next(generator))\n",
    "print(next(generator))"
   ]
  },
  {
   "cell_type": "code",
   "execution_count": 27,
   "id": "f1b176c6",
   "metadata": {},
   "outputs": [
    {
     "name": "stdout",
     "output_type": "stream",
     "text": [
      "9\n",
      "16\n",
      "25\n"
     ]
    }
   ],
   "source": [
    "print(next(generator))\n",
    "print(next(generator))\n",
    "print(next(generator))"
   ]
  },
  {
   "cell_type": "code",
   "execution_count": 28,
   "id": "09fcbb8c",
   "metadata": {},
   "outputs": [
    {
     "name": "stdout",
     "output_type": "stream",
     "text": [
      "36\n",
      "49\n",
      "64\n"
     ]
    }
   ],
   "source": [
    "print(next(generator))\n",
    "print(next(generator))\n",
    "print(next(generator))"
   ]
  },
  {
   "cell_type": "code",
   "execution_count": 27,
   "id": "e697d8f0",
   "metadata": {},
   "outputs": [
    {
     "name": "stdout",
     "output_type": "stream",
     "text": [
      "81\n"
     ]
    },
    {
     "ename": "StopIteration",
     "evalue": "",
     "output_type": "error",
     "traceback": [
      "\u001b[0;31m---------------------------------------------------------------------------\u001b[0m",
      "\u001b[0;31mStopIteration\u001b[0m                             Traceback (most recent call last)",
      "\u001b[0;32m/var/folders/v8/2cskhqjj0_g0zp3824glf1tm0000gn/T/ipykernel_34478/1309668407.py\u001b[0m in \u001b[0;36m<module>\u001b[0;34m\u001b[0m\n\u001b[1;32m      1\u001b[0m \u001b[0mprint\u001b[0m\u001b[0;34m(\u001b[0m\u001b[0mnext\u001b[0m\u001b[0;34m(\u001b[0m\u001b[0mgenerator\u001b[0m\u001b[0;34m)\u001b[0m\u001b[0;34m)\u001b[0m\u001b[0;34m\u001b[0m\u001b[0;34m\u001b[0m\u001b[0m\n\u001b[0;32m----> 2\u001b[0;31m \u001b[0mprint\u001b[0m\u001b[0;34m(\u001b[0m\u001b[0mnext\u001b[0m\u001b[0;34m(\u001b[0m\u001b[0mgenerator\u001b[0m\u001b[0;34m)\u001b[0m\u001b[0;34m)\u001b[0m\u001b[0;34m\u001b[0m\u001b[0;34m\u001b[0m\u001b[0m\n\u001b[0m\u001b[1;32m      3\u001b[0m \u001b[0mprint\u001b[0m\u001b[0;34m(\u001b[0m\u001b[0mnext\u001b[0m\u001b[0;34m(\u001b[0m\u001b[0mgenerator\u001b[0m\u001b[0;34m)\u001b[0m\u001b[0;34m)\u001b[0m\u001b[0;34m\u001b[0m\u001b[0;34m\u001b[0m\u001b[0m\n",
      "\u001b[0;31mStopIteration\u001b[0m: "
     ]
    }
   ],
   "source": [
    "print(next(generator))\n",
    "print(next(generator))\n",
    "print(next(generator))"
   ]
  },
  {
   "cell_type": "code",
   "execution_count": 29,
   "id": "560e8c81",
   "metadata": {},
   "outputs": [
    {
     "name": "stdout",
     "output_type": "stream",
     "text": [
      "0b0\n",
      "0b1\n",
      "0b10\n",
      "0b11\n",
      "0b100\n",
      "0b101\n",
      "0b110\n",
      "0b111\n",
      "0b1000\n",
      "0b1001\n",
      "0b1010\n",
      "0b1011\n",
      "0b1100\n",
      "0b1101\n",
      "0b1110\n",
      "0b1111\n"
     ]
    }
   ],
   "source": [
    "# генератор берет число от 0 до 15 и возвращает его двоичную запись\n",
    "gen2 = (bin(x) for x in range(16))\n",
    "\n",
    "# проитерируемся п нему\n",
    "for elem in gen2:\n",
    "    print(elem)"
   ]
  },
  {
   "cell_type": "markdown",
   "id": "a67c906c",
   "metadata": {
    "slideshow": {
     "slide_type": "subslide"
    }
   },
   "source": [
    "### Ключевое слово **yield**"
   ]
  },
  {
   "cell_type": "code",
   "execution_count": 30,
   "id": "79604e4d",
   "metadata": {},
   "outputs": [
    {
     "data": {
      "text/plain": [
       "'yes'"
      ]
     },
     "execution_count": 30,
     "metadata": {},
     "output_type": "execute_result"
    }
   ],
   "source": [
    "# простенькая функция\n",
    "def foo(x):\n",
    "    if x >= 0:\n",
    "        return 'yes'\n",
    "    else:\n",
    "        return 'no'\n",
    "    \n",
    "foo(0)"
   ]
  },
  {
   "cell_type": "code",
   "execution_count": 31,
   "id": "9b2e429d",
   "metadata": {},
   "outputs": [
    {
     "data": {
      "text/plain": [
       "'да'"
      ]
     },
     "execution_count": 31,
     "metadata": {},
     "output_type": "execute_result"
    }
   ],
   "source": [
    "# аналогичное написание данной функции\n",
    "def foo(x):\n",
    "    return 'да' if x >= 0 else 'нет'\n",
    "\n",
    "foo(5)"
   ]
  },
  {
   "cell_type": "code",
   "execution_count": 32,
   "id": "ba0fb3f1",
   "metadata": {},
   "outputs": [
    {
     "data": {
      "text/plain": [
       "'нет'"
      ]
     },
     "execution_count": 32,
     "metadata": {},
     "output_type": "execute_result"
    }
   ],
   "source": [
    "# создание с помощью лямбды\n",
    "foo = lambda x: 'да' if x >= 0 else 'нет'\n",
    "\n",
    "foo(-5)"
   ]
  },
  {
   "cell_type": "code",
   "execution_count": 33,
   "id": "e9196d58",
   "metadata": {
    "slideshow": {
     "slide_type": "-"
    }
   },
   "outputs": [],
   "source": [
    "# ну и посмотрим с помощью yield\n",
    "values = ['Hello', 'world!']\n",
    "\n",
    "def foo(lst):\n",
    "    print('I am the generator!')\n",
    "    for value in lst:\n",
    "        yield value\n",
    "        \n",
    "#foo - генераторная функция generator function\n",
    "#foo() - вызов функции создает объект generator"
   ]
  },
  {
   "cell_type": "code",
   "execution_count": 34,
   "id": "709fdb08",
   "metadata": {
    "slideshow": {
     "slide_type": "-"
    }
   },
   "outputs": [
    {
     "name": "stdout",
     "output_type": "stream",
     "text": [
      "I am the generator!\n",
      "Hello world! "
     ]
    }
   ],
   "source": [
    "for value in foo(values):\n",
    "    print(value, end=' ')"
   ]
  },
  {
   "cell_type": "code",
   "execution_count": 35,
   "id": "99994b75",
   "metadata": {},
   "outputs": [
    {
     "data": {
      "text/plain": [
       "generator"
      ]
     },
     "execution_count": 35,
     "metadata": {},
     "output_type": "execute_result"
    }
   ],
   "source": [
    "gen = foo(values)\n",
    "\n",
    "type(gen)"
   ]
  },
  {
   "cell_type": "code",
   "execution_count": 37,
   "id": "99b3e913",
   "metadata": {},
   "outputs": [
    {
     "data": {
      "text/plain": [
       "function"
      ]
     },
     "execution_count": 37,
     "metadata": {},
     "output_type": "execute_result"
    }
   ],
   "source": [
    "type(foo)"
   ]
  },
  {
   "cell_type": "code",
   "execution_count": 38,
   "id": "9046652f",
   "metadata": {},
   "outputs": [
    {
     "data": {
      "text/plain": [
       "generator"
      ]
     },
     "execution_count": 38,
     "metadata": {},
     "output_type": "execute_result"
    }
   ],
   "source": [
    "# если мы сохраняем функцию foo в какую то переменную\n",
    "# то такая переменная становится генератором\n",
    "# переменная ссылается на объект, который является генератором\n",
    "gen = foo(values)\n",
    "\n",
    "type(gen)"
   ]
  },
  {
   "cell_type": "markdown",
   "id": "229f7d84",
   "metadata": {
    "slideshow": {
     "slide_type": "subslide"
    }
   },
   "source": [
    "### Кубы натуральных чисел"
   ]
  },
  {
   "cell_type": "code",
   "execution_count": 39,
   "id": "28c4f709",
   "metadata": {
    "slideshow": {
     "slide_type": "-"
    }
   },
   "outputs": [
    {
     "data": {
      "text/plain": [
       "<generator object cubes at 0x000001CEC0344580>"
      ]
     },
     "execution_count": 39,
     "metadata": {},
     "output_type": "execute_result"
    }
   ],
   "source": [
    "# функция принимает некий аргумент х\n",
    "def cubes(x):\n",
    "    # итерируемся по эжтому аргументу\n",
    "    for value in x:\n",
    "        # в теле цикла указываем\n",
    "        yield value ** 3\n",
    "# передаем последовательность от 0 до 10        \n",
    "gen_cubes = cubes(range(10))\n",
    "gen_cubes"
   ]
  },
  {
   "cell_type": "code",
   "execution_count": 40,
   "id": "827679e2",
   "metadata": {
    "slideshow": {
     "slide_type": "-"
    }
   },
   "outputs": [
    {
     "name": "stdout",
     "output_type": "stream",
     "text": [
      "0 1 8 27 64 125 216 343 512 729 "
     ]
    }
   ],
   "source": [
    "# наша итерация прошла по всем объектам\n",
    "for value in gen_cubes:\n",
    "    print(value, end=' ')"
   ]
  },
  {
   "cell_type": "code",
   "execution_count": 41,
   "id": "87fdebf1",
   "metadata": {},
   "outputs": [],
   "source": [
    "# попробуем проитерироваться еще раз\n",
    "# ничего не напечаталось, т.к. генератор себя уже израсходовал\n",
    "for value in gen_cubes:\n",
    "    print(value, end=' ')"
   ]
  },
  {
   "cell_type": "code",
   "execution_count": 42,
   "id": "3124f337",
   "metadata": {},
   "outputs": [
    {
     "ename": "StopIteration",
     "evalue": "",
     "output_type": "error",
     "traceback": [
      "\u001b[1;31m---------------------------------------------------------------------------\u001b[0m",
      "\u001b[1;31mStopIteration\u001b[0m                             Traceback (most recent call last)",
      "Input \u001b[1;32mIn [42]\u001b[0m, in \u001b[0;36m<cell line: 2>\u001b[1;34m()\u001b[0m\n\u001b[0;32m      1\u001b[0m \u001b[38;5;66;03m# мы не можем взять следующую итерацию\u001b[39;00m\n\u001b[1;32m----> 2\u001b[0m \u001b[38;5;28;43mnext\u001b[39;49m\u001b[43m(\u001b[49m\u001b[43mgen_cubes\u001b[49m\u001b[43m)\u001b[49m\n",
      "\u001b[1;31mStopIteration\u001b[0m: "
     ]
    }
   ],
   "source": [
    "# мы не можем взять следующую итерацию\n",
    "next(gen_cubes)"
   ]
  },
  {
   "cell_type": "markdown",
   "id": "0e786daa",
   "metadata": {
    "slideshow": {
     "slide_type": "subslide"
    }
   },
   "source": [
    "Генератор может быть бесконечным"
   ]
  },
  {
   "cell_type": "markdown",
   "id": "b3989e44",
   "metadata": {},
   "source": [
    "### минизадача\n",
    "\n",
    "Напишите бесконечный $\\infty$ генератор кубов натуральных чисел"
   ]
  },
  {
   "cell_type": "code",
   "execution_count": 43,
   "id": "0d08b4ad",
   "metadata": {},
   "outputs": [],
   "source": [
    "def inf_cubes():\n",
    "    # нам потребуется while\n",
    "    counter = 0\n",
    "    while True:\n",
    "        value = counter\n",
    "        counter += 1\n",
    "        yield value ** 3     "
   ]
  },
  {
   "cell_type": "code",
   "execution_count": 45,
   "id": "6e49b2c7",
   "metadata": {},
   "outputs": [
    {
     "name": "stdout",
     "output_type": "stream",
     "text": [
      "0\n",
      "1\n",
      "8\n",
      "27\n",
      "64\n",
      "125\n",
      "216\n",
      "343\n",
      "512\n",
      "729\n",
      "1000\n"
     ]
    }
   ],
   "source": [
    "# проверим нашу функцию\n",
    "# итерируясь x будет каждый раз принимать следующее значение,\n",
    "# которое будет создавать генератор\n",
    "# когда x > 1000 наш цикл остановится\n",
    "for x in inf_cubes():  # gen --> 1, ..., 10**3, 11*3\n",
    "    print(x)\n",
    "    if x >= 1000:\n",
    "        break"
   ]
  },
  {
   "cell_type": "markdown",
   "id": "b9dfd5ad",
   "metadata": {},
   "source": [
    "### Является ли range итератором:"
   ]
  },
  {
   "cell_type": "code",
   "execution_count": 46,
   "id": "a0100e1e",
   "metadata": {},
   "outputs": [
    {
     "ename": "TypeError",
     "evalue": "'range' object is not an iterator",
     "output_type": "error",
     "traceback": [
      "\u001b[1;31m---------------------------------------------------------------------------\u001b[0m",
      "\u001b[1;31mTypeError\u001b[0m                                 Traceback (most recent call last)",
      "Input \u001b[1;32mIn [46]\u001b[0m, in \u001b[0;36m<cell line: 3>\u001b[1;34m()\u001b[0m\n\u001b[0;32m      1\u001b[0m ran \u001b[38;5;241m=\u001b[39m \u001b[38;5;28mrange\u001b[39m(\u001b[38;5;241m10\u001b[39m)\n\u001b[1;32m----> 3\u001b[0m \u001b[38;5;28;43mnext\u001b[39;49m\u001b[43m(\u001b[49m\u001b[43mran\u001b[49m\u001b[43m)\u001b[49m\n",
      "\u001b[1;31mTypeError\u001b[0m: 'range' object is not an iterator"
     ]
    }
   ],
   "source": [
    "ran = range(10)\n",
    "\n",
    "next(ran)"
   ]
  },
  {
   "cell_type": "code",
   "execution_count": 47,
   "id": "db353843",
   "metadata": {},
   "outputs": [
    {
     "data": {
      "text/plain": [
       "<range_iterator at 0x1cec1d143b0>"
      ]
     },
     "execution_count": 47,
     "metadata": {},
     "output_type": "execute_result"
    }
   ],
   "source": [
    "iter(ran)  # ran.__iter__()"
   ]
  },
  {
   "cell_type": "markdown",
   "id": "5ee92637",
   "metadata": {},
   "source": [
    "## functools"
   ]
  },
  {
   "cell_type": "code",
   "execution_count": 48,
   "id": "4edce543",
   "metadata": {},
   "outputs": [
    {
     "data": {
      "text/plain": [
       "[False, False, False, False, False, False, True, True, True, True]"
      ]
     },
     "execution_count": 48,
     "metadata": {},
     "output_type": "execute_result"
    }
   ],
   "source": [
    "# в лист мы отдаем map\n",
    "# лямбда функция проверяет, что х положительны от -5 до 4\n",
    "list(map(lambda x: x > 0, range(-5, 5)))"
   ]
  },
  {
   "cell_type": "code",
   "execution_count": 49,
   "id": "c539ba0b",
   "metadata": {},
   "outputs": [
    {
     "name": "stdout",
     "output_type": "stream",
     "text": [
      "[1, 2, 3, 4]\n"
     ]
    }
   ],
   "source": [
    "# чтобы не городить таких проверок, как ячейкой выше\n",
    "# есть специальная встроенная функция\n",
    "# Функция filter - возвращает фильтр-объект (генератор)\n",
    "# получили все значения, для которых lambda была True\n",
    "res = [y for y in filter(lambda x: x > 0, range(-5, 5))]\n",
    "\n",
    "print(res)"
   ]
  },
  {
   "cell_type": "code",
   "execution_count": 50,
   "id": "3f792088",
   "metadata": {},
   "outputs": [
    {
     "data": {
      "text/plain": [
       "[1, 2, 3, 4]"
      ]
     },
     "execution_count": 50,
     "metadata": {},
     "output_type": "execute_result"
    }
   ],
   "source": [
    "list(filter(lambda x: x > 0, range(-5, 5)))"
   ]
  },
  {
   "cell_type": "markdown",
   "id": "92d835ae",
   "metadata": {},
   "source": [
    "Является ли range итератором:"
   ]
  },
  {
   "cell_type": "code",
   "execution_count": 72,
   "id": "1430c253",
   "metadata": {},
   "outputs": [],
   "source": [
    "sequence = [1, 2, 3, 4, 5]"
   ]
  },
  {
   "cell_type": "code",
   "execution_count": 52,
   "id": "f47a9f07",
   "metadata": {},
   "outputs": [
    {
     "name": "stdout",
     "output_type": "stream",
     "text": [
      "Help on built-in function reduce in module _functools:\n",
      "\n",
      "reduce(...)\n",
      "    reduce(function, sequence[, initial]) -> value\n",
      "    \n",
      "    Apply a function of two arguments cumulatively to the items of a sequence,\n",
      "    from left to right, so as to reduce the sequence to a single value.\n",
      "    For example, reduce(lambda x, y: x+y, [1, 2, 3, 4, 5]) calculates\n",
      "    ((((1+2)+3)+4)+5).  If initial is present, it is placed before the items\n",
      "    of the sequence in the calculation, and serves as a default when the\n",
      "    sequence is empty.\n",
      "\n",
      "120\n"
     ]
    }
   ],
   "source": [
    "import functools\n",
    "\n",
    "help(functools.reduce)\n",
    "\n",
    "print(functools.reduce(lambda x, y: x * y, sequence))"
   ]
  },
  {
   "cell_type": "code",
   "execution_count": 67,
   "id": "e0490edd",
   "metadata": {},
   "outputs": [
    {
     "name": "stdout",
     "output_type": "stream",
     "text": [
      "seq = [-1, 7, -10, -4, 3, -7, -5, 6, -3, -8, 2, 1, -2, 9, 4, 0, -9, 5, 8, -6]\n"
     ]
    }
   ],
   "source": [
    "import random\n",
    "# создаем последовательность\n",
    "seq = list(range(-10, 10))\n",
    "# перемешиваем последовательность\n",
    "random.shuffle(seq)\n",
    "print(f'{seq = }')"
   ]
  },
  {
   "cell_type": "code",
   "execution_count": 68,
   "id": "ea1d2714",
   "metadata": {},
   "outputs": [
    {
     "name": "stdout",
     "output_type": "stream",
     "text": [
      "[6, 2, 4, 8]\n",
      "[-3, -9, -6]\n"
     ]
    }
   ],
   "source": [
    "# данные последовательности создаем с помощью последовательности seq\n",
    "seq_pos = filter(lambda x: (x > 0 and not x % 2), seq)\n",
    "seq_neg = filter(lambda x: (x < 0 and not x % 3), seq)\n",
    "print(list(seq_pos))\n",
    "print(list(seq_neg))"
   ]
  },
  {
   "cell_type": "code",
   "execution_count": 69,
   "id": "a485cc60",
   "metadata": {},
   "outputs": [
    {
     "data": {
      "text/plain": [
       "[6, 2, 4, 8, -3, -9, -6]"
      ]
     },
     "execution_count": 69,
     "metadata": {},
     "output_type": "execute_result"
    }
   ],
   "source": [
    "[6, 2, 4, 8] + [-3, -9, -6]"
   ]
  },
  {
   "cell_type": "code",
   "execution_count": 70,
   "id": "87330591",
   "metadata": {},
   "outputs": [
    {
     "data": {
      "text/plain": [
       "2"
      ]
     },
     "execution_count": 70,
     "metadata": {},
     "output_type": "execute_result"
    }
   ],
   "source": [
    "((((((6 + 2) + 4) + 8) + (-3)) + (-9)) + (-6я))"
   ]
  },
  {
   "cell_type": "code",
   "execution_count": 71,
   "id": "867c625a",
   "metadata": {},
   "outputs": [
    {
     "ename": "TypeError",
     "evalue": "reduce() of empty sequence with no initial value",
     "output_type": "error",
     "traceback": [
      "\u001b[1;31m---------------------------------------------------------------------------\u001b[0m",
      "\u001b[1;31mTypeError\u001b[0m                                 Traceback (most recent call last)",
      "Input \u001b[1;32mIn [71]\u001b[0m, in \u001b[0;36m<cell line: 2>\u001b[1;34m()\u001b[0m\n\u001b[0;32m      1\u001b[0m \u001b[38;5;66;03m# reduce повторяет расчет из ячейки выше\u001b[39;00m\n\u001b[1;32m----> 2\u001b[0m \u001b[43mfunctools\u001b[49m\u001b[38;5;241;43m.\u001b[39;49m\u001b[43mreduce\u001b[49m\u001b[43m(\u001b[49m\u001b[38;5;28;43;01mlambda\u001b[39;49;00m\u001b[43m \u001b[49m\u001b[43mx\u001b[49m\u001b[43m,\u001b[49m\u001b[43m \u001b[49m\u001b[43my\u001b[49m\u001b[43m:\u001b[49m\u001b[43m \u001b[49m\u001b[43mx\u001b[49m\u001b[43m \u001b[49m\u001b[38;5;241;43m+\u001b[39;49m\u001b[43m \u001b[49m\u001b[43my\u001b[49m\u001b[43m,\u001b[49m\u001b[43m \u001b[49m\u001b[38;5;28;43mlist\u001b[39;49m\u001b[43m(\u001b[49m\u001b[43mseq_pos\u001b[49m\u001b[43m)\u001b[49m\u001b[43m \u001b[49m\u001b[38;5;241;43m+\u001b[39;49m\u001b[43m \u001b[49m\u001b[38;5;28;43mlist\u001b[39;49m\u001b[43m(\u001b[49m\u001b[43mseq_neg\u001b[49m\u001b[43m)\u001b[49m\u001b[43m)\u001b[49m\n",
      "\u001b[1;31mTypeError\u001b[0m: reduce() of empty sequence with no initial value"
     ]
    }
   ],
   "source": [
    "# reduce повторяет расчет из ячейки выше\n",
    "functools.reduce(lambda x, y: x + y, list(seq_pos) + list(seq_neg))"
   ]
  },
  {
   "cell_type": "code",
   "execution_count": 64,
   "id": "76154a62",
   "metadata": {},
   "outputs": [],
   "source": [
    "# далее надо пересмотреть лекцию, потому что тут пара ячеек не совсем понятны"
   ]
  },
  {
   "cell_type": "code",
   "execution_count": 73,
   "id": "4247ae6e",
   "metadata": {},
   "outputs": [
    {
     "data": {
      "text/plain": [
       "18"
      ]
     },
     "execution_count": 73,
     "metadata": {},
     "output_type": "execute_result"
    }
   ],
   "source": [
    "# The partial() is used for partial function application which “freezes” some portion of \n",
    "# a function’s arguments and/or keywords resulting in a new object.\n",
    "\n",
    "basetwo = functools.partial(int, base=2)\n",
    "basetwo.__doc__ = 'Convert base 2 string to an int.'\n",
    "basetwo('10010')"
   ]
  },
  {
   "cell_type": "markdown",
   "id": "66bb3ee6",
   "metadata": {},
   "source": [
    "### map и zip"
   ]
  },
  {
   "cell_type": "code",
   "execution_count": 22,
   "id": "62f45263",
   "metadata": {},
   "outputs": [],
   "source": [
    "m = map(print, [1, 2, 3])"
   ]
  },
  {
   "cell_type": "code",
   "execution_count": 23,
   "id": "a32afc15",
   "metadata": {},
   "outputs": [
    {
     "name": "stdout",
     "output_type": "stream",
     "text": [
      "1\n"
     ]
    }
   ],
   "source": [
    "# при вызове next у нас происходит генерация\n",
    "# это говорит нам о том. что map является итератором\n",
    "next(m)"
   ]
  },
  {
   "cell_type": "code",
   "execution_count": 24,
   "id": "7b13ed5d",
   "metadata": {},
   "outputs": [
    {
     "name": "stdout",
     "output_type": "stream",
     "text": [
      "2\n"
     ]
    }
   ],
   "source": [
    "next(m)"
   ]
  },
  {
   "cell_type": "code",
   "execution_count": 27,
   "id": "78414b0e",
   "metadata": {},
   "outputs": [
    {
     "data": {
      "text/plain": [
       "False"
      ]
     },
     "execution_count": 27,
     "metadata": {},
     "output_type": "execute_result"
    }
   ],
   "source": [
    "# проверим является ли m Генератором\n",
    "# нет, это не генератор\n",
    "isinstance(m, Generator)"
   ]
  },
  {
   "cell_type": "code",
   "execution_count": 28,
   "id": "d284b5b0",
   "metadata": {},
   "outputs": [],
   "source": [
    "z = zip('asd', 'asd')"
   ]
  },
  {
   "cell_type": "code",
   "execution_count": 29,
   "id": "33021467",
   "metadata": {},
   "outputs": [
    {
     "data": {
      "text/plain": [
       "('a', 'a')"
      ]
     },
     "execution_count": 29,
     "metadata": {},
     "output_type": "execute_result"
    }
   ],
   "source": [
    "# next работает\n",
    "next(z)"
   ]
  },
  {
   "cell_type": "code",
   "execution_count": 30,
   "id": "495ec94e",
   "metadata": {},
   "outputs": [
    {
     "data": {
      "text/plain": [
       "False"
      ]
     },
     "execution_count": 30,
     "metadata": {},
     "output_type": "execute_result"
    }
   ],
   "source": [
    "isinstance(z, Generator)"
   ]
  },
  {
   "cell_type": "code",
   "execution_count": null,
   "id": "538f44d0",
   "metadata": {},
   "outputs": [],
   "source": [
    "[-3, -9, -6]### map и zip\n",
    "\n",
    "m = map(print, [1, 2, 3])\n",
    "\n",
    "# при вызове next у нас происходит генерация\n",
    "# это говорит нам о том. что map является итератором\n",
    "next(m)\n",
    "\n",
    "next(m)\n",
    "\n",
    "# проверим является ли m Генератором\n",
    "# нет, это не генератор\n",
    "isinstance(m, Generator)\n",
    "\n",
    "z = zip('asd', 'asd')\n",
    "\n",
    "# next работает\n",
    "next(z)\n",
    "\n",
    "isinstance(z, Generator)"
   ]
  },
  {
   "cell_type": "markdown",
   "id": "adae382b",
   "metadata": {
    "slideshow": {
     "slide_type": "slide"
    }
   },
   "source": [
    "## itertools\n",
    "\n",
    "https://docs.python.org/3/library/itertools.html"
   ]
  },
  {
   "cell_type": "code",
   "execution_count": 74,
   "id": "9744ec82",
   "metadata": {},
   "outputs": [
    {
     "name": "stdout",
     "output_type": "stream",
     "text": [
      "0 a\n",
      "0 b\n",
      "0 c\n",
      "1 a\n",
      "1 b\n",
      "1 c\n",
      "\n",
      "0 a\n",
      "0 b\n",
      "0 c\n",
      "1 a\n",
      "1 b\n",
      "1 c\n"
     ]
    }
   ],
   "source": [
    "import itertools\n",
    "\n",
    "#Product: можно \"разворачивать\" циклы\n",
    "\n",
    "for i in range(2):\n",
    "    for j in \"abc\":\n",
    "        print(i, j)\n",
    "\n",
    "print()\n",
    "\n",
    "#Эквивалентно:\n",
    "for i, j in itertools.product(range(2), \"abc\"):\n",
    "    print(i, j)"
   ]
  },
  {
   "cell_type": "markdown",
   "id": "2ce90833",
   "metadata": {
    "slideshow": {
     "slide_type": "subslide"
    }
   },
   "source": [
    "Прочая комбинаторика: перестановки, комбинации, комбинации с повторениями"
   ]
  },
  {
   "cell_type": "code",
   "execution_count": 126,
   "id": "a0bf3e46",
   "metadata": {},
   "outputs": [
    {
     "data": {
      "text/plain": [
       "[(1, 2, 3), (1, 3, 2), (2, 1, 3), (2, 3, 1), (3, 1, 2), (3, 2, 1)]"
      ]
     },
     "execution_count": 126,
     "metadata": {},
     "output_type": "execute_result"
    }
   ],
   "source": [
    "# получение всех перестановок элементов\n",
    "list(itertools.permutations([1, 2, 3]))"
   ]
  },
  {
   "cell_type": "code",
   "execution_count": 127,
   "id": "4cca8c03",
   "metadata": {},
   "outputs": [
    {
     "data": {
      "text/plain": [
       "[(1, 2), (1, 3), (2, 3)]"
      ]
     },
     "execution_count": 127,
     "metadata": {},
     "output_type": "execute_result"
    }
   ],
   "source": [
    "# все возможные комбинации из списка, комбинация из двух элементов\n",
    "list(itertools.combinations([1, 2, 3], 2))"
   ]
  },
  {
   "cell_type": "code",
   "execution_count": 128,
   "id": "9f194c63",
   "metadata": {},
   "outputs": [
    {
     "data": {
      "text/plain": [
       "[(1, 1), (1, 2), (1, 3), (2, 2), (2, 3), (3, 3)]"
      ]
     },
     "execution_count": 128,
     "metadata": {},
     "output_type": "execute_result"
    }
   ],
   "source": [
    "list(itertools.combinations_with_replacement([1, 2, 3], 2))"
   ]
  },
  {
   "cell_type": "code",
   "execution_count": 18,
   "id": "4c6b36cc",
   "metadata": {},
   "outputs": [
    {
     "data": {
      "text/plain": [
       "[(1, 2), (1, 3), (2, 3)]"
      ]
     },
     "execution_count": 18,
     "metadata": {},
     "output_type": "execute_result"
    }
   ],
   "source": [
    "list(itertools.combinations([1, 2, 3], 2))"
   ]
  },
  {
   "cell_type": "code",
   "execution_count": 19,
   "id": "2fe947b3",
   "metadata": {},
   "outputs": [
    {
     "data": {
      "text/plain": [
       "[(1, 1), (1, 2), (1, 3), (2, 2), (2, 3), (3, 3)]"
      ]
     },
     "execution_count": 19,
     "metadata": {},
     "output_type": "execute_result"
    }
   ],
   "source": [
    "list(itertools.combinations_with_replacement([1, 2, 3], 2))"
   ]
  },
  {
   "cell_type": "markdown",
   "id": "c67147f6",
   "metadata": {
    "slideshow": {
     "slide_type": "subslide"
    }
   },
   "source": [
    "Бесконечные генераторы: count, cycle, repeat"
   ]
  },
  {
   "cell_type": "code",
   "execution_count": 20,
   "id": "b70c3465",
   "metadata": {},
   "outputs": [
    {
     "name": "stdout",
     "output_type": "stream",
     "text": [
      "0\n",
      "1\n",
      "2\n",
      "3\n",
      "4\n"
     ]
    }
   ],
   "source": [
    "for x in itertools.count():\n",
    "    print(x)\n",
    "    if x > 3: break\n",
    "    "
   ]
  },
  {
   "cell_type": "code",
   "execution_count": 21,
   "id": "56259925",
   "metadata": {},
   "outputs": [
    {
     "name": "stdout",
     "output_type": "stream",
     "text": [
      "1\n",
      "2\n",
      "3\n",
      "1\n",
      "2\n"
     ]
    }
   ],
   "source": [
    "# принимаем на вход последовательность и позволяет ходить по ней по кругу\n",
    "i = 0\n",
    "for x in itertools.cycle([1, 2, 3]):\n",
    "    print(x)\n",
    "    if i > 3: \n",
    "        # чтобы не свалиться в вечный цикл\n",
    "        break\n",
    "    i += 1"
   ]
  },
  {
   "cell_type": "code",
   "execution_count": 22,
   "id": "1d3a5fdc",
   "metadata": {},
   "outputs": [
    {
     "name": "stdout",
     "output_type": "stream",
     "text": [
      "(0, 1, 'oak', 0)\n",
      "(1, 2, 'oak', 1)\n",
      "(2, 3, 'oak', 2)\n",
      "(3, 1, 'oak', 3)\n",
      "(4, 2, 'oak', 4)\n",
      "(5, 3, 'oak', 5)\n",
      "(6, 1, 'oak', 6)\n"
     ]
    }
   ],
   "source": [
    "for elems in zip(itertools.count(), \n",
    "                 itertools.cycle([1, 2, 3]), \n",
    "                 itertools.repeat(\"oak\"), \n",
    "                 range(7)):\n",
    "    print(elems)"
   ]
  },
  {
   "cell_type": "markdown",
   "id": "c1d4668a",
   "metadata": {
    "slideshow": {
     "slide_type": "subslide"
    }
   },
   "source": [
    "первые N элементов"
   ]
  },
  {
   "cell_type": "code",
   "execution_count": null,
   "id": "fd69983f",
   "metadata": {},
   "outputs": [],
   "source": []
  },
  {
   "cell_type": "code",
   "execution_count": 23,
   "id": "bc661472",
   "metadata": {},
   "outputs": [
    {
     "data": {
      "text/plain": [
       "[0, 1, 2, 3, 4]"
      ]
     },
     "execution_count": 23,
     "metadata": {},
     "output_type": "execute_result"
    }
   ],
   "source": [
    "list(itertools.islice(itertools.count(), 5))"
   ]
  },
  {
   "cell_type": "code",
   "execution_count": 24,
   "id": "845cd07e",
   "metadata": {},
   "outputs": [
    {
     "name": "stdout",
     "output_type": "stream",
     "text": [
      "(0, 'q', 'F')\n",
      "(1, 'w', 'G')\n",
      "(2, 'e', 'H')\n",
      "(3, 'r', 'I')\n",
      "(4, 't', 'J')\n"
     ]
    }
   ],
   "source": [
    "for elem in zip(range(5), \n",
    "                'qwertyui', \n",
    "                (chr(x) for x in range(70, 78))):\n",
    "    print(elem)"
   ]
  },
  {
   "cell_type": "code",
   "execution_count": 25,
   "id": "db763718",
   "metadata": {},
   "outputs": [
    {
     "data": {
      "text/plain": [
       "[-9, 0, -2, -5, 2, 9, -7, -10, 4, 1, -3, 7, -4, 3, 5, -6, 6, -8, 8, -1]"
      ]
     },
     "execution_count": 25,
     "metadata": {},
     "output_type": "execute_result"
    }
   ],
   "source": [
    "seq"
   ]
  },
  {
   "cell_type": "code",
   "execution_count": 26,
   "id": "b205c042",
   "metadata": {},
   "outputs": [
    {
     "name": "stdout",
     "output_type": "stream",
     "text": [
      "i = 0, elem = -9\n",
      "i = 1, elem = 0\n",
      "i = 2, elem = -2\n",
      "i = 3, elem = -5\n",
      "i = 4, elem = 2\n",
      "i = 5, elem = 9\n",
      "i = 6, elem = -7\n",
      "i = 7, elem = -10\n",
      "i = 8, elem = 4\n",
      "i = 9, elem = 1\n",
      "i = 10, elem = -3\n",
      "i = 11, elem = 7\n",
      "i = 12, elem = -4\n",
      "i = 13, elem = 3\n",
      "i = 14, elem = 5\n",
      "i = 15, elem = -6\n",
      "i = 16, elem = 6\n",
      "i = 17, elem = -8\n",
      "i = 18, elem = 8\n",
      "i = 19, elem = -1\n"
     ]
    }
   ],
   "source": [
    "for i, elem in enumerate(seq):\n",
    "    print(f\"{i = }, {elem = }\")"
   ]
  },
  {
   "cell_type": "code",
   "execution_count": 27,
   "id": "28bfc8fa",
   "metadata": {},
   "outputs": [],
   "source": [
    "seq_str = map(str, seq)"
   ]
  },
  {
   "cell_type": "code",
   "execution_count": 28,
   "id": "ef3da8e9",
   "metadata": {},
   "outputs": [
    {
     "data": {
      "text/plain": [
       "[(-9, '-9'),\n",
       " (0, '0'),\n",
       " (-2, '-2'),\n",
       " (-5, '-5'),\n",
       " (2, '2'),\n",
       " (9, '9'),\n",
       " (-7, '-7'),\n",
       " (-10, '-10'),\n",
       " (4, '4'),\n",
       " (1, '1'),\n",
       " (-3, '-3'),\n",
       " (7, '7'),\n",
       " (-4, '-4'),\n",
       " (3, '3'),\n",
       " (5, '5'),\n",
       " (-6, '-6'),\n",
       " (6, '6'),\n",
       " (-8, '-8'),\n",
       " (8, '8'),\n",
       " (-1, '-1')]"
      ]
     },
     "execution_count": 28,
     "metadata": {},
     "output_type": "execute_result"
    }
   ],
   "source": [
    "list(zip(seq, seq_str))"
   ]
  },
  {
   "cell_type": "code",
   "execution_count": 29,
   "id": "5b2fa697",
   "metadata": {},
   "outputs": [
    {
     "data": {
      "text/plain": [
       "[]"
      ]
     },
     "execution_count": 29,
     "metadata": {},
     "output_type": "execute_result"
    }
   ],
   "source": [
    "list(enumerate(zip(seq, seq_str)))"
   ]
  },
  {
   "cell_type": "code",
   "execution_count": 30,
   "id": "808edcd1",
   "metadata": {},
   "outputs": [],
   "source": [
    "seq = zip('qwerty', 'bgtmju', 'aoiefvgoaygeyveroyvg')\n",
    "f = ''.join"
   ]
  },
  {
   "cell_type": "code",
   "execution_count": 31,
   "id": "28912b42",
   "metadata": {},
   "outputs": [
    {
     "data": {
      "text/plain": [
       "['eti', 'qba', 'rme', 'tjf', 'wgo', 'yuv']"
      ]
     },
     "execution_count": 31,
     "metadata": {},
     "output_type": "execute_result"
    }
   ],
   "source": [
    "sorted(list(map(f, seq)))"
   ]
  },
  {
   "cell_type": "markdown",
   "id": "a41a6f2d",
   "metadata": {
    "slideshow": {
     "slide_type": "slide"
    }
   },
   "source": [
    "## Namespaces\n",
    "\n",
    "Пространство имён -- маппинг из имен переменных в объекты."
   ]
  },
  {
   "cell_type": "markdown",
   "id": "1f38a9f6",
   "metadata": {},
   "source": [
    "**locals()** - возвращает текущий namespace в виде словаря <br>\n",
    "**globals()** - возвращает namespace модуля"
   ]
  },
  {
   "cell_type": "code",
   "execution_count": 32,
   "id": "50f05fc5",
   "metadata": {},
   "outputs": [
    {
     "data": {
      "text/plain": [
       "['In',\n",
       " 'Out',\n",
       " '_',\n",
       " '_10',\n",
       " '_14',\n",
       " '_15',\n",
       " '_17',\n",
       " '_18',\n",
       " '_19',\n",
       " '_2',\n",
       " '_23',\n",
       " '_25',\n",
       " '_28',\n",
       " '_29',\n",
       " '_31',\n",
       " '_4',\n",
       " '_6',\n",
       " '__',\n",
       " '___',\n",
       " '__builtin__',\n",
       " '__builtins__',\n",
       " '__doc__',\n",
       " '__loader__',\n",
       " '__name__',\n",
       " '__package__',\n",
       " '__spec__',\n",
       " '_dh',\n",
       " '_i',\n",
       " '_i1',\n",
       " '_i10',\n",
       " '_i11',\n",
       " '_i12',\n",
       " '_i13',\n",
       " '_i14',\n",
       " '_i15',\n",
       " '_i16',\n",
       " '_i17',\n",
       " '_i18',\n",
       " '_i19',\n",
       " '_i2',\n",
       " '_i20',\n",
       " '_i21',\n",
       " '_i22',\n",
       " '_i23',\n",
       " '_i24',\n",
       " '_i25',\n",
       " '_i26',\n",
       " '_i27',\n",
       " '_i28',\n",
       " '_i29',\n",
       " '_i3',\n",
       " '_i30',\n",
       " '_i31',\n",
       " '_i32',\n",
       " '_i4',\n",
       " '_i5',\n",
       " '_i6',\n",
       " '_i7',\n",
       " '_i8',\n",
       " '_i9',\n",
       " '_ih',\n",
       " '_ii',\n",
       " '_iii',\n",
       " '_oh',\n",
       " 'basetwo',\n",
       " 'elem',\n",
       " 'elems',\n",
       " 'exit',\n",
       " 'f',\n",
       " 'functools',\n",
       " 'get_ipython',\n",
       " 'i',\n",
       " 'itertools',\n",
       " 'j',\n",
       " 'quit',\n",
       " 'ran',\n",
       " 'random',\n",
       " 'res',\n",
       " 'seq',\n",
       " 'seq_neg',\n",
       " 'seq_pos',\n",
       " 'seq_str',\n",
       " 'sequence',\n",
       " 'x']"
      ]
     },
     "execution_count": 32,
     "metadata": {},
     "output_type": "execute_result"
    }
   ],
   "source": [
    "dir()"
   ]
  },
  {
   "cell_type": "code",
   "execution_count": 33,
   "id": "1321fad4",
   "metadata": {},
   "outputs": [
    {
     "data": {
      "text/plain": [
       "{'__name__': '__main__',\n",
       " '__doc__': 'Automatically created module for IPython interactive environment',\n",
       " '__package__': None,\n",
       " '__loader__': None,\n",
       " '__spec__': None,\n",
       " '__builtin__': <module 'builtins' (built-in)>,\n",
       " '__builtins__': <module 'builtins' (built-in)>,\n",
       " '_ih': ['',\n",
       "  'ran = range(10)\\n\\nnext(ran)',\n",
       "  'list(map(lambda x: x > 0, range(-5, 5)))',\n",
       "  '# Функция filter - возвращает фильтр-объект (генератор)\\nres = [y for y in filter(lambda x: x > 0, range(-5, 5))]\\n\\nprint(res)',\n",
       "  'list(filter(lambda x: x > 0, range(-5, 5)))',\n",
       "  'ran = range(10)\\n\\nnext(ran)',\n",
       "  'iter(ran)',\n",
       "  'sequence = [1, 2, 3, 4, 5]',\n",
       "  'import functools\\n\\nhelp(functools.reduce)\\n\\nprint(functools.reduce(lambda x, y: x * y, sequence))',\n",
       "  'import random\\n\\nseq = list(range(-10, 10))\\nrandom.shuffle(seq)\\n\\nseq_pos = filter(lambda x: (x > 0 and not x % 2), seq)\\nseq_neg = filter(lambda x: (x < 0 and not x % 3), seq)',\n",
       "  'functools.reduce(lambda x, y: x + y, list(seq_pos) + list(seq_neg))',\n",
       "  'functools.reduce(lambda x, y: x + y, list(seq_pos) + list(seq_neg))',\n",
       "  'functools.reduce(lambda x, y: x + y, list(seq_pos) + list(seq_neg))',\n",
       "  'import random\\n\\nseq = list(range(-10, 10))\\nrandom.shuffle(seq)\\n\\nseq_pos = filter(lambda x: (x > 0 and not x % 2), seq)\\nseq_neg = filter(lambda x: (x < 0 and not x % 3), seq)',\n",
       "  'functools.reduce(lambda x, y: x + y, list(seq_pos) + list(seq_neg))',\n",
       "  \"# The partial() is used for partial function application which “freezes” some portion of \\n# a function’s arguments and/or keywords resulting in a new object.\\n\\nbasetwo = functools.partial(int, base=2)\\nbasetwo.__doc__ = 'Convert base 2 string to an int.'\\nbasetwo('10010')\",\n",
       "  'import itertools\\n\\n#Product: можно \"разворачивать\" циклы\\n\\nfor i in range(2):\\n    for j in \"abc\":\\n        print(i, j)\\n\\nprint()\\n\\n#Эквивалентно:\\nfor i, j in itertools.product(range(2), \"abc\"):\\n    print(i, j)',\n",
       "  'list(itertools.permutations([1, 2, 3]))',\n",
       "  'list(itertools.combinations([1, 2, 3], 2))',\n",
       "  'list(itertools.combinations_with_replacement([1, 2, 3], 2))',\n",
       "  'for x in itertools.count():\\n    print(x)\\n    if x > 3: break\\n    ',\n",
       "  'i = 0\\nfor x in itertools.cycle([1, 2, 3]):\\n    print(x)\\n    if i > 3: \\n        break\\n    i += 1',\n",
       "  'for elems in zip(itertools.count(), \\n                 itertools.cycle([1, 2, 3]), \\n                 itertools.repeat(\"oak\"), \\n                 range(7)):\\n    print(elems)',\n",
       "  'list(itertools.islice(itertools.count(), 5))',\n",
       "  \"for elem in zip(range(5), \\n                'qwertyui', \\n                (chr(x) for x in range(70, 78))):\\n    print(elem)\",\n",
       "  'seq',\n",
       "  'for i, elem in enumerate(seq):\\n    print(f\"{i = }, {elem = }\")',\n",
       "  'seq_str = map(str, seq)',\n",
       "  'list(zip(seq, seq_str))',\n",
       "  'list(enumerate(zip(seq, seq_str)))',\n",
       "  \"seq = zip('qwerty', 'bgtmju', 'aoiefvgoaygeyveroyvg')\\nf = ''.join\",\n",
       "  'sorted(list(map(f, seq)))',\n",
       "  'dir()',\n",
       "  'globals()'],\n",
       " '_oh': {2: [False, False, False, False, False, False, True, True, True, True],\n",
       "  4: [1, 2, 3, 4],\n",
       "  6: <range_iterator at 0x28aa34ff9d0>,\n",
       "  10: 2,\n",
       "  14: 2,\n",
       "  15: 18,\n",
       "  17: [(1, 2, 3), (1, 3, 2), (2, 1, 3), (2, 3, 1), (3, 1, 2), (3, 2, 1)],\n",
       "  18: [(1, 2), (1, 3), (2, 3)],\n",
       "  19: [(1, 1), (1, 2), (1, 3), (2, 2), (2, 3), (3, 3)],\n",
       "  23: [0, 1, 2, 3, 4],\n",
       "  25: [-9, 0, -2, -5, 2, 9, -7, -10, 4, 1, -3, 7, -4, 3, 5, -6, 6, -8, 8, -1],\n",
       "  28: [(-9, '-9'),\n",
       "   (0, '0'),\n",
       "   (-2, '-2'),\n",
       "   (-5, '-5'),\n",
       "   (2, '2'),\n",
       "   (9, '9'),\n",
       "   (-7, '-7'),\n",
       "   (-10, '-10'),\n",
       "   (4, '4'),\n",
       "   (1, '1'),\n",
       "   (-3, '-3'),\n",
       "   (7, '7'),\n",
       "   (-4, '-4'),\n",
       "   (3, '3'),\n",
       "   (5, '5'),\n",
       "   (-6, '-6'),\n",
       "   (6, '6'),\n",
       "   (-8, '-8'),\n",
       "   (8, '8'),\n",
       "   (-1, '-1')],\n",
       "  29: [],\n",
       "  31: ['eti', 'qba', 'rme', 'tjf', 'wgo', 'yuv'],\n",
       "  32: ['In',\n",
       "   'Out',\n",
       "   '_',\n",
       "   '_10',\n",
       "   '_14',\n",
       "   '_15',\n",
       "   '_17',\n",
       "   '_18',\n",
       "   '_19',\n",
       "   '_2',\n",
       "   '_23',\n",
       "   '_25',\n",
       "   '_28',\n",
       "   '_29',\n",
       "   '_31',\n",
       "   '_4',\n",
       "   '_6',\n",
       "   '__',\n",
       "   '___',\n",
       "   '__builtin__',\n",
       "   '__builtins__',\n",
       "   '__doc__',\n",
       "   '__loader__',\n",
       "   '__name__',\n",
       "   '__package__',\n",
       "   '__spec__',\n",
       "   '_dh',\n",
       "   '_i',\n",
       "   '_i1',\n",
       "   '_i10',\n",
       "   '_i11',\n",
       "   '_i12',\n",
       "   '_i13',\n",
       "   '_i14',\n",
       "   '_i15',\n",
       "   '_i16',\n",
       "   '_i17',\n",
       "   '_i18',\n",
       "   '_i19',\n",
       "   '_i2',\n",
       "   '_i20',\n",
       "   '_i21',\n",
       "   '_i22',\n",
       "   '_i23',\n",
       "   '_i24',\n",
       "   '_i25',\n",
       "   '_i26',\n",
       "   '_i27',\n",
       "   '_i28',\n",
       "   '_i29',\n",
       "   '_i3',\n",
       "   '_i30',\n",
       "   '_i31',\n",
       "   '_i32',\n",
       "   '_i4',\n",
       "   '_i5',\n",
       "   '_i6',\n",
       "   '_i7',\n",
       "   '_i8',\n",
       "   '_i9',\n",
       "   '_ih',\n",
       "   '_ii',\n",
       "   '_iii',\n",
       "   '_oh',\n",
       "   'basetwo',\n",
       "   'elem',\n",
       "   'elems',\n",
       "   'exit',\n",
       "   'f',\n",
       "   'functools',\n",
       "   'get_ipython',\n",
       "   'i',\n",
       "   'itertools',\n",
       "   'j',\n",
       "   'quit',\n",
       "   'ran',\n",
       "   'random',\n",
       "   'res',\n",
       "   'seq',\n",
       "   'seq_neg',\n",
       "   'seq_pos',\n",
       "   'seq_str',\n",
       "   'sequence',\n",
       "   'x']},\n",
       " '_dh': [WindowsPath('C:/Users/user/01. MPTI - DataScientist/01. Python и методы машинного обучения')],\n",
       " 'In': ['',\n",
       "  'ran = range(10)\\n\\nnext(ran)',\n",
       "  'list(map(lambda x: x > 0, range(-5, 5)))',\n",
       "  '# Функция filter - возвращает фильтр-объект (генератор)\\nres = [y for y in filter(lambda x: x > 0, range(-5, 5))]\\n\\nprint(res)',\n",
       "  'list(filter(lambda x: x > 0, range(-5, 5)))',\n",
       "  'ran = range(10)\\n\\nnext(ran)',\n",
       "  'iter(ran)',\n",
       "  'sequence = [1, 2, 3, 4, 5]',\n",
       "  'import functools\\n\\nhelp(functools.reduce)\\n\\nprint(functools.reduce(lambda x, y: x * y, sequence))',\n",
       "  'import random\\n\\nseq = list(range(-10, 10))\\nrandom.shuffle(seq)\\n\\nseq_pos = filter(lambda x: (x > 0 and not x % 2), seq)\\nseq_neg = filter(lambda x: (x < 0 and not x % 3), seq)',\n",
       "  'functools.reduce(lambda x, y: x + y, list(seq_pos) + list(seq_neg))',\n",
       "  'functools.reduce(lambda x, y: x + y, list(seq_pos) + list(seq_neg))',\n",
       "  'functools.reduce(lambda x, y: x + y, list(seq_pos) + list(seq_neg))',\n",
       "  'import random\\n\\nseq = list(range(-10, 10))\\nrandom.shuffle(seq)\\n\\nseq_pos = filter(lambda x: (x > 0 and not x % 2), seq)\\nseq_neg = filter(lambda x: (x < 0 and not x % 3), seq)',\n",
       "  'functools.reduce(lambda x, y: x + y, list(seq_pos) + list(seq_neg))',\n",
       "  \"# The partial() is used for partial function application which “freezes” some portion of \\n# a function’s arguments and/or keywords resulting in a new object.\\n\\nbasetwo = functools.partial(int, base=2)\\nbasetwo.__doc__ = 'Convert base 2 string to an int.'\\nbasetwo('10010')\",\n",
       "  'import itertools\\n\\n#Product: можно \"разворачивать\" циклы\\n\\nfor i in range(2):\\n    for j in \"abc\":\\n        print(i, j)\\n\\nprint()\\n\\n#Эквивалентно:\\nfor i, j in itertools.product(range(2), \"abc\"):\\n    print(i, j)',\n",
       "  'list(itertools.permutations([1, 2, 3]))',\n",
       "  'list(itertools.combinations([1, 2, 3], 2))',\n",
       "  'list(itertools.combinations_with_replacement([1, 2, 3], 2))',\n",
       "  'for x in itertools.count():\\n    print(x)\\n    if x > 3: break\\n    ',\n",
       "  'i = 0\\nfor x in itertools.cycle([1, 2, 3]):\\n    print(x)\\n    if i > 3: \\n        break\\n    i += 1',\n",
       "  'for elems in zip(itertools.count(), \\n                 itertools.cycle([1, 2, 3]), \\n                 itertools.repeat(\"oak\"), \\n                 range(7)):\\n    print(elems)',\n",
       "  'list(itertools.islice(itertools.count(), 5))',\n",
       "  \"for elem in zip(range(5), \\n                'qwertyui', \\n                (chr(x) for x in range(70, 78))):\\n    print(elem)\",\n",
       "  'seq',\n",
       "  'for i, elem in enumerate(seq):\\n    print(f\"{i = }, {elem = }\")',\n",
       "  'seq_str = map(str, seq)',\n",
       "  'list(zip(seq, seq_str))',\n",
       "  'list(enumerate(zip(seq, seq_str)))',\n",
       "  \"seq = zip('qwerty', 'bgtmju', 'aoiefvgoaygeyveroyvg')\\nf = ''.join\",\n",
       "  'sorted(list(map(f, seq)))',\n",
       "  'dir()',\n",
       "  'globals()'],\n",
       " 'Out': {2: [False, False, False, False, False, False, True, True, True, True],\n",
       "  4: [1, 2, 3, 4],\n",
       "  6: <range_iterator at 0x28aa34ff9d0>,\n",
       "  10: 2,\n",
       "  14: 2,\n",
       "  15: 18,\n",
       "  17: [(1, 2, 3), (1, 3, 2), (2, 1, 3), (2, 3, 1), (3, 1, 2), (3, 2, 1)],\n",
       "  18: [(1, 2), (1, 3), (2, 3)],\n",
       "  19: [(1, 1), (1, 2), (1, 3), (2, 2), (2, 3), (3, 3)],\n",
       "  23: [0, 1, 2, 3, 4],\n",
       "  25: [-9, 0, -2, -5, 2, 9, -7, -10, 4, 1, -3, 7, -4, 3, 5, -6, 6, -8, 8, -1],\n",
       "  28: [(-9, '-9'),\n",
       "   (0, '0'),\n",
       "   (-2, '-2'),\n",
       "   (-5, '-5'),\n",
       "   (2, '2'),\n",
       "   (9, '9'),\n",
       "   (-7, '-7'),\n",
       "   (-10, '-10'),\n",
       "   (4, '4'),\n",
       "   (1, '1'),\n",
       "   (-3, '-3'),\n",
       "   (7, '7'),\n",
       "   (-4, '-4'),\n",
       "   (3, '3'),\n",
       "   (5, '5'),\n",
       "   (-6, '-6'),\n",
       "   (6, '6'),\n",
       "   (-8, '-8'),\n",
       "   (8, '8'),\n",
       "   (-1, '-1')],\n",
       "  29: [],\n",
       "  31: ['eti', 'qba', 'rme', 'tjf', 'wgo', 'yuv'],\n",
       "  32: ['In',\n",
       "   'Out',\n",
       "   '_',\n",
       "   '_10',\n",
       "   '_14',\n",
       "   '_15',\n",
       "   '_17',\n",
       "   '_18',\n",
       "   '_19',\n",
       "   '_2',\n",
       "   '_23',\n",
       "   '_25',\n",
       "   '_28',\n",
       "   '_29',\n",
       "   '_31',\n",
       "   '_4',\n",
       "   '_6',\n",
       "   '__',\n",
       "   '___',\n",
       "   '__builtin__',\n",
       "   '__builtins__',\n",
       "   '__doc__',\n",
       "   '__loader__',\n",
       "   '__name__',\n",
       "   '__package__',\n",
       "   '__spec__',\n",
       "   '_dh',\n",
       "   '_i',\n",
       "   '_i1',\n",
       "   '_i10',\n",
       "   '_i11',\n",
       "   '_i12',\n",
       "   '_i13',\n",
       "   '_i14',\n",
       "   '_i15',\n",
       "   '_i16',\n",
       "   '_i17',\n",
       "   '_i18',\n",
       "   '_i19',\n",
       "   '_i2',\n",
       "   '_i20',\n",
       "   '_i21',\n",
       "   '_i22',\n",
       "   '_i23',\n",
       "   '_i24',\n",
       "   '_i25',\n",
       "   '_i26',\n",
       "   '_i27',\n",
       "   '_i28',\n",
       "   '_i29',\n",
       "   '_i3',\n",
       "   '_i30',\n",
       "   '_i31',\n",
       "   '_i32',\n",
       "   '_i4',\n",
       "   '_i5',\n",
       "   '_i6',\n",
       "   '_i7',\n",
       "   '_i8',\n",
       "   '_i9',\n",
       "   '_ih',\n",
       "   '_ii',\n",
       "   '_iii',\n",
       "   '_oh',\n",
       "   'basetwo',\n",
       "   'elem',\n",
       "   'elems',\n",
       "   'exit',\n",
       "   'f',\n",
       "   'functools',\n",
       "   'get_ipython',\n",
       "   'i',\n",
       "   'itertools',\n",
       "   'j',\n",
       "   'quit',\n",
       "   'ran',\n",
       "   'random',\n",
       "   'res',\n",
       "   'seq',\n",
       "   'seq_neg',\n",
       "   'seq_pos',\n",
       "   'seq_str',\n",
       "   'sequence',\n",
       "   'x']},\n",
       " 'get_ipython': <bound method InteractiveShell.get_ipython of <ipykernel.zmqshell.ZMQInteractiveShell object at 0x0000028AA1AAF9D0>>,\n",
       " 'exit': <IPython.core.autocall.ZMQExitAutocall at 0x28aa1a6f640>,\n",
       " 'quit': <IPython.core.autocall.ZMQExitAutocall at 0x28aa1a6f640>,\n",
       " '_': ['In',\n",
       "  'Out',\n",
       "  '_',\n",
       "  '_10',\n",
       "  '_14',\n",
       "  '_15',\n",
       "  '_17',\n",
       "  '_18',\n",
       "  '_19',\n",
       "  '_2',\n",
       "  '_23',\n",
       "  '_25',\n",
       "  '_28',\n",
       "  '_29',\n",
       "  '_31',\n",
       "  '_4',\n",
       "  '_6',\n",
       "  '__',\n",
       "  '___',\n",
       "  '__builtin__',\n",
       "  '__builtins__',\n",
       "  '__doc__',\n",
       "  '__loader__',\n",
       "  '__name__',\n",
       "  '__package__',\n",
       "  '__spec__',\n",
       "  '_dh',\n",
       "  '_i',\n",
       "  '_i1',\n",
       "  '_i10',\n",
       "  '_i11',\n",
       "  '_i12',\n",
       "  '_i13',\n",
       "  '_i14',\n",
       "  '_i15',\n",
       "  '_i16',\n",
       "  '_i17',\n",
       "  '_i18',\n",
       "  '_i19',\n",
       "  '_i2',\n",
       "  '_i20',\n",
       "  '_i21',\n",
       "  '_i22',\n",
       "  '_i23',\n",
       "  '_i24',\n",
       "  '_i25',\n",
       "  '_i26',\n",
       "  '_i27',\n",
       "  '_i28',\n",
       "  '_i29',\n",
       "  '_i3',\n",
       "  '_i30',\n",
       "  '_i31',\n",
       "  '_i32',\n",
       "  '_i4',\n",
       "  '_i5',\n",
       "  '_i6',\n",
       "  '_i7',\n",
       "  '_i8',\n",
       "  '_i9',\n",
       "  '_ih',\n",
       "  '_ii',\n",
       "  '_iii',\n",
       "  '_oh',\n",
       "  'basetwo',\n",
       "  'elem',\n",
       "  'elems',\n",
       "  'exit',\n",
       "  'f',\n",
       "  'functools',\n",
       "  'get_ipython',\n",
       "  'i',\n",
       "  'itertools',\n",
       "  'j',\n",
       "  'quit',\n",
       "  'ran',\n",
       "  'random',\n",
       "  'res',\n",
       "  'seq',\n",
       "  'seq_neg',\n",
       "  'seq_pos',\n",
       "  'seq_str',\n",
       "  'sequence',\n",
       "  'x'],\n",
       " '__': ['eti', 'qba', 'rme', 'tjf', 'wgo', 'yuv'],\n",
       " '___': [],\n",
       " '_i': 'dir()',\n",
       " '_ii': 'sorted(list(map(f, seq)))',\n",
       " '_iii': \"seq = zip('qwerty', 'bgtmju', 'aoiefvgoaygeyveroyvg')\\nf = ''.join\",\n",
       " '_i1': 'ran = range(10)\\n\\nnext(ran)',\n",
       " 'ran': range(0, 10),\n",
       " '_i2': 'list(map(lambda x: x > 0, range(-5, 5)))',\n",
       " '_2': [False, False, False, False, False, False, True, True, True, True],\n",
       " '_i3': '# Функция filter - возвращает фильтр-объект (генератор)\\nres = [y for y in filter(lambda x: x > 0, range(-5, 5))]\\n\\nprint(res)',\n",
       " 'res': [1, 2, 3, 4],\n",
       " '_i4': 'list(filter(lambda x: x > 0, range(-5, 5)))',\n",
       " '_4': [1, 2, 3, 4],\n",
       " '_i5': 'ran = range(10)\\n\\nnext(ran)',\n",
       " '_i6': 'iter(ran)',\n",
       " '_6': <range_iterator at 0x28aa34ff9d0>,\n",
       " '_i7': 'sequence = [1, 2, 3, 4, 5]',\n",
       " 'sequence': [1, 2, 3, 4, 5],\n",
       " '_i8': 'import functools\\n\\nhelp(functools.reduce)\\n\\nprint(functools.reduce(lambda x, y: x * y, sequence))',\n",
       " 'functools': <module 'functools' from 'C:\\\\Users\\\\user\\\\anaconda3\\\\lib\\\\functools.py'>,\n",
       " '_i9': 'import random\\n\\nseq = list(range(-10, 10))\\nrandom.shuffle(seq)\\n\\nseq_pos = filter(lambda x: (x > 0 and not x % 2), seq)\\nseq_neg = filter(lambda x: (x < 0 and not x % 3), seq)',\n",
       " 'random': <module 'random' from 'C:\\\\Users\\\\user\\\\anaconda3\\\\lib\\\\random.py'>,\n",
       " 'seq': <zip at 0x28aa3647540>,\n",
       " 'seq_pos': <filter at 0x28aa2bc9610>,\n",
       " 'seq_neg': <filter at 0x28aa2e0a7c0>,\n",
       " '_i10': 'functools.reduce(lambda x, y: x + y, list(seq_pos) + list(seq_neg))',\n",
       " '_10': 2,\n",
       " '_i11': 'functools.reduce(lambda x, y: x + y, list(seq_pos) + list(seq_neg))',\n",
       " '_i12': 'functools.reduce(lambda x, y: x + y, list(seq_pos) + list(seq_neg))',\n",
       " '_i13': 'import random\\n\\nseq = list(range(-10, 10))\\nrandom.shuffle(seq)\\n\\nseq_pos = filter(lambda x: (x > 0 and not x % 2), seq)\\nseq_neg = filter(lambda x: (x < 0 and not x % 3), seq)',\n",
       " '_i14': 'functools.reduce(lambda x, y: x + y, list(seq_pos) + list(seq_neg))',\n",
       " '_14': 2,\n",
       " '_i15': \"# The partial() is used for partial function application which “freezes” some portion of \\n# a function’s arguments and/or keywords resulting in a new object.\\n\\nbasetwo = functools.partial(int, base=2)\\nbasetwo.__doc__ = 'Convert base 2 string to an int.'\\nbasetwo('10010')\",\n",
       " 'basetwo': functools.partial(<class 'int'>, base=2),\n",
       " '_15': 18,\n",
       " '_i16': 'import itertools\\n\\n#Product: можно \"разворачивать\" циклы\\n\\nfor i in range(2):\\n    for j in \"abc\":\\n        print(i, j)\\n\\nprint()\\n\\n#Эквивалентно:\\nfor i, j in itertools.product(range(2), \"abc\"):\\n    print(i, j)',\n",
       " 'itertools': <module 'itertools' (built-in)>,\n",
       " 'i': 19,\n",
       " 'j': 'c',\n",
       " '_i17': 'list(itertools.permutations([1, 2, 3]))',\n",
       " '_17': [(1, 2, 3), (1, 3, 2), (2, 1, 3), (2, 3, 1), (3, 1, 2), (3, 2, 1)],\n",
       " '_i18': 'list(itertools.combinations([1, 2, 3], 2))',\n",
       " '_18': [(1, 2), (1, 3), (2, 3)],\n",
       " '_i19': 'list(itertools.combinations_with_replacement([1, 2, 3], 2))',\n",
       " '_19': [(1, 1), (1, 2), (1, 3), (2, 2), (2, 3), (3, 3)],\n",
       " '_i20': 'for x in itertools.count():\\n    print(x)\\n    if x > 3: break\\n    ',\n",
       " 'x': 2,\n",
       " '_i21': 'i = 0\\nfor x in itertools.cycle([1, 2, 3]):\\n    print(x)\\n    if i > 3: \\n        break\\n    i += 1',\n",
       " '_i22': 'for elems in zip(itertools.count(), \\n                 itertools.cycle([1, 2, 3]), \\n                 itertools.repeat(\"oak\"), \\n                 range(7)):\\n    print(elems)',\n",
       " 'elems': (6, 1, 'oak', 6),\n",
       " '_i23': 'list(itertools.islice(itertools.count(), 5))',\n",
       " '_23': [0, 1, 2, 3, 4],\n",
       " '_i24': \"for elem in zip(range(5), \\n                'qwertyui', \\n                (chr(x) for x in range(70, 78))):\\n    print(elem)\",\n",
       " 'elem': -1,\n",
       " '_i25': 'seq',\n",
       " '_25': [-9,\n",
       "  0,\n",
       "  -2,\n",
       "  -5,\n",
       "  2,\n",
       "  9,\n",
       "  -7,\n",
       "  -10,\n",
       "  4,\n",
       "  1,\n",
       "  -3,\n",
       "  7,\n",
       "  -4,\n",
       "  3,\n",
       "  5,\n",
       "  -6,\n",
       "  6,\n",
       "  -8,\n",
       "  8,\n",
       "  -1],\n",
       " '_i26': 'for i, elem in enumerate(seq):\\n    print(f\"{i = }, {elem = }\")',\n",
       " '_i27': 'seq_str = map(str, seq)',\n",
       " 'seq_str': <map at 0x28aa2bcd190>,\n",
       " '_i28': 'list(zip(seq, seq_str))',\n",
       " '_28': [(-9, '-9'),\n",
       "  (0, '0'),\n",
       "  (-2, '-2'),\n",
       "  (-5, '-5'),\n",
       "  (2, '2'),\n",
       "  (9, '9'),\n",
       "  (-7, '-7'),\n",
       "  (-10, '-10'),\n",
       "  (4, '4'),\n",
       "  (1, '1'),\n",
       "  (-3, '-3'),\n",
       "  (7, '7'),\n",
       "  (-4, '-4'),\n",
       "  (3, '3'),\n",
       "  (5, '5'),\n",
       "  (-6, '-6'),\n",
       "  (6, '6'),\n",
       "  (-8, '-8'),\n",
       "  (8, '8'),\n",
       "  (-1, '-1')],\n",
       " '_i29': 'list(enumerate(zip(seq, seq_str)))',\n",
       " '_29': [],\n",
       " '_i30': \"seq = zip('qwerty', 'bgtmju', 'aoiefvgoaygeyveroyvg')\\nf = ''.join\",\n",
       " 'f': <function str.join(iterable, /)>,\n",
       " '_i31': 'sorted(list(map(f, seq)))',\n",
       " '_31': ['eti', 'qba', 'rme', 'tjf', 'wgo', 'yuv'],\n",
       " '_i32': 'dir()',\n",
       " '_32': ['In',\n",
       "  'Out',\n",
       "  '_',\n",
       "  '_10',\n",
       "  '_14',\n",
       "  '_15',\n",
       "  '_17',\n",
       "  '_18',\n",
       "  '_19',\n",
       "  '_2',\n",
       "  '_23',\n",
       "  '_25',\n",
       "  '_28',\n",
       "  '_29',\n",
       "  '_31',\n",
       "  '_4',\n",
       "  '_6',\n",
       "  '__',\n",
       "  '___',\n",
       "  '__builtin__',\n",
       "  '__builtins__',\n",
       "  '__doc__',\n",
       "  '__loader__',\n",
       "  '__name__',\n",
       "  '__package__',\n",
       "  '__spec__',\n",
       "  '_dh',\n",
       "  '_i',\n",
       "  '_i1',\n",
       "  '_i10',\n",
       "  '_i11',\n",
       "  '_i12',\n",
       "  '_i13',\n",
       "  '_i14',\n",
       "  '_i15',\n",
       "  '_i16',\n",
       "  '_i17',\n",
       "  '_i18',\n",
       "  '_i19',\n",
       "  '_i2',\n",
       "  '_i20',\n",
       "  '_i21',\n",
       "  '_i22',\n",
       "  '_i23',\n",
       "  '_i24',\n",
       "  '_i25',\n",
       "  '_i26',\n",
       "  '_i27',\n",
       "  '_i28',\n",
       "  '_i29',\n",
       "  '_i3',\n",
       "  '_i30',\n",
       "  '_i31',\n",
       "  '_i32',\n",
       "  '_i4',\n",
       "  '_i5',\n",
       "  '_i6',\n",
       "  '_i7',\n",
       "  '_i8',\n",
       "  '_i9',\n",
       "  '_ih',\n",
       "  '_ii',\n",
       "  '_iii',\n",
       "  '_oh',\n",
       "  'basetwo',\n",
       "  'elem',\n",
       "  'elems',\n",
       "  'exit',\n",
       "  'f',\n",
       "  'functools',\n",
       "  'get_ipython',\n",
       "  'i',\n",
       "  'itertools',\n",
       "  'j',\n",
       "  'quit',\n",
       "  'ran',\n",
       "  'random',\n",
       "  'res',\n",
       "  'seq',\n",
       "  'seq_neg',\n",
       "  'seq_pos',\n",
       "  'seq_str',\n",
       "  'sequence',\n",
       "  'x'],\n",
       " '_i33': 'globals()'}"
      ]
     },
     "execution_count": 33,
     "metadata": {},
     "output_type": "execute_result"
    }
   ],
   "source": [
    "globals()"
   ]
  },
  {
   "cell_type": "code",
   "execution_count": 34,
   "id": "47a3fc5b",
   "metadata": {},
   "outputs": [
    {
     "data": {
      "text/plain": [
       "{'__name__': '__main__',\n",
       " '__doc__': 'Automatically created module for IPython interactive environment',\n",
       " '__package__': None,\n",
       " '__loader__': None,\n",
       " '__spec__': None,\n",
       " '__builtin__': <module 'builtins' (built-in)>,\n",
       " '__builtins__': <module 'builtins' (built-in)>,\n",
       " '_ih': ['',\n",
       "  'ran = range(10)\\n\\nnext(ran)',\n",
       "  'list(map(lambda x: x > 0, range(-5, 5)))',\n",
       "  '# Функция filter - возвращает фильтр-объект (генератор)\\nres = [y for y in filter(lambda x: x > 0, range(-5, 5))]\\n\\nprint(res)',\n",
       "  'list(filter(lambda x: x > 0, range(-5, 5)))',\n",
       "  'ran = range(10)\\n\\nnext(ran)',\n",
       "  'iter(ran)',\n",
       "  'sequence = [1, 2, 3, 4, 5]',\n",
       "  'import functools\\n\\nhelp(functools.reduce)\\n\\nprint(functools.reduce(lambda x, y: x * y, sequence))',\n",
       "  'import random\\n\\nseq = list(range(-10, 10))\\nrandom.shuffle(seq)\\n\\nseq_pos = filter(lambda x: (x > 0 and not x % 2), seq)\\nseq_neg = filter(lambda x: (x < 0 and not x % 3), seq)',\n",
       "  'functools.reduce(lambda x, y: x + y, list(seq_pos) + list(seq_neg))',\n",
       "  'functools.reduce(lambda x, y: x + y, list(seq_pos) + list(seq_neg))',\n",
       "  'functools.reduce(lambda x, y: x + y, list(seq_pos) + list(seq_neg))',\n",
       "  'import random\\n\\nseq = list(range(-10, 10))\\nrandom.shuffle(seq)\\n\\nseq_pos = filter(lambda x: (x > 0 and not x % 2), seq)\\nseq_neg = filter(lambda x: (x < 0 and not x % 3), seq)',\n",
       "  'functools.reduce(lambda x, y: x + y, list(seq_pos) + list(seq_neg))',\n",
       "  \"# The partial() is used for partial function application which “freezes” some portion of \\n# a function’s arguments and/or keywords resulting in a new object.\\n\\nbasetwo = functools.partial(int, base=2)\\nbasetwo.__doc__ = 'Convert base 2 string to an int.'\\nbasetwo('10010')\",\n",
       "  'import itertools\\n\\n#Product: можно \"разворачивать\" циклы\\n\\nfor i in range(2):\\n    for j in \"abc\":\\n        print(i, j)\\n\\nprint()\\n\\n#Эквивалентно:\\nfor i, j in itertools.product(range(2), \"abc\"):\\n    print(i, j)',\n",
       "  'list(itertools.permutations([1, 2, 3]))',\n",
       "  'list(itertools.combinations([1, 2, 3], 2))',\n",
       "  'list(itertools.combinations_with_replacement([1, 2, 3], 2))',\n",
       "  'for x in itertools.count():\\n    print(x)\\n    if x > 3: break\\n    ',\n",
       "  'i = 0\\nfor x in itertools.cycle([1, 2, 3]):\\n    print(x)\\n    if i > 3: \\n        break\\n    i += 1',\n",
       "  'for elems in zip(itertools.count(), \\n                 itertools.cycle([1, 2, 3]), \\n                 itertools.repeat(\"oak\"), \\n                 range(7)):\\n    print(elems)',\n",
       "  'list(itertools.islice(itertools.count(), 5))',\n",
       "  \"for elem in zip(range(5), \\n                'qwertyui', \\n                (chr(x) for x in range(70, 78))):\\n    print(elem)\",\n",
       "  'seq',\n",
       "  'for i, elem in enumerate(seq):\\n    print(f\"{i = }, {elem = }\")',\n",
       "  'seq_str = map(str, seq)',\n",
       "  'list(zip(seq, seq_str))',\n",
       "  'list(enumerate(zip(seq, seq_str)))',\n",
       "  \"seq = zip('qwerty', 'bgtmju', 'aoiefvgoaygeyveroyvg')\\nf = ''.join\",\n",
       "  'sorted(list(map(f, seq)))',\n",
       "  'dir()',\n",
       "  'globals()',\n",
       "  'locals()'],\n",
       " '_oh': {2: [False, False, False, False, False, False, True, True, True, True],\n",
       "  4: [1, 2, 3, 4],\n",
       "  6: <range_iterator at 0x28aa34ff9d0>,\n",
       "  10: 2,\n",
       "  14: 2,\n",
       "  15: 18,\n",
       "  17: [(1, 2, 3), (1, 3, 2), (2, 1, 3), (2, 3, 1), (3, 1, 2), (3, 2, 1)],\n",
       "  18: [(1, 2), (1, 3), (2, 3)],\n",
       "  19: [(1, 1), (1, 2), (1, 3), (2, 2), (2, 3), (3, 3)],\n",
       "  23: [0, 1, 2, 3, 4],\n",
       "  25: [-9, 0, -2, -5, 2, 9, -7, -10, 4, 1, -3, 7, -4, 3, 5, -6, 6, -8, 8, -1],\n",
       "  28: [(-9, '-9'),\n",
       "   (0, '0'),\n",
       "   (-2, '-2'),\n",
       "   (-5, '-5'),\n",
       "   (2, '2'),\n",
       "   (9, '9'),\n",
       "   (-7, '-7'),\n",
       "   (-10, '-10'),\n",
       "   (4, '4'),\n",
       "   (1, '1'),\n",
       "   (-3, '-3'),\n",
       "   (7, '7'),\n",
       "   (-4, '-4'),\n",
       "   (3, '3'),\n",
       "   (5, '5'),\n",
       "   (-6, '-6'),\n",
       "   (6, '6'),\n",
       "   (-8, '-8'),\n",
       "   (8, '8'),\n",
       "   (-1, '-1')],\n",
       "  29: [],\n",
       "  31: ['eti', 'qba', 'rme', 'tjf', 'wgo', 'yuv'],\n",
       "  32: ['In',\n",
       "   'Out',\n",
       "   '_',\n",
       "   '_10',\n",
       "   '_14',\n",
       "   '_15',\n",
       "   '_17',\n",
       "   '_18',\n",
       "   '_19',\n",
       "   '_2',\n",
       "   '_23',\n",
       "   '_25',\n",
       "   '_28',\n",
       "   '_29',\n",
       "   '_31',\n",
       "   '_4',\n",
       "   '_6',\n",
       "   '__',\n",
       "   '___',\n",
       "   '__builtin__',\n",
       "   '__builtins__',\n",
       "   '__doc__',\n",
       "   '__loader__',\n",
       "   '__name__',\n",
       "   '__package__',\n",
       "   '__spec__',\n",
       "   '_dh',\n",
       "   '_i',\n",
       "   '_i1',\n",
       "   '_i10',\n",
       "   '_i11',\n",
       "   '_i12',\n",
       "   '_i13',\n",
       "   '_i14',\n",
       "   '_i15',\n",
       "   '_i16',\n",
       "   '_i17',\n",
       "   '_i18',\n",
       "   '_i19',\n",
       "   '_i2',\n",
       "   '_i20',\n",
       "   '_i21',\n",
       "   '_i22',\n",
       "   '_i23',\n",
       "   '_i24',\n",
       "   '_i25',\n",
       "   '_i26',\n",
       "   '_i27',\n",
       "   '_i28',\n",
       "   '_i29',\n",
       "   '_i3',\n",
       "   '_i30',\n",
       "   '_i31',\n",
       "   '_i32',\n",
       "   '_i4',\n",
       "   '_i5',\n",
       "   '_i6',\n",
       "   '_i7',\n",
       "   '_i8',\n",
       "   '_i9',\n",
       "   '_ih',\n",
       "   '_ii',\n",
       "   '_iii',\n",
       "   '_oh',\n",
       "   'basetwo',\n",
       "   'elem',\n",
       "   'elems',\n",
       "   'exit',\n",
       "   'f',\n",
       "   'functools',\n",
       "   'get_ipython',\n",
       "   'i',\n",
       "   'itertools',\n",
       "   'j',\n",
       "   'quit',\n",
       "   'ran',\n",
       "   'random',\n",
       "   'res',\n",
       "   'seq',\n",
       "   'seq_neg',\n",
       "   'seq_pos',\n",
       "   'seq_str',\n",
       "   'sequence',\n",
       "   'x'],\n",
       "  33: {...}},\n",
       " '_dh': [WindowsPath('C:/Users/user/01. MPTI - DataScientist/01. Python и методы машинного обучения')],\n",
       " 'In': ['',\n",
       "  'ran = range(10)\\n\\nnext(ran)',\n",
       "  'list(map(lambda x: x > 0, range(-5, 5)))',\n",
       "  '# Функция filter - возвращает фильтр-объект (генератор)\\nres = [y for y in filter(lambda x: x > 0, range(-5, 5))]\\n\\nprint(res)',\n",
       "  'list(filter(lambda x: x > 0, range(-5, 5)))',\n",
       "  'ran = range(10)\\n\\nnext(ran)',\n",
       "  'iter(ran)',\n",
       "  'sequence = [1, 2, 3, 4, 5]',\n",
       "  'import functools\\n\\nhelp(functools.reduce)\\n\\nprint(functools.reduce(lambda x, y: x * y, sequence))',\n",
       "  'import random\\n\\nseq = list(range(-10, 10))\\nrandom.shuffle(seq)\\n\\nseq_pos = filter(lambda x: (x > 0 and not x % 2), seq)\\nseq_neg = filter(lambda x: (x < 0 and not x % 3), seq)',\n",
       "  'functools.reduce(lambda x, y: x + y, list(seq_pos) + list(seq_neg))',\n",
       "  'functools.reduce(lambda x, y: x + y, list(seq_pos) + list(seq_neg))',\n",
       "  'functools.reduce(lambda x, y: x + y, list(seq_pos) + list(seq_neg))',\n",
       "  'import random\\n\\nseq = list(range(-10, 10))\\nrandom.shuffle(seq)\\n\\nseq_pos = filter(lambda x: (x > 0 and not x % 2), seq)\\nseq_neg = filter(lambda x: (x < 0 and not x % 3), seq)',\n",
       "  'functools.reduce(lambda x, y: x + y, list(seq_pos) + list(seq_neg))',\n",
       "  \"# The partial() is used for partial function application which “freezes” some portion of \\n# a function’s arguments and/or keywords resulting in a new object.\\n\\nbasetwo = functools.partial(int, base=2)\\nbasetwo.__doc__ = 'Convert base 2 string to an int.'\\nbasetwo('10010')\",\n",
       "  'import itertools\\n\\n#Product: можно \"разворачивать\" циклы\\n\\nfor i in range(2):\\n    for j in \"abc\":\\n        print(i, j)\\n\\nprint()\\n\\n#Эквивалентно:\\nfor i, j in itertools.product(range(2), \"abc\"):\\n    print(i, j)',\n",
       "  'list(itertools.permutations([1, 2, 3]))',\n",
       "  'list(itertools.combinations([1, 2, 3], 2))',\n",
       "  'list(itertools.combinations_with_replacement([1, 2, 3], 2))',\n",
       "  'for x in itertools.count():\\n    print(x)\\n    if x > 3: break\\n    ',\n",
       "  'i = 0\\nfor x in itertools.cycle([1, 2, 3]):\\n    print(x)\\n    if i > 3: \\n        break\\n    i += 1',\n",
       "  'for elems in zip(itertools.count(), \\n                 itertools.cycle([1, 2, 3]), \\n                 itertools.repeat(\"oak\"), \\n                 range(7)):\\n    print(elems)',\n",
       "  'list(itertools.islice(itertools.count(), 5))',\n",
       "  \"for elem in zip(range(5), \\n                'qwertyui', \\n                (chr(x) for x in range(70, 78))):\\n    print(elem)\",\n",
       "  'seq',\n",
       "  'for i, elem in enumerate(seq):\\n    print(f\"{i = }, {elem = }\")',\n",
       "  'seq_str = map(str, seq)',\n",
       "  'list(zip(seq, seq_str))',\n",
       "  'list(enumerate(zip(seq, seq_str)))',\n",
       "  \"seq = zip('qwerty', 'bgtmju', 'aoiefvgoaygeyveroyvg')\\nf = ''.join\",\n",
       "  'sorted(list(map(f, seq)))',\n",
       "  'dir()',\n",
       "  'globals()',\n",
       "  'locals()'],\n",
       " 'Out': {2: [False, False, False, False, False, False, True, True, True, True],\n",
       "  4: [1, 2, 3, 4],\n",
       "  6: <range_iterator at 0x28aa34ff9d0>,\n",
       "  10: 2,\n",
       "  14: 2,\n",
       "  15: 18,\n",
       "  17: [(1, 2, 3), (1, 3, 2), (2, 1, 3), (2, 3, 1), (3, 1, 2), (3, 2, 1)],\n",
       "  18: [(1, 2), (1, 3), (2, 3)],\n",
       "  19: [(1, 1), (1, 2), (1, 3), (2, 2), (2, 3), (3, 3)],\n",
       "  23: [0, 1, 2, 3, 4],\n",
       "  25: [-9, 0, -2, -5, 2, 9, -7, -10, 4, 1, -3, 7, -4, 3, 5, -6, 6, -8, 8, -1],\n",
       "  28: [(-9, '-9'),\n",
       "   (0, '0'),\n",
       "   (-2, '-2'),\n",
       "   (-5, '-5'),\n",
       "   (2, '2'),\n",
       "   (9, '9'),\n",
       "   (-7, '-7'),\n",
       "   (-10, '-10'),\n",
       "   (4, '4'),\n",
       "   (1, '1'),\n",
       "   (-3, '-3'),\n",
       "   (7, '7'),\n",
       "   (-4, '-4'),\n",
       "   (3, '3'),\n",
       "   (5, '5'),\n",
       "   (-6, '-6'),\n",
       "   (6, '6'),\n",
       "   (-8, '-8'),\n",
       "   (8, '8'),\n",
       "   (-1, '-1')],\n",
       "  29: [],\n",
       "  31: ['eti', 'qba', 'rme', 'tjf', 'wgo', 'yuv'],\n",
       "  32: ['In',\n",
       "   'Out',\n",
       "   '_',\n",
       "   '_10',\n",
       "   '_14',\n",
       "   '_15',\n",
       "   '_17',\n",
       "   '_18',\n",
       "   '_19',\n",
       "   '_2',\n",
       "   '_23',\n",
       "   '_25',\n",
       "   '_28',\n",
       "   '_29',\n",
       "   '_31',\n",
       "   '_4',\n",
       "   '_6',\n",
       "   '__',\n",
       "   '___',\n",
       "   '__builtin__',\n",
       "   '__builtins__',\n",
       "   '__doc__',\n",
       "   '__loader__',\n",
       "   '__name__',\n",
       "   '__package__',\n",
       "   '__spec__',\n",
       "   '_dh',\n",
       "   '_i',\n",
       "   '_i1',\n",
       "   '_i10',\n",
       "   '_i11',\n",
       "   '_i12',\n",
       "   '_i13',\n",
       "   '_i14',\n",
       "   '_i15',\n",
       "   '_i16',\n",
       "   '_i17',\n",
       "   '_i18',\n",
       "   '_i19',\n",
       "   '_i2',\n",
       "   '_i20',\n",
       "   '_i21',\n",
       "   '_i22',\n",
       "   '_i23',\n",
       "   '_i24',\n",
       "   '_i25',\n",
       "   '_i26',\n",
       "   '_i27',\n",
       "   '_i28',\n",
       "   '_i29',\n",
       "   '_i3',\n",
       "   '_i30',\n",
       "   '_i31',\n",
       "   '_i32',\n",
       "   '_i4',\n",
       "   '_i5',\n",
       "   '_i6',\n",
       "   '_i7',\n",
       "   '_i8',\n",
       "   '_i9',\n",
       "   '_ih',\n",
       "   '_ii',\n",
       "   '_iii',\n",
       "   '_oh',\n",
       "   'basetwo',\n",
       "   'elem',\n",
       "   'elems',\n",
       "   'exit',\n",
       "   'f',\n",
       "   'functools',\n",
       "   'get_ipython',\n",
       "   'i',\n",
       "   'itertools',\n",
       "   'j',\n",
       "   'quit',\n",
       "   'ran',\n",
       "   'random',\n",
       "   'res',\n",
       "   'seq',\n",
       "   'seq_neg',\n",
       "   'seq_pos',\n",
       "   'seq_str',\n",
       "   'sequence',\n",
       "   'x'],\n",
       "  33: {...}},\n",
       " 'get_ipython': <bound method InteractiveShell.get_ipython of <ipykernel.zmqshell.ZMQInteractiveShell object at 0x0000028AA1AAF9D0>>,\n",
       " 'exit': <IPython.core.autocall.ZMQExitAutocall at 0x28aa1a6f640>,\n",
       " 'quit': <IPython.core.autocall.ZMQExitAutocall at 0x28aa1a6f640>,\n",
       " '_': {...},\n",
       " '__': ['In',\n",
       "  'Out',\n",
       "  '_',\n",
       "  '_10',\n",
       "  '_14',\n",
       "  '_15',\n",
       "  '_17',\n",
       "  '_18',\n",
       "  '_19',\n",
       "  '_2',\n",
       "  '_23',\n",
       "  '_25',\n",
       "  '_28',\n",
       "  '_29',\n",
       "  '_31',\n",
       "  '_4',\n",
       "  '_6',\n",
       "  '__',\n",
       "  '___',\n",
       "  '__builtin__',\n",
       "  '__builtins__',\n",
       "  '__doc__',\n",
       "  '__loader__',\n",
       "  '__name__',\n",
       "  '__package__',\n",
       "  '__spec__',\n",
       "  '_dh',\n",
       "  '_i',\n",
       "  '_i1',\n",
       "  '_i10',\n",
       "  '_i11',\n",
       "  '_i12',\n",
       "  '_i13',\n",
       "  '_i14',\n",
       "  '_i15',\n",
       "  '_i16',\n",
       "  '_i17',\n",
       "  '_i18',\n",
       "  '_i19',\n",
       "  '_i2',\n",
       "  '_i20',\n",
       "  '_i21',\n",
       "  '_i22',\n",
       "  '_i23',\n",
       "  '_i24',\n",
       "  '_i25',\n",
       "  '_i26',\n",
       "  '_i27',\n",
       "  '_i28',\n",
       "  '_i29',\n",
       "  '_i3',\n",
       "  '_i30',\n",
       "  '_i31',\n",
       "  '_i32',\n",
       "  '_i4',\n",
       "  '_i5',\n",
       "  '_i6',\n",
       "  '_i7',\n",
       "  '_i8',\n",
       "  '_i9',\n",
       "  '_ih',\n",
       "  '_ii',\n",
       "  '_iii',\n",
       "  '_oh',\n",
       "  'basetwo',\n",
       "  'elem',\n",
       "  'elems',\n",
       "  'exit',\n",
       "  'f',\n",
       "  'functools',\n",
       "  'get_ipython',\n",
       "  'i',\n",
       "  'itertools',\n",
       "  'j',\n",
       "  'quit',\n",
       "  'ran',\n",
       "  'random',\n",
       "  'res',\n",
       "  'seq',\n",
       "  'seq_neg',\n",
       "  'seq_pos',\n",
       "  'seq_str',\n",
       "  'sequence',\n",
       "  'x'],\n",
       " '___': ['eti', 'qba', 'rme', 'tjf', 'wgo', 'yuv'],\n",
       " '_i': 'globals()',\n",
       " '_ii': 'dir()',\n",
       " '_iii': 'sorted(list(map(f, seq)))',\n",
       " '_i1': 'ran = range(10)\\n\\nnext(ran)',\n",
       " 'ran': range(0, 10),\n",
       " '_i2': 'list(map(lambda x: x > 0, range(-5, 5)))',\n",
       " '_2': [False, False, False, False, False, False, True, True, True, True],\n",
       " '_i3': '# Функция filter - возвращает фильтр-объект (генератор)\\nres = [y for y in filter(lambda x: x > 0, range(-5, 5))]\\n\\nprint(res)',\n",
       " 'res': [1, 2, 3, 4],\n",
       " '_i4': 'list(filter(lambda x: x > 0, range(-5, 5)))',\n",
       " '_4': [1, 2, 3, 4],\n",
       " '_i5': 'ran = range(10)\\n\\nnext(ran)',\n",
       " '_i6': 'iter(ran)',\n",
       " '_6': <range_iterator at 0x28aa34ff9d0>,\n",
       " '_i7': 'sequence = [1, 2, 3, 4, 5]',\n",
       " 'sequence': [1, 2, 3, 4, 5],\n",
       " '_i8': 'import functools\\n\\nhelp(functools.reduce)\\n\\nprint(functools.reduce(lambda x, y: x * y, sequence))',\n",
       " 'functools': <module 'functools' from 'C:\\\\Users\\\\user\\\\anaconda3\\\\lib\\\\functools.py'>,\n",
       " '_i9': 'import random\\n\\nseq = list(range(-10, 10))\\nrandom.shuffle(seq)\\n\\nseq_pos = filter(lambda x: (x > 0 and not x % 2), seq)\\nseq_neg = filter(lambda x: (x < 0 and not x % 3), seq)',\n",
       " 'random': <module 'random' from 'C:\\\\Users\\\\user\\\\anaconda3\\\\lib\\\\random.py'>,\n",
       " 'seq': <zip at 0x28aa3647540>,\n",
       " 'seq_pos': <filter at 0x28aa2bc9610>,\n",
       " 'seq_neg': <filter at 0x28aa2e0a7c0>,\n",
       " '_i10': 'functools.reduce(lambda x, y: x + y, list(seq_pos) + list(seq_neg))',\n",
       " '_10': 2,\n",
       " '_i11': 'functools.reduce(lambda x, y: x + y, list(seq_pos) + list(seq_neg))',\n",
       " '_i12': 'functools.reduce(lambda x, y: x + y, list(seq_pos) + list(seq_neg))',\n",
       " '_i13': 'import random\\n\\nseq = list(range(-10, 10))\\nrandom.shuffle(seq)\\n\\nseq_pos = filter(lambda x: (x > 0 and not x % 2), seq)\\nseq_neg = filter(lambda x: (x < 0 and not x % 3), seq)',\n",
       " '_i14': 'functools.reduce(lambda x, y: x + y, list(seq_pos) + list(seq_neg))',\n",
       " '_14': 2,\n",
       " '_i15': \"# The partial() is used for partial function application which “freezes” some portion of \\n# a function’s arguments and/or keywords resulting in a new object.\\n\\nbasetwo = functools.partial(int, base=2)\\nbasetwo.__doc__ = 'Convert base 2 string to an int.'\\nbasetwo('10010')\",\n",
       " 'basetwo': functools.partial(<class 'int'>, base=2),\n",
       " '_15': 18,\n",
       " '_i16': 'import itertools\\n\\n#Product: можно \"разворачивать\" циклы\\n\\nfor i in range(2):\\n    for j in \"abc\":\\n        print(i, j)\\n\\nprint()\\n\\n#Эквивалентно:\\nfor i, j in itertools.product(range(2), \"abc\"):\\n    print(i, j)',\n",
       " 'itertools': <module 'itertools' (built-in)>,\n",
       " 'i': 19,\n",
       " 'j': 'c',\n",
       " '_i17': 'list(itertools.permutations([1, 2, 3]))',\n",
       " '_17': [(1, 2, 3), (1, 3, 2), (2, 1, 3), (2, 3, 1), (3, 1, 2), (3, 2, 1)],\n",
       " '_i18': 'list(itertools.combinations([1, 2, 3], 2))',\n",
       " '_18': [(1, 2), (1, 3), (2, 3)],\n",
       " '_i19': 'list(itertools.combinations_with_replacement([1, 2, 3], 2))',\n",
       " '_19': [(1, 1), (1, 2), (1, 3), (2, 2), (2, 3), (3, 3)],\n",
       " '_i20': 'for x in itertools.count():\\n    print(x)\\n    if x > 3: break\\n    ',\n",
       " 'x': 2,\n",
       " '_i21': 'i = 0\\nfor x in itertools.cycle([1, 2, 3]):\\n    print(x)\\n    if i > 3: \\n        break\\n    i += 1',\n",
       " '_i22': 'for elems in zip(itertools.count(), \\n                 itertools.cycle([1, 2, 3]), \\n                 itertools.repeat(\"oak\"), \\n                 range(7)):\\n    print(elems)',\n",
       " 'elems': (6, 1, 'oak', 6),\n",
       " '_i23': 'list(itertools.islice(itertools.count(), 5))',\n",
       " '_23': [0, 1, 2, 3, 4],\n",
       " '_i24': \"for elem in zip(range(5), \\n                'qwertyui', \\n                (chr(x) for x in range(70, 78))):\\n    print(elem)\",\n",
       " 'elem': -1,\n",
       " '_i25': 'seq',\n",
       " '_25': [-9,\n",
       "  0,\n",
       "  -2,\n",
       "  -5,\n",
       "  2,\n",
       "  9,\n",
       "  -7,\n",
       "  -10,\n",
       "  4,\n",
       "  1,\n",
       "  -3,\n",
       "  7,\n",
       "  -4,\n",
       "  3,\n",
       "  5,\n",
       "  -6,\n",
       "  6,\n",
       "  -8,\n",
       "  8,\n",
       "  -1],\n",
       " '_i26': 'for i, elem in enumerate(seq):\\n    print(f\"{i = }, {elem = }\")',\n",
       " '_i27': 'seq_str = map(str, seq)',\n",
       " 'seq_str': <map at 0x28aa2bcd190>,\n",
       " '_i28': 'list(zip(seq, seq_str))',\n",
       " '_28': [(-9, '-9'),\n",
       "  (0, '0'),\n",
       "  (-2, '-2'),\n",
       "  (-5, '-5'),\n",
       "  (2, '2'),\n",
       "  (9, '9'),\n",
       "  (-7, '-7'),\n",
       "  (-10, '-10'),\n",
       "  (4, '4'),\n",
       "  (1, '1'),\n",
       "  (-3, '-3'),\n",
       "  (7, '7'),\n",
       "  (-4, '-4'),\n",
       "  (3, '3'),\n",
       "  (5, '5'),\n",
       "  (-6, '-6'),\n",
       "  (6, '6'),\n",
       "  (-8, '-8'),\n",
       "  (8, '8'),\n",
       "  (-1, '-1')],\n",
       " '_i29': 'list(enumerate(zip(seq, seq_str)))',\n",
       " '_29': [],\n",
       " '_i30': \"seq = zip('qwerty', 'bgtmju', 'aoiefvgoaygeyveroyvg')\\nf = ''.join\",\n",
       " 'f': <function str.join(iterable, /)>,\n",
       " '_i31': 'sorted(list(map(f, seq)))',\n",
       " '_31': ['eti', 'qba', 'rme', 'tjf', 'wgo', 'yuv'],\n",
       " '_i32': 'dir()',\n",
       " '_32': ['In',\n",
       "  'Out',\n",
       "  '_',\n",
       "  '_10',\n",
       "  '_14',\n",
       "  '_15',\n",
       "  '_17',\n",
       "  '_18',\n",
       "  '_19',\n",
       "  '_2',\n",
       "  '_23',\n",
       "  '_25',\n",
       "  '_28',\n",
       "  '_29',\n",
       "  '_31',\n",
       "  '_4',\n",
       "  '_6',\n",
       "  '__',\n",
       "  '___',\n",
       "  '__builtin__',\n",
       "  '__builtins__',\n",
       "  '__doc__',\n",
       "  '__loader__',\n",
       "  '__name__',\n",
       "  '__package__',\n",
       "  '__spec__',\n",
       "  '_dh',\n",
       "  '_i',\n",
       "  '_i1',\n",
       "  '_i10',\n",
       "  '_i11',\n",
       "  '_i12',\n",
       "  '_i13',\n",
       "  '_i14',\n",
       "  '_i15',\n",
       "  '_i16',\n",
       "  '_i17',\n",
       "  '_i18',\n",
       "  '_i19',\n",
       "  '_i2',\n",
       "  '_i20',\n",
       "  '_i21',\n",
       "  '_i22',\n",
       "  '_i23',\n",
       "  '_i24',\n",
       "  '_i25',\n",
       "  '_i26',\n",
       "  '_i27',\n",
       "  '_i28',\n",
       "  '_i29',\n",
       "  '_i3',\n",
       "  '_i30',\n",
       "  '_i31',\n",
       "  '_i32',\n",
       "  '_i4',\n",
       "  '_i5',\n",
       "  '_i6',\n",
       "  '_i7',\n",
       "  '_i8',\n",
       "  '_i9',\n",
       "  '_ih',\n",
       "  '_ii',\n",
       "  '_iii',\n",
       "  '_oh',\n",
       "  'basetwo',\n",
       "  'elem',\n",
       "  'elems',\n",
       "  'exit',\n",
       "  'f',\n",
       "  'functools',\n",
       "  'get_ipython',\n",
       "  'i',\n",
       "  'itertools',\n",
       "  'j',\n",
       "  'quit',\n",
       "  'ran',\n",
       "  'random',\n",
       "  'res',\n",
       "  'seq',\n",
       "  'seq_neg',\n",
       "  'seq_pos',\n",
       "  'seq_str',\n",
       "  'sequence',\n",
       "  'x'],\n",
       " '_i33': 'globals()',\n",
       " '_33': {...},\n",
       " '_i34': 'locals()'}"
      ]
     },
     "execution_count": 34,
     "metadata": {},
     "output_type": "execute_result"
    }
   ],
   "source": [
    "locals()"
   ]
  },
  {
   "cell_type": "code",
   "execution_count": 35,
   "id": "b98d3fb6",
   "metadata": {},
   "outputs": [
    {
     "data": {
      "text/plain": [
       "True"
      ]
     },
     "execution_count": 35,
     "metadata": {},
     "output_type": "execute_result"
    }
   ],
   "source": [
    "locals() is globals()"
   ]
  },
  {
   "cell_type": "code",
   "execution_count": 36,
   "id": "e1414625",
   "metadata": {},
   "outputs": [
    {
     "name": "stdout",
     "output_type": "stream",
     "text": [
      "42\n",
      "100500\n"
     ]
    }
   ],
   "source": [
    "value = 42\n",
    "print(globals()['value'])\n",
    "\n",
    "globals()['value'] = 100500\n",
    "print(value)"
   ]
  },
  {
   "cell_type": "markdown",
   "id": "a8a78a1c",
   "metadata": {
    "slideshow": {
     "slide_type": "subslide"
    }
   },
   "source": [
    "#### Циклы и условия не создают своё пространство имён"
   ]
  },
  {
   "cell_type": "code",
   "execution_count": 37,
   "id": "90c8680e",
   "metadata": {},
   "outputs": [
    {
     "name": "stdout",
     "output_type": "stream",
     "text": [
      "loop_counter = 0\n",
      "loop_counter = 1\n",
      "loop_counter = 2\n",
      "loop_counter = 3\n",
      "loop_counter = 4\n",
      "loop_counter = 5\n",
      "loop_counter = 6\n",
      "loop_counter = 7\n",
      "loop_counter = 8\n",
      "loop_counter = 9\n",
      "9\n",
      "1\n",
      "2\n"
     ]
    }
   ],
   "source": [
    "if True:\n",
    "    value_assigned_in_if = 1\n",
    "    \n",
    "for loop_counter in range(10):\n",
    "    print(f'{loop_counter = }')\n",
    "    value_assigned_in_for = 2\n",
    "    \n",
    "print(loop_counter)\n",
    "print(value_assigned_in_if)\n",
    "print(value_assigned_in_for)"
   ]
  },
  {
   "cell_type": "markdown",
   "id": "5aa1c129",
   "metadata": {
    "slideshow": {
     "slide_type": "subslide"
    }
   },
   "source": [
    "#### Функции создают своё пространство имён"
   ]
  },
  {
   "cell_type": "code",
   "execution_count": 38,
   "id": "6fe17777",
   "metadata": {},
   "outputs": [
    {
     "name": "stdout",
     "output_type": "stream",
     "text": [
      "value = 1\n",
      "locals: 1\n",
      "globals: 0\n",
      "value = 0\n"
     ]
    }
   ],
   "source": [
    "value = 0\n",
    "\n",
    "def foo():\n",
    "    value = 1\n",
    "    print(f'{value = }')\n",
    "    \n",
    "    print('locals:', locals()['value'])\n",
    "    print('globals:', globals()['value'])\n",
    "    \n",
    "foo()\n",
    "print(f'{value = }')"
   ]
  },
  {
   "cell_type": "markdown",
   "id": "c56de43a",
   "metadata": {
    "slideshow": {
     "slide_type": "slide"
    }
   },
   "source": [
    "## Область видимости (scope) LEGB\n",
    "\n",
    "Правило LEGB:\n",
    "1. Local - имена, определенные внутри функции (и не помеченные global)\n",
    "2. Enclosing-function locals - имена в области видимости всех оборачивающих (enclosing) функций, в порядке уменьшения глубины\n",
    "3. Global - имена, определенные на уровне модуля или посредством global. Имена, которые мы определили сами. Все переменные, функции, импорты.\n",
    "4. Built-in - предопределенные (range, open, ...). Эти имена встроены в сам Python\n",
    "\n",
    "Данные цифры обозначют порядок в котором ведется поиск имени.\n",
    "\n",
    "1. Сначала выполняет поиск в локальной области видимости\n",
    "2. Далее идет поиск в оборачивающей функции\n",
    "3. После идут глобальные имена\n",
    "4. И в конце билт ИН"
   ]
  },
  {
   "cell_type": "code",
   "execution_count": 75,
   "id": "36023265",
   "metadata": {
    "slideshow": {
     "slide_type": "-"
    }
   },
   "outputs": [
    {
     "name": "stdout",
     "output_type": "stream",
     "text": [
      "bar local scope 3\n",
      "enclosing scope value 2\n",
      "global value 1\n"
     ]
    }
   ],
   "source": [
    "# global\n",
    "value = 1\n",
    "# global\n",
    "def foo():\n",
    "    # Local\n",
    "    value = 2\n",
    "    # Local\n",
    "    def bar():\n",
    "        # Local\n",
    "        value = 3\n",
    "        print('bar local scope', value)\n",
    "    \n",
    "    bar()  # здесь value = 3\n",
    "    print('enclosing scope value', value)  # здесь value = 2\n",
    "    \n",
    "foo()\n",
    "print('global value', value)  # здесь value = 1"
   ]
  },
  {
   "cell_type": "markdown",
   "id": "583bd1e4",
   "metadata": {
    "slideshow": {
     "slide_type": "skip"
    }
   },
   "source": [
    "#### Пример LEGB"
   ]
  },
  {
   "cell_type": "code",
   "execution_count": 41,
   "id": "57e88d62",
   "metadata": {},
   "outputs": [
    {
     "data": {
      "text/plain": [
       "range"
      ]
     },
     "execution_count": 41,
     "metadata": {},
     "output_type": "execute_result"
    }
   ],
   "source": [
    "# посмотрим какой объект в range\n",
    "range"
   ]
  },
  {
   "cell_type": "code",
   "execution_count": 42,
   "id": "0a961e16",
   "metadata": {},
   "outputs": [
    {
     "name": "stdout",
     "output_type": "stream",
     "text": [
      "<class 'range'>\n"
     ]
    }
   ],
   "source": [
    "# напечатаем\n",
    "print(range)"
   ]
  },
  {
   "cell_type": "code",
   "execution_count": 43,
   "id": "a63f36f2",
   "metadata": {
    "slideshow": {
     "slide_type": "subslide"
    }
   },
   "outputs": [
    {
     "name": "stdout",
     "output_type": "stream",
     "text": [
      "built-in: <class 'range'>\n"
     ]
    }
   ],
   "source": [
    "def foo():\n",
    "    # во время запуска определяет функцию bar\n",
    "    def bar():\n",
    "        print('built-in:', range)\n",
    "    # и сразу вызывает ее\n",
    "    bar()\n",
    "foo()"
   ]
  },
  {
   "cell_type": "code",
   "execution_count": 76,
   "id": "9cb0f5a4",
   "metadata": {
    "slideshow": {
     "slide_type": "subslide"
    }
   },
   "outputs": [
    {
     "name": "stdout",
     "output_type": "stream",
     "text": [
      "global: global range\n"
     ]
    }
   ],
   "source": [
    "range = 'global range'\n",
    "\n",
    "def foo():\n",
    "    def bar():\n",
    "        print('global:', range)\n",
    "    bar()\n",
    "foo()  # Глобальная"
   ]
  },
  {
   "cell_type": "code",
   "execution_count": 77,
   "id": "9fd45ed8",
   "metadata": {
    "slideshow": {
     "slide_type": "subslide"
    }
   },
   "outputs": [
    {
     "name": "stdout",
     "output_type": "stream",
     "text": [
      "enclosing-function: enclosing-function range\n"
     ]
    }
   ],
   "source": [
    "range = 'global range'\n",
    "\n",
    "def foo():\n",
    "    range = 'enclosing-function range'\n",
    "    def bar():\n",
    "        print('enclosing-function:', range)\n",
    "    bar()\n",
    "foo()"
   ]
  },
  {
   "cell_type": "code",
   "execution_count": 79,
   "id": "907f4e3c",
   "metadata": {
    "slideshow": {
     "slide_type": "subslide"
    }
   },
   "outputs": [
    {
     "name": "stdout",
     "output_type": "stream",
     "text": [
      "local: local range\n"
     ]
    }
   ],
   "source": [
    "range = 'global range'\n",
    "\n",
    "def foo():\n",
    "    range = 'enclosing-function range'\n",
    "    def bar():\n",
    "        range = 'local range'\n",
    "        print('local:', range)\n",
    "    bar()\n",
    "foo()"
   ]
  },
  {
   "cell_type": "code",
   "execution_count": 80,
   "id": "38fffc58",
   "metadata": {},
   "outputs": [
    {
     "data": {
      "text/plain": [
       "'range'"
      ]
     },
     "execution_count": 80,
     "metadata": {},
     "output_type": "execute_result"
    }
   ],
   "source": [
    "range = 'range'\n",
    "range"
   ]
  },
  {
   "cell_type": "code",
   "execution_count": 82,
   "id": "02811447",
   "metadata": {},
   "outputs": [
    {
     "ename": "TypeError",
     "evalue": "'str' object is not callable",
     "output_type": "error",
     "traceback": [
      "\u001b[1;31m---------------------------------------------------------------------------\u001b[0m",
      "\u001b[1;31mTypeError\u001b[0m                                 Traceback (most recent call last)",
      "Input \u001b[1;32mIn [82]\u001b[0m, in \u001b[0;36m<cell line: 3>\u001b[1;34m()\u001b[0m\n\u001b[0;32m      1\u001b[0m \u001b[38;5;66;03m# попробуем вызвать range от 5\u001b[39;00m\n\u001b[0;32m      2\u001b[0m \u001b[38;5;66;03m# получаем ошибку\u001b[39;00m\n\u001b[1;32m----> 3\u001b[0m \u001b[38;5;28;43mrange\u001b[39;49m\u001b[43m(\u001b[49m\u001b[38;5;241;43m5\u001b[39;49m\u001b[43m)\u001b[49m\n",
      "\u001b[1;31mTypeError\u001b[0m: 'str' object is not callable"
     ]
    }
   ],
   "source": [
    "# попробуем вызвать range от 5\n",
    "# получаем ошибку\n",
    "range(5)"
   ]
  },
  {
   "cell_type": "markdown",
   "id": "3ec86135",
   "metadata": {},
   "source": [
    "На самом деле мы не переопределили функцию range. \n",
    "\n",
    "Просто мы ищем ее в глобальных переменных.\n",
    "\n",
    "А Исходный range лежит в Built_In.\n",
    "\n",
    "Чтобы исправить данную проблему, необходимо удалить переменную range в глобальной области видимости."
   ]
  },
  {
   "cell_type": "code",
   "execution_count": 84,
   "id": "5bc5897c",
   "metadata": {},
   "outputs": [],
   "source": [
    "del range"
   ]
  },
  {
   "cell_type": "code",
   "execution_count": 85,
   "id": "c3959786",
   "metadata": {},
   "outputs": [
    {
     "ename": "TypeError",
     "evalue": "'int' object is not callable",
     "output_type": "error",
     "traceback": [
      "\u001b[1;31m---------------------------------------------------------------------------\u001b[0m",
      "\u001b[1;31mTypeError\u001b[0m                                 Traceback (most recent call last)",
      "Input \u001b[1;32mIn [85]\u001b[0m, in \u001b[0;36m<cell line: 2>\u001b[1;34m()\u001b[0m\n\u001b[0;32m      1\u001b[0m \u001b[38;5;28mmax\u001b[39m \u001b[38;5;241m=\u001b[39m \u001b[38;5;241m5342\u001b[39m\n\u001b[1;32m----> 2\u001b[0m \u001b[38;5;28;43mmax\u001b[39;49m\u001b[43m(\u001b[49m\u001b[43m[\u001b[49m\u001b[38;5;241;43m1\u001b[39;49m\u001b[43m,\u001b[49m\u001b[43m \u001b[49m\u001b[38;5;241;43m2\u001b[39;49m\u001b[43m,\u001b[49m\u001b[43m \u001b[49m\u001b[38;5;241;43m3\u001b[39;49m\u001b[43m]\u001b[49m\u001b[43m)\u001b[49m\n",
      "\u001b[1;31mTypeError\u001b[0m: 'int' object is not callable"
     ]
    }
   ],
   "source": [
    "max = 5342\n",
    "max([1, 2, 3])"
   ]
  },
  {
   "cell_type": "code",
   "execution_count": 86,
   "id": "27f66569",
   "metadata": {},
   "outputs": [],
   "source": [
    "# так же есть способ, который восстановит все объекты builtins\n",
    "from builtins import *"
   ]
  },
  {
   "cell_type": "code",
   "execution_count": 87,
   "id": "35c85bbe",
   "metadata": {},
   "outputs": [
    {
     "data": {
      "text/plain": [
       "3"
      ]
     },
     "execution_count": 87,
     "metadata": {},
     "output_type": "execute_result"
    }
   ],
   "source": [
    "max([1, 2, 3])"
   ]
  },
  {
   "cell_type": "markdown",
   "id": "41a42aa6",
   "metadata": {
    "slideshow": {
     "slide_type": "slide"
    }
   },
   "source": [
    "## Ключевое слово global\n",
    "\n",
    "Данное имя позволяет нам заглянуть в область видимости, минуя другие"
   ]
  },
  {
   "cell_type": "code",
   "execution_count": 88,
   "id": "b0bc5384",
   "metadata": {},
   "outputs": [
    {
     "name": "stdout",
     "output_type": "stream",
     "text": [
      "enclosing scope value 2\n",
      "global value 3\n"
     ]
    }
   ],
   "source": [
    "value = 1\n",
    "\n",
    "def foo():\n",
    "    value = 2\n",
    "    \n",
    "    def bar():\n",
    "        global value  # пример использования \n",
    "        value = 3  # данный value заменит value = 1\n",
    "    \n",
    "    bar()\n",
    "    print('enclosing scope value', value)\n",
    "    \n",
    "foo()\n",
    "print('global value', value)"
   ]
  },
  {
   "cell_type": "markdown",
   "id": "88e2a851",
   "metadata": {
    "slideshow": {
     "slide_type": "subslide"
    }
   },
   "source": [
    "### Ключевое слово nonlocal"
   ]
  },
  {
   "cell_type": "code",
   "execution_count": 89,
   "id": "9e2fb861",
   "metadata": {},
   "outputs": [
    {
     "name": "stdout",
     "output_type": "stream",
     "text": [
      "enclosing scope value 3\n",
      "global value 1\n"
     ]
    }
   ],
   "source": [
    "value = 1\n",
    "\n",
    "def foo():\n",
    "    value = 2\n",
    "    \n",
    "    def bar():\n",
    "        nonlocal value  # пример использования\n",
    "        value = 3\n",
    "    \n",
    "    bar()\n",
    "    print('enclosing scope value', value)\n",
    "    \n",
    "foo()\n",
    "print('global value', value)"
   ]
  },
  {
   "cell_type": "markdown",
   "id": "d797f101",
   "metadata": {
    "slideshow": {
     "slide_type": "subslide"
    }
   },
   "source": [
    "Пространства имён в python **статические** <br>\n",
    "Определение любого используемого в коде обьекта можно найти без запуска программы."
   ]
  },
  {
   "cell_type": "code",
   "execution_count": 90,
   "id": "19df18ac",
   "metadata": {
    "scrolled": true
   },
   "outputs": [
    {
     "ename": "UnboundLocalError",
     "evalue": "local variable 'value' referenced before assignment",
     "output_type": "error",
     "traceback": [
      "\u001b[1;31m---------------------------------------------------------------------------\u001b[0m",
      "\u001b[1;31mUnboundLocalError\u001b[0m                         Traceback (most recent call last)",
      "Input \u001b[1;32mIn [90]\u001b[0m, in \u001b[0;36m<cell line: 14>\u001b[1;34m()\u001b[0m\n\u001b[0;32m     11\u001b[0m     bar()\n\u001b[0;32m     12\u001b[0m     value \u001b[38;5;241m=\u001b[39m \u001b[38;5;241m2\u001b[39m\n\u001b[1;32m---> 14\u001b[0m \u001b[43mfoo\u001b[49m\u001b[43m(\u001b[49m\u001b[43m)\u001b[49m\n",
      "Input \u001b[1;32mIn [90]\u001b[0m, in \u001b[0;36mfoo\u001b[1;34m()\u001b[0m\n\u001b[0;32m      4\u001b[0m \u001b[38;5;28;01mdef\u001b[39;00m \u001b[38;5;21mfoo\u001b[39m():\n\u001b[1;32m----> 6\u001b[0m     \u001b[38;5;28mprint\u001b[39m(\u001b[43mvalue\u001b[49m)\n\u001b[0;32m      8\u001b[0m     \u001b[38;5;28;01mdef\u001b[39;00m \u001b[38;5;21mbar\u001b[39m():\n\u001b[0;32m      9\u001b[0m         \u001b[38;5;28mprint\u001b[39m(value)\n",
      "\u001b[1;31mUnboundLocalError\u001b[0m: local variable 'value' referenced before assignment"
     ]
    }
   ],
   "source": [
    "# если получаем подобную ошибку, необходимо проверять в каком порядке мы создаем переменные\n",
    "value = 1\n",
    "\n",
    "def foo():\n",
    "    \n",
    "    print(value)\n",
    "    \n",
    "    def bar():\n",
    "        print(value)\n",
    "    \n",
    "    bar()\n",
    "    value = 2\n",
    "    \n",
    "foo()"
   ]
  },
  {
   "cell_type": "markdown",
   "id": "910d6359",
   "metadata": {
    "slideshow": {
     "slide_type": "slide"
    }
   },
   "source": [
    "# Замыкания [Closures]\n",
    "*In computer programming languages, a closure is a function together with a referencing environment of that function. A closure function is any function that uses a variable that is defined in an environment (or scope) that is external to that function, and is accessible within the function when invoked from a scope in which that free variable is not defined.*\n",
    "\n",
    "Существования замыканий следует из правила LEGB, возможности оперировать с функциями как обьектами и того что области видимости в Питоне - статические."
   ]
  },
  {
   "cell_type": "code",
   "execution_count": 91,
   "id": "a1147f86",
   "metadata": {
    "slideshow": {
     "slide_type": "subslide"
    }
   },
   "outputs": [
    {
     "name": "stdout",
     "output_type": "stream",
     "text": [
      "In loop: m = 0\n",
      "In loop: m = 1\n",
      "In loop: m = 2\n",
      "In loop: m = 3\n",
      "In loop: m = 4\n",
      "m = 4\n",
      "[20, 20, 20, 20, 20]\n",
      "[500, 500, 500, 500, 500]\n"
     ]
    }
   ],
   "source": [
    "# данный код повторяет затирание range, на случай, если выше этого не сделали\n",
    "# но мы уже сделали\n",
    "try:\n",
    "    del range\n",
    "except:\n",
    "    pass\n",
    "\n",
    "# создаем пустой список\n",
    "multipliers = []\n",
    "\n",
    "# итерируемся 5 раз\n",
    "for m in range(5):\n",
    "    # добавляем x * m\n",
    "    multipliers.append(lambda x: x * m)\n",
    "    print(f'In loop: {m = }')\n",
    "\n",
    "print(f'{m = }')\n",
    "\n",
    "print([multipliers[i](5) for i in range(5)])\n",
    "\n",
    "m = 100\n",
    "    \n",
    "print([multipliers[i](5) for i in range(5)])"
   ]
  },
  {
   "cell_type": "code",
   "execution_count": 93,
   "id": "863f9290",
   "metadata": {},
   "outputs": [
    {
     "data": {
      "text/plain": [
       "100"
      ]
     },
     "execution_count": 93,
     "metadata": {},
     "output_type": "execute_result"
    }
   ],
   "source": [
    "m"
   ]
  },
  {
   "cell_type": "code",
   "execution_count": 94,
   "id": "2d01db88",
   "metadata": {},
   "outputs": [
    {
     "data": {
      "text/plain": [
       "500"
      ]
     },
     "execution_count": 94,
     "metadata": {},
     "output_type": "execute_result"
    }
   ],
   "source": [
    "def f(x):\n",
    "    return x * m\n",
    "f(5)"
   ]
  },
  {
   "cell_type": "code",
   "execution_count": 95,
   "id": "f72d0f4c",
   "metadata": {},
   "outputs": [
    {
     "data": {
      "text/plain": [
       "1000"
      ]
     },
     "execution_count": 95,
     "metadata": {},
     "output_type": "execute_result"
    }
   ],
   "source": [
    "list_of_functions = []\n",
    "\n",
    "def f1(x):\n",
    "    return x\n",
    "\n",
    "def f2(x):\n",
    "    return x ** 2\n",
    "\n",
    "def f3(x):\n",
    "    return x ** 3\n",
    "\n",
    "list_of_functions = [f1, f2, f3]\n",
    "\n",
    "list_of_functions[2](10)"
   ]
  },
  {
   "cell_type": "code",
   "execution_count": 96,
   "id": "ba92fec4",
   "metadata": {},
   "outputs": [
    {
     "data": {
      "text/plain": [
       "'100100'"
      ]
     },
     "execution_count": 96,
     "metadata": {},
     "output_type": "execute_result"
    }
   ],
   "source": [
    "def m1(x):\n",
    "    return str(m)\n",
    "\n",
    "def m2(x):\n",
    "    return str(m) * 2\n",
    "\n",
    "def m3(x):\n",
    "    return str(m) * 3\n",
    "\n",
    "list_of_functions = [m1, m2, m3]\n",
    "\n",
    "list_of_functions[1](10)"
   ]
  },
  {
   "cell_type": "code",
   "execution_count": 97,
   "id": "5c41cd5b",
   "metadata": {},
   "outputs": [
    {
     "name": "stdout",
     "output_type": "stream",
     "text": [
      "print is deprecated\n",
      "[1, 2, 3]\n"
     ]
    }
   ],
   "source": [
    "import sys\n",
    "\n",
    "def deprecate(func):\n",
    "    def inner(*args, **kwargs):\n",
    "        print(f'{func.__name__} is deprecated', file=sys.stdout)\n",
    "        return func(*args, **kwargs)\n",
    "    return inner\n",
    "\n",
    "pprint = deprecate(print)\n",
    "\n",
    "pprint([1, 2, 3])"
   ]
  },
  {
   "cell_type": "code",
   "execution_count": 98,
   "id": "1412c6e9",
   "metadata": {},
   "outputs": [
    {
     "name": "stdout",
     "output_type": "stream",
     "text": [
      "sorted is deprecated\n"
     ]
    },
    {
     "data": {
      "text/plain": [
       "[-42, 0, 111]"
      ]
     },
     "execution_count": 98,
     "metadata": {},
     "output_type": "execute_result"
    }
   ],
   "source": [
    "sorted = deprecate(sorted)\n",
    "\n",
    "sorted([111, -42, 0])"
   ]
  },
  {
   "cell_type": "code",
   "execution_count": 99,
   "id": "2a84858e",
   "metadata": {},
   "outputs": [
    {
     "name": "stdout",
     "output_type": "stream",
     "text": [
      "2\n"
     ]
    },
    {
     "data": {
      "text/plain": [
       "2"
      ]
     },
     "execution_count": 99,
     "metadata": {},
     "output_type": "execute_result"
    }
   ],
   "source": [
    "val = 1\n",
    "\n",
    "def f():\n",
    "    print(val)\n",
    "    \n",
    "val = 2\n",
    "\n",
    "f()\n",
    "\n",
    "val "
   ]
  },
  {
   "cell_type": "code",
   "execution_count": 100,
   "id": "ce2a89ee",
   "metadata": {},
   "outputs": [
    {
     "name": "stdout",
     "output_type": "stream",
     "text": [
      "5\n",
      "5\n"
     ]
    }
   ],
   "source": [
    "def foo():\n",
    "    x = 3  # данное значение три для того, чтобы запутать нас\n",
    "    def bar():\n",
    "        print(x)\n",
    "    x = 5\n",
    "    \n",
    "    return bar\n",
    "\n",
    "bar_global = foo()\n",
    "bar_global()\n",
    "\n",
    "x = 9\n",
    "bar_global()"
   ]
  },
  {
   "cell_type": "code",
   "execution_count": 101,
   "id": "cc0af755",
   "metadata": {},
   "outputs": [
    {
     "data": {
      "text/plain": [
       "<function __main__.foo.<locals>.bar()>"
      ]
     },
     "execution_count": 101,
     "metadata": {},
     "output_type": "execute_result"
    }
   ],
   "source": [
    "foo()"
   ]
  },
  {
   "cell_type": "code",
   "execution_count": 102,
   "id": "57e11665",
   "metadata": {
    "slideshow": {
     "slide_type": "subslide"
    }
   },
   "outputs": [
    {
     "name": "stdout",
     "output_type": "stream",
     "text": [
      "100\n"
     ]
    }
   ],
   "source": [
    "def foo():\n",
    "    x = 3\n",
    "    def foo_bar():\n",
    "        x = 100\n",
    "        def bar():\n",
    "    #         x = 1\n",
    "            print(x)\n",
    "        return bar\n",
    "    f = foo_bar()\n",
    "    x = 42\n",
    "    \n",
    "    return f\n",
    "\n",
    "bar_global = foo()\n",
    "# bar_global()\n",
    "\n",
    "x = 9\n",
    "bar_global()"
   ]
  },
  {
   "cell_type": "code",
   "execution_count": 103,
   "id": "778c7f46",
   "metadata": {},
   "outputs": [
    {
     "data": {
      "text/plain": [
       "<function __main__.foo.<locals>.foo_bar.<locals>.bar()>"
      ]
     },
     "execution_count": 103,
     "metadata": {},
     "output_type": "execute_result"
    }
   ],
   "source": [
    "foo()"
   ]
  },
  {
   "cell_type": "code",
   "execution_count": 104,
   "id": "a639bf7e",
   "metadata": {
    "slideshow": {
     "slide_type": "subslide"
    }
   },
   "outputs": [
    {
     "name": "stdout",
     "output_type": "stream",
     "text": [
      "7\n",
      "9\n"
     ]
    }
   ],
   "source": [
    "def make_adder(x):\n",
    "    def adder(y):\n",
    "        return x + y\n",
    "    return adder\n",
    "\n",
    "add_two = make_adder(2)\n",
    "\n",
    "print(add_two(5))\n",
    "print(add_two(7))"
   ]
  },
  {
   "cell_type": "markdown",
   "id": "3db17f69",
   "metadata": {
    "slideshow": {
     "slide_type": "subslide"
    }
   },
   "source": [
    "#### Функции могут замыкать одинаковые переменные"
   ]
  },
  {
   "cell_type": "code",
   "execution_count": 105,
   "id": "1c820931",
   "metadata": {
    "slideshow": {
     "slide_type": "-"
    }
   },
   "outputs": [
    {
     "name": "stdout",
     "output_type": "stream",
     "text": [
      "10\n",
      "20\n"
     ]
    }
   ],
   "source": [
    "def cell(value=0):\n",
    "    # определеяем две функции\n",
    "    # метод геттер, который получает какое то значение\n",
    "    def Get():\n",
    "        return value\n",
    "    # метод сеттер, который устанавливает какое то значение\n",
    "    def Set(new_value):\n",
    "        nonlocal value\n",
    "        value = new_value\n",
    "        return value\n",
    "    \n",
    "    return Get, Set\n",
    "\n",
    "get_glob, set_glob = cell(10)\n",
    "print(get_glob())\n",
    "\n",
    "set_glob(20)\n",
    "print(get_glob())"
   ]
  },
  {
   "cell_type": "markdown",
   "id": "37becb3e",
   "metadata": {
    "slideshow": {
     "slide_type": "subslide"
    }
   },
   "source": [
    "#### Посмотрим, что внутри замыкания"
   ]
  },
  {
   "cell_type": "code",
   "execution_count": 63,
   "id": "4de74b05",
   "metadata": {},
   "outputs": [
    {
     "name": "stdout",
     "output_type": "stream",
     "text": [
      "(<cell at 0x0000028AA2D64FD0: int object at 0x0000028A9C856B90>,)\n",
      "20\n"
     ]
    }
   ],
   "source": [
    "print(get_glob.__closure__)\n",
    "print(get_glob.__closure__[0].cell_contents)"
   ]
  },
  {
   "cell_type": "markdown",
   "id": "ad00b2c6",
   "metadata": {},
   "source": [
    "**\\_\\_closure\\_\\_** &mdash; список замкнутых переменных.<br>\n",
    "Переменная представлена в виде класса **cell** с единственным полем **cell_contents**"
   ]
  },
  {
   "cell_type": "code",
   "execution_count": 64,
   "id": "f3d87a76",
   "metadata": {},
   "outputs": [
    {
     "name": "stdout",
     "output_type": "stream",
     "text": [
      "True\n",
      "True\n"
     ]
    }
   ],
   "source": [
    "print(get_glob.__closure__ == set_glob.__closure__)\n",
    "print(get_glob.__closure__[0] is set_glob.__closure__[0])"
   ]
  }
 ],
 "metadata": {
  "kernelspec": {
   "display_name": "Python 3 (ipykernel)",
   "language": "python",
   "name": "python3"
  },
  "language_info": {
   "codemirror_mode": {
    "name": "ipython",
    "version": 3
   },
   "file_extension": ".py",
   "mimetype": "text/x-python",
   "name": "python",
   "nbconvert_exporter": "python",
   "pygments_lexer": "ipython3",
   "version": "3.9.12"
  },
  "toc": {
   "base_numbering": 1,
   "nav_menu": {},
   "number_sections": true,
   "sideBar": true,
   "skip_h1_title": false,
   "title_cell": "Table of Contents",
   "title_sidebar": "Contents",
   "toc_cell": true,
   "toc_position": {},
   "toc_section_display": true,
   "toc_window_display": true
  }
 },
 "nbformat": 4,
 "nbformat_minor": 5
}
