{
 "cells": [
  {
   "cell_type": "markdown",
   "metadata": {
    "id": "0INJvYxrvv1K"
   },
   "source": [
    "## Pandas"
   ]
  },
  {
   "cell_type": "markdown",
   "metadata": {
    "id": "A_uvbzXfvv1g"
   },
   "source": [
    "### 7. Статистические функции"
   ]
  },
  {
   "cell_type": "markdown",
   "metadata": {
    "id": "WmH7RbFQvv1g"
   },
   "source": [
    "Посмотрим как pandas позволяет вычислять простейшие статистики для датасетов. Методы которые мы перечислим ниже имеют аргумет axis, который указывает вдоль какой оси надо вычислять статистику. Обычно, по-умолчанию axis=0, что соответсвует вычислениям по строкам. Если в данных есть пропуски, то они не учитываются при вычислении статистик!"
   ]
  },
  {
   "cell_type": "code",
   "execution_count": null,
   "metadata": {
    "id": "HgR9Cb6x2sJs"
   },
   "outputs": [],
   "source": [
    "import pandas as pd"
   ]
  },
  {
   "cell_type": "code",
   "execution_count": null,
   "metadata": {
    "id": "3jxLwQ0vvv1g"
   },
   "outputs": [],
   "source": [
    "earnings = pd.DataFrame(\n",
    "    data=[[7629.39, -9357.49, -1661.3, 8597.23],\n",
    "          [560.68, None, 10.46, 3578.5],\n",
    "          [487.38, 7560.38, 1090.87, -5164.93],\n",
    "          [560.68, 7560.38, None, -5164.93]],\n",
    "    columns=['BTC', 'DOGE', 'ADA', 'ETH'],\n",
    "    index=['yesterday', 'today', 'tomorrow','aftertomorrow']\n",
    ")\n"
   ]
  },
  {
   "cell_type": "code",
   "execution_count": 3,
   "metadata": {
    "colab": {
     "base_uri": "https://localhost:8080/",
     "height": 175
    },
    "id": "ZP1jIowovv1g",
    "outputId": "f0779558-19ea-4abe-a61a-3cf8c4414ed2"
   },
   "outputs": [
    {
     "data": {
      "text/html": [
       "<div>\n",
       "<style scoped>\n",
       "    .dataframe tbody tr th:only-of-type {\n",
       "        vertical-align: middle;\n",
       "    }\n",
       "\n",
       "    .dataframe tbody tr th {\n",
       "        vertical-align: top;\n",
       "    }\n",
       "\n",
       "    .dataframe thead th {\n",
       "        text-align: right;\n",
       "    }\n",
       "</style>\n",
       "<table border=\"1\" class=\"dataframe\">\n",
       "  <thead>\n",
       "    <tr style=\"text-align: right;\">\n",
       "      <th></th>\n",
       "      <th>BTC</th>\n",
       "      <th>DOGE</th>\n",
       "      <th>ADA</th>\n",
       "      <th>ETH</th>\n",
       "    </tr>\n",
       "  </thead>\n",
       "  <tbody>\n",
       "    <tr>\n",
       "      <th>yesterday</th>\n",
       "      <td>7629.39</td>\n",
       "      <td>-9357.49</td>\n",
       "      <td>-1661.30</td>\n",
       "      <td>8597.23</td>\n",
       "    </tr>\n",
       "    <tr>\n",
       "      <th>today</th>\n",
       "      <td>560.68</td>\n",
       "      <td>NaN</td>\n",
       "      <td>10.46</td>\n",
       "      <td>3578.50</td>\n",
       "    </tr>\n",
       "    <tr>\n",
       "      <th>tomorrow</th>\n",
       "      <td>487.38</td>\n",
       "      <td>7560.38</td>\n",
       "      <td>1090.87</td>\n",
       "      <td>-5164.93</td>\n",
       "    </tr>\n",
       "    <tr>\n",
       "      <th>aftertomorrow</th>\n",
       "      <td>560.68</td>\n",
       "      <td>7560.38</td>\n",
       "      <td>NaN</td>\n",
       "      <td>-5164.93</td>\n",
       "    </tr>\n",
       "  </tbody>\n",
       "</table>\n",
       "</div>"
      ],
      "text/plain": [
       "                   BTC     DOGE      ADA      ETH\n",
       "yesterday      7629.39 -9357.49 -1661.30  8597.23\n",
       "today           560.68      NaN    10.46  3578.50\n",
       "tomorrow        487.38  7560.38  1090.87 -5164.93\n",
       "aftertomorrow   560.68  7560.38      NaN -5164.93"
      ]
     },
     "execution_count": 3,
     "metadata": {},
     "output_type": "execute_result"
    }
   ],
   "source": [
    "earnings"
   ]
  },
  {
   "cell_type": "code",
   "execution_count": null,
   "metadata": {
    "colab": {
     "base_uri": "https://localhost:8080/"
    },
    "id": "2_vgpiUCvv1g",
    "outputId": "4ef884e5-3d98-46f4-843e-25009ea04dd0"
   },
   "outputs": [],
   "source": [
    "# Количество не None записей для каждой монеты\n",
    "earnings.count()"
   ]
  },
  {
   "cell_type": "code",
   "execution_count": null,
   "metadata": {
    "colab": {
     "base_uri": "https://localhost:8080/"
    },
    "id": "SPV6wVm7vv1g",
    "outputId": "6d3bbd2a-c82e-4894-d118-3b2999552d8d"
   },
   "outputs": [],
   "source": [
    "# Заработки по дням\n",
    "earnings.sum(axis=1)"
   ]
  },
  {
   "cell_type": "code",
   "execution_count": null,
   "metadata": {
    "colab": {
     "base_uri": "https://localhost:8080/"
    },
    "id": "bmz3xqdgvv1g",
    "outputId": "8e2c508d-ba59-4ffe-9ad5-a0febbbad5a1"
   },
   "outputs": [],
   "source": [
    "# Средний заработок по каждой монете\n",
    "earnings.mean()"
   ]
  },
  {
   "cell_type": "code",
   "execution_count": null,
   "metadata": {
    "colab": {
     "base_uri": "https://localhost:8080/",
     "height": 143
    },
    "id": "c3vJisUZ37EU",
    "outputId": "bc4063af-b84f-4844-a7c4-470fff97edb1"
   },
   "outputs": [],
   "source": [
    "earnings"
   ]
  },
  {
   "cell_type": "code",
   "execution_count": null,
   "metadata": {
    "colab": {
     "base_uri": "https://localhost:8080/"
    },
    "id": "vv-RGrWDvv1h",
    "outputId": "488dc639-95a5-4626-80b9-4f42378e041d"
   },
   "outputs": [],
   "source": [
    "# Медианный заработок по каждой монете\n",
    "earnings.median()"
   ]
  },
  {
   "cell_type": "code",
   "execution_count": null,
   "metadata": {
    "colab": {
     "base_uri": "https://localhost:8080/",
     "height": 143
    },
    "id": "DgRHwupLvv1h",
    "outputId": "40ac58b3-f029-4898-e98e-08cc7abd38ef"
   },
   "outputs": [],
   "source": [
    "# Моды заработка по каждой монете\n",
    "earnings.mode()"
   ]
  },
  {
   "cell_type": "code",
   "execution_count": null,
   "metadata": {
    "colab": {
     "base_uri": "https://localhost:8080/"
    },
    "id": "StFGfetvvv1h",
    "outputId": "93689027-3cef-4160-d1c1-7eb8dc17c9e2"
   },
   "outputs": [],
   "source": [
    "# \"Разброс\" заработка по каждой монете\n",
    "earnings.std()"
   ]
  },
  {
   "cell_type": "code",
   "execution_count": null,
   "metadata": {
    "colab": {
     "base_uri": "https://localhost:8080/",
     "height": 143
    },
    "id": "9CPdd3jqvv1h",
    "outputId": "9218c54f-c89c-49ab-eaa5-d1b415a9eea5"
   },
   "outputs": [],
   "source": [
    "# 25, 50 и 75 квантиль заработка по каждой монете\n",
    "earnings.quantile(q=(0.25, 0.5, 0.75))"
   ]
  },
  {
   "cell_type": "code",
   "execution_count": null,
   "metadata": {
    "colab": {
     "base_uri": "https://localhost:8080/"
    },
    "id": "t-njS-X8vv1h",
    "outputId": "77ae588d-3447-4f65-97ce-8db53d94a3db"
   },
   "outputs": [],
   "source": [
    "# Минимальный заработок по каждой монете\n",
    "earnings.min()"
   ]
  },
  {
   "cell_type": "code",
   "execution_count": null,
   "metadata": {
    "colab": {
     "base_uri": "https://localhost:8080/"
    },
    "id": "oPSrArkSvv1h",
    "outputId": "da7e0715-7d13-4c83-f385-07a795a6bd31"
   },
   "outputs": [],
   "source": [
    "# Максимальный заработок по каждой монете\n",
    "earnings.max()"
   ]
  },
  {
   "cell_type": "code",
   "execution_count": null,
   "metadata": {
    "colab": {
     "base_uri": "https://localhost:8080/",
     "height": 175
    },
    "id": "XjAIaDDKvv1h",
    "outputId": "5a1d7a38-3f84-4bd9-a999-f5d927725122"
   },
   "outputs": [],
   "source": [
    "# Абсолюты заработков по каждой монете\n",
    "earnings.abs()"
   ]
  },
  {
   "cell_type": "code",
   "execution_count": null,
   "metadata": {
    "colab": {
     "base_uri": "https://localhost:8080/"
    },
    "id": "X6WHl6aQvv1h",
    "outputId": "77f332da-a27a-4636-d782-902a1be3f7ee"
   },
   "outputs": [],
   "source": [
    "# Произвдение заработков по каждой монете. Да я знаю, что это бессмысленно\n",
    "earnings.prod()"
   ]
  },
  {
   "cell_type": "code",
   "execution_count": null,
   "metadata": {
    "colab": {
     "base_uri": "https://localhost:8080/",
     "height": 175
    },
    "id": "3RYpDYfyvv1h",
    "outputId": "1a2f6abd-cb31-4155-e9a8-ca880eaded35"
   },
   "outputs": [],
   "source": [
    "# Кумулятивные произведения заработков по каждой монете\n",
    "earnings.cumprod()"
   ]
  },
  {
   "cell_type": "code",
   "execution_count": null,
   "metadata": {
    "colab": {
     "base_uri": "https://localhost:8080/",
     "height": 175
    },
    "id": "12u089SS5QAw",
    "outputId": "40b2533d-ad54-4f93-a166-2bdaadda5d0a"
   },
   "outputs": [],
   "source": [
    "earnings"
   ]
  },
  {
   "cell_type": "code",
   "execution_count": null,
   "metadata": {
    "colab": {
     "base_uri": "https://localhost:8080/",
     "height": 175
    },
    "id": "QWMeXG0Dvv1h",
    "outputId": "0b9ef7b0-7e2d-4e5c-db3f-152794235387"
   },
   "outputs": [],
   "source": [
    "# Кумулятивные суммы заработков по каждой монете\n",
    "earnings.cumsum()"
   ]
  },
  {
   "cell_type": "code",
   "execution_count": null,
   "metadata": {
    "colab": {
     "base_uri": "https://localhost:8080/",
     "height": 175
    },
    "id": "heGUl6jRvv1i",
    "outputId": "11a86230-e119-4804-ad62-1c2748036c3f"
   },
   "outputs": [],
   "source": [
    "# Процентное изменение заработка по сравнению с предыдущим значением\n",
    "earnings.pct_change()"
   ]
  },
  {
   "cell_type": "code",
   "execution_count": null,
   "metadata": {
    "colab": {
     "base_uri": "https://localhost:8080/"
    },
    "id": "TuRpQnCkvv1i",
    "outputId": "e530fb99-7c9d-40e8-ec12-8ed2d9d5d749"
   },
   "outputs": [],
   "source": [
    "# Ковариация между заработком по BTC и по DOGE\n",
    "earnings['BTC'].cov(earnings['DOGE'])"
   ]
  },
  {
   "cell_type": "code",
   "execution_count": null,
   "metadata": {
    "colab": {
     "base_uri": "https://localhost:8080/"
    },
    "id": "QiwyqATOvv1i",
    "outputId": "483b9cd8-2704-4be6-da42-a6eb125b53e7"
   },
   "outputs": [],
   "source": [
    "# Корреляция между заработком по BTC и по DOGE\n",
    "earnings['BTC'].corr(earnings['DOGE'])"
   ]
  },
  {
   "cell_type": "code",
   "execution_count": null,
   "metadata": {
    "colab": {
     "base_uri": "https://localhost:8080/",
     "height": 175
    },
    "id": "K2yyxDEQhN1Q",
    "outputId": "f2e7a454-b504-4ea8-8481-a70662d67283"
   },
   "outputs": [],
   "source": [
    "# Корреляции по всему датафрейму\n",
    "earnings.corr()"
   ]
  },
  {
   "cell_type": "markdown",
   "metadata": {
    "id": "4tI1WKbvvv1i"
   },
   "source": [
    "Иногда хочется посмотреть все статистики сразу. Для этого есть метод describe"
   ]
  },
  {
   "cell_type": "code",
   "execution_count": null,
   "metadata": {
    "colab": {
     "base_uri": "https://localhost:8080/",
     "height": 300
    },
    "id": "QmlD6XuUvv1i",
    "outputId": "34d86cfb-e2fc-425f-93bd-10f433dd04b6"
   },
   "outputs": [],
   "source": [
    "earnings.describe()"
   ]
  },
  {
   "cell_type": "code",
   "execution_count": null,
   "metadata": {
    "id": "5IxT7YcNvv1i"
   },
   "outputs": [],
   "source": [
    "del earnings"
   ]
  },
  {
   "cell_type": "markdown",
   "metadata": {
    "id": "-Mr9-M0Dvv1i"
   },
   "source": [
    "### 8. Применение пользовательских функций"
   ]
  },
  {
   "cell_type": "markdown",
   "metadata": {
    "id": "zW0qC55Yvv1i"
   },
   "source": [
    "Иногда хочется применить к датасету или одной его колонке функцию. Применять можно ко всей таблице, поэлементно, поколоночно или построчно"
   ]
  },
  {
   "cell_type": "code",
   "execution_count": null,
   "metadata": {
    "colab": {
     "base_uri": "https://localhost:8080/",
     "height": 143
    },
    "id": "vB15-c3vvv1i",
    "outputId": "70a6ae3b-b01b-4c70-ffdf-b0ffc0bbebf4"
   },
   "outputs": [],
   "source": [
    "earnings = pd.DataFrame(\n",
    "    data=[[7629.39, -9357.49, -1661.3, 8597.23],\n",
    "          [560.68, None, 10.46, 3578.5],\n",
    "          [487.38, 7560.38, 1090.87, -5164.93]],\n",
    "    columns=['BTC', 'DOGE', 'ADA', 'ETH'],\n",
    "    index=['yesterday', 'today', 'tomorrow']\n",
    ")\n",
    "earnings"
   ]
  },
  {
   "cell_type": "markdown",
   "metadata": {
    "id": "9hBJ2aUuvv1i"
   },
   "source": [
    "Для  применения построчно/поколоночно используйте функцию apply. Если хочется применить построчно добавьте axis=1"
   ]
  },
  {
   "cell_type": "code",
   "execution_count": null,
   "metadata": {
    "colab": {
     "base_uri": "https://localhost:8080/"
    },
    "id": "v262p6qXvv1i",
    "outputId": "e588ea4b-96f5-4646-b91b-6448578a09ed"
   },
   "outputs": [],
   "source": [
    "#  Посчитать дисперсию заработка для каждой монеты. В лямбду приходит pandas.Series объект каждой колонки\n",
    "earnings.apply(lambda money: money.std() ** 2)"
   ]
  },
  {
   "cell_type": "code",
   "execution_count": null,
   "metadata": {
    "colab": {
     "base_uri": "https://localhost:8080/"
    },
    "id": "21UHrsXv7aui",
    "outputId": "3da5239d-4193-4511-f73e-ffa73e9ee294"
   },
   "outputs": [],
   "source": [
    "earnings['BTC']"
   ]
  },
  {
   "cell_type": "code",
   "execution_count": null,
   "metadata": {
    "colab": {
     "base_uri": "https://localhost:8080/"
    },
    "id": "cEZ_MVuU7Iqk",
    "outputId": "0f526e1e-15f5-4d4a-ad5c-0d63e2bca473"
   },
   "outputs": [],
   "source": [
    "def func(column):\n",
    "    return column['yesterday'] + column['tomorrow']\n",
    "\n",
    "earnings.apply(func)"
   ]
  },
  {
   "cell_type": "markdown",
   "metadata": {
    "id": "2B6i8nFVvv1j"
   },
   "source": [
    "Для поэлементного применения используйте функцию applymap"
   ]
  },
  {
   "cell_type": "code",
   "execution_count": null,
   "metadata": {
    "colab": {
     "base_uri": "https://localhost:8080/",
     "height": 143
    },
    "id": "90hAvllHvv1j",
    "outputId": "0bed4c1a-de31-48e6-fb5d-722a226b6f2c"
   },
   "outputs": [],
   "source": [
    "# Сделаем вид, что потери превратились в профит\n",
    "earnings.applymap(abs)"
   ]
  },
  {
   "cell_type": "code",
   "execution_count": null,
   "metadata": {
    "colab": {
     "base_uri": "https://localhost:8080/"
    },
    "id": "c0la0phE9wvz",
    "outputId": "8e615262-c9b2-455e-a57c-825f3a8102a7"
   },
   "outputs": [],
   "source": [
    "earnings['BTC']"
   ]
  },
  {
   "cell_type": "code",
   "execution_count": null,
   "metadata": {
    "colab": {
     "base_uri": "https://localhost:8080/"
    },
    "id": "H5ius597933g",
    "outputId": "1738a7fd-afa2-47ed-fa99-a5014d9f182d"
   },
   "outputs": [],
   "source": [
    "earnings['BTC'].apply(lambda money: money + 100000)"
   ]
  },
  {
   "cell_type": "code",
   "execution_count": null,
   "metadata": {
    "id": "w5xx7yLbvv1j"
   },
   "outputs": [],
   "source": [
    "# Применять функцию можно и к отдельной колонке. В лямбду приходит отдельное значение колонки\n",
    "earnings['BTC+100000'] = earnings['BTC'].apply(lambda money: money + 100500)\n",
    "earnings.drop(columns=['BTC+100500'], inplace=True)"
   ]
  },
  {
   "cell_type": "code",
   "execution_count": null,
   "metadata": {
    "colab": {
     "base_uri": "https://localhost:8080/"
    },
    "id": "eZFucO-f8aCj",
    "outputId": "5deffa1d-4854-4556-92c7-c9c4dfd9cb13"
   },
   "outputs": [],
   "source": [
    "earnings.apply(lambda row: row['BTC'] + row.DOGE, axis=1)"
   ]
  },
  {
   "cell_type": "code",
   "execution_count": null,
   "metadata": {
    "colab": {
     "base_uri": "https://localhost:8080/",
     "height": 143
    },
    "id": "xROl27osvv1j",
    "outputId": "9ba83823-5ffe-47eb-a2c1-7f7894f5af71"
   },
   "outputs": [],
   "source": [
    "# Если нужно взаимодействие между колонками - применяйте apply row-wise (по строкам)\n",
    "earnings['BTC+DOGE'] = earnings.apply(lambda x: x['BTC'] + x.DOGE, axis=1)\n",
    "earnings"
   ]
  },
  {
   "cell_type": "code",
   "execution_count": null,
   "metadata": {
    "id": "06J6CUK5_6RI"
   },
   "outputs": [],
   "source": [
    "0.39 * x['BTC'] + 0.61 * x.DOGE\n",
    "0.40 * x['BTC'] + 0.6 * x.DOGE\n",
    "0.41 * x['BTC'] + 0.59 * x.DOGE"
   ]
  },
  {
   "cell_type": "code",
   "execution_count": null,
   "metadata": {
    "colab": {
     "base_uri": "https://localhost:8080/",
     "height": 143
    },
    "id": "1zOweN4ECdqw",
    "outputId": "c8492bef-30e4-493e-d5f8-50141e9266a5"
   },
   "outputs": [],
   "source": [
    "earnings"
   ]
  },
  {
   "cell_type": "code",
   "execution_count": null,
   "metadata": {
    "colab": {
     "base_uri": "https://localhost:8080/"
    },
    "id": "LPutHMXe_r9M",
    "outputId": "2b7467fe-387c-498a-9728-19f15cd952d7"
   },
   "outputs": [],
   "source": [
    "def one_more_function(row, alpha, betta):\n",
    "    return alpha * row['BTC'] + betta * row['DOGE']\n",
    "\n",
    "\n",
    "def one_more_function001(row):\n",
    "    return 0.01 * row['BTC'] + 0.99 * row['DOGE']\n",
    "\n",
    "def one_more_function002(row):\n",
    "    return 0.02 * row['BTC'] + 0.98 * row['DOGE']\n",
    "\n",
    "earnings.apply(one_more_function, axis=1, args=(0.5, 0.5))"
   ]
  },
  {
   "cell_type": "code",
   "execution_count": null,
   "metadata": {
    "id": "ttTx0ZMpBXmK"
   },
   "outputs": [],
   "source": [
    "earnings.apply?"
   ]
  },
  {
   "cell_type": "markdown",
   "metadata": {
    "id": "jkAfBVexvv1j"
   },
   "source": [
    "#### Не забудьте самостоятельно посмотреть метод pipe"
   ]
  },
  {
   "cell_type": "code",
   "execution_count": null,
   "metadata": {
    "id": "v2Cr72fXvv1j"
   },
   "outputs": [],
   "source": [
    "help(earnings.pipe)"
   ]
  },
  {
   "cell_type": "code",
   "execution_count": null,
   "metadata": {
    "id": "Ks2pSrJHvv1j"
   },
   "outputs": [],
   "source": [
    "del earnings"
   ]
  },
  {
   "cell_type": "markdown",
   "metadata": {
    "id": "s7lmRcB3vv1j"
   },
   "source": [
    "### 9. Работа со строковыми колонками"
   ]
  },
  {
   "cell_type": "markdown",
   "metadata": {
    "id": "i7XgDynUvv1j"
   },
   "source": [
    "На данный момент для работы со строковыми колонками нам пришлось бы постоянно использовать метод apply. Это неудобно и поэтому в pandas сделали удобный инструмент для манипуляций со строками"
   ]
  },
  {
   "cell_type": "code",
   "execution_count": null,
   "metadata": {
    "colab": {
     "base_uri": "https://localhost:8080/",
     "height": 175
    },
    "id": "HXRbY4Ivvv1j",
    "outputId": "d77894bb-73ef-4ccd-eb6f-2d2173beb5b7"
   },
   "outputs": [],
   "source": [
    "taxonomy = pd.DataFrame(\n",
    "    data=[['BTC', 'Bitcoin'],['LTC', 'Litecoin'], ['ETC', 'Etherium'], ['DOGE', 'Doge coin']],\n",
    "    columns=['symbol', 'name']\n",
    ")\n",
    "taxonomy"
   ]
  },
  {
   "cell_type": "markdown",
   "metadata": {
    "id": "nnZhNSeBvv1j"
   },
   "source": [
    "Чтобы применять строковые функции к колонке надо обратиться к свойству .str."
   ]
  },
  {
   "cell_type": "code",
   "execution_count": null,
   "metadata": {
    "colab": {
     "base_uri": "https://localhost:8080/"
    },
    "id": "hq6_nJdBvv1j",
    "outputId": "5d50eed2-285b-40bf-c17b-73dba18f7879"
   },
   "outputs": [],
   "source": [
    "# Привести все к нижнему регистру\n",
    "taxonomy['symbol'].str.lower()"
   ]
  },
  {
   "cell_type": "code",
   "execution_count": null,
   "metadata": {
    "colab": {
     "base_uri": "https://localhost:8080/"
    },
    "id": "f1ldgpXnvv1j",
    "outputId": "cea9fff6-1d25-479b-fe94-0f6772a356dd"
   },
   "outputs": [],
   "source": [
    "# Привести все к верхнему регистру\n",
    "taxonomy['name'].str.upper()"
   ]
  },
  {
   "cell_type": "code",
   "execution_count": null,
   "metadata": {
    "colab": {
     "base_uri": "https://localhost:8080/"
    },
    "id": "VG9Uvp2Zvv1j",
    "outputId": "88f80482-89fe-496c-b9bf-9eed5b6cf2bc"
   },
   "outputs": [],
   "source": [
    "# Длины строк\n",
    "taxonomy['symbol'].str.len()"
   ]
  },
  {
   "cell_type": "code",
   "execution_count": null,
   "metadata": {
    "colab": {
     "base_uri": "https://localhost:8080/"
    },
    "id": "eprbsW1Cvv1k",
    "outputId": "950f594d-9dc0-4c49-d373-cacecc5649c3"
   },
   "outputs": [],
   "source": [
    "# Убрать по краям пробельные символы\n",
    "taxonomy['name'].str.strip()"
   ]
  },
  {
   "cell_type": "code",
   "execution_count": null,
   "metadata": {
    "colab": {
     "base_uri": "https://localhost:8080/"
    },
    "id": "9W7MoTcSvv1k",
    "outputId": "aae08371-5888-4dcf-a7e4-11a51fd8780e"
   },
   "outputs": [],
   "source": [
    "# Разбить строки по заданному символу\n",
    "taxonomy['name'].str.split('e')"
   ]
  },
  {
   "cell_type": "code",
   "execution_count": null,
   "metadata": {
    "colab": {
     "base_uri": "https://localhost:8080/",
     "height": 36
    },
    "id": "AHgjihcbvv1k",
    "outputId": "88c5a6bc-8fed-4fe2-9a61-d58c299f73e1"
   },
   "outputs": [],
   "source": [
    "# Склеить все строки в одну. Аналог str.join\n",
    "taxonomy['symbol'].str.cat(sep=' $$$ ')"
   ]
  },
  {
   "cell_type": "code",
   "execution_count": null,
   "metadata": {
    "colab": {
     "base_uri": "https://localhost:8080/"
    },
    "id": "CDOhpGHAvv1k",
    "outputId": "ed814301-9615-44c5-cb72-ec8fba33e0fd"
   },
   "outputs": [],
   "source": [
    "# Найти везде подстроку\n",
    "taxonomy['name'].str.contains('coin')"
   ]
  },
  {
   "cell_type": "code",
   "execution_count": null,
   "metadata": {
    "colab": {
     "base_uri": "https://localhost:8080/"
    },
    "id": "1RQqYgRgvv1k",
    "outputId": "3d516d69-a440-4708-e984-b25d9991d59b"
   },
   "outputs": [],
   "source": [
    "# Везде заменить строку на другую\n",
    "taxonomy['name'].str.replace('coin', 'dough')"
   ]
  },
  {
   "cell_type": "code",
   "execution_count": null,
   "metadata": {
    "colab": {
     "base_uri": "https://localhost:8080/"
    },
    "id": "nUEitg4-vv1k",
    "outputId": "c157b630-0eb0-46b6-f010-af67bb73d2e7"
   },
   "outputs": [],
   "source": [
    "# Повторить каждую строку указанное число раз\n",
    "taxonomy['name'].str.repeat(2)"
   ]
  },
  {
   "cell_type": "code",
   "execution_count": null,
   "metadata": {
    "colab": {
     "base_uri": "https://localhost:8080/"
    },
    "id": "6Yk508RSvv1k",
    "outputId": "720c28db-bf3a-4203-9013-4f1103598fbc"
   },
   "outputs": [],
   "source": [
    "# Посчитать все появления указанной строки\n",
    "taxonomy['name'].str.count('coin')"
   ]
  },
  {
   "cell_type": "code",
   "execution_count": null,
   "metadata": {
    "colab": {
     "base_uri": "https://localhost:8080/"
    },
    "id": "yTInFCV3vv1k",
    "outputId": "5ce9a633-8f46-4299-c181-e87feb23ba9a"
   },
   "outputs": [],
   "source": [
    "# Проверка наличия префикса\n",
    "taxonomy['symbol'].str.startswith('B')"
   ]
  },
  {
   "cell_type": "code",
   "execution_count": null,
   "metadata": {
    "colab": {
     "base_uri": "https://localhost:8080/"
    },
    "id": "r5YKTj13vv1k",
    "outputId": "aa3fd0be-c0f5-44fa-be89-01aff569614b"
   },
   "outputs": [],
   "source": [
    "# Проверка наличия суффикса\n",
    "taxonomy['symbol'].str.endswith('C')"
   ]
  },
  {
   "cell_type": "code",
   "execution_count": null,
   "metadata": {
    "colab": {
     "base_uri": "https://localhost:8080/",
     "height": 175
    },
    "id": "9bHyq9NtHeCs",
    "outputId": "951283ca-1c3a-4d81-e770-e36e6139ec0a"
   },
   "outputs": [],
   "source": [
    "taxonomy"
   ]
  },
  {
   "cell_type": "code",
   "execution_count": null,
   "metadata": {
    "colab": {
     "base_uri": "https://localhost:8080/"
    },
    "id": "AcO0Psg_vv1k",
    "outputId": "10a3f1c2-6b84-4195-9316-a69f301cdb31"
   },
   "outputs": [],
   "source": [
    "# Найти место в строках где начинается искомая строка.\n",
    "taxonomy['name'].str.find('coin')"
   ]
  },
  {
   "cell_type": "code",
   "execution_count": null,
   "metadata": {
    "colab": {
     "base_uri": "https://localhost:8080/"
    },
    "id": "KTEGGyyjvv1k",
    "outputId": "0c243ba0-0313-4ace-bf6b-07ac78186f41"
   },
   "outputs": [],
   "source": [
    "# Проверка верхнего регистра\n",
    "taxonomy['symbol'].str.isupper()"
   ]
  },
  {
   "cell_type": "code",
   "execution_count": null,
   "metadata": {
    "colab": {
     "base_uri": "https://localhost:8080/"
    },
    "id": "7u3z9edbvv1l",
    "outputId": "e8518fb1-d6a3-4596-f306-1fac8299ebdf"
   },
   "outputs": [],
   "source": [
    "# Проверка нижнего регистра\n",
    "taxonomy['symbol'].str.islower()"
   ]
  },
  {
   "cell_type": "code",
   "execution_count": null,
   "metadata": {
    "colab": {
     "base_uri": "https://localhost:8080/"
    },
    "id": "cpeWau6yvv1l",
    "outputId": "542d5c22-df16-4455-b925-078cc4e4b07b"
   },
   "outputs": [],
   "source": [
    "# Проверка что все символы - цифры\n",
    "taxonomy['name'].str.isnumeric()"
   ]
  },
  {
   "cell_type": "code",
   "execution_count": null,
   "metadata": {
    "colab": {
     "base_uri": "https://localhost:8080/"
    },
    "id": "APMtu7LKvv1l",
    "outputId": "333e4e31-0ca2-4e80-aa7f-4c7afbe652a1"
   },
   "outputs": [],
   "source": [
    "#Посмотреть все возможные проверки\n",
    "help(taxonomy['name'].str.isnumeric)"
   ]
  },
  {
   "cell_type": "markdown",
   "metadata": {
    "id": "Q0vEd6Yovv1l"
   },
   "source": [
    "### 10. Агрегации, трансформации и фильтрации"
   ]
  },
  {
   "cell_type": "markdown",
   "metadata": {
    "id": "LB2bsRT9vv1l"
   },
   "source": [
    "#### 10.1. Скользящие окна"
   ]
  },
  {
   "cell_type": "markdown",
   "metadata": {
    "id": "3A6HXXGEvv1l"
   },
   "source": [
    "Мы начнем со специального случая аггрегаций данных - оконных функций. Мы поговорим о методах rolling и emw. Самостоятельно посмотрите что делает expanding."
   ]
  },
  {
   "cell_type": "code",
   "execution_count": null,
   "metadata": {
    "colab": {
     "base_uri": "https://localhost:8080/",
     "height": 237
    },
    "id": "X1MS_Myovv1l",
    "outputId": "561e0a47-907f-4451-db70-2c99e57583f8"
   },
   "outputs": [],
   "source": [
    "price = pd.DataFrame(\n",
    "    data=[\n",
    "        [0.547, 0.745],\n",
    "        [0.5, 0.964],\n",
    "        [0.77, 0.718],\n",
    "        [0.135, 0.845],\n",
    "        [0.53, None],\n",
    "        [0.15, 0.795]],\n",
    "    columns=['ADA', 'DOGE'],\n",
    "    # Создаем специальный индекс из 6 дней начиная с 2018-11-01\n",
    "    index=pd.date_range('2018-11-01', periods=6)\n",
    ")\n",
    "price"
   ]
  },
  {
   "cell_type": "markdown",
   "metadata": {
    "id": "RECaFssRvv1l"
   },
   "source": [
    "Если вы хотите посчитать какую-нибудь статистическую функци (sum, mean, median, std) в скользящем окне. То есть методы rolling (обычное окно) и ewm (окно с экспоненциальным сглаживанием). Они возвращают специальные объекты которые могут аггрегировать используя стандартную или пользователскую функцию."
   ]
  },
  {
   "cell_type": "code",
   "execution_count": null,
   "metadata": {
    "colab": {
     "base_uri": "https://localhost:8080/"
    },
    "id": "B5QpzEOSIPTS",
    "outputId": "f9a8e298-863c-4b31-a584-265ff9254757"
   },
   "outputs": [],
   "source": [
    "price.rolling(window=3)"
   ]
  },
  {
   "cell_type": "code",
   "execution_count": null,
   "metadata": {
    "colab": {
     "base_uri": "https://localhost:8080/",
     "height": 237
    },
    "id": "rh3vqttVvv1l",
    "outputId": "fdc43341-5c91-446a-8caa-06c3bdc08ff1"
   },
   "outputs": [],
   "source": [
    "# Найти скользящую сумму\n",
    "price.rolling(window=3).sum()"
   ]
  },
  {
   "cell_type": "code",
   "execution_count": null,
   "metadata": {
    "colab": {
     "base_uri": "https://localhost:8080/",
     "height": 237
    },
    "id": "-L-ionEAvv1l",
    "outputId": "e0d1985a-bda6-4a17-9f90-4001872c63be"
   },
   "outputs": [],
   "source": [
    "# Сделать агрегацию c пользовательской функцией\n",
    "price.rolling(window=2).agg(lambda series: sum(series ** 2))"
   ]
  },
  {
   "cell_type": "code",
   "execution_count": null,
   "metadata": {
    "colab": {
     "base_uri": "https://localhost:8080/",
     "height": 237
    },
    "id": "HcPitRISvv1l",
    "outputId": "4af399c6-eea6-4269-b909-64807d28aa27"
   },
   "outputs": [],
   "source": [
    "# Сделать агрегацию по имени функции\n",
    "price.rolling(window=2).agg('max')"
   ]
  },
  {
   "cell_type": "code",
   "execution_count": null,
   "metadata": {
    "colab": {
     "base_uri": "https://localhost:8080/",
     "height": 269
    },
    "id": "V1QMAu04vv1l",
    "outputId": "8be6ed36-2175-4b39-bcc3-d184790ba842"
   },
   "outputs": [],
   "source": [
    "# Сделать несколько агрегаций\n",
    "price.rolling(window=2).agg(['mean', sum, lambda series: max(series ** 2)])"
   ]
  },
  {
   "cell_type": "code",
   "execution_count": null,
   "metadata": {
    "colab": {
     "base_uri": "https://localhost:8080/",
     "height": 269
    },
    "id": "7kkR9qeDvv1l",
    "outputId": "1be1565d-e077-4842-ca8b-592e1a39797e"
   },
   "outputs": [],
   "source": [
    "# Сделать несколько агрегаций (для каждой колонки свои)\n",
    "price.rolling(window=2).agg({'ADA': [sum, max], 'DOGE': lambda series: max(series ** 2)})"
   ]
  },
  {
   "cell_type": "markdown",
   "metadata": {
    "id": "Gn5rbjXdvv1l"
   },
   "source": [
    "Объект ewm работает аналогично rolling с тем лишь отличием, что он назначает веса. Числам $x_0,\\ldots,x_t$ будут назначены веса $(1-\\alpha)^t, (1-\\alpha)^{t-1}, \\ldots, 1$, где $\\alpha$ - параметр сглаживания. Например, экспоненциальное скользящее среднее будет вычисляться по формуле\n",
    "$$\n",
    "ewm_{\\alpha}(x)=\\frac{\\sum_{i=0}^t (1-\\alpha)^{t-i} x_i}{\\sum_{i=0}^t(1-\\alpha)^i}\n",
    "$$\n",
    "\n",
    "\n",
    "Если указать **adjust=False**, подсчёт будет идти рекурсивно: ```mean[i] = (1-alpha)*mean[i-1] + alpha*x[i]```"
   ]
  },
  {
   "cell_type": "code",
   "execution_count": null,
   "metadata": {
    "colab": {
     "base_uri": "https://localhost:8080/",
     "height": 237
    },
    "id": "VoDoAFsPMK-f",
    "outputId": "744c2b77-4a06-4622-81c8-0b1c8ac76be5"
   },
   "outputs": [],
   "source": [
    "price"
   ]
  },
  {
   "cell_type": "code",
   "execution_count": null,
   "metadata": {
    "colab": {
     "base_uri": "https://localhost:8080/",
     "height": 237
    },
    "id": "LvC2Vj9dvv1l",
    "outputId": "b8761442-52cd-4ae6-91ef-3f63b83eca5a"
   },
   "outputs": [],
   "source": [
    "# Скользящее среднее cо сглаживанием alpha\n",
    "price.ewm(alpha=0.5, adjust=False).mean()"
   ]
  },
  {
   "cell_type": "code",
   "execution_count": null,
   "metadata": {
    "id": "iVYirKb3vv1l"
   },
   "outputs": [],
   "source": [
    "del price"
   ]
  },
  {
   "cell_type": "markdown",
   "metadata": {
    "id": "D0lNnsQTvv1m"
   },
   "source": [
    "#### 10.2. Работа с группами"
   ]
  },
  {
   "cell_type": "markdown",
   "metadata": {
    "id": "cwHFjxm6vv1m"
   },
   "source": [
    "Иногда хочется разбить данные по группам и посчитать статистики / преобразовать / пофильтровать. Для этого есть метод **groupby**. Он возвращает специальный объект для работы со сгруппированными данными."
   ]
  },
  {
   "cell_type": "code",
   "execution_count": null,
   "metadata": {
    "colab": {
     "base_uri": "https://localhost:8080/",
     "height": 363
    },
    "id": "qxdtCo3mvv1m",
    "outputId": "deeea928-6bb9-4984-f1ce-32a9141f2305"
   },
   "outputs": [],
   "source": [
    "operations = pd.DataFrame(\n",
    "    data=[\n",
    "        ['DOGE', 'buy', 5000, 0.2],\n",
    "        ['BTC', 'buy', 10, 6000],\n",
    "        ['BTC', 'buy', 2.5, 5900],\n",
    "        ['DOGE', 'sell', 3000, 0.1],\n",
    "        ['BTC', 'sell', 4, 6200],\n",
    "        ['ETH', 'sell', 10, 400],\n",
    "        ['BTC', 'buy', 1, 5600],\n",
    "        ['ETH', 'buy', 20, 350],\n",
    "        ['ETH', 'sell', 10, 300],\n",
    "        ['DOGE', 'sell', 3000, 0.15]\n",
    "    ],\n",
    "    columns=['symbol', 'type', 'amount', 'price'],\n",
    "    index=pd.date_range('2018-01-01', periods=10)\n",
    ")\n",
    "operations"
   ]
  },
  {
   "cell_type": "code",
   "execution_count": null,
   "metadata": {
    "colab": {
     "base_uri": "https://localhost:8080/"
    },
    "id": "i8KfTuHpvv1m",
    "outputId": "fc312c84-41b3-498a-c72e-a22c44a9382d"
   },
   "outputs": [],
   "source": [
    "# Сгруппировать операции по типу монеты\n",
    "operations.groupby('symbol')"
   ]
  },
  {
   "cell_type": "code",
   "execution_count": null,
   "metadata": {
    "colab": {
     "base_uri": "https://localhost:8080/"
    },
    "id": "OH_lk0bsOCMx",
    "outputId": "b8e83b48-fdd2-4594-b66e-b7c143f65c7b"
   },
   "outputs": [],
   "source": [
    "operations.groupby('symbol').groups"
   ]
  },
  {
   "cell_type": "code",
   "execution_count": null,
   "metadata": {
    "colab": {
     "base_uri": "https://localhost:8080/"
    },
    "id": "thnvy5SDvv1m",
    "outputId": "d1c411b7-1869-43c2-a73c-d8952d2127fd"
   },
   "outputs": [],
   "source": [
    "# Сгруппировать операции по типу монеты и типу операции\n",
    "operations.groupby(['symbol', 'type'])"
   ]
  },
  {
   "cell_type": "code",
   "execution_count": null,
   "metadata": {
    "colab": {
     "base_uri": "https://localhost:8080/"
    },
    "id": "0LIjQPxNvv1m",
    "outputId": "89201eb4-311b-4446-d59e-3a6d5588fe52"
   },
   "outputs": [],
   "source": [
    "# Получить индексы строк каждой группы\n",
    "operations.groupby(['symbol', 'type']).groups"
   ]
  },
  {
   "cell_type": "code",
   "execution_count": null,
   "metadata": {
    "id": "Wi9iw2yuN0OU"
   },
   "outputs": [],
   "source": [
    "# operations.symbol.nunique()\n",
    "# operations.symbol.unique()"
   ]
  },
  {
   "cell_type": "code",
   "execution_count": null,
   "metadata": {
    "colab": {
     "base_uri": "https://localhost:8080/"
    },
    "id": "t3gWYfCmvv1r",
    "outputId": "bc61a3eb-8093-48f4-9034-6538b0a35b80"
   },
   "outputs": [],
   "source": [
    "# Посмотреть на содержимое каждой группы\n",
    "for name, group in operations.groupby(['symbol', 'type']):\n",
    "    print(name)\n",
    "    print(group)"
   ]
  },
  {
   "cell_type": "code",
   "execution_count": null,
   "metadata": {
    "colab": {
     "base_uri": "https://localhost:8080/",
     "height": 143
    },
    "id": "J6qGT63avv1r",
    "outputId": "787fd0c4-88ad-41ec-9719-8f51961dd748"
   },
   "outputs": [],
   "source": [
    "# Получить группу\n",
    "operations.groupby(['symbol', 'type']).get_group(('BTC', 'buy'))"
   ]
  },
  {
   "cell_type": "markdown",
   "metadata": {
    "id": "C0JzzqeZvv1r"
   },
   "source": [
    "Теперь посмотрим как агрегировать данные для каждой группы"
   ]
  },
  {
   "cell_type": "code",
   "execution_count": null,
   "metadata": {
    "colab": {
     "base_uri": "https://localhost:8080/"
    },
    "id": "xdLwlOvrvv1r",
    "outputId": "8d1fdcbb-e9c5-41a4-8404-29cfd00edafc"
   },
   "outputs": [],
   "source": [
    "# Найти обороты для каждой монеты и операции\n",
    "grouper = operations.groupby(['symbol', 'type'])\n",
    "grouper['amount'].agg(sum)\n",
    "\n",
    "# Есть ещё полезный метод operations.groupby(...).transform(func) - предлагается разобрать самостоятельно"
   ]
  },
  {
   "cell_type": "code",
   "execution_count": null,
   "metadata": {
    "colab": {
     "base_uri": "https://localhost:8080/",
     "height": 269
    },
    "id": "DgPy9ncdvv1r",
    "outputId": "741c0788-1e73-4d34-895b-fdf78e932375"
   },
   "outputs": [],
   "source": [
    "# Найти обороты и самые крупные сделки для каждой монеты и операции\n",
    "grouper = operations.groupby(['symbol', 'type'])\n",
    "grouper['amount'].agg([sum, max])"
   ]
  },
  {
   "cell_type": "code",
   "execution_count": null,
   "metadata": {
    "colab": {
     "base_uri": "https://localhost:8080/",
     "height": 269
    },
    "id": "qDW4iSf7vv1r",
    "outputId": "0521199b-27a6-4ac2-9a10-bd090c9ca164"
   },
   "outputs": [],
   "source": [
    "# Найти обороты и среднюю цену для каждой монеты и операции\n",
    "grouper = operations.groupby(['symbol', 'type'])\n",
    "grouper.agg({'amount': sum, 'price': lambda series: series.mean()})"
   ]
  },
  {
   "cell_type": "code",
   "execution_count": null,
   "metadata": {
    "colab": {
     "base_uri": "https://localhost:8080/"
    },
    "id": "W72b6ky2P6U4",
    "outputId": "be670a74-5083-43e9-9aa8-1cdb45da8fa1"
   },
   "outputs": [],
   "source": [
    "for name, group in operations.groupby(['symbol', 'type']):\n",
    "    print(name)\n",
    "    print(group)"
   ]
  },
  {
   "cell_type": "code",
   "execution_count": null,
   "metadata": {
    "colab": {
     "base_uri": "https://localhost:8080/"
    },
    "id": "m-dU1wH1vv1r",
    "outputId": "296b8cfa-591e-49de-dc59-f744d03d778f"
   },
   "outputs": [],
   "source": [
    "# Получить размер группы в которой сидит запись\n",
    "operations.groupby(['symbol', 'type']).apply(lambda group: group.shape)"
   ]
  },
  {
   "cell_type": "code",
   "execution_count": null,
   "metadata": {
    "colab": {
     "base_uri": "https://localhost:8080/"
    },
    "id": "mzgb-7IPvv1r",
    "outputId": "c48d1f05-80b7-47b3-a1a3-ac12c2115479"
   },
   "outputs": [],
   "source": [
    "#Вывести группы по убыванию числа уникальных значений в колонке amount\n",
    "operations.groupby(['symbol', 'type'])['amount'].nunique()"
   ]
  },
  {
   "cell_type": "markdown",
   "metadata": {
    "id": "F7ObbfdDvv1r"
   },
   "source": [
    "Сгруппированные данные можно фильтровать. Вы можете решить какие группы оставить с помощью вашей функции. Она на вход принимает pandas.DataFrame и возвращает bool"
   ]
  },
  {
   "cell_type": "code",
   "execution_count": null,
   "metadata": {
    "colab": {
     "base_uri": "https://localhost:8080/",
     "height": 237
    },
    "id": "aqbgJCUzvv1r",
    "outputId": "ee107019-bfc9-4455-a643-e1ff6c2fae08"
   },
   "outputs": [],
   "source": [
    "# Выбрать монеты и операции для которых оборот был больше 20 монет\n",
    "operations.groupby(['symbol', 'type']).filter(lambda table: table['amount'].sum() >= 20)"
   ]
  },
  {
   "cell_type": "code",
   "execution_count": null,
   "metadata": {
    "id": "nE8nX4sdvv1r"
   },
   "outputs": [],
   "source": [
    "del operations, name, group"
   ]
  },
  {
   "cell_type": "markdown",
   "metadata": {
    "id": "nSVT6xUwvv1s"
   },
   "source": [
    "#### 10.3 Сводные таблицы"
   ]
  },
  {
   "cell_type": "markdown",
   "metadata": {
    "id": "BmgE6vXFvv1s"
   },
   "source": [
    "Большинство таблиц в сыром виде похожи на логи где каждая строка это запись. Никакой оргинизации в данных в этих таблицах нет, а хотелось бы. Для этого в pandas существуют сводные таблицы."
   ]
  },
  {
   "cell_type": "code",
   "execution_count": null,
   "metadata": {
    "colab": {
     "base_uri": "https://localhost:8080/",
     "height": 363
    },
    "id": "G_ikcY0lvv1s",
    "outputId": "113c03ba-6639-46d8-8b6a-2a5acfeac5c7"
   },
   "outputs": [],
   "source": [
    "operations = pd.DataFrame(\n",
    "    data=[\n",
    "        ['DOGE', 'buy', 5000, 0.2, 'Joe Doe', 'success'],\n",
    "        ['BTC', 'buy', 10, 6000, 'Elon Musk', 'error'],\n",
    "        ['BTC', 'buy', 2.5, 5900, 'George Bush', 'success'],\n",
    "        ['DOGE', 'sell', 3000, 0.1, 'John Romero', 'success'],\n",
    "        ['BTC', 'sell', 4, 6200, 'Jack Ma', 'success'],\n",
    "        ['ETH', 'sell', 10, 400, 'Satoshi Nakomoto', 'error'],\n",
    "        ['BTC', 'buy', 1, 5600, 'Vladimir Vladimirovich', 'success'],\n",
    "        ['ETH', 'buy', 20, 350, 'George Bush', 'success'],\n",
    "        ['ETH', 'sell', 10, 300, 'Jack Ma', 'error'],\n",
    "        ['DOGE', 'sell', 3000, 0.15, 'Joe Doe', 'success']\n",
    "    ],\n",
    "    columns=['symbol', 'type', 'amount', 'price', 'user', 'status'],\n",
    "    index=pd.date_range('2018-01-01', periods=10)\n",
    ")\n",
    "operations"
   ]
  },
  {
   "cell_type": "markdown",
   "metadata": {
    "id": "Lg4PAZmyvv1s"
   },
   "source": [
    "Лучше всего понять как они работают это разобрать пример. Найдем сколько суммарно  было куплено и продано каждого типа монет. В результирующей сводной таблице индексом будет название монеты, колонки - типы транзакций (т.е. покупки или продажи). В самих ячейках будет суммарное количество монет."
   ]
  },
  {
   "cell_type": "code",
   "execution_count": null,
   "metadata": {
    "colab": {
     "base_uri": "https://localhost:8080/",
     "height": 175
    },
    "id": "Y1pKOZhrvv1s",
    "outputId": "a17f616f-f7e7-4471-b28c-14744094b38c"
   },
   "outputs": [],
   "source": [
    "operations.pivot_table(\n",
    "    values='amount',\n",
    "    index='symbol',\n",
    "    columns='type',\n",
    "    aggfunc='sum'\n",
    ")"
   ]
  },
  {
   "cell_type": "markdown",
   "metadata": {
    "id": "5qYCv0_Hvv1s"
   },
   "source": [
    "Если не указывать явно аргумент aggfunc, то агрегация будет через усреднение (а не через суммирование как было в нашем примере). Расмотрим более сложный пример."
   ]
  },
  {
   "cell_type": "code",
   "execution_count": null,
   "metadata": {
    "colab": {
     "base_uri": "https://localhost:8080/",
     "height": 426
    },
    "id": "xdTA73ppvv1s",
    "outputId": "9109f908-1044-400c-a2d4-3aa38ed0e230"
   },
   "outputs": [],
   "source": [
    "operations.pivot_table(\n",
    "    values='amount',\n",
    "    index=['symbol', 'user'],  # Индекс может быть иерархическим и строиться по нескольким колонкам\n",
    "    columns=['type', 'status'],  # Аналогично иерархическими могут быть и колонки\n",
    "    aggfunc={'amount': ['sum', 'mean']}  # Можно вычислять сразу несколько агрегаций\n",
    ")"
   ]
  },
  {
   "cell_type": "markdown",
   "metadata": {
    "id": "hKo3_Bgyvv1s"
   },
   "source": [
    "И самый монструозный пример, где мы сделаем сводную таблиц для цен и объемов торгов."
   ]
  },
  {
   "cell_type": "code",
   "execution_count": null,
   "metadata": {
    "colab": {
     "base_uri": "https://localhost:8080/",
     "height": 457
    },
    "id": "tWaxVLmgvv1s",
    "outputId": "f4f1ffdf-863d-4d5c-a170-2922e788810e"
   },
   "outputs": [],
   "source": [
    "operations.pivot_table(\n",
    "    values=['amount', 'price'],  # Можно находить статистику по разным числовым показателям\n",
    "    index=['symbol', 'user'],\n",
    "    columns=['type', 'status'],\n",
    "    aggfunc={\n",
    "        'amount': ['sum', 'mean'],\n",
    "        'price': 'max'}  # Тогда для каждого показателя надо указать какие агрегации вы хотите\n",
    ")"
   ]
  },
  {
   "cell_type": "markdown",
   "metadata": {
    "id": "xvRkimdhvv1s"
   },
   "source": [
    "Для построения сводных таблиц в pandas есть более простая функция. pandas.pivot. Она не делает никаких агрегаций, поэтому при ее использовании вы должны быть уверены, что на каждую ячейку результирующей сводной таблицы придется только одно значение показателя из исходной таблицы. В противном случае будет ошибка. Можете попробовать построить сводную таблицу\n",
    "```\n",
    "operations.pivot(values='amount', index='user', columns='user')\n",
    "```\n",
    "чтобы убедиться."
   ]
  },
  {
   "cell_type": "markdown",
   "metadata": {
    "id": "Vt3mLx3rvv1s"
   },
   "source": [
    "**Задание:** Самостоятельно разберитесь с функциями pandas.stack, pandas.unstack и pandas.melt. Вам поможет [этот tutorial](https://pandas.pydata.org/pandas-docs/stable/reshaping.html)"
   ]
  },
  {
   "cell_type": "markdown",
   "metadata": {
    "id": "JulxpaH0vv1s"
   },
   "source": [
    "### 11. Пропуски и ошибки в данных"
   ]
  },
  {
   "cell_type": "markdown",
   "metadata": {
    "id": "mx7FOmpdvv1s"
   },
   "source": [
    "В реальной жизни данные с которыми надо работать содержат пропуски или просто неверные значения. Мы обсудим как это можно исправить"
   ]
  },
  {
   "cell_type": "code",
   "execution_count": null,
   "metadata": {
    "colab": {
     "base_uri": "https://localhost:8080/",
     "height": 237
    },
    "id": "heLUMwV7vv1s",
    "outputId": "e743f32a-fa34-4f95-a01c-77a4efec8bc1"
   },
   "outputs": [],
   "source": [
    "price = pd.DataFrame(\n",
    "    data=[\n",
    "        [0.547, 0.745],\n",
    "        [-2, -1],\n",
    "        [None, 0.718],\n",
    "        [0.135, 0.845],\n",
    "        [0.53, None],\n",
    "        [None, -1]],\n",
    "    columns=['ADA', 'DOGE'],\n",
    "    # Создаем специальный индекс из 6 дней начиная с 2018-11-01\n",
    "    index=pd.date_range('2018-11-01', periods=6)\n",
    ")\n",
    "price"
   ]
  },
  {
   "cell_type": "code",
   "execution_count": null,
   "metadata": {
    "colab": {
     "base_uri": "https://localhost:8080/",
     "height": 237
    },
    "id": "DvOoLcXPvv1s",
    "outputId": "8a3a4b26-9db3-4953-cc94-a2955a72558c"
   },
   "outputs": [],
   "source": [
    "# Найти места где есть пропуски методом isnull. Аналогично есть метод notnull\n",
    "price.isnull()"
   ]
  },
  {
   "cell_type": "code",
   "execution_count": null,
   "metadata": {
    "colab": {
     "base_uri": "https://localhost:8080/",
     "height": 237
    },
    "id": "GG6jCI29vv1s",
    "outputId": "7e413dc1-b73f-4bb7-cc1a-f3c2ccd7c730"
   },
   "outputs": [],
   "source": [
    "# Заполнить все пропуски дефолтным занчением\n",
    "price.fillna(0)"
   ]
  },
  {
   "cell_type": "code",
   "execution_count": null,
   "metadata": {
    "colab": {
     "base_uri": "https://localhost:8080/",
     "height": 237
    },
    "id": "7PNPvjoMvv1s",
    "outputId": "9bf83a7e-c737-4b94-9156-e67161acbce5"
   },
   "outputs": [],
   "source": [
    "# Заполнить все пропуски занчениями со следующей строки\n",
    "price.fillna(method='bfill')"
   ]
  },
  {
   "cell_type": "code",
   "execution_count": null,
   "metadata": {
    "colab": {
     "base_uri": "https://localhost:8080/",
     "height": 237
    },
    "id": "tmrEWTT1vv1s",
    "outputId": "f153033f-0a62-4e99-d1a8-61e749fed956"
   },
   "outputs": [],
   "source": [
    "# Заполнить все пропуски занчениями с предыдущей строки\n",
    "price.fillna(method='ffill')"
   ]
  },
  {
   "cell_type": "code",
   "execution_count": null,
   "metadata": {
    "colab": {
     "base_uri": "https://localhost:8080/",
     "height": 143
    },
    "id": "g9pqf7swvv1t",
    "outputId": "41514e74-da90-40eb-9539-2aa9cea94ac3"
   },
   "outputs": [],
   "source": [
    "#  Выкинуть строки содержащие nan'ы\n",
    "price.dropna()"
   ]
  },
  {
   "cell_type": "code",
   "execution_count": null,
   "metadata": {
    "colab": {
     "base_uri": "https://localhost:8080/",
     "height": 220
    },
    "id": "WjArs0Dvvv1t",
    "outputId": "e98a0d11-fc97-44b7-9520-34069372939a"
   },
   "outputs": [],
   "source": [
    "#  Выкинуть колонки содержащие nan'ы\n",
    "price.dropna(axis=1)"
   ]
  },
  {
   "cell_type": "code",
   "execution_count": null,
   "metadata": {
    "colab": {
     "base_uri": "https://localhost:8080/",
     "height": 237
    },
    "id": "0NVuhzEdvv1t",
    "outputId": "05b165d4-b8a0-4422-8bc8-ea3168f432ea"
   },
   "outputs": [],
   "source": [
    "# Подменить значения\n",
    "price.replace({-1:0, -2:0})"
   ]
  },
  {
   "cell_type": "code",
   "execution_count": null,
   "metadata": {
    "colab": {
     "base_uri": "https://localhost:8080/",
     "height": 237
    },
    "id": "wrrWHlQhvv1t",
    "outputId": "ee683c65-4e31-422d-df56-4170644f38c1"
   },
   "outputs": [],
   "source": [
    "price"
   ]
  },
  {
   "cell_type": "code",
   "execution_count": null,
   "metadata": {
    "colab": {
     "base_uri": "https://localhost:8080/",
     "height": 112
    },
    "id": "Rl81BA5jeSef",
    "outputId": "542a1f9d-e851-4e4d-c63a-3f972dca7bca"
   },
   "outputs": [],
   "source": [
    "price.corr()"
   ]
  },
  {
   "cell_type": "code",
   "execution_count": null,
   "metadata": {
    "id": "orhCMaiFe7wd"
   },
   "outputs": [],
   "source": [
    "price.corr?"
   ]
  },
  {
   "cell_type": "code",
   "execution_count": null,
   "metadata": {
    "id": "ay0fP3GeeUaP"
   },
   "outputs": [],
   "source": [
    "import scipy.stats"
   ]
  },
  {
   "cell_type": "code",
   "execution_count": null,
   "metadata": {
    "id": "dXV6ECmrvv1t"
   },
   "outputs": [],
   "source": [
    "del price"
   ]
  },
  {
   "cell_type": "markdown",
   "metadata": {
    "id": "dsz_JSilvv1t"
   },
   "source": [
    "### 12. Слияния и конкатенации таблиц"
   ]
  },
  {
   "cell_type": "markdown",
   "metadata": {
    "id": "CzGxVX4Svv1t"
   },
   "source": [
    "Если у вас есть две таблицы, то информацию в них можно объединить двумя способами: конкатенация (\"прилепить снизу новую таблицу\") и объединение (найти объединение записей таблиц если у них хранятся одни и те же значения в выбранных колонках)."
   ]
  },
  {
   "cell_type": "code",
   "execution_count": null,
   "metadata": {
    "id": "nkFx71SNvv1t"
   },
   "outputs": [],
   "source": [
    "operations_old = pd.DataFrame(\n",
    "    data=[\n",
    "        ['DOGE', 'buy', 5000, 0.2],\n",
    "        ['BTC', 'buy', 10, 6000],\n",
    "        ['BTC', 'buy', 2.5, 5900],\n",
    "        ['DOGE', 'sell', 3000, 0.1],\n",
    "        ['BTC', 'sell', 4, 6200],\n",
    "    ],\n",
    "    columns=['symbol', 'type', 'amount', 'price']\n",
    ")\n",
    "\n",
    "operations_new = pd.DataFrame(\n",
    "    data=[\n",
    "        ['ETH', 'sell', 10, 400],\n",
    "        ['BTC', 'buy', 1, 5600],\n",
    "        ['ETH', 'buy', 20, 350],\n",
    "        ['ETH', 'sell', 10, 300],\n",
    "        ['DOGE', 'sell', 3000, 0.15]\n",
    "    ],\n",
    "    columns=['symbol', 'type', 'amount', 'price']\n",
    ")"
   ]
  },
  {
   "cell_type": "code",
   "execution_count": null,
   "metadata": {
    "colab": {
     "base_uri": "https://localhost:8080/",
     "height": 206
    },
    "id": "Inj7OpxeXwb0",
    "outputId": "39fa5c6e-dab5-4b3c-f5ec-4986245817e8"
   },
   "outputs": [],
   "source": [
    "operations_old"
   ]
  },
  {
   "cell_type": "code",
   "execution_count": null,
   "metadata": {
    "colab": {
     "base_uri": "https://localhost:8080/",
     "height": 206
    },
    "id": "opbQaiEGXzUg",
    "outputId": "8c0e6f9b-9ed0-4582-c4b6-1685ec9f5725"
   },
   "outputs": [],
   "source": [
    "operations_new"
   ]
  },
  {
   "cell_type": "code",
   "execution_count": null,
   "metadata": {
    "colab": {
     "base_uri": "https://localhost:8080/",
     "height": 363
    },
    "id": "lTWn09BVvv1t",
    "outputId": "aeae3e64-dfa1-4654-8ab9-5e34a8387fa8"
   },
   "outputs": [],
   "source": [
    "#  Сконкатенировать таблицы в указанном порядке\n",
    "pd.concat([operations_old, operations_new])\n",
    "# pd.concat([operations_old, operations_new]).loc[0]\n",
    "# pd.concat([operations_old, operations_new]).loc[0:2]"
   ]
  },
  {
   "cell_type": "code",
   "execution_count": null,
   "metadata": {
    "colab": {
     "base_uri": "https://localhost:8080/",
     "height": 363
    },
    "id": "CkS0aGpcvv1t",
    "outputId": "1a33d2fa-f92d-4c88-d2a4-68136aac7e19"
   },
   "outputs": [],
   "source": [
    "# При конкатенации таблицам можно назначать теги чтобы понимать, где какая таблица\n",
    "pd.concat([operations_old, operations_new], keys=['old', 'new'])\n"
   ]
  },
  {
   "cell_type": "code",
   "execution_count": null,
   "metadata": {
    "colab": {
     "base_uri": "https://localhost:8080/",
     "height": 363
    },
    "id": "4agl2x6Vvv1t",
    "outputId": "9d57355c-4b1f-4260-e771-4ab47a88ed11"
   },
   "outputs": [],
   "source": [
    "# Как видно при конкатенации индексы старых таблиц копируются.\n",
    "# Если вам не нужно это поведение, используйте ignore_index\n",
    "operations = pd.concat([operations_new, operations_old], ignore_index=True)\n",
    "operations"
   ]
  },
  {
   "cell_type": "markdown",
   "metadata": {
    "id": "eWfCJcRCvv1t"
   },
   "source": [
    "Данные можно собирать вместе и более умным способом. А именно, вы выбираете какие колонки вас интересуют. Далее если есть записи из двух таблиц у котороых в выбранных колонках значения совпадают мы их \"объединяем\". Это очень упрощенное объяснение. В pandas эта операция называется merge в SQL - join. Делать объединение можно разными сопособами, поэтому возникает несколько стратегий: left, right, inner и full."
   ]
  },
  {
   "cell_type": "code",
   "execution_count": null,
   "metadata": {
    "colab": {
     "base_uri": "https://localhost:8080/",
     "height": 237
    },
    "id": "5V0VeQbVvv1t",
    "outputId": "f7d63a98-2b5f-46b9-fe65-77d6b14acdf5"
   },
   "outputs": [],
   "source": [
    "transactions = pd.DataFrame(\n",
    "    data=[\n",
    "        ['DOGE', 'sell', 'Rockfeller'],\n",
    "        ['DOGE', 'buy', 'J.P. Morgan'],\n",
    "        ['BTC', 'buy', 'John Doe'],\n",
    "        ['ADA', 'sell', 'Rick'],\n",
    "        ['ETH', 'buy', 'Morty'],\n",
    "        ['DOGE', 'sell', 'Rick']\n",
    "    ],\n",
    "    columns=['symbol', 'type', 'user']\n",
    ")\n",
    "transactions"
   ]
  },
  {
   "cell_type": "code",
   "execution_count": null,
   "metadata": {
    "colab": {
     "base_uri": "https://localhost:8080/",
     "height": 269
    },
    "id": "FzewU2b-vv1t",
    "outputId": "81f7d927-4d31-41d0-f4bd-66b193f7a39b"
   },
   "outputs": [],
   "source": [
    "# Объединение таблиц по типу монеты и операции\n",
    "# По умолчанию производится inner join остаются записи в которых были полные совпадения\n",
    "pd.merge(operations, transactions, on=['symbol', 'type'])"
   ]
  },
  {
   "cell_type": "code",
   "execution_count": null,
   "metadata": {
    "colab": {
     "base_uri": "https://localhost:8080/",
     "height": 363
    },
    "id": "iC5B4R1Uvv1t",
    "outputId": "7fff92cd-1433-4deb-a131-9bdb558d7180"
   },
   "outputs": [],
   "source": [
    "# Левый join таблиц - все записи из первой таблицы остаются и к ним присоединяются записи из правой.\n",
    "# Аналогично работает правый join\n",
    "pd.merge(operations, transactions, on=['symbol', 'type'], how='left')"
   ]
  },
  {
   "cell_type": "code",
   "execution_count": null,
   "metadata": {
    "colab": {
     "base_uri": "https://localhost:8080/",
     "height": 457
    },
    "id": "sPubISW3vv1t",
    "outputId": "d5ab5c58-6bd0-49a0-fba6-05b9e4db3d75"
   },
   "outputs": [],
   "source": [
    "# Outer join - собираем вместе записи из обеих таблиц\n",
    "pd.merge(operations, transactions, on=['symbol', 'type'], how='outer')"
   ]
  },
  {
   "cell_type": "markdown",
   "metadata": {
    "id": "oEyVzIzRZ6oL"
   },
   "source": [
    "[С картинками](https://habr.com/ru/post/450528/)"
   ]
  },
  {
   "cell_type": "code",
   "execution_count": null,
   "metadata": {
    "id": "ux1SWqIQvv1t"
   },
   "outputs": [],
   "source": [
    "del operations_new, operations_old, operations, transactions"
   ]
  },
  {
   "cell_type": "markdown",
   "metadata": {
    "id": "0hPlp_zYvv1t"
   },
   "source": [
    "### 13. Чтение таблиц"
   ]
  },
  {
   "cell_type": "markdown",
   "metadata": {
    "id": "9BOoZsHWvv1u"
   },
   "source": [
    "Чтобы данные анализировать их надо где-то взять. Для этого в pandas есть множество функций. Все их названия начинаются с префикса 'read_'. Мы разберем функцию read_csv."
   ]
  },
  {
   "cell_type": "code",
   "execution_count": null,
   "metadata": {
    "colab": {
     "base_uri": "https://localhost:8080/",
     "height": 424
    },
    "id": "gUiyzewzvv1u",
    "outputId": "efafc31b-a937-49b2-8637-88aadb1ce0a2"
   },
   "outputs": [],
   "source": [
    "# Прочитать таблицу ни о чем не задумываясь\n",
    "pd.read_csv('/content/sample_data/california_housing_test.csv')"
   ]
  },
  {
   "cell_type": "code",
   "execution_count": null,
   "metadata": {
    "colab": {
     "base_uri": "https://localhost:8080/",
     "height": 455
    },
    "id": "UlUvTQgMvv1u",
    "outputId": "7d904831-1652-4083-fd5f-a5d1f794f740"
   },
   "outputs": [],
   "source": [
    "# Прочитать таблицу и использовать колонку date как индекс\n",
    "pd.read_csv('/content/sample_data/california_housing_test.csv', index_col='longitude')"
   ]
  },
  {
   "cell_type": "code",
   "execution_count": null,
   "metadata": {
    "colab": {
     "base_uri": "https://localhost:8080/",
     "height": 424
    },
    "id": "RlzStIy9vv1u",
    "outputId": "de1ca365-2442-46d4-bc44-cf9984fe11f3"
   },
   "outputs": [],
   "source": [
    "# Прочитать таблицу и дать pandas подсказки по поводу типов данных в колонках symbol и name\n",
    "pd.read_csv('/content/sample_data/california_housing_test.csv',\n",
    "            dtype={'total_rooms': int, 'total_bedrooms': int})"
   ]
  },
  {
   "cell_type": "markdown",
   "metadata": {
    "id": "Ya8AME8Qvv1u"
   },
   "source": [
    "### Запись таблиц"
   ]
  },
  {
   "cell_type": "code",
   "execution_count": null,
   "metadata": {
    "id": "ZzaZZHmJvv1u"
   },
   "outputs": [],
   "source": [
    "df = pd.read_csv('/content/sample_data/california_housing_test.csv',\n",
    "            dtype={'total_rooms': int, 'total_bedrooms': int})\n",
    "\n",
    "df.to_csv('file_name.csv')"
   ]
  },
  {
   "cell_type": "code",
   "execution_count": null,
   "metadata": {
    "id": "-KhqrQjAcGi6"
   },
   "outputs": [],
   "source": [
    "df.to_csv?"
   ]
  },
  {
   "cell_type": "markdown",
   "metadata": {
    "id": "-KMtiCR5vv1u"
   },
   "source": [
    "### 14. Визуализация"
   ]
  },
  {
   "cell_type": "markdown",
   "metadata": {
    "id": "LCoIEJNUvv1u"
   },
   "source": [
    "В pandas есть очень простые средства визуализации. Они подойдут для быстрого анализа, но если хочется сделать красиво и информативно, то вы не по адресу. Любая визуализация делается через аттрибут plot у объекта pandas.Series или pandas.DataFrame."
   ]
  },
  {
   "cell_type": "markdown",
   "metadata": {
    "id": "t3bEr75Jvv1u"
   },
   "source": [
    "Стоит отметить что для отображения графиков нужно использовать магическую команду для jupyter\n",
    "```\n",
    "%matplotlib\n",
    "```\n",
    "При этом график появится в отдельном окне. Там же будет несколько полезных кнопок для редактирования и сохранения графика. Если хочется чтобы графики отображались прямо в ноутбуке то надо передать аргумент inline\n",
    "```\n",
    "%matplotlib inline\n",
    "```"
   ]
  },
  {
   "cell_type": "code",
   "execution_count": null,
   "metadata": {
    "id": "9x5lhy5gvv1u"
   },
   "outputs": [],
   "source": [
    "%matplotlib inline"
   ]
  },
  {
   "cell_type": "code",
   "execution_count": null,
   "metadata": {
    "colab": {
     "base_uri": "https://localhost:8080/",
     "height": 237
    },
    "id": "ahSLnGgEvv1u",
    "outputId": "4a9722cb-eb47-4ea4-d938-af48a64b089e"
   },
   "outputs": [],
   "source": [
    "price = pd.DataFrame(\n",
    "    data=[\n",
    "        [0.547, 0.745],\n",
    "        [0.5, 0.964],\n",
    "        [0.77, 0.718],\n",
    "        [0.135, 0.845],\n",
    "        [0.53, None],\n",
    "        [0.15, 0.795]],\n",
    "    columns=['ADA', 'DOGE'],\n",
    "    index=pd.date_range('2018-11-01', periods=6)\n",
    ")\n",
    "price"
   ]
  },
  {
   "cell_type": "code",
   "execution_count": null,
   "metadata": {
    "colab": {
     "base_uri": "https://localhost:8080/",
     "height": 310
    },
    "id": "9vgUfoLnvv1u",
    "outputId": "887af7ca-3e55-480f-c59a-b5217c436a0f"
   },
   "outputs": [],
   "source": [
    "# Нарисовать график цены монеты ADA.\n",
    "# Так как индекс в нашей таблице временный, то pandas догадывается, что его можно использовать\n",
    "# как ось времени на графиках.\n",
    "price['ADA'].plot()"
   ]
  },
  {
   "cell_type": "code",
   "execution_count": null,
   "metadata": {
    "colab": {
     "base_uri": "https://localhost:8080/",
     "height": 309
    },
    "id": "do9_5tJjvv1u",
    "outputId": "0caf1014-2a6b-43ba-9093-15d7ed31949e"
   },
   "outputs": [],
   "source": [
    "# Можно на одном графике нарисовать поведение цены сразу нескольких монет\n",
    "price[['ADA', 'DOGE']].plot()"
   ]
  },
  {
   "cell_type": "code",
   "execution_count": null,
   "metadata": {
    "colab": {
     "base_uri": "https://localhost:8080/",
     "height": 378
    },
    "id": "Q9trIKyQvv1u",
    "outputId": "027fc9a4-c35c-490d-f818-28190479538b"
   },
   "outputs": [],
   "source": [
    "# Цену можно рисовать и в виде столбцовой диаграммы c различными настройками\n",
    "price.plot.bar(stacked=True)"
   ]
  },
  {
   "cell_type": "code",
   "execution_count": null,
   "metadata": {
    "colab": {
     "base_uri": "https://localhost:8080/",
     "height": 283
    },
    "id": "B-60RZ4fvv1u",
    "outputId": "402aa4cc-e029-40e5-b67a-4ce13bb0c298"
   },
   "outputs": [],
   "source": [
    "# Горизонтальная столбцовая диаграмма\n",
    "price.plot.barh()"
   ]
  },
  {
   "cell_type": "code",
   "execution_count": null,
   "metadata": {
    "colab": {
     "base_uri": "https://localhost:8080/",
     "height": 283
    },
    "id": "vN_H3Wg2vv1u",
    "outputId": "3d4c0d88-329a-4641-ec55-92397140fb98"
   },
   "outputs": [],
   "source": [
    "# Гистограмма\n",
    "price.plot.hist(bins=10)"
   ]
  },
  {
   "cell_type": "code",
   "execution_count": null,
   "metadata": {
    "colab": {
     "base_uri": "https://localhost:8080/",
     "height": 342
    },
    "id": "J1WMMKd0vv1u",
    "outputId": "257b6696-5581-4a8b-a41c-50c3204228c8"
   },
   "outputs": [],
   "source": [
    "# Ящики с усами\n",
    "price.plot.box()"
   ]
  },
  {
   "cell_type": "code",
   "execution_count": null,
   "metadata": {
    "colab": {
     "base_uri": "https://localhost:8080/",
     "height": 307
    },
    "id": "9qyCzo6Cvv1v",
    "outputId": "a03dec59-29a3-44e5-b22e-2f08177f49dc"
   },
   "outputs": [],
   "source": [
    "# Графики с заливкой\n",
    "price.plot.area()"
   ]
  },
  {
   "cell_type": "code",
   "execution_count": null,
   "metadata": {
    "colab": {
     "base_uri": "https://localhost:8080/",
     "height": 297
    },
    "id": "mvUX6vWZvv1v",
    "outputId": "5f3d8dd9-27bb-4446-bf29-e9b646ce54bf"
   },
   "outputs": [],
   "source": [
    "# Если хочется нарисовать пары каких либо значений в виде точек на плоскости, то подойдет scatter plot\n",
    "price.plot.scatter(x='ADA', y='DOGE')"
   ]
  },
  {
   "cell_type": "code",
   "execution_count": null,
   "metadata": {
    "colab": {
     "base_uri": "https://localhost:8080/",
     "height": 465
    },
    "id": "Qg2JfUSVvv1v",
    "outputId": "9180cac1-5ffe-42f7-c9aa-d001535d5787"
   },
   "outputs": [],
   "source": [
    "# И на десерт - пирожковая диаграмма\n",
    "price.plot.pie(subplots=True, figsize=(15,7.5))"
   ]
  },
  {
   "cell_type": "code",
   "execution_count": null,
   "metadata": {
    "id": "2cRJXNj-vv1v"
   },
   "outputs": [],
   "source": [
    "del price"
   ]
  },
  {
   "cell_type": "code",
   "execution_count": null,
   "metadata": {
    "id": "EtNTmAbsvv1v"
   },
   "outputs": [],
   "source": []
  }
 ],
 "metadata": {
  "colab": {
   "provenance": []
  },
  "kernelspec": {
   "display_name": "Python 3 (ipykernel)",
   "language": "python",
   "name": "python3"
  },
  "language_info": {
   "codemirror_mode": {
    "name": "ipython",
    "version": 3
   },
   "file_extension": ".py",
   "mimetype": "text/x-python",
   "name": "python",
   "nbconvert_exporter": "python",
   "pygments_lexer": "ipython3",
   "version": "3.8.12"
  }
 },
 "nbformat": 4,
 "nbformat_minor": 1
}
