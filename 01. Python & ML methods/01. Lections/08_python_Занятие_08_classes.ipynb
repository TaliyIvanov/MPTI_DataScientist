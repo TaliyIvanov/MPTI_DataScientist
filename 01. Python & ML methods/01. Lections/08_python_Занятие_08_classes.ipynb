{
 "cells": [
  {
   "cell_type": "markdown",
   "metadata": {
    "toc": true
   },
   "source": [
    "<h1>Table of Contents<span class=\"tocSkip\"></span></h1>\n",
    "<div class=\"toc\"><ul class=\"toc-item\"><li><ul class=\"toc-item\"><li><span><a href=\"#Наследование\" data-toc-modified-id=\"Наследование-0.1\"><span class=\"toc-item-num\">0.1&nbsp;&nbsp;</span>Наследование</a></span></li><li><span><a href=\"#Изменяемые-атрибуты\" data-toc-modified-id=\"Изменяемые-атрибуты-0.2\"><span class=\"toc-item-num\">0.2&nbsp;&nbsp;</span>Изменяемые атрибуты</a></span></li></ul></li><li><span><a href=\"#Специальные-методы-классов\" data-toc-modified-id=\"Специальные-методы-классов-1\"><span class=\"toc-item-num\">1&nbsp;&nbsp;</span>Специальные методы классов</a></span><ul class=\"toc-item\"><li><ul class=\"toc-item\"><li><span><a href=\"#метод-__str__\" data-toc-modified-id=\"метод-__str__-1.0.1\"><span class=\"toc-item-num\">1.0.1&nbsp;&nbsp;</span>метод <code>__str__</code></a></span></li><li><span><a href=\"#метод--__repr__\" data-toc-modified-id=\"метод--__repr__-1.0.2\"><span class=\"toc-item-num\">1.0.2&nbsp;&nbsp;</span>метод  <code>__repr__</code></a></span></li><li><span><a href=\"#Арифметика-методы-__abs__,--__sub__,-__add__\" data-toc-modified-id=\"Арифметика-методы-__abs__,--__sub__,-__add__-1.0.3\"><span class=\"toc-item-num\">1.0.3&nbsp;&nbsp;</span>Арифметика методы <code>__abs__</code>,  <code>__sub__</code>, <code>__add__</code></a></span></li></ul></li><li><span><a href=\"#Приведение-типов\" data-toc-modified-id=\"Приведение-типов-1.1\"><span class=\"toc-item-num\">1.1&nbsp;&nbsp;</span>Приведение типов</a></span></li><li><span><a href=\"#Итерирование.-Метод-__reversed__\" data-toc-modified-id=\"Итерирование.-Метод-__reversed__-1.2\"><span class=\"toc-item-num\">1.2&nbsp;&nbsp;</span>Итерирование. Метод <code>__reversed__</code></a></span><ul class=\"toc-item\"><li><span><a href=\"#Динамическая-работа-с-атрибутами.-Методы-__getattr__,-__setattr__,-__delattr__\" data-toc-modified-id=\"Динамическая-работа-с-атрибутами.-Методы-__getattr__,-__setattr__,-__delattr__-1.2.1\"><span class=\"toc-item-num\">1.2.1&nbsp;&nbsp;</span>Динамическая работа с атрибутами. Методы <code>__getattr__</code>, <code>__setattr__</code>, <code>__delattr__</code></a></span></li><li><span><a href=\"#Контексты---тут-я-уже-тупил,-необходимо-пересмотреть-лекцию\" data-toc-modified-id=\"Контексты---тут-я-уже-тупил,-необходимо-пересмотреть-лекцию-1.2.2\"><span class=\"toc-item-num\">1.2.2&nbsp;&nbsp;</span>Контексты - тут я уже тупил, необходимо пересмотреть лекцию</a></span></li></ul></li><li><span><a href=\"#Создание-и-удаление-объектов\" data-toc-modified-id=\"Создание-и-удаление-объектов-1.3\"><span class=\"toc-item-num\">1.3&nbsp;&nbsp;</span>Создание и удаление объектов</a></span><ul class=\"toc-item\"><li><span><a href=\"#Упражнение!\" data-toc-modified-id=\"Упражнение!-1.3.1\"><span class=\"toc-item-num\">1.3.1&nbsp;&nbsp;</span>Упражнение!</a></span></li></ul></li></ul></li></ul></div>"
   ]
  },
  {
   "cell_type": "markdown",
   "metadata": {
    "id": "__JLzgHtjtqe"
   },
   "source": [
    "## Наследование"
   ]
  },
  {
   "cell_type": "markdown",
   "metadata": {},
   "source": [
    "Наследование необходимо для того, чтобы организовывать код.\n",
    "\n",
    "Если у нас уже есть какой то класс, хранящий необходимые методы, а новый класс является его неким узким подмножеством, то нам не придется переопределять все эти методы. Либо переопределить часть из них"
   ]
  },
  {
   "cell_type": "code",
   "execution_count": 1,
   "metadata": {},
   "outputs": [
    {
     "name": "stdout",
     "output_type": "stream",
     "text": [
      "Help on class object in module builtins:\n",
      "\n",
      "class object\n",
      " |  The base class of the class hierarchy.\n",
      " |  \n",
      " |  When called, it accepts no arguments and returns a new featureless\n",
      " |  instance that has no instance attributes and cannot be given any.\n",
      " |  \n",
      " |  Built-in subclasses:\n",
      " |      ArgNotFound\n",
      " |      async_generator\n",
      " |      BaseException\n",
      " |      builtin_function_or_method\n",
      " |      ... and 117 other subclasses\n",
      " |  \n",
      " |  Methods defined here:\n",
      " |  \n",
      " |  __delattr__(self, name, /)\n",
      " |      Implement delattr(self, name).\n",
      " |  \n",
      " |  __dir__(self, /)\n",
      " |      Default dir() implementation.\n",
      " |  \n",
      " |  __eq__(self, value, /)\n",
      " |      Return self==value.\n",
      " |  \n",
      " |  __format__(self, format_spec, /)\n",
      " |      Default object formatter.\n",
      " |  \n",
      " |  __ge__(self, value, /)\n",
      " |      Return self>=value.\n",
      " |  \n",
      " |  __getattribute__(self, name, /)\n",
      " |      Return getattr(self, name).\n",
      " |  \n",
      " |  __gt__(self, value, /)\n",
      " |      Return self>value.\n",
      " |  \n",
      " |  __hash__(self, /)\n",
      " |      Return hash(self).\n",
      " |  \n",
      " |  __init__(self, /, *args, **kwargs)\n",
      " |      Initialize self.  See help(type(self)) for accurate signature.\n",
      " |  \n",
      " |  __le__(self, value, /)\n",
      " |      Return self<=value.\n",
      " |  \n",
      " |  __lt__(self, value, /)\n",
      " |      Return self<value.\n",
      " |  \n",
      " |  __ne__(self, value, /)\n",
      " |      Return self!=value.\n",
      " |  \n",
      " |  __reduce__(self, /)\n",
      " |      Helper for pickle.\n",
      " |  \n",
      " |  __reduce_ex__(self, protocol, /)\n",
      " |      Helper for pickle.\n",
      " |  \n",
      " |  __repr__(self, /)\n",
      " |      Return repr(self).\n",
      " |  \n",
      " |  __setattr__(self, name, value, /)\n",
      " |      Implement setattr(self, name, value).\n",
      " |  \n",
      " |  __sizeof__(self, /)\n",
      " |      Size of object in memory, in bytes.\n",
      " |  \n",
      " |  __str__(self, /)\n",
      " |      Return str(self).\n",
      " |  \n",
      " |  ----------------------------------------------------------------------\n",
      " |  Class methods defined here:\n",
      " |  \n",
      " |  __init_subclass__(...) from builtins.type\n",
      " |      This method is called when a class is subclassed.\n",
      " |      \n",
      " |      The default implementation does nothing. It may be\n",
      " |      overridden to extend subclasses.\n",
      " |  \n",
      " |  __subclasshook__(...) from builtins.type\n",
      " |      Abstract classes can override this to customize issubclass().\n",
      " |      \n",
      " |      This is invoked early on by abc.ABCMeta.__subclasscheck__().\n",
      " |      It should return True, False or NotImplemented.  If it returns\n",
      " |      NotImplemented, the normal algorithm is used.  Otherwise, it\n",
      " |      overrides the normal algorithm (and the outcome is cached).\n",
      " |  \n",
      " |  ----------------------------------------------------------------------\n",
      " |  Static methods defined here:\n",
      " |  \n",
      " |  __new__(*args, **kwargs) from builtins.type\n",
      " |      Create and return a new object.  See help(type) for accurate signature.\n",
      " |  \n",
      " |  ----------------------------------------------------------------------\n",
      " |  Data and other attributes defined here:\n",
      " |  \n",
      " |  __class__ = <class 'type'>\n",
      " |      type(object) -> the object's type\n",
      " |      type(name, bases, dict, **kwds) -> a new type\n",
      "\n"
     ]
    }
   ],
   "source": [
    "# в пайтон все является объектом\n",
    "# есть даже специальный объект, который называется object\n",
    "# посмотрим на него\n",
    "# все классы наследуются от него\n",
    "help(object)"
   ]
  },
  {
   "cell_type": "code",
   "execution_count": 2,
   "metadata": {},
   "outputs": [
    {
     "data": {
      "text/plain": [
       "<slot wrapper '__hash__' of 'object' objects>"
      ]
     },
     "execution_count": 2,
     "metadata": {},
     "output_type": "execute_result"
    }
   ],
   "source": [
    "object.__hash__"
   ]
  },
  {
   "cell_type": "code",
   "execution_count": 1,
   "metadata": {
    "id": "8N-AZdJejtqe"
   },
   "outputs": [],
   "source": [
    "# создадим класс\n",
    "class Animal:\n",
    "    # создаем атриюут класса\n",
    "    some_value = 'animal'\n",
    "    #создаем метод инициализации\n",
    "    def __init__(self):\n",
    "        print('i am an animal')  # так мы поймем, что инициализация прошла\n",
    "    # создаем второй метод, он будет выбрасывать исключение\n",
    "    def speak(self):\n",
    "        raise NotImplementedError('i don\\'t know how to speak')"
   ]
  },
  {
   "cell_type": "code",
   "execution_count": 2,
   "metadata": {},
   "outputs": [
    {
     "name": "stdout",
     "output_type": "stream",
     "text": [
      "i am an animal\n"
     ]
    }
   ],
   "source": [
    "# создаем экземпляр и видим, что он проинициализировался\n",
    "animal = Animal()"
   ]
  },
  {
   "cell_type": "code",
   "execution_count": 3,
   "metadata": {},
   "outputs": [
    {
     "data": {
      "text/plain": [
       "'animal'"
      ]
     },
     "execution_count": 3,
     "metadata": {},
     "output_type": "execute_result"
    }
   ],
   "source": [
    "# посмотрим на атрибут\n",
    "animal.some_value"
   ]
  },
  {
   "cell_type": "code",
   "execution_count": 4,
   "metadata": {},
   "outputs": [
    {
     "ename": "NotImplementedError",
     "evalue": "i don't know how to speak",
     "output_type": "error",
     "traceback": [
      "\u001b[1;31m---------------------------------------------------------------------------\u001b[0m",
      "\u001b[1;31mNotImplementedError\u001b[0m                       Traceback (most recent call last)",
      "Input \u001b[1;32mIn [4]\u001b[0m, in \u001b[0;36m<cell line: 2>\u001b[1;34m()\u001b[0m\n\u001b[0;32m      1\u001b[0m \u001b[38;5;66;03m# воспользуемся методом\u001b[39;00m\n\u001b[1;32m----> 2\u001b[0m \u001b[43manimal\u001b[49m\u001b[38;5;241;43m.\u001b[39;49m\u001b[43mspeak\u001b[49m\u001b[43m(\u001b[49m\u001b[43m)\u001b[49m\n",
      "Input \u001b[1;32mIn [1]\u001b[0m, in \u001b[0;36mAnimal.speak\u001b[1;34m(self)\u001b[0m\n\u001b[0;32m      9\u001b[0m \u001b[38;5;28;01mdef\u001b[39;00m \u001b[38;5;21mspeak\u001b[39m(\u001b[38;5;28mself\u001b[39m):\n\u001b[1;32m---> 10\u001b[0m     \u001b[38;5;28;01mraise\u001b[39;00m \u001b[38;5;167;01mNotImplementedError\u001b[39;00m(\u001b[38;5;124m'\u001b[39m\u001b[38;5;124mi don\u001b[39m\u001b[38;5;130;01m\\'\u001b[39;00m\u001b[38;5;124mt know how to speak\u001b[39m\u001b[38;5;124m'\u001b[39m)\n",
      "\u001b[1;31mNotImplementedError\u001b[0m: i don't know how to speak"
     ]
    }
   ],
   "source": [
    "# воспользуемся методом\n",
    "animal.speak()"
   ]
  },
  {
   "cell_type": "code",
   "execution_count": 5,
   "metadata": {
    "id": "8N-AZdJejtqe"
   },
   "outputs": [],
   "source": [
    "# в этой ячейке мы уже знакомимся с таким механизмом, как наследование\n",
    "# создаем класс, наследуемый от ANIMAL\n",
    "class Cat(Animal):\n",
    "    # создаем атрибут\n",
    "    some_value = 'cat'\n",
    "    # создаем метод инициализации\n",
    "    def __init__(self):\n",
    "        \n",
    "        super().__init__()  # super() дает нам доступ к родительским классам\n",
    "        print('i am a cat')\n",
    "    # создаем второй метод\n",
    "    def speak(self):\n",
    "        print('meooow')"
   ]
  },
  {
   "cell_type": "code",
   "execution_count": 6,
   "metadata": {
    "colab": {
     "base_uri": "https://localhost:8080/",
     "height": 53
    },
    "id": "7rPSlk-Njtqf",
    "outputId": "d3067cb7-2392-45b2-e2f0-ccac8d093c1e"
   },
   "outputs": [
    {
     "name": "stdout",
     "output_type": "stream",
     "text": [
      "i am an animal\n"
     ]
    },
    {
     "data": {
      "text/plain": [
       "'animal'"
      ]
     },
     "execution_count": 6,
     "metadata": {},
     "output_type": "execute_result"
    }
   ],
   "source": [
    "# рассмотрим отличия объектов\n",
    "animal = Animal()\n",
    "animal.some_value"
   ]
  },
  {
   "cell_type": "code",
   "execution_count": 7,
   "metadata": {
    "colab": {
     "base_uri": "https://localhost:8080/",
     "height": 71
    },
    "id": "7HszCJIfjtqf",
    "outputId": "dc35f5e1-91e9-4116-f373-65395bc6304a",
    "scrolled": true
   },
   "outputs": [
    {
     "name": "stdout",
     "output_type": "stream",
     "text": [
      "i am an animal\n",
      "i am a cat\n"
     ]
    },
    {
     "data": {
      "text/plain": [
       "'cat'"
      ]
     },
     "execution_count": 7,
     "metadata": {},
     "output_type": "execute_result"
    }
   ],
   "source": [
    "# обратим внимание на инициализацию. Это происходит из за super().__init__()\n",
    "# и на значение атрибута\n",
    "cat = Cat()\n",
    "cat.some_value  # переопределено"
   ]
  },
  {
   "cell_type": "code",
   "execution_count": 9,
   "metadata": {
    "id": "8N-AZdJejtqe"
   },
   "outputs": [],
   "source": [
    "# создадим еще одного наследника класса Animal\n",
    "class Hedgehog(Animal):\n",
    "    # для разнообразия в нем будет определен только метод __init__\n",
    "    def __init__(self):\n",
    "        super().__init__()\n",
    "        print('i am a Hedgehog')"
   ]
  },
  {
   "cell_type": "code",
   "execution_count": 10,
   "metadata": {},
   "outputs": [
    {
     "name": "stdout",
     "output_type": "stream",
     "text": [
      "i am an animal\n",
      "i am a Hedgehog\n"
     ]
    },
    {
     "data": {
      "text/plain": [
       "'animal'"
      ]
     },
     "execution_count": 10,
     "metadata": {},
     "output_type": "execute_result"
    }
   ],
   "source": [
    "# посмотрим на работу этого класса\n",
    "hedgehog = Hedgehog()\n",
    "hedgehog.some_value  # не переопределено"
   ]
  },
  {
   "cell_type": "code",
   "execution_count": 12,
   "metadata": {
    "id": "8N-AZdJejtqe"
   },
   "outputs": [],
   "source": [
    "# аналогично создаем класс dog, но с атрибутом\n",
    "class Dog(Animal):\n",
    "    # создаем атрибут\n",
    "    some_value = 'dog'\n",
    "    # создаем метод инициализации\n",
    "    def __init__(self):\n",
    "        super().__init__()\n",
    "        print('i am a Dog') "
   ]
  },
  {
   "cell_type": "code",
   "execution_count": 13,
   "metadata": {},
   "outputs": [
    {
     "name": "stdout",
     "output_type": "stream",
     "text": [
      "i am an animal\n",
      "i am a Dog\n"
     ]
    },
    {
     "data": {
      "text/plain": [
       "'dog'"
      ]
     },
     "execution_count": 13,
     "metadata": {},
     "output_type": "execute_result"
    }
   ],
   "source": [
    "dog = Dog()\n",
    "dog.some_value  # переопределено"
   ]
  },
  {
   "cell_type": "code",
   "execution_count": 14,
   "metadata": {
    "id": "8N-AZdJejtqe"
   },
   "outputs": [],
   "source": [
    "# последний класс, наследуемый от классов-наследников Animal\n",
    "# это называется множественное наследование\n",
    "class CatDog(Cat, Dog):\n",
    "    # создадим метод инициализации\n",
    "    def __init__(self):\n",
    "        super().__init__()\n",
    "        print('i am a CatDog')  "
   ]
  },
  {
   "cell_type": "code",
   "execution_count": 15,
   "metadata": {},
   "outputs": [
    {
     "name": "stdout",
     "output_type": "stream",
     "text": [
      "i am an animal\n",
      "i am a Dog\n",
      "i am a cat\n",
      "i am a CatDog\n"
     ]
    },
    {
     "data": {
      "text/plain": [
       "'cat'"
      ]
     },
     "execution_count": 15,
     "metadata": {},
     "output_type": "execute_result"
    }
   ],
   "source": [
    "# тут вообщем сырбор)\n",
    "# было вызвано 4 метода инициализации\n",
    "catdog = CatDog()\n",
    "catdog.some_value"
   ]
  },
  {
   "cell_type": "code",
   "execution_count": 16,
   "metadata": {
    "id": "JxOncfhU6-ku"
   },
   "outputs": [],
   "source": [
    "# ______Animal______\n",
    "# ___/    |    \\\n",
    "# Cat   Dog   Hedgehog\n",
    "#    \\   /\n",
    "#    CatDog"
   ]
  },
  {
   "cell_type": "code",
   "execution_count": 17,
   "metadata": {
    "colab": {
     "base_uri": "https://localhost:8080/",
     "height": 106
    },
    "id": "uLTW9wRTjtqf",
    "outputId": "769ec99f-39ab-4d83-923a-5d6b5bde6f85"
   },
   "outputs": [
    {
     "name": "stdout",
     "output_type": "stream",
     "text": [
      "i am an animal\n",
      "i am a cat\n",
      "i am a Dog\n",
      "i am a CatDog!\n"
     ]
    },
    {
     "data": {
      "text/plain": [
       "'dog'"
      ]
     },
     "execution_count": 17,
     "metadata": {},
     "output_type": "execute_result"
    }
   ],
   "source": [
    "# сменим порядок родительских классов при создании класса\n",
    "class CatDog(Dog, Cat):\n",
    "    def __init__(self):\n",
    "        super().__init__()\n",
    "        print(\"i am a CatDog!\")\n",
    "\n",
    "catdog = CatDog()\n",
    "catdog.some_value"
   ]
  },
  {
   "cell_type": "code",
   "execution_count": 19,
   "metadata": {
    "colab": {
     "base_uri": "https://localhost:8080/",
     "height": 329
    },
    "id": "XUlv8zBqjtqf",
    "outputId": "a2a31419-e7a4-4771-e9d3-1574d59692fe"
   },
   "outputs": [
    {
     "name": "stdout",
     "output_type": "stream",
     "text": [
      "meooow\n"
     ]
    },
    {
     "ename": "NotImplementedError",
     "evalue": "i don't know how to speak",
     "output_type": "error",
     "traceback": [
      "\u001b[1;31m---------------------------------------------------------------------------\u001b[0m",
      "\u001b[1;31mNotImplementedError\u001b[0m                       Traceback (most recent call last)",
      "Input \u001b[1;32mIn [19]\u001b[0m, in \u001b[0;36m<cell line: 2>\u001b[1;34m()\u001b[0m\n\u001b[0;32m      1\u001b[0m cat\u001b[38;5;241m.\u001b[39mspeak()  \u001b[38;5;66;03m# переопределено\u001b[39;00m\n\u001b[1;32m----> 2\u001b[0m \u001b[43mdog\u001b[49m\u001b[38;5;241;43m.\u001b[39;49m\u001b[43mspeak\u001b[49m\u001b[43m(\u001b[49m\u001b[43m)\u001b[49m\n",
      "Input \u001b[1;32mIn [1]\u001b[0m, in \u001b[0;36mAnimal.speak\u001b[1;34m(self)\u001b[0m\n\u001b[0;32m      9\u001b[0m \u001b[38;5;28;01mdef\u001b[39;00m \u001b[38;5;21mspeak\u001b[39m(\u001b[38;5;28mself\u001b[39m):\n\u001b[1;32m---> 10\u001b[0m     \u001b[38;5;28;01mraise\u001b[39;00m \u001b[38;5;167;01mNotImplementedError\u001b[39;00m(\u001b[38;5;124m'\u001b[39m\u001b[38;5;124mi don\u001b[39m\u001b[38;5;130;01m\\'\u001b[39;00m\u001b[38;5;124mt know how to speak\u001b[39m\u001b[38;5;124m'\u001b[39m)\n",
      "\u001b[1;31mNotImplementedError\u001b[0m: i don't know how to speak"
     ]
    }
   ],
   "source": [
    "cat.speak()  # переопределено\n",
    "dog.speak()  # не переопределено"
   ]
  },
  {
   "cell_type": "markdown",
   "metadata": {},
   "source": [
    "dog не умеет делать speek, поэтому программа сама продолжает искать и идет дальше к классу Animal. \n",
    "\n",
    "Там она натыкается на вывод ошибки, если метод speak не существует\n",
    "\n",
    "Происходит это по специальному алгоритму методу `__mro__`"
   ]
  },
  {
   "cell_type": "code",
   "execution_count": 21,
   "metadata": {},
   "outputs": [
    {
     "name": "stdout",
     "output_type": "stream",
     "text": [
      "[<class '__main__.F'>, <class '__main__.E'>, <class '__main__.D'>, <class '__main__.B'>, <class '__main__.C'>, <class '__main__.A'>, <class 'object'>]\n",
      "I'm \"class F\"\n",
      "I'm \"class E\"\n",
      "I'm \"class D\"\n",
      "I'm \"class B\"\n",
      "I'm \"class C\"\n",
      "I'm \"class A\"\n",
      "I'm here \"class A\"\n",
      "I'm here \"class C\"\n",
      "I'm here \"class B\"\n",
      "I'm here \"class D\"\n",
      "I'm here \"class E\"\n",
      "I'm here \"class F\"\n"
     ]
    }
   ],
   "source": [
    "# все, что мы делали с котами ежами собаками можно записать вот так для наглядности\n",
    "class A:\n",
    "    def method(self):\n",
    "        print('I\\'m \"class A\"')\n",
    "        # super().method()\n",
    "        print('I\\'m here \"class A\"')\n",
    "\n",
    "class B(A):\n",
    "    def method(self):\n",
    "        print('I\\'m \"class B\"')\n",
    "        super().method()\n",
    "        print('I\\'m here \"class B\"')\n",
    "\n",
    "class C(A):\n",
    "    def method(self):\n",
    "        print('I\\'m \"class C\"')\n",
    "        super().method()\n",
    "        print('I\\'m here \"class C\"')\n",
    "\n",
    "class D(B, C):\n",
    "    def method(self):\n",
    "        print('I\\'m \"class D\"')\n",
    "        super().method()\n",
    "        print('I\\'m here \"class D\"')\n",
    "\n",
    "\n",
    "class E:\n",
    "    def method(self):\n",
    "        print('I\\'m \"class E\"')\n",
    "        super().method()\n",
    "        print('I\\'m here \"class E\"')\n",
    "\n",
    "class F(E, D):\n",
    "    def method(self):\n",
    "        print('I\\'m \"class F\"')\n",
    "        super().method()\n",
    "        print('I\\'m here \"class F\"')\n",
    "\n",
    "print(F.mro())\n",
    "f = F()\n",
    "f.method()"
   ]
  },
  {
   "cell_type": "code",
   "execution_count": 22,
   "metadata": {},
   "outputs": [
    {
     "data": {
      "text/plain": [
       "(__main__.D, __main__.B, __main__.C, __main__.A, object)"
      ]
     },
     "execution_count": 22,
     "metadata": {},
     "output_type": "execute_result"
    }
   ],
   "source": [
    "# смотрим на класс D. Его метод resolution Oreder хранит следующие классы\n",
    "D.__mro__"
   ]
  },
  {
   "cell_type": "code",
   "execution_count": 23,
   "metadata": {},
   "outputs": [
    {
     "ename": "AttributeError",
     "evalue": "readonly attribute",
     "output_type": "error",
     "traceback": [
      "\u001b[1;31m---------------------------------------------------------------------------\u001b[0m",
      "\u001b[1;31mAttributeError\u001b[0m                            Traceback (most recent call last)",
      "Input \u001b[1;32mIn [23]\u001b[0m, in \u001b[0;36m<cell line: 3>\u001b[1;34m()\u001b[0m\n\u001b[0;32m      1\u001b[0m \u001b[38;5;66;03m# можем ли мы изменить метод обхода классов?\u001b[39;00m\n\u001b[0;32m      2\u001b[0m \u001b[38;5;66;03m# нет не можем. Как создали, так и будет.\u001b[39;00m\n\u001b[1;32m----> 3\u001b[0m D\u001b[38;5;241m.\u001b[39m\u001b[38;5;18m__mro__\u001b[39m \u001b[38;5;241m=\u001b[39m (D, C, B, A, \u001b[38;5;28mobject\u001b[39m)\n",
      "\u001b[1;31mAttributeError\u001b[0m: readonly attribute"
     ]
    }
   ],
   "source": [
    "# можем ли мы изменить метод обхода классов?\n",
    "# нет не можем. Как создали, так и будет.\n",
    "D.__mro__ = (D, C, B, A, object)"
   ]
  },
  {
   "cell_type": "code",
   "execution_count": 24,
   "metadata": {},
   "outputs": [
    {
     "name": "stdout",
     "output_type": "stream",
     "text": [
      "True\n",
      "True\n",
      "True\n",
      "True\n",
      "False\n",
      "True\n",
      "True\n"
     ]
    }
   ],
   "source": [
    "# метод isinstance проверяет является ли объект объектом того или иного типа\n",
    "# так же он может проверять является ли класс наследником того или иного класса\n",
    "print(isinstance(1, int))\n",
    "print(isinstance(True, int))\n",
    "print(isinstance(Animal, object))\n",
    "print(isinstance(F, object))\n",
    "print(isinstance(42, str))\n",
    "print(issubclass(F, B))\n",
    "print(issubclass(D, (E, C)))"
   ]
  },
  {
   "cell_type": "markdown",
   "metadata": {},
   "source": [
    "## Изменяемые атрибуты"
   ]
  },
  {
   "cell_type": "markdown",
   "metadata": {},
   "source": [
    "exp3, exp4 = exp1, exp2"
   ]
  },
  {
   "cell_type": "code",
   "execution_count": 25,
   "metadata": {
    "id": "6SkXXgsBf5Sn"
   },
   "outputs": [],
   "source": [
    "# создадим еще один класс\n",
    "class RandomClass:\n",
    "    # создаем атрибут\n",
    "    cls_attr = 'just a string'\n",
    "    # метод инициализации\n",
    "    def __init__(self):\n",
    "        self.inst_attr = 0\n",
    "    # прибавляет единицу\n",
    "    def sample_method(self):\n",
    "        self.inst_attr += 1\n",
    "    # def __init__(self):\n",
    "    #     self.new_attr = 0"
   ]
  },
  {
   "cell_type": "code",
   "execution_count": 26,
   "metadata": {
    "colab": {
     "base_uri": "https://localhost:8080/"
    },
    "id": "IXyE36-DgU_q",
    "outputId": "c8e217ce-7c3d-4eae-d0d3-796ab614dc38"
   },
   "outputs": [
    {
     "name": "stdout",
     "output_type": "stream",
     "text": [
      "clas_obj.inst_attr = 0\n"
     ]
    },
    {
     "data": {
      "text/plain": [
       "(None, 1)"
      ]
     },
     "execution_count": 26,
     "metadata": {},
     "output_type": "execute_result"
    }
   ],
   "source": [
    "# создаем экземпляр класса\n",
    "clas_obj = RandomClass()\n",
    "# печатаем \n",
    "print(f'{clas_obj.inst_attr = }')\n",
    "# смотрим на работу методов\n",
    "clas_obj.sample_method(), clas_obj.inst_attr  # вызываем методы и получаем кортеж"
   ]
  },
  {
   "cell_type": "code",
   "execution_count": 27,
   "metadata": {},
   "outputs": [
    {
     "data": {
      "text/plain": [
       "(None, 2, None)"
      ]
     },
     "execution_count": 27,
     "metadata": {},
     "output_type": "execute_result"
    }
   ],
   "source": [
    "# посмотрим что выведем данный код\n",
    "clas_obj.sample_method(), clas_obj.inst_attr, clas_obj.sample_method()"
   ]
  },
  {
   "cell_type": "code",
   "execution_count": 28,
   "metadata": {},
   "outputs": [
    {
     "data": {
      "text/plain": [
       "3"
      ]
     },
     "execution_count": 28,
     "metadata": {},
     "output_type": "execute_result"
    }
   ],
   "source": [
    "# теперь здесь лежит 3 \n",
    "clas_obj.inst_attr"
   ]
  },
  {
   "cell_type": "code",
   "execution_count": 29,
   "metadata": {},
   "outputs": [],
   "source": [
    "class MutableClass:\n",
    "    \n",
    "    def __init__(self):\n",
    "        self.inst_attr = [0]  # создается список\n",
    "    def sample_method(self):\n",
    "        self.inst_attr[0] += 1"
   ]
  },
  {
   "cell_type": "code",
   "execution_count": 30,
   "metadata": {},
   "outputs": [
    {
     "data": {
      "text/plain": [
       "[0]"
      ]
     },
     "execution_count": 30,
     "metadata": {},
     "output_type": "execute_result"
    }
   ],
   "source": [
    "mut = MutableClass()\n",
    "mut.inst_attr"
   ]
  },
  {
   "cell_type": "code",
   "execution_count": 31,
   "metadata": {},
   "outputs": [
    {
     "data": {
      "text/plain": [
       "(None, [2], None)"
      ]
     },
     "execution_count": 31,
     "metadata": {},
     "output_type": "execute_result"
    }
   ],
   "source": [
    "# давайте разбираться почему здесь лежит двойка\n",
    "# кортеж - последовательность ссылок на какие то объекты\n",
    "# последовательность действий кортижа:\n",
    "# 1 - проинтерпритировалось первое выражение mut.sample_method()\n",
    "# 2 - вернулась ссылка на None. В ходе этого метода наш [0] стал [1]\n",
    "# 3 - затем при исполнении mut.inst_attr вернулась ссылка на список, в котором [1]\n",
    "# 4 - проинтерпритировалось второе выражение mut.sample_method() и список стал [2]\n",
    "# 5 - и только после выполнения комплексного выражения методов собрался кортеж сам по себе\n",
    "# К моменту, когда к нам вернулся кортеж в списке оказалась уже [2]\n",
    "mut.sample_method(), mut.inst_attr, mut.sample_method()"
   ]
  },
  {
   "cell_type": "code",
   "execution_count": 32,
   "metadata": {},
   "outputs": [
    {
     "data": {
      "text/plain": [
       "(None, [4], None)"
      ]
     },
     "execution_count": 32,
     "metadata": {},
     "output_type": "execute_result"
    }
   ],
   "source": [
    "mut.sample_method(), mut.inst_attr, mut.sample_method()"
   ]
  },
  {
   "cell_type": "code",
   "execution_count": 33,
   "metadata": {},
   "outputs": [
    {
     "data": {
      "text/plain": [
       "(None, [8], None, None, None)"
      ]
     },
     "execution_count": 33,
     "metadata": {},
     "output_type": "execute_result"
    }
   ],
   "source": [
    "mut.sample_method(), mut.inst_attr, mut.sample_method(), mut.sample_method(), MutableClass.sample_method(mut)"
   ]
  },
  {
   "cell_type": "markdown",
   "metadata": {
    "id": "AjwJDLvS146-"
   },
   "source": [
    "# Специальные методы классов"
   ]
  },
  {
   "cell_type": "code",
   "execution_count": 34,
   "metadata": {
    "id": "A6m2SXlZ147C"
   },
   "outputs": [],
   "source": [
    "import random\n",
    "# создадим класс ветор\n",
    "class Vector:\n",
    "    # метод инициализации вектора\n",
    "    def __init__(self, x=0, y=0, color=None):\n",
    "        print('initialization a vector')\n",
    "        # зададим условия, для корректного ввода\n",
    "        if type(x) != int or type(y) != int:  # вот так не лучший способ писать, т.к. есть isinstance\n",
    "            print('x and y shold be int')\n",
    "        # такая запись более правильная\n",
    "        if not isinstance(x, int):\n",
    "            raise AttributeError('x shold be int')\n",
    "        if not isinstance(y, int):\n",
    "            raise AttributeError('y shold be int')\n",
    "        \n",
    "        # проведем инициализацию атрибутов\n",
    "        self._x = x\n",
    "        self._y = y\n",
    "        self._color = color\n",
    "        \n",
    "    # создадим методы, возвращающие соответствующие координаты\n",
    "    def get_x(self):\n",
    "        return self._x\n",
    "    def get_y(self):\n",
    "        return self._y"
   ]
  },
  {
   "cell_type": "code",
   "execution_count": 35,
   "metadata": {
    "colab": {
     "base_uri": "https://localhost:8080/",
     "height": 53
    },
    "id": "5F0Llj-8147F",
    "outputId": "ca252163-bdcf-4214-d695-7512a807d97d"
   },
   "outputs": [
    {
     "name": "stdout",
     "output_type": "stream",
     "text": [
      "initialization a vector\n"
     ]
    },
    {
     "data": {
      "text/plain": [
       "'<__main__.Vector object at 0x00000189D9816760>'"
      ]
     },
     "execution_count": 35,
     "metadata": {},
     "output_type": "execute_result"
    }
   ],
   "source": [
    "# создаем экземпляр\n",
    "vector = Vector(1, 2, 'red')\n",
    "str(vector)  # функция str напечатала наш вектор, его внутреннее представление"
   ]
  },
  {
   "cell_type": "code",
   "execution_count": 37,
   "metadata": {},
   "outputs": [
    {
     "name": "stdout",
     "output_type": "stream",
     "text": [
      "<__main__.Vector object at 0x00000189D9816760>\n"
     ]
    }
   ],
   "source": [
    "# попробуем напечатать наш вектор\n",
    "print(vector)"
   ]
  },
  {
   "cell_type": "markdown",
   "metadata": {},
   "source": [
    "### метод `__str__`"
   ]
  },
  {
   "cell_type": "code",
   "execution_count": 39,
   "metadata": {
    "id": "bbbBHQ4V147I"
   },
   "outputs": [],
   "source": [
    "# наследуем класс вектор с методом str от класса Vector\n",
    "class VectorWithStr(Vector):\n",
    "    # метод, который будет возвращать нам более красивую строку об объекте\n",
    "    def __str__(self):\n",
    "        return f'vector ({self._x}, {self._y}) of color {self._color}'"
   ]
  },
  {
   "cell_type": "code",
   "execution_count": 40,
   "metadata": {
    "colab": {
     "base_uri": "https://localhost:8080/",
     "height": 53
    },
    "id": "eLJ1D-yo147J",
    "outputId": "4e2bfba5-1e9f-40dd-e5e7-cee47092c827"
   },
   "outputs": [
    {
     "name": "stdout",
     "output_type": "stream",
     "text": [
      "initialization a vector\n"
     ]
    },
    {
     "data": {
      "text/plain": [
       "'vector (1, 2) of color red'"
      ]
     },
     "execution_count": 40,
     "metadata": {},
     "output_type": "execute_result"
    }
   ],
   "source": [
    "# создаем экзепляр\n",
    "vector = VectorWithStr(1, 2, 'red')\n",
    "# получаем строку\n",
    "str(vector)"
   ]
  },
  {
   "cell_type": "code",
   "execution_count": 41,
   "metadata": {
    "colab": {
     "base_uri": "https://localhost:8080/"
    },
    "id": "IpDIC9oT147M",
    "outputId": "09a01982-a88d-4c05-8ce5-f944af25a977"
   },
   "outputs": [
    {
     "name": "stdout",
     "output_type": "stream",
     "text": [
      "vector (1, 2) of color red\n"
     ]
    }
   ],
   "source": [
    "print(vector)"
   ]
  },
  {
   "cell_type": "code",
   "execution_count": 42,
   "metadata": {
    "colab": {
     "base_uri": "https://localhost:8080/",
     "height": 187
    },
    "id": "58ZQyT7I147N",
    "outputId": "4e98e88a-7d07-4035-a592-7faa8424cc99"
   },
   "outputs": [
    {
     "ename": "KeyError",
     "evalue": "<__main__.VectorWithStr object at 0x00000189D99D8280>",
     "output_type": "error",
     "traceback": [
      "\u001b[1;31m---------------------------------------------------------------------------\u001b[0m",
      "\u001b[1;31mKeyError\u001b[0m                                  Traceback (most recent call last)",
      "Input \u001b[1;32mIn [42]\u001b[0m, in \u001b[0;36m<cell line: 4>\u001b[1;34m()\u001b[0m\n\u001b[0;32m      2\u001b[0m mydict \u001b[38;5;241m=\u001b[39m {}\n\u001b[0;32m      3\u001b[0m \u001b[38;5;66;03m# вернем объект по ключу vector\u001b[39;00m\n\u001b[1;32m----> 4\u001b[0m \u001b[43mmydict\u001b[49m\u001b[43m[\u001b[49m\u001b[43mvector\u001b[49m\u001b[43m]\u001b[49m\n",
      "\u001b[1;31mKeyError\u001b[0m: <__main__.VectorWithStr object at 0x00000189D99D8280>"
     ]
    }
   ],
   "source": [
    "# создадим пустой словарь\n",
    "mydict = {}\n",
    "# вернем объект по ключу vector\n",
    "mydict[vector]\n",
    "# в KeyError для словаря получаем тот самый ключ, который был использован для получения значения"
   ]
  },
  {
   "cell_type": "code",
   "execution_count": 44,
   "metadata": {
    "colab": {
     "base_uri": "https://localhost:8080/"
    },
    "id": "9AprPbl6147O",
    "outputId": "188bec53-7629-4c06-ee20-81c793787aa1"
   },
   "outputs": [
    {
     "name": "stdout",
     "output_type": "stream",
     "text": [
      "[<__main__.VectorWithStr object at 0x00000189D99D8280>]\n"
     ]
    }
   ],
   "source": [
    "# сделаем тоже самое со списком\n",
    "mylist = [vector]\n",
    "print(mylist)"
   ]
  },
  {
   "cell_type": "markdown",
   "metadata": {},
   "source": [
    "### метод  `__repr__`"
   ]
  },
  {
   "cell_type": "code",
   "execution_count": 45,
   "metadata": {
    "id": "IxYDswqW147Q"
   },
   "outputs": [],
   "source": [
    "# создаем новый класс\n",
    "class VectorWithRepr(Vector):\n",
    "    # используем новый метод\n",
    "    def __repr__(self):\n",
    "        return f'vector representation (x: {self._x}, y: {self._y}, color: {self._color})'"
   ]
  },
  {
   "cell_type": "code",
   "execution_count": 46,
   "metadata": {
    "colab": {
     "base_uri": "https://localhost:8080/",
     "height": 258
    },
    "id": "HRh1xb3-147R",
    "outputId": "f37061d7-0c40-48f9-c8ba-bb8dfacb1af7"
   },
   "outputs": [
    {
     "name": "stdout",
     "output_type": "stream",
     "text": [
      "initialization a vector\n",
      "vector representation (x: 1, y: 2, color: red)\n",
      "[vector representation (x: 1, y: 2, color: red)]\n"
     ]
    },
    {
     "ename": "KeyError",
     "evalue": "vector representation (x: 1, y: 2, color: red)",
     "output_type": "error",
     "traceback": [
      "\u001b[1;31m---------------------------------------------------------------------------\u001b[0m",
      "\u001b[1;31mKeyError\u001b[0m                                  Traceback (most recent call last)",
      "Input \u001b[1;32mIn [46]\u001b[0m, in \u001b[0;36m<cell line: 8>\u001b[1;34m()\u001b[0m\n\u001b[0;32m      6\u001b[0m \u001b[38;5;28mprint\u001b[39m(mylist)\n\u001b[0;32m      7\u001b[0m mydict \u001b[38;5;241m=\u001b[39m {}\n\u001b[1;32m----> 8\u001b[0m \u001b[43mmydict\u001b[49m\u001b[43m[\u001b[49m\u001b[43mvector\u001b[49m\u001b[43m]\u001b[49m\n",
      "\u001b[1;31mKeyError\u001b[0m: vector representation (x: 1, y: 2, color: red)"
     ]
    }
   ],
   "source": [
    "# создаем объект\n",
    "vector = VectorWithRepr(1, 2, 'red')\n",
    "# сразу используем все ранние шаги\n",
    "print(vector)\n",
    "mylist = [vector]\n",
    "print(mylist)\n",
    "mydict = {}\n",
    "mydict[vector]"
   ]
  },
  {
   "cell_type": "code",
   "execution_count": 47,
   "metadata": {
    "id": "5Q8ROuKi147S"
   },
   "outputs": [],
   "source": [
    "# воспользуемся множественным наследованием для создания класса\n",
    "class VectorWithBothReprAndStr(VectorWithRepr, VectorWithStr):\n",
    "    pass"
   ]
  },
  {
   "cell_type": "code",
   "execution_count": 48,
   "metadata": {
    "colab": {
     "base_uri": "https://localhost:8080/"
    },
    "id": "HjOE8hDX147S",
    "outputId": "02c38180-9533-4720-bc92-f6964cdd8d8b"
   },
   "outputs": [
    {
     "name": "stdout",
     "output_type": "stream",
     "text": [
      "initialization a vector\n",
      "vector (1, 2) of color red\n",
      "[vector representation (x: 1, y: 2, color: red)]\n"
     ]
    }
   ],
   "source": [
    "vector = VectorWithBothReprAndStr(1, 2, 'red')\n",
    "# вот здесь должны получиться разные значения\n",
    "print(vector)\n",
    "print([vector])"
   ]
  },
  {
   "cell_type": "code",
   "execution_count": 49,
   "metadata": {},
   "outputs": [
    {
     "data": {
      "text/plain": [
       "vector representation (x: 1, y: 2, color: red)"
      ]
     },
     "execution_count": 49,
     "metadata": {},
     "output_type": "execute_result"
    }
   ],
   "source": [
    "vector"
   ]
  },
  {
   "cell_type": "code",
   "execution_count": 51,
   "metadata": {},
   "outputs": [
    {
     "name": "stdout",
     "output_type": "stream",
     "text": [
      "hello\n"
     ]
    },
    {
     "data": {
      "text/plain": [
       "'hello'"
      ]
     },
     "execution_count": 51,
     "metadata": {},
     "output_type": "execute_result"
    }
   ],
   "source": [
    "print('hello')\n",
    "'hello'"
   ]
  },
  {
   "cell_type": "code",
   "execution_count": 52,
   "metadata": {},
   "outputs": [
    {
     "name": "stdout",
     "output_type": "stream",
     "text": [
      "[1, 2, 3]\n"
     ]
    },
    {
     "data": {
      "text/plain": [
       "[1, 2, 3]"
      ]
     },
     "execution_count": 52,
     "metadata": {},
     "output_type": "execute_result"
    }
   ],
   "source": [
    "print([1,2,3])\n",
    "[1,2,3]"
   ]
  },
  {
   "cell_type": "code",
   "execution_count": 53,
   "metadata": {},
   "outputs": [
    {
     "name": "stdout",
     "output_type": "stream",
     "text": [
      "[0 1 2 3 4 5 6 7 8 9]\n",
      "[0, 1, 2, 3, 4, 5, 6, 7, 8, 9]\n"
     ]
    },
    {
     "data": {
      "text/plain": [
       "array([0, 1, 2, 3, 4, 5, 6, 7, 8, 9])"
      ]
     },
     "execution_count": 53,
     "metadata": {},
     "output_type": "execute_result"
    }
   ],
   "source": [
    "import numpy as np\n",
    "\n",
    "arr = np.arange(10)\n",
    "\n",
    "print(arr)  # Numpy массив печатается без запятых\n",
    "print(list(range(10)))\n",
    "arr  # , list(range(10))  # возвращение массива Numpy"
   ]
  },
  {
   "cell_type": "markdown",
   "metadata": {
    "id": "jR8D-m0Y147T"
   },
   "source": [
    "### Арифметика методы `__abs__`,  `__sub__`, `__add__`"
   ]
  },
  {
   "cell_type": "markdown",
   "metadata": {
    "id": "jaX_WGO47xjB"
   },
   "source": [
    "[перегрузка операторов](https://pythonworld.ru/osnovy/peregruzka-operatorov.html)"
   ]
  },
  {
   "cell_type": "markdown",
   "metadata": {},
   "source": [
    "$\\sqrt{x^2 + y^2 + z^2}$"
   ]
  },
  {
   "cell_type": "markdown",
   "metadata": {},
   "source": [
    "$|x| + |y| + |z|$"
   ]
  },
  {
   "cell_type": "code",
   "execution_count": 54,
   "metadata": {
    "colab": {
     "base_uri": "https://localhost:8080/"
    },
    "id": "UnOUQ6i7eFlK",
    "outputId": "11869279-6cc8-45eb-95f7-779c5219e672"
   },
   "outputs": [
    {
     "data": {
      "text/plain": [
       "1000"
      ]
     },
     "execution_count": 54,
     "metadata": {},
     "output_type": "execute_result"
    }
   ],
   "source": [
    "# возьмем модуль от (-1000)\n",
    "abs(-1000)"
   ]
  },
  {
   "cell_type": "code",
   "execution_count": 56,
   "metadata": {},
   "outputs": [
    {
     "ename": "TypeError",
     "evalue": "bad operand type for abs(): 'VectorWithBothReprAndStr'",
     "output_type": "error",
     "traceback": [
      "\u001b[1;31m---------------------------------------------------------------------------\u001b[0m",
      "\u001b[1;31mTypeError\u001b[0m                                 Traceback (most recent call last)",
      "Input \u001b[1;32mIn [56]\u001b[0m, in \u001b[0;36m<cell line: 3>\u001b[1;34m()\u001b[0m\n\u001b[0;32m      1\u001b[0m \u001b[38;5;66;03m# попробуем взять модуль от нашего вектора\u001b[39;00m\n\u001b[0;32m      2\u001b[0m \u001b[38;5;66;03m# нам будет необходимо переопределить данный метод, чтобы брать модуль от вектора\u001b[39;00m\n\u001b[1;32m----> 3\u001b[0m \u001b[38;5;28;43mabs\u001b[39;49m\u001b[43m(\u001b[49m\u001b[43mvector\u001b[49m\u001b[43m)\u001b[49m\n",
      "\u001b[1;31mTypeError\u001b[0m: bad operand type for abs(): 'VectorWithBothReprAndStr'"
     ]
    }
   ],
   "source": [
    "# попробуем взять модуль от нашего вектора\n",
    "# нам будет необходимо переопределить данный метод, чтобы брать модуль от вектора\n",
    "abs(vector)"
   ]
  },
  {
   "cell_type": "code",
   "execution_count": 57,
   "metadata": {},
   "outputs": [],
   "source": [
    "# импортируем модули, которые нам пригодятся\n",
    "import math\n",
    "import random"
   ]
  },
  {
   "cell_type": "code",
   "execution_count": 58,
   "metadata": {
    "id": "5ciwP450147T"
   },
   "outputs": [],
   "source": [
    "class VectorWithMath(VectorWithBothReprAndStr):\n",
    "    # добавляем метод \n",
    "    def __abs__(self):\n",
    "        # функция math.hypot складывает квадраты координат и берет из них квадратный корень\n",
    "        # проще говоря она отвечает за получение евклидового расстояния\n",
    "        # ну или гипотенузы треугольника по двум катетам\n",
    "        return math.hypot(self._x, self._y)\n",
    "    # определяем метод сложения векторов\n",
    "    def __add__(self, other):\n",
    "        # будет печатать информационную строку\n",
    "        print('line1')\n",
    "        # т.к. мы складываем вектора, то и возвращать мы должны вектор\n",
    "        # поэтому мы и используем здесь VectorWithMath\n",
    "        # с цветом мы можем определить любое поведение, в данном случае выбираем любой\n",
    "        # делаем это с помощью random.choice\n",
    "        return VectorWithMath(self.get_x() + other.get_x(),\n",
    "                              self.get_y() + other.get_y(),\n",
    "                              random.choice((str(self._color), str(other._color))))\n",
    "    # аналогично сложению определяем метод вычитания\n",
    "    def __sub__(self, other):\n",
    "        return VectorWithMath(self.get_x() - other.get_x(),\n",
    "                              self.get_y() - other.get_y(),\n",
    "                              random.choice((str(self._color), str(other._color))))\n",
    "        # ещё есть div, mul и многое другое"
   ]
  },
  {
   "cell_type": "code",
   "execution_count": 59,
   "metadata": {
    "colab": {
     "base_uri": "https://localhost:8080/"
    },
    "id": "_hxyHfEN147U",
    "outputId": "c712ee5a-b921-4d6e-9a47-b0cd626eeb17"
   },
   "outputs": [
    {
     "name": "stdout",
     "output_type": "stream",
     "text": [
      "initialization a vector\n",
      "initialization a vector\n",
      "vector (3, 4) of color blue\n",
      "vector (1, 2) of color red\n"
     ]
    }
   ],
   "source": [
    "# несколько примеров\n",
    "# создаем векторы\n",
    "vector1 = VectorWithMath(3, 4, 'blue')\n",
    "vector2 = VectorWithMath(1, 2, 'red')\n",
    "print(vector1)\n",
    "print(vector2)"
   ]
  },
  {
   "cell_type": "code",
   "execution_count": 60,
   "metadata": {
    "colab": {
     "base_uri": "https://localhost:8080/"
    },
    "id": "PKBJ5_lG147W",
    "outputId": "2a43fde2-3b3b-407a-f324-15a983d0f141"
   },
   "outputs": [
    {
     "name": "stdout",
     "output_type": "stream",
     "text": [
      "5.0\n",
      "line1\n",
      "initialization a vector\n",
      "vector (4, 6) of color blue\n",
      "initialization a vector\n",
      "vector (2, 2) of color red\n"
     ]
    }
   ],
   "source": [
    "# воспользуемся методами\n",
    "print(abs(vector1))\n",
    "print(vector1 + vector2)  # vector1 + vector2 == vector1.__add__(vector2)\n",
    "print(vector1 - vector2)"
   ]
  },
  {
   "cell_type": "code",
   "execution_count": 61,
   "metadata": {},
   "outputs": [
    {
     "ename": "TypeError",
     "evalue": "unsupported operand type(s) for +: 'int' and 'str'",
     "output_type": "error",
     "traceback": [
      "\u001b[1;31m---------------------------------------------------------------------------\u001b[0m",
      "\u001b[1;31mTypeError\u001b[0m                                 Traceback (most recent call last)",
      "Input \u001b[1;32mIn [61]\u001b[0m, in \u001b[0;36m<cell line: 2>\u001b[1;34m()\u001b[0m\n\u001b[0;32m      1\u001b[0m \u001b[38;5;66;03m# посмотрим на ошибки, которые могут возникать, если складывать не те типы\u001b[39;00m\n\u001b[1;32m----> 2\u001b[0m \u001b[38;5;241;43m2\u001b[39;49m\u001b[43m \u001b[49m\u001b[38;5;241;43m+\u001b[39;49m\u001b[43m \u001b[49m\u001b[38;5;124;43m'\u001b[39;49m\u001b[38;5;124;43m2\u001b[39;49m\u001b[38;5;124;43m'\u001b[39;49m\n",
      "\u001b[1;31mTypeError\u001b[0m: unsupported operand type(s) for +: 'int' and 'str'"
     ]
    }
   ],
   "source": [
    "# посмотрим на ошибки, которые могут возникать, если складывать не те типы\n",
    "2 + '2'  # int.__add__(str)"
   ]
  },
  {
   "cell_type": "code",
   "execution_count": 62,
   "metadata": {},
   "outputs": [
    {
     "ename": "TypeError",
     "evalue": "can only concatenate str (not \"int\") to str",
     "output_type": "error",
     "traceback": [
      "\u001b[1;31m---------------------------------------------------------------------------\u001b[0m",
      "\u001b[1;31mTypeError\u001b[0m                                 Traceback (most recent call last)",
      "Input \u001b[1;32mIn [62]\u001b[0m, in \u001b[0;36m<cell line: 1>\u001b[1;34m()\u001b[0m\n\u001b[1;32m----> 1\u001b[0m \u001b[38;5;124;43m\"\u001b[39;49m\u001b[38;5;124;43m2\u001b[39;49m\u001b[38;5;124;43m\"\u001b[39;49m\u001b[43m \u001b[49m\u001b[38;5;241;43m+\u001b[39;49m\u001b[43m \u001b[49m\u001b[38;5;241;43m2\u001b[39;49m\n",
      "\u001b[1;31mTypeError\u001b[0m: can only concatenate str (not \"int\") to str"
     ]
    }
   ],
   "source": [
    "\"2\" + 2  # str.__add__(int)"
   ]
  },
  {
   "cell_type": "code",
   "execution_count": null,
   "metadata": {},
   "outputs": [],
   "source": [
    "# *\n",
    "# **\n",
    "# /\n",
    "# //\n",
    "# %\n",
    "# @"
   ]
  },
  {
   "cell_type": "markdown",
   "metadata": {
    "id": "dBRX-T3Z147W"
   },
   "source": [
    "## Приведение типов"
   ]
  },
  {
   "cell_type": "code",
   "execution_count": 63,
   "metadata": {
    "colab": {
     "base_uri": "https://localhost:8080/"
    },
    "id": "u5cQJkK3hCac",
    "outputId": "bde8898a-390a-44a8-e2e6-144fdd746530"
   },
   "outputs": [
    {
     "data": {
      "text/plain": [
       "True"
      ]
     },
     "execution_count": 63,
     "metadata": {},
     "output_type": "execute_result"
    }
   ],
   "source": [
    "bool(1)"
   ]
  },
  {
   "cell_type": "code",
   "execution_count": 64,
   "metadata": {},
   "outputs": [
    {
     "name": "stdout",
     "output_type": "stream",
     "text": [
      "initialization a vector\n"
     ]
    },
    {
     "data": {
      "text/plain": [
       "True"
      ]
     },
     "execution_count": 64,
     "metadata": {},
     "output_type": "execute_result"
    }
   ],
   "source": [
    "# попробуем привести наш вектор с математикой привести к типу bool\n",
    "# для всех пользовательских классов, которые создаются bool будет возвращать True\n",
    "bool(VectorWithMath())"
   ]
  },
  {
   "cell_type": "code",
   "execution_count": 65,
   "metadata": {
    "id": "VW09Jxin147X"
   },
   "outputs": [],
   "source": [
    "# попробуем изменить это поведение\n",
    "# если хотя бы одна из координат не равна 0, то будем возвращать тру\n",
    "import math\n",
    "# создадим\n",
    "class VectorWithTypes(VectorWithMath):\n",
    "    # создадим метод\n",
    "    # если хотя бы одна из координат != 0, то вернется True\n",
    "    # нулевой вектор соответственно вернут False\n",
    "    def __bool__(self):\n",
    "        return bool(self._x) or bool(self._y)\n",
    "    # чтобы мы могли привести наш вектор к целочисленному типу, создадим такой метод\n",
    "    # в инт будет возвращать метод float от вектора, который определяем далее\n",
    "    def __int__(self):\n",
    "        return int(float(self))\n",
    "    # метод float будет возвращать модуль от вектора\n",
    "    def __float__(self):\n",
    "        return abs(self)"
   ]
  },
  {
   "cell_type": "code",
   "execution_count": 66,
   "metadata": {
    "colab": {
     "base_uri": "https://localhost:8080/"
    },
    "id": "DlvLeqq5147X",
    "outputId": "bf78840c-cce5-4160-d20b-5963fb468790"
   },
   "outputs": [
    {
     "name": "stdout",
     "output_type": "stream",
     "text": [
      "initialization a vector\n",
      "vector (4, 4) of color blue\n",
      "5\n",
      "5.656854249492381\n",
      "vector ~ True\n"
     ]
    }
   ],
   "source": [
    "# создаем вектор с типами\n",
    "vector = VectorWithTypes(4, 4, 'blue')\n",
    "print(vector)\n",
    "print(int(vector))\n",
    "print(float(vector))\n",
    "\n",
    "print(\"vector ~ True\") if vector else print(\"vector ~ False\")"
   ]
  },
  {
   "cell_type": "code",
   "execution_count": 68,
   "metadata": {
    "colab": {
     "base_uri": "https://localhost:8080/"
    },
    "id": "dpHckElD147X",
    "outputId": "c0060b7d-7c01-41d6-91f0-b36e430c3682"
   },
   "outputs": [
    {
     "name": "stdout",
     "output_type": "stream",
     "text": [
      "initialization a vector\n",
      "vector (0, 0) of color None\n",
      "initialization a vector\n",
      "vector ~ False\n"
     ]
    }
   ],
   "source": [
    "# Вопрос:\"Здесь одинаковые объекты VectorWithTypes()?\"\n",
    "print(VectorWithTypes())\n",
    "\n",
    "print(\"vector ~ True\") if VectorWithTypes() else print(\"vector ~ False\")"
   ]
  },
  {
   "cell_type": "code",
   "execution_count": 69,
   "metadata": {},
   "outputs": [
    {
     "name": "stdout",
     "output_type": "stream",
     "text": [
      "initialization a vector\n",
      "initialization a vector\n"
     ]
    },
    {
     "data": {
      "text/plain": [
       "False"
      ]
     },
     "execution_count": 69,
     "metadata": {},
     "output_type": "execute_result"
    }
   ],
   "source": [
    "VectorWithTypes() == VectorWithTypes()"
   ]
  },
  {
   "cell_type": "markdown",
   "metadata": {
    "id": "I33Guvbf147Y"
   },
   "source": [
    "## Итерирование. Метод `__reversed__`"
   ]
  },
  {
   "cell_type": "markdown",
   "metadata": {
    "id": "fV0HmkHx147Y"
   },
   "source": [
    "Один способ сделать объект \"итерабельным\" нам уже известен, это метод `__next__`. Но он не единственный"
   ]
  },
  {
   "cell_type": "code",
   "execution_count": 70,
   "metadata": {
    "id": "OB0078hb147Y"
   },
   "outputs": [],
   "source": [
    "class VectorIterable(VectorWithTypes):\n",
    "    # метод проверяет находится ли position в кортеже (0, 1)\n",
    "    # если он там, то возвращает (x, y)[position]\n",
    "    # если нет, то нам выдается exception\n",
    "    def __getitem__(self, position):\n",
    "        if position in (0, 1):\n",
    "            return (self._x, self._y)[position]\n",
    "        else:\n",
    "            raise Exceprion('position should be 0 or 1')\n",
    "    \n",
    "    def __len__(self):\n",
    "        return 2\n",
    "    \n",
    "    def __reversed__(self):\n",
    "        return tuple(reversed(self._x, self._y))  "
   ]
  },
  {
   "cell_type": "code",
   "execution_count": 71,
   "metadata": {
    "colab": {
     "base_uri": "https://localhost:8080/",
     "height": 365
    },
    "id": "qwkl1UdV147Y",
    "outputId": "abff5e8c-7193-4669-8acd-c0e35d3624cc"
   },
   "outputs": [
    {
     "name": "stdout",
     "output_type": "stream",
     "text": [
      "initialization a vector\n",
      "100\n"
     ]
    },
    {
     "ename": "NameError",
     "evalue": "name 'Exceprion' is not defined",
     "output_type": "error",
     "traceback": [
      "\u001b[1;31m---------------------------------------------------------------------------\u001b[0m",
      "\u001b[1;31mNameError\u001b[0m                                 Traceback (most recent call last)",
      "Input \u001b[1;32mIn [71]\u001b[0m, in \u001b[0;36m<cell line: 4>\u001b[1;34m()\u001b[0m\n\u001b[0;32m      2\u001b[0m \u001b[38;5;28mprint\u001b[39m(vector[\u001b[38;5;241m0\u001b[39m])  \u001b[38;5;66;03m# здесь у нас сработал метод __getitem__, \u001b[39;00m\n\u001b[0;32m      3\u001b[0m                   \u001b[38;5;66;03m# так мы можем создать аналог собственного списка\u001b[39;00m\n\u001b[1;32m----> 4\u001b[0m \u001b[38;5;28mprint\u001b[39m(\u001b[43mvector\u001b[49m\u001b[43m[\u001b[49m\u001b[38;5;241;43m3\u001b[39;49m\u001b[43m]\u001b[49m)\n",
      "Input \u001b[1;32mIn [70]\u001b[0m, in \u001b[0;36mVectorIterable.__getitem__\u001b[1;34m(self, position)\u001b[0m\n\u001b[0;32m      7\u001b[0m     \u001b[38;5;28;01mreturn\u001b[39;00m (\u001b[38;5;28mself\u001b[39m\u001b[38;5;241m.\u001b[39m_x, \u001b[38;5;28mself\u001b[39m\u001b[38;5;241m.\u001b[39m_y)[position]\n\u001b[0;32m      8\u001b[0m \u001b[38;5;28;01melse\u001b[39;00m:\n\u001b[1;32m----> 9\u001b[0m     \u001b[38;5;28;01mraise\u001b[39;00m \u001b[43mExceprion\u001b[49m(\u001b[38;5;124m'\u001b[39m\u001b[38;5;124mposition should be 0 or 1\u001b[39m\u001b[38;5;124m'\u001b[39m)\n",
      "\u001b[1;31mNameError\u001b[0m: name 'Exceprion' is not defined"
     ]
    }
   ],
   "source": [
    "vector = VectorIterable(100, 500)\n",
    "print(vector[0])  # здесь у нас сработал метод __getitem__, \n",
    "                  # так мы можем создать аналог собственного списка\n",
    "print(vector[3])  # здесь получаем сообщение, что координата должна быть 0 или 1"
   ]
  },
  {
   "cell_type": "code",
   "execution_count": 72,
   "metadata": {},
   "outputs": [
    {
     "name": "stdout",
     "output_type": "stream",
     "text": [
      "initialization a vector\n"
     ]
    }
   ],
   "source": [
    "class VectorIterable(VectorWithTypes):\n",
    "    def __getitem__(self, position):\n",
    "        print(f'{position=}')\n",
    "        if position in (0, 1):\n",
    "            return (self._x, self._y)[position]\n",
    "        else:\n",
    "            raise Exception('index should be 0 or 1')\n",
    "    \n",
    "    def __len__(self):\n",
    "        return 2\n",
    "    \n",
    "    # обратите внимание, как определяем метод reversed\n",
    "    # составляем кортеж из наших координат\n",
    "    # берет обратный срез\n",
    "    def __reversed__(self):\n",
    "        return (self._x, self._y)[::-1]\n",
    "    \n",
    "vector = VectorIterable(100, 500)"
   ]
  },
  {
   "cell_type": "code",
   "execution_count": 73,
   "metadata": {
    "colab": {
     "base_uri": "https://localhost:8080/"
    },
    "id": "ITeqd-ec147Z",
    "outputId": "4a6d53e4-b66a-4922-b4de-411ce606049d"
   },
   "outputs": [
    {
     "name": "stdout",
     "output_type": "stream",
     "text": [
      "position=0\n",
      "100\n",
      "----\n",
      "position=1\n",
      "500\n",
      "----\n",
      "position=2\n"
     ]
    },
    {
     "ename": "Exception",
     "evalue": "index should be 0 or 1",
     "output_type": "error",
     "traceback": [
      "\u001b[1;31m---------------------------------------------------------------------------\u001b[0m",
      "\u001b[1;31mException\u001b[0m                                 Traceback (most recent call last)",
      "Input \u001b[1;32mIn [73]\u001b[0m, in \u001b[0;36m<cell line: 4>\u001b[1;34m()\u001b[0m\n\u001b[0;32m      1\u001b[0m \u001b[38;5;66;03m# помимо этого мы можем итерироваться по нашему экземпляру\u001b[39;00m\n\u001b[0;32m      2\u001b[0m \u001b[38;5;66;03m# for вызывает __getitem__ ТОЛЬКО если у класса отсутствует __iter__ \u001b[39;00m\n\u001b[1;32m----> 4\u001b[0m \u001b[38;5;28;01mfor\u001b[39;00m coordinate \u001b[38;5;129;01min\u001b[39;00m vector:\n\u001b[0;32m      5\u001b[0m     \u001b[38;5;28mprint\u001b[39m(coordinate)\n\u001b[0;32m      6\u001b[0m     \u001b[38;5;28mprint\u001b[39m(\u001b[38;5;124m'\u001b[39m\u001b[38;5;124m----\u001b[39m\u001b[38;5;124m'\u001b[39m)\n",
      "Input \u001b[1;32mIn [72]\u001b[0m, in \u001b[0;36mVectorIterable.__getitem__\u001b[1;34m(self, position)\u001b[0m\n\u001b[0;32m      5\u001b[0m     \u001b[38;5;28;01mreturn\u001b[39;00m (\u001b[38;5;28mself\u001b[39m\u001b[38;5;241m.\u001b[39m_x, \u001b[38;5;28mself\u001b[39m\u001b[38;5;241m.\u001b[39m_y)[position]\n\u001b[0;32m      6\u001b[0m \u001b[38;5;28;01melse\u001b[39;00m:\n\u001b[1;32m----> 7\u001b[0m     \u001b[38;5;28;01mraise\u001b[39;00m \u001b[38;5;167;01mException\u001b[39;00m(\u001b[38;5;124m'\u001b[39m\u001b[38;5;124mindex should be 0 or 1\u001b[39m\u001b[38;5;124m'\u001b[39m)\n",
      "\u001b[1;31mException\u001b[0m: index should be 0 or 1"
     ]
    }
   ],
   "source": [
    "# помимо этого мы можем итерироваться по нашему экземпляру\n",
    "# for вызывает __getitem__ ТОЛЬКО если у класса отсутствует __iter__ \n",
    "\n",
    "for coordinate in vector:\n",
    "    print(coordinate)\n",
    "    print('----')"
   ]
  },
  {
   "cell_type": "code",
   "execution_count": 74,
   "metadata": {
    "colab": {
     "base_uri": "https://localhost:8080/"
    },
    "id": "N5KbgSry147Z",
    "outputId": "62a19f9c-1e8a-4858-a78f-30aff2e8345a"
   },
   "outputs": [
    {
     "name": "stdout",
     "output_type": "stream",
     "text": [
      "500\n",
      "100\n"
     ]
    }
   ],
   "source": [
    "for coordinate in reversed(vector):\n",
    "    print(coordinate)"
   ]
  },
  {
   "cell_type": "code",
   "execution_count": 75,
   "metadata": {
    "id": "5AcnPwo1147Z"
   },
   "outputs": [],
   "source": [
    "# и темперь полный класс, который содержит все методы\n",
    "class VectorIterable(VectorWithTypes):\n",
    "    \n",
    "    def __getitem__(self, position):\n",
    "        return (self._y, self._x)[position]\n",
    "    \n",
    "    def __iter__(self):\n",
    "        \n",
    "        #return iter((self._x, self._y))\n",
    "        return self\n",
    "    \n",
    "    def __next__(self):\n",
    "        # если у нашего вектора не было атрибута с именем count\n",
    "        # то мы создаем такой со значением 0\n",
    "        if not hasattr(self, 'count'):\n",
    "            self.count = 0\n",
    "        # печатаем значение count\n",
    "        print(f'self.count: {self.count}')\n",
    "        # увеличиваем значение на единицу\n",
    "        self.count += 1\n",
    "        # снова печатаем значение\n",
    "        print(f'self.count after inc: {self.count}')\n",
    "        # если значение меньше трех, то есть равно 2\n",
    "        # то мы его уменьшаем, чтобы попадать в наши границы (0,1)\n",
    "        if self.count < 3:\n",
    "            return (self._x, self._y)[self.count - 1]\n",
    "        else:\n",
    "            raise StopIteration\n",
    "    \n",
    "    def __len__(self):\n",
    "        return 2\n",
    "    \n",
    "    def __reversed__(self):\n",
    "        return (self._x, self._y)[::-1]"
   ]
  },
  {
   "cell_type": "code",
   "execution_count": 76,
   "metadata": {
    "colab": {
     "base_uri": "https://localhost:8080/"
    },
    "id": "9OM8eh9I147a",
    "outputId": "89b7b014-b267-4a50-a112-77d0422519ca"
   },
   "outputs": [
    {
     "name": "stdout",
     "output_type": "stream",
     "text": [
      "initialization a vector\n",
      "self.count: 0\n",
      "self.count after inc: 1\n",
      "3\n",
      "self.count: 1\n",
      "self.count after inc: 2\n",
      "5\n",
      "self.count: 2\n",
      "self.count after inc: 3\n"
     ]
    }
   ],
   "source": [
    "# создаем наш вектор\n",
    "vect = VectorIterable(3, 5)\n",
    "# итерируемся по нему\n",
    "for c in vect:\n",
    "    print(c)"
   ]
  },
  {
   "cell_type": "code",
   "execution_count": 77,
   "metadata": {
    "colab": {
     "base_uri": "https://localhost:8080/"
    },
    "id": "GOxkqcytgwS1",
    "outputId": "5614b67c-c1af-48b7-f163-9d4478164295"
   },
   "outputs": [
    {
     "name": "stdout",
     "output_type": "stream",
     "text": [
      "self.count: 3\n",
      "self.count after inc: 4\n"
     ]
    },
    {
     "data": {
      "text/plain": [
       "4"
      ]
     },
     "execution_count": 77,
     "metadata": {},
     "output_type": "execute_result"
    }
   ],
   "source": [
    "# после того, как создали вектор, у нас появился атрибут с именем count\n",
    "# и мы можем обращаться к нему\n",
    "\n",
    "for c in vect:\n",
    "    print(c)\n",
    "vect.count"
   ]
  },
  {
   "cell_type": "markdown",
   "metadata": {
    "id": "LpzTAA0w147a"
   },
   "source": [
    "### Динамическая работа с атрибутами. Методы `__getattr__`, `__setattr__`, `__delattr__`"
   ]
  },
  {
   "cell_type": "markdown",
   "metadata": {
    "collapsed": true,
    "id": "U5oNW1FD147b"
   },
   "source": [
    "Казалось бы, в питоне нет никакой защиты от \"взлома\". Но нельзя ли сделать её самостоятельно?"
   ]
  },
  {
   "cell_type": "code",
   "execution_count": 78,
   "metadata": {
    "id": "9VvW-kbr147b"
   },
   "outputs": [],
   "source": [
    "class VectorWithAllAttributes(VectorIterable):\n",
    "    \n",
    "    def __getattr__(self, attr_name):\n",
    "        return \"value of {}\".format(attr_name)\n",
    "#                  vector.new_attribute = \"value\"  - сигнатура данного метода \n",
    "    def __setattr__(self, attr_name, attr_value):\n",
    "        if attr_name not in ('_x', '_y', '_color'):\n",
    "            raise Exception('you shall not add new attributes here, young padawan!')\n",
    "        else:\n",
    "            super().__setattr__(attr_name, attr_value)\n",
    "            \n",
    "    def __delattr__(self, attr_name):\n",
    "        print('Heh, you can delete nothing')"
   ]
  },
  {
   "cell_type": "code",
   "execution_count": 79,
   "metadata": {
    "colab": {
     "base_uri": "https://localhost:8080/"
    },
    "id": "EEmIKITo147b",
    "outputId": "05ae1877-698e-4d8f-b1b6-80cd3aeaf126"
   },
   "outputs": [
    {
     "name": "stdout",
     "output_type": "stream",
     "text": [
      "initialization a vector\n",
      "['__abs__', '__add__', '__bool__', '__class__', '__delattr__', '__dict__', '__dir__', '__doc__', '__eq__', '__float__', '__format__', '__ge__', '__getattr__', '__getattribute__', '__getitem__', '__gt__', '__hash__', '__init__', '__init_subclass__', '__int__', '__iter__', '__le__', '__len__', '__lt__', '__module__', '__ne__', '__new__', '__next__', '__reduce__', '__reduce_ex__', '__repr__', '__reversed__', '__setattr__', '__sizeof__', '__str__', '__sub__', '__subclasshook__', '__weakref__', '_color', '_x', '_y', 'get_x', 'get_y']\n"
     ]
    }
   ],
   "source": [
    "vector = VectorWithAllAttributes(1, 2, 'violet')\n",
    "print(dir(vector))"
   ]
  },
  {
   "cell_type": "code",
   "execution_count": 80,
   "metadata": {
    "colab": {
     "base_uri": "https://localhost:8080/"
    },
    "id": "KeJ_KqFu147c",
    "outputId": "20b7145c-3ac8-44b8-e34a-0b8944390174"
   },
   "outputs": [
    {
     "name": "stdout",
     "output_type": "stream",
     "text": [
      "value of some_attribute\n",
      "violet\n",
      "1\n"
     ]
    }
   ],
   "source": [
    "# здесь у нас был явно вызван метод __getattr__\n",
    "print(vector.some_attribute)\n",
    "print(vector._color)\n",
    "print(vector.get_x())"
   ]
  },
  {
   "cell_type": "code",
   "execution_count": 81,
   "metadata": {
    "colab": {
     "base_uri": "https://localhost:8080/",
     "height": 294
    },
    "id": "U0QWSHbf147c",
    "outputId": "701e2eba-04bc-4d90-916e-5fdda9b11db0"
   },
   "outputs": [
    {
     "ename": "Exception",
     "evalue": "you shall not add new attributes here, young padawan!",
     "output_type": "error",
     "traceback": [
      "\u001b[1;31m---------------------------------------------------------------------------\u001b[0m",
      "\u001b[1;31mException\u001b[0m                                 Traceback (most recent call last)",
      "Input \u001b[1;32mIn [81]\u001b[0m, in \u001b[0;36m<cell line: 2>\u001b[1;34m()\u001b[0m\n\u001b[0;32m      1\u001b[0m \u001b[38;5;66;03m# здесь у нас был явно вызван метод __setattr__\u001b[39;00m\n\u001b[1;32m----> 2\u001b[0m vector\u001b[38;5;241m.\u001b[39mnew_attribute \u001b[38;5;241m=\u001b[39m \u001b[38;5;124m\"\u001b[39m\u001b[38;5;124mvalue\u001b[39m\u001b[38;5;124m\"\u001b[39m\n",
      "Input \u001b[1;32mIn [78]\u001b[0m, in \u001b[0;36mVectorWithAllAttributes.__setattr__\u001b[1;34m(self, attr_name, attr_value)\u001b[0m\n\u001b[0;32m      6\u001b[0m \u001b[38;5;28;01mdef\u001b[39;00m \u001b[38;5;21m__setattr__\u001b[39m(\u001b[38;5;28mself\u001b[39m, attr_name, attr_value):\n\u001b[0;32m      7\u001b[0m     \u001b[38;5;28;01mif\u001b[39;00m attr_name \u001b[38;5;129;01mnot\u001b[39;00m \u001b[38;5;129;01min\u001b[39;00m (\u001b[38;5;124m'\u001b[39m\u001b[38;5;124m_x\u001b[39m\u001b[38;5;124m'\u001b[39m, \u001b[38;5;124m'\u001b[39m\u001b[38;5;124m_y\u001b[39m\u001b[38;5;124m'\u001b[39m, \u001b[38;5;124m'\u001b[39m\u001b[38;5;124m_color\u001b[39m\u001b[38;5;124m'\u001b[39m):\n\u001b[1;32m----> 8\u001b[0m         \u001b[38;5;28;01mraise\u001b[39;00m \u001b[38;5;167;01mException\u001b[39;00m(\u001b[38;5;124m'\u001b[39m\u001b[38;5;124myou shall not add new attributes here, young padawan!\u001b[39m\u001b[38;5;124m'\u001b[39m)\n\u001b[0;32m      9\u001b[0m     \u001b[38;5;28;01melse\u001b[39;00m:\n\u001b[0;32m     10\u001b[0m         \u001b[38;5;28msuper\u001b[39m()\u001b[38;5;241m.\u001b[39m\u001b[38;5;21m__setattr__\u001b[39m(attr_name, attr_value)\n",
      "\u001b[1;31mException\u001b[0m: you shall not add new attributes here, young padawan!"
     ]
    }
   ],
   "source": [
    "# здесь у нас был явно вызван метод __setattr__\n",
    "vector.new_attribute = \"value\""
   ]
  },
  {
   "cell_type": "code",
   "execution_count": 82,
   "metadata": {
    "colab": {
     "base_uri": "https://localhost:8080/"
    },
    "id": "yWMRb8U3147c",
    "outputId": "cd8dac50-ce23-454b-dc3e-12ff3f2f495a"
   },
   "outputs": [
    {
     "name": "stdout",
     "output_type": "stream",
     "text": [
      "Heh, you can delete nothing\n",
      "Heh, you can delete nothing\n",
      "violet\n"
     ]
    }
   ],
   "source": [
    "del vector._color\n",
    "delattr(vector, '_color')\n",
    "print(vector._color)"
   ]
  },
  {
   "cell_type": "markdown",
   "metadata": {
    "id": "F3wLf6hN147d"
   },
   "source": [
    " ```__getattr__ vs. __getattribute__```"
   ]
  },
  {
   "cell_type": "markdown",
   "metadata": {},
   "source": [
    "**Offtop** [descriptor protocol](https://docs.python.org/3/reference/datamodel.html#invoking-descriptors)\n",
    "\n",
    "Если захочется пойти в разработчики, а не в аналитики, то можно изучить глубже Дискрипторы"
   ]
  },
  {
   "cell_type": "code",
   "execution_count": 83,
   "metadata": {
    "colab": {
     "base_uri": "https://localhost:8080/"
    },
    "id": "rOIy8vlI8jDD",
    "outputId": "5cd0b355-b212-4a2f-e51d-14d19904e541"
   },
   "outputs": [
    {
     "name": "stdout",
     "output_type": "stream",
     "text": [
      "1\n",
      "__getattr__(z)\n",
      "100\n"
     ]
    }
   ],
   "source": [
    "class Empty:\n",
    "    def __init__(self, x, y):\n",
    "        self.x = x\n",
    "        self.y = y\n",
    "\n",
    "    def __getattr__(self, attr):\n",
    "        print(f'__getattr__({attr})')\n",
    "        return 100\n",
    "\n",
    "\n",
    "empty = Empty(1, 2)\n",
    "print(empty.x)\n",
    "print(empty.z)"
   ]
  },
  {
   "cell_type": "code",
   "execution_count": 84,
   "metadata": {
    "id": "08wvyGsx147d"
   },
   "outputs": [],
   "source": [
    "class GetAttr:\n",
    "    attr1 = 1\n",
    "    def __init__(self):\n",
    "        self.attr2 = 2\n",
    "    def __getattr__(self, attr):   # Только для неопределенных атрибутов\n",
    "        print('get: ' + attr)      # Не attr1: наследуется от класса\n",
    "        return 3                   # Не attr2: хранится в экземпляре\n",
    "    \n",
    "\n",
    "class GetAttribute:\n",
    "    attr1 = 1\n",
    "    def __init__(self):\n",
    "        self.attr2 = 2\n",
    "    def __getattribute__(self, attr):  # Вызывается всеми операциями присваивания\n",
    "        print('get: ' + attr)          # Для предотвращения зацикливания используется суперкласс\n",
    "        if attr == 'attr3':\n",
    "            return 3\n",
    "        else:\n",
    "            return super().__getattribute__(attr)\n"
   ]
  },
  {
   "cell_type": "code",
   "execution_count": 85,
   "metadata": {
    "colab": {
     "base_uri": "https://localhost:8080/",
     "height": 490
    },
    "id": "N4h1nejA147d",
    "outputId": "aec59ea1-73b0-4231-87df-cf51961f29f4"
   },
   "outputs": [
    {
     "name": "stdout",
     "output_type": "stream",
     "text": [
      "1\n",
      "2\n",
      "get: attr3\n",
      "3\n",
      "get: attr4\n",
      "3\n",
      "----------------------------------------\n",
      "get: attr1\n",
      "1\n",
      "get: attr2\n",
      "2\n",
      "get: attr3\n",
      "3\n",
      "get: attr4\n"
     ]
    },
    {
     "ename": "AttributeError",
     "evalue": "'GetAttribute' object has no attribute 'attr4'",
     "output_type": "error",
     "traceback": [
      "\u001b[1;31m---------------------------------------------------------------------------\u001b[0m",
      "\u001b[1;31mAttributeError\u001b[0m                            Traceback (most recent call last)",
      "Input \u001b[1;32mIn [85]\u001b[0m, in \u001b[0;36m<cell line: 11>\u001b[1;34m()\u001b[0m\n\u001b[0;32m      9\u001b[0m \u001b[38;5;28mprint\u001b[39m(X\u001b[38;5;241m.\u001b[39mattr2)\n\u001b[0;32m     10\u001b[0m \u001b[38;5;28mprint\u001b[39m(X\u001b[38;5;241m.\u001b[39mattr3)\n\u001b[1;32m---> 11\u001b[0m \u001b[38;5;28mprint\u001b[39m(\u001b[43mX\u001b[49m\u001b[38;5;241;43m.\u001b[39;49m\u001b[43mattr4\u001b[49m)\n",
      "Input \u001b[1;32mIn [84]\u001b[0m, in \u001b[0;36mGetAttribute.__getattribute__\u001b[1;34m(self, attr)\u001b[0m\n\u001b[0;32m     17\u001b[0m     \u001b[38;5;28;01mreturn\u001b[39;00m \u001b[38;5;241m3\u001b[39m\n\u001b[0;32m     18\u001b[0m \u001b[38;5;28;01melse\u001b[39;00m:\n\u001b[1;32m---> 19\u001b[0m     \u001b[38;5;28;01mreturn\u001b[39;00m \u001b[38;5;28;43msuper\u001b[39;49m\u001b[43m(\u001b[49m\u001b[43m)\u001b[49m\u001b[38;5;241;43m.\u001b[39;49m\u001b[38;5;21;43m__getattribute__\u001b[39;49m\u001b[43m(\u001b[49m\u001b[43mattr\u001b[49m\u001b[43m)\u001b[49m\n",
      "\u001b[1;31mAttributeError\u001b[0m: 'GetAttribute' object has no attribute 'attr4'"
     ]
    }
   ],
   "source": [
    "X = GetAttr()\n",
    "print(X.attr1)\n",
    "print(X.attr2)\n",
    "print(X.attr3)\n",
    "print(X.attr4)\n",
    "print('-' * 40)        \n",
    "X = GetAttribute()\n",
    "print(X.attr1)\n",
    "print(X.attr2)\n",
    "print(X.attr3)\n",
    "print(X.attr4)"
   ]
  },
  {
   "cell_type": "code",
   "execution_count": 86,
   "metadata": {},
   "outputs": [
    {
     "name": "stdout",
     "output_type": "stream",
     "text": [
      "getattribute: attr1\n",
      "1\n",
      "getattribute: attr2\n",
      "2\n",
      "getattribute: attr3\n",
      "3\n",
      "getattribute: attr4\n",
      "getattr: attr4\n",
      "3\n"
     ]
    }
   ],
   "source": [
    "class GetAttrAndGetAttribute:\n",
    "    attr1 = 1\n",
    "    def __init__(self):\n",
    "        self.attr2 = 2\n",
    "    def __getattr__(self, attr):   # Только для неопределенных атрибутов\n",
    "        print('getattr: ' + attr)      # Не attr1: наследуется от класса\n",
    "        return 3                   # Не attr2: хранится в экземпляре\n",
    "    \n",
    "    def __getattribute__(self, attr):  # Вызывается всеми операциями присваивания\n",
    "        print('getattribute: ' + attr)          # Для предотвращения зацикливания используется суперкласс\n",
    "        if attr == 'attr3':\n",
    "            return 3\n",
    "        else:\n",
    "            return super().__getattribute__(attr)\n",
    "        \n",
    "        \n",
    "X = GetAttrAndGetAttribute()\n",
    "print(X.attr1)\n",
    "print(X.attr2)\n",
    "print(X.attr3)\n",
    "print(X.attr4)"
   ]
  },
  {
   "cell_type": "markdown",
   "metadata": {
    "id": "oW0B-62C147d"
   },
   "source": [
    "### Контексты - тут я уже тупил, необходимо пересмотреть лекцию"
   ]
  },
  {
   "cell_type": "code",
   "execution_count": 88,
   "metadata": {},
   "outputs": [
    {
     "name": "stderr",
     "output_type": "stream",
     "text": [
      "\"cat\" ­Ґ пў«пҐвбп ў­гваҐ­­Ґ© Ё«Ё ў­Ґи­Ґ©\n",
      "Є®¬ ­¤®©, ЁбЇ®«­пҐ¬®© Їа®Ја ¬¬®© Ё«Ё Ї ЄҐв­л¬ д ©«®¬.\n"
     ]
    }
   ],
   "source": [
    "# т.к. делал в несколько заходов, то необходимо вернуться и пересоздать класс cat\n",
    "!cat script.py"
   ]
  },
  {
   "cell_type": "code",
   "execution_count": 89,
   "metadata": {},
   "outputs": [
    {
     "ename": "FileNotFoundError",
     "evalue": "[Errno 2] No such file or directory: 'scripy'",
     "output_type": "error",
     "traceback": [
      "\u001b[1;31m---------------------------------------------------------------------------\u001b[0m",
      "\u001b[1;31mFileNotFoundError\u001b[0m                         Traceback (most recent call last)",
      "Input \u001b[1;32mIn [89]\u001b[0m, in \u001b[0;36m<cell line: 1>\u001b[1;34m()\u001b[0m\n\u001b[1;32m----> 1\u001b[0m \u001b[38;5;28;01mwith\u001b[39;00m \u001b[38;5;28;43mopen\u001b[39;49m\u001b[43m(\u001b[49m\u001b[38;5;124;43m'\u001b[39;49m\u001b[38;5;124;43mscripy\u001b[39;49m\u001b[38;5;124;43m'\u001b[39;49m\u001b[43m,\u001b[49m\u001b[43m \u001b[49m\u001b[38;5;124;43m'\u001b[39;49m\u001b[38;5;124;43mr\u001b[39;49m\u001b[38;5;124;43m'\u001b[39;49m\u001b[43m)\u001b[49m \u001b[38;5;28;01mas\u001b[39;00m f:\n\u001b[0;32m      2\u001b[0m     \u001b[38;5;28mprint\u001b[39m(f\u001b[38;5;241m.\u001b[39mread())\n",
      "\u001b[1;31mFileNotFoundError\u001b[0m: [Errno 2] No such file or directory: 'scripy'"
     ]
    }
   ],
   "source": [
    "with open('scripy', 'r') as f:\n",
    "    print(f.read())"
   ]
  },
  {
   "cell_type": "code",
   "execution_count": 90,
   "metadata": {
    "id": "ttzSX6r4147e"
   },
   "outputs": [],
   "source": [
    "class VectorWithContextManager(VectorWithAllAttributes):\n",
    "    def __enter__(self):\n",
    "        print('entering context')\n",
    "    def __exit__(self, *args):\n",
    "        print(args)\n",
    "        print(dir(args[2]), args[2].tb_lineno)\n",
    "        print('leaving context')\n",
    "#         return False # -- бросаем ошибку дальше\n",
    "        return True  # -- НЕ бросаем ошибку дальше"
   ]
  },
  {
   "cell_type": "code",
   "execution_count": 91,
   "metadata": {},
   "outputs": [
    {
     "name": "stdout",
     "output_type": "stream",
     "text": [
      "initialization a vector\n",
      "entering context\n",
      "0\n",
      "1\n",
      "2\n",
      "(<class 'Exception'>, Exception('something happened inside!'), <traceback object at 0x00000189DA7ED040>)\n",
      "['tb_frame', 'tb_lasti', 'tb_lineno', 'tb_next'] 4\n",
      "leaving context\n"
     ]
    }
   ],
   "source": [
    "with VectorWithContextManager() as vec:\n",
    "    for i in range(3):\n",
    "        print(i)\n",
    "    raise Exception('something happened inside!')"
   ]
  },
  {
   "cell_type": "code",
   "execution_count": 92,
   "metadata": {
    "colab": {
     "base_uri": "https://localhost:8080/"
    },
    "id": "xkuedAFM147e",
    "outputId": "ab7c7241-fb69-4622-cb1b-eb36b366e4bd"
   },
   "outputs": [
    {
     "name": "stdout",
     "output_type": "stream",
     "text": [
      "initialization a vector\n",
      "entering context\n",
      "0\n",
      "1\n",
      "2\n",
      "(<class 'Exception'>, Exception('something happened inside!'), <traceback object at 0x00000189DA7D4580>)\n",
      "['tb_frame', 'tb_lasti', 'tb_lineno', 'tb_next'] 5\n",
      "leaving context\n",
      "we are out of the context\n"
     ]
    }
   ],
   "source": [
    "try:\n",
    "    with VectorWithContextManager() as vec:\n",
    "        for i in range(3):\n",
    "            print(i)\n",
    "        raise Exception('something happened inside!')\n",
    "except:\n",
    "    print('an exception was raised...')\n",
    "    pass\n",
    "print('we are out of the context')"
   ]
  },
  {
   "cell_type": "markdown",
   "metadata": {
    "id": "gJ3RhNFW147e"
   },
   "source": [
    "Но можно и проще!"
   ]
  },
  {
   "cell_type": "code",
   "execution_count": 93,
   "metadata": {
    "colab": {
     "base_uri": "https://localhost:8080/"
    },
    "id": "Dlhjh3hW147e",
    "outputId": "6dc4a0cb-9219-4bd8-cab2-e3ecffddb0c4"
   },
   "outputs": [
    {
     "name": "stdout",
     "output_type": "stream",
     "text": [
      "statement before context\n",
      "handling entering the context\n",
      "initialization a vector\n",
      "<__main__.Vector object at 0x00000189DA7E6970>\n",
      "<__main__.Vector object at 0x00000189DA7E6970>\n",
      "<__main__.Vector object at 0x00000189DA7E6970>\n",
      "handling leaving the context\n",
      "statement after context\n"
     ]
    }
   ],
   "source": [
    "from contextlib import contextmanager\n",
    "\n",
    "@contextmanager\n",
    "def vector_mgr():\n",
    "    print('handling entering the context')\n",
    "    yield Vector()\n",
    "    print('handling leaving the context')\n",
    "          \n",
    "print('statement before context')\n",
    "with vector_mgr() as vector:\n",
    "    for i in range(3):\n",
    "        print(vector)\n",
    "print('statement after context')"
   ]
  },
  {
   "cell_type": "code",
   "execution_count": 94,
   "metadata": {
    "colab": {
     "base_uri": "https://localhost:8080/"
    },
    "id": "qq_n9xRI147f",
    "outputId": "6735e827-c85e-4216-b38d-84de8aaebd54"
   },
   "outputs": [
    {
     "name": "stdout",
     "output_type": "stream",
     "text": [
      "statement before context\n",
      "handling entering the context\n",
      "initialization a vector\n",
      "<__main__.Vector object at 0x00000189DA8D0760>\n",
      "handling leaving the context\n",
      "statement after context\n"
     ]
    }
   ],
   "source": [
    "# А теперь с ошибкой:\n",
    "\n",
    "@contextmanager\n",
    "def vector_mgr():\n",
    "    try:\n",
    "        print('handling entering the context')\n",
    "        yield Vector()\n",
    "    except ZeroDivisionError as e:\n",
    "        pass\n",
    "#     else:\n",
    "#         code\n",
    "    finally:\n",
    "        print('handling leaving the context')\n",
    "          \n",
    "print('statement before context')\n",
    "with vector_mgr() as vector:\n",
    "    for i in range(3):\n",
    "        print(vector)\n",
    "        infin = 1 / 0\n",
    "print('statement after context')"
   ]
  },
  {
   "cell_type": "markdown",
   "metadata": {
    "id": "4lHeMDvi147f"
   },
   "source": [
    "## Создание и удаление объектов"
   ]
  },
  {
   "cell_type": "code",
   "execution_count": 95,
   "metadata": {
    "id": "E0Ce9Psc147f"
   },
   "outputs": [],
   "source": [
    "class VectorInitialized(VectorWithContextManager):\n",
    "    def __new__(cls, *args, **kwargs):\n",
    "        print('invoking __new__ method')\n",
    "        print(cls, args, kwargs)\n",
    "        print(object)\n",
    "        return object.__new__(cls)\n",
    "    \n",
    "    def __del__(self):\n",
    "        print('deleting an object')\n",
    "        raise Exception(\"exception while destructing\")"
   ]
  },
  {
   "cell_type": "code",
   "execution_count": 96,
   "metadata": {
    "id": "EgBfAIYU147f"
   },
   "outputs": [
    {
     "name": "stdout",
     "output_type": "stream",
     "text": [
      "invoking __new__ method\n",
      "<class '__main__.VectorInitialized'> (1, 2) {'color': 'navy blue'}\n",
      "<class 'object'>\n",
      "initialization a vector\n",
      "vector (1, 2) of color navy blue\n"
     ]
    }
   ],
   "source": [
    "vect = VectorInitialized(1, 2, color='navy blue')\n",
    "print(vect)"
   ]
  },
  {
   "cell_type": "code",
   "execution_count": 97,
   "metadata": {},
   "outputs": [
    {
     "name": "stdout",
     "output_type": "stream",
     "text": [
      "aaaaa\n"
     ]
    }
   ],
   "source": [
    "import sys\n",
    "print('aaaaa', file=sys.stdout)"
   ]
  },
  {
   "cell_type": "code",
   "execution_count": 98,
   "metadata": {
    "id": "HXUHu37z147g",
    "scrolled": true
   },
   "outputs": [
    {
     "name": "stderr",
     "output_type": "stream",
     "text": [
      "Exception ignored in: <function VectorInitialized.__del__ at 0x00000189DA8A3040>\n",
      "Traceback (most recent call last):\n",
      "  File \"C:\\Users\\user\\AppData\\Local\\Temp\\ipykernel_11620\\211848912.py\", line 10, in __del__\n",
      "Exception: exception while destructing\n"
     ]
    },
    {
     "name": "stdout",
     "output_type": "stream",
     "text": [
      "deleting an object\n"
     ]
    }
   ],
   "source": [
    "del vect"
   ]
  },
  {
   "cell_type": "code",
   "execution_count": 99,
   "metadata": {},
   "outputs": [
    {
     "name": "stdout",
     "output_type": "stream",
     "text": [
      "invoking __new__ method\n",
      "<class '__main__.VectorInitialized'> (1, 2) {'color': 'navy blue'}\n",
      "<class 'object'>\n",
      "initialization a vector\n"
     ]
    }
   ],
   "source": [
    "# vect1 = VectorInitialized(1, 2, color='navy blue')\n",
    "# vect2 = vect1\n",
    "\n",
    "vect1 = vect2 = VectorInitialized(1, 2, color='navy blue')"
   ]
  },
  {
   "cell_type": "code",
   "execution_count": 100,
   "metadata": {},
   "outputs": [],
   "source": [
    "a = b = c = 1000000"
   ]
  },
  {
   "cell_type": "code",
   "execution_count": 101,
   "metadata": {},
   "outputs": [
    {
     "data": {
      "text/plain": [
       "True"
      ]
     },
     "execution_count": 101,
     "metadata": {},
     "output_type": "execute_result"
    }
   ],
   "source": [
    "a is b"
   ]
  },
  {
   "cell_type": "code",
   "execution_count": 102,
   "metadata": {},
   "outputs": [],
   "source": [
    "del vect1"
   ]
  },
  {
   "cell_type": "code",
   "execution_count": 103,
   "metadata": {
    "scrolled": true
   },
   "outputs": [
    {
     "name": "stderr",
     "output_type": "stream",
     "text": [
      "Exception ignored in: <function VectorInitialized.__del__ at 0x00000189DA8A3040>\n",
      "Traceback (most recent call last):\n",
      "  File \"C:\\Users\\user\\AppData\\Local\\Temp\\ipykernel_11620\\211848912.py\", line 10, in __del__\n",
      "Exception: exception while destructing\n"
     ]
    },
    {
     "name": "stdout",
     "output_type": "stream",
     "text": [
      "deleting an object\n"
     ]
    }
   ],
   "source": [
    "del vect2"
   ]
  },
  {
   "cell_type": "markdown",
   "metadata": {
    "id": "OtxxD37Y147g"
   },
   "source": [
    "### Упражнение! \n",
    "\n",
    "Как с помощью метода `__new__` сделать класс \"синглтоном\" -- объектом, который создается один раз, а при попытке повторного создания возвращается уже готовый объект?"
   ]
  },
  {
   "cell_type": "code",
   "execution_count": 104,
   "metadata": {},
   "outputs": [
    {
     "data": {
      "text/plain": [
       "NoneType"
      ]
     },
     "execution_count": 104,
     "metadata": {},
     "output_type": "execute_result"
    }
   ],
   "source": [
    "type(None)"
   ]
  },
  {
   "cell_type": "code",
   "execution_count": 105,
   "metadata": {},
   "outputs": [
    {
     "data": {
      "text/plain": [
       "ellipsis"
      ]
     },
     "execution_count": 105,
     "metadata": {},
     "output_type": "execute_result"
    }
   ],
   "source": [
    "type(...)"
   ]
  },
  {
   "cell_type": "code",
   "execution_count": 106,
   "metadata": {},
   "outputs": [
    {
     "name": "stdout",
     "output_type": "stream",
     "text": [
      "True\n",
      "True\n"
     ]
    }
   ],
   "source": [
    "s1 = 'ab'\n",
    "s2 = 'a' + 'b'\n",
    "print(s1 == s2)\n",
    "print(s1 is s2)"
   ]
  },
  {
   "cell_type": "code",
   "execution_count": 107,
   "metadata": {},
   "outputs": [
    {
     "name": "stdout",
     "output_type": "stream",
     "text": [
      "True\n"
     ]
    },
    {
     "data": {
      "text/plain": [
       "False"
      ]
     },
     "execution_count": 107,
     "metadata": {},
     "output_type": "execute_result"
    }
   ],
   "source": [
    "n = 1000\n",
    "s3 = ''\n",
    "for _ in range(n):\n",
    "    s3 += 'a'\n",
    "    \n",
    "s4 = ''.join(['a' for _ in range(n)])\n",
    "print(len(s3) == len(s4))\n",
    "s3 is s4"
   ]
  },
  {
   "cell_type": "code",
   "execution_count": 108,
   "metadata": {
    "id": "sWdLs7qb147g"
   },
   "outputs": [],
   "source": [
    "class SingletonClass:\n",
    "    \n",
    "    _inst = None\n",
    "    \n",
    "    def __new__(cls, *args, **kwargs):\n",
    "        if cls._inst is None:\n",
    "            cls._inst = object.__new__(cls)\n",
    "        return cls._inst\n",
    "        \n",
    "obj1 = SingletonClass()\n",
    "obj2 = SingletonClass()\n",
    "assert id(obj1) == id(obj2)"
   ]
  },
  {
   "cell_type": "code",
   "execution_count": 109,
   "metadata": {},
   "outputs": [
    {
     "data": {
      "text/plain": [
       "[1]"
      ]
     },
     "execution_count": 109,
     "metadata": {},
     "output_type": "execute_result"
    }
   ],
   "source": [
    "class A:\n",
    "    a = []\n",
    "    \n",
    "b = A()\n",
    "b.a.append(1)\n",
    "A.a"
   ]
  }
 ],
 "metadata": {
  "colab": {
   "provenance": []
  },
  "kernelspec": {
   "display_name": "Python 3 (ipykernel)",
   "language": "python",
   "name": "python3"
  },
  "language_info": {
   "codemirror_mode": {
    "name": "ipython",
    "version": 3
   },
   "file_extension": ".py",
   "mimetype": "text/x-python",
   "name": "python",
   "nbconvert_exporter": "python",
   "pygments_lexer": "ipython3",
   "version": "3.9.12"
  },
  "toc": {
   "base_numbering": 1,
   "nav_menu": {},
   "number_sections": true,
   "sideBar": true,
   "skip_h1_title": false,
   "title_cell": "Table of Contents",
   "title_sidebar": "Contents",
   "toc_cell": true,
   "toc_position": {},
   "toc_section_display": true,
   "toc_window_display": true
  }
 },
 "nbformat": 4,
 "nbformat_minor": 1
}
