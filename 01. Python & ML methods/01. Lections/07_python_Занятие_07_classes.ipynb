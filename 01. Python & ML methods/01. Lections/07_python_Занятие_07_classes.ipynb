{
 "cells": [
  {
   "cell_type": "markdown",
   "metadata": {
    "toc": true
   },
   "source": [
    "<h1>Table of Contents<span class=\"tocSkip\"></span></h1>\n",
    "<div class=\"toc\"><ul class=\"toc-item\"><li><span><a href=\"#Добрый-вечер!\" data-toc-modified-id=\"Добрый-вечер!-1\"><span class=\"toc-item-num\">1&nbsp;&nbsp;</span>Добрый вечер!</a></span></li><li><span><a href=\"#Базовая-информация-о-классах\" data-toc-modified-id=\"Базовая-информация-о-классах-2\"><span class=\"toc-item-num\">2&nbsp;&nbsp;</span>Базовая информация о классах</a></span><ul class=\"toc-item\"><li><span><a href=\"#Объявление-класса\" data-toc-modified-id=\"Объявление-класса-2.1\"><span class=\"toc-item-num\">2.1&nbsp;&nbsp;</span>Объявление класса</a></span></li><li><span><a href=\"#Атрибуты-и-методы\" data-toc-modified-id=\"Атрибуты-и-методы-2.2\"><span class=\"toc-item-num\">2.2&nbsp;&nbsp;</span>Атрибуты и методы</a></span><ul class=\"toc-item\"><li><span><a href=\"#Просто-пример-класса\" data-toc-modified-id=\"Просто-пример-класса-2.2.1\"><span class=\"toc-item-num\">2.2.1&nbsp;&nbsp;</span>Просто пример класса</a></span></li></ul></li><li><span><a href=\"#Приватность\" data-toc-modified-id=\"Приватность-2.3\"><span class=\"toc-item-num\">2.3&nbsp;&nbsp;</span>Приватность</a></span></li></ul></li><li><span><a href=\"#Генераторы-и-итераторы:-повторение-с-новой-точки-зрения\" data-toc-modified-id=\"Генераторы-и-итераторы:-повторение-с-новой-точки-зрения-3\"><span class=\"toc-item-num\">3&nbsp;&nbsp;</span>Генераторы и итераторы: повторение с новой точки зрения</a></span><ul class=\"toc-item\"><li><span><a href=\"#classmethod-и-staticmethod\" data-toc-modified-id=\"classmethod-и-staticmethod-3.1\"><span class=\"toc-item-num\">3.1&nbsp;&nbsp;</span>classmethod и staticmethod</a></span></li><li><span><a href=\"#Callable\" data-toc-modified-id=\"Callable-3.2\"><span class=\"toc-item-num\">3.2&nbsp;&nbsp;</span>Callable</a></span></li></ul></li></ul></div>"
   ]
  },
  {
   "cell_type": "markdown",
   "metadata": {},
   "source": [
    "# Добрый вечер!"
   ]
  },
  {
   "cell_type": "markdown",
   "metadata": {},
   "source": [
    "# Базовая информация о классах"
   ]
  },
  {
   "cell_type": "markdown",
   "metadata": {},
   "source": [
    "Классы необходимы для того, чтобы создавать новые пользовательские структуры данных, которые содержат произвольную информацию о чем-то."
   ]
  },
  {
   "cell_type": "markdown",
   "metadata": {},
   "source": [
    "## Объявление класса"
   ]
  },
  {
   "cell_type": "code",
   "execution_count": 1,
   "metadata": {},
   "outputs": [
    {
     "data": {
      "text/plain": [
       "['In',\n",
       " 'Out',\n",
       " '_',\n",
       " '__',\n",
       " '___',\n",
       " '__builtin__',\n",
       " '__builtins__',\n",
       " '__doc__',\n",
       " '__loader__',\n",
       " '__name__',\n",
       " '__package__',\n",
       " '__spec__',\n",
       " '_dh',\n",
       " '_i',\n",
       " '_i1',\n",
       " '_ih',\n",
       " '_ii',\n",
       " '_iii',\n",
       " '_oh',\n",
       " 'exit',\n",
       " 'get_ipython',\n",
       " 'quit']"
      ]
     },
     "execution_count": 1,
     "metadata": {},
     "output_type": "execute_result"
    }
   ],
   "source": [
    "dir()  # что выводит?"
   ]
  },
  {
   "cell_type": "code",
   "execution_count": 2,
   "metadata": {
    "id": "7yKT7dxWPZg6"
   },
   "outputs": [],
   "source": [
    "class EmptyClass:\n",
    "    pass"
   ]
  },
  {
   "cell_type": "code",
   "execution_count": 3,
   "metadata": {},
   "outputs": [
    {
     "data": {
      "text/plain": [
       "['EmptyClass',\n",
       " 'In',\n",
       " 'Out',\n",
       " '_',\n",
       " '_1',\n",
       " '__',\n",
       " '___',\n",
       " '__builtin__',\n",
       " '__builtins__',\n",
       " '__doc__',\n",
       " '__loader__',\n",
       " '__name__',\n",
       " '__package__',\n",
       " '__spec__',\n",
       " '_dh',\n",
       " '_i',\n",
       " '_i1',\n",
       " '_i2',\n",
       " '_i3',\n",
       " '_ih',\n",
       " '_ii',\n",
       " '_iii',\n",
       " '_oh',\n",
       " 'exit',\n",
       " 'get_ipython',\n",
       " 'quit']"
      ]
     },
     "execution_count": 3,
     "metadata": {},
     "output_type": "execute_result"
    }
   ],
   "source": [
    "dir()  # появился EmptyClass"
   ]
  },
  {
   "cell_type": "code",
   "execution_count": 5,
   "metadata": {},
   "outputs": [
    {
     "data": {
      "text/plain": [
       "[]"
      ]
     },
     "execution_count": 5,
     "metadata": {},
     "output_type": "execute_result"
    }
   ],
   "source": [
    "x = 42\n",
    "lst = list()\n",
    "lst\n",
    "# теперь эти имена тоже в dir()"
   ]
  },
  {
   "cell_type": "code",
   "execution_count": 6,
   "metadata": {},
   "outputs": [
    {
     "data": {
      "text/plain": [
       "['EmptyClass',\n",
       " 'In',\n",
       " 'Out',\n",
       " '_',\n",
       " '_1',\n",
       " '_3',\n",
       " '_4',\n",
       " '_5',\n",
       " '__',\n",
       " '___',\n",
       " '__builtin__',\n",
       " '__builtins__',\n",
       " '__doc__',\n",
       " '__loader__',\n",
       " '__name__',\n",
       " '__package__',\n",
       " '__spec__',\n",
       " '_dh',\n",
       " '_i',\n",
       " '_i1',\n",
       " '_i2',\n",
       " '_i3',\n",
       " '_i4',\n",
       " '_i5',\n",
       " '_i6',\n",
       " '_ih',\n",
       " '_ii',\n",
       " '_iii',\n",
       " '_oh',\n",
       " 'exit',\n",
       " 'get_ipython',\n",
       " 'lst',\n",
       " 'quit',\n",
       " 'x']"
      ]
     },
     "execution_count": 6,
     "metadata": {},
     "output_type": "execute_result"
    }
   ],
   "source": [
    "dir()"
   ]
  },
  {
   "cell_type": "code",
   "execution_count": 7,
   "metadata": {
    "id": "0VzY-Unij0_r"
   },
   "outputs": [],
   "source": [
    "empty_obj = EmptyClass()"
   ]
  },
  {
   "cell_type": "code",
   "execution_count": 8,
   "metadata": {
    "id": "-wsHVhwkj4Pu"
   },
   "outputs": [
    {
     "name": "stdout",
     "output_type": "stream",
     "text": [
      "<__main__.EmptyClass object at 0x000001BD18BE3D90>\n"
     ]
    },
    {
     "data": {
      "text/plain": [
       "__main__.EmptyClass"
      ]
     },
     "execution_count": 8,
     "metadata": {},
     "output_type": "execute_result"
    }
   ],
   "source": [
    "print(empty_obj)\n",
    "type(empty_obj)"
   ]
  },
  {
   "cell_type": "code",
   "execution_count": 9,
   "metadata": {},
   "outputs": [
    {
     "data": {
      "text/plain": [
       "1911675567504"
      ]
     },
     "execution_count": 9,
     "metadata": {},
     "output_type": "execute_result"
    }
   ],
   "source": [
    "int('0x000001BD18BE3D90', base=16)"
   ]
  },
  {
   "cell_type": "code",
   "execution_count": 10,
   "metadata": {},
   "outputs": [
    {
     "data": {
      "text/plain": [
       "1911675567504"
      ]
     },
     "execution_count": 10,
     "metadata": {},
     "output_type": "execute_result"
    }
   ],
   "source": [
    "id(empty_obj)"
   ]
  },
  {
   "cell_type": "markdown",
   "metadata": {
    "id": "qUsPA2zh8tvc"
   },
   "source": [
    "## Атрибуты и методы"
   ]
  },
  {
   "cell_type": "code",
   "execution_count": 11,
   "metadata": {},
   "outputs": [
    {
     "name": "stdout",
     "output_type": "stream",
     "text": [
      "1\n"
     ]
    },
    {
     "data": {
      "text/plain": [
       "2"
      ]
     },
     "execution_count": 11,
     "metadata": {},
     "output_type": "execute_result"
    }
   ],
   "source": [
    "class MyLittleClass:\n",
    "    # создаем атрибут нашего класса\n",
    "    color = 1  \n",
    "# заведем экземпляр нашего класса    \n",
    "obj = MyLittleClass()\n",
    "# напечатаем значение атрибута color\n",
    "print(obj.color)\n",
    "# прибавим единицу\n",
    "obj.color += 1\n",
    "# вызовем атрибут экземпляра класса\n",
    "obj.color"
   ]
  },
  {
   "cell_type": "code",
   "execution_count": 13,
   "metadata": {
    "id": "WOMUBmzzM_rp"
   },
   "outputs": [
    {
     "data": {
      "text/plain": [
       "1"
      ]
     },
     "execution_count": 13,
     "metadata": {},
     "output_type": "execute_result"
    }
   ],
   "source": [
    "# посмотрим изменился ли атрибут класса\n",
    "MyLittleClass.color"
   ]
  },
  {
   "cell_type": "code",
   "execution_count": 14,
   "metadata": {},
   "outputs": [
    {
     "data": {
      "text/plain": [
       "1"
      ]
     },
     "execution_count": 14,
     "metadata": {},
     "output_type": "execute_result"
    }
   ],
   "source": [
    "# заведем еще один экземпляр класса\n",
    "obj1 = MyLittleClass()\n",
    "# убедимся, что атрибут экземпляра класса равен единице\n",
    "obj1.color"
   ]
  },
  {
   "cell_type": "code",
   "execution_count": 15,
   "metadata": {
    "id": "7mwbk4sk8tvd"
   },
   "outputs": [],
   "source": [
    "class MyLittleClass:\n",
    "    \n",
    "    color = \"blue\"\n",
    "    \n",
    "    # создадим метод класса (по сути это функция в теле самого класса)\n",
    "    # данный метод принимает два аргумента\n",
    "    def set_color(self, color_):  # method\n",
    "        # меняет метод color на color_\n",
    "        # то есть изменяет его значение\n",
    "        color = color_\n",
    "        # печатает новое значение color\n",
    "        print(f'set color to {color}')"
   ]
  },
  {
   "cell_type": "code",
   "execution_count": 16,
   "metadata": {
    "id": "2Vzt11-8iOCY"
   },
   "outputs": [
    {
     "name": "stdout",
     "output_type": "stream",
     "text": [
      "blue\n"
     ]
    }
   ],
   "source": [
    "obj = MyLittleClass()  # Атрибуты объектов класса доступны как атрибуты его экземпляров \n",
    "print(obj.color)"
   ]
  },
  {
   "cell_type": "code",
   "execution_count": 17,
   "metadata": {
    "id": "xak2eN558tvf"
   },
   "outputs": [
    {
     "name": "stdout",
     "output_type": "stream",
     "text": [
      "set color to red\n",
      "blue\n"
     ]
    }
   ],
   "source": [
    "# вызываем метод класса\n",
    "obj.set_color('red')\n",
    "print(obj.color)"
   ]
  },
  {
   "cell_type": "markdown",
   "metadata": {
    "id": "V_XErrJi8tvg"
   },
   "source": [
    "обращение к атрибутам инстансов класса должно иметь форму `self.attribute_name`, а `color` в методе `set_color` -- просто локальная переменная\n"
   ]
  },
  {
   "cell_type": "code",
   "execution_count": 18,
   "metadata": {
    "id": "-a85FGS78tvh"
   },
   "outputs": [],
   "source": [
    "class MyLittleClass2:\n",
    "    color = \"blue\"\n",
    "    \n",
    "    def set_color(self, color_):\n",
    "        # вместо color использует self.color\n",
    "        self.color = color_  \n",
    "        print('set color to {}'.format(self.color))"
   ]
  },
  {
   "cell_type": "code",
   "execution_count": 19,
   "metadata": {
    "id": "kSe1wvRijYjo"
   },
   "outputs": [
    {
     "name": "stdout",
     "output_type": "stream",
     "text": [
      "blue\n"
     ]
    }
   ],
   "source": [
    "# смотрит на значение имение color\n",
    "obj = MyLittleClass2()\n",
    "print(obj.color)"
   ]
  },
  {
   "cell_type": "code",
   "execution_count": 21,
   "metadata": {
    "id": "ik326jQ18tvi"
   },
   "outputs": [
    {
     "name": "stdout",
     "output_type": "stream",
     "text": [
      "set color to red\n",
      "red\n",
      "blue\n"
     ]
    }
   ],
   "source": [
    "obj.set_color('red')\n",
    "print(obj.color)  # смотрим на атрибу у экземпляра\n",
    "print(MyLittleClass2.color)"
   ]
  },
  {
   "cell_type": "code",
   "execution_count": 22,
   "metadata": {},
   "outputs": [],
   "source": [
    "# посмотрим чему будет равно значение атрибута у нового экземпляра класса"
   ]
  },
  {
   "cell_type": "code",
   "execution_count": 23,
   "metadata": {},
   "outputs": [
    {
     "data": {
      "text/plain": [
       "'blue'"
      ]
     },
     "execution_count": 23,
     "metadata": {},
     "output_type": "execute_result"
    }
   ],
   "source": [
    "obj2 = MyLittleClass2()\n",
    "obj2.color"
   ]
  },
  {
   "cell_type": "code",
   "execution_count": 28,
   "metadata": {
    "colab": {
     "base_uri": "https://localhost:8080/"
    },
    "id": "7HDAwT0n8tvj",
    "outputId": "5f66e871-562c-4314-9233-1ed022026a15",
    "scrolled": true
   },
   "outputs": [
    {
     "name": "stdout",
     "output_type": "stream",
     "text": [
      "green\n",
      "blue\n",
      "blue\n"
     ]
    }
   ],
   "source": [
    "# вообще-то, так тоже можно было, но хорошие \n",
    "# программисты пишут т.н. методы-геттеры и методы-сеттеры\n",
    "obj.color = 'green'\n",
    "print(obj.color)\n",
    "print(MyLittleClass2.color)\n",
    "print(MyLittleClass2().color)"
   ]
  },
  {
   "cell_type": "code",
   "execution_count": 29,
   "metadata": {},
   "outputs": [
    {
     "data": {
      "text/plain": [
       "['__class__',\n",
       " '__delattr__',\n",
       " '__dict__',\n",
       " '__dir__',\n",
       " '__doc__',\n",
       " '__eq__',\n",
       " '__format__',\n",
       " '__ge__',\n",
       " '__getattribute__',\n",
       " '__gt__',\n",
       " '__hash__',\n",
       " '__init__',\n",
       " '__init_subclass__',\n",
       " '__le__',\n",
       " '__lt__',\n",
       " '__module__',\n",
       " '__ne__',\n",
       " '__new__',\n",
       " '__reduce__',\n",
       " '__reduce_ex__',\n",
       " '__repr__',\n",
       " '__setattr__',\n",
       " '__sizeof__',\n",
       " '__str__',\n",
       " '__subclasshook__',\n",
       " '__weakref__',\n",
       " 'color',\n",
       " 'set_color',\n",
       " 'some_attribute']"
      ]
     },
     "execution_count": 29,
     "metadata": {},
     "output_type": "execute_result"
    }
   ],
   "source": [
    "# можно ли создавать атрибуты на ходу?\n",
    "# на данный момент у нас есть только атрибуты 'color' и 'set_color'\n",
    "dir(obj)"
   ]
  },
  {
   "cell_type": "code",
   "execution_count": 30,
   "metadata": {
    "colab": {
     "base_uri": "https://localhost:8080/"
    },
    "id": "THNbsf8_8tvl",
    "outputId": "1ff69cb9-ff96-4be7-a245-7ea556dae836"
   },
   "outputs": [
    {
     "name": "stdout",
     "output_type": "stream",
     "text": [
      "42\n"
     ]
    }
   ],
   "source": [
    "# объявим новый атрибут\n",
    "obj.some_attribute = 42\n",
    "print(obj.some_attribute)"
   ]
  },
  {
   "cell_type": "code",
   "execution_count": 32,
   "metadata": {},
   "outputs": [
    {
     "ename": "AttributeError",
     "evalue": "'list' object has no attribute 'new_attr'",
     "output_type": "error",
     "traceback": [
      "\u001b[1;31m---------------------------------------------------------------------------\u001b[0m",
      "\u001b[1;31mAttributeError\u001b[0m                            Traceback (most recent call last)",
      "Input \u001b[1;32mIn [32]\u001b[0m, in \u001b[0;36m<cell line: 2>\u001b[1;34m()\u001b[0m\n\u001b[0;32m      1\u001b[0m \u001b[38;5;66;03m# заведем новый атрибут для lst\u001b[39;00m\n\u001b[1;32m----> 2\u001b[0m lst\u001b[38;5;241m.\u001b[39mnew_attr \u001b[38;5;241m=\u001b[39m \u001b[38;5;241m0\u001b[39m\n",
      "\u001b[1;31mAttributeError\u001b[0m: 'list' object has no attribute 'new_attr'"
     ]
    }
   ],
   "source": [
    "# заведем новый атрибут для lst\n",
    "lst.new_attr = 0\n",
    "# разница в том. что данный тип - встроенный и он защищен от подобных изменений"
   ]
  },
  {
   "cell_type": "code",
   "execution_count": 33,
   "metadata": {},
   "outputs": [
    {
     "data": {
      "text/plain": [
       "['__class__',\n",
       " '__delattr__',\n",
       " '__dict__',\n",
       " '__dir__',\n",
       " '__doc__',\n",
       " '__eq__',\n",
       " '__format__',\n",
       " '__ge__',\n",
       " '__getattribute__',\n",
       " '__gt__',\n",
       " '__hash__',\n",
       " '__init__',\n",
       " '__init_subclass__',\n",
       " '__le__',\n",
       " '__lt__',\n",
       " '__module__',\n",
       " '__ne__',\n",
       " '__new__',\n",
       " '__reduce__',\n",
       " '__reduce_ex__',\n",
       " '__repr__',\n",
       " '__setattr__',\n",
       " '__sizeof__',\n",
       " '__str__',\n",
       " '__subclasshook__',\n",
       " '__weakref__',\n",
       " 'color',\n",
       " 'set_color',\n",
       " 'some_attribute']"
      ]
     },
     "execution_count": 33,
     "metadata": {},
     "output_type": "execute_result"
    }
   ],
   "source": [
    "# посмотрим на добавившийся атрибут нашего класса\n",
    "dir(obj)"
   ]
  },
  {
   "cell_type": "code",
   "execution_count": 34,
   "metadata": {},
   "outputs": [],
   "source": [
    "# вспомним нашу вспомогательную функцию\n",
    "def attrs_printer(obj):\n",
    "    print(*[name for name in dir(obj) if not name.startswith('_')], sep='\\n')"
   ]
  },
  {
   "cell_type": "code",
   "execution_count": 35,
   "metadata": {},
   "outputs": [
    {
     "name": "stdout",
     "output_type": "stream",
     "text": [
      "color\n",
      "set_color\n",
      "some_attribute\n"
     ]
    }
   ],
   "source": [
    "# печатаем все атрибуты, не начинающиеся с нижнего подчеркивания\n",
    "attrs_printer(obj)"
   ]
  },
  {
   "cell_type": "code",
   "execution_count": 36,
   "metadata": {
    "id": "uSvwudNN8tvm"
   },
   "outputs": [],
   "source": [
    "class MyLittleClass3():\n",
    "    # метод с self\n",
    "    def method_with_self(self, arg):\n",
    "        print(arg)\n",
    "    # метод без self    \n",
    "    def method_without_self(arg):\n",
    "        print(arg)"
   ]
  },
  {
   "cell_type": "code",
   "execution_count": 38,
   "metadata": {
    "id": "A2qvSIra8tvm"
   },
   "outputs": [
    {
     "name": "stdout",
     "output_type": "stream",
     "text": [
      "i am an argument\n",
      "<__main__.MyLittleClass3 object at 0x000001BD19D16B50>\n"
     ]
    },
    {
     "ename": "TypeError",
     "evalue": "method_without_self() takes 1 positional argument but 2 were given",
     "output_type": "error",
     "traceback": [
      "\u001b[1;31m---------------------------------------------------------------------------\u001b[0m",
      "\u001b[1;31mTypeError\u001b[0m                                 Traceback (most recent call last)",
      "Input \u001b[1;32mIn [38]\u001b[0m, in \u001b[0;36m<cell line: 8>\u001b[1;34m()\u001b[0m\n\u001b[0;32m      5\u001b[0m \u001b[38;5;66;03m# в метод без self вообще ничего не передаем\u001b[39;00m\n\u001b[0;32m      6\u001b[0m obj\u001b[38;5;241m.\u001b[39mmethod_without_self()\n\u001b[1;32m----> 8\u001b[0m \u001b[43mobj\u001b[49m\u001b[38;5;241;43m.\u001b[39;49m\u001b[43mmethod_without_self\u001b[49m\u001b[43m(\u001b[49m\u001b[38;5;124;43m'\u001b[39;49m\u001b[38;5;124;43mi am another argument\u001b[39;49m\u001b[38;5;124;43m'\u001b[39;49m\u001b[43m)\u001b[49m\n",
      "\u001b[1;31mTypeError\u001b[0m: method_without_self() takes 1 positional argument but 2 were given"
     ]
    }
   ],
   "source": [
    "# заводим экземпляр этого класса\n",
    "obj = MyLittleClass3()\n",
    "# в метод с self мы передаем только один аргумент\n",
    "obj.method_with_self('i am an argument')\n",
    "# в метод без self вообще ничего не передаем\n",
    "obj.method_without_self()\n",
    "\n",
    "obj.method_without_self('i am another argument') \n",
    "# здесь мы на самом деле передаем по два аргумента, self и arg"
   ]
  },
  {
   "cell_type": "markdown",
   "metadata": {},
   "source": [
    "Если представить, что self ссылается на экземпляр класса.\n",
    "\n",
    "По умолчанию первый аргумент всегда ссылается на экземпляр класса\n",
    "\n",
    "self  не зарезервированное слово, а соглашение между разработчиками.\n",
    "\n",
    "Именно поэтому мы и получаем ошибку, когда передаем в метод без self аргумент"
   ]
  },
  {
   "cell_type": "code",
   "execution_count": 41,
   "metadata": {},
   "outputs": [
    {
     "name": "stdout",
     "output_type": "stream",
     "text": [
      "<__main__.MyLittleClass3 object at 0x000001BD19D16B50>\n",
      "<__main__.MyLittleClass3 object at 0x000001BD19D16B50>\n"
     ]
    },
    {
     "data": {
      "text/plain": [
       "True"
      ]
     },
     "execution_count": 41,
     "metadata": {},
     "output_type": "execute_result"
    }
   ],
   "source": [
    "# не совсем пока что понял зачем нам на это смотреть\n",
    "print(obj) is obj.method_without_self()"
   ]
  },
  {
   "cell_type": "markdown",
   "metadata": {},
   "source": [
    "Как же нам можно обратиться к методу без self?"
   ]
  },
  {
   "cell_type": "code",
   "execution_count": 42,
   "metadata": {
    "colab": {
     "base_uri": "https://localhost:8080/"
    },
    "id": "rQqFL-2z8tvn",
    "outputId": "a02f7f08-1866-4b4e-f861-db0a3d1ceedc"
   },
   "outputs": [
    {
     "name": "stdout",
     "output_type": "stream",
     "text": [
      "i am another argument\n"
     ]
    }
   ],
   "source": [
    "# а здесь мы передаем только один аргумент, поскольку мы обращаемся к классу\n",
    "# а не к экземпляру класса\n",
    "MyLittleClass3.method_without_self('i am another argument')  "
   ]
  },
  {
   "cell_type": "code",
   "execution_count": 43,
   "metadata": {
    "colab": {
     "base_uri": "https://localhost:8080/"
    },
    "id": "GKGqoPRw8tvo",
    "outputId": "35b283d6-d9e0-4b41-ac34-1c6d1e11a434"
   },
   "outputs": [
    {
     "name": "stdout",
     "output_type": "stream",
     "text": [
      "hello\n"
     ]
    }
   ],
   "source": [
    "# докажем, что метод - это самая обычная функция\n",
    "func = MyLittleClass3.method_without_self\n",
    "func(\"hello\")"
   ]
  },
  {
   "cell_type": "code",
   "execution_count": 44,
   "metadata": {
    "colab": {
     "base_uri": "https://localhost:8080/"
    },
    "id": "ZJEjo97_mASq",
    "outputId": "dbd9d3ab-979d-483b-804a-a5ee22388b3b"
   },
   "outputs": [
    {
     "data": {
      "text/plain": [
       "function"
      ]
     },
     "execution_count": 44,
     "metadata": {},
     "output_type": "execute_result"
    }
   ],
   "source": [
    "type(func)"
   ]
  },
  {
   "cell_type": "code",
   "execution_count": 45,
   "metadata": {},
   "outputs": [
    {
     "data": {
      "text/plain": [
       "function"
      ]
     },
     "execution_count": 45,
     "metadata": {},
     "output_type": "execute_result"
    }
   ],
   "source": [
    "type(MyLittleClass3.method_without_self)"
   ]
  },
  {
   "cell_type": "code",
   "execution_count": 46,
   "metadata": {
    "colab": {
     "base_uri": "https://localhost:8080/",
     "height": 187
    },
    "id": "AyFT2kgS8tvp",
    "outputId": "af1733ad-ad0b-4dd1-c692-d3e0c3186c04"
   },
   "outputs": [
    {
     "ename": "TypeError",
     "evalue": "method_with_self() missing 1 required positional argument: 'arg'",
     "output_type": "error",
     "traceback": [
      "\u001b[1;31m---------------------------------------------------------------------------\u001b[0m",
      "\u001b[1;31mTypeError\u001b[0m                                 Traceback (most recent call last)",
      "Input \u001b[1;32mIn [46]\u001b[0m, in \u001b[0;36m<cell line: 4>\u001b[1;34m()\u001b[0m\n\u001b[0;32m      2\u001b[0m func2 \u001b[38;5;241m=\u001b[39m MyLittleClass3\u001b[38;5;241m.\u001b[39mmethod_with_self  \u001b[38;5;66;03m# (self, arg)\u001b[39;00m\n\u001b[0;32m      3\u001b[0m \u001b[38;5;66;03m# передаем один аргумент\u001b[39;00m\n\u001b[1;32m----> 4\u001b[0m \u001b[43mfunc2\u001b[49m\u001b[43m(\u001b[49m\u001b[38;5;124;43m\"\u001b[39;49m\u001b[38;5;124;43mhello\u001b[39;49m\u001b[38;5;124;43m\"\u001b[39;49m\u001b[43m)\u001b[49m\n",
      "\u001b[1;31mTypeError\u001b[0m: method_with_self() missing 1 required positional argument: 'arg'"
     ]
    }
   ],
   "source": [
    "# заведем func2, который будем нашим методом с self\n",
    "func2 = MyLittleClass3.method_with_self  # (self, arg)\n",
    "# передаем один аргумент\n",
    "func2(\"hello\")"
   ]
  },
  {
   "cell_type": "code",
   "execution_count": 32,
   "metadata": {
    "colab": {
     "base_uri": "https://localhost:8080/"
    },
    "id": "W8w9YwHh8tvp",
    "outputId": "c7226d51-1e02-46f6-cc15-bec4885d4952"
   },
   "outputs": [
    {
     "name": "stdout",
     "output_type": "stream",
     "text": [
      "hello\n"
     ]
    }
   ],
   "source": [
    "obj = MyLittleClass3()\n",
    "func2(obj, \"hello\")  # ой, нам же ещё нужен объект для self!"
   ]
  },
  {
   "cell_type": "code",
   "execution_count": 47,
   "metadata": {
    "colab": {
     "base_uri": "https://localhost:8080/"
    },
    "id": "f3-uhjw5mfHU",
    "outputId": "e0ec0c46-7885-4478-f7ca-6c5f373c06bf"
   },
   "outputs": [
    {
     "name": "stdout",
     "output_type": "stream",
     "text": [
      "hello\n"
     ]
    }
   ],
   "source": [
    "# а что будет здесь?\n",
    "func2('123', 'hello')\n",
    "\n",
    "#    def method_with_self(self, arg):\n",
    "#        print(arg)"
   ]
  },
  {
   "cell_type": "code",
   "execution_count": 48,
   "metadata": {
    "colab": {
     "base_uri": "https://localhost:8080/",
     "height": 169
    },
    "id": "pL_qjxrV8tvq",
    "outputId": "54dfeb65-b980-4b25-d77c-cba143479761"
   },
   "outputs": [
    {
     "ename": "AttributeError",
     "evalue": "'MyLittleClass3' object has no attribute 'get_color'",
     "output_type": "error",
     "traceback": [
      "\u001b[1;31m---------------------------------------------------------------------------\u001b[0m",
      "\u001b[1;31mAttributeError\u001b[0m                            Traceback (most recent call last)",
      "Input \u001b[1;32mIn [48]\u001b[0m, in \u001b[0;36m<cell line: 2>\u001b[1;34m()\u001b[0m\n\u001b[0;32m      1\u001b[0m \u001b[38;5;66;03m# здесь мы получим AttributeError, т.к. мы не создавали такой метод класса\u001b[39;00m\n\u001b[1;32m----> 2\u001b[0m \u001b[43mobj\u001b[49m\u001b[38;5;241;43m.\u001b[39;49m\u001b[43mget_color\u001b[49m()\n",
      "\u001b[1;31mAttributeError\u001b[0m: 'MyLittleClass3' object has no attribute 'get_color'"
     ]
    }
   ],
   "source": [
    "# здесь мы получим AttributeError, т.к. мы не создавали такой метод класса\n",
    "obj.get_color()"
   ]
  },
  {
   "cell_type": "code",
   "execution_count": null,
   "metadata": {},
   "outputs": [],
   "source": [
    "# class MyLittleClass3:\n",
    "    \n",
    "#     def method_with_self(self, arg):\n",
    "#         print(arg)\n",
    "    \n",
    "#     def method_without_self(arg):\n",
    "#         print(arg)\n",
    "        \n",
    "#     def get_color(self):\n",
    "#         return self.color"
   ]
  },
  {
   "cell_type": "code",
   "execution_count": 49,
   "metadata": {
    "colab": {
     "base_uri": "https://localhost:8080/",
     "height": 329
    },
    "id": "tK0Tt1gf8tvr",
    "outputId": "7a833c6b-24c3-401b-ddd8-60b84a556ecb"
   },
   "outputs": [
    {
     "ename": "AttributeError",
     "evalue": "'MyLittleClass3' object has no attribute 'color'",
     "output_type": "error",
     "traceback": [
      "\u001b[1;31m---------------------------------------------------------------------------\u001b[0m",
      "\u001b[1;31mAttributeError\u001b[0m                            Traceback (most recent call last)",
      "Input \u001b[1;32mIn [49]\u001b[0m, in \u001b[0;36m<cell line: 15>\u001b[1;34m()\u001b[0m\n\u001b[0;32m     13\u001b[0m obj \u001b[38;5;241m=\u001b[39m MyLittleClass3()\n\u001b[0;32m     14\u001b[0m \u001b[38;5;66;03m# вызываем функцию \u001b[39;00m\n\u001b[1;32m---> 15\u001b[0m \u001b[43mobj\u001b[49m\u001b[38;5;241;43m.\u001b[39;49m\u001b[43mget_color\u001b[49m\u001b[43m(\u001b[49m\u001b[43m)\u001b[49m\n",
      "Input \u001b[1;32mIn [49]\u001b[0m, in \u001b[0;36mget_color_function\u001b[1;34m(self)\u001b[0m\n\u001b[0;32m      7\u001b[0m \u001b[38;5;28;01mdef\u001b[39;00m \u001b[38;5;21mget_color_function\u001b[39m(\u001b[38;5;28mself\u001b[39m):\n\u001b[1;32m----> 8\u001b[0m     \u001b[38;5;28;01mreturn\u001b[39;00m \u001b[38;5;28;43mself\u001b[39;49m\u001b[38;5;241;43m.\u001b[39;49m\u001b[43mcolor\u001b[49m\n",
      "\u001b[1;31mAttributeError\u001b[0m: 'MyLittleClass3' object has no attribute 'color'"
     ]
    }
   ],
   "source": [
    "# если данной функции передать объект\n",
    "# у которого есть атрибут с именем color\n",
    "# то вернется значение этого атрибута\n",
    "# если передать объект у которого нет атрибута с именем color\n",
    "# то получим ошибку AttributeError\n",
    "\n",
    "def get_color_function(self):\n",
    "    return self.color\n",
    "\n",
    "# динамически определяем новый атрибут и даем имя get_color_function\n",
    "MyLittleClass3.get_color = get_color_function\n",
    "# создаем экземпляр класса\n",
    "obj = MyLittleClass3()\n",
    "# вызываем функцию \n",
    "obj.get_color()"
   ]
  },
  {
   "cell_type": "code",
   "execution_count": 50,
   "metadata": {
    "colab": {
     "base_uri": "https://localhost:8080/",
     "height": 35
    },
    "id": "ipimnuWx8tvr",
    "outputId": "83ad7737-8208-4191-f3d4-803cc9491963"
   },
   "outputs": [
    {
     "data": {
      "text/plain": [
       "'pink'"
      ]
     },
     "execution_count": 50,
     "metadata": {},
     "output_type": "execute_result"
    }
   ],
   "source": [
    "# а сейчас мы создали атрибут color\n",
    "obj.color = 'pink'\n",
    "obj.get_color()"
   ]
  },
  {
   "cell_type": "code",
   "execution_count": 51,
   "metadata": {
    "colab": {
     "base_uri": "https://localhost:8080/",
     "height": 187
    },
    "id": "DIWap6XsGBKn",
    "outputId": "bcb095f4-e613-49da-b38d-311b561326e8"
   },
   "outputs": [
    {
     "ename": "AttributeError",
     "evalue": "'MyLittleClass3' object has no attribute 'color'",
     "output_type": "error",
     "traceback": [
      "\u001b[1;31m---------------------------------------------------------------------------\u001b[0m",
      "\u001b[1;31mAttributeError\u001b[0m                            Traceback (most recent call last)",
      "Input \u001b[1;32mIn [51]\u001b[0m, in \u001b[0;36m<cell line: 3>\u001b[1;34m()\u001b[0m\n\u001b[0;32m      1\u001b[0m \u001b[38;5;66;03m# заведем новый экземпляр класса и проверим, будет ли у него этот атрибут\u001b[39;00m\n\u001b[0;32m      2\u001b[0m obj2 \u001b[38;5;241m=\u001b[39m MyLittleClass3()\n\u001b[1;32m----> 3\u001b[0m \u001b[43mobj2\u001b[49m\u001b[38;5;241;43m.\u001b[39;49m\u001b[43mcolor\u001b[49m\n",
      "\u001b[1;31mAttributeError\u001b[0m: 'MyLittleClass3' object has no attribute 'color'"
     ]
    }
   ],
   "source": [
    "# заведем новый экземпляр класса и проверим, будет ли у него этот атрибут\n",
    "obj2 = MyLittleClass3()\n",
    "obj2.color"
   ]
  },
  {
   "cell_type": "code",
   "execution_count": 52,
   "metadata": {},
   "outputs": [
    {
     "ename": "AttributeError",
     "evalue": "'MyLittleClass3' object has no attribute 'color'",
     "output_type": "error",
     "traceback": [
      "\u001b[1;31m---------------------------------------------------------------------------\u001b[0m",
      "\u001b[1;31mAttributeError\u001b[0m                            Traceback (most recent call last)",
      "Input \u001b[1;32mIn [52]\u001b[0m, in \u001b[0;36m<cell line: 1>\u001b[1;34m()\u001b[0m\n\u001b[1;32m----> 1\u001b[0m \u001b[43mobj2\u001b[49m\u001b[38;5;241;43m.\u001b[39;49m\u001b[43mget_color\u001b[49m\u001b[43m(\u001b[49m\u001b[43m)\u001b[49m\n",
      "Input \u001b[1;32mIn [49]\u001b[0m, in \u001b[0;36mget_color_function\u001b[1;34m(self)\u001b[0m\n\u001b[0;32m      7\u001b[0m \u001b[38;5;28;01mdef\u001b[39;00m \u001b[38;5;21mget_color_function\u001b[39m(\u001b[38;5;28mself\u001b[39m):\n\u001b[1;32m----> 8\u001b[0m     \u001b[38;5;28;01mreturn\u001b[39;00m \u001b[38;5;28;43mself\u001b[39;49m\u001b[38;5;241;43m.\u001b[39;49m\u001b[43mcolor\u001b[49m\n",
      "\u001b[1;31mAttributeError\u001b[0m: 'MyLittleClass3' object has no attribute 'color'"
     ]
    }
   ],
   "source": [
    "obj2.get_color()"
   ]
  },
  {
   "cell_type": "code",
   "execution_count": 53,
   "metadata": {
    "colab": {
     "base_uri": "https://localhost:8080/"
    },
    "id": "p_-Yi9W1GKoU",
    "outputId": "83513376-1b29-46e6-a2bb-536d4f85b104"
   },
   "outputs": [
    {
     "data": {
      "text/plain": [
       "('green', 'green')"
      ]
     },
     "execution_count": 53,
     "metadata": {},
     "output_type": "execute_result"
    }
   ],
   "source": [
    "# заведем color как атрибут самого класса\n",
    "MyLittleClass3.color = 'green'\n",
    "# создадим новый экземпляр\n",
    "obj3 = MyLittleClass3()\n",
    "obj3.color, obj2.color"
   ]
  },
  {
   "cell_type": "code",
   "execution_count": 55,
   "metadata": {
    "colab": {
     "base_uri": "https://localhost:8080/"
    },
    "id": "yyUbYFSzI-iI",
    "outputId": "56836eb9-239f-4b1a-c64f-c50806f1c425"
   },
   "outputs": [
    {
     "data": {
      "text/plain": [
       "True"
      ]
     },
     "execution_count": 55,
     "metadata": {},
     "output_type": "execute_result"
    }
   ],
   "source": [
    "obj3.color is MyLittleClass3.color"
   ]
  },
  {
   "cell_type": "code",
   "execution_count": null,
   "metadata": {},
   "outputs": [],
   "source": [
    "obj3.color is MyLittleClass3.color"
   ]
  },
  {
   "cell_type": "code",
   "execution_count": 56,
   "metadata": {},
   "outputs": [],
   "source": [
    "# создаем класс\n",
    "class M():\n",
    "    a1 = 1\n",
    "    \n",
    "    def m1(self):\n",
    "        pass\n",
    "    \n",
    "    def m2(self, arg):\n",
    "        print(arg)\n",
    "\n",
    "# заводит экземпляр\n",
    "obj = M()"
   ]
  },
  {
   "cell_type": "code",
   "execution_count": 57,
   "metadata": {},
   "outputs": [
    {
     "data": {
      "text/plain": [
       "['__class__',\n",
       " '__delattr__',\n",
       " '__dict__',\n",
       " '__dir__',\n",
       " '__doc__',\n",
       " '__eq__',\n",
       " '__format__',\n",
       " '__ge__',\n",
       " '__getattribute__',\n",
       " '__gt__',\n",
       " '__hash__',\n",
       " '__init__',\n",
       " '__init_subclass__',\n",
       " '__le__',\n",
       " '__lt__',\n",
       " '__module__',\n",
       " '__ne__',\n",
       " '__new__',\n",
       " '__reduce__',\n",
       " '__reduce_ex__',\n",
       " '__repr__',\n",
       " '__setattr__',\n",
       " '__sizeof__',\n",
       " '__str__',\n",
       " '__subclasshook__',\n",
       " '__weakref__',\n",
       " 'a1',\n",
       " 'm1',\n",
       " 'm2']"
      ]
     },
     "execution_count": 57,
     "metadata": {},
     "output_type": "execute_result"
    }
   ],
   "source": [
    "dir(obj)"
   ]
  },
  {
   "cell_type": "markdown",
   "metadata": {},
   "source": [
    "Экземпляры класса имеют доступ к списку атрибутов своего класса\n",
    "\n",
    "Соответственно, если мы по ходу добавляем атрибуты в класс, то они будут появляться и в экземплярах класса.\n",
    "\n",
    "НО! Если мы добавим атрибут в экземпляр класса. То класс от этого не изменится."
   ]
  },
  {
   "cell_type": "code",
   "execution_count": 58,
   "metadata": {},
   "outputs": [
    {
     "name": "stdout",
     "output_type": "stream",
     "text": [
      "True\n",
      "True\n",
      "['__class__', '__delattr__', '__dict__', '__dir__', '__doc__', '__eq__', '__format__', '__ge__', '__getattribute__', '__gt__', '__hash__', '__init__', '__init_subclass__', '__le__', '__lt__', '__module__', '__ne__', '__new__', '__reduce__', '__reduce_ex__', '__repr__', '__setattr__', '__sizeof__', '__str__', '__subclasshook__', '__weakref__', 'a1', 'a3', 'm1', 'm2']\n"
     ]
    }
   ],
   "source": [
    "obj1 = M()\n",
    "print('a1' in dir(obj1))\n",
    "\n",
    "obj2 = M()\n",
    "M.a3 = 3\n",
    "print('a3' in dir(obj2))\n",
    "print(dir(obj2))\n",
    "# мы можем увидеть, что атрибут a3 мы не вызывали, но он появился в dir(obj2)"
   ]
  },
  {
   "cell_type": "code",
   "execution_count": 59,
   "metadata": {
    "colab": {
     "base_uri": "https://localhost:8080/"
    },
    "id": "gYkqVQOuHzJJ",
    "outputId": "226d1865-418f-4297-913c-6fe205cc50ac"
   },
   "outputs": [
    {
     "data": {
      "text/plain": [
       "(type, type, __main__.M, list)"
      ]
     },
     "execution_count": 59,
     "metadata": {},
     "output_type": "execute_result"
    }
   ],
   "source": [
    "# что выведет код? Какого типа объект, что из себя представляет этот объект\n",
    "type(MyLittleClass3), type(list), type(obj), type(list())"
   ]
  },
  {
   "cell_type": "code",
   "execution_count": 61,
   "metadata": {
    "colab": {
     "base_uri": "https://localhost:8080/"
    },
    "id": "_4f7_qoPJ_yG",
    "outputId": "a3359511-198b-4b0b-d0d3-3d2eccb56856"
   },
   "outputs": [
    {
     "name": "stdout",
     "output_type": "stream",
     "text": [
      "hello \n",
      "hello  bye \n"
     ]
    }
   ],
   "source": [
    "# завожу новый класс\n",
    "class MCLS:\n",
    "    # создаю атрибут класса\n",
    "    attr1 = 'hello '\n",
    "# завожу экземпляр класса\n",
    "objec = MCLS()\n",
    "# вывожу атрибут объекта\n",
    "print(objec.attr1)\n",
    "\n",
    "# завожу новый объект, отрывая имя от ранее созданного класса\n",
    "class MCLS:\n",
    "    # завожу иной атрибут\n",
    "    attr1 = 'bye '\n",
    "# создаю экземпляр класса 2\n",
    "objec2 = MCLS()\n",
    "\n",
    "# вывожу оба экземпляра\n",
    "print(objec.attr1, objec2.attr1)   "
   ]
  },
  {
   "cell_type": "markdown",
   "metadata": {},
   "source": [
    "Из вышележащей ячейки следует, что по сути мы пересоздали новый класс. Но! Ранее созданный объект класса не изменился таким образом.\n",
    "\n",
    "То есть новый класс не повлиял на уже созданный объект, хотя имеет идентичное название."
   ]
  },
  {
   "cell_type": "code",
   "execution_count": 63,
   "metadata": {},
   "outputs": [
    {
     "data": {
      "text/plain": [
       "<__main__.MCLS at 0x1bd19ed7790>"
      ]
     },
     "execution_count": 63,
     "metadata": {},
     "output_type": "execute_result"
    }
   ],
   "source": [
    "objec"
   ]
  },
  {
   "cell_type": "markdown",
   "metadata": {},
   "source": [
    "Т.к. мы создали новый класс. То как нам создавать экзепляры первого класса?\n",
    "\n",
    "Вспоминает, что нам возвращает type()"
   ]
  },
  {
   "cell_type": "code",
   "execution_count": 64,
   "metadata": {},
   "outputs": [
    {
     "data": {
      "text/plain": [
       "__main__.MCLS"
      ]
     },
     "execution_count": 64,
     "metadata": {},
     "output_type": "execute_result"
    }
   ],
   "source": [
    "#он нам вернул тип класса\n",
    "type(objec)"
   ]
  },
  {
   "cell_type": "code",
   "execution_count": 65,
   "metadata": {
    "colab": {
     "base_uri": "https://localhost:8080/"
    },
    "id": "_4f7_qoPJ_yG",
    "outputId": "a3359511-198b-4b0b-d0d3-3d2eccb56856"
   },
   "outputs": [
    {
     "name": "stdout",
     "output_type": "stream",
     "text": [
      "hello \n"
     ]
    }
   ],
   "source": [
    "# и вот таким образом мы сможем создать экземпляр старого класса\n",
    "objec3 = type(objec)()\n",
    "# смотрим на значение\n",
    "print(objec3.attr1)"
   ]
  },
  {
   "cell_type": "code",
   "execution_count": 66,
   "metadata": {},
   "outputs": [
    {
     "data": {
      "text/plain": [
       "['EmptyClass',\n",
       " 'In',\n",
       " 'M',\n",
       " 'MCLS',\n",
       " 'MyLittleClass',\n",
       " 'MyLittleClass2',\n",
       " 'MyLittleClass3',\n",
       " 'Out',\n",
       " '_',\n",
       " '_1',\n",
       " '_10',\n",
       " '_11',\n",
       " '_12',\n",
       " '_13',\n",
       " '_14',\n",
       " '_23',\n",
       " '_27',\n",
       " '_29',\n",
       " '_3',\n",
       " '_33',\n",
       " '_4',\n",
       " '_40',\n",
       " '_41',\n",
       " '_44',\n",
       " '_45',\n",
       " '_5',\n",
       " '_50',\n",
       " '_53',\n",
       " '_54',\n",
       " '_55',\n",
       " '_57',\n",
       " '_59',\n",
       " '_6',\n",
       " '_62',\n",
       " '_63',\n",
       " '_64',\n",
       " '_8',\n",
       " '_9',\n",
       " '__',\n",
       " '___',\n",
       " '__builtin__',\n",
       " '__builtins__',\n",
       " '__doc__',\n",
       " '__loader__',\n",
       " '__name__',\n",
       " '__package__',\n",
       " '__spec__',\n",
       " '_dh',\n",
       " '_i',\n",
       " '_i1',\n",
       " '_i10',\n",
       " '_i11',\n",
       " '_i12',\n",
       " '_i13',\n",
       " '_i14',\n",
       " '_i15',\n",
       " '_i16',\n",
       " '_i17',\n",
       " '_i18',\n",
       " '_i19',\n",
       " '_i2',\n",
       " '_i20',\n",
       " '_i21',\n",
       " '_i22',\n",
       " '_i23',\n",
       " '_i24',\n",
       " '_i25',\n",
       " '_i26',\n",
       " '_i27',\n",
       " '_i28',\n",
       " '_i29',\n",
       " '_i3',\n",
       " '_i30',\n",
       " '_i31',\n",
       " '_i32',\n",
       " '_i33',\n",
       " '_i34',\n",
       " '_i35',\n",
       " '_i36',\n",
       " '_i37',\n",
       " '_i38',\n",
       " '_i39',\n",
       " '_i4',\n",
       " '_i40',\n",
       " '_i41',\n",
       " '_i42',\n",
       " '_i43',\n",
       " '_i44',\n",
       " '_i45',\n",
       " '_i46',\n",
       " '_i47',\n",
       " '_i48',\n",
       " '_i49',\n",
       " '_i5',\n",
       " '_i50',\n",
       " '_i51',\n",
       " '_i52',\n",
       " '_i53',\n",
       " '_i54',\n",
       " '_i55',\n",
       " '_i56',\n",
       " '_i57',\n",
       " '_i58',\n",
       " '_i59',\n",
       " '_i6',\n",
       " '_i60',\n",
       " '_i61',\n",
       " '_i62',\n",
       " '_i63',\n",
       " '_i64',\n",
       " '_i65',\n",
       " '_i66',\n",
       " '_i7',\n",
       " '_i8',\n",
       " '_i9',\n",
       " '_ih',\n",
       " '_ii',\n",
       " '_iii',\n",
       " '_oh',\n",
       " 'attrs_printer',\n",
       " 'empty_obj',\n",
       " 'exit',\n",
       " 'func',\n",
       " 'func2',\n",
       " 'get_color_function',\n",
       " 'get_ipython',\n",
       " 'lst',\n",
       " 'obj',\n",
       " 'obj1',\n",
       " 'obj2',\n",
       " 'obj3',\n",
       " 'objec',\n",
       " 'objec2',\n",
       " 'objec3',\n",
       " 'quit',\n",
       " 'x']"
      ]
     },
     "execution_count": 66,
     "metadata": {},
     "output_type": "execute_result"
    }
   ],
   "source": [
    "dir()"
   ]
  },
  {
   "cell_type": "code",
   "execution_count": 67,
   "metadata": {
    "colab": {
     "base_uri": "https://localhost:8080/"
    },
    "id": "3ug54yoPKnLG",
    "outputId": "823b2a45-b361-49cf-e918-e1e928930c1a"
   },
   "outputs": [
    {
     "name": "stdout",
     "output_type": "stream",
     "text": [
      "hello objec\n"
     ]
    }
   ],
   "source": [
    "# динамическое создание атрибута\n",
    "# создаем еще раз класс MCLS\n",
    "class MCLS:\n",
    "    attr1 = 'hello'\n",
    "# создаем экземпляр    \n",
    "objec = MCLS()\n",
    "# создаем динамический атрибут 2\n",
    "MCLS.attr2 = 'objec'\n",
    "# смотрим на значения созданных атрибутов\n",
    "print(objec.attr1, objec.attr2)"
   ]
  },
  {
   "cell_type": "code",
   "execution_count": 68,
   "metadata": {},
   "outputs": [
    {
     "data": {
      "text/plain": [
       "<__main__.M at 0x1bd19f30850>"
      ]
     },
     "execution_count": 68,
     "metadata": {},
     "output_type": "execute_result"
    }
   ],
   "source": [
    "obj"
   ]
  },
  {
   "cell_type": "code",
   "execution_count": 69,
   "metadata": {
    "scrolled": true
   },
   "outputs": [
    {
     "name": "stdout",
     "output_type": "stream",
     "text": [
      "attr1\n",
      "attr2\n"
     ]
    }
   ],
   "source": [
    "# посмотрим на атрибуты экземпляра класса\n",
    "attrs_printer(objec)"
   ]
  },
  {
   "cell_type": "code",
   "execution_count": 70,
   "metadata": {
    "colab": {
     "base_uri": "https://localhost:8080/"
    },
    "id": "ZdI_fHiW8tvs",
    "outputId": "e5ec7b57-c78f-4c0a-8a42-8f43ce5b801c"
   },
   "outputs": [
    {
     "name": "stdout",
     "output_type": "stream",
     "text": [
      "__class__\n",
      "__delattr__\n",
      "__dir__\n",
      "__eq__\n",
      "__format__\n",
      "__ge__\n",
      "__getattribute__\n",
      "__gt__\n",
      "__hash__\n",
      "__init__\n",
      "__init_subclass__\n",
      "__le__\n",
      "__lt__\n",
      "__ne__\n",
      "__new__\n",
      "__reduce__\n",
      "__reduce_ex__\n",
      "__repr__\n",
      "__setattr__\n",
      "__sizeof__\n",
      "__str__\n",
      "__subclasshook__\n",
      "m1\n",
      "m2\n"
     ]
    }
   ],
   "source": [
    "# оставим только методы\n",
    "print(*[name for name in dir(obj) if callable(getattr(obj, name))], sep='\\n')"
   ]
  },
  {
   "cell_type": "code",
   "execution_count": 71,
   "metadata": {
    "colab": {
     "base_uri": "https://localhost:8080/"
    },
    "id": "eXlbftPBqt-r",
    "outputId": "7de1bf4b-6c8b-429f-e3eb-e5e98f956193"
   },
   "outputs": [
    {
     "data": {
      "text/plain": [
       "(list, dict)"
      ]
     },
     "execution_count": 71,
     "metadata": {},
     "output_type": "execute_result"
    }
   ],
   "source": [
    "type(dir()), type(vars())"
   ]
  },
  {
   "cell_type": "code",
   "execution_count": 73,
   "metadata": {
    "colab": {
     "base_uri": "https://localhost:8080/"
    },
    "id": "A4lwu_6Zq9l5",
    "outputId": "87776ef0-d715-41fd-96af-741096ec00a3"
   },
   "outputs": [
    {
     "data": {
      "text/plain": [
       "True"
      ]
     },
     "execution_count": 73,
     "metadata": {},
     "output_type": "execute_result"
    }
   ],
   "source": [
    "vars() is locals()"
   ]
  },
  {
   "cell_type": "code",
   "execution_count": 74,
   "metadata": {},
   "outputs": [
    {
     "data": {
      "text/plain": [
       "mappingproxy({'__module__': '__main__',\n",
       "              'attr1': 'hello',\n",
       "              '__dict__': <attribute '__dict__' of 'MCLS' objects>,\n",
       "              '__weakref__': <attribute '__weakref__' of 'MCLS' objects>,\n",
       "              '__doc__': None,\n",
       "              'attr2': 'objec'})"
      ]
     },
     "execution_count": 74,
     "metadata": {},
     "output_type": "execute_result"
    }
   ],
   "source": [
    "# vars возвращает маппинг имен связанных с объектом\n",
    "# и объектов, с которыми связаны эти имена\n",
    "vars(MCLS)"
   ]
  },
  {
   "cell_type": "code",
   "execution_count": 75,
   "metadata": {
    "colab": {
     "base_uri": "https://localhost:8080/"
    },
    "id": "5Vx7Lsxn8tvt",
    "outputId": "d72e7de2-060e-4a88-b299-0df9fbc8f66c"
   },
   "outputs": [
    {
     "name": "stdout",
     "output_type": "stream",
     "text": [
      "[]\n",
      "[]\n",
      "['obj']\n",
      "['ClassWithNothing', 'EmptyClass', 'In', 'M', 'MCLS', 'MyLittleClass', 'MyLittleClass2', 'MyLittleClass3', 'Out', '_', '_1', '_10', '_11', '_12', '_13', '_14', '_23', '_27', '_29', '_3', '_33', '_4', '_40', '_41', '_44', '_45', '_5', '_50', '_53', '_54', '_55', '_57', '_59', '_6', '_62', '_63', '_64', '_66', '_68', '_71', '_72', '_73', '_74', '_8', '_9', '__', '___', '__builtin__', '__builtins__', '__doc__', '__loader__', '__name__', '__package__', '__spec__', '_dh', '_i', '_i1', '_i10', '_i11', '_i12', '_i13', '_i14', '_i15', '_i16', '_i17', '_i18', '_i19', '_i2', '_i20', '_i21', '_i22', '_i23', '_i24', '_i25', '_i26', '_i27', '_i28', '_i29', '_i3', '_i30', '_i31', '_i32', '_i33', '_i34', '_i35', '_i36', '_i37', '_i38', '_i39', '_i4', '_i40', '_i41', '_i42', '_i43', '_i44', '_i45', '_i46', '_i47', '_i48', '_i49', '_i5', '_i50', '_i51', '_i52', '_i53', '_i54', '_i55', '_i56', '_i57', '_i58', '_i59', '_i6', '_i60', '_i61', '_i62', '_i63', '_i64', '_i65', '_i66', '_i67', '_i68', '_i69', '_i7', '_i70', '_i71', '_i72', '_i73', '_i74', '_i75', '_i8', '_i9', '_ih', '_ii', '_iii', '_oh', 'attrs_printer', 'empty_obj', 'exit', 'func', 'func2', 'get_color_function', 'get_ipython', 'lst', 'no_object', 'obj', 'obj1', 'obj2', 'obj3', 'objec', 'objec2', 'objec3', 'print_custom_attrs', 'quit', 'x']\n"
     ]
    }
   ],
   "source": [
    "# создаем класс подарка для Вильяма Мердерфейса\n",
    "class ClassWithNothing:\n",
    "    pass\n",
    "#заводим объект данного класса\n",
    "no_object = ClassWithNothing()\n",
    "# создаем функцию, которая будет печатать кастомные атрибуты, если они есть\n",
    "# и не будет печатать, если их нет\n",
    "def print_custom_attrs(obj=None):\n",
    "    if obj is None:\n",
    "        attrs = dir()  # в локальной области видимости\n",
    "    else:\n",
    "        attrs = dir(obj)\n",
    "    print([name for name in attrs if not name.startswith('_')])\n",
    "    \n",
    "\n",
    "print_custom_attrs(no_object)  # с экземпляром\n",
    "print_custom_attrs(ClassWithNothing)  # с классом\n",
    "print_custom_attrs()  # без аргументов\n",
    "print(dir())"
   ]
  },
  {
   "cell_type": "code",
   "execution_count": 80,
   "metadata": {
    "colab": {
     "base_uri": "https://localhost:8080/"
    },
    "id": "ZkvfvfIw8tvu",
    "outputId": "c6365d09-f4bc-4e27-c2d6-e424f36fc3b3"
   },
   "outputs": [
    {
     "name": "stdout",
     "output_type": "stream",
     "text": [
      "['my_attribute', 'my_instance_attribute']\n",
      "['my_attribute']\n"
     ]
    }
   ],
   "source": [
    "# создаем атрибут у класса\n",
    "ClassWithNothing.my_attribute = 'my value'\n",
    "# создаем атрибут экземпляра класса\n",
    "no_object.my_instance_attribute = \"my value 2\"\n",
    "\n",
    "print_custom_attrs(no_object)\n",
    "print_custom_attrs(ClassWithNothing)  # класс не смотрит в список атрибутов своих экземпляров"
   ]
  },
  {
   "cell_type": "markdown",
   "metadata": {},
   "source": [
    "### Просто пример класса"
   ]
  },
  {
   "cell_type": "code",
   "execution_count": 81,
   "metadata": {},
   "outputs": [
    {
     "data": {
      "text/plain": [
       "'green'"
      ]
     },
     "execution_count": 81,
     "metadata": {},
     "output_type": "execute_result"
    }
   ],
   "source": [
    "# создаем класс\n",
    "class Figure:\n",
    "    # создаем метод __init__\n",
    "    # Это метод ИНИЦИАЛИЗАЦИИ, для него имя зарезервировано\n",
    "    # запускается всегда в момент создания экземпляра класса\n",
    "    # и каждому новому экземпляру класса сразу присваиваются атрибуты perimetr и color\n",
    "    # Но если мы посмотрим есть ли атрибуты perimetr и color у КЛАССА, то получим ошибку\n",
    "    # Т.к. эти атрибуты создаются только в ЭКЗЕМПЛЯРАХ класса\n",
    "    def __init__(self, perimetr=None, color=None):\n",
    "        #self - это ссылка на экземпляр класса\n",
    "        self.perimetr = perimetr\n",
    "        self.color = color\n",
    "    # подсчет периметра фигуры  \n",
    "    def calculate_perimetr(self):\n",
    "        self.length_perimetr = sum(self.perimetr)\n",
    "    # установка цвета фигуры\n",
    "    def set_color(self, new_color):\n",
    "        self.color = new_color\n",
    "    # вывод установленного цвета фигуры     \n",
    "    def get_color(self):\n",
    "        return self.color\n",
    "    # расчет длины периметра\n",
    "    def get_length(self):\n",
    "        return self.length_perimetr\n",
    "        \n",
    "        \n",
    "triangle1 = Figure([3, 4, 5], 'green')  # triangle1.perimetr = [3,4,5], triangle1.color = 'green'\n",
    "triangle2 = Figure([7, 5, 8], 'black')\n",
    "square = Figure([5, 5, 5, 5], 'red')\n",
    "\n",
    "triangle1.color"
   ]
  },
  {
   "cell_type": "code",
   "execution_count": 82,
   "metadata": {},
   "outputs": [
    {
     "data": {
      "text/plain": [
       "'blue'"
      ]
     },
     "execution_count": 82,
     "metadata": {},
     "output_type": "execute_result"
    }
   ],
   "source": [
    "# вызываем метод установки цвета\n",
    "triangle1.set_color('blue')\n",
    "triangle1.color"
   ]
  },
  {
   "cell_type": "code",
   "execution_count": 83,
   "metadata": {},
   "outputs": [],
   "source": [
    "# посчитаем периметр\n",
    "square.calculate_perimetr()"
   ]
  },
  {
   "cell_type": "code",
   "execution_count": 84,
   "metadata": {},
   "outputs": [
    {
     "data": {
      "text/plain": [
       "20"
      ]
     },
     "execution_count": 84,
     "metadata": {},
     "output_type": "execute_result"
    }
   ],
   "source": [
    "# получаем длину\n",
    "square.get_length()"
   ]
  },
  {
   "cell_type": "markdown",
   "metadata": {
    "id": "svmbSvN18tvy"
   },
   "source": [
    "## Приватность"
   ]
  },
  {
   "cell_type": "markdown",
   "metadata": {},
   "source": [
    "[9.6 Private Variables](https://docs.python.org/3/tutorial/classes.html#private-variables)"
   ]
  },
  {
   "cell_type": "markdown",
   "metadata": {},
   "source": [
    "немного про `_`"
   ]
  },
  {
   "cell_type": "code",
   "execution_count": 85,
   "metadata": {},
   "outputs": [
    {
     "name": "stdout",
     "output_type": "stream",
     "text": [
      "hello\n",
      "hello\n",
      "hello\n"
     ]
    },
    {
     "data": {
      "text/plain": [
       "('hello', 'world')"
      ]
     },
     "execution_count": 85,
     "metadata": {},
     "output_type": "execute_result"
    }
   ],
   "source": [
    "# в конце переменной, чтобы изменить уже существующее имя max_\n",
    "# для обозначения несущественных переменных (когда имя переменной нужно, но сам объект не имеет значения)\n",
    "\n",
    "for _ in range(3):\n",
    "    print('hello')\n",
    "    \n",
    "a, _, _, d = 'hello my beautiful world'.split()\n",
    "a, d"
   ]
  },
  {
   "cell_type": "code",
   "execution_count": 86,
   "metadata": {
    "id": "_iuASScu8tvy"
   },
   "outputs": [],
   "source": [
    "class VeryPrivate:\n",
    "    # одно нижнее подчеркивание в начале применяется для внутренних объектов, например какого то класса\n",
    "    # пользователь ими пользоваться не должен, но они нужны, чтобы работал Класс\n",
    "    _secret = 1\n",
    "    # \n",
    "    __very_secret = 2"
   ]
  },
  {
   "cell_type": "code",
   "execution_count": 87,
   "metadata": {
    "colab": {
     "base_uri": "https://localhost:8080/",
     "height": 222
    },
    "id": "mRYfzczI8tvy",
    "outputId": "1fd3ef31-a9d7-43bc-9ae4-e184124c2a87"
   },
   "outputs": [
    {
     "name": "stdout",
     "output_type": "stream",
     "text": [
      "1\n"
     ]
    },
    {
     "ename": "AttributeError",
     "evalue": "'VeryPrivate' object has no attribute '__very_secret'",
     "output_type": "error",
     "traceback": [
      "\u001b[1;31m---------------------------------------------------------------------------\u001b[0m",
      "\u001b[1;31mAttributeError\u001b[0m                            Traceback (most recent call last)",
      "Input \u001b[1;32mIn [87]\u001b[0m, in \u001b[0;36m<cell line: 5>\u001b[1;34m()\u001b[0m\n\u001b[0;32m      3\u001b[0m \u001b[38;5;66;03m# напечатаем атрибуты класса\u001b[39;00m\n\u001b[0;32m      4\u001b[0m \u001b[38;5;28mprint\u001b[39m(obj\u001b[38;5;241m.\u001b[39m_secret)\n\u001b[1;32m----> 5\u001b[0m \u001b[38;5;28mprint\u001b[39m(\u001b[43mobj\u001b[49m\u001b[38;5;241;43m.\u001b[39;49m\u001b[43m__very_secret\u001b[49m)\n",
      "\u001b[1;31mAttributeError\u001b[0m: 'VeryPrivate' object has no attribute '__very_secret'"
     ]
    }
   ],
   "source": [
    "# создаем экземпляр\n",
    "obj = VeryPrivate()\n",
    "# напечатаем атрибуты класса\n",
    "print(obj._secret)\n",
    "print(obj.__very_secret)"
   ]
  },
  {
   "cell_type": "code",
   "execution_count": 88,
   "metadata": {},
   "outputs": [
    {
     "data": {
      "text/plain": [
       "['_VeryPrivate__very_secret',\n",
       " '__class__',\n",
       " '__delattr__',\n",
       " '__dict__',\n",
       " '__dir__',\n",
       " '__doc__',\n",
       " '__eq__',\n",
       " '__format__',\n",
       " '__ge__',\n",
       " '__getattribute__',\n",
       " '__gt__',\n",
       " '__hash__',\n",
       " '__init__',\n",
       " '__init_subclass__',\n",
       " '__le__',\n",
       " '__lt__',\n",
       " '__module__',\n",
       " '__ne__',\n",
       " '__new__',\n",
       " '__reduce__',\n",
       " '__reduce_ex__',\n",
       " '__repr__',\n",
       " '__setattr__',\n",
       " '__sizeof__',\n",
       " '__str__',\n",
       " '__subclasshook__',\n",
       " '__weakref__',\n",
       " '_secret']"
      ]
     },
     "execution_count": 88,
     "metadata": {},
     "output_type": "execute_result"
    }
   ],
   "source": [
    "# обратим внимание на то, что атрибута с именем __very_secret нет\n",
    "dir(obj)"
   ]
  },
  {
   "cell_type": "code",
   "execution_count": 89,
   "metadata": {
    "colab": {
     "base_uri": "https://localhost:8080/"
    },
    "id": "8CAL_QRy8tvy",
    "outputId": "25e35522-f43f-497b-cdec-522fa62589b6"
   },
   "outputs": [
    {
     "data": {
      "text/plain": [
       "2"
      ]
     },
     "execution_count": 89,
     "metadata": {},
     "output_type": "execute_result"
    }
   ],
   "source": [
    "# возьмем имя _VeryPrivate__very_secret и посмотрим на него с нашим экземпляром\n",
    "obj._VeryPrivate__very_secret  # а так вообще никогда не делайте, особенно с чужими классами"
   ]
  },
  {
   "cell_type": "code",
   "execution_count": 90,
   "metadata": {
    "colab": {
     "base_uri": "https://localhost:8080/",
     "height": 35
    },
    "id": "pXLwM5g88tvz",
    "outputId": "8c8b3b40-f100-481e-d3eb-55730185e298"
   },
   "outputs": [
    {
     "data": {
      "text/plain": [
       "'new secret'"
      ]
     },
     "execution_count": 90,
     "metadata": {},
     "output_type": "execute_result"
    }
   ],
   "source": [
    "# вот таким образом можно кому то подгадить код\n",
    "obj._VeryPrivate__very_secret = 'new secret'\n",
    "obj._VeryPrivate__very_secret"
   ]
  },
  {
   "cell_type": "code",
   "execution_count": 92,
   "metadata": {
    "colab": {
     "base_uri": "https://localhost:8080/",
     "height": 169
    },
    "id": "k2oC_WE4PbjW",
    "outputId": "2c2fd93c-9765-4665-8c95-230228f020e9"
   },
   "outputs": [
    {
     "ename": "AttributeError",
     "evalue": "type object 'VeryPrivate' has no attribute '__very_secret'",
     "output_type": "error",
     "traceback": [
      "\u001b[1;31m---------------------------------------------------------------------------\u001b[0m",
      "\u001b[1;31mAttributeError\u001b[0m                            Traceback (most recent call last)",
      "Input \u001b[1;32mIn [92]\u001b[0m, in \u001b[0;36m<cell line: 2>\u001b[1;34m()\u001b[0m\n\u001b[0;32m      1\u001b[0m \u001b[38;5;66;03m# к атрибуту класса мы так же не сможем обратиться таким способом\u001b[39;00m\n\u001b[1;32m----> 2\u001b[0m \u001b[43mVeryPrivate\u001b[49m\u001b[38;5;241;43m.\u001b[39;49m\u001b[43m__very_secret\u001b[49m\n",
      "\u001b[1;31mAttributeError\u001b[0m: type object 'VeryPrivate' has no attribute '__very_secret'"
     ]
    }
   ],
   "source": [
    "# к атрибуту класса мы так же не сможем обратиться таким способом\n",
    "VeryPrivate.__very_secret"
   ]
  },
  {
   "cell_type": "code",
   "execution_count": 93,
   "metadata": {},
   "outputs": [
    {
     "data": {
      "text/plain": [
       "2"
      ]
     },
     "execution_count": 93,
     "metadata": {},
     "output_type": "execute_result"
    }
   ],
   "source": [
    "# но вот так это сделать можно\n",
    "VeryPrivate._VeryPrivate__very_secret"
   ]
  },
  {
   "cell_type": "code",
   "execution_count": 94,
   "metadata": {
    "colab": {
     "base_uri": "https://localhost:8080/"
    },
    "id": "bgq_NPLutZNG",
    "outputId": "9c038584-cc07-4478-9587-d472b92443db"
   },
   "outputs": [
    {
     "data": {
      "text/plain": [
       "2"
      ]
     },
     "execution_count": 94,
     "metadata": {},
     "output_type": "execute_result"
    }
   ],
   "source": [
    "# обратим внимание, что там все еще лежит 2, а не 'new secret'\n",
    "obj2 = VeryPrivate()\n",
    "obj2._VeryPrivate__very_secret"
   ]
  },
  {
   "cell_type": "markdown",
   "metadata": {
    "id": "m3XSG-0r8tvz"
   },
   "source": [
    "# Генераторы и итераторы: повторение с новой точки зрения"
   ]
  },
  {
   "cell_type": "markdown",
   "metadata": {
    "id": "zvP4-LB68tvz"
   },
   "source": [
    "В теории всё выглядит как-то так:\n",
    "\n",
    "1. Итератор -- это объект, у которого есть методы `__iter__` и `__next__`.\n",
    "\n",
    "2. Генератор -- это результат работы функции, которая... генерирует. Например, с помощью `yield`. Это упрощает создание итераторов.\n",
    "\n",
    "3. Каждый генератор является итератором (неявно реализует интерфейс итератора). Обратное, конечно, неверно. "
   ]
  },
  {
   "cell_type": "code",
   "execution_count": 95,
   "metadata": {
    "colab": {
     "base_uri": "https://localhost:8080/"
    },
    "id": "UPIvHlic0Cw5",
    "outputId": "61d24e5f-1f72-484d-b6f2-5ab5c5252084"
   },
   "outputs": [],
   "source": [
    "# создаем класс\n",
    "class MyClass:\n",
    "    # создаем методы класса\n",
    "    def __init__(self, a, b, c):\n",
    "        self.attr1 = a\n",
    "        self.attr2 = b\n",
    "        self.attr3 = c"
   ]
  },
  {
   "cell_type": "code",
   "execution_count": 97,
   "metadata": {},
   "outputs": [
    {
     "data": {
      "text/plain": [
       "(2, True)"
      ]
     },
     "execution_count": 97,
     "metadata": {},
     "output_type": "execute_result"
    }
   ],
   "source": [
    "# создаем экземпляры класса\n",
    "instance1 = MyClass(1, 2, 3)\n",
    "instance2 = MyClass('hello', True, None)\n",
    "instance1.attr2, instance2.attr2"
   ]
  },
  {
   "cell_type": "code",
   "execution_count": 98,
   "metadata": {},
   "outputs": [
    {
     "data": {
      "text/plain": [
       "['ArithmeticError',\n",
       " 'AssertionError',\n",
       " 'AttributeError',\n",
       " 'BaseException',\n",
       " 'BlockingIOError',\n",
       " 'BrokenPipeError',\n",
       " 'BufferError',\n",
       " 'BytesWarning',\n",
       " 'ChildProcessError',\n",
       " 'ConnectionAbortedError',\n",
       " 'ConnectionError',\n",
       " 'ConnectionRefusedError',\n",
       " 'ConnectionResetError',\n",
       " 'DeprecationWarning',\n",
       " 'EOFError',\n",
       " 'Ellipsis',\n",
       " 'EnvironmentError',\n",
       " 'Exception',\n",
       " 'False',\n",
       " 'FileExistsError',\n",
       " 'FileNotFoundError',\n",
       " 'FloatingPointError',\n",
       " 'FutureWarning',\n",
       " 'GeneratorExit',\n",
       " 'IOError',\n",
       " 'ImportError',\n",
       " 'ImportWarning',\n",
       " 'IndentationError',\n",
       " 'IndexError',\n",
       " 'InterruptedError',\n",
       " 'IsADirectoryError',\n",
       " 'KeyError',\n",
       " 'KeyboardInterrupt',\n",
       " 'LookupError',\n",
       " 'MemoryError',\n",
       " 'ModuleNotFoundError',\n",
       " 'NameError',\n",
       " 'None',\n",
       " 'NotADirectoryError',\n",
       " 'NotImplemented',\n",
       " 'NotImplementedError',\n",
       " 'OSError',\n",
       " 'OverflowError',\n",
       " 'PendingDeprecationWarning',\n",
       " 'PermissionError',\n",
       " 'ProcessLookupError',\n",
       " 'RecursionError',\n",
       " 'ReferenceError',\n",
       " 'ResourceWarning',\n",
       " 'RuntimeError',\n",
       " 'RuntimeWarning',\n",
       " 'StopAsyncIteration',\n",
       " 'StopIteration',\n",
       " 'SyntaxError',\n",
       " 'SyntaxWarning',\n",
       " 'SystemError',\n",
       " 'SystemExit',\n",
       " 'TabError',\n",
       " 'TimeoutError',\n",
       " 'True',\n",
       " 'TypeError',\n",
       " 'UnboundLocalError',\n",
       " 'UnicodeDecodeError',\n",
       " 'UnicodeEncodeError',\n",
       " 'UnicodeError',\n",
       " 'UnicodeTranslateError',\n",
       " 'UnicodeWarning',\n",
       " 'UserWarning',\n",
       " 'ValueError',\n",
       " 'Warning',\n",
       " 'WindowsError',\n",
       " 'ZeroDivisionError',\n",
       " '__IPYTHON__',\n",
       " '__build_class__',\n",
       " '__debug__',\n",
       " '__doc__',\n",
       " '__import__',\n",
       " '__loader__',\n",
       " '__name__',\n",
       " '__package__',\n",
       " '__spec__',\n",
       " 'abs',\n",
       " 'all',\n",
       " 'any',\n",
       " 'ascii',\n",
       " 'bin',\n",
       " 'bool',\n",
       " 'breakpoint',\n",
       " 'bytearray',\n",
       " 'bytes',\n",
       " 'callable',\n",
       " 'chr',\n",
       " 'classmethod',\n",
       " 'compile',\n",
       " 'complex',\n",
       " 'copyright',\n",
       " 'credits',\n",
       " 'delattr',\n",
       " 'dict',\n",
       " 'dir',\n",
       " 'display',\n",
       " 'divmod',\n",
       " 'enumerate',\n",
       " 'eval',\n",
       " 'exec',\n",
       " 'execfile',\n",
       " 'filter',\n",
       " 'float',\n",
       " 'format',\n",
       " 'frozenset',\n",
       " 'get_ipython',\n",
       " 'getattr',\n",
       " 'globals',\n",
       " 'hasattr',\n",
       " 'hash',\n",
       " 'help',\n",
       " 'hex',\n",
       " 'id',\n",
       " 'input',\n",
       " 'int',\n",
       " 'isinstance',\n",
       " 'issubclass',\n",
       " 'iter',\n",
       " 'len',\n",
       " 'license',\n",
       " 'list',\n",
       " 'locals',\n",
       " 'map',\n",
       " 'max',\n",
       " 'memoryview',\n",
       " 'min',\n",
       " 'next',\n",
       " 'object',\n",
       " 'oct',\n",
       " 'open',\n",
       " 'ord',\n",
       " 'pow',\n",
       " 'print',\n",
       " 'property',\n",
       " 'range',\n",
       " 'repr',\n",
       " 'reversed',\n",
       " 'round',\n",
       " 'runfile',\n",
       " 'set',\n",
       " 'setattr',\n",
       " 'slice',\n",
       " 'sorted',\n",
       " 'staticmethod',\n",
       " 'str',\n",
       " 'sum',\n",
       " 'super',\n",
       " 'tuple',\n",
       " 'type',\n",
       " 'vars',\n",
       " 'zip']"
      ]
     },
     "execution_count": 98,
     "metadata": {},
     "output_type": "execute_result"
    }
   ],
   "source": [
    "import builtins\n",
    "dir(builtins)"
   ]
  },
  {
   "cell_type": "code",
   "execution_count": 99,
   "metadata": {},
   "outputs": [
    {
     "ename": "ArithmeticError",
     "evalue": "",
     "output_type": "error",
     "traceback": [
      "\u001b[1;31m---------------------------------------------------------------------------\u001b[0m",
      "\u001b[1;31mArithmeticError\u001b[0m                           Traceback (most recent call last)",
      "Input \u001b[1;32mIn [99]\u001b[0m, in \u001b[0;36m<cell line: 2>\u001b[1;34m()\u001b[0m\n\u001b[0;32m      1\u001b[0m \u001b[38;5;66;03m# данный оператор выбрасывает какое то исключение (Ошибку)\u001b[39;00m\n\u001b[1;32m----> 2\u001b[0m \u001b[38;5;28;01mraise\u001b[39;00m \u001b[38;5;167;01mArithmeticError\u001b[39;00m()\n",
      "\u001b[1;31mArithmeticError\u001b[0m: "
     ]
    }
   ],
   "source": [
    "# данный оператор выбрасывает какое то исключение (Ошибку)\n",
    "raise ArithmeticError()"
   ]
  },
  {
   "cell_type": "code",
   "execution_count": 100,
   "metadata": {
    "id": "9Vm5Y3Vb8tvz"
   },
   "outputs": [],
   "source": [
    "# создадим собственный итератор\n",
    "class My_range_iterator:\n",
    "    # создаем метод инициализации __init__\n",
    "    def __init__(self, n_max):\n",
    "        self.i = 0  # создание атрибута с именем i и начальным значением == 0\n",
    "        self.n_max = n_max  # создание атрибута с n_max\n",
    "    # реализация итератора\n",
    "    def __iter__(self):\n",
    "        return self  # возвращает ссылку на самого себя, т.к. является итератором\n",
    "    # реализация итерации\n",
    "    \n",
    "    def __next__(self):\n",
    "        if self.i <= self.n_max:\n",
    "            i = self.i  # запоминает текущее значение i\n",
    "            self.i += 1  # увеличивает self.i\n",
    "            return i  # возвращает тот i, который запомнил\n",
    "        # в противном случае возвращаем исключение (ошибку)\n",
    "        # то есть, когда мы дошли до конца итератора\n",
    "        else:\n",
    "            # специальное исключение, которое означает \"элементы кончились!\"\n",
    "            # впрочем, может никогда и не бросаться\n",
    "            raise StopIteration()"
   ]
  },
  {
   "cell_type": "code",
   "execution_count": 102,
   "metadata": {
    "colab": {
     "base_uri": "https://localhost:8080/",
     "height": 365
    },
    "id": "QH2bSPmQ8tv0",
    "outputId": "fabc651c-24b8-4320-94b3-436e45bdd301"
   },
   "outputs": [
    {
     "data": {
      "text/plain": [
       "(0, 3)"
      ]
     },
     "execution_count": 102,
     "metadata": {},
     "output_type": "execute_result"
    }
   ],
   "source": [
    "# создаем экземпляр класса\n",
    "iterator_obj = My_range_iterator(3)\n",
    "# смотрим на исходные значения атрибутов\n",
    "iterator_obj.i, iterator_obj.n_max"
   ]
  },
  {
   "cell_type": "code",
   "execution_count": 103,
   "metadata": {},
   "outputs": [
    {
     "name": "stdout",
     "output_type": "stream",
     "text": [
      "0\n"
     ]
    }
   ],
   "source": [
    "# первая итерация\n",
    "print(iterator_obj.__next__())"
   ]
  },
  {
   "cell_type": "code",
   "execution_count": 104,
   "metadata": {},
   "outputs": [
    {
     "name": "stdout",
     "output_type": "stream",
     "text": [
      "1\n"
     ]
    }
   ],
   "source": [
    "# вторая итерация\n",
    "print(iterator_obj.__next__())"
   ]
  },
  {
   "cell_type": "code",
   "execution_count": 105,
   "metadata": {},
   "outputs": [
    {
     "name": "stdout",
     "output_type": "stream",
     "text": [
      "2\n"
     ]
    }
   ],
   "source": [
    "# третья итерация\n",
    "print(iterator_obj.__next__())"
   ]
  },
  {
   "cell_type": "code",
   "execution_count": 107,
   "metadata": {},
   "outputs": [
    {
     "data": {
      "text/plain": [
       "(3, 3)"
      ]
     },
     "execution_count": 107,
     "metadata": {},
     "output_type": "execute_result"
    }
   ],
   "source": [
    "# смотрим на значения атрибутов после итераций\n",
    "iterator_obj.i, iterator_obj.n_max"
   ]
  },
  {
   "cell_type": "code",
   "execution_count": 108,
   "metadata": {},
   "outputs": [
    {
     "name": "stdout",
     "output_type": "stream",
     "text": [
      "3\n"
     ]
    }
   ],
   "source": [
    "# итерируемся дальше\n",
    "print(iterator_obj.__next__())"
   ]
  },
  {
   "cell_type": "code",
   "execution_count": 109,
   "metadata": {
    "colab": {
     "base_uri": "https://localhost:8080/",
     "height": 365
    },
    "id": "QH2bSPmQ8tv0",
    "outputId": "fabc651c-24b8-4320-94b3-436e45bdd301"
   },
   "outputs": [
    {
     "ename": "StopIteration",
     "evalue": "",
     "output_type": "error",
     "traceback": [
      "\u001b[1;31m---------------------------------------------------------------------------\u001b[0m",
      "\u001b[1;31mStopIteration\u001b[0m                             Traceback (most recent call last)",
      "Input \u001b[1;32mIn [109]\u001b[0m, in \u001b[0;36m<cell line: 2>\u001b[1;34m()\u001b[0m\n\u001b[0;32m      1\u001b[0m \u001b[38;5;66;03m# наши итератор кончился, получаем исключение\u001b[39;00m\n\u001b[1;32m----> 2\u001b[0m \u001b[38;5;28mprint\u001b[39m(\u001b[43miterator_obj\u001b[49m\u001b[38;5;241;43m.\u001b[39;49m\u001b[38;5;21;43m__next__\u001b[39;49m\u001b[43m(\u001b[49m\u001b[43m)\u001b[49m)\n",
      "Input \u001b[1;32mIn [100]\u001b[0m, in \u001b[0;36mMy_range_iterator.__next__\u001b[1;34m(self)\u001b[0m\n\u001b[0;32m     16\u001b[0m     \u001b[38;5;28;01mreturn\u001b[39;00m i  \u001b[38;5;66;03m# возвращает тот i, который запомнил\u001b[39;00m\n\u001b[0;32m     17\u001b[0m \u001b[38;5;66;03m# в противном случае возвращаем исключение (ошибку)\u001b[39;00m\n\u001b[0;32m     18\u001b[0m \u001b[38;5;66;03m# то есть, когда мы дошли до конца итератора\u001b[39;00m\n\u001b[0;32m     19\u001b[0m \u001b[38;5;28;01melse\u001b[39;00m:\n\u001b[0;32m     20\u001b[0m     \u001b[38;5;66;03m# специальное исключение, которое означает \"элементы кончились!\"\u001b[39;00m\n\u001b[0;32m     21\u001b[0m     \u001b[38;5;66;03m# впрочем, может никогда и не бросаться\u001b[39;00m\n\u001b[1;32m---> 22\u001b[0m     \u001b[38;5;28;01mraise\u001b[39;00m \u001b[38;5;167;01mStopIteration\u001b[39;00m()\n",
      "\u001b[1;31mStopIteration\u001b[0m: "
     ]
    }
   ],
   "source": [
    "# наши итератор кончился, получаем исключение\n",
    "print(iterator_obj.__next__())"
   ]
  },
  {
   "cell_type": "markdown",
   "metadata": {},
   "source": [
    "Но всегда ловить исключения конечно не нужно"
   ]
  },
  {
   "cell_type": "code",
   "execution_count": 119,
   "metadata": {
    "colab": {
     "base_uri": "https://localhost:8080/"
    },
    "id": "88Aoch0O8tv0",
    "outputId": "9daf6498-c34d-4efd-c83d-05e3bcefe5d9"
   },
   "outputs": [
    {
     "name": "stdout",
     "output_type": "stream",
     "text": [
      "<class '__main__.My_range_iterator'>\n",
      "0\n",
      "1\n",
      "2\n",
      "3\n"
     ]
    }
   ],
   "source": [
    "# создаем объект класса\n",
    "iterator_obj = My_range_iterator(3)\n",
    "# напечатаем его тип на всякий случай\n",
    "print(type(iterator_obj))\n",
    "# цикл for сам отлавливает исключения и выходит из цикла\n",
    "for x in iterator_obj:\n",
    "    print(x)"
   ]
  },
  {
   "cell_type": "code",
   "execution_count": 120,
   "metadata": {
    "colab": {
     "base_uri": "https://localhost:8080/"
    },
    "id": "L90AMy9XwA0a",
    "outputId": "1d6b01c9-f4a4-49ec-d643-eae4ed976b5c"
   },
   "outputs": [
    {
     "name": "stdout",
     "output_type": "stream",
     "text": [
      "0\n",
      "1\n",
      "2\n",
      "3\n"
     ]
    }
   ],
   "source": [
    "ran = range(4)  # тут ran не итератор\n",
    "\n",
    "for x in ran:  # итератор вызывается вот здесь, здесь неявно используется __iter__\n",
    "    print(x)"
   ]
  },
  {
   "cell_type": "code",
   "execution_count": 121,
   "metadata": {},
   "outputs": [
    {
     "data": {
      "text/plain": [
       "(0, 4, 1)"
      ]
     },
     "execution_count": 121,
     "metadata": {},
     "output_type": "execute_result"
    }
   ],
   "source": [
    "ran.start, ran.stop, ran.step"
   ]
  },
  {
   "cell_type": "code",
   "execution_count": 127,
   "metadata": {
    "colab": {
     "base_uri": "https://localhost:8080/"
    },
    "id": "G_ZhkI2x8tv0",
    "outputId": "5cc666b6-65f1-44c0-caa4-db148fcf02b6"
   },
   "outputs": [
    {
     "name": "stdout",
     "output_type": "stream",
     "text": [
      "0\n",
      "1\n",
      "2\n",
      "3\n"
     ]
    }
   ],
   "source": [
    "ran = range(4)  # тут ran не итератор\n",
    "\n",
    "for x in ran:  # итератор вызывается вот здесь, здесь неявно используется __iter__\n",
    "    print(x)"
   ]
  },
  {
   "cell_type": "code",
   "execution_count": 128,
   "metadata": {
    "colab": {
     "base_uri": "https://localhost:8080/"
    },
    "id": "RNnwoAVD8tv1",
    "outputId": "0a614ce8-9491-4530-e802-681e076670e5"
   },
   "outputs": [
    {
     "name": "stdout",
     "output_type": "stream",
     "text": [
      "<class 'function'>\n"
     ]
    },
    {
     "data": {
      "text/plain": [
       "function"
      ]
     },
     "execution_count": 128,
     "metadata": {},
     "output_type": "execute_result"
    }
   ],
   "source": [
    "# cоздание функции итератора с помощью другого синтаксиса\n",
    "def my_range_generator(n_max):\n",
    "    i = 0\n",
    "    while i < n_max:\n",
    "        yield i\n",
    "        i += 1\n",
    "\n",
    "print(type(my_range_generator))\n",
    "type(my_range_generator)"
   ]
  },
  {
   "cell_type": "code",
   "execution_count": 129,
   "metadata": {
    "colab": {
     "base_uri": "https://localhost:8080/"
    },
    "id": "GISrBDY88tv1",
    "outputId": "dd5bdacb-87ce-452c-d4c0-1c36e4078dee"
   },
   "outputs": [
    {
     "name": "stdout",
     "output_type": "stream",
     "text": [
      "<class 'generator'>\n",
      "<method-wrapper '__iter__' of generator object at 0x000001BD1A6EA0B0>\n",
      "<generator object my_range_generator at 0x000001BD1A6EA0B0>\n",
      "<method-wrapper '__next__' of generator object at 0x000001BD1A6EA0B0>\n"
     ]
    }
   ],
   "source": [
    "# создание генератора\n",
    "generator_obj = my_range_generator(3)\n",
    "print(type(generator_obj))\n",
    "# мы не определяли магических функций итератора, но они есть\n",
    "print(generator_obj.__iter__)\n",
    "print(generator_obj.__iter__())\n",
    "print(generator_obj.__next__)"
   ]
  },
  {
   "cell_type": "code",
   "execution_count": 130,
   "metadata": {
    "colab": {
     "base_uri": "https://localhost:8080/"
    },
    "id": "g-zqeFfrzptm",
    "outputId": "4791f4cb-8ae0-42e4-847e-3f0f98a61803"
   },
   "outputs": [
    {
     "data": {
      "text/plain": [
       "1911703904432"
      ]
     },
     "execution_count": 130,
     "metadata": {},
     "output_type": "execute_result"
    }
   ],
   "source": [
    "int('0x000001BD1A6EA0B0', base=16)"
   ]
  },
  {
   "cell_type": "code",
   "execution_count": 131,
   "metadata": {
    "colab": {
     "base_uri": "https://localhost:8080/"
    },
    "id": "sxyZ2_DnzylE",
    "outputId": "81753e0c-2b4f-45f1-b9bd-2c8cb9d40aaf"
   },
   "outputs": [
    {
     "data": {
      "text/plain": [
       "1911703904432"
      ]
     },
     "execution_count": 131,
     "metadata": {},
     "output_type": "execute_result"
    }
   ],
   "source": [
    "id(generator_obj)"
   ]
  },
  {
   "cell_type": "code",
   "execution_count": 132,
   "metadata": {
    "colab": {
     "base_uri": "https://localhost:8080/"
    },
    "id": "odjOjLKb8tv1",
    "outputId": "bba3b8fd-23a0-47b5-f44d-af28e29651fd"
   },
   "outputs": [
    {
     "name": "stdout",
     "output_type": "stream",
     "text": [
      "0\n",
      "1\n",
      "2\n"
     ]
    }
   ],
   "source": [
    "# проитерируемся по generator_obj\n",
    "for x in generator_obj:\n",
    "    print(x)"
   ]
  },
  {
   "cell_type": "code",
   "execution_count": 133,
   "metadata": {
    "colab": {
     "base_uri": "https://localhost:8080/"
    },
    "id": "huQgxC2E8tv1",
    "outputId": "29e2b5cd-6153-460d-9903-a23e98dbc328"
   },
   "outputs": [
    {
     "name": "stdout",
     "output_type": "stream",
     "text": [
      "снова ничего не напечаталось\n"
     ]
    }
   ],
   "source": [
    "# попробуем проитерироваться еще раз\n",
    "for x in generator_obj:\n",
    "    print(x)\n",
    "\n",
    "print('снова ничего не напечаталось')"
   ]
  },
  {
   "cell_type": "code",
   "execution_count": 134,
   "metadata": {
    "colab": {
     "base_uri": "https://localhost:8080/"
    },
    "id": "F25KIbjt3B7u",
    "outputId": "c6a54e87-edd7-4cca-eadd-3394ef3bb104"
   },
   "outputs": [
    {
     "name": "stdout",
     "output_type": "stream",
     "text": [
      "0\n",
      "1\n",
      "2\n"
     ]
    }
   ],
   "source": [
    "for x in my_range_generator(3):\n",
    "    print(x)"
   ]
  },
  {
   "cell_type": "code",
   "execution_count": 135,
   "metadata": {
    "colab": {
     "base_uri": "https://localhost:8080/"
    },
    "id": "JblFFbkg8tv2",
    "outputId": "52539528-68f5-4792-98b8-351171dbc003"
   },
   "outputs": [
    {
     "name": "stdout",
     "output_type": "stream",
     "text": [
      "10\n",
      "15\n"
     ]
    }
   ],
   "source": [
    "print(sum(my_range_generator(5)))  # этот код написан так, что 5 не включается\n",
    "print(sum(My_range_iterator(5)))  # этот код написан так, что 5 включается"
   ]
  },
  {
   "cell_type": "markdown",
   "metadata": {
    "id": "Ze6woCVI8tv2"
   },
   "source": [
    "## classmethod и staticmethod"
   ]
  },
  {
   "cell_type": "code",
   "execution_count": 136,
   "metadata": {
    "id": "ONourDG88tv2"
   },
   "outputs": [],
   "source": [
    "# создаем класс\n",
    "class MyClass:\n",
    "    # создаем атрибут данного класса\n",
    "    classattr = 0\n",
    "    \n",
    "    def __init__(self, val):\n",
    "        self.instanceattr = val\n",
    "\n",
    "    def Set(self, val):\n",
    "        type(self).classattr = val  # атрибут объекта класса\n",
    "        self.instanceattr = val     # атрибут объекта инстанса класса\n",
    "    \n",
    "    # декоратор @staticmethod позволяет создать метод не ссылкается на сам экземпляр класса\n",
    "    # данный статичный метод не зависит от экземпляра\n",
    "    # его можно использовать чтобы поменять значения атрибута самого класса\n",
    "    @staticmethod  # можно вызывать и как obj.statSet(val) и как MyClass.statSet(val)!\n",
    "    def statSet(val):\n",
    "        MyClass.classattr = val\n",
    "        \n",
    "    # декоратор @classmethod ссылается на сам Класс\n",
    "    @classmethod  # передаёт класс первым аргументом\n",
    "    def clsSet(cls, val):\n",
    "        cls.classattr = val"
   ]
  },
  {
   "cell_type": "code",
   "execution_count": 137,
   "metadata": {
    "colab": {
     "base_uri": "https://localhost:8080/"
    },
    "id": "jxnts_Is8tv3",
    "outputId": "be9e7e44-5f53-4bed-e359-58cd4ef9133c"
   },
   "outputs": [
    {
     "name": "stdout",
     "output_type": "stream",
     "text": [
      "obj.classattr = 0, obj.instanceattr = 5\n",
      "obj.classattr = 9, obj.instanceattr = 9\n",
      "obj.classattr = 4, obj.instanceattr = 9\n",
      "obj.classattr = 3, obj.instanceattr = 9\n",
      "obj.classattr = 7, obj.instanceattr = 9\n"
     ]
    }
   ],
   "source": [
    "# ознакомиться с данным кодом и с тем, что он печатает\n",
    "\n",
    "obj = MyClass(5)\n",
    "print(f\"{obj.classattr = }, {obj.instanceattr = }\")\n",
    "\n",
    "obj.Set(9)\n",
    "print(f\"{obj.classattr = }, {obj.instanceattr = }\")\n",
    "\n",
    "obj.statSet(4)\n",
    "print(f\"{obj.classattr = }, {obj.instanceattr = }\")\n",
    "\n",
    "MyClass.statSet(3)\n",
    "print(f\"{obj.classattr = }, {obj.instanceattr = }\")\n",
    "\n",
    "MyClass.clsSet(7)\n",
    "print(f\"{obj.classattr = }, {obj.instanceattr = }\")\n",
    "# print('classattr', obj.classattr, 'instanceattr',obj.instanceattr)"
   ]
  },
  {
   "cell_type": "markdown",
   "metadata": {
    "id": "HzwRYbTb8tv3"
   },
   "source": [
    "## Callable"
   ]
  },
  {
   "cell_type": "code",
   "execution_count": 138,
   "metadata": {
    "colab": {
     "base_uri": "https://localhost:8080/",
     "height": 169
    },
    "id": "THk-EfqfzBiU",
    "outputId": "1fe33fd5-7066-4d30-daec-2c53c3593c79"
   },
   "outputs": [
    {
     "name": "stderr",
     "output_type": "stream",
     "text": [
      "<>:1: SyntaxWarning: 'int' object is not callable; perhaps you missed a comma?\n",
      "<>:1: SyntaxWarning: 'int' object is not callable; perhaps you missed a comma?\n",
      "C:\\Users\\user\\AppData\\Local\\Temp\\ipykernel_2516\\3302733713.py:1: SyntaxWarning: 'int' object is not callable; perhaps you missed a comma?\n",
      "  5()\n",
      "C:\\Users\\user\\AppData\\Local\\Temp\\ipykernel_2516\\3302733713.py:1: SyntaxWarning: 'int' object is not callable; perhaps you missed a comma?\n",
      "  5()\n",
      "C:\\Users\\user\\AppData\\Local\\Temp\\ipykernel_2516\\3302733713.py:1: SyntaxWarning: 'int' object is not callable; perhaps you missed a comma?\n",
      "  5()\n"
     ]
    },
    {
     "ename": "TypeError",
     "evalue": "'int' object is not callable",
     "output_type": "error",
     "traceback": [
      "\u001b[1;31m---------------------------------------------------------------------------\u001b[0m",
      "\u001b[1;31mTypeError\u001b[0m                                 Traceback (most recent call last)",
      "Input \u001b[1;32mIn [138]\u001b[0m, in \u001b[0;36m<cell line: 1>\u001b[1;34m()\u001b[0m\n\u001b[1;32m----> 1\u001b[0m \u001b[38;5;241;43m5\u001b[39;49m\u001b[43m(\u001b[49m\u001b[43m)\u001b[49m\n",
      "\u001b[1;31mTypeError\u001b[0m: 'int' object is not callable"
     ]
    }
   ],
   "source": [
    "5()"
   ]
  },
  {
   "cell_type": "code",
   "execution_count": 139,
   "metadata": {
    "colab": {
     "base_uri": "https://localhost:8080/"
    },
    "id": "6Y-SFHOS8tv3",
    "outputId": "4fb7968b-809d-4118-c260-ec29b3783710"
   },
   "outputs": [
    {
     "name": "stdout",
     "output_type": "stream",
     "text": [
      "10\n",
      "42 13.1415923565\n",
      "50\n"
     ]
    }
   ],
   "source": [
    "# создаем класс\n",
    "class Adder:\n",
    "    # создаем метод \n",
    "    def __init__(self, x=0):\n",
    "        self.x = x\n",
    "    # данный метод берет значение self.x и прибавляет y\n",
    "    def __call__(self, y):\n",
    "        return self.x + y\n",
    "\n",
    "# создаем экземпляр\n",
    "adder10 = Adder(10)\n",
    "\n",
    "print(adder10.x)\n",
    "print(adder10(32), adder10(3.1415923565))\n",
    "\n",
    "# создаем экземпляр\n",
    "adder42 = Adder(42)\n",
    "print(adder42(8))"
   ]
  },
  {
   "cell_type": "code",
   "execution_count": 140,
   "metadata": {
    "colab": {
     "base_uri": "https://localhost:8080/"
    },
    "id": "6Y-SFHOS8tv3",
    "outputId": "4fb7968b-809d-4118-c260-ec29b3783710"
   },
   "outputs": [
    {
     "data": {
      "text/plain": [
       "5"
      ]
     },
     "execution_count": 140,
     "metadata": {},
     "output_type": "execute_result"
    }
   ],
   "source": [
    "# self.x в данном случае 5\n",
    "adder10.x = sum(i ** 2 for i in range(3))\n",
    "\n",
    "adder10(0)"
   ]
  },
  {
   "cell_type": "code",
   "execution_count": 141,
   "metadata": {
    "colab": {
     "base_uri": "https://localhost:8080/"
    },
    "id": "cWUeKVYK5aIh",
    "outputId": "ae2b1420-cf18-4db3-91d7-e4482290da20"
   },
   "outputs": [],
   "source": [
    "# атрибуту __call__ класса Adder присвоим None\n",
    "Adder.__call__ = None"
   ]
  },
  {
   "cell_type": "code",
   "execution_count": 142,
   "metadata": {
    "colab": {
     "base_uri": "https://localhost:8080/"
    },
    "id": "Jn6mzSqk3q7W",
    "outputId": "3256c716-4180-4c83-aa02-f257775cea7c"
   },
   "outputs": [
    {
     "data": {
      "text/plain": [
       "42"
      ]
     },
     "execution_count": 142,
     "metadata": {},
     "output_type": "execute_result"
    }
   ],
   "source": [
    "# создаем экземпляр\n",
    "prm = Adder(42)\n",
    "# смотрим на его атрибут (x)\n",
    "prm.x"
   ]
  },
  {
   "cell_type": "code",
   "execution_count": 143,
   "metadata": {
    "colab": {
     "base_uri": "https://localhost:8080/",
     "height": 169
    },
    "id": "PcMP3tkl3Weo",
    "outputId": "979a2c3d-7605-4bff-d3d9-034a4b86b292"
   },
   "outputs": [
    {
     "ename": "TypeError",
     "evalue": "'NoneType' object is not callable",
     "output_type": "error",
     "traceback": [
      "\u001b[1;31m---------------------------------------------------------------------------\u001b[0m",
      "\u001b[1;31mTypeError\u001b[0m                                 Traceback (most recent call last)",
      "Input \u001b[1;32mIn [143]\u001b[0m, in \u001b[0;36m<cell line: 2>\u001b[1;34m()\u001b[0m\n\u001b[0;32m      1\u001b[0m \u001b[38;5;66;03m# по сути мы просто испортили метод __call__\u001b[39;00m\n\u001b[1;32m----> 2\u001b[0m \u001b[43mprm\u001b[49m\u001b[43m(\u001b[49m\u001b[38;5;241;43m42\u001b[39;49m\u001b[43m)\u001b[49m\n",
      "\u001b[1;31mTypeError\u001b[0m: 'NoneType' object is not callable"
     ]
    }
   ],
   "source": [
    "# по сути мы просто испортили метод __call__\n",
    "prm(42)"
   ]
  }
 ],
 "metadata": {
  "colab": {
   "provenance": []
  },
  "kernelspec": {
   "display_name": "Python 3 (ipykernel)",
   "language": "python",
   "name": "python3"
  },
  "language_info": {
   "codemirror_mode": {
    "name": "ipython",
    "version": 3
   },
   "file_extension": ".py",
   "mimetype": "text/x-python",
   "name": "python",
   "nbconvert_exporter": "python",
   "pygments_lexer": "ipython3",
   "version": "3.9.12"
  },
  "toc": {
   "base_numbering": 1,
   "nav_menu": {},
   "number_sections": true,
   "sideBar": true,
   "skip_h1_title": false,
   "title_cell": "Table of Contents",
   "title_sidebar": "Contents",
   "toc_cell": true,
   "toc_position": {},
   "toc_section_display": true,
   "toc_window_display": true
  }
 },
 "nbformat": 4,
 "nbformat_minor": 1
}
