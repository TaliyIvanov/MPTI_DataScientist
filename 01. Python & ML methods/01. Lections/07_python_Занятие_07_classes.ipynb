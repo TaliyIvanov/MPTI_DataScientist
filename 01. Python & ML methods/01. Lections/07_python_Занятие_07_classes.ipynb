{
 "cells": [
  {
   "cell_type": "markdown",
   "metadata": {},
   "source": [
    "# Добрый вечер!"
   ]
  },
  {
   "cell_type": "markdown",
   "metadata": {},
   "source": [
    "# Базовая информация о классах"
   ]
  },
  {
   "cell_type": "markdown",
   "metadata": {},
   "source": [
    "Классы необходимы для того, чтобы создавать новые пользовательские структуры данных, которые содержат произвольную информацию о чем-то."
   ]
  },
  {
   "cell_type": "markdown",
   "metadata": {},
   "source": [
    "## Объявление класса"
   ]
  },
  {
   "cell_type": "code",
   "execution_count": null,
   "metadata": {},
   "outputs": [],
   "source": [
    "dir()  # что выводит?"
   ]
  },
  {
   "cell_type": "code",
   "execution_count": null,
   "metadata": {
    "id": "7yKT7dxWPZg6"
   },
   "outputs": [],
   "source": [
    "class EmptyClass:\n",
    "    pass"
   ]
  },
  {
   "cell_type": "code",
   "execution_count": null,
   "metadata": {},
   "outputs": [],
   "source": [
    "dir()  # появился EmptyClass"
   ]
  },
  {
   "cell_type": "code",
   "execution_count": null,
   "metadata": {},
   "outputs": [],
   "source": [
    "lst = list()\n",
    "lst"
   ]
  },
  {
   "cell_type": "code",
   "execution_count": null,
   "metadata": {
    "id": "0VzY-Unij0_r"
   },
   "outputs": [],
   "source": [
    "empty_obj = EmptyClass()"
   ]
  },
  {
   "cell_type": "code",
   "execution_count": null,
   "metadata": {
    "id": "-wsHVhwkj4Pu"
   },
   "outputs": [],
   "source": [
    "print(empty_obj)\n",
    "type(empty_obj)"
   ]
  },
  {
   "cell_type": "code",
   "execution_count": null,
   "metadata": {},
   "outputs": [],
   "source": [
    "int('0x10ba12580', base=16)"
   ]
  },
  {
   "cell_type": "code",
   "execution_count": null,
   "metadata": {},
   "outputs": [],
   "source": [
    "id(empty_obj)"
   ]
  },
  {
   "cell_type": "markdown",
   "metadata": {
    "id": "qUsPA2zh8tvc"
   },
   "source": [
    "## Атрибуты и методы"
   ]
  },
  {
   "cell_type": "code",
   "execution_count": null,
   "metadata": {},
   "outputs": [],
   "source": [
    "class MyLittleClass:\n",
    "    color = 1\n",
    "    \n",
    "obj = MyLittleClass()\n",
    "print(obj.color)\n",
    "obj.color += 1\n",
    "obj.color"
   ]
  },
  {
   "cell_type": "code",
   "execution_count": null,
   "metadata": {
    "id": "WOMUBmzzM_rp"
   },
   "outputs": [],
   "source": [
    "MyLittleClass.color"
   ]
  },
  {
   "cell_type": "code",
   "execution_count": null,
   "metadata": {
    "id": "7mwbk4sk8tvd"
   },
   "outputs": [],
   "source": [
    "class MyLittleClass:\n",
    "    \n",
    "    color = \"blue\"\n",
    "    \n",
    "    def set_color(self, color_):  # method\n",
    "        color = color_\n",
    "        print('set color to {}'.format(color))"
   ]
  },
  {
   "cell_type": "code",
   "execution_count": null,
   "metadata": {
    "id": "2Vzt11-8iOCY"
   },
   "outputs": [],
   "source": [
    "obj = MyLittleClass()  # Атрибуты объектов класса доступны как атрибуты его экземпляров \n",
    "print(obj.color)"
   ]
  },
  {
   "cell_type": "code",
   "execution_count": null,
   "metadata": {
    "id": "xak2eN558tvf"
   },
   "outputs": [],
   "source": [
    "obj.set_color('red')\n",
    "print(obj.color)"
   ]
  },
  {
   "cell_type": "markdown",
   "metadata": {
    "id": "V_XErrJi8tvg"
   },
   "source": [
    "обращение к атрибутам инстансов класса должно иметь форму `self.attribute_name`, а `color` в методе `set_color` -- просто локальная переменная\n"
   ]
  },
  {
   "cell_type": "code",
   "execution_count": null,
   "metadata": {
    "id": "-a85FGS78tvh"
   },
   "outputs": [],
   "source": [
    "class MyLittleClass2:\n",
    "    color = \"blue\"\n",
    "    \n",
    "    def set_color(self, color_):\n",
    "        self.color = color_  \n",
    "        print('set color to {}'.format(self.color))"
   ]
  },
  {
   "cell_type": "code",
   "execution_count": null,
   "metadata": {
    "id": "kSe1wvRijYjo"
   },
   "outputs": [],
   "source": [
    "obj = MyLittleClass2()\n",
    "print(obj.color)"
   ]
  },
  {
   "cell_type": "code",
   "execution_count": null,
   "metadata": {
    "id": "ik326jQ18tvi"
   },
   "outputs": [],
   "source": [
    "obj.set_color('red')\n",
    "print(obj.color)\n",
    "print(MyLittleClass2.color)"
   ]
  },
  {
   "cell_type": "code",
   "execution_count": null,
   "metadata": {},
   "outputs": [],
   "source": [
    "obj2 = MyLittleClass2()\n",
    "obj2.color"
   ]
  },
  {
   "cell_type": "code",
   "execution_count": null,
   "metadata": {
    "colab": {
     "base_uri": "https://localhost:8080/"
    },
    "id": "7HDAwT0n8tvj",
    "outputId": "5f66e871-562c-4314-9233-1ed022026a15"
   },
   "outputs": [],
   "source": [
    "# вообще-то, так тоже можно было, но хорошие \n",
    "# программисты пишут т.н. методы-геттеры и методы-сеттеры\n",
    "obj.color = 'green'\n",
    "print(obj.color)\n",
    "print(MyLittleClass2.color)\n",
    "print(MyLittleClass2().color)"
   ]
  },
  {
   "cell_type": "code",
   "execution_count": null,
   "metadata": {
    "colab": {
     "base_uri": "https://localhost:8080/"
    },
    "id": "THNbsf8_8tvl",
    "outputId": "1ff69cb9-ff96-4be7-a245-7ea556dae836"
   },
   "outputs": [],
   "source": [
    "obj.some_attribute = 42\n",
    "print(obj.some_attribute)"
   ]
  },
  {
   "cell_type": "code",
   "execution_count": null,
   "metadata": {},
   "outputs": [],
   "source": [
    "lst.new_attr = 0"
   ]
  },
  {
   "cell_type": "code",
   "execution_count": null,
   "metadata": {},
   "outputs": [],
   "source": [
    "dir(obj)"
   ]
  },
  {
   "cell_type": "code",
   "execution_count": null,
   "metadata": {},
   "outputs": [],
   "source": [
    "# вспомним нашу вспомогательную функцию\n",
    "def attrs_printer(obj):\n",
    "    print(*[name for name in dir(obj) if not name.startswith('_')], sep='\\n')"
   ]
  },
  {
   "cell_type": "code",
   "execution_count": null,
   "metadata": {},
   "outputs": [],
   "source": [
    "attrs_printer(obj)"
   ]
  },
  {
   "cell_type": "code",
   "execution_count": null,
   "metadata": {
    "id": "uSvwudNN8tvm"
   },
   "outputs": [],
   "source": [
    "class MyLittleClass3:\n",
    "    \n",
    "    def method_with_self(self, arg):\n",
    "        print(arg)\n",
    "    \n",
    "    def method_without_self(arg):\n",
    "        print(arg)"
   ]
  },
  {
   "cell_type": "code",
   "execution_count": null,
   "metadata": {
    "id": "A2qvSIra8tvm"
   },
   "outputs": [],
   "source": [
    "obj = MyLittleClass3()\n",
    "obj.method_with_self('i am an argument')\n",
    "obj.method_without_self()\n",
    "\n",
    "obj.method_without_self('i am another argument') \n",
    "# здесь мы на самом деле передаем по два аргумента, self и arg"
   ]
  },
  {
   "cell_type": "code",
   "execution_count": null,
   "metadata": {},
   "outputs": [],
   "source": [
    "print(obj) is obj.method_without_self()"
   ]
  },
  {
   "cell_type": "code",
   "execution_count": null,
   "metadata": {
    "colab": {
     "base_uri": "https://localhost:8080/"
    },
    "id": "rQqFL-2z8tvn",
    "outputId": "a02f7f08-1866-4b4e-f861-db0a3d1ceedc"
   },
   "outputs": [],
   "source": [
    "# obj.method_without_self('i am another argument') \n",
    "MyLittleClass3.method_without_self('i am another argument')  # а здесь мы передаем только один аргумент"
   ]
  },
  {
   "cell_type": "code",
   "execution_count": null,
   "metadata": {
    "colab": {
     "base_uri": "https://localhost:8080/"
    },
    "id": "GKGqoPRw8tvo",
    "outputId": "35b283d6-d9e0-4b41-ac34-1c6d1e11a434"
   },
   "outputs": [],
   "source": [
    "func = MyLittleClass3.method_without_self\n",
    "func(\"hello\")"
   ]
  },
  {
   "cell_type": "code",
   "execution_count": null,
   "metadata": {
    "colab": {
     "base_uri": "https://localhost:8080/"
    },
    "id": "ZJEjo97_mASq",
    "outputId": "dbd9d3ab-979d-483b-804a-a5ee22388b3b"
   },
   "outputs": [],
   "source": [
    "type(func)"
   ]
  },
  {
   "cell_type": "code",
   "execution_count": null,
   "metadata": {},
   "outputs": [],
   "source": [
    "type(MyLittleClass3.method_without_self)"
   ]
  },
  {
   "cell_type": "code",
   "execution_count": null,
   "metadata": {
    "colab": {
     "base_uri": "https://localhost:8080/",
     "height": 187
    },
    "id": "AyFT2kgS8tvp",
    "outputId": "af1733ad-ad0b-4dd1-c692-d3e0c3186c04"
   },
   "outputs": [],
   "source": [
    "func2 = MyLittleClass3.method_with_self  # (self, arg)\n",
    "func2(\"hello\")  # передаем один аргумент"
   ]
  },
  {
   "cell_type": "code",
   "execution_count": null,
   "metadata": {
    "colab": {
     "base_uri": "https://localhost:8080/"
    },
    "id": "W8w9YwHh8tvp",
    "outputId": "c7226d51-1e02-46f6-cc15-bec4885d4952"
   },
   "outputs": [],
   "source": [
    "obj = MyLittleClass3()\n",
    "func2(obj, \"hello\")  # ой, нам же ещё нужен объект для self!"
   ]
  },
  {
   "cell_type": "code",
   "execution_count": null,
   "metadata": {
    "colab": {
     "base_uri": "https://localhost:8080/"
    },
    "id": "f3-uhjw5mfHU",
    "outputId": "e0ec0c46-7885-4478-f7ca-6c5f373c06bf"
   },
   "outputs": [],
   "source": [
    "func2('123', 'hello')"
   ]
  },
  {
   "cell_type": "code",
   "execution_count": null,
   "metadata": {
    "colab": {
     "base_uri": "https://localhost:8080/",
     "height": 169
    },
    "id": "pL_qjxrV8tvq",
    "outputId": "54dfeb65-b980-4b25-d77c-cba143479761"
   },
   "outputs": [],
   "source": [
    "obj.get_color()"
   ]
  },
  {
   "cell_type": "code",
   "execution_count": null,
   "metadata": {},
   "outputs": [],
   "source": [
    "# class MyLittleClass3:\n",
    "    \n",
    "#     def method_with_self(self, arg):\n",
    "#         print(arg)\n",
    "    \n",
    "#     def method_without_self(arg):\n",
    "#         print(arg)\n",
    "        \n",
    "#     def get_color(self):\n",
    "#         return self.color"
   ]
  },
  {
   "cell_type": "code",
   "execution_count": null,
   "metadata": {
    "colab": {
     "base_uri": "https://localhost:8080/",
     "height": 329
    },
    "id": "tK0Tt1gf8tvr",
    "outputId": "7a833c6b-24c3-401b-ddd8-60b84a556ecb"
   },
   "outputs": [],
   "source": [
    "def get_color_function(self):\n",
    "    return self.color\n",
    "\n",
    "MyLittleClass3.get_color = get_color_function\n",
    "obj = MyLittleClass3()\n",
    "obj.get_color()"
   ]
  },
  {
   "cell_type": "code",
   "execution_count": null,
   "metadata": {
    "colab": {
     "base_uri": "https://localhost:8080/",
     "height": 35
    },
    "id": "ipimnuWx8tvr",
    "outputId": "83ad7737-8208-4191-f3d4-803cc9491963"
   },
   "outputs": [],
   "source": [
    "obj.color = 'pink'\n",
    "obj.get_color()"
   ]
  },
  {
   "cell_type": "code",
   "execution_count": null,
   "metadata": {
    "colab": {
     "base_uri": "https://localhost:8080/",
     "height": 187
    },
    "id": "DIWap6XsGBKn",
    "outputId": "bcb095f4-e613-49da-b38d-311b561326e8"
   },
   "outputs": [],
   "source": [
    "obj2 = MyLittleClass3()\n",
    "obj2.color"
   ]
  },
  {
   "cell_type": "code",
   "execution_count": null,
   "metadata": {},
   "outputs": [],
   "source": [
    "obj2.get_color()"
   ]
  },
  {
   "cell_type": "code",
   "execution_count": null,
   "metadata": {
    "colab": {
     "base_uri": "https://localhost:8080/"
    },
    "id": "p_-Yi9W1GKoU",
    "outputId": "83513376-1b29-46e6-a2bb-536d4f85b104"
   },
   "outputs": [],
   "source": [
    "MyLittleClass3.color = 'green'\n",
    "obj3 = MyLittleClass3()\n",
    "obj3.color, obj2.color"
   ]
  },
  {
   "cell_type": "code",
   "execution_count": null,
   "metadata": {
    "colab": {
     "base_uri": "https://localhost:8080/"
    },
    "id": "yyUbYFSzI-iI",
    "outputId": "56836eb9-239f-4b1a-c64f-c50806f1c425"
   },
   "outputs": [],
   "source": [
    "obj3.color is MyLittleClass3.color"
   ]
  },
  {
   "cell_type": "code",
   "execution_count": null,
   "metadata": {
    "colab": {
     "base_uri": "https://localhost:8080/"
    },
    "id": "gYkqVQOuHzJJ",
    "outputId": "226d1865-418f-4297-913c-6fe205cc50ac"
   },
   "outputs": [],
   "source": [
    "# что выведет код? Какого типа объект, что из себя представляет этот объект\n",
    "type(MyLittleClass3), type(list), type(obj), type(list())"
   ]
  },
  {
   "cell_type": "code",
   "execution_count": null,
   "metadata": {
    "colab": {
     "base_uri": "https://localhost:8080/"
    },
    "id": "_4f7_qoPJ_yG",
    "outputId": "a3359511-198b-4b0b-d0d3-3d2eccb56856"
   },
   "outputs": [],
   "source": [
    "class MCLS:\n",
    "    attr1 = 'hello '\n",
    "\n",
    "objec = MCLS()\n",
    "\n",
    "print(objec.attr1)\n",
    "\n",
    "class MCLS:\n",
    "    attr1 = 'bye '\n",
    "\n",
    "objec2 = MCLS()\n",
    "\n",
    "print(objec.attr1, objec2.attr1)"
   ]
  },
  {
   "cell_type": "code",
   "execution_count": null,
   "metadata": {},
   "outputs": [],
   "source": [
    "objec"
   ]
  },
  {
   "cell_type": "code",
   "execution_count": null,
   "metadata": {},
   "outputs": [],
   "source": [
    "type(objec)"
   ]
  },
  {
   "cell_type": "code",
   "execution_count": null,
   "metadata": {
    "colab": {
     "base_uri": "https://localhost:8080/"
    },
    "id": "_4f7_qoPJ_yG",
    "outputId": "a3359511-198b-4b0b-d0d3-3d2eccb56856"
   },
   "outputs": [],
   "source": [
    "obj2 = type(objec)()\n",
    "print(obj2.attr1)"
   ]
  },
  {
   "cell_type": "code",
   "execution_count": null,
   "metadata": {
    "colab": {
     "base_uri": "https://localhost:8080/"
    },
    "id": "3ug54yoPKnLG",
    "outputId": "823b2a45-b361-49cf-e918-e1e928930c1a"
   },
   "outputs": [],
   "source": [
    "class MCLS:\n",
    "    attr1 = 'hello '\n",
    "\n",
    "objec = MCLS()\n",
    "\n",
    "MCLS.attr2 = 'objec'\n",
    "\n",
    "print(objec.attr1, objec.attr2)"
   ]
  },
  {
   "cell_type": "code",
   "execution_count": null,
   "metadata": {},
   "outputs": [],
   "source": [
    "obj"
   ]
  },
  {
   "cell_type": "code",
   "execution_count": null,
   "metadata": {
    "scrolled": true
   },
   "outputs": [],
   "source": [
    "attrs_printer(obj)"
   ]
  },
  {
   "cell_type": "code",
   "execution_count": null,
   "metadata": {
    "colab": {
     "base_uri": "https://localhost:8080/"
    },
    "id": "ZdI_fHiW8tvs",
    "outputId": "e5ec7b57-c78f-4c0a-8a42-8f43ce5b801c"
   },
   "outputs": [],
   "source": [
    "# оставим только методы\n",
    "print(*[name for name in dir(obj) if callable(getattr(obj, name))], sep='\\n')"
   ]
  },
  {
   "cell_type": "code",
   "execution_count": null,
   "metadata": {
    "colab": {
     "base_uri": "https://localhost:8080/"
    },
    "id": "eXlbftPBqt-r",
    "outputId": "7de1bf4b-6c8b-429f-e3eb-e5e98f956193"
   },
   "outputs": [],
   "source": [
    "type(dir()), type(vars())"
   ]
  },
  {
   "cell_type": "code",
   "execution_count": null,
   "metadata": {
    "colab": {
     "base_uri": "https://localhost:8080/"
    },
    "id": "A4lwu_6Zq9l5",
    "outputId": "87776ef0-d715-41fd-96af-741096ec00a3"
   },
   "outputs": [],
   "source": [
    "vars() is locals()"
   ]
  },
  {
   "cell_type": "code",
   "execution_count": null,
   "metadata": {
    "id": "L37M_EIarQ5D"
   },
   "outputs": [],
   "source": [
    "dir(obj)"
   ]
  },
  {
   "cell_type": "code",
   "execution_count": null,
   "metadata": {
    "colab": {
     "base_uri": "https://localhost:8080/"
    },
    "id": "GofjDRGbrHTQ",
    "outputId": "92d108e0-8033-4e58-b1ce-d1a6a27cfca9"
   },
   "outputs": [],
   "source": [
    "vars(obj)"
   ]
  },
  {
   "cell_type": "code",
   "execution_count": null,
   "metadata": {},
   "outputs": [],
   "source": [
    "type(obj).color"
   ]
  },
  {
   "cell_type": "code",
   "execution_count": null,
   "metadata": {},
   "outputs": [],
   "source": [
    "obj.color"
   ]
  },
  {
   "cell_type": "code",
   "execution_count": null,
   "metadata": {
    "colab": {
     "base_uri": "https://localhost:8080/"
    },
    "id": "5Vx7Lsxn8tvt",
    "outputId": "d72e7de2-060e-4a88-b299-0df9fbc8f66c"
   },
   "outputs": [],
   "source": [
    "class ClassWithNothing:\n",
    "    pass\n",
    "\n",
    "nobject = ClassWithNothing()\n",
    "\n",
    "def print_custom_attrs(obj=None):\n",
    "    if obj is None:\n",
    "        attrs = dir()  # в локальной области видимости!\n",
    "    else:\n",
    "        attrs = dir(obj)\n",
    "    print([name for name in attrs if not name.startswith('_')])\n",
    "    \n",
    "print_custom_attrs(nobject)\n",
    "print_custom_attrs(ClassWithNothing)\n",
    "print_custom_attrs()\n",
    "print(dir())"
   ]
  },
  {
   "cell_type": "code",
   "execution_count": null,
   "metadata": {
    "colab": {
     "base_uri": "https://localhost:8080/"
    },
    "id": "ZkvfvfIw8tvu",
    "outputId": "c6365d09-f4bc-4e27-c2d6-e424f36fc3b3"
   },
   "outputs": [],
   "source": [
    "ClassWithNothing.my_attribute = 'my value'\n",
    "nobject.my_instance_attribute = \"my value 2\"\n",
    "\n",
    "print_custom_attrs(nobject)\n",
    "print_custom_attrs(ClassWithNothing)"
   ]
  },
  {
   "cell_type": "markdown",
   "metadata": {},
   "source": [
    "### Просто пример класса"
   ]
  },
  {
   "cell_type": "code",
   "execution_count": null,
   "metadata": {},
   "outputs": [],
   "source": [
    "class Figure:\n",
    "    def __init__(self, perimetr=None, color=None):\n",
    "        self.perimetr = perimetr\n",
    "        self.color = color\n",
    "        \n",
    "    def calculate_perimetr(self):\n",
    "        self.length_perimetr = sum(self.perimetr)\n",
    "    \n",
    "    def set_color(self, new_color):\n",
    "        self.color = new_color\n",
    "        \n",
    "    def get_color(self):\n",
    "        return self.color\n",
    "    \n",
    "    def get_length(self):\n",
    "        return self.length_perimetr\n",
    "        \n",
    "        \n",
    "triangle1 = Figure([3, 4, 5], 'green')\n",
    "triangle2 = Figure([7, 5, 8], 'black')\n",
    "square = Figure([5, 5, 5, 5], 'red')\n",
    "\n",
    "triangle1.color"
   ]
  },
  {
   "cell_type": "code",
   "execution_count": null,
   "metadata": {},
   "outputs": [],
   "source": [
    "triangle1.set_color('blue')\n",
    "triangle1.color"
   ]
  },
  {
   "cell_type": "code",
   "execution_count": null,
   "metadata": {},
   "outputs": [],
   "source": [
    "square.calculate_perimetr()"
   ]
  },
  {
   "cell_type": "code",
   "execution_count": null,
   "metadata": {},
   "outputs": [],
   "source": [
    "square.get_length()"
   ]
  },
  {
   "cell_type": "markdown",
   "metadata": {
    "id": "svmbSvN18tvy"
   },
   "source": [
    "## Приватность"
   ]
  },
  {
   "cell_type": "markdown",
   "metadata": {},
   "source": [
    "[9.6 Private Variables](https://docs.python.org/3/tutorial/classes.html#private-variables)"
   ]
  },
  {
   "cell_type": "markdown",
   "metadata": {},
   "source": [
    "немного про `_`"
   ]
  },
  {
   "cell_type": "code",
   "execution_count": null,
   "metadata": {},
   "outputs": [],
   "source": [
    "# в конце переменной, чтобы изменить уже существующее имя max_\n",
    "# для обозначения несущественных переменных (когда имя переменной нужно, но сам объект не имеет значения)\n",
    "\n",
    "for _ in range(3):\n",
    "    print('hello')\n",
    "    \n",
    "a, _, _, d = 'hello my beautiful world'.split()\n",
    "a, d"
   ]
  },
  {
   "cell_type": "code",
   "execution_count": null,
   "metadata": {
    "id": "_iuASScu8tvy"
   },
   "outputs": [],
   "source": [
    "class VeryPrivate:\n",
    "    _secret = 1\n",
    "    __very_secret = 2"
   ]
  },
  {
   "cell_type": "code",
   "execution_count": null,
   "metadata": {
    "colab": {
     "base_uri": "https://localhost:8080/",
     "height": 222
    },
    "id": "mRYfzczI8tvy",
    "outputId": "1fd3ef31-a9d7-43bc-9ae4-e184124c2a87"
   },
   "outputs": [],
   "source": [
    "obj = VeryPrivate()\n",
    "print(obj._secret)\n",
    "print(obj.__very_secret)"
   ]
  },
  {
   "cell_type": "code",
   "execution_count": null,
   "metadata": {},
   "outputs": [],
   "source": [
    "dir(obj)"
   ]
  },
  {
   "cell_type": "code",
   "execution_count": null,
   "metadata": {
    "colab": {
     "base_uri": "https://localhost:8080/"
    },
    "id": "8CAL_QRy8tvy",
    "outputId": "25e35522-f43f-497b-cdec-522fa62589b6"
   },
   "outputs": [],
   "source": [
    "obj._VeryPrivate__very_secret  # а так вообще никогда не делайте, особенно с чужими классами"
   ]
  },
  {
   "cell_type": "code",
   "execution_count": null,
   "metadata": {
    "colab": {
     "base_uri": "https://localhost:8080/",
     "height": 35
    },
    "id": "pXLwM5g88tvz",
    "outputId": "8c8b3b40-f100-481e-d3eb-55730185e298"
   },
   "outputs": [],
   "source": [
    "obj._VeryPrivate__very_secret = 'new secret'\n",
    "obj._VeryPrivate__very_secret"
   ]
  },
  {
   "cell_type": "code",
   "execution_count": null,
   "metadata": {
    "colab": {
     "base_uri": "https://localhost:8080/",
     "height": 169
    },
    "id": "k2oC_WE4PbjW",
    "outputId": "2c2fd93c-9765-4665-8c95-230228f020e9"
   },
   "outputs": [],
   "source": [
    "VeryPrivate.__very_secret"
   ]
  },
  {
   "cell_type": "code",
   "execution_count": null,
   "metadata": {
    "colab": {
     "base_uri": "https://localhost:8080/"
    },
    "id": "bgq_NPLutZNG",
    "outputId": "9c038584-cc07-4478-9587-d472b92443db"
   },
   "outputs": [],
   "source": [
    "obj2 = VeryPrivate()\n",
    "obj2._VeryPrivate__very_secret"
   ]
  },
  {
   "cell_type": "code",
   "execution_count": null,
   "metadata": {},
   "outputs": [],
   "source": [
    "VeryPrivate._VeryPrivate__very_secret"
   ]
  },
  {
   "cell_type": "markdown",
   "metadata": {
    "id": "m3XSG-0r8tvz"
   },
   "source": [
    "# Генераторы и итераторы: повторение с новой точки зрения"
   ]
  },
  {
   "cell_type": "markdown",
   "metadata": {
    "id": "zvP4-LB68tvz"
   },
   "source": [
    "В теории всё выглядит как-то так:\n",
    "\n",
    "1. Итератор -- это объект, у которого есть методы `__iter__` и `__next__`.\n",
    "\n",
    "2. Генератор -- это результат работы функции, которая... генерирует. Например, с помощью `yield`. Это упрощает создание итераторов.\n",
    "\n",
    "3. Каждый генератор является итератором (неявно реализует интерфейс итератора). Обратное, конечно, неверно. "
   ]
  },
  {
   "cell_type": "code",
   "execution_count": null,
   "metadata": {
    "colab": {
     "base_uri": "https://localhost:8080/"
    },
    "id": "UPIvHlic0Cw5",
    "outputId": "61d24e5f-1f72-484d-b6f2-5ab5c5252084"
   },
   "outputs": [],
   "source": [
    "class MyClass:\n",
    "    def __init__(self, a, b, c):\n",
    "        self.attr1 = a\n",
    "        self.attr2 = b\n",
    "        self.attr3 = c"
   ]
  },
  {
   "cell_type": "code",
   "execution_count": null,
   "metadata": {},
   "outputs": [],
   "source": [
    "instance1 = MyClass(1, 2, 3)\n",
    "instance2 = MyClass('hello', True, None)\n",
    "instance1.attr2, instance2.attr2"
   ]
  },
  {
   "cell_type": "code",
   "execution_count": null,
   "metadata": {},
   "outputs": [],
   "source": [
    "raise ArithmeticError()"
   ]
  },
  {
   "cell_type": "code",
   "execution_count": null,
   "metadata": {
    "id": "9Vm5Y3Vb8tvz"
   },
   "outputs": [],
   "source": [
    "class My_range_iterator:\n",
    "    def __init__(self, n_max):\n",
    "        self.i = 0\n",
    "        self.n_max = n_max\n",
    "\n",
    "    def __iter__(self):\n",
    "        return self\n",
    "\n",
    "    def __next__(self):\n",
    "        if self.i <= self.n_max:\n",
    "            i = self.i\n",
    "            self.i += 1\n",
    "            return i\n",
    "        else:\n",
    "            # специальное исключение, которое означает \"элементы кончились!\"\n",
    "            # впрочем, может никогда и не бросаться\n",
    "            raise StopIteration()"
   ]
  },
  {
   "cell_type": "code",
   "execution_count": null,
   "metadata": {
    "colab": {
     "base_uri": "https://localhost:8080/",
     "height": 365
    },
    "id": "QH2bSPmQ8tv0",
    "outputId": "fabc651c-24b8-4320-94b3-436e45bdd301"
   },
   "outputs": [],
   "source": [
    "iterator_obj = My_range_iterator(3)\n",
    "iterator_obj.i, iterator_obj.n_max"
   ]
  },
  {
   "cell_type": "code",
   "execution_count": null,
   "metadata": {
    "colab": {
     "base_uri": "https://localhost:8080/",
     "height": 365
    },
    "id": "QH2bSPmQ8tv0",
    "outputId": "fabc651c-24b8-4320-94b3-436e45bdd301"
   },
   "outputs": [],
   "source": [
    "print(iterator_obj.__next__())\n",
    "print(iterator_obj.__next__())\n",
    "print(iterator_obj.__next__())"
   ]
  },
  {
   "cell_type": "code",
   "execution_count": null,
   "metadata": {},
   "outputs": [],
   "source": [
    "iterator_obj.i, iterator_obj.n_max"
   ]
  },
  {
   "cell_type": "code",
   "execution_count": null,
   "metadata": {
    "colab": {
     "base_uri": "https://localhost:8080/",
     "height": 365
    },
    "id": "QH2bSPmQ8tv0",
    "outputId": "fabc651c-24b8-4320-94b3-436e45bdd301"
   },
   "outputs": [],
   "source": [
    "print(iterator_obj.__next__())\n",
    "print(iterator_obj.__next__())"
   ]
  },
  {
   "cell_type": "markdown",
   "metadata": {},
   "source": [
    "Но всегда ловить исключения конечно не нужно"
   ]
  },
  {
   "cell_type": "code",
   "execution_count": null,
   "metadata": {
    "colab": {
     "base_uri": "https://localhost:8080/"
    },
    "id": "88Aoch0O8tv0",
    "outputId": "9daf6498-c34d-4efd-c83d-05e3bcefe5d9"
   },
   "outputs": [],
   "source": [
    "iterator_obj = My_range_iterator(3)\n",
    "print(type(iterator_obj))\n",
    "for x in iterator_obj:\n",
    "    print(x)"
   ]
  },
  {
   "cell_type": "code",
   "execution_count": null,
   "metadata": {
    "colab": {
     "base_uri": "https://localhost:8080/"
    },
    "id": "L90AMy9XwA0a",
    "outputId": "1d6b01c9-f4a4-49ec-d643-eae4ed976b5c"
   },
   "outputs": [],
   "source": [
    "ran = range(4)\n",
    "\n",
    "for x in ran:\n",
    "    print(x)"
   ]
  },
  {
   "cell_type": "code",
   "execution_count": null,
   "metadata": {},
   "outputs": [],
   "source": [
    "ran.start, ran.stop, ran.step"
   ]
  },
  {
   "cell_type": "code",
   "execution_count": null,
   "metadata": {
    "colab": {
     "base_uri": "https://localhost:8080/"
    },
    "id": "G_ZhkI2x8tv0",
    "outputId": "5cc666b6-65f1-44c0-caa4-db148fcf02b6"
   },
   "outputs": [],
   "source": [
    "for x in iterator_obj:\n",
    "    print(x)\n",
    "\n",
    "print('ничего не напечаталось')"
   ]
  },
  {
   "cell_type": "code",
   "execution_count": null,
   "metadata": {
    "colab": {
     "base_uri": "https://localhost:8080/"
    },
    "id": "RNnwoAVD8tv1",
    "outputId": "0a614ce8-9491-4530-e802-681e076670e5"
   },
   "outputs": [],
   "source": [
    "def my_range_generator(n_max):\n",
    "    i = 0\n",
    "    while i < n_max:\n",
    "        yield i\n",
    "        i += 1\n",
    "\n",
    "print(type(my_range_generator))\n",
    "type(my_range_generator)"
   ]
  },
  {
   "cell_type": "code",
   "execution_count": null,
   "metadata": {
    "colab": {
     "base_uri": "https://localhost:8080/"
    },
    "id": "GISrBDY88tv1",
    "outputId": "dd5bdacb-87ce-452c-d4c0-1c36e4078dee"
   },
   "outputs": [],
   "source": [
    "generator_obj = my_range_generator(3)\n",
    "print(type(generator_obj))\n",
    "# мы не определяли магических функций итератора, но...\n",
    "print(generator_obj.__iter__)\n",
    "print(generator_obj.__iter__())\n",
    "print(generator_obj.__next__)"
   ]
  },
  {
   "cell_type": "code",
   "execution_count": null,
   "metadata": {
    "colab": {
     "base_uri": "https://localhost:8080/"
    },
    "id": "g-zqeFfrzptm",
    "outputId": "4791f4cb-8ae0-42e4-847e-3f0f98a61803"
   },
   "outputs": [],
   "source": [
    "int('0x10bcdcc10', base=16)"
   ]
  },
  {
   "cell_type": "code",
   "execution_count": null,
   "metadata": {
    "colab": {
     "base_uri": "https://localhost:8080/"
    },
    "id": "sxyZ2_DnzylE",
    "outputId": "81753e0c-2b4f-45f1-b9bd-2c8cb9d40aaf"
   },
   "outputs": [],
   "source": [
    "id(generator_obj)"
   ]
  },
  {
   "cell_type": "code",
   "execution_count": null,
   "metadata": {
    "colab": {
     "base_uri": "https://localhost:8080/"
    },
    "id": "odjOjLKb8tv1",
    "outputId": "bba3b8fd-23a0-47b5-f44d-af28e29651fd"
   },
   "outputs": [],
   "source": [
    "for x in generator_obj:\n",
    "    print(x)"
   ]
  },
  {
   "cell_type": "code",
   "execution_count": null,
   "metadata": {
    "colab": {
     "base_uri": "https://localhost:8080/"
    },
    "id": "huQgxC2E8tv1",
    "outputId": "29e2b5cd-6153-460d-9903-a23e98dbc328"
   },
   "outputs": [],
   "source": [
    "for x in generator_obj:\n",
    "    print(x)\n",
    "\n",
    "print('снова ничего не напечаталось')"
   ]
  },
  {
   "cell_type": "code",
   "execution_count": null,
   "metadata": {
    "colab": {
     "base_uri": "https://localhost:8080/"
    },
    "id": "F25KIbjt3B7u",
    "outputId": "c6a54e87-edd7-4cca-eadd-3394ef3bb104"
   },
   "outputs": [],
   "source": [
    "for x in my_range_generator(3):\n",
    "    print(x)"
   ]
  },
  {
   "cell_type": "code",
   "execution_count": null,
   "metadata": {
    "colab": {
     "base_uri": "https://localhost:8080/"
    },
    "id": "JblFFbkg8tv2",
    "outputId": "52539528-68f5-4792-98b8-351171dbc003"
   },
   "outputs": [],
   "source": [
    "print(sum(my_range_generator(5)))\n",
    "print(sum(My_range_iterator(5)))"
   ]
  },
  {
   "cell_type": "markdown",
   "metadata": {
    "id": "Ze6woCVI8tv2"
   },
   "source": [
    "## classmethod и staticmethod"
   ]
  },
  {
   "cell_type": "code",
   "execution_count": null,
   "metadata": {
    "id": "ONourDG88tv2"
   },
   "outputs": [],
   "source": [
    "class MyClass:\n",
    "    \n",
    "    classattr = 0\n",
    "    \n",
    "    def __init__(self, val):\n",
    "        self.instanceattr = val\n",
    "\n",
    "    def Set(self, val):\n",
    "        type(self).classattr = val  # атрибут объекта класса \n",
    "        self.instanceattr = val     # атрибут объекта инстанса класса\n",
    "    \n",
    "    @staticmethod  # можно вызывать и как obj.statSet(val) и как MyClass.statSet(val)!\n",
    "    def statSet(val):\n",
    "        MyClass.classattr = val\n",
    "        \n",
    "    @classmethod  # передаёт класс первым аргументом\n",
    "    def clsSet(cls, val):\n",
    "        cls.classattr = val"
   ]
  },
  {
   "cell_type": "code",
   "execution_count": null,
   "metadata": {
    "colab": {
     "base_uri": "https://localhost:8080/"
    },
    "id": "jxnts_Is8tv3",
    "outputId": "be9e7e44-5f53-4bed-e359-58cd4ef9133c"
   },
   "outputs": [],
   "source": [
    "obj = MyClass(5)\n",
    "print(f\"{obj.classattr = }, {obj.instanceattr = }\")\n",
    "\n",
    "obj.Set(9)\n",
    "print(f\"{obj.classattr = }, {obj.instanceattr = }\")\n",
    "\n",
    "obj.statSet(4)\n",
    "print(f\"{obj.classattr = }, {obj.instanceattr = }\")\n",
    "\n",
    "MyClass.statSet(3)\n",
    "print(f\"{obj.classattr = }, {obj.instanceattr = }\")\n",
    "\n",
    "MyClass.clsSet(7)\n",
    "print(f\"{obj.classattr = }, {obj.instanceattr = }\")\n",
    "# print('classattr', obj.classattr, 'instanceattr',obj.instanceattr)"
   ]
  },
  {
   "cell_type": "markdown",
   "metadata": {
    "id": "HzwRYbTb8tv3"
   },
   "source": [
    "## Callable"
   ]
  },
  {
   "cell_type": "code",
   "execution_count": null,
   "metadata": {
    "colab": {
     "base_uri": "https://localhost:8080/",
     "height": 169
    },
    "id": "THk-EfqfzBiU",
    "outputId": "1fe33fd5-7066-4d30-daec-2c53c3593c79"
   },
   "outputs": [],
   "source": [
    "5()"
   ]
  },
  {
   "cell_type": "code",
   "execution_count": null,
   "metadata": {
    "colab": {
     "base_uri": "https://localhost:8080/"
    },
    "id": "6Y-SFHOS8tv3",
    "outputId": "4fb7968b-809d-4118-c260-ec29b3783710"
   },
   "outputs": [],
   "source": [
    "class Adder:\n",
    "    def __init__(self, x=0):\n",
    "        self.x = x\n",
    "\n",
    "    def __call__(self, y):\n",
    "        return self.x + y\n",
    "    \n",
    "adder10 = Adder(10)\n",
    "\n",
    "print(adder10.x)\n",
    "\n",
    "print(adder10(32), adder10(3.1415923565))\n",
    "adder42 = Adder(42)\n",
    "print(adder42(8))"
   ]
  },
  {
   "cell_type": "code",
   "execution_count": null,
   "metadata": {
    "colab": {
     "base_uri": "https://localhost:8080/"
    },
    "id": "6Y-SFHOS8tv3",
    "outputId": "4fb7968b-809d-4118-c260-ec29b3783710"
   },
   "outputs": [],
   "source": [
    "adder.x = sum(i ** 2 for i in range(3))\n",
    "\n",
    "adder(0)"
   ]
  },
  {
   "cell_type": "code",
   "execution_count": null,
   "metadata": {
    "colab": {
     "base_uri": "https://localhost:8080/"
    },
    "id": "cWUeKVYK5aIh",
    "outputId": "ae2b1420-cf18-4db3-91d7-e4482290da20"
   },
   "outputs": [],
   "source": [
    "Adder.__call__ = None"
   ]
  },
  {
   "cell_type": "code",
   "execution_count": null,
   "metadata": {
    "colab": {
     "base_uri": "https://localhost:8080/"
    },
    "id": "Jn6mzSqk3q7W",
    "outputId": "3256c716-4180-4c83-aa02-f257775cea7c"
   },
   "outputs": [],
   "source": [
    "prm = Adder(42)\n",
    "prm.x"
   ]
  },
  {
   "cell_type": "code",
   "execution_count": null,
   "metadata": {
    "colab": {
     "base_uri": "https://localhost:8080/",
     "height": 169
    },
    "id": "PcMP3tkl3Weo",
    "outputId": "979a2c3d-7605-4bff-d3d9-034a4b86b292"
   },
   "outputs": [],
   "source": [
    "prm(42)"
   ]
  },
  {
   "cell_type": "code",
   "execution_count": null,
   "metadata": {},
   "outputs": [],
   "source": [
    "range(10)"
   ]
  },
  {
   "cell_type": "code",
   "execution_count": null,
   "metadata": {},
   "outputs": [],
   "source": [
    "range(1, 5, 3)"
   ]
  },
  {
   "cell_type": "code",
   "execution_count": null,
   "metadata": {},
   "outputs": [],
   "source": [
    "range()"
   ]
  },
  {
   "cell_type": "code",
   "execution_count": null,
   "metadata": {},
   "outputs": [],
   "source": []
  },
  {
   "cell_type": "code",
   "execution_count": null,
   "metadata": {},
   "outputs": [],
   "source": [
    "rang = MyRange(10, 6, -1)\n",
    "\n",
    "for x in MyRange(10, 6, -1):\n",
    "    print(x)"
   ]
  },
  {
   "cell_type": "code",
   "execution_count": null,
   "metadata": {},
   "outputs": [],
   "source": [
    "dir(object)"
   ]
  },
  {
   "cell_type": "code",
   "execution_count": null,
   "metadata": {},
   "outputs": [],
   "source": [
    "for x in MyRange(-5):\n",
    "    print(x)"
   ]
  },
  {
   "cell_type": "code",
   "execution_count": null,
   "metadata": {
    "scrolled": true
   },
   "outputs": [],
   "source": [
    "for x in MyRange(10, 6, -1):\n",
    "    print(x)\n",
    "    \n",
    "print()\n",
    "\n",
    "for x in MyRange(3):\n",
    "    print(x)\n",
    "    \n",
    "print()\n",
    "\n",
    "for x in MyRange(3, 6):\n",
    "    print(x)\n",
    "    \n",
    "print()\n",
    "\n",
    "for x in MyRange(3, 8, 2):\n",
    "    print(x)\n",
    "    \n",
    "MyRange(1, 2, 3, 4)"
   ]
  },
  {
   "cell_type": "code",
   "execution_count": null,
   "metadata": {},
   "outputs": [],
   "source": [
    "a = [1, 2, 3]\n",
    "a.append(a)\n",
    "a"
   ]
  }
 ],
 "metadata": {
  "colab": {
   "provenance": []
  },
  "kernelspec": {
   "display_name": "Python 3 (ipykernel)",
   "language": "python",
   "name": "python3"
  },
  "language_info": {
   "codemirror_mode": {
    "name": "ipython",
    "version": 3
   },
   "file_extension": ".py",
   "mimetype": "text/x-python",
   "name": "python",
   "nbconvert_exporter": "python",
   "pygments_lexer": "ipython3",
   "version": "3.8.12"
  }
 },
 "nbformat": 4,
 "nbformat_minor": 1
}
