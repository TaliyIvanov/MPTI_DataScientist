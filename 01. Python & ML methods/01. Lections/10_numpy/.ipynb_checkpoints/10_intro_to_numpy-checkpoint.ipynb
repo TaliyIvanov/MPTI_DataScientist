{
 "cells": [
  {
   "cell_type": "markdown",
   "metadata": {
    "id": "ntCI7OooTvbG"
   },
   "source": [
    "# NumPy\n",
    "[(**Num**eric **Py**thon)](http://www.numpy.org/)"
   ]
  },
  {
   "cell_type": "markdown",
   "metadata": {
    "id": "BU6c2MQ9TvbJ"
   },
   "source": [
    "## Содержание\n",
    " - Особенности Numpy\n",
    " - Некоторые функции\n",
    " - Массивы ndarray и операции с ними\n",
    " - Cпособы создания массива\n",
    " - Индексация\n",
    " - Операции с матрицами и векторами\n",
    " - Полезные функций и методы\n",
    " - Вычисление статистик"
   ]
  },
  {
   "cell_type": "markdown",
   "metadata": {
    "id": "vrbwKsdRTvbO"
   },
   "source": [
    "# <a id=\"Особенности Numpy\"><span style=\"color:green\">Особенности</span></a>\n",
    "\n",
    "**NumPy** - это open-source модуль для Python, который предоставляет общие математические и числовые операции в виде пре-скомпилированных, быстрых функций (использует типы из C, которые существенно быстрее чем Python типы). Они обеспечивают функционал, который можно сравнить с функционалом MatLab.  \n",
    "\n",
    "Возможности:\n",
    "   - поддержка многомерных массивов (включая матрицы);\n",
    "   - поддержка высокоуровневых математических функций, предназначенных для работы с многомерными массивами.  "
   ]
  },
  {
   "cell_type": "markdown",
   "metadata": {
    "id": "G7gM42J6TvbP"
   },
   "source": [
    "**Типы данных в NumPy**"
   ]
  },
  {
   "cell_type": "markdown",
   "metadata": {
    "id": "NLOejZXhTvbQ"
   },
   "source": [
    "В `Python` к числовым типам относятся:\n",
    "   - int\n",
    "   - float\n",
    "   - bool\n",
    "   - complex   \n",
    "   \n",
    "В `numpy` имеются эти типы, а также обёртки над этими типами, которые **используют реализацию типов на C**, например, `int8`, `int16`, `int32`, `int64` (подробнее о типах данных `numpy` можно прочитать [здесь](https://www.numpy.org/devdocs/user/basics.types.html)). За счёт того, что используются типы данных из C, numpy получает ускорение операций."
   ]
  },
  {
   "cell_type": "code",
   "execution_count": null,
   "metadata": {
    "id": "USBh92hETvbR"
   },
   "outputs": [],
   "source": [
    "import numpy as np\n",
    "from tqdm import tqdm_notebook # посмотрите, что делает tqdm_notebook"
   ]
  },
  {
   "cell_type": "markdown",
   "metadata": {
    "id": "t3Qza82ATvbS"
   },
   "source": [
    "# <a id=\"Некоторые функции\"><span style=\"color:green\">Некоторые функции</span></a>\n",
    "\n",
    "В numpy реализовано огромное число функций.\n",
    "Вот некоторые из них:"
   ]
  },
  {
   "cell_type": "markdown",
   "metadata": {
    "id": "LrEDyq-TTvbT"
   },
   "source": [
    "- np.log(x) - натуральный логарифм x\n",
    "- np.log10(x) - десятичный логарифм x\n",
    "- np.log2(x)\n",
    "- np.sqrt(x) - квадратный корень из x\n",
    "- np.power(x, n) - возведение x в степень n\n",
    "- np.abs(x) - модуль x\n",
    "- np.round(x, n) - математическое округление x\n",
    "- np.floor(x) - округление вниз\n",
    "- np.ceil(x) - округление вверх\n",
    "- np.int(x) - округление к нулю\n",
    "- sin(x) - синус\n",
    "- cos(x) - косинус\n",
    "- ... и т. д.."
   ]
  },
  {
   "cell_type": "markdown",
   "metadata": {
    "id": "S3VXJ4eSTvbU"
   },
   "source": [
    "**Примеры**"
   ]
  },
  {
   "cell_type": "markdown",
   "metadata": {
    "id": "QrhZU2IsTvbU"
   },
   "source": [
    "Все аргументы, описание функций легко найти:"
   ]
  },
  {
   "cell_type": "code",
   "execution_count": null,
   "metadata": {
    "id": "nbe9wyrSTvbU"
   },
   "outputs": [],
   "source": [
    "# справка\n",
    "np.log?"
   ]
  },
  {
   "cell_type": "markdown",
   "metadata": {
    "id": "Kcm5hoU2TvbV"
   },
   "source": [
    "Также используйте сочетаия клавиш `Shift + Tab` для получения короткой справки (Работает только в Jupyter Notebook)"
   ]
  },
  {
   "cell_type": "code",
   "execution_count": null,
   "metadata": {
    "colab": {
     "base_uri": "https://localhost:8080/"
    },
    "id": "3GeASL_nTvbV",
    "outputId": "f00cd75c-e6ca-41e0-9a6a-73b3b7f2c5d4"
   },
   "outputs": [
    {
     "data": {
      "text/plain": [
       "2.302585092994046"
      ]
     },
     "execution_count": 21,
     "metadata": {
      "tags": []
     },
     "output_type": "execute_result"
    }
   ],
   "source": [
    "np.log(10, dtype=np.float64)"
   ]
  },
  {
   "cell_type": "code",
   "execution_count": null,
   "metadata": {
    "colab": {
     "base_uri": "https://localhost:8080/"
    },
    "id": "HfUobTqCTvbW",
    "outputId": "683e6d4a-4b9a-44a2-acc5-490f8d1bdc20"
   },
   "outputs": [
    {
     "name": "stderr",
     "output_type": "stream",
     "text": [
      "/usr/local/lib/python3.7/dist-packages/ipykernel_launcher.py:1: RuntimeWarning: divide by zero encountered in log\n",
      "  \"\"\"Entry point for launching an IPython kernel.\n"
     ]
    },
    {
     "data": {
      "text/plain": [
       "-inf"
      ]
     },
     "execution_count": 25,
     "metadata": {
      "tags": []
     },
     "output_type": "execute_result"
    }
   ],
   "source": [
    "np.log(0.)"
   ]
  },
  {
   "cell_type": "code",
   "execution_count": null,
   "metadata": {
    "colab": {
     "base_uri": "https://localhost:8080/"
    },
    "id": "PE91dyhKgxal",
    "outputId": "f2ebbb35-66ab-46af-f09e-fff3ced07e0b"
   },
   "outputs": [
    {
     "data": {
      "text/plain": [
       "True"
      ]
     },
     "execution_count": 23,
     "metadata": {
      "tags": []
     },
     "output_type": "execute_result"
    }
   ],
   "source": [
    "0 == 0."
   ]
  },
  {
   "cell_type": "code",
   "execution_count": null,
   "metadata": {
    "colab": {
     "base_uri": "https://localhost:8080/"
    },
    "id": "embe1ZwMg4Hg",
    "outputId": "3256fe7c-609c-47e4-bf1e-a3e13b2e1003"
   },
   "outputs": [
    {
     "data": {
      "text/plain": [
       "1.0"
      ]
     },
     "execution_count": 24,
     "metadata": {
      "tags": []
     },
     "output_type": "execute_result"
    }
   ],
   "source": [
    "1."
   ]
  },
  {
   "cell_type": "code",
   "execution_count": null,
   "metadata": {
    "colab": {
     "base_uri": "https://localhost:8080/"
    },
    "id": "it5SbUkxTvbW",
    "outputId": "6c583b85-a950-4058-f97f-85530f6f98ca"
   },
   "outputs": [
    {
     "name": "stdout",
     "output_type": "stream",
     "text": [
      "1.0\n",
      "2.0\n"
     ]
    }
   ],
   "source": [
    "print(np.log10(10))\n",
    "print(np.log10(100))"
   ]
  },
  {
   "cell_type": "code",
   "execution_count": null,
   "metadata": {
    "colab": {
     "base_uri": "https://localhost:8080/"
    },
    "id": "4KFscjsuTvbX",
    "outputId": "407efe60-6886-40e6-f72a-04268e71ae5a"
   },
   "outputs": [
    {
     "data": {
      "text/plain": [
       "(4.0, 4.0, 5.0, 4)"
      ]
     },
     "execution_count": 27,
     "metadata": {
      "tags": []
     },
     "output_type": "execute_result"
    }
   ],
   "source": [
    "np.round(4.5), np.floor(4.5), np.ceil(4.5), np.int(4.5)"
   ]
  },
  {
   "cell_type": "code",
   "execution_count": null,
   "metadata": {
    "colab": {
     "base_uri": "https://localhost:8080/"
    },
    "id": "1mtNuCOaTvbX",
    "outputId": "b28431bd-19e2-458d-ff3a-da36baede0cb"
   },
   "outputs": [
    {
     "data": {
      "text/plain": [
       "(-4.0, -5.0, -4.0, -4)"
      ]
     },
     "execution_count": 28,
     "metadata": {
      "tags": []
     },
     "output_type": "execute_result"
    }
   ],
   "source": [
    "np.round(-4.5), np.floor(-4.5), np.ceil(-4.5), np.int(-4.5)"
   ]
  },
  {
   "cell_type": "code",
   "execution_count": null,
   "metadata": {
    "colab": {
     "base_uri": "https://localhost:8080/"
    },
    "id": "DM3BuJKxTvbY",
    "outputId": "e621c1fd-638b-4645-ae7e-7174c56d1c0e"
   },
   "outputs": [
    {
     "data": {
      "text/plain": [
       "(0, numpy.int64)"
      ]
     },
     "execution_count": 29,
     "metadata": {
      "tags": []
     },
     "output_type": "execute_result"
    }
   ],
   "source": [
    "# переполнение!\n",
    "np.power(2, 1000), type(np.power(2, 1000))"
   ]
  },
  {
   "cell_type": "markdown",
   "metadata": {
    "id": "uBRgVtzQTvbY"
   },
   "source": [
    "То же самое но с помощью Python-типа int"
   ]
  },
  {
   "cell_type": "code",
   "execution_count": null,
   "metadata": {
    "colab": {
     "base_uri": "https://localhost:8080/"
    },
    "id": "ArbovcFUTvbY",
    "outputId": "886aa6ef-679f-487a-f045-ee9b939a8add"
   },
   "outputs": [
    {
     "data": {
      "text/plain": [
       "(10715086071862673209484250490600018105614048117055336074437503883703510511249361224931983788156958581275946729175531468251871452856923140435984577574698574803934567774824230985421074605062371141877954182153046474983581941267398767559165543946077062914571196477686542167660429831652624386837205668069376,\n",
       " int)"
      ]
     },
     "execution_count": 30,
     "metadata": {
      "tags": []
     },
     "output_type": "execute_result"
    }
   ],
   "source": [
    "2 ** 1000, type(2 ** 1000) # питоновское возведение в степень"
   ]
  },
  {
   "cell_type": "code",
   "execution_count": null,
   "metadata": {
    "colab": {
     "base_uri": "https://localhost:8080/"
    },
    "id": "3rCXRrX2TvbZ",
    "outputId": "1e000c3a-d89d-4ac7-c36d-63fb1eba257b"
   },
   "outputs": [
    {
     "data": {
      "text/plain": [
       "-1.0"
      ]
     },
     "execution_count": 31,
     "metadata": {
      "tags": []
     },
     "output_type": "execute_result"
    }
   ],
   "source": [
    "np.cos(np.pi)"
   ]
  },
  {
   "cell_type": "code",
   "execution_count": null,
   "metadata": {
    "colab": {
     "base_uri": "https://localhost:8080/"
    },
    "id": "E9qP9JB0Tvba",
    "outputId": "95a48ef7-d220-48f3-884d-5e9e44720205"
   },
   "outputs": [
    {
     "data": {
      "text/plain": [
       "2.718281828459045"
      ]
     },
     "execution_count": 33,
     "metadata": {
      "tags": []
     },
     "output_type": "execute_result"
    }
   ],
   "source": [
    "np.e"
   ]
  },
  {
   "cell_type": "markdown",
   "metadata": {
    "id": "PVcFTwa4Tvbb"
   },
   "source": [
    "# <a id=\"Массивы ndarray и операции с ними\"><span style=\"color:green\">Массивы ndarray и операции с ними</span></a>"
   ]
  },
  {
   "cell_type": "markdown",
   "metadata": {
    "id": "yhot_vrPTvbb"
   },
   "source": [
    "Основным объектом `NumPy` является *однородный* многомерный массив, в numpy он реализован через объект `ndarray`. Массивы (`ndarray`) похожи на списки (`list`), но могут хранить только элементы одного типа. Производить вычисления с массивами гораздо быстрее и эффективнее чем со списками."
   ]
  },
  {
   "cell_type": "markdown",
   "metadata": {
    "id": "ynKMtaNQTvbc"
   },
   "source": [
    "Наиболее важные атрибуты объектов ndarray:\n",
    "1. **`ndarray.ndim`** - число измерений (чаще их называют \"оси\") массива.\n",
    "  \n",
    "2. **`ndarray.shape`** - размеры массива, его форма. Это кортеж натуральных чисел, показывающий длину массива по каждой оси. Для матрицы из n строк и m столбов, shape будет (n,m). Число элементов кортежа shape равно ndim.\n",
    "3. **`ndarray.size`** - количество элементов массива. Очевидно, равно произведению всех элементов атрибута shape.\n",
    "4. **`ndarray.dtype`** - объект, описывающий тип элементов массива. Можно определить dtype, используя стандартные типы данных Python. Можно хранить и numpy типы, например: bool, int16, int32, int64, float16, float32, float64, complex64\n",
    "5. **`ndarray.itemsize`** - размер каждого элемента массива в байтах.\n",
    "6. **`ndarray.data`** - буфер, содержащий фактические элементы массива. Обычно не нужно использовать этот атрибут, так как обращаться к элементам массива проще всего с помощью индексов."
   ]
  },
  {
   "cell_type": "markdown",
   "metadata": {
    "id": "EEfC2-0ETvbd"
   },
   "source": [
    "Одномерный массив"
   ]
  },
  {
   "cell_type": "code",
   "execution_count": null,
   "metadata": {
    "colab": {
     "base_uri": "https://localhost:8080/"
    },
    "id": "05NIWdZgTvbd",
    "outputId": "9a7b89f9-9957-4469-b92a-65d5225e1563"
   },
   "outputs": [
    {
     "data": {
      "text/plain": [
       "numpy.ndarray"
      ]
     },
     "execution_count": 34,
     "metadata": {
      "tags": []
     },
     "output_type": "execute_result"
    }
   ],
   "source": [
    "# создание массива из списка\n",
    "a = np.array([1, 2, 3, 1, 0])\n",
    "type(a)"
   ]
  },
  {
   "cell_type": "code",
   "execution_count": null,
   "metadata": {
    "id": "O8JrloYqTvbe"
   },
   "outputs": [],
   "source": [
    "np.array?"
   ]
  },
  {
   "cell_type": "code",
   "execution_count": null,
   "metadata": {
    "id": "DFWBle7lTvbf"
   },
   "outputs": [],
   "source": [
    "print(a)\n",
    "print(\"a.shape = \", a.shape)\n",
    "print(\"a.ndim =\", a.ndim)\n",
    "print(\"a.size =\", a.size)\n",
    "print(\"a.dtype =\", a.dtype)\n",
    "print(\"Размер каждого элемента массива в байтах a.itemsize =\", a.itemsize)\n",
    "print(\"Обращение к элементу a[0] =\", a[0])"
   ]
  },
  {
   "cell_type": "markdown",
   "metadata": {
    "id": "aLaZiVIzTvbf"
   },
   "source": [
    "Двумерный массив"
   ]
  },
  {
   "cell_type": "code",
   "execution_count": null,
   "metadata": {
    "id": "75jkWpQLTvbg"
   },
   "outputs": [],
   "source": [
    "b = np.array([[1, 8, 3], \n",
    "              [3, 2, 1], \n",
    "              [3, 5, 6]])"
   ]
  },
  {
   "cell_type": "code",
   "execution_count": null,
   "metadata": {
    "colab": {
     "base_uri": "https://localhost:8080/"
    },
    "id": "zw4umI6ETvbg",
    "outputId": "ef2a73d6-f83c-4a96-a6b4-71467f7ab0b5"
   },
   "outputs": [
    {
     "name": "stdout",
     "output_type": "stream",
     "text": [
      "[[1 8 3]\n",
      " [3 2 1]\n",
      " [3 5 6]]\n",
      "a.shape =  (3, 3)\n",
      "a.ndim = 2\n",
      "a.size = 9\n",
      "a.dtype = int64\n",
      "Размер каждого элемента массива в байтах a.itemsize = 8\n",
      "Нулевая строка b[0] = [1 8 3]\n",
      "Обращение к элементу b[строка][столбец]: b[0][1] = 8\n",
      "Обращение к элементу b[строка, столбец]: b[0, 1] = 8\n"
     ]
    }
   ],
   "source": [
    "print(b)\n",
    "print(\"a.shape = \", b.shape)\n",
    "print(\"a.ndim =\", b.ndim)\n",
    "print(\"a.size =\", b.size)\n",
    "print(\"a.dtype =\", b.dtype)\n",
    "print(\"Размер каждого элемента массива в байтах a.itemsize =\", b.itemsize)\n",
    "print(\"Нулевая строка b[0] =\", b[0])\n",
    "print(\"Обращение к элементу b[строка][столбец]: b[0][1] =\", b[0][1])\n",
    "print(\"Обращение к элементу b[строка, столбец]: b[0, 1] =\", b[0, 1])"
   ]
  },
  {
   "cell_type": "markdown",
   "metadata": {
    "id": "qUCeb5xjTvbh"
   },
   "source": [
    "Индексация n-мерных массивов такая же как и для n-мерных списоков."
   ]
  },
  {
   "cell_type": "markdown",
   "metadata": {
    "id": "Ho0N9KKwTvbh"
   },
   "source": [
    "## <a id=\"Cпособы создания массива\"><span style=\"color:green\">Cпособы создания массива</span></a>"
   ]
  },
  {
   "cell_type": "markdown",
   "metadata": {
    "id": "ZQvbz7zPTvbi"
   },
   "source": [
    "- Из списка"
   ]
  },
  {
   "cell_type": "code",
   "execution_count": null,
   "metadata": {
    "colab": {
     "base_uri": "https://localhost:8080/"
    },
    "id": "zRck_VQITvbi",
    "outputId": "7c01fe56-e7e8-492c-d1a4-e3e2aa78e6af"
   },
   "outputs": [
    {
     "name": "stdout",
     "output_type": "stream",
     "text": [
      "[[1 8 3]\n",
      " [3 2 1]\n",
      " [3 5 6]]\n"
     ]
    }
   ],
   "source": [
    "# из списка\n",
    "m = np.array([[1, 8, 3], \n",
    "              [3, 2, 1], \n",
    "              [3, 5, 6]])\n",
    "print(m)"
   ]
  },
  {
   "cell_type": "markdown",
   "metadata": {
    "id": "E5sw68QkTvbi"
   },
   "source": [
    "- Создание единичной матрицы"
   ]
  },
  {
   "cell_type": "code",
   "execution_count": null,
   "metadata": {
    "colab": {
     "base_uri": "https://localhost:8080/"
    },
    "id": "9XXNpnGuTvbj",
    "outputId": "beb3a536-c772-417d-83b3-10bd7291004c"
   },
   "outputs": [
    {
     "name": "stdout",
     "output_type": "stream",
     "text": [
      "[[1. 0. 0.]\n",
      " [0. 1. 0.]\n",
      " [0. 0. 1.]]\n"
     ]
    }
   ],
   "source": [
    "# создание единичной матрицы\n",
    "m = np.eye(3)\n",
    "print(m)"
   ]
  },
  {
   "cell_type": "code",
   "execution_count": null,
   "metadata": {
    "colab": {
     "base_uri": "https://localhost:8080/"
    },
    "id": "6tWj7-oOTvbj",
    "outputId": "7723d379-cd67-42d6-866f-9382bee6d87e"
   },
   "outputs": [
    {
     "name": "stdout",
     "output_type": "stream",
     "text": [
      "[[1. 0. 0. 0.]\n",
      " [0. 1. 0. 0.]\n",
      " [0. 0. 1. 0.]]\n"
     ]
    }
   ],
   "source": [
    "m = np.eye(N=3, M=4) \n",
    "# m = np.eye(3, 4) # аналог первой строчки\n",
    "# m = np.eye(M=4, N=3) # аналог первой строчки\n",
    "print(m)"
   ]
  },
  {
   "cell_type": "code",
   "execution_count": null,
   "metadata": {
    "id": "kUDyufZWjtFa"
   },
   "outputs": [],
   "source": [
    "np.eye?"
   ]
  },
  {
   "cell_type": "markdown",
   "metadata": {
    "id": "JoRP9I9tTvbj"
   },
   "source": [
    "- Создание матрицы из единиц"
   ]
  },
  {
   "cell_type": "code",
   "execution_count": null,
   "metadata": {
    "id": "sEDpvEKpjQvm"
   },
   "outputs": [],
   "source": [
    "np.ones?"
   ]
  },
  {
   "cell_type": "code",
   "execution_count": null,
   "metadata": {
    "colab": {
     "base_uri": "https://localhost:8080/"
    },
    "id": "f-tPC_nlTvbk",
    "outputId": "659a2b81-e576-47a6-9b97-1255bcfc5ce4"
   },
   "outputs": [
    {
     "name": "stdout",
     "output_type": "stream",
     "text": [
      "[[1. 1. 1. 1.]\n",
      " [1. 1. 1. 1.]\n",
      " [1. 1. 1. 1.]\n",
      " [1. 1. 1. 1.]\n",
      " [1. 1. 1. 1.]]\n"
     ]
    }
   ],
   "source": [
    "# создание матрицы из единиц\n",
    "# m = np.ones(5, 4) # ошибка \n",
    "m = np.ones((5, 4))\n",
    "print(m)"
   ]
  },
  {
   "cell_type": "code",
   "execution_count": null,
   "metadata": {
    "colab": {
     "base_uri": "https://localhost:8080/"
    },
    "id": "WdU_dBCVTvbk",
    "outputId": "6da46d5e-e6ee-4954-9bfa-86fb1d80592d"
   },
   "outputs": [
    {
     "name": "stdout",
     "output_type": "stream",
     "text": [
      "[1. 1. 1. 1. 1.]\n",
      "(5,)\n",
      "<class 'numpy.float64'>\n"
     ]
    }
   ],
   "source": [
    "m = np.ones(5)\n",
    "print(m)\n",
    "print(m.shape)\n",
    "print(type(m[1]))"
   ]
  },
  {
   "cell_type": "markdown",
   "metadata": {
    "id": "fFqVXRiQTvbk"
   },
   "source": [
    "- Создание матрицы из нулей"
   ]
  },
  {
   "cell_type": "code",
   "execution_count": null,
   "metadata": {
    "colab": {
     "base_uri": "https://localhost:8080/"
    },
    "id": "P--vhCrxTvbl",
    "outputId": "8763f122-54d1-4daa-a302-9992e99bdf68"
   },
   "outputs": [
    {
     "name": "stdout",
     "output_type": "stream",
     "text": [
      "[[0.]\n",
      " [0.]\n",
      " [0.]\n",
      " [0.]]\n",
      "(4, 1)\n",
      "2\n"
     ]
    }
   ],
   "source": [
    "# создание матрицы из нулей\n",
    "m = np.zeros((4, 1))\n",
    "print(m)\n",
    "print(m.shape)\n",
    "print(m.ndim)"
   ]
  },
  {
   "cell_type": "code",
   "execution_count": null,
   "metadata": {
    "colab": {
     "base_uri": "https://localhost:8080/"
    },
    "id": "cZQR5E5FTvbl",
    "outputId": "d8fdb03a-0f07-45cf-9b46-4dcd036a2f92"
   },
   "outputs": [
    {
     "name": "stdout",
     "output_type": "stream",
     "text": [
      "[0. 0. 0. 0.]\n"
     ]
    }
   ],
   "source": [
    "# создание вектора из нулей\n",
    "v = np.zeros(4)\n",
    "print(v)"
   ]
  },
  {
   "cell_type": "markdown",
   "metadata": {
    "id": "1aVx8_pITvbl"
   },
   "source": [
    "- **Создание массива из диапазона**"
   ]
  },
  {
   "cell_type": "markdown",
   "metadata": {
    "id": "yzIPvqzcTvbm"
   },
   "source": [
    "   - создание массива из диапазона значений [start, end)"
   ]
  },
  {
   "cell_type": "code",
   "execution_count": null,
   "metadata": {
    "colab": {
     "base_uri": "https://localhost:8080/"
    },
    "id": "Jdf5e5VeTvbm",
    "outputId": "aac6d055-6455-4be8-9d58-5467a2279574"
   },
   "outputs": [
    {
     "name": "stdout",
     "output_type": "stream",
     "text": [
      "[0 2 4 6 8]\n",
      "[0 1 2 3 4 5 6 7 8 9]\n"
     ]
    }
   ],
   "source": [
    "# np.arrange(start=0, stop, step=1)\n",
    "m = np.arange(0, 10, 2)\n",
    "print(m)\n",
    "m = np.arange(10)\n",
    "print(m)"
   ]
  },
  {
   "cell_type": "markdown",
   "metadata": {
    "id": "yPFbknBfTvbm"
   },
   "source": [
    "<span style=\"color:blue\">Создайте матрицу 5x5 со значениями строк в диапазоне от 0 до 4</span>"
   ]
  },
  {
   "cell_type": "code",
   "execution_count": null,
   "metadata": {
    "colab": {
     "base_uri": "https://localhost:8080/"
    },
    "id": "VN0YZXyyTvbn",
    "outputId": "58f17e06-44fb-4989-a444-4e2b62104f55",
    "scrolled": true
   },
   "outputs": [
    {
     "data": {
      "text/plain": [
       "array([[0., 0., 0., 0., 0.],\n",
       "       [0., 0., 0., 0., 0.],\n",
       "       [0., 0., 0., 0., 0.],\n",
       "       [0., 0., 0., 0., 0.],\n",
       "       [0., 0., 0., 0., 0.]])"
      ]
     },
     "execution_count": 55,
     "metadata": {
      "tags": []
     },
     "output_type": "execute_result"
    }
   ],
   "source": [
    "m = np.zeros((5, 5))\n",
    "m"
   ]
  },
  {
   "cell_type": "code",
   "execution_count": null,
   "metadata": {
    "colab": {
     "base_uri": "https://localhost:8080/"
    },
    "id": "MRnmW0e3Tvbn",
    "outputId": "0aa09771-5b79-4151-d197-a75ecd28fa3d"
   },
   "outputs": [
    {
     "data": {
      "text/plain": [
       "array([0, 1, 2, 3, 4])"
      ]
     },
     "execution_count": 56,
     "metadata": {
      "tags": []
     },
     "output_type": "execute_result"
    }
   ],
   "source": [
    "np.arange(5)"
   ]
  },
  {
   "cell_type": "code",
   "execution_count": null,
   "metadata": {
    "colab": {
     "base_uri": "https://localhost:8080/"
    },
    "id": "HCozSgIKTvbn",
    "outputId": "975a40b8-6abe-4b9e-9120-73abb2e261e5"
   },
   "outputs": [
    {
     "name": "stdout",
     "output_type": "stream",
     "text": [
      "[[0. 1. 2. 3. 4.]\n",
      " [0. 1. 2. 3. 4.]\n",
      " [0. 1. 2. 3. 4.]\n",
      " [0. 1. 2. 3. 4.]\n",
      " [0. 1. 2. 3. 4.]]\n"
     ]
    }
   ],
   "source": [
    "m = np.zeros((5, 5))\n",
    "m += np.arange(5)\n",
    "print(m)"
   ]
  },
  {
   "cell_type": "markdown",
   "metadata": {
    "id": "Az1Kocx-Tvbo"
   },
   "source": [
    "- создание массива из диапазона значений [start, stop] с заданием кол-ва точек"
   ]
  },
  {
   "cell_type": "code",
   "execution_count": null,
   "metadata": {
    "colab": {
     "base_uri": "https://localhost:8080/"
    },
    "id": "i0oieP9yTvbo",
    "outputId": "06ba9612-9ae1-4f68-d411-a581424cc310"
   },
   "outputs": [
    {
     "name": "stdout",
     "output_type": "stream",
     "text": [
      "[0. 1. 2. 3.]\n"
     ]
    }
   ],
   "source": [
    "m = np.linspace(0, 3, 4)\n",
    "print(m)"
   ]
  },
  {
   "cell_type": "code",
   "execution_count": null,
   "metadata": {
    "id": "RQLat0jwlQcw"
   },
   "outputs": [],
   "source": [
    "np.linspace?"
   ]
  },
  {
   "cell_type": "markdown",
   "metadata": {
    "id": "3XLcJPStTvbp"
   },
   "source": [
    "- создание массива из диапазона [$base^{start}$, $base^{end}$]"
   ]
  },
  {
   "cell_type": "code",
   "execution_count": null,
   "metadata": {
    "colab": {
     "base_uri": "https://localhost:8080/"
    },
    "id": "Bn7x2OfKTvbp",
    "outputId": "0f09af51-3c1c-44a1-8f9d-72f088448eaf"
   },
   "outputs": [
    {
     "name": "stdout",
     "output_type": "stream",
     "text": [
      "[ 4.  8. 16. 32.]\n"
     ]
    }
   ],
   "source": [
    "# np.logspace(start, end, num=50, base=10)\n",
    "m = np.logspace(2.0, 5.0, num=4, base=2.0)\n",
    "print(m)"
   ]
  },
  {
   "cell_type": "markdown",
   "metadata": {
    "id": "H_fKxsMyTvbq"
   },
   "source": [
    "- **Создание массива из случайных чисел**"
   ]
  },
  {
   "cell_type": "code",
   "execution_count": null,
   "metadata": {
    "id": "lI4JHgVBTvbq"
   },
   "outputs": [],
   "source": [
    "np.random.seed(42)"
   ]
  },
  {
   "cell_type": "markdown",
   "metadata": {
    "id": "SMRaRLCbTvbq"
   },
   "source": [
    "В `numpy` есть аналог модуля `random` - `numpy.random`. Используя типизацию из C, он как и свой аналог генерирует случайные данные."
   ]
  },
  {
   "cell_type": "code",
   "execution_count": null,
   "metadata": {
    "colab": {
     "base_uri": "https://localhost:8080/"
    },
    "id": "2ctKLUqrTvbr",
    "outputId": "0a6f7088-419f-4d49-e1e4-806d57afb389"
   },
   "outputs": [
    {
     "name": "stdout",
     "output_type": "stream",
     "text": [
      "[[0.37454012 0.95071431]\n",
      " [0.73199394 0.59865848]]\n",
      "(2, 2)\n"
     ]
    }
   ],
   "source": [
    "# массив чисел из равномерного (uniform) распределения в диапазоне [0, 1)\n",
    "# np.random.rand(d0, d1, d3, ...) d0, d1,... - pазмеры возвращаемого массива\n",
    "print(np.random.rand(2, 2))\n",
    "print(np.random.rand(2, 2).shape)"
   ]
  },
  {
   "cell_type": "code",
   "execution_count": null,
   "metadata": {
    "id": "hwSdXvu7mNbO"
   },
   "outputs": [],
   "source": [
    "np.random.rand?"
   ]
  },
  {
   "cell_type": "code",
   "execution_count": null,
   "metadata": {
    "colab": {
     "base_uri": "https://localhost:8080/"
    },
    "id": "2QCVQmJNTvbs",
    "outputId": "bf85de9c-f5ea-4c7c-b0a0-bb6f156be9c6"
   },
   "outputs": [
    {
     "data": {
      "text/plain": [
       "array([[[-0.90802408, -1.4123037 ],\n",
       "        [ 1.46564877, -0.2257763 ],\n",
       "        [ 0.0675282 , -1.42474819]],\n",
       "\n",
       "       [[-0.54438272,  0.11092259],\n",
       "        [-1.15099358,  0.37569802],\n",
       "        [-0.60063869, -0.29169375]]])"
      ]
     },
     "execution_count": 65,
     "metadata": {
      "tags": []
     },
     "output_type": "execute_result"
    }
   ],
   "source": [
    "# массив чисел из стандартного нормального (norm) распределения\n",
    "# нормальное распределение в заданном shape\n",
    "np.random.randn(2, 3, 2)"
   ]
  },
  {
   "cell_type": "code",
   "execution_count": null,
   "metadata": {
    "colab": {
     "base_uri": "https://localhost:8080/"
    },
    "id": "tbfo_0YSTvbs",
    "outputId": "0b8ddcd5-5456-48bb-d9e7-b6c27d164b6b"
   },
   "outputs": [
    {
     "data": {
      "text/plain": [
       "array([17, 18,  1,  5,  3, 15,  7, 11, 16,  8])"
      ]
     },
     "execution_count": 73,
     "metadata": {
      "tags": []
     },
     "output_type": "execute_result"
    }
   ],
   "source": [
    "# массив из случайно выбранных чисел\n",
    "# size - размер возвращаемого массива, reaplce=False без замещения\n",
    "np.random.choice(a=np.arange(20), size=10, replace=False)"
   ]
  },
  {
   "cell_type": "code",
   "execution_count": null,
   "metadata": {
    "id": "UQmU_WlomsTI"
   },
   "outputs": [],
   "source": [
    "np.random.choice?"
   ]
  },
  {
   "cell_type": "code",
   "execution_count": null,
   "metadata": {
    "colab": {
     "base_uri": "https://localhost:8080/"
    },
    "id": "gCgRaE5gTvbt",
    "outputId": "198fd95f-152a-4e86-ee54-b2341da6c9d6"
   },
   "outputs": [
    {
     "data": {
      "text/plain": [
       "array([[ 6, 12, 14],\n",
       "       [10,  3, 12],\n",
       "       [ 6, 18,  1],\n",
       "       [ 9, 12,  5],\n",
       "       [11, 11, 19]])"
      ]
     },
     "execution_count": 74,
     "metadata": {
      "tags": []
     },
     "output_type": "execute_result"
    }
   ],
   "source": [
    "np.random.choice(a=np.arange(20), size=(5, 3), replace=True)"
   ]
  },
  {
   "cell_type": "markdown",
   "metadata": {
    "id": "pfUOf0LOTvbt"
   },
   "source": [
    "**А что со временем?**"
   ]
  },
  {
   "cell_type": "code",
   "execution_count": null,
   "metadata": {
    "id": "L6DZ-cKgWcWT"
   },
   "outputs": [],
   "source": [
    "import numpy as np"
   ]
  },
  {
   "cell_type": "code",
   "execution_count": null,
   "metadata": {
    "colab": {
     "base_uri": "https://localhost:8080/"
    },
    "id": "VfJH16c2VpSm",
    "outputId": "a3d96661-4616-4819-c840-0996bb4b94e1"
   },
   "outputs": [
    {
     "name": "stdout",
     "output_type": "stream",
     "text": [
      "CPU times: user 1.34 s, sys: 2.14 s, total: 3.48 s\n",
      "Wall time: 3.45 s\n"
     ]
    }
   ],
   "source": [
    "%%time\n",
    "a = list(range(10 ** 8))\n",
    "#  %%time - выводит время выполнения ячейки"
   ]
  },
  {
   "cell_type": "code",
   "execution_count": null,
   "metadata": {
    "colab": {
     "base_uri": "https://localhost:8080/"
    },
    "id": "YKAobWpqWSxO",
    "outputId": "09516052-85e4-4e7c-8a78-7129257664a7"
   },
   "outputs": [
    {
     "name": "stdout",
     "output_type": "stream",
     "text": [
      "CPU times: user 73 ms, sys: 245 ms, total: 318 ms\n",
      "Wall time: 319 ms\n"
     ]
    }
   ],
   "source": [
    "%%time\n",
    "a_numpy = np.arange(10 ** 8)"
   ]
  },
  {
   "cell_type": "code",
   "execution_count": null,
   "metadata": {
    "colab": {
     "base_uri": "https://localhost:8080/"
    },
    "id": "08kZxT6soeuc",
    "outputId": "0e699189-e525-4742-f8b1-16be04f1306e"
   },
   "outputs": [
    {
     "data": {
      "text/plain": [
       "numpy.ndarray"
      ]
     },
     "execution_count": 83,
     "metadata": {
      "tags": []
     },
     "output_type": "execute_result"
    }
   ],
   "source": [
    "type(a_numpy)"
   ]
  },
  {
   "cell_type": "code",
   "execution_count": null,
   "metadata": {
    "colab": {
     "base_uri": "https://localhost:8080/"
    },
    "id": "tXIJVqjDWodc",
    "outputId": "dfd8c24f-a83d-4b83-b2f9-03a00471e086"
   },
   "outputs": [
    {
     "name": "stdout",
     "output_type": "stream",
     "text": [
      "CPU times: user 18.5 s, sys: 0 ns, total: 18.5 s\n",
      "Wall time: 18.5 s\n"
     ]
    }
   ],
   "source": [
    "%%time\n",
    "for idx, elem in enumerate(a):\n",
    "    a[idx] = elem * 2"
   ]
  },
  {
   "cell_type": "code",
   "execution_count": null,
   "metadata": {
    "colab": {
     "base_uri": "https://localhost:8080/"
    },
    "id": "McLl0P_mTvbu",
    "outputId": "2a5ed227-1d71-463f-f406-33d75cae37c5",
    "scrolled": false
   },
   "outputs": [
    {
     "name": "stdout",
     "output_type": "stream",
     "text": [
      "CPU times: user 230 ms, sys: 420 ms, total: 649 ms\n",
      "Wall time: 648 ms\n"
     ]
    }
   ],
   "source": [
    "%%time\n",
    "b = np.arange(1, 10 ** 8 + 1, dtype=np.float64)\n",
    "b = b * 2"
   ]
  },
  {
   "cell_type": "code",
   "execution_count": null,
   "metadata": {
    "colab": {
     "base_uri": "https://localhost:8080/"
    },
    "id": "kNSdjYGwoBlX",
    "outputId": "8dcc4069-4de5-4c02-8a01-f090bcb93f12"
   },
   "outputs": [
    {
     "data": {
      "text/plain": [
       "[0, 1, 2, 3, 4, 5, 6, 7, 8, 9, 0, 1, 2, 3, 4, 5, 6, 7, 8, 9]"
      ]
     },
     "execution_count": 80,
     "metadata": {
      "tags": []
     },
     "output_type": "execute_result"
    }
   ],
   "source": [
    "a = list(range(10))\n",
    "a * 2"
   ]
  },
  {
   "cell_type": "markdown",
   "metadata": {
    "id": "XpWzXNidTvbu"
   },
   "source": [
    "**Вывод:** старайтесь использовать векторизированные вычисления!"
   ]
  },
  {
   "cell_type": "markdown",
   "metadata": {
    "id": "I3ocxdEFTvbu"
   },
   "source": [
    "## <a id=\"Индексация\"> <span style=\"color:green\">Индексация</span></a>"
   ]
  },
  {
   "cell_type": "code",
   "execution_count": null,
   "metadata": {
    "colab": {
     "base_uri": "https://localhost:8080/"
    },
    "id": "YtNr04tLTvbv",
    "outputId": "c1eacb68-14fb-4888-9e24-9e55c4d2773f"
   },
   "outputs": [
    {
     "name": "stdout",
     "output_type": "stream",
     "text": [
      "[[1 8 3]\n",
      " [3 2 1]\n",
      " [3 5 6]]\n"
     ]
    }
   ],
   "source": [
    "m = np.array([[1, 8, 3], \n",
    "              [3, 2, 1], \n",
    "              [3, 5, 6]])\n",
    "print(m)"
   ]
  },
  {
   "cell_type": "code",
   "execution_count": null,
   "metadata": {
    "colab": {
     "base_uri": "https://localhost:8080/"
    },
    "id": "vBJ443QKTvbw",
    "outputId": "6ba9e7b0-0516-48cf-fd60-b28926c39cda"
   },
   "outputs": [
    {
     "data": {
      "text/plain": [
       "array([3, 5, 6])"
      ]
     },
     "execution_count": 82,
     "metadata": {
      "tags": []
     },
     "output_type": "execute_result"
    }
   ],
   "source": [
    "# третья строка (вторая если считать с 0)\n",
    "m[2]"
   ]
  },
  {
   "cell_type": "code",
   "execution_count": null,
   "metadata": {
    "colab": {
     "base_uri": "https://localhost:8080/"
    },
    "id": "VB3E8Q4XTvbw",
    "outputId": "f50116f8-9dd3-44d4-b05e-2f6c147e099b"
   },
   "outputs": [
    {
     "data": {
      "text/plain": [
       "array([3, 5, 6])"
      ]
     },
     "execution_count": 84,
     "metadata": {
      "tags": []
     },
     "output_type": "execute_result"
    }
   ],
   "source": [
    "# третья строка (вторая если считать с 0)\n",
    "m[2, :]"
   ]
  },
  {
   "cell_type": "code",
   "execution_count": null,
   "metadata": {
    "colab": {
     "base_uri": "https://localhost:8080/"
    },
    "id": "JWLqRvwZTvbw",
    "outputId": "c1f438c7-fe49-4750-bc94-77b4ee0b4209"
   },
   "outputs": [
    {
     "data": {
      "text/plain": [
       "array([8, 2, 5])"
      ]
     },
     "execution_count": 87,
     "metadata": {
      "tags": []
     },
     "output_type": "execute_result"
    }
   ],
   "source": [
    "# второй столбец\n",
    "m[:, 1]"
   ]
  },
  {
   "cell_type": "code",
   "execution_count": null,
   "metadata": {
    "colab": {
     "base_uri": "https://localhost:8080/"
    },
    "id": "sjxk0m_kqK2r",
    "outputId": "ea57b55e-540c-4520-9443-08f4ce1adaab"
   },
   "outputs": [
    {
     "data": {
      "text/plain": [
       "[0, 1, 2, 3, 4, 5, 6, 7, 8, 9]"
      ]
     },
     "execution_count": 100,
     "metadata": {
      "tags": []
     },
     "output_type": "execute_result"
    }
   ],
   "source": [
    "# как было со списками\n",
    "a[:]"
   ]
  },
  {
   "cell_type": "code",
   "execution_count": null,
   "metadata": {
    "colab": {
     "base_uri": "https://localhost:8080/"
    },
    "id": "YBP5R9WuqSLs",
    "outputId": "d8d0f50f-0573-4937-eead-44c731076196"
   },
   "outputs": [
    {
     "data": {
      "text/plain": [
       "[[0, 1, 2, 3, 4, 5, 6, 7, 8, 9],\n",
       " [0, 1, 2, 3, 4, 5, 6, 7, 8, 9],\n",
       " [0, 1, 2, 3, 4, 5, 6, 7, 8, 9],\n",
       " [0, 1, 2, 3, 4, 5, 6, 7, 8, 9],\n",
       " [0, 1, 2, 3, 4, 5, 6, 7, 8, 9]]"
      ]
     },
     "execution_count": 102,
     "metadata": {
      "tags": []
     },
     "output_type": "execute_result"
    }
   ],
   "source": [
    "a = [[i for i in range(10)] for i in range(5)]\n",
    "a"
   ]
  },
  {
   "cell_type": "code",
   "execution_count": null,
   "metadata": {
    "colab": {
     "base_uri": "https://localhost:8080/",
     "height": 166
    },
    "id": "YoA4-b7KqsX_",
    "outputId": "ff0617a6-db44-4ea5-9bd5-fe100e150d51"
   },
   "outputs": [
    {
     "ename": "TypeError",
     "evalue": "ignored",
     "output_type": "error",
     "traceback": [
      "\u001b[0;31m---------------------------------------------------------------------------\u001b[0m",
      "\u001b[0;31mTypeError\u001b[0m                                 Traceback (most recent call last)",
      "\u001b[0;32m<ipython-input-105-d1b32f8442d7>\u001b[0m in \u001b[0;36m<module>\u001b[0;34m()\u001b[0m\n\u001b[0;32m----> 1\u001b[0;31m \u001b[0ma\u001b[0m\u001b[0;34m[\u001b[0m\u001b[0;36m1\u001b[0m\u001b[0;34m,\u001b[0m \u001b[0;34m:\u001b[0m\u001b[0;34m]\u001b[0m\u001b[0;34m\u001b[0m\u001b[0;34m\u001b[0m\u001b[0m\n\u001b[0m",
      "\u001b[0;31mTypeError\u001b[0m: list indices must be integers or slices, not tuple"
     ]
    }
   ],
   "source": [
    "a[1, :]"
   ]
  },
  {
   "cell_type": "code",
   "execution_count": null,
   "metadata": {
    "colab": {
     "base_uri": "https://localhost:8080/"
    },
    "id": "B-E1pHkxrOxd",
    "outputId": "799b4edf-c44f-43f8-cd05-cbd8698bcbc8"
   },
   "outputs": [
    {
     "data": {
      "text/plain": [
       "array([[0, 1, 2, 3, 4, 5, 6, 7, 8, 9],\n",
       "       [0, 1, 2, 3, 4, 5, 6, 7, 8, 9],\n",
       "       [0, 1, 2, 3, 4, 5, 6, 7, 8, 9],\n",
       "       [0, 1, 2, 3, 4, 5, 6, 7, 8, 9],\n",
       "       [0, 1, 2, 3, 4, 5, 6, 7, 8, 9]])"
      ]
     },
     "execution_count": 106,
     "metadata": {
      "tags": []
     },
     "output_type": "execute_result"
    }
   ],
   "source": [
    "a_np = np.array(a)\n",
    "a_np"
   ]
  },
  {
   "cell_type": "code",
   "execution_count": null,
   "metadata": {
    "colab": {
     "base_uri": "https://localhost:8080/"
    },
    "id": "lsX1tUrQrVG4",
    "outputId": "9c7fa8dd-ca33-4c00-c1e1-509cb8c7d5ff"
   },
   "outputs": [
    {
     "data": {
      "text/plain": [
       "array([[2, 4, 6],\n",
       "       [2, 4, 6],\n",
       "       [2, 4, 6]])"
      ]
     },
     "execution_count": 110,
     "metadata": {
      "tags": []
     },
     "output_type": "execute_result"
    }
   ],
   "source": [
    "a_np[:3, 2:7:2]"
   ]
  },
  {
   "cell_type": "markdown",
   "metadata": {
    "id": "JjKUwiVoTvbx"
   },
   "source": [
    "Выделение \"подматрицы\""
   ]
  },
  {
   "cell_type": "code",
   "execution_count": null,
   "metadata": {
    "colab": {
     "base_uri": "https://localhost:8080/"
    },
    "id": "VZgO2lmApBic",
    "outputId": "a74eefbc-50db-4f0d-a2b5-c3b07e2acd45"
   },
   "outputs": [
    {
     "data": {
      "text/plain": [
       "array([[1, 8, 3],\n",
       "       [3, 2, 1],\n",
       "       [3, 5, 6]])"
      ]
     },
     "execution_count": 89,
     "metadata": {
      "tags": []
     },
     "output_type": "execute_result"
    }
   ],
   "source": [
    "m"
   ]
  },
  {
   "cell_type": "code",
   "execution_count": null,
   "metadata": {
    "colab": {
     "base_uri": "https://localhost:8080/"
    },
    "id": "NsBvjNg1Tvbx",
    "outputId": "05ac2ae5-361c-4792-924b-b68d09f1c530"
   },
   "outputs": [
    {
     "data": {
      "text/plain": [
       "array([1, 3])"
      ]
     },
     "execution_count": 88,
     "metadata": {
      "tags": []
     },
     "output_type": "execute_result"
    }
   ],
   "source": [
    "# возьмем только нулевую и вторую строки в 0 столбце\n",
    "# m [список строк, список столбцов]\n",
    "m[[0, 2], [0]]"
   ]
  },
  {
   "cell_type": "code",
   "execution_count": null,
   "metadata": {
    "colab": {
     "base_uri": "https://localhost:8080/",
     "height": 183
    },
    "id": "5L0ma4l6Tvby",
    "outputId": "89a9eaef-a165-4a5e-ce18-c482e475ca39"
   },
   "outputs": [
    {
     "ename": "IndexError",
     "evalue": "ignored",
     "output_type": "error",
     "traceback": [
      "\u001b[0;31m---------------------------------------------------------------------------\u001b[0m",
      "\u001b[0;31mIndexError\u001b[0m                                Traceback (most recent call last)",
      "\u001b[0;32m<ipython-input-90-23da4fc6db4b>\u001b[0m in \u001b[0;36m<module>\u001b[0;34m()\u001b[0m\n\u001b[0;32m----> 1\u001b[0;31m \u001b[0mm\u001b[0m\u001b[0;34m[\u001b[0m\u001b[0;34m[\u001b[0m\u001b[0;36m0\u001b[0m\u001b[0;34m,\u001b[0m \u001b[0;36m2\u001b[0m\u001b[0;34m]\u001b[0m\u001b[0;34m,\u001b[0m \u001b[0;34m[\u001b[0m\u001b[0;36m0\u001b[0m\u001b[0;34m,\u001b[0m \u001b[0;36m1\u001b[0m\u001b[0;34m,\u001b[0m \u001b[0;36m2\u001b[0m\u001b[0;34m]\u001b[0m\u001b[0;34m]\u001b[0m\u001b[0;34m\u001b[0m\u001b[0;34m\u001b[0m\u001b[0m\n\u001b[0m",
      "\u001b[0;31mIndexError\u001b[0m: shape mismatch: indexing arrays could not be broadcast together with shapes (2,) (3,) "
     ]
    }
   ],
   "source": [
    "m[[0, 2], [0, 1, 2]]"
   ]
  },
  {
   "cell_type": "code",
   "execution_count": null,
   "metadata": {
    "colab": {
     "base_uri": "https://localhost:8080/"
    },
    "id": "ZurBLziXYvsE",
    "outputId": "b6c867dd-fa8d-49b2-86c8-87bfe953f463"
   },
   "outputs": [
    {
     "data": {
      "text/plain": [
       "array([[1, 8, 3],\n",
       "       [3, 2, 1],\n",
       "       [3, 5, 6]])"
      ]
     },
     "execution_count": 96,
     "metadata": {
      "tags": []
     },
     "output_type": "execute_result"
    }
   ],
   "source": [
    "m"
   ]
  },
  {
   "cell_type": "code",
   "execution_count": null,
   "metadata": {
    "colab": {
     "base_uri": "https://localhost:8080/"
    },
    "id": "WriyY7aLpqhJ",
    "outputId": "2825ea09-5fde-4530-abdb-f6b2c42ce035"
   },
   "outputs": [
    {
     "data": {
      "text/plain": [
       "(array([[0],\n",
       "        [2]]), array([[0, 2]]))"
      ]
     },
     "execution_count": 97,
     "metadata": {
      "tags": []
     },
     "output_type": "execute_result"
    }
   ],
   "source": [
    "np.ix_([0, 2], [0, 2])"
   ]
  },
  {
   "cell_type": "code",
   "execution_count": null,
   "metadata": {
    "id": "uMRsItLDTvbz"
   },
   "outputs": [],
   "source": [
    "m_dop = m[np.ix_([0, 2], [0, 2])]"
   ]
  },
  {
   "cell_type": "code",
   "execution_count": null,
   "metadata": {
    "colab": {
     "base_uri": "https://localhost:8080/"
    },
    "id": "cHQpgQkYpe7J",
    "outputId": "5a685ff9-c60d-42a9-b55a-c98d60142f49"
   },
   "outputs": [
    {
     "data": {
      "text/plain": [
       "array([[1, 3],\n",
       "       [3, 6]])"
      ]
     },
     "execution_count": 99,
     "metadata": {
      "tags": []
     },
     "output_type": "execute_result"
    }
   ],
   "source": [
    "m_dop"
   ]
  },
  {
   "cell_type": "markdown",
   "metadata": {
    "id": "htiw2Mf4Tvbz"
   },
   "source": [
    "## <a id=\"Операции с матрицами и векторами\"><span style=\"color:green\">Операции с матрицами и векторами</span></a>"
   ]
  },
  {
   "cell_type": "markdown",
   "metadata": {
    "id": "2nyPZWkMTvbz"
   },
   "source": [
    "В NumPy двумерный массив можно рассматривать и как матрицу, то есть для него определены все матричные операции. Одномерный массив также можно рассматривать как вектор."
   ]
  },
  {
   "cell_type": "markdown",
   "metadata": {
    "id": "PVQiG6OfTvbz"
   },
   "source": [
    "**Транспонирование**"
   ]
  },
  {
   "cell_type": "markdown",
   "metadata": {
    "id": "Ae8WPQQJTvb0"
   },
   "source": [
    "Транспонированной матрицей $A^{T}$ называется матрица, полученная из исходной матрицы $A$ путем замены строк на столбцы."
   ]
  },
  {
   "cell_type": "code",
   "execution_count": null,
   "metadata": {
    "colab": {
     "base_uri": "https://localhost:8080/"
    },
    "id": "UiupbJ8xTvb0",
    "outputId": "a74fc7d5-5da0-4e79-ad02-b6f383116f59"
   },
   "outputs": [
    {
     "name": "stdout",
     "output_type": "stream",
     "text": [
      "[[ 1 12  3  4]\n",
      " [ 3  2 10  2]\n",
      " [ 3 56  6 11]]\n",
      "\n",
      "[[ 1  3  3]\n",
      " [12  2 56]\n",
      " [ 3 10  6]\n",
      " [ 4  2 11]]\n"
     ]
    }
   ],
   "source": [
    "m = np.array([[1, 12, 3, 4], \n",
    "              [3, 2, 10, 2], \n",
    "              [3, 56, 6, 11]])\n",
    "print(m)\n",
    "print()\n",
    "print(m.T)"
   ]
  },
  {
   "cell_type": "markdown",
   "metadata": {
    "id": "5xFICzJ5Tvb0"
   },
   "source": [
    "**Скалярное произведение векторов**"
   ]
  },
  {
   "cell_type": "markdown",
   "metadata": {
    "collapsed": true,
    "id": "tZ15kMMgTvb0"
   },
   "source": [
    "Рассмотрим два вектора $a$ и $b$ в n-мерном пространстве  \n",
    "$a = (a_1, a_2, a_3, \\dots a_n)$   \n",
    "$b = (b_1, b_2, b_3, \\dots b_n)$   \n",
    "Скалярное произведение векторов $a$ и $b$ определяется следующим образом:  \n",
    "$$\\langle a, b \\rangle = a_1 b_1 + a_2 b_2 + a_3 b_3 \\dots + a_n b_n = \\sum_{i = 1}^{n} a_i b_i$$"
   ]
  },
  {
   "cell_type": "code",
   "execution_count": null,
   "metadata": {
    "colab": {
     "base_uri": "https://localhost:8080/"
    },
    "id": "ydz8oH5_vWQs",
    "outputId": "186c5139-ecfe-4dec-a84c-4276c84fcdb9"
   },
   "outputs": [
    {
     "name": "stdout",
     "output_type": "stream",
     "text": [
      "[1]\n"
     ]
    }
   ],
   "source": [
    "lst = list()\n",
    "lst.append(1)\n",
    "print(lst)"
   ]
  },
  {
   "cell_type": "code",
   "execution_count": null,
   "metadata": {
    "colab": {
     "base_uri": "https://localhost:8080/"
    },
    "id": "qGgYjq2kTvb1",
    "outputId": "d7555f25-4047-4821-f7cf-a991fbcf6189"
   },
   "outputs": [
    {
     "name": "stdout",
     "output_type": "stream",
     "text": [
      "29\n",
      "29\n",
      "29\n"
     ]
    }
   ],
   "source": [
    "a = np.array([3, 1, 5, 2])\n",
    "b = np.array([2, 5, 2, 4])\n",
    "# <a, b> = 3*1 + 1*5 + 5*2 + 2*4\n",
    "print(a @ b)    # python 3 style\n",
    "print(a.dot(b)) \n",
    "print(np.dot(a, b))"
   ]
  },
  {
   "cell_type": "markdown",
   "metadata": {
    "id": "ojOJ8v_5Tvb1"
   },
   "source": [
    "**Умножение матриц**  \n",
    "  \n",
    "Операция умножения определена для двух матриц, таких что число столбцов первой равно числу строк второй. \n",
    "\n",
    "Пусть матрицы $A$ и $B$ таковы, что $A \\in \\mathbb{R}^{n \\times k}$ и $B \\in \\mathbb{R}^{k \\times m}$.    \n",
    "__Произведением__ матриц $A$ и $B$ называется матрица $C$, такая что \n",
    "$$c_{ij} = \\sum_{r=1}^{k} a_{ir}b_{rj}$$, \n",
    "где  $c_{ij}$ — элемент матрицы $C$, стоящий на пересечении строки с номером $i$ и столбца с номером $j$."
   ]
  },
  {
   "cell_type": "code",
   "execution_count": null,
   "metadata": {
    "colab": {
     "base_uri": "https://localhost:8080/"
    },
    "id": "DQ0JcGlqTvb2",
    "outputId": "45329d1d-d62c-4925-d2ac-5945634452e3"
   },
   "outputs": [
    {
     "name": "stdout",
     "output_type": "stream",
     "text": [
      "[[8 5]\n",
      " [2 2]]\n",
      "[[8 5]\n",
      " [2 2]]\n",
      "[[8 5]\n",
      " [2 2]]\n"
     ]
    }
   ],
   "source": [
    "a = np.array([[1, 2], [0, 1]])\n",
    "b = np.array([[4, 1], [2, 2]])\n",
    "print(a @ b)    # python 3 style\n",
    "print(a.dot(b)) \n",
    "print(np.dot(a, b))"
   ]
  },
  {
   "cell_type": "markdown",
   "metadata": {
    "id": "q8qbSx1bTvb2"
   },
   "source": [
    "Также доступно *ПОКООРДИНАТНОЕ* умножение, не путать с матричным!"
   ]
  },
  {
   "cell_type": "code",
   "execution_count": null,
   "metadata": {
    "colab": {
     "base_uri": "https://localhost:8080/"
    },
    "id": "8jL31NmyTvb3",
    "outputId": "46c7586c-f550-4ccc-b68c-a233080ed5ba"
   },
   "outputs": [
    {
     "name": "stdout",
     "output_type": "stream",
     "text": [
      "[[4 2]\n",
      " [0 2]]\n"
     ]
    }
   ],
   "source": [
    "print(a * b)"
   ]
  },
  {
   "cell_type": "markdown",
   "metadata": {
    "id": "PZfiErYHTvb3"
   },
   "source": [
    "**Умножение матриц и векторов**"
   ]
  },
  {
   "cell_type": "code",
   "execution_count": null,
   "metadata": {
    "colab": {
     "base_uri": "https://localhost:8080/"
    },
    "id": "dI_S5nBlTvb3",
    "outputId": "8b3fb191-0647-4ea8-c4f8-6685be166344"
   },
   "outputs": [
    {
     "name": "stdout",
     "output_type": "stream",
     "text": [
      "[[1 2]\n",
      " [0 1]\n",
      " [2 4]]\n",
      "v =  [2 5]\n"
     ]
    }
   ],
   "source": [
    "m = np.array([[1, 2], [0, 1], [2, 4]])\n",
    "print(m)\n",
    "v = np.array([2, 5])\n",
    "print(\"v = \", v)"
   ]
  },
  {
   "cell_type": "code",
   "execution_count": null,
   "metadata": {
    "colab": {
     "base_uri": "https://localhost:8080/"
    },
    "id": "CZpGDFOuTvb3",
    "outputId": "5b069a42-28b6-4270-9de5-06c5ac8b2919"
   },
   "outputs": [
    {
     "data": {
      "text/plain": [
       "array([12,  5, 24])"
      ]
     },
     "execution_count": 123,
     "metadata": {
      "tags": []
     },
     "output_type": "execute_result"
    }
   ],
   "source": [
    "m @ v"
   ]
  },
  {
   "cell_type": "markdown",
   "metadata": {
    "id": "dYfGBPAAPR0A"
   },
   "source": [
    "#### Broadcasting (Расширение/адаптация размерностей)\n",
    "Мощный механизм, позволяющий NumPy работать с массивами различной формы при выполнении арифметических операций. Часто у нас есть меньший массив и больший массив, и мы хотим использовать меньший массив несколько раз, чтобы выполнить некоторую операцию над большим массивом\n",
    "\n",
    "[Наглядный туториал](https://scipy.github.io/old-wiki/pages/EricsBroadcastingDoc)"
   ]
  },
  {
   "cell_type": "code",
   "execution_count": null,
   "metadata": {
    "id": "CB376l76PZi-"
   },
   "outputs": [],
   "source": [
    "# прибавление вектора ко всем строкам матрицы"
   ]
  },
  {
   "cell_type": "code",
   "execution_count": null,
   "metadata": {
    "colab": {
     "base_uri": "https://localhost:8080/"
    },
    "id": "6kFE8ieLhC2C",
    "outputId": "559892d3-595f-4b13-d579-792109078f74"
   },
   "outputs": [
    {
     "name": "stdout",
     "output_type": "stream",
     "text": [
      "[[ 1  2  3]\n",
      " [ 4  5  6]\n",
      " [ 7  8  9]\n",
      " [10 11 12]]\n",
      "[3 4 5]\n",
      "y: \n",
      "[[ 1  2  3]\n",
      " [ 4  5  6]\n",
      " [ 7  8  9]\n",
      " [10 11 12]]\n",
      "[[ 4  6  8]\n",
      " [ 7  9 11]\n",
      " [10 12 14]\n",
      " [13 15 17]]\n"
     ]
    }
   ],
   "source": [
    "# без broadcasting\n",
    "x = np.array([[1, 2, 3], [4, 5, 6], [7, 8, 9], [10, 11, 12]])\n",
    "v = np.array([3, 4, 5])\n",
    "# empty like создает пустую матрицу такого же размера как x\n",
    "y = np.empty_like(x) # создаем пустую структуру, в нее мы будем складывать ответ\n",
    "\n",
    "print(x)\n",
    "print(v)\n",
    "print(f'y: \\n{y}')\n",
    "\n",
    "for i in range(4):\n",
    "  y[i, :] = x[i, :] + v\n",
    "\n",
    "print(y)"
   ]
  },
  {
   "cell_type": "markdown",
   "metadata": {
    "id": "u4z8riz0Ja37"
   },
   "source": [
    "`np.tile` повторяет массив v (n,m,...) n раз по 0-ой оси и m раз по 1-ой итд, получается новый массив"
   ]
  },
  {
   "cell_type": "code",
   "execution_count": null,
   "metadata": {
    "colab": {
     "base_uri": "https://localhost:8080/"
    },
    "id": "A3s5-vI2zD2Z",
    "outputId": "650e86a8-a432-4dde-f093-ce5c7345888f"
   },
   "outputs": [
    {
     "data": {
      "text/plain": [
       "array([3, 4, 5])"
      ]
     },
     "execution_count": 130,
     "metadata": {
      "tags": []
     },
     "output_type": "execute_result"
    }
   ],
   "source": [
    "v"
   ]
  },
  {
   "cell_type": "code",
   "execution_count": null,
   "metadata": {
    "colab": {
     "base_uri": "https://localhost:8080/"
    },
    "id": "6ZcXOPUgiAW1",
    "outputId": "1b8ea4ed-ecee-4d39-b15f-1dd3113165ca"
   },
   "outputs": [
    {
     "data": {
      "text/plain": [
       "array([[3, 4, 5],\n",
       "       [3, 4, 5],\n",
       "       [3, 4, 5],\n",
       "       [3, 4, 5]])"
      ]
     },
     "execution_count": 139,
     "metadata": {
      "tags": []
     },
     "output_type": "execute_result"
    }
   ],
   "source": [
    "vv = np.tile(v, (4, 1))\n",
    "vv # получилась матрица такой же размерности как и матрица x"
   ]
  },
  {
   "cell_type": "code",
   "execution_count": null,
   "metadata": {
    "colab": {
     "base_uri": "https://localhost:8080/"
    },
    "id": "lsKQK72WzZ9D",
    "outputId": "d2f96100-85b4-42fb-ef6a-8e491a2c523d"
   },
   "outputs": [
    {
     "data": {
      "text/plain": [
       "array([[ 1,  2,  3],\n",
       "       [ 4,  5,  6],\n",
       "       [ 7,  8,  9],\n",
       "       [10, 11, 12]])"
      ]
     },
     "execution_count": 140,
     "metadata": {
      "tags": []
     },
     "output_type": "execute_result"
    }
   ],
   "source": [
    "x"
   ]
  },
  {
   "cell_type": "code",
   "execution_count": null,
   "metadata": {
    "colab": {
     "base_uri": "https://localhost:8080/"
    },
    "id": "tYuVC4iyiNhr",
    "outputId": "9d54b2e7-c27b-47e2-a995-f71e972ead17"
   },
   "outputs": [
    {
     "name": "stdout",
     "output_type": "stream",
     "text": [
      "[[ 4  6  8]\n",
      " [ 7  9 11]\n",
      " [10 12 14]\n",
      " [13 15 17]]\n"
     ]
    }
   ],
   "source": [
    "y = x + vv\n",
    "print(y)"
   ]
  },
  {
   "cell_type": "code",
   "execution_count": null,
   "metadata": {
    "colab": {
     "base_uri": "https://localhost:8080/"
    },
    "id": "1lINGNRMz4I5",
    "outputId": "f59a743c-29b5-40ac-95c2-6752476df9b0"
   },
   "outputs": [
    {
     "data": {
      "text/plain": [
       "array([3, 4, 5])"
      ]
     },
     "execution_count": 143,
     "metadata": {
      "tags": []
     },
     "output_type": "execute_result"
    }
   ],
   "source": [
    "v"
   ]
  },
  {
   "cell_type": "code",
   "execution_count": null,
   "metadata": {
    "colab": {
     "base_uri": "https://localhost:8080/"
    },
    "id": "g8LM-ZAYiYHH",
    "outputId": "dc5ac9f8-8eb9-45a2-c7ec-d67a9e4bd839"
   },
   "outputs": [
    {
     "data": {
      "text/plain": [
       "array([[ 4,  6,  8],\n",
       "       [ 7,  9, 11],\n",
       "       [10, 12, 14],\n",
       "       [13, 15, 17]])"
      ]
     },
     "execution_count": 142,
     "metadata": {
      "tags": []
     },
     "output_type": "execute_result"
    }
   ],
   "source": [
    "x + v"
   ]
  },
  {
   "cell_type": "markdown",
   "metadata": {
    "id": "aITk7HjpQv9l"
   },
   "source": [
    "Бродкастинг двух массивов работает следующим образом:\n",
    "*   Если массивы не имеют одинаковый ранг (кол-во размерностей), нужно выровнять кол-во размерностей, добавлением дополнительных \"единичных\" размерностей массиву меньшего ранга\n",
    "*   Говорят, что два массива *совместимы* в i-ой размерности, если они имеют одинаковый по величине набор значений в этой размерности, или если один из массивов имеет ровно 1 элемент в этом измерении.\n",
    "*   Массивы **broadcastable**, если они совместимы во всех размерностях.\n",
    "*   После адаптации каждый массив ведет себя так, как будто он имеет форму, равную поэлементному максимуму форм двух входных массивов.\n",
    "*   В любом измерении, где один массив имел размер 1, а другой массив имел размер больше 1, первый массив ведет себя так, как если бы он был скопирован \"вдоль\" этого измерения"
   ]
  },
  {
   "cell_type": "markdown",
   "metadata": {
    "id": "mZTkQ8b0J-nz"
   },
   "source": [
    "Прибавим теперь не по строкам, а по столбцам"
   ]
  },
  {
   "cell_type": "code",
   "execution_count": null,
   "metadata": {
    "colab": {
     "base_uri": "https://localhost:8080/"
    },
    "id": "lwP0lIySiw39",
    "outputId": "3ad2103f-7e98-41fe-ce4d-29190156fe98"
   },
   "outputs": [
    {
     "data": {
      "text/plain": [
       "array([3, 4, 5])"
      ]
     },
     "execution_count": 144,
     "metadata": {
      "tags": []
     },
     "output_type": "execute_result"
    }
   ],
   "source": [
    "v"
   ]
  },
  {
   "cell_type": "markdown",
   "metadata": {
    "id": "MY-MIBszKC79"
   },
   "source": [
    "Для этого нужно добавить \"дополнительную\" размерность 1.\n",
    "\n",
    "Обратите внимание, что (4,) и (4,1) это разные numpy массивы по форме. Первое интерпретируется как строка матрицы, а второе как столбец. Проведите над этим утверждением пару минут."
   ]
  },
  {
   "cell_type": "code",
   "execution_count": null,
   "metadata": {
    "colab": {
     "base_uri": "https://localhost:8080/"
    },
    "id": "gNT5ZBMJi505",
    "outputId": "f7612cad-f6be-4cc0-97cc-f1c5092d85b9"
   },
   "outputs": [
    {
     "data": {
      "text/plain": [
       "array([[1],\n",
       "       [2],\n",
       "       [3],\n",
       "       [4]])"
      ]
     },
     "execution_count": 145,
     "metadata": {
      "tags": []
     },
     "output_type": "execute_result"
    }
   ],
   "source": [
    "np.arange(1, 5).reshape(4, 1)"
   ]
  },
  {
   "cell_type": "code",
   "execution_count": null,
   "metadata": {
    "colab": {
     "base_uri": "https://localhost:8080/"
    },
    "id": "_qzx5i2s0fOO",
    "outputId": "cffa2f87-1fac-4318-feb8-65a2a99218bb"
   },
   "outputs": [
    {
     "data": {
      "text/plain": [
       "array([[ 1,  2,  3],\n",
       "       [ 4,  5,  6],\n",
       "       [ 7,  8,  9],\n",
       "       [10, 11, 12]])"
      ]
     },
     "execution_count": 147,
     "metadata": {
      "tags": []
     },
     "output_type": "execute_result"
    }
   ],
   "source": [
    "x"
   ]
  },
  {
   "cell_type": "code",
   "execution_count": null,
   "metadata": {
    "colab": {
     "base_uri": "https://localhost:8080/"
    },
    "id": "k1f7eno10h9A",
    "outputId": "7a0615e3-f8e5-472c-a797-c1536cc8f007"
   },
   "outputs": [
    {
     "data": {
      "text/plain": [
       "(4, 1)"
      ]
     },
     "execution_count": 148,
     "metadata": {
      "tags": []
     },
     "output_type": "execute_result"
    }
   ],
   "source": [
    "np.arange(1,5).reshape(4,1).shape"
   ]
  },
  {
   "cell_type": "code",
   "execution_count": null,
   "metadata": {
    "colab": {
     "base_uri": "https://localhost:8080/"
    },
    "id": "cnnpuBUVjDi3",
    "outputId": "f8880f4f-fd7c-4e1d-8bf9-c2d280409976"
   },
   "outputs": [
    {
     "data": {
      "text/plain": [
       "array([[ 2,  3,  4],\n",
       "       [ 6,  7,  8],\n",
       "       [10, 11, 12],\n",
       "       [14, 15, 16]])"
      ]
     },
     "execution_count": 146,
     "metadata": {
      "tags": []
     },
     "output_type": "execute_result"
    }
   ],
   "source": [
    "x + np.arange(1,5).reshape(4,1) # у нас происходит сложение по столбцам"
   ]
  },
  {
   "cell_type": "code",
   "execution_count": null,
   "metadata": {
    "colab": {
     "base_uri": "https://localhost:8080/",
     "height": 183
    },
    "id": "IOeQ2nFG015h",
    "outputId": "57e0b022-cdfa-4992-d239-e5ae6f5d4ae4"
   },
   "outputs": [
    {
     "ename": "ValueError",
     "evalue": "ignored",
     "output_type": "error",
     "traceback": [
      "\u001b[0;31m---------------------------------------------------------------------------\u001b[0m",
      "\u001b[0;31mValueError\u001b[0m                                Traceback (most recent call last)",
      "\u001b[0;32m<ipython-input-149-e041e07084e2>\u001b[0m in \u001b[0;36m<module>\u001b[0;34m()\u001b[0m\n\u001b[1;32m      1\u001b[0m \u001b[0mvv\u001b[0m \u001b[0;34m=\u001b[0m \u001b[0mnp\u001b[0m\u001b[0;34m.\u001b[0m\u001b[0mtile\u001b[0m\u001b[0;34m(\u001b[0m\u001b[0mv\u001b[0m\u001b[0;34m,\u001b[0m \u001b[0;34m(\u001b[0m\u001b[0;36m4\u001b[0m\u001b[0;34m,\u001b[0m \u001b[0;36m2\u001b[0m\u001b[0;34m)\u001b[0m\u001b[0;34m)\u001b[0m\u001b[0;34m\u001b[0m\u001b[0;34m\u001b[0m\u001b[0m\n\u001b[0;32m----> 2\u001b[0;31m \u001b[0mx\u001b[0m \u001b[0;34m+\u001b[0m \u001b[0mvv\u001b[0m\u001b[0;34m\u001b[0m\u001b[0;34m\u001b[0m\u001b[0m\n\u001b[0m",
      "\u001b[0;31mValueError\u001b[0m: operands could not be broadcast together with shapes (4,3) (4,6) "
     ]
    }
   ],
   "source": [
    "vv = np.tile(v, (4, 2))\n",
    "x + vv"
   ]
  },
  {
   "cell_type": "code",
   "execution_count": null,
   "metadata": {
    "colab": {
     "base_uri": "https://localhost:8080/",
     "height": 183
    },
    "id": "AIXg8l-x1Di0",
    "outputId": "475e7ad1-db96-4345-c76d-95acf6ff69f3"
   },
   "outputs": [
    {
     "ename": "ValueError",
     "evalue": "ignored",
     "output_type": "error",
     "traceback": [
      "\u001b[0;31m---------------------------------------------------------------------------\u001b[0m",
      "\u001b[0;31mValueError\u001b[0m                                Traceback (most recent call last)",
      "\u001b[0;32m<ipython-input-150-ab7923a76953>\u001b[0m in \u001b[0;36m<module>\u001b[0;34m()\u001b[0m\n\u001b[1;32m      1\u001b[0m \u001b[0mvv\u001b[0m \u001b[0;34m=\u001b[0m \u001b[0mnp\u001b[0m\u001b[0;34m.\u001b[0m\u001b[0mtile\u001b[0m\u001b[0;34m(\u001b[0m\u001b[0mv\u001b[0m\u001b[0;34m,\u001b[0m \u001b[0;34m(\u001b[0m\u001b[0;36m4\u001b[0m\u001b[0;34m,\u001b[0m \u001b[0;36m2\u001b[0m\u001b[0;34m)\u001b[0m\u001b[0;34m)\u001b[0m\u001b[0;34m\u001b[0m\u001b[0;34m\u001b[0m\u001b[0m\n\u001b[0;32m----> 2\u001b[0;31m \u001b[0mvv\u001b[0m \u001b[0;34m+\u001b[0m \u001b[0mx\u001b[0m\u001b[0;34m\u001b[0m\u001b[0;34m\u001b[0m\u001b[0m\n\u001b[0m",
      "\u001b[0;31mValueError\u001b[0m: operands could not be broadcast together with shapes (4,6) (4,3) "
     ]
    }
   ],
   "source": [
    "vv = np.tile(v, (4, 2))\n",
    "vv + x"
   ]
  },
  {
   "cell_type": "markdown",
   "metadata": {
    "id": "aZS5hsZKTvb4"
   },
   "source": [
    "## <a id=\"Полезные функции и методы\"><span style=\"color:green\">Полезные функций и методы</span></a>"
   ]
  },
  {
   "cell_type": "markdown",
   "metadata": {
    "id": "JUspURHSTvb4"
   },
   "source": [
    "Все функции описанные в предыдущем разделе можно применять к массивам!"
   ]
  },
  {
   "cell_type": "code",
   "execution_count": null,
   "metadata": {
    "colab": {
     "base_uri": "https://localhost:8080/"
    },
    "id": "DKk64Mseasg6",
    "outputId": "a8f8e39a-aa62-4865-98ae-9e54208a6f6b"
   },
   "outputs": [
    {
     "name": "stdout",
     "output_type": "stream",
     "text": [
      "[[1 2]\n",
      " [0 1]]\n",
      "[[4 1]\n",
      " [2 2]]\n"
     ]
    }
   ],
   "source": [
    "print(a, b, sep='\\n')"
   ]
  },
  {
   "cell_type": "code",
   "execution_count": null,
   "metadata": {
    "colab": {
     "base_uri": "https://localhost:8080/"
    },
    "id": "_xV3iCn2Tvb4",
    "outputId": "c66df372-3ad3-4af8-9f6c-13b37046f98f"
   },
   "outputs": [
    {
     "data": {
      "text/plain": [
       "array([[1.38629436, 0.        ],\n",
       "       [0.69314718, 0.69314718]])"
      ]
     },
     "execution_count": 152,
     "metadata": {
      "tags": []
     },
     "output_type": "execute_result"
    }
   ],
   "source": [
    "np.log(b)"
   ]
  },
  {
   "cell_type": "code",
   "execution_count": null,
   "metadata": {
    "colab": {
     "base_uri": "https://localhost:8080/"
    },
    "id": "py8DwT8D1al7",
    "outputId": "5f059f63-a160-46aa-c903-a08d89e2a9c1"
   },
   "outputs": [
    {
     "data": {
      "text/plain": [
       "True"
      ]
     },
     "execution_count": 153,
     "metadata": {
      "tags": []
     },
     "output_type": "execute_result"
    }
   ],
   "source": [
    "np.log(b).shape == b.shape"
   ]
  },
  {
   "cell_type": "code",
   "execution_count": null,
   "metadata": {
    "colab": {
     "base_uri": "https://localhost:8080/"
    },
    "id": "iJ95wGN_Tvb5",
    "outputId": "e8ca4346-726d-45e0-cd8f-ad8de979c8a7"
   },
   "outputs": [
    {
     "data": {
      "text/plain": [
       "array([[0.84147098, 0.90929743],\n",
       "       [0.        , 0.84147098]])"
      ]
     },
     "execution_count": 154,
     "metadata": {
      "tags": []
     },
     "output_type": "execute_result"
    }
   ],
   "source": [
    "np.sin(a)"
   ]
  },
  {
   "cell_type": "markdown",
   "metadata": {
    "id": "2DNDqsiDTvb5"
   },
   "source": [
    "Кроме математических функций есть также полезные функции для работы с массивами."
   ]
  },
  {
   "cell_type": "code",
   "execution_count": null,
   "metadata": {
    "colab": {
     "base_uri": "https://localhost:8080/"
    },
    "id": "V0O7d1yaTvb5",
    "outputId": "0692981a-338b-44f9-dd12-e5a1394af23c"
   },
   "outputs": [
    {
     "name": "stdout",
     "output_type": "stream",
     "text": [
      "[112. 140. 149. 141. 113. 130. 115. 114. 110. 123.]\n"
     ]
    }
   ],
   "source": [
    "a = np.random.choice(a=np.linspace(1, 50, 50) + 100, size=10, replace=False)\n",
    "print(a)"
   ]
  },
  {
   "cell_type": "markdown",
   "metadata": {
    "id": "UKsBN8R_Tvb5"
   },
   "source": [
    "- Замена элементов по индексу"
   ]
  },
  {
   "cell_type": "code",
   "execution_count": null,
   "metadata": {
    "colab": {
     "base_uri": "https://localhost:8080/"
    },
    "id": "HIhN_OzNTvb6",
    "outputId": "01a4da48-d319-4bde-a573-e7805f7c8c51"
   },
   "outputs": [
    {
     "data": {
      "text/plain": [
       "array([-44., 140., -55., 141., 113., 130., 115., 114., 110., 123.])"
      ]
     },
     "execution_count": 157,
     "metadata": {
      "tags": []
     },
     "output_type": "execute_result"
    }
   ],
   "source": [
    "np.put(a, ind=[0, 2], v=[-44, -55, -66])\n",
    "a"
   ]
  },
  {
   "cell_type": "markdown",
   "metadata": {
    "id": "Q8tW2ELRTvb6"
   },
   "source": [
    "- Выделение элементов по условию"
   ]
  },
  {
   "cell_type": "code",
   "execution_count": null,
   "metadata": {
    "colab": {
     "base_uri": "https://localhost:8080/"
    },
    "id": "umD_BNiUTvb6",
    "outputId": "86d7de0f-b048-44f9-8142-fbf512eaaa2b"
   },
   "outputs": [
    {
     "data": {
      "text/plain": [
       "array([-1,  1, -1,  1,  1,  1,  1,  1,  1,  1])"
      ]
     },
     "execution_count": 158,
     "metadata": {
      "tags": []
     },
     "output_type": "execute_result"
    }
   ],
   "source": [
    "np.where(a < 0, -1, 1)"
   ]
  },
  {
   "cell_type": "code",
   "execution_count": null,
   "metadata": {
    "colab": {
     "base_uri": "https://localhost:8080/"
    },
    "id": "PsMyIrzV23jb",
    "outputId": "7033479e-6229-4e9a-9f95-fa6697581932"
   },
   "outputs": [
    {
     "data": {
      "text/plain": [
       "array([ True, False,  True, False, False, False, False, False, False,\n",
       "       False])"
      ]
     },
     "execution_count": 160,
     "metadata": {
      "tags": []
     },
     "output_type": "execute_result"
    }
   ],
   "source": [
    "a < 0"
   ]
  },
  {
   "cell_type": "code",
   "execution_count": null,
   "metadata": {
    "colab": {
     "base_uri": "https://localhost:8080/"
    },
    "id": "HMyehVX4Tvb6",
    "outputId": "e4967136-a626-473f-8abf-4c9cf0141644"
   },
   "outputs": [
    {
     "data": {
      "text/plain": [
       "array([-44., -55.])"
      ]
     },
     "execution_count": 159,
     "metadata": {
      "tags": []
     },
     "output_type": "execute_result"
    }
   ],
   "source": [
    "a[np.where(a < 0)]"
   ]
  },
  {
   "cell_type": "markdown",
   "metadata": {
    "id": "f_5fLH3PTvb7"
   },
   "source": [
    "- Сортировка"
   ]
  },
  {
   "cell_type": "code",
   "execution_count": null,
   "metadata": {
    "colab": {
     "base_uri": "https://localhost:8080/"
    },
    "id": "lWnBLLtTcf2Y",
    "outputId": "d401fd4c-e810-4967-c073-246794fbc1ff"
   },
   "outputs": [
    {
     "data": {
      "text/plain": [
       "array([-44., -55.])"
      ]
     },
     "execution_count": 161,
     "metadata": {
      "tags": []
     },
     "output_type": "execute_result"
    }
   ],
   "source": [
    "a[a < 0]"
   ]
  },
  {
   "cell_type": "code",
   "execution_count": null,
   "metadata": {
    "colab": {
     "base_uri": "https://localhost:8080/"
    },
    "id": "lcFpQAzQcv05",
    "outputId": "7e85e445-2758-451f-e5b9-f6cb8b1f351a"
   },
   "outputs": [
    {
     "data": {
      "text/plain": [
       "array([-44., 140., -55., 141., 113., 130., 115., 114., 110., 123.])"
      ]
     },
     "execution_count": 162,
     "metadata": {
      "tags": []
     },
     "output_type": "execute_result"
    }
   ],
   "source": [
    "a"
   ]
  },
  {
   "cell_type": "code",
   "execution_count": null,
   "metadata": {
    "colab": {
     "base_uri": "https://localhost:8080/"
    },
    "id": "9rlOfyLoTvb7",
    "outputId": "b98200a4-e5dd-47ac-ae54-4fdb9fa4278c"
   },
   "outputs": [
    {
     "data": {
      "text/plain": [
       "array([-55., -44., 110., 113., 114., 115., 123., 130., 140., 141.])"
      ]
     },
     "execution_count": 163,
     "metadata": {
      "tags": []
     },
     "output_type": "execute_result"
    }
   ],
   "source": [
    "np.sort(a)"
   ]
  },
  {
   "cell_type": "markdown",
   "metadata": {
    "id": "43Bsps-YTvb7"
   },
   "source": [
    "Индексы сортированного массива"
   ]
  },
  {
   "cell_type": "code",
   "execution_count": null,
   "metadata": {
    "colab": {
     "base_uri": "https://localhost:8080/"
    },
    "id": "owRiHvIaTvb7",
    "outputId": "25115e0d-879d-4d00-d67a-d04a543130a2"
   },
   "outputs": [
    {
     "data": {
      "text/plain": [
       "array([2, 0, 8, 4, 7, 6, 9, 5, 1, 3])"
      ]
     },
     "execution_count": 164,
     "metadata": {
      "tags": []
     },
     "output_type": "execute_result"
    }
   ],
   "source": [
    "np.argsort(a)"
   ]
  },
  {
   "cell_type": "code",
   "execution_count": null,
   "metadata": {
    "colab": {
     "base_uri": "https://localhost:8080/"
    },
    "id": "aRkLnBT9Tvb8",
    "outputId": "d8d138e6-b3d8-4d8a-9094-a148d76c7ff8"
   },
   "outputs": [
    {
     "name": "stdout",
     "output_type": "stream",
     "text": [
      "[[1.75  9.822 5.166 2.608 9.963]\n",
      " [9.654 5.583 8.826 1.887 2.789]\n",
      " [7.004 8.467 8.563 4.045 8.878]\n",
      " [8.509 9.356 7.853 6.69  5.807]]\n"
     ]
    }
   ],
   "source": [
    "# создание матрицы для демонстрации примеров\n",
    "m = np.round(np.random.rand(4, 5) * 10, 3)\n",
    "print(m)"
   ]
  },
  {
   "cell_type": "code",
   "execution_count": null,
   "metadata": {
    "colab": {
     "base_uri": "https://localhost:8080/"
    },
    "id": "84YmeFjbTvb8",
    "outputId": "9b98039b-2cd7-4180-e1ba-bba993c9f8a9"
   },
   "outputs": [
    {
     "data": {
      "text/plain": [
       "array([[1.75 , 5.583, 5.166, 1.887, 2.789],\n",
       "       [7.004, 8.467, 7.853, 2.608, 5.807],\n",
       "       [8.509, 9.356, 8.563, 4.045, 8.878],\n",
       "       [9.654, 9.822, 8.826, 6.69 , 9.963]])"
      ]
     },
     "execution_count": 166,
     "metadata": {
      "tags": []
     },
     "output_type": "execute_result"
    }
   ],
   "source": [
    "# сортировка по столбцам\n",
    "np.sort(m, axis=0)"
   ]
  },
  {
   "cell_type": "code",
   "execution_count": null,
   "metadata": {
    "colab": {
     "base_uri": "https://localhost:8080/"
    },
    "id": "okFkToAQTvb8",
    "outputId": "0386d68a-eae7-4a37-f595-8834e01f0745"
   },
   "outputs": [
    {
     "data": {
      "text/plain": [
       "array([[1.75 , 2.608, 5.166, 9.822, 9.963],\n",
       "       [1.887, 2.789, 5.583, 8.826, 9.654],\n",
       "       [4.045, 7.004, 8.467, 8.563, 8.878],\n",
       "       [5.807, 6.69 , 7.853, 8.509, 9.356]])"
      ]
     },
     "execution_count": 167,
     "metadata": {
      "tags": []
     },
     "output_type": "execute_result"
    }
   ],
   "source": [
    "# сортировка по строкам\n",
    "np.sort(m, axis=1)"
   ]
  },
  {
   "cell_type": "markdown",
   "metadata": {
    "id": "CFMuTsb4Tvb8"
   },
   "source": [
    "<span style=\"color:blue\">Отсортируйте все столбцы по первому столбцу:</span>"
   ]
  },
  {
   "cell_type": "code",
   "execution_count": null,
   "metadata": {
    "colab": {
     "base_uri": "https://localhost:8080/"
    },
    "id": "Ibb3k_dYTvb8",
    "outputId": "7c788893-27ef-474f-de4d-1b57a2fd4b7c"
   },
   "outputs": [
    {
     "name": "stdout",
     "output_type": "stream",
     "text": [
      "[[6 3 7]\n",
      " [4 6 9]\n",
      " [2 6 7]\n",
      " [4 3 7]\n",
      " [7 2 5]]\n",
      "\n",
      "[[7 2 5]\n",
      " [6 3 7]\n",
      " [4 3 7]\n",
      " [4 6 9]\n",
      " [2 6 7]]\n"
     ]
    }
   ],
   "source": [
    "np.random.seed(42)\n",
    "a = np.random.randint(0, 10, (5, 3))\n",
    "print(a)\n",
    "print()\n",
    "print(a[a[:, 1].argsort()])"
   ]
  },
  {
   "cell_type": "code",
   "execution_count": null,
   "metadata": {
    "colab": {
     "base_uri": "https://localhost:8080/"
    },
    "id": "mOfL9kRc4v7Y",
    "outputId": "2cef9b75-85b5-482c-b220-c59690db74d6"
   },
   "outputs": [
    {
     "data": {
      "text/plain": [
       "array([4, 0, 3, 1, 2])"
      ]
     },
     "execution_count": 173,
     "metadata": {
      "tags": []
     },
     "output_type": "execute_result"
    }
   ],
   "source": [
    "a[:, 1].argsort()"
   ]
  },
  {
   "cell_type": "code",
   "execution_count": null,
   "metadata": {
    "colab": {
     "base_uri": "https://localhost:8080/"
    },
    "id": "MW-gEBQZ52Ru",
    "outputId": "6e1c66e4-983a-4b58-e537-9d5d7af18da7"
   },
   "outputs": [
    {
     "name": "stdout",
     "output_type": "stream",
     "text": [
      "[[7 2 5]\n",
      " [6 3 7]\n",
      " [4 3 7]\n",
      " [4 6 9]\n",
      " [2 6 7]]\n"
     ]
    }
   ],
   "source": [
    "print(a[np.array([4, 0, 3, 1, 2])])"
   ]
  },
  {
   "cell_type": "markdown",
   "metadata": {
    "id": "rFyycvfhTvb9"
   },
   "source": [
    "- **newaxis**"
   ]
  },
  {
   "cell_type": "markdown",
   "metadata": {
    "id": "VgNJ43TBTvb9"
   },
   "source": [
    "Добавление нового измерения"
   ]
  },
  {
   "cell_type": "code",
   "execution_count": null,
   "metadata": {
    "colab": {
     "base_uri": "https://localhost:8080/"
    },
    "id": "53DvQ77TTvb9",
    "outputId": "d0e8e57b-fb8c-4b43-a572-ec76eba9479e"
   },
   "outputs": [
    {
     "name": "stdout",
     "output_type": "stream",
     "text": [
      "[ 1.  2.  3.  4.  5.  6.  7.  8.  9. 10.]\n",
      "(10,)\n"
     ]
    }
   ],
   "source": [
    "a = np.linspace(1, 10, 10)\n",
    "print(a)\n",
    "print(a.shape)"
   ]
  },
  {
   "cell_type": "code",
   "execution_count": null,
   "metadata": {
    "colab": {
     "base_uri": "https://localhost:8080/"
    },
    "id": "5Y4pQ_a4Tvb9",
    "outputId": "af6996dc-e8fb-4f2d-94e4-c5376bff2e27"
   },
   "outputs": [
    {
     "name": "stdout",
     "output_type": "stream",
     "text": [
      "[[ 1.]\n",
      " [ 2.]\n",
      " [ 3.]\n",
      " [ 4.]\n",
      " [ 5.]\n",
      " [ 6.]\n",
      " [ 7.]\n",
      " [ 8.]\n",
      " [ 9.]\n",
      " [10.]]\n",
      "New shape  (10, 1)\n"
     ]
    }
   ],
   "source": [
    "print(a[:, np.newaxis])\n",
    "print(\"New shape \", a[:, np.newaxis].shape)"
   ]
  },
  {
   "cell_type": "code",
   "execution_count": null,
   "metadata": {
    "colab": {
     "base_uri": "https://localhost:8080/"
    },
    "id": "0xkb9a_79kDd",
    "outputId": "ef66b4d7-1158-4831-8e35-ca99bda86005"
   },
   "outputs": [
    {
     "name": "stdout",
     "output_type": "stream",
     "text": [
      "[[ 1.  2.  3.  4.  5.  6.  7.  8.  9. 10.]]\n",
      "New shape  (1, 10)\n"
     ]
    }
   ],
   "source": [
    "print(a[np.newaxis, :])\n",
    "print(\"New shape \", a[np.newaxis, :].shape)"
   ]
  },
  {
   "cell_type": "code",
   "execution_count": null,
   "metadata": {
    "colab": {
     "base_uri": "https://localhost:8080/"
    },
    "id": "T65IPZzPTvb-",
    "outputId": "ea193f2e-5173-4cc7-b3bf-33639085f4e5"
   },
   "outputs": [
    {
     "data": {
      "text/plain": [
       "array([[9, 3, 7, 6, 8, 7, 4, 1, 4, 7],\n",
       "       [9, 8, 8, 0, 8, 6, 8, 7, 0, 7],\n",
       "       [7, 2, 0, 7, 2, 2, 0, 4, 9, 6],\n",
       "       [9, 8, 6, 8, 7, 1, 0, 6, 6, 7],\n",
       "       [4, 2, 7, 5, 2, 0, 2, 4, 2, 0]])"
      ]
     },
     "execution_count": 184,
     "metadata": {
      "tags": []
     },
     "output_type": "execute_result"
    }
   ],
   "source": [
    "m = np.random.randint(0, 10, (5, 10))\n",
    "m"
   ]
  },
  {
   "cell_type": "code",
   "execution_count": null,
   "metadata": {
    "colab": {
     "base_uri": "https://localhost:8080/"
    },
    "id": "0RQbCPAjTvb-",
    "outputId": "4cd15b97-c4a6-4efe-8cf3-69e64f447326",
    "scrolled": true
   },
   "outputs": [
    {
     "data": {
      "text/plain": [
       "array([284., 307., 234., 288., 123.])"
      ]
     },
     "execution_count": 185,
     "metadata": {
      "tags": []
     },
     "output_type": "execute_result"
    }
   ],
   "source": [
    "m @ a"
   ]
  },
  {
   "cell_type": "code",
   "execution_count": null,
   "metadata": {
    "id": "OOtezYic-sJB"
   },
   "outputs": [],
   "source": [
    "b = a[:, np.newaxis]"
   ]
  },
  {
   "cell_type": "code",
   "execution_count": null,
   "metadata": {
    "colab": {
     "base_uri": "https://localhost:8080/",
     "height": 183
    },
    "id": "IdDq0ugb-vlG",
    "outputId": "adecbf25-0bd1-4e23-9b25-30a3df631ec0"
   },
   "outputs": [
    {
     "ename": "ValueError",
     "evalue": "ignored",
     "output_type": "error",
     "traceback": [
      "\u001b[0;31m---------------------------------------------------------------------------\u001b[0m",
      "\u001b[0;31mValueError\u001b[0m                                Traceback (most recent call last)",
      "\u001b[0;32m<ipython-input-192-73ae1bb5f1a3>\u001b[0m in \u001b[0;36m<module>\u001b[0;34m()\u001b[0m\n\u001b[0;32m----> 1\u001b[0;31m \u001b[0mm\u001b[0m \u001b[0;34m@\u001b[0m \u001b[0mb\u001b[0m\u001b[0;34m\u001b[0m\u001b[0;34m\u001b[0m\u001b[0m\n\u001b[0m",
      "\u001b[0;31mValueError\u001b[0m: matmul: Input operand 1 has a mismatch in its core dimension 0, with gufunc signature (n?,k),(k,m?)->(n?,m?) (size 10 is different from 1)"
     ]
    }
   ],
   "source": [
    "m @ b"
   ]
  },
  {
   "cell_type": "code",
   "execution_count": null,
   "metadata": {
    "colab": {
     "base_uri": "https://localhost:8080/"
    },
    "id": "JbtJ65IzTvb-",
    "outputId": "89629c3f-bc3f-474d-c875-bc21bf2ddae9"
   },
   "outputs": [
    {
     "data": {
      "text/plain": [
       "array([[284.],\n",
       "       [307.],\n",
       "       [234.],\n",
       "       [288.],\n",
       "       [123.]])"
      ]
     },
     "execution_count": 186,
     "metadata": {
      "tags": []
     },
     "output_type": "execute_result"
    }
   ],
   "source": [
    "m @ a[:, np.newaxis]"
   ]
  },
  {
   "cell_type": "code",
   "execution_count": null,
   "metadata": {
    "colab": {
     "base_uri": "https://localhost:8080/"
    },
    "id": "HdVqeETvfYHB",
    "outputId": "5b026e42-8b1f-4488-a9c5-eb7c8e984f52"
   },
   "outputs": [
    {
     "data": {
      "text/plain": [
       "array([ 1.,  2.,  3.,  4.,  5.,  6.,  7.,  8.,  9., 10.])"
      ]
     },
     "execution_count": 188,
     "metadata": {
      "tags": []
     },
     "output_type": "execute_result"
    }
   ],
   "source": [
    "a"
   ]
  },
  {
   "cell_type": "code",
   "execution_count": null,
   "metadata": {
    "colab": {
     "base_uri": "https://localhost:8080/"
    },
    "id": "LyFqHyt9Tvb-",
    "outputId": "79e3935e-8b56-4cea-f960-6905695b90f6"
   },
   "outputs": [
    {
     "name": "stdout",
     "output_type": "stream",
     "text": [
      "[[[[ 1.]]\n",
      "\n",
      "  [[ 2.]]]\n",
      "\n",
      "\n",
      " [[[ 3.]]\n",
      "\n",
      "  [[ 4.]]]\n",
      "\n",
      "\n",
      " [[[ 5.]]\n",
      "\n",
      "  [[ 6.]]]\n",
      "\n",
      "\n",
      " [[[ 7.]]\n",
      "\n",
      "  [[ 8.]]]\n",
      "\n",
      "\n",
      " [[[ 9.]]\n",
      "\n",
      "  [[10.]]]]\n",
      "(5, 2, 1, 1)\n",
      "------------------------\n",
      "(5, 2, 1, 1, 1, 1)\n",
      "------------------------\n",
      "New shape  (5, 1, 1, 2, 1, 1)\n"
     ]
    }
   ],
   "source": [
    "m = a.reshape((5, 2, 1, 1))\n",
    "print(m)\n",
    "print(m.shape)\n",
    "print('------------------------')\n",
    "print(m[..., np.newaxis, np.newaxis].shape)\n",
    "print('------------------------')\n",
    "# print(m[:, np.newaxis, np.newaxis])\n",
    "print(\"New shape \", m[:, np.newaxis, np.newaxis].shape)"
   ]
  },
  {
   "cell_type": "markdown",
   "metadata": {
    "id": "ryIZbx2BTvb_"
   },
   "source": [
    "- **any all**"
   ]
  },
  {
   "cell_type": "markdown",
   "metadata": {
    "id": "ExfZWp6lTvb_"
   },
   "source": [
    "`Any` возвращает True, если хотя бы один элемент `True`   \n",
    "`All` возвращает True, если все эедементы `True`"
   ]
  },
  {
   "cell_type": "code",
   "execution_count": null,
   "metadata": {
    "colab": {
     "base_uri": "https://localhost:8080/"
    },
    "id": "mgxHXR5ITvb_",
    "outputId": "4e8c700d-5c7d-49f2-a615-74a10382b5ea"
   },
   "outputs": [
    {
     "data": {
      "text/plain": [
       "True"
      ]
     },
     "execution_count": 193,
     "metadata": {
      "tags": []
     },
     "output_type": "execute_result"
    }
   ],
   "source": [
    "any([True, True, False, True, False, False, False])"
   ]
  },
  {
   "cell_type": "code",
   "execution_count": null,
   "metadata": {
    "colab": {
     "base_uri": "https://localhost:8080/"
    },
    "id": "17NO8kGfTvb_",
    "outputId": "11f56582-ac57-4e39-ac58-acc1c066df1e"
   },
   "outputs": [
    {
     "data": {
      "text/plain": [
       "False"
      ]
     },
     "execution_count": 194,
     "metadata": {
      "tags": []
     },
     "output_type": "execute_result"
    }
   ],
   "source": [
    "all([True, True, False, True, False, False, False])"
   ]
  },
  {
   "cell_type": "code",
   "execution_count": null,
   "metadata": {
    "colab": {
     "base_uri": "https://localhost:8080/"
    },
    "id": "-mlVnGwTTvcA",
    "outputId": "0414e8bb-eaa2-44bd-ade2-8167dea36bbb"
   },
   "outputs": [
    {
     "data": {
      "text/plain": [
       "array([ True,  True,  True,  True])"
      ]
     },
     "execution_count": 195,
     "metadata": {
      "tags": []
     },
     "output_type": "execute_result"
    }
   ],
   "source": [
    "np.array([1, 1, 0, 2]) == np.array([1, 1, 0, 2])"
   ]
  },
  {
   "cell_type": "code",
   "execution_count": null,
   "metadata": {
    "colab": {
     "base_uri": "https://localhost:8080/"
    },
    "id": "zkkJajFYTvcA",
    "outputId": "e115c246-9d64-4022-dc96-964a8ba72a77"
   },
   "outputs": [
    {
     "data": {
      "text/plain": [
       "True"
      ]
     },
     "execution_count": 196,
     "metadata": {
      "tags": []
     },
     "output_type": "execute_result"
    }
   ],
   "source": [
    "# сравнение векторов\n",
    "all(np.array([1, 1, 0, 2]) == np.array([1, 1, 0, 2]))"
   ]
  },
  {
   "cell_type": "code",
   "execution_count": null,
   "metadata": {
    "colab": {
     "base_uri": "https://localhost:8080/"
    },
    "id": "4yf_7wqYTvcA",
    "outputId": "4bd33909-4f85-42b2-ef5a-188acc1b1177"
   },
   "outputs": [
    {
     "data": {
      "text/plain": [
       "False"
      ]
     },
     "execution_count": 197,
     "metadata": {
      "tags": []
     },
     "output_type": "execute_result"
    }
   ],
   "source": [
    "all(np.array([1, 1, 0, 0]) == np.array([1, 1, 0, 2]))"
   ]
  },
  {
   "cell_type": "code",
   "execution_count": null,
   "metadata": {
    "colab": {
     "base_uri": "https://localhost:8080/"
    },
    "id": "y2olgB-oTvcA",
    "outputId": "1e525749-89a0-4809-cc11-0c3e863dc097"
   },
   "outputs": [
    {
     "data": {
      "text/plain": [
       "True"
      ]
     },
     "execution_count": 198,
     "metadata": {
      "tags": []
     },
     "output_type": "execute_result"
    }
   ],
   "source": [
    "any(np.array([1, 1, 0, 0]) == np.array([1, 1, 0, 2]))"
   ]
  },
  {
   "cell_type": "markdown",
   "metadata": {
    "id": "wH9wOaNATvcB"
   },
   "source": [
    "- Методы all и any"
   ]
  },
  {
   "cell_type": "code",
   "execution_count": null,
   "metadata": {
    "colab": {
     "base_uri": "https://localhost:8080/"
    },
    "id": "nRGXIj0P_v2_",
    "outputId": "6fd6f305-ae48-455f-8ad0-b595c42752e2"
   },
   "outputs": [
    {
     "data": {
      "text/plain": [
       "array([ True,  True, False, False,  True,  True,  True,  True])"
      ]
     },
     "execution_count": 200,
     "metadata": {
      "tags": []
     },
     "output_type": "execute_result"
    }
   ],
   "source": [
    "np.array([1, 1, 0, 8, 1, 5, 1, 1]) == np.array([1, 1, 3, 2, 1, 5, 1, 1])"
   ]
  },
  {
   "cell_type": "code",
   "execution_count": null,
   "metadata": {
    "colab": {
     "base_uri": "https://localhost:8080/"
    },
    "id": "eayCygyyTvcB",
    "outputId": "2112ab9b-3f57-4d0d-a17e-2526568becbc"
   },
   "outputs": [
    {
     "name": "stdout",
     "output_type": "stream",
     "text": [
      "[[ True  True False False]\n",
      " [ True  True  True  True]]\n"
     ]
    }
   ],
   "source": [
    "a = (np.array([1, 1, 0, 8, 1, 5, 1, 1]) == np.array([1, 1, 3, 2, 1, 5, 1, 1])).reshape((2, 4))\n",
    "print(a)"
   ]
  },
  {
   "cell_type": "code",
   "execution_count": null,
   "metadata": {
    "colab": {
     "base_uri": "https://localhost:8080/"
    },
    "id": "gzFk5t0sTvcB",
    "outputId": "d01aaf9e-7968-4bb1-b18c-b8db0823e7e5"
   },
   "outputs": [
    {
     "data": {
      "text/plain": [
       "array([ True,  True])"
      ]
     },
     "execution_count": 201,
     "metadata": {
      "tags": []
     },
     "output_type": "execute_result"
    }
   ],
   "source": [
    "# any по строкам\n",
    "a.any(axis=1)"
   ]
  },
  {
   "cell_type": "code",
   "execution_count": null,
   "metadata": {
    "colab": {
     "base_uri": "https://localhost:8080/"
    },
    "id": "Z87iUrmxTvcB",
    "outputId": "3dcba62c-ddf6-42a7-fc56-95f16315a3aa"
   },
   "outputs": [
    {
     "data": {
      "text/plain": [
       "array([ True,  True,  True,  True])"
      ]
     },
     "execution_count": 202,
     "metadata": {
      "tags": []
     },
     "output_type": "execute_result"
    }
   ],
   "source": [
    "# any по столбцам\n",
    "a.any(axis=0)"
   ]
  },
  {
   "cell_type": "code",
   "execution_count": null,
   "metadata": {
    "colab": {
     "base_uri": "https://localhost:8080/"
    },
    "id": "3JLkylevTvcB",
    "outputId": "c5377078-ef57-4961-f521-46d15f32dd8b"
   },
   "outputs": [
    {
     "data": {
      "text/plain": [
       "False"
      ]
     },
     "execution_count": 203,
     "metadata": {
      "tags": []
     },
     "output_type": "execute_result"
    }
   ],
   "source": [
    "# По строкам и столбцам\n",
    "a.all((0, 1)) # берем элементы по осям исходной подматрицы с индексами 0 и 1"
   ]
  },
  {
   "cell_type": "code",
   "execution_count": null,
   "metadata": {
    "id": "RlmidpknAO9m"
   },
   "outputs": [],
   "source": [
    "a.all?"
   ]
  },
  {
   "cell_type": "markdown",
   "metadata": {
    "id": "5voWLDRbTvcC"
   },
   "source": [
    "- diff   \n",
    "out[n] = a[n+1] - a[n]"
   ]
  },
  {
   "cell_type": "code",
   "execution_count": null,
   "metadata": {
    "colab": {
     "base_uri": "https://localhost:8080/"
    },
    "id": "fjtP-vvdTvcC",
    "outputId": "8aeea68c-2964-407a-dbf1-df39f1d924db"
   },
   "outputs": [
    {
     "name": "stdout",
     "output_type": "stream",
     "text": [
      "[1 2 4 7 0]\n",
      "[ 1  2  3 -7]\n"
     ]
    }
   ],
   "source": [
    "a = np.array([1, 2, 4, 7, 0])\n",
    "print(a)\n",
    "print(np.diff(a))"
   ]
  },
  {
   "cell_type": "markdown",
   "metadata": {
    "id": "nqjDH15ATvcC"
   },
   "source": [
    "- split (забиение на части)"
   ]
  },
  {
   "cell_type": "code",
   "execution_count": null,
   "metadata": {
    "colab": {
     "base_uri": "https://localhost:8080/"
    },
    "id": "rVe1vq3TTvcC",
    "outputId": "d3b06320-4362-4bb6-c753-c16908c37c7f"
   },
   "outputs": [
    {
     "name": "stdout",
     "output_type": "stream",
     "text": [
      "[0 1 2 3 4 5 6 7 8 9]\n"
     ]
    }
   ],
   "source": [
    "a = np.arange(10)\n",
    "print(a)"
   ]
  },
  {
   "cell_type": "code",
   "execution_count": null,
   "metadata": {
    "colab": {
     "base_uri": "https://localhost:8080/"
    },
    "id": "Nl63I91DTvcD",
    "outputId": "dc851af9-5e2c-4345-a6b4-c705542ee5c6"
   },
   "outputs": [
    {
     "data": {
      "text/plain": [
       "[array([0, 1]), array([2, 3, 4, 5, 6]), array([7, 8, 9])]"
      ]
     },
     "execution_count": 207,
     "metadata": {
      "tags": []
     },
     "output_type": "execute_result"
    }
   ],
   "source": [
    "np.split(a, [2, 7]) # разбивает по элементам 2 и 7"
   ]
  },
  {
   "cell_type": "markdown",
   "metadata": {
    "id": "56zwXFOYTvcD"
   },
   "source": [
    "## <a id=\"Вычисление статистик\"><span style=\"color:green\">Вычисление статистик</span></a>"
   ]
  },
  {
   "cell_type": "code",
   "execution_count": null,
   "metadata": {
    "colab": {
     "base_uri": "https://localhost:8080/"
    },
    "id": "KtwTBC4iTvcD",
    "outputId": "596060b8-ab88-43d4-97cc-0be0224bea6e"
   },
   "outputs": [
    {
     "name": "stdout",
     "output_type": "stream",
     "text": [
      "[[-6  3 16 -2]\n",
      " [68  4 31 66]\n",
      " [40 52 41 -7]\n",
      " [12  4 32 18]\n",
      " [25  2 21 60]]\n"
     ]
    }
   ],
   "source": [
    "a = np.random.randint(-10, 70, (5, 4))\n",
    "print(a)"
   ]
  },
  {
   "cell_type": "markdown",
   "metadata": {
    "id": "odwIPEUSTvcD"
   },
   "source": [
    "- среднее"
   ]
  },
  {
   "cell_type": "code",
   "execution_count": null,
   "metadata": {
    "colab": {
     "base_uri": "https://localhost:8080/"
    },
    "id": "qgqtHV8eTvcE",
    "outputId": "c0560829-4610-486e-cb90-93c85d543338"
   },
   "outputs": [
    {
     "data": {
      "text/plain": [
       "24.0"
      ]
     },
     "execution_count": 209,
     "metadata": {
      "tags": []
     },
     "output_type": "execute_result"
    }
   ],
   "source": [
    "a.mean()"
   ]
  },
  {
   "cell_type": "code",
   "execution_count": null,
   "metadata": {
    "colab": {
     "base_uri": "https://localhost:8080/"
    },
    "id": "vzHM-6m3TvcE",
    "outputId": "b3bbe9c8-f68a-48bc-b883-c89a08718e8b"
   },
   "outputs": [
    {
     "data": {
      "text/plain": [
       "array([27.8, 13. , 28.2, 27. ])"
      ]
     },
     "execution_count": 210,
     "metadata": {
      "tags": []
     },
     "output_type": "execute_result"
    }
   ],
   "source": [
    "# среднее по столбцам\n",
    "a.mean(axis=0)"
   ]
  },
  {
   "cell_type": "code",
   "execution_count": null,
   "metadata": {
    "colab": {
     "base_uri": "https://localhost:8080/"
    },
    "id": "OeEiND14TvcE",
    "outputId": "846956d7-cc0d-4725-b94c-dfc4e44a1bca"
   },
   "outputs": [
    {
     "data": {
      "text/plain": [
       "array([ 2.75, 42.25, 31.5 , 16.5 , 27.  ])"
      ]
     },
     "execution_count": 211,
     "metadata": {
      "tags": []
     },
     "output_type": "execute_result"
    }
   ],
   "source": [
    "# среднее по строкам\n",
    "a.mean(axis=1)"
   ]
  },
  {
   "cell_type": "markdown",
   "metadata": {
    "id": "yGo6WYfYTvcE"
   },
   "source": [
    "- медиана"
   ]
  },
  {
   "cell_type": "code",
   "execution_count": null,
   "metadata": {
    "colab": {
     "base_uri": "https://localhost:8080/"
    },
    "id": "TR2Dqe1NTvcF",
    "outputId": "8e1aff69-572b-4671-f823-0dc70f1a0b94"
   },
   "outputs": [
    {
     "name": "stdout",
     "output_type": "stream",
     "text": [
      "19.5\n",
      "[25.  4. 31. 18.]\n",
      "[ 0.5 48.5 40.5 15.  23. ]\n"
     ]
    }
   ],
   "source": [
    "print(np.median(a))\n",
    "print(np.median(a, axis=0))\n",
    "print(np.median(a, axis=1))"
   ]
  },
  {
   "cell_type": "markdown",
   "metadata": {
    "id": "D1dhHxyETvcF"
   },
   "source": [
    "- максимум и минимум"
   ]
  },
  {
   "cell_type": "code",
   "execution_count": null,
   "metadata": {
    "colab": {
     "base_uri": "https://localhost:8080/"
    },
    "id": "YR88t5NVTvcF",
    "outputId": "d3ceccf8-78dd-475e-88ab-5e2472b37c51"
   },
   "outputs": [
    {
     "name": "stdout",
     "output_type": "stream",
     "text": [
      "[[-6  3 16 -2]\n",
      " [68  4 31 66]\n",
      " [40 52 41 -7]\n",
      " [12  4 32 18]\n",
      " [25  2 21 60]]\n"
     ]
    }
   ],
   "source": [
    "print(a)"
   ]
  },
  {
   "cell_type": "code",
   "execution_count": null,
   "metadata": {
    "colab": {
     "base_uri": "https://localhost:8080/"
    },
    "id": "K94gSHCvTvcF",
    "outputId": "1d8e8eb1-1b3c-4fbb-c65a-2ffee8859573"
   },
   "outputs": [
    {
     "name": "stdout",
     "output_type": "stream",
     "text": [
      "68\n",
      "[68 52 41 66]\n",
      "[1 2 2 1]\n",
      "[16 68 52 32 60]\n",
      "[2 0 1 2 3]\n"
     ]
    }
   ],
   "source": [
    "print(a.max())              # максимальный элемент\n",
    "print(a.max(axis=0))        # максимумы по столбцам\n",
    "print(a.argmax(axis=0))     # индексы строк максимумов по столбцам\n",
    "print(a.max(axis=1))        # максимумы по строкам\n",
    "print(a.argmax(axis=1))     # индексы столбцов максимумов по строкам"
   ]
  },
  {
   "cell_type": "markdown",
   "metadata": {
    "id": "F2Gc-AHRTvcG"
   },
   "source": [
    "- счетчик"
   ]
  },
  {
   "cell_type": "code",
   "execution_count": null,
   "metadata": {
    "colab": {
     "base_uri": "https://localhost:8080/"
    },
    "id": "lUrDR_csTvcG",
    "outputId": "fe6b3158-2caa-40e5-8850-b83765d409ca"
   },
   "outputs": [
    {
     "data": {
      "text/plain": [
       "array([1, 1, 1, 1, 1])"
      ]
     },
     "execution_count": 215,
     "metadata": {
      "tags": []
     },
     "output_type": "execute_result"
    }
   ],
   "source": [
    "np.bincount(np.arange(5))\n",
    "# np.arange(5) == array([0, 1, 2, 3, 4])\n",
    "# [0, 1, 2, 3, 4]"
   ]
  },
  {
   "cell_type": "code",
   "execution_count": null,
   "metadata": {
    "colab": {
     "base_uri": "https://localhost:8080/"
    },
    "id": "hzZ2TbhFTvcG",
    "outputId": "e41e8c2b-9b7f-463d-ca81-2b22b5d98d42"
   },
   "outputs": [
    {
     "data": {
      "text/plain": [
       "array([1, 3, 1, 1, 0, 0, 0, 1])"
      ]
     },
     "execution_count": 216,
     "metadata": {
      "tags": []
     },
     "output_type": "execute_result"
    }
   ],
   "source": [
    "np.bincount(np.array([0, 1, 1, 3, 2, 1, 7]))\n",
    "# [0, 1, 2, 3, 4, 5, 6, 7]"
   ]
  },
  {
   "cell_type": "markdown",
   "metadata": {
    "id": "XSy2TA6aTvcG"
   },
   "source": [
    "Как это получилось? Получили массив соответсвующий диапазону от 0 до max. И посчитали кол-во попаданий в 0, 1, 2, ... max."
   ]
  },
  {
   "cell_type": "code",
   "execution_count": null,
   "metadata": {
    "colab": {
     "base_uri": "https://localhost:8080/"
    },
    "id": "6DvhRkkrTvcG",
    "outputId": "30730517-8f4c-4e39-90bd-3a99d94b2fdd"
   },
   "outputs": [
    {
     "name": "stdout",
     "output_type": "stream",
     "text": [
      "[17.  8. 13.]\n"
     ]
    }
   ],
   "source": [
    "# с помощью аргумента weights можно посчитать сумму части эелемента массива\n",
    "sub_sums = np.bincount(np.array([2, 0, 2, 1, 0, 0, 2, 2, 0, 1]), \n",
    "                        weights=[4, 4, 2, 3, 5, 1, 6, 1, 7, 5])\n",
    "# [0, 1, 2]\n",
    "# 0 -> 4 + 5 + 1 + 7 = 17\n",
    "# 1 -> 3 + 5 = 8\n",
    "# 2 -> 4 + 2 + 6 + 1 = 13\n",
    "print(sub_sums)"
   ]
  },
  {
   "cell_type": "markdown",
   "metadata": {
    "id": "3yOOmB-5TvcH"
   },
   "source": [
    "<span style=\"color:blue\">Как найти наиболее частое значение в массиве?</span>"
   ]
  },
  {
   "cell_type": "code",
   "execution_count": null,
   "metadata": {
    "colab": {
     "base_uri": "https://localhost:8080/"
    },
    "id": "ZfmYhm6xTvcH",
    "outputId": "e7521eda-71e0-4ed0-b24f-5b25269fbe78"
   },
   "outputs": [
    {
     "name": "stdout",
     "output_type": "stream",
     "text": [
      "[2 5 1 9 8 4 5 3 9 6 8 6 0 0 8 8 3 8 2 6 5 7 8 4 0 2 9 7 5 7 8 3 0 0 9 3 6\n",
      " 1 2 0 4 0 7 0 0 1 1 5 6 4]\n",
      "0\n"
     ]
    }
   ],
   "source": [
    "z = np.random.randint(0, 10, 50)\n",
    "print(z)\n",
    "print(np.bincount(z).argmax())"
   ]
  },
  {
   "cell_type": "code",
   "execution_count": null,
   "metadata": {
    "colab": {
     "base_uri": "https://localhost:8080/"
    },
    "id": "U79QnWqfD4zF",
    "outputId": "b111ab43-22b2-492a-bde4-aef265ecce69"
   },
   "outputs": [
    {
     "data": {
      "text/plain": [
       "array([9, 4, 4, 4, 4, 5, 5, 4, 7, 4])"
      ]
     },
     "execution_count": 220,
     "metadata": {
      "tags": []
     },
     "output_type": "execute_result"
    }
   ],
   "source": [
    "np.bincount(z)"
   ]
  },
  {
   "cell_type": "code",
   "execution_count": null,
   "metadata": {
    "id": "fYY-NNtqTvcH"
   },
   "outputs": [],
   "source": [
    "# Задачи"
   ]
  },
  {
   "cell_type": "markdown",
   "metadata": {
    "id": "1RYPOSXZElN1"
   },
   "source": [
    "Создайте массив из 100 элементов (от 1 до 100), переформатируйте в формат (10 * 10), сделайте слайсинг с шагом 2 по каждой оси."
   ]
  },
  {
   "cell_type": "code",
   "execution_count": null,
   "metadata": {
    "colab": {
     "base_uri": "https://localhost:8080/"
    },
    "id": "X7vGIUKuTvcH",
    "outputId": "cabf6f12-42a8-4e5c-c2c2-be15c5c2d24f"
   },
   "outputs": [
    {
     "data": {
      "text/plain": [
       "array([32, 13, 20, 47, 19,  7,  6, 66, 16, 32, 47, 75, 58, 85, 21, 29, 37,\n",
       "       50, 53,  7, 26, 26, 97, 20, 29, 96, 27, 63, 96, 68, 60, 47, 18,  3,\n",
       "       34, 63, 48, 16, 43, 91, 29, 92, 45,  5, 98, 36, 23, 92, 45, 52, 94,\n",
       "       98, 59, 96, 62, 84, 31, 86, 32, 66, 17, 24, 94, 53, 57, 66, 45, 23,\n",
       "       31, 46, 85, 22, 65, 26,  1, 89, 16, 32,  8, 42, 47, 38, 92, 41, 25,\n",
       "       98, 49, 24, 23, 12, 59,  6, 56, 35, 44, 19, 64,  7, 15, 13])"
      ]
     },
     "execution_count": 222,
     "metadata": {
      "tags": []
     },
     "output_type": "execute_result"
    }
   ],
   "source": [
    "z = np.random.randint(0, 100, 100) \n",
    "z"
   ]
  },
  {
   "cell_type": "code",
   "execution_count": null,
   "metadata": {
    "colab": {
     "base_uri": "https://localhost:8080/"
    },
    "id": "a2zAOqvdFDI1",
    "outputId": "e427ba82-54b3-4e5a-ccf7-0b6c74ae162d"
   },
   "outputs": [
    {
     "data": {
      "text/plain": [
       "array([  1,   2,   3,   4,   5,   6,   7,   8,   9,  10,  11,  12,  13,\n",
       "        14,  15,  16,  17,  18,  19,  20,  21,  22,  23,  24,  25,  26,\n",
       "        27,  28,  29,  30,  31,  32,  33,  34,  35,  36,  37,  38,  39,\n",
       "        40,  41,  42,  43,  44,  45,  46,  47,  48,  49,  50,  51,  52,\n",
       "        53,  54,  55,  56,  57,  58,  59,  60,  61,  62,  63,  64,  65,\n",
       "        66,  67,  68,  69,  70,  71,  72,  73,  74,  75,  76,  77,  78,\n",
       "        79,  80,  81,  82,  83,  84,  85,  86,  87,  88,  89,  90,  91,\n",
       "        92,  93,  94,  95,  96,  97,  98,  99, 100])"
      ]
     },
     "execution_count": 224,
     "metadata": {
      "tags": []
     },
     "output_type": "execute_result"
    }
   ],
   "source": [
    "arr = np.arange(1, 101)\n",
    "arr"
   ]
  },
  {
   "cell_type": "code",
   "execution_count": null,
   "metadata": {
    "colab": {
     "base_uri": "https://localhost:8080/"
    },
    "id": "4vqjtIaIFxaI",
    "outputId": "f69642d4-f528-4912-c089-309e55ea9c4a"
   },
   "outputs": [
    {
     "data": {
      "text/plain": [
       "array([[  1,   2,   3,   4,   5,   6,   7,   8,   9,  10],\n",
       "       [ 11,  12,  13,  14,  15,  16,  17,  18,  19,  20],\n",
       "       [ 21,  22,  23,  24,  25,  26,  27,  28,  29,  30],\n",
       "       [ 31,  32,  33,  34,  35,  36,  37,  38,  39,  40],\n",
       "       [ 41,  42,  43,  44,  45,  46,  47,  48,  49,  50],\n",
       "       [ 51,  52,  53,  54,  55,  56,  57,  58,  59,  60],\n",
       "       [ 61,  62,  63,  64,  65,  66,  67,  68,  69,  70],\n",
       "       [ 71,  72,  73,  74,  75,  76,  77,  78,  79,  80],\n",
       "       [ 81,  82,  83,  84,  85,  86,  87,  88,  89,  90],\n",
       "       [ 91,  92,  93,  94,  95,  96,  97,  98,  99, 100]])"
      ]
     },
     "execution_count": 227,
     "metadata": {
      "tags": []
     },
     "output_type": "execute_result"
    }
   ],
   "source": [
    "arr = np.arange(1, 101, 1).reshape((10, 10))\n",
    "arr"
   ]
  },
  {
   "cell_type": "code",
   "execution_count": null,
   "metadata": {
    "colab": {
     "base_uri": "https://localhost:8080/"
    },
    "id": "pIVbgBYrGdvg",
    "outputId": "cbcf38cf-0003-4986-8622-e589580022c2"
   },
   "outputs": [
    {
     "data": {
      "text/plain": [
       "array([[ 1,  3,  5,  7,  9],\n",
       "       [21, 23, 25, 27, 29],\n",
       "       [41, 43, 45, 47, 49],\n",
       "       [61, 63, 65, 67, 69],\n",
       "       [81, 83, 85, 87, 89]])"
      ]
     },
     "execution_count": 229,
     "metadata": {
      "tags": []
     },
     "output_type": "execute_result"
    }
   ],
   "source": [
    "arr = np.arange(1, 101, 1).reshape((10, 10))[::2, ::2] \n",
    "arr"
   ]
  },
  {
   "cell_type": "code",
   "execution_count": null,
   "metadata": {
    "id": "pU3ce6d-G5jZ"
   },
   "outputs": [],
   "source": []
  }
 ],
 "metadata": {
  "colab": {
   "provenance": []
  },
  "kernelspec": {
   "display_name": "Python 3 (ipykernel)",
   "language": "python",
   "name": "python3"
  },
  "language_info": {
   "codemirror_mode": {
    "name": "ipython",
    "version": 3
   },
   "file_extension": ".py",
   "mimetype": "text/x-python",
   "name": "python",
   "nbconvert_exporter": "python",
   "pygments_lexer": "ipython3",
   "version": "3.8.12"
  }
 },
 "nbformat": 4,
 "nbformat_minor": 1
}
