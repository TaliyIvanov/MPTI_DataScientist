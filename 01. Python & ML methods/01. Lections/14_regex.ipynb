{
 "cells": [
  {
   "cell_type": "markdown",
   "id": "40b16c9b",
   "metadata": {
    "id": "7J5r-UJCgvJO"
   },
   "source": [
    "# Регулярные выражения\n",
    "\n",
    "Давайте вернемся в начало курса и вспомним самые обычные строки. Метод `find` ищет подстроку в строке."
   ]
  },
  {
   "cell_type": "code",
   "execution_count": null,
   "id": "ff1cdddd",
   "metadata": {
    "colab": {
     "base_uri": "https://localhost:8080/"
    },
    "executionInfo": {
     "elapsed": 439,
     "status": "ok",
     "timestamp": 1657130164032,
     "user": {
      "displayName": "Ilia Sklonin",
      "userId": "11017978408778967846"
     },
     "user_tz": -180
    },
    "id": "qwcJ_DnTgvJR",
    "outputId": "26815903-857c-4029-aee6-4474f4130247"
   },
   "outputs": [],
   "source": [
    "s = 'абракадабра'\n",
    "s.find('бра')"
   ]
  },
  {
   "cell_type": "code",
   "execution_count": null,
   "id": "8788077f",
   "metadata": {
    "colab": {
     "base_uri": "https://localhost:8080/"
    },
    "executionInfo": {
     "elapsed": 464,
     "status": "ok",
     "timestamp": 1657130184621,
     "user": {
      "displayName": "Ilia Sklonin",
      "userId": "11017978408778967846"
     },
     "user_tz": -180
    },
    "id": "bFr1k2OjgvJT",
    "outputId": "b48fdfb9-1dce-4318-c718-01a23cc6c82e"
   },
   "outputs": [],
   "source": [
    "s.find('бро')"
   ]
  },
  {
   "cell_type": "code",
   "execution_count": null,
   "id": "431d8537",
   "metadata": {
    "executionInfo": {
     "elapsed": 2,
     "status": "ok",
     "timestamp": 1657130225618,
     "user": {
      "displayName": "Ilia Sklonin",
      "userId": "11017978408778967846"
     },
     "user_tz": -180
    },
    "id": "QQ2wB0-W-JWT"
   },
   "outputs": [],
   "source": [
    "if s.find('а'):\n",
    "    print('found')"
   ]
  },
  {
   "cell_type": "code",
   "execution_count": null,
   "id": "f1a99386",
   "metadata": {
    "colab": {
     "base_uri": "https://localhost:8080/"
    },
    "executionInfo": {
     "elapsed": 389,
     "status": "ok",
     "timestamp": 1657130238817,
     "user": {
      "displayName": "Ilia Sklonin",
      "userId": "11017978408778967846"
     },
     "user_tz": -180
    },
    "id": "8mMbn13agvJU",
    "outputId": "dabf6fb6-8015-4032-857e-15c6c13614ba"
   },
   "outputs": [],
   "source": [
    "s.find('бра', 3)"
   ]
  },
  {
   "cell_type": "code",
   "execution_count": null,
   "id": "0881ec7d",
   "metadata": {
    "colab": {
     "base_uri": "https://localhost:8080/",
     "height": 35
    },
    "executionInfo": {
     "elapsed": 393,
     "status": "ok",
     "timestamp": 1657130282522,
     "user": {
      "displayName": "Ilia Sklonin",
      "userId": "11017978408778967846"
     },
     "user_tz": -180
    },
    "id": "wKeeQ52EgvJV",
    "outputId": "d8202974-e5da-4e84-b65b-66eae1aee8b8"
   },
   "outputs": [],
   "source": [
    "s.replace('бра', 'БРА')"
   ]
  },
  {
   "cell_type": "code",
   "execution_count": null,
   "id": "7445a733",
   "metadata": {
    "colab": {
     "base_uri": "https://localhost:8080/",
     "height": 35
    },
    "executionInfo": {
     "elapsed": 421,
     "status": "ok",
     "timestamp": 1657130296287,
     "user": {
      "displayName": "Ilia Sklonin",
      "userId": "11017978408778967846"
     },
     "user_tz": -180
    },
    "id": "6nooC_VwgvJX",
    "outputId": "5524b426-11f8-4691-93d1-85762d0b5347"
   },
   "outputs": [],
   "source": [
    "s.replace('бра', 'БРА', 1)"
   ]
  },
  {
   "cell_type": "markdown",
   "id": "6b6fc44a",
   "metadata": {
    "id": "DGim8ODigvJX"
   },
   "source": [
    "Но эти методы работают только с фиксированными подстроками. Для более гибкой обработки текстов можно использовать модуль `re`, который позволяет искать и заменять подстроки, соответствующий некоторым образцам - регулярным выражениям."
   ]
  },
  {
   "cell_type": "markdown",
   "id": "a248f5ca",
   "metadata": {},
   "source": [
    "Регулярное выражение - это строка, задающая некоторый шаблон поиска подстрок в тексте. Самый простой шаблон - это любая строка (не содержащая спецсимволов), но при работе с регулярками необходимы raw-strings: `r'simple'`. Такой шаблон обозначает сам себя.\n",
    "\n",
    "[Визуализация регулярок](https://regex101.com/) \n",
    "\n",
    "[Еще один визуализатор регулярок](https://www.debuggex.com)\n",
    "\n"
   ]
  },
  {
   "cell_type": "code",
   "execution_count": null,
   "id": "4a0c49e6",
   "metadata": {
    "id": "yhW6jKvM-zk6"
   },
   "outputs": [],
   "source": [
    "# regular expressions"
   ]
  },
  {
   "cell_type": "code",
   "execution_count": null,
   "id": "be32f1b0",
   "metadata": {
    "executionInfo": {
     "elapsed": 388,
     "status": "ok",
     "timestamp": 1657133309879,
     "user": {
      "displayName": "Ilia Sklonin",
      "userId": "11017978408778967846"
     },
     "user_tz": -180
    },
    "id": "nAayluyggvJY"
   },
   "outputs": [],
   "source": [
    "import re"
   ]
  },
  {
   "cell_type": "code",
   "execution_count": null,
   "id": "c1b574f8",
   "metadata": {
    "colab": {
     "base_uri": "https://localhost:8080/"
    },
    "executionInfo": {
     "elapsed": 3,
     "status": "ok",
     "timestamp": 1657130784917,
     "user": {
      "displayName": "Ilia Sklonin",
      "userId": "11017978408778967846"
     },
     "user_tz": -180
    },
    "id": "mlQD14yVr3gd",
    "outputId": "aeaad569-a1dd-4d9c-eccb-b58a60d10321"
   },
   "outputs": [],
   "source": [
    "print('\\\\\\\\')\n",
    "# raw-string\n",
    "print(r'\\\\')"
   ]
  },
  {
   "cell_type": "code",
   "execution_count": null,
   "id": "4fb6f46d",
   "metadata": {
    "id": "JMRPu-CDsvqK"
   },
   "outputs": [],
   "source": [
    "# СПЕЦИАЛЬНЫЕ СИМВОЛЫ\n",
    "# . - любой символ,  кроме '\\n'\n",
    "# ^ - начало строки\n",
    "# $ - конец строки\n",
    "# ?   # сигил\n",
    "# \\ - символ экранирования\n",
    "# | - или\n",
    "# {, } - задают кол-во символов или диапазон кол-ва символов\n",
    "# [ ] - промежутки символов - подойдет любой из промежутка\n",
    "# ( ) - позволяют группировать regex\n",
    "\n",
    "# Примеры:\n",
    "# [0-9], [0123456789]\n",
    "# [a-zA-Z]\n",
    "# [а-яА-Я] отсутствует ё и Ё\n",
    "# [^a-z] - все, кроме [a-z]\n",
    "# \\d - любая цифра\n",
    "# \\w - любая буква, _ и [0-9]\n",
    "# \\s - 'пробельный символ' - любое пустое пространство \n",
    "# \\D - все, кроме \\d\n",
    "# \\W - все, кроме \\w\n",
    "# \\S - все, кроме \\s\n",
    "# regex* - (0, +inf)\n",
    "# regex+ (1, +inf)   # пример: r'(012)+' == 012, 012012, 012012012...\n",
    "# ? - отключает жадность + и *\n",
    "# a{5} == 'aaaaa'\n",
    "# a{2, 4} == 'aa', 'aaa', 'aaaa'\n",
    "# a{6,} == (6, inf)"
   ]
  },
  {
   "cell_type": "code",
   "execution_count": null,
   "id": "65731a6b",
   "metadata": {},
   "outputs": [],
   "source": [
    "ord('z'), ord('a'), ord('A'), ord('Z'), ord('а'), ord('я'), ord('ё'), ord('А'), ord('Я'), ord('Ё')"
   ]
  },
  {
   "cell_type": "markdown",
   "id": "2e165a12",
   "metadata": {
    "id": "9YOThfj2gvJc"
   },
   "source": [
    "В регулярном выражении все символы, кроме специальных, обозначают сами себя. Специальные символы - это `.`, `^`, `$`, `*`, `+`, `?`, `\\`, `|`, `{`, `}`, `[`, `]`, `(`, `)`. Если требуется включить в регулярное выражение один из этих символов буквально, как обычный, перед ним нужно поставить `\\`. Вообще, в регулярных выражениях часто приходится использовать `\\`. А чтобы включить этот символ в строку на питоне, его надо писать как `\\\\`. Например, регулярное выражение, которое сопоставляется с символом `\\` - это `\\\\`; в виде питонской строки его приходится писать как `'\\\\\\\\'`. Неудобно. Поэтому для записи регулярных выражений часто используют сырые строки - raw. Они пишутся как `r'строка'` или `r\"строка\"`, в них `\\` является вполне обычным символом. Так что это же регулярное выражение можно записать в виде сырой строки `r'\\\\'`."
   ]
  },
  {
   "cell_type": "markdown",
   "id": "27ae0fcd",
   "metadata": {
    "id": "hgHXhuVagvJd"
   },
   "source": [
    "Специальный символ `.` в регулярном выражении сопоставляется с любым (одним!) символом в строке (кроме символа `'\\n'`). Мы это уже видели. Конструкция `[abc]` сопоставляется с `a`, `b` или `c`. В ней можно использовать диапазоны: `[0-9]` - это любая цифра, а `[a-zA-Z]` - любая латинская буква. Но тут надо быть осторожным: это диапазоны в юникоднм порядке. Латинские буквы в нём действительно идут подряд, так что для обычных латинских букв (без каких-нибудь умляютов) это правильно. Но вот `[а-яА-Я]` не включает все расские буквы - `ё` и `Ё` находятся вне этих диапазонов. Так что для проверки на русскую букву нужно писать `[а-яёА-ЯЁ]`. Большинство специальных символов теряют свою специальность между `[` и `]` и рассматриваются как обычные. Если первым символом после `[` идёт `^`, то это значит любой символ, кроме тех, что дальше перечислены.\n",
    "\n",
    "Юникод умеет много гитик, поэтому надёжнее использовать заранее определённые классы символов. Так, `\\d` означает любую цифру (в юникоде, в добавок к `[0-9]`, их есть ещё много); `\\w` означает любой символ, который может присутствовать в слове - букву, цифру или `_`; `\\s` означает любой \"пробел\" (пустое пространство, включая табуляцию, `'\\n'` и т.д.). Заглавные буквы означают дополнения к этим множествам: `\\D` - любая не-цифра; `\\W` - не встречается в словах (т.е. не буква, не цифра и не `_`); `\\S` - любой не-пробел.\n",
    "\n",
    "После подвыражения в регулярном выражении можно поставить `*`, это означает любое число повторений (от 0 до $\\infty$) этого подвыражения. Например, `.*` сопоставляется с абсолютно чем угодно. Если поставить `+`, то это любое ненулевое число повторений (от 1 до $\\infty$). А если поставить `?`, то это 0 или 1 вхождение, т.е. это предыдущее подвыражение может присутствовать либо отсутствовать. Можно задать возможные числа повторений более явно: `а{5}` означает 5 букв `а`, `а{2,4}` - от 2 до 4 букв `а`, `а{6,}` - от 6 до $\\infty$ букв `а`. Но это используется редко."
   ]
  },
  {
   "cell_type": "code",
   "execution_count": null,
   "id": "019fe093",
   "metadata": {
    "colab": {
     "base_uri": "https://localhost:8080/",
     "height": 35
    },
    "executionInfo": {
     "elapsed": 421,
     "status": "ok",
     "timestamp": 1657131974571,
     "user": {
      "displayName": "Ilia Sklonin",
      "userId": "11017978408778967846"
     },
     "user_tz": -180
    },
    "id": "Y8TnB8OPtnev",
    "outputId": "3d80c0c1-69e9-43d5-a083-6f44f9003fbc"
   },
   "outputs": [],
   "source": [
    "string = '12345 abcdefgh 123 @#$%^& _56789_ abcdefgh __ 02468'\n",
    "string"
   ]
  },
  {
   "cell_type": "code",
   "execution_count": null,
   "id": "9f963c4a",
   "metadata": {
    "colab": {
     "base_uri": "https://localhost:8080/"
    },
    "executionInfo": {
     "elapsed": 399,
     "status": "ok",
     "timestamp": 1657131661268,
     "user": {
      "displayName": "Ilia Sklonin",
      "userId": "11017978408778967846"
     },
     "user_tz": -180
    },
    "id": "ZGxvlXE7vf1w",
    "outputId": "ea716400-94b8-4b3b-8022-0bbd98c85115"
   },
   "outputs": [],
   "source": [
    "re.search(r'[5-9]', string)"
   ]
  },
  {
   "cell_type": "code",
   "execution_count": null,
   "id": "eab7dae4",
   "metadata": {
    "colab": {
     "base_uri": "https://localhost:8080/",
     "height": 35
    },
    "executionInfo": {
     "elapsed": 431,
     "status": "ok",
     "timestamp": 1657132012313,
     "user": {
      "displayName": "Ilia Sklonin",
      "userId": "11017978408778967846"
     },
     "user_tz": -180
    },
    "id": "0e_CmP1_t7VS",
    "outputId": "f5b00061-1262-4efa-e389-e2fc713abd07"
   },
   "outputs": [],
   "source": [
    "re.search(r'\\d{5}', string).group()"
   ]
  },
  {
   "cell_type": "markdown",
   "id": "968d56d8",
   "metadata": {},
   "source": [
    "## Жадность"
   ]
  },
  {
   "cell_type": "markdown",
   "id": "6b3b3316",
   "metadata": {},
   "source": [
    "![greedy](../../images/жадность.jpg)"
   ]
  },
  {
   "cell_type": "code",
   "execution_count": null,
   "id": "0a905023",
   "metadata": {
    "colab": {
     "base_uri": "https://localhost:8080/",
     "height": 35
    },
    "executionInfo": {
     "elapsed": 402,
     "status": "ok",
     "timestamp": 1657132618304,
     "user": {
      "displayName": "Ilia Sklonin",
      "userId": "11017978408778967846"
     },
     "user_tz": -180
    },
    "id": "JPwHqm6tzI0a",
    "outputId": "c6b0f7ea-77c0-4eca-8879-0ace63a37f97"
   },
   "outputs": [],
   "source": [
    "# жадность * и +\n",
    "re.search(r'\\d+', string).group()"
   ]
  },
  {
   "cell_type": "code",
   "execution_count": null,
   "id": "0b49bb76",
   "metadata": {
    "colab": {
     "base_uri": "https://localhost:8080/",
     "height": 35
    },
    "executionInfo": {
     "elapsed": 427,
     "status": "ok",
     "timestamp": 1657132697739,
     "user": {
      "displayName": "Ilia Sklonin",
      "userId": "11017978408778967846"
     },
     "user_tz": -180
    },
    "id": "WGWm_R5uzgmN",
    "outputId": "2e0debd5-1bf5-4175-93de-6a59f50e0a37"
   },
   "outputs": [],
   "source": [
    "# ? и жадность * и +\n",
    "re.search(r'\\d+?', string).group()"
   ]
  },
  {
   "cell_type": "code",
   "execution_count": null,
   "id": "1d22877c",
   "metadata": {},
   "outputs": [],
   "source": [
    "string"
   ]
  },
  {
   "cell_type": "code",
   "execution_count": null,
   "id": "e837fc75",
   "metadata": {
    "colab": {
     "base_uri": "https://localhost:8080/"
    },
    "executionInfo": {
     "elapsed": 406,
     "status": "ok",
     "timestamp": 1657131490683,
     "user": {
      "displayName": "Ilia Sklonin",
      "userId": "11017978408778967846"
     },
     "user_tz": -180
    },
    "id": "tFiNyoUTuTiO",
    "outputId": "ac25bbb5-2116-446e-e3e5-bca49d8710c2"
   },
   "outputs": [],
   "source": [
    "re.search(r'\\s\\w+\\s', string)"
   ]
  },
  {
   "cell_type": "markdown",
   "id": "8552bcf2",
   "metadata": {},
   "source": [
    "А где жадность может помешать? Иногда можно начать парсить html с помощью регулярных выражений. Давайте посмотрим:"
   ]
  },
  {
   "cell_type": "code",
   "execution_count": null,
   "id": "ae83d3c5",
   "metadata": {},
   "outputs": [],
   "source": [
    "string = '<html><head><title>Title</title>'\n",
    "len(string)"
   ]
  },
  {
   "cell_type": "markdown",
   "id": "1928b1c4",
   "metadata": {
    "id": "ngnkE8-h1cSv"
   },
   "source": [
    "Функция `re.match()` - отличие от `search`: ищет с начала строки"
   ]
  },
  {
   "cell_type": "code",
   "execution_count": null,
   "id": "e5a0b58d",
   "metadata": {},
   "outputs": [],
   "source": [
    "re.match('<.*>', string)"
   ]
  },
  {
   "cell_type": "code",
   "execution_count": null,
   "id": "c208ff41",
   "metadata": {},
   "outputs": [],
   "source": [
    "re.match('<.*>', string).span()"
   ]
  },
  {
   "cell_type": "code",
   "execution_count": null,
   "id": "bc0afa7a",
   "metadata": {},
   "outputs": [],
   "source": [
    "re.match('<.*>', string).group()"
   ]
  },
  {
   "cell_type": "code",
   "execution_count": null,
   "id": "c292fde9",
   "metadata": {},
   "outputs": [],
   "source": [
    "re.match('<.*?>', string).group()"
   ]
  },
  {
   "cell_type": "code",
   "execution_count": null,
   "id": "2c8f0a80",
   "metadata": {
    "colab": {
     "base_uri": "https://localhost:8080/"
    },
    "executionInfo": {
     "elapsed": 5,
     "status": "ok",
     "timestamp": 1657133177033,
     "user": {
      "displayName": "Ilia Sklonin",
      "userId": "11017978408778967846"
     },
     "user_tz": -180
    },
    "id": "zKB5QlRFgvJZ",
    "outputId": "58a264e5-71d5-4a6f-b6cd-b00a839f0a6c"
   },
   "outputs": [],
   "source": [
    "string = 'xy xay xaby xby'\n",
    "regex = r'x.+y'\n",
    "search = re.search(regex, string)  # x....y если не найдено, то вернет None\n",
    "print(search)\n",
    "print(search.start())\n",
    "print(search.end())\n",
    "print(search.group())"
   ]
  },
  {
   "cell_type": "code",
   "execution_count": null,
   "id": "540af60d",
   "metadata": {
    "colab": {
     "base_uri": "https://localhost:8080/",
     "height": 35
    },
    "executionInfo": {
     "elapsed": 416,
     "status": "ok",
     "timestamp": 1657133373911,
     "user": {
      "displayName": "Ilia Sklonin",
      "userId": "11017978408778967846"
     },
     "user_tz": -180
    },
    "id": "qp4f9CEK2Hsi",
    "outputId": "22e623b9-c99d-4fd6-fd00-4a5d256263ad"
   },
   "outputs": [],
   "source": [
    "string"
   ]
  },
  {
   "cell_type": "code",
   "execution_count": null,
   "id": "f6e64e48",
   "metadata": {
    "colab": {
     "base_uri": "https://localhost:8080/"
    },
    "executionInfo": {
     "elapsed": 397,
     "status": "ok",
     "timestamp": 1657133482075,
     "user": {
      "displayName": "Ilia Sklonin",
      "userId": "11017978408778967846"
     },
     "user_tz": -180
    },
    "id": "ITkK-l-S1rWw",
    "outputId": "7779718f-0b6c-416c-d7d5-aa1ee35dc031"
   },
   "outputs": [],
   "source": [
    "print(re.findall(r'\\s\\w+\\s', string))\n",
    "print(re.findall(r'\\d{2}', string))"
   ]
  },
  {
   "cell_type": "markdown",
   "id": "ce1f48cd",
   "metadata": {
    "id": "bm5dUdnCgvJZ"
   },
   "source": [
    "Часто используемая функция этого модуля - это `sub`. Она возвращает копию исходной строки, в которой все подстроки, соответствующие образцу, заменены на заданную строку - замену."
   ]
  },
  {
   "cell_type": "code",
   "execution_count": null,
   "id": "6b70edcd",
   "metadata": {
    "colab": {
     "base_uri": "https://localhost:8080/",
     "height": 35
    },
    "executionInfo": {
     "elapsed": 7,
     "status": "ok",
     "timestamp": 1657133553638,
     "user": {
      "displayName": "Ilia Sklonin",
      "userId": "11017978408778967846"
     },
     "user_tz": -180
    },
    "id": "Xqywbstx2whY",
    "outputId": "8a153a7a-147d-46c7-e26d-a1a3d52a37b7"
   },
   "outputs": [],
   "source": [
    "s = 'xy xay xaby xby'"
   ]
  },
  {
   "cell_type": "code",
   "execution_count": null,
   "id": "89b0a470",
   "metadata": {
    "colab": {
     "base_uri": "https://localhost:8080/",
     "height": 35
    },
    "executionInfo": {
     "elapsed": 424,
     "status": "ok",
     "timestamp": 1657133566423,
     "user": {
      "displayName": "Ilia Sklonin",
      "userId": "11017978408778967846"
     },
     "user_tz": -180
    },
    "id": "H1xYrjX0gvJa",
    "outputId": "ba345748-6a95-4a90-a3dd-efecbea9d087"
   },
   "outputs": [],
   "source": [
    "re.sub('x.y', 'XXX', s)"
   ]
  },
  {
   "cell_type": "code",
   "execution_count": null,
   "id": "e00fa68e",
   "metadata": {
    "colab": {
     "base_uri": "https://localhost:8080/",
     "height": 35
    },
    "executionInfo": {
     "elapsed": 405,
     "status": "ok",
     "timestamp": 1657133622699,
     "user": {
      "displayName": "Ilia Sklonin",
      "userId": "11017978408778967846"
     },
     "user_tz": -180
    },
    "id": "bnUQkd5OgvJa",
    "outputId": "a0257196-a3ff-4b1f-cb1f-5abe32236a69"
   },
   "outputs": [],
   "source": [
    "re.sub('x.+y', 'XXX', s, 2)"
   ]
  },
  {
   "cell_type": "code",
   "execution_count": null,
   "id": "cd15860d",
   "metadata": {},
   "outputs": [],
   "source": [
    "re.sub('x.+?y', 'XXX', s, 2)"
   ]
  },
  {
   "cell_type": "code",
   "execution_count": null,
   "id": "4290165e",
   "metadata": {},
   "outputs": [],
   "source": [
    "re.sub('x\\w+?y', 'XXX', s, 2)"
   ]
  },
  {
   "cell_type": "markdown",
   "id": "d5e469c0",
   "metadata": {
    "id": "2t2logJqgvJb"
   },
   "source": [
    "Если мы хотим использовать одно и то же регулярное выражение несколько раз, можно скомпилировать его в некий объект, и вместо функций модуля `re` вызывать методы этого объекта. Это повысит эффективность."
   ]
  },
  {
   "cell_type": "code",
   "execution_count": null,
   "id": "cf280317",
   "metadata": {
    "executionInfo": {
     "elapsed": 396,
     "status": "ok",
     "timestamp": 1657134235038,
     "user": {
      "displayName": "Ilia Sklonin",
      "userId": "11017978408778967846"
     },
     "user_tz": -180
    },
    "id": "HCoSPUkS3cBW"
   },
   "outputs": [],
   "source": [
    "string = '12345 _abcd__efgh_ 123 @#$%^& _56789_ abcdefgh __ 02468'"
   ]
  },
  {
   "cell_type": "code",
   "execution_count": null,
   "id": "cf916f54",
   "metadata": {
    "colab": {
     "base_uri": "https://localhost:8080/"
    },
    "executionInfo": {
     "elapsed": 3,
     "status": "ok",
     "timestamp": 1657134566249,
     "user": {
      "displayName": "Ilia Sklonin",
      "userId": "11017978408778967846"
     },
     "user_tz": -180
    },
    "id": "B-hHezeGgvJb",
    "outputId": "9a74c291-83e3-47c7-9c9a-220a4ad214c1"
   },
   "outputs": [],
   "source": [
    "pattern = re.compile(r'(_\\w+?_)')\n",
    "lst_all = pattern.findall(string)\n",
    "print(lst_all)"
   ]
  },
  {
   "cell_type": "markdown",
   "id": "93fe02a1",
   "metadata": {
    "id": "89L_Ej4SgvJe"
   },
   "source": [
    "`^` означает начало строки, а `$` - конец."
   ]
  },
  {
   "cell_type": "code",
   "execution_count": null,
   "id": "918fa252",
   "metadata": {
    "id": "tsLOdFWfgvJe"
   },
   "outputs": [],
   "source": [
    "for s in ['0ab','a0b']:\n",
    "    if search(r'^0', s):\n",
    "        print('нашли')\n",
    "    else:\n",
    "        print('не нашли')"
   ]
  },
  {
   "cell_type": "markdown",
   "id": "02ecfea0",
   "metadata": {
    "id": "RAcAjYh8gvJe"
   },
   "source": [
    "`x|y` означает `x` или `y`. Подвыражения можно заключать в скобки."
   ]
  },
  {
   "cell_type": "code",
   "execution_count": null,
   "id": "3d7ba1b0",
   "metadata": {
    "colab": {
     "base_uri": "https://localhost:8080/"
    },
    "executionInfo": {
     "elapsed": 916,
     "status": "ok",
     "timestamp": 1657134614977,
     "user": {
      "displayName": "Ilia Sklonin",
      "userId": "11017978408778967846"
     },
     "user_tz": -180
    },
    "id": "TEJ1Y05NgvJe",
    "outputId": "f07a4d6f-943e-4388-8d0f-658c89451811"
   },
   "outputs": [],
   "source": [
    "m = re.search(r'(a\\d+b)|(c\\d+d)', 'aaa1234bbbbxxxc123dyyy')\n",
    "print(m.group())"
   ]
  },
  {
   "cell_type": "code",
   "execution_count": null,
   "id": "ca21c21a",
   "metadata": {
    "colab": {
     "base_uri": "https://localhost:8080/"
    },
    "executionInfo": {
     "elapsed": 3,
     "status": "ok",
     "timestamp": 1657134651788,
     "user": {
      "displayName": "Ilia Sklonin",
      "userId": "11017978408778967846"
     },
     "user_tz": -180
    },
    "id": "TrImvW1zgvJf",
    "outputId": "a72a2663-fbf9-406e-e568-44f6e15d8711"
   },
   "outputs": [],
   "source": [
    "m = re.search(r'0(ab)*1', 'x0ababab1y')\n",
    "print(m.group())"
   ]
  },
  {
   "cell_type": "markdown",
   "id": "9f5f1ada",
   "metadata": {
    "id": "GB2huM1ngvJf"
   },
   "source": [
    "Но главная польза от скобок не в этом. Каждая скобка создаёт *группу*. При поиске регулярного выражения в строке куски строки, сопоставленные каждому подвыражению в скобках, запоминаются, и их можно извлечь и использовать. Метод `group` объекта сопоставления, вызванный без параметров, возвращает подстроку, сопоставленную всему регулярному выражению в целом; если же его вызвать с целым параметром `n`, то он возвращает `n`-ую группу."
   ]
  },
  {
   "cell_type": "code",
   "execution_count": null,
   "id": "2321b8da",
   "metadata": {
    "colab": {
     "base_uri": "https://localhost:8080/"
    },
    "executionInfo": {
     "elapsed": 407,
     "status": "ok",
     "timestamp": 1657134820448,
     "user": {
      "displayName": "Ilia Sklonin",
      "userId": "11017978408778967846"
     },
     "user_tz": -180
    },
    "id": "IPfg2BzrgvJf",
    "outputId": "674c6d6a-c8c6-4e00-e34b-4d31eda9d059"
   },
   "outputs": [],
   "source": [
    "pattern = r'(^[a-z]*)(\\d*)([a-z]*$)'\n",
    "string = 'abc123xyz'\n",
    "m = re.search(pattern, string)\n",
    "print(f'1: {m.group(1)}, 2: {m.group(2)}, 3: {m.group(3)}')"
   ]
  },
  {
   "cell_type": "code",
   "execution_count": null,
   "id": "53fdac20",
   "metadata": {
    "colab": {
     "base_uri": "https://localhost:8080/"
    },
    "executionInfo": {
     "elapsed": 2,
     "status": "ok",
     "timestamp": 1657134902436,
     "user": {
      "displayName": "Ilia Sklonin",
      "userId": "11017978408778967846"
     },
     "user_tz": -180
    },
    "id": "ljEoKoP_7xUS",
    "outputId": "3175b13b-b56a-4c93-e8c4-84a42ecf40b4"
   },
   "outputs": [],
   "source": [
    "# ?????????????????????\n",
    "pattern = r'(a\\d*b)(c\\d+d)'\n",
    "string = 'aaa1234bbbccc123ddd'\n",
    "m = re.search(pattern, string)\n",
    "m"
   ]
  },
  {
   "cell_type": "markdown",
   "id": "3157f59d",
   "metadata": {
    "id": "iFj0Mbs7gvJg"
   },
   "source": [
    "Ещё более это полезно в вызовах `sub`. Почти всегда строка-замена должна содержать в себе части исходной строки, найденные при сопоставлении с регулярным выражением. Для этого в строке-замене можно использовать обозначения `\\1`, `\\2` и т.д. - они означают 1-ю, 2-ю и т.д. группы."
   ]
  },
  {
   "cell_type": "markdown",
   "id": "975411ca",
   "metadata": {},
   "source": [
    "Еще раз быстро пройдемся по функциям:"
   ]
  },
  {
   "cell_type": "markdown",
   "id": "fd50ee72",
   "metadata": {},
   "source": [
    "`re.fullmatch(pattern, string)` - проверяет, удовлетворяет ли вся строка `string` шаблону `pattern`"
   ]
  },
  {
   "cell_type": "code",
   "execution_count": null,
   "id": "fdac5ffe",
   "metadata": {
    "ExecuteTime": {
     "end_time": "2019-10-14T19:06:32.549499Z",
     "start_time": "2019-10-14T19:06:32.544137Z"
    }
   },
   "outputs": [],
   "source": [
    "pattern = r'simple'\n",
    "\n",
    "text = \"Make it simple! Stay cool. It isn't simple. But you can try!\""
   ]
  },
  {
   "cell_type": "code",
   "execution_count": null,
   "id": "238f9a12",
   "metadata": {
    "ExecuteTime": {
     "end_time": "2019-10-14T19:06:32.715848Z",
     "start_time": "2019-10-14T19:06:32.708914Z"
    },
    "scrolled": true
   },
   "outputs": [],
   "source": [
    "print(re.fullmatch(pattern, text))"
   ]
  },
  {
   "cell_type": "code",
   "execution_count": null,
   "id": "5648367d",
   "metadata": {
    "ExecuteTime": {
     "end_time": "2019-10-14T19:06:32.871643Z",
     "start_time": "2019-10-14T19:06:32.864010Z"
    }
   },
   "outputs": [],
   "source": [
    "print(re.fullmatch(pattern, 'simple'))"
   ]
  },
  {
   "cell_type": "markdown",
   "id": "8eb2c70d",
   "metadata": {
    "ExecuteTime": {
     "end_time": "2019-10-14T18:59:14.565603Z",
     "start_time": "2019-10-14T18:59:14.558570Z"
    }
   },
   "source": [
    "`re.search(pattern, string)` - ищет первую подстроку в строке `string`, удовлетворяющего шаблону `pattern`"
   ]
  },
  {
   "cell_type": "code",
   "execution_count": null,
   "id": "0c3bb0d5",
   "metadata": {
    "ExecuteTime": {
     "end_time": "2019-10-14T18:59:45.101656Z",
     "start_time": "2019-10-14T18:59:45.096406Z"
    }
   },
   "outputs": [],
   "source": [
    "pattern = r'simple'\n",
    "\n",
    "text = \"Make it simple! Stay cool. It isn't simple. But you can try!\""
   ]
  },
  {
   "cell_type": "code",
   "execution_count": null,
   "id": "0fa943a5",
   "metadata": {
    "ExecuteTime": {
     "end_time": "2019-10-14T19:01:51.257869Z",
     "start_time": "2019-10-14T19:01:51.248797Z"
    }
   },
   "outputs": [],
   "source": [
    "result = re.search(pattern, text)\n",
    "\n",
    "print(result)\n",
    "print(result[0])\n",
    "print(result.start())\n",
    "print(result.end())"
   ]
  },
  {
   "cell_type": "markdown",
   "id": "4de71495",
   "metadata": {
    "ExecuteTime": {
     "end_time": "2019-10-14T19:08:43.264212Z",
     "start_time": "2019-10-14T19:08:43.256119Z"
    }
   },
   "source": [
    "`re.findall(pattern, string)` - найти в строке `string` все непересекающиеся шаблоны `pattern`"
   ]
  },
  {
   "cell_type": "code",
   "execution_count": null,
   "id": "23dc3d59",
   "metadata": {
    "ExecuteTime": {
     "end_time": "2019-10-14T19:08:55.716139Z",
     "start_time": "2019-10-14T19:08:55.710928Z"
    }
   },
   "outputs": [],
   "source": [
    "pattern = r'simple'\n",
    "\n",
    "text = \"Make it simple! Stay cool. It isn't simple. But you can try!\""
   ]
  },
  {
   "cell_type": "code",
   "execution_count": null,
   "id": "a5c9c391",
   "metadata": {
    "ExecuteTime": {
     "end_time": "2019-10-14T19:09:51.915193Z",
     "start_time": "2019-10-14T19:09:51.908992Z"
    }
   },
   "outputs": [],
   "source": [
    "result = re.findall(pattern, text)\n",
    "\n",
    "print(result)"
   ]
  },
  {
   "cell_type": "markdown",
   "id": "10f35264",
   "metadata": {
    "ExecuteTime": {
     "end_time": "2019-10-14T19:07:27.815257Z",
     "start_time": "2019-10-14T19:07:27.807067Z"
    }
   },
   "source": [
    "`re.sub(pattern, repl, string)` - заменить в строке `string` все непересекающиеся шаблоны `pattern` на `repl`"
   ]
  },
  {
   "cell_type": "code",
   "execution_count": null,
   "id": "53132d66",
   "metadata": {
    "ExecuteTime": {
     "end_time": "2019-10-14T19:10:26.390060Z",
     "start_time": "2019-10-14T19:10:26.385347Z"
    }
   },
   "outputs": [],
   "source": [
    "pattern = r'simple'\n",
    "\n",
    "text = \"Make it simple! Stay cool. It isn't simple. But you can try!\""
   ]
  },
  {
   "cell_type": "code",
   "execution_count": null,
   "id": "13b821a3",
   "metadata": {
    "ExecuteTime": {
     "end_time": "2019-10-14T19:10:47.003353Z",
     "start_time": "2019-10-14T19:10:46.995974Z"
    }
   },
   "outputs": [],
   "source": [
    "print(re.sub(pattern, 'hard', text))"
   ]
  },
  {
   "cell_type": "markdown",
   "id": "55fc0474",
   "metadata": {
    "ExecuteTime": {
     "end_time": "2019-10-14T19:15:37.661702Z",
     "start_time": "2019-10-14T19:15:37.653960Z"
    }
   },
   "source": [
    "Шпаргалка по регуляркам: https://www.exlab.net/files/tools/sheets/regexp/regexp.pdf"
   ]
  },
  {
   "cell_type": "markdown",
   "id": "5097aadf",
   "metadata": {},
   "source": [
    "Несколько простых примеров задач:"
   ]
  },
  {
   "cell_type": "markdown",
   "id": "af1a6c68",
   "metadata": {
    "ExecuteTime": {
     "end_time": "2019-10-14T19:16:32.390034Z",
     "start_time": "2019-10-14T19:16:32.381555Z"
    }
   },
   "source": [
    "Напишем регулярное выражение, которое определяет, является ли введенная строка номером телефона (xx-xx-xx)."
   ]
  },
  {
   "cell_type": "code",
   "execution_count": null,
   "id": "7aa47c6d",
   "metadata": {
    "ExecuteTime": {
     "end_time": "2019-10-14T19:17:05.115338Z",
     "start_time": "2019-10-14T19:17:05.109049Z"
    },
    "code_folding": []
   },
   "outputs": [],
   "source": [
    "# паттерн телефона\n",
    "\n",
    "phone_pattern = r'\\d\\d-\\d\\d-\\d\\d'"
   ]
  },
  {
   "cell_type": "code",
   "execution_count": null,
   "id": "22f9b292",
   "metadata": {
    "ExecuteTime": {
     "end_time": "2019-10-14T19:17:36.012852Z",
     "start_time": "2019-10-14T19:17:36.004088Z"
    }
   },
   "outputs": [],
   "source": [
    "re.fullmatch(phone_pattern, '21-00-79')"
   ]
  },
  {
   "cell_type": "code",
   "execution_count": null,
   "id": "53a03d57",
   "metadata": {
    "ExecuteTime": {
     "end_time": "2019-10-14T19:17:58.204940Z",
     "start_time": "2019-10-14T19:17:58.199562Z"
    }
   },
   "outputs": [],
   "source": [
    "re.fullmatch(phone_pattern, '111111')"
   ]
  },
  {
   "cell_type": "markdown",
   "id": "475d4478",
   "metadata": {},
   "source": [
    "Диапазоны []:"
   ]
  },
  {
   "cell_type": "code",
   "execution_count": null,
   "id": "163afe4c",
   "metadata": {
    "ExecuteTime": {
     "end_time": "2019-10-14T19:30:37.726326Z",
     "start_time": "2019-10-14T19:30:37.721098Z"
    },
    "code_folding": [
     0
    ]
   },
   "outputs": [],
   "source": [
    "# новый паттерн телефона\n",
    "\n",
    "phone_pattern = r'[0-9][0-9]-[0-9][0-9]-[0-9][0-9]'"
   ]
  },
  {
   "cell_type": "code",
   "execution_count": null,
   "id": "9e31506c",
   "metadata": {
    "ExecuteTime": {
     "end_time": "2019-10-14T19:30:42.094074Z",
     "start_time": "2019-10-14T19:30:42.085433Z"
    }
   },
   "outputs": [],
   "source": [
    "re.fullmatch(phone_pattern, '21-00-79')"
   ]
  },
  {
   "cell_type": "code",
   "execution_count": null,
   "id": "e568ac54",
   "metadata": {
    "ExecuteTime": {
     "end_time": "2019-10-14T19:31:06.062844Z",
     "start_time": "2019-10-14T19:31:06.057885Z"
    }
   },
   "outputs": [],
   "source": [
    "re.fullmatch(phone_pattern, '111111')"
   ]
  },
  {
   "cell_type": "markdown",
   "id": "6b3f6f4e",
   "metadata": {},
   "source": [
    "С помощью {} можно указывать количество повторений."
   ]
  },
  {
   "cell_type": "code",
   "execution_count": null,
   "id": "b9ef85ae",
   "metadata": {
    "ExecuteTime": {
     "end_time": "2019-10-14T19:22:21.167339Z",
     "start_time": "2019-10-14T19:22:21.161892Z"
    },
    "code_folding": [
     0
    ]
   },
   "outputs": [],
   "source": [
    "# новый паттерн телефона\n",
    "\n",
    "phone_pattern = r'\\d{2}-\\d{2}-\\d{2}'"
   ]
  },
  {
   "cell_type": "code",
   "execution_count": null,
   "id": "d86f57d6",
   "metadata": {
    "ExecuteTime": {
     "end_time": "2019-10-14T19:22:28.425395Z",
     "start_time": "2019-10-14T19:22:28.416175Z"
    }
   },
   "outputs": [],
   "source": [
    "re.fullmatch(phone_pattern, '21-00-79')"
   ]
  },
  {
   "cell_type": "code",
   "execution_count": null,
   "id": "62375780",
   "metadata": {
    "ExecuteTime": {
     "end_time": "2019-10-14T19:22:35.786548Z",
     "start_time": "2019-10-14T19:22:35.780582Z"
    }
   },
   "outputs": [],
   "source": [
    "re.fullmatch(phone_pattern, '111111')"
   ]
  },
  {
   "cell_type": "markdown",
   "id": "681f2801",
   "metadata": {},
   "source": [
    "Скобочные группы (), к ним можно применять квантификаторы:"
   ]
  },
  {
   "cell_type": "code",
   "execution_count": null,
   "id": "e5e9b33a",
   "metadata": {
    "ExecuteTime": {
     "end_time": "2019-10-14T19:26:25.109360Z",
     "start_time": "2019-10-14T19:26:25.103542Z"
    },
    "code_folding": [
     0
    ]
   },
   "outputs": [],
   "source": [
    "# новый паттерн телефона\n",
    "\n",
    "phone_pattern = r'\\d{2}(-\\d{2}){2}'"
   ]
  },
  {
   "cell_type": "code",
   "execution_count": null,
   "id": "43ac8be1",
   "metadata": {
    "ExecuteTime": {
     "end_time": "2019-10-14T19:26:28.563588Z",
     "start_time": "2019-10-14T19:26:28.555650Z"
    }
   },
   "outputs": [],
   "source": [
    "re.fullmatch(phone_pattern, '21-00-79')"
   ]
  },
  {
   "cell_type": "code",
   "execution_count": null,
   "id": "b7b271bb",
   "metadata": {
    "ExecuteTime": {
     "end_time": "2019-10-14T19:26:36.896142Z",
     "start_time": "2019-10-14T19:26:36.890601Z"
    }
   },
   "outputs": [],
   "source": [
    "re.fullmatch(phone_pattern, '21-00')"
   ]
  },
  {
   "cell_type": "markdown",
   "id": "44ac2c63",
   "metadata": {},
   "source": [
    " Небольшие задачки:"
   ]
  },
  {
   "cell_type": "markdown",
   "id": "76e57360",
   "metadata": {},
   "source": [
    "1. Является ли строка номерным знаком (м000нт)"
   ]
  },
  {
   "cell_type": "code",
   "execution_count": null,
   "id": "8a2d7e81",
   "metadata": {},
   "outputs": [],
   "source": [
    "pattern = ...\n",
    "strings = ['м000нт', 'qwerty']"
   ]
  },
  {
   "cell_type": "markdown",
   "id": "2e4acb56",
   "metadata": {
    "ExecuteTime": {
     "end_time": "2019-10-14T19:33:28.052563Z",
     "start_time": "2019-10-14T19:33:28.045812Z"
    }
   },
   "source": [
    "2. Извлечь все слова, начинающиеся на гласную"
   ]
  },
  {
   "cell_type": "code",
   "execution_count": null,
   "id": "7e59ca50",
   "metadata": {},
   "outputs": [],
   "source": [
    "pattern = ...\n",
    "string = 'apple banana avocado'"
   ]
  }
 ],
 "metadata": {
  "kernelspec": {
   "display_name": "Python 3 (ipykernel)",
   "language": "python",
   "name": "python3"
  },
  "language_info": {
   "codemirror_mode": {
    "name": "ipython",
    "version": 3
   },
   "file_extension": ".py",
   "mimetype": "text/x-python",
   "name": "python",
   "nbconvert_exporter": "python",
   "pygments_lexer": "ipython3",
   "version": "3.8.12"
  }
 },
 "nbformat": 4,
 "nbformat_minor": 5
}
