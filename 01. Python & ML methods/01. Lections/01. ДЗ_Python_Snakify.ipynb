{
 "cells": [
  {
   "cell_type": "markdown",
   "id": "ee01cfb0",
   "metadata": {
    "toc": true
   },
   "source": [
    "<h1>Table of Contents<span class=\"tocSkip\"></span></h1>\n",
    "<div class=\"toc\"><ul class=\"toc-item\"><li><span><a href=\"#Lesson-1---Input,-print-and-numbers\" data-toc-modified-id=\"Lesson-1---Input,-print-and-numbers-1\"><span class=\"toc-item-num\">1&nbsp;&nbsp;</span>Lesson 1 - Input, print and numbers</a></span><ul class=\"toc-item\"><li><span><a href=\"#Theory\" data-toc-modified-id=\"Theory-1.1\"><span class=\"toc-item-num\">1.1&nbsp;&nbsp;</span>Theory</a></span><ul class=\"toc-item\"><li><span><a href=\"#How-to-read-and-write-in-Python\" data-toc-modified-id=\"How-to-read-and-write-in-Python-1.1.1\"><span class=\"toc-item-num\">1.1.1&nbsp;&nbsp;</span>How to read and write in Python</a></span></li><li><span><a href=\"#Sum-of-numbers-and-strings\" data-toc-modified-id=\"Sum-of-numbers-and-strings-1.1.2\"><span class=\"toc-item-num\">1.1.2&nbsp;&nbsp;</span>Sum of numbers and strings</a></span></li></ul></li><li><span><a href=\"#Steps\" data-toc-modified-id=\"Steps-1.2\"><span class=\"toc-item-num\">1.2&nbsp;&nbsp;</span>Steps</a></span><ul class=\"toc-item\"><li><ul class=\"toc-item\"><li><span><a href=\"#It's-all-about-the-data\" data-toc-modified-id=\"It's-all-about-the-data-1.2.0.1\"><span class=\"toc-item-num\">1.2.0.1&nbsp;&nbsp;</span>It's all about the data</a></span></li><li><span><a href=\"#Your-own.-Personal.-Calculator.\" data-toc-modified-id=\"Your-own.-Personal.-Calculator.-1.2.0.2\"><span class=\"toc-item-num\">1.2.0.2&nbsp;&nbsp;</span>Your own. Personal. Calculator.</a></span></li><li><span><a href=\"#Reach-out-and-touch-faith.\" data-toc-modified-id=\"Reach-out-and-touch-faith.-1.2.0.3\"><span class=\"toc-item-num\">1.2.0.3&nbsp;&nbsp;</span>Reach out and touch faith.</a></span></li><li><span><a href=\"#Weird-arithmetic-comes-in\" data-toc-modified-id=\"Weird-arithmetic-comes-in-1.2.0.4\"><span class=\"toc-item-num\">1.2.0.4&nbsp;&nbsp;</span>Weird arithmetic comes in</a></span></li><li><span><a href=\"#print(a,-b,-c)\" data-toc-modified-id=\"print(a,-b,-c)-1.2.0.5\"><span class=\"toc-item-num\">1.2.0.5&nbsp;&nbsp;</span>print(a, b, c)</a></span></li><li><span><a href=\"#Come-together!-Right-now...\" data-toc-modified-id=\"Come-together!-Right-now...-1.2.0.6\"><span class=\"toc-item-num\">1.2.0.6&nbsp;&nbsp;</span>Come together! Right now...</a></span></li><li><span><a href=\"#...over-me!\" data-toc-modified-id=\"...over-me!-1.2.0.7\"><span class=\"toc-item-num\">1.2.0.7&nbsp;&nbsp;</span>...over me!</a></span></li><li><span><a href=\"#Your-marvellous-comments\" data-toc-modified-id=\"Your-marvellous-comments-1.2.0.8\"><span class=\"toc-item-num\">1.2.0.8&nbsp;&nbsp;</span>Your marvellous comments</a></span></li><li><span><a href=\"#Say-what-you-think-of-Scott-and-Mary\" data-toc-modified-id=\"Say-what-you-think-of-Scott-and-Mary-1.2.0.9\"><span class=\"toc-item-num\">1.2.0.9&nbsp;&nbsp;</span>Say what you think of Scott and Mary</a></span></li><li><span><a href=\"#The-Oscar-goes-to-you\" data-toc-modified-id=\"The-Oscar-goes-to-you-1.2.0.10\"><span class=\"toc-item-num\">1.2.0.10&nbsp;&nbsp;</span>The Oscar goes to you</a></span></li><li><span><a href=\"#The-task,-it-goes-to-you\" data-toc-modified-id=\"The-task,-it-goes-to-you-1.2.0.11\"><span class=\"toc-item-num\">1.2.0.11&nbsp;&nbsp;</span>The task, it goes to you</a></span></li><li><span><a href=\"#The-task-for-Elon-Musk\" data-toc-modified-id=\"The-task-for-Elon-Musk-1.2.0.12\"><span class=\"toc-item-num\">1.2.0.12&nbsp;&nbsp;</span>The task for Elon Musk</a></span></li><li><span><a href=\"#Know-how-to-input\" data-toc-modified-id=\"Know-how-to-input-1.2.0.13\"><span class=\"toc-item-num\">1.2.0.13&nbsp;&nbsp;</span>Know how to input</a></span></li><li><span><a href=\"#What-you-input-is-always-a-string\" data-toc-modified-id=\"What-you-input-is-always-a-string-1.2.0.14\"><span class=\"toc-item-num\">1.2.0.14&nbsp;&nbsp;</span>What you input is always a string</a></span></li><li><span><a href=\"#Variables\" data-toc-modified-id=\"Variables-1.2.0.15\"><span class=\"toc-item-num\">1.2.0.15&nbsp;&nbsp;</span>Variables</a></span></li><li><span><a href=\"#The-more-variables-the-better\" data-toc-modified-id=\"The-more-variables-the-better-1.2.0.16\"><span class=\"toc-item-num\">1.2.0.16&nbsp;&nbsp;</span>The more variables the better</a></span></li><li><span><a href=\"#Greet-yourself\" data-toc-modified-id=\"Greet-yourself-1.2.0.17\"><span class=\"toc-item-num\">1.2.0.17&nbsp;&nbsp;</span>Greet yourself</a></span></li><li><span><a href=\"#The-very-start:-summing-two-numbers\" data-toc-modified-id=\"The-very-start:-summing-two-numbers-1.2.0.18\"><span class=\"toc-item-num\">1.2.0.18&nbsp;&nbsp;</span>The very start: summing two numbers</a></span></li><li><span><a href=\"#Oops:-you-added-strings,-not-numbers\" data-toc-modified-id=\"Oops:-you-added-strings,-not-numbers-1.2.0.19\"><span class=\"toc-item-num\">1.2.0.19&nbsp;&nbsp;</span>Oops: you added strings, not numbers</a></span></li><li><span><a href=\"#What-are-strings-and-what-are-numbers\" data-toc-modified-id=\"What-are-strings-and-what-are-numbers-1.2.0.20\"><span class=\"toc-item-num\">1.2.0.20&nbsp;&nbsp;</span>What are strings and what are numbers</a></span></li><li><span><a href=\"#I-can't-multiply-strings-:(\" data-toc-modified-id=\"I-can't-multiply-strings-:(-1.2.0.21\"><span class=\"toc-item-num\">1.2.0.21&nbsp;&nbsp;</span>I can't multiply strings :(</a></span></li><li><span><a href=\"#Transformers:-transforming-strings-to-integers\" data-toc-modified-id=\"Transformers:-transforming-strings-to-integers-1.2.0.22\"><span class=\"toc-item-num\">1.2.0.22&nbsp;&nbsp;</span>Transformers: transforming strings to integers</a></span></li><li><span><a href=\"#Summing-numbers,-not-strings\" data-toc-modified-id=\"Summing-numbers,-not-strings-1.2.0.23\"><span class=\"toc-item-num\">1.2.0.23&nbsp;&nbsp;</span>Summing numbers, not strings</a></span></li></ul></li></ul></li><li><span><a href=\"#Problems\" data-toc-modified-id=\"Problems-1.3\"><span class=\"toc-item-num\">1.3&nbsp;&nbsp;</span>Problems</a></span><ul class=\"toc-item\"><li><ul class=\"toc-item\"><li><span><a href=\"#Problem-«Sum-of-three-numbers»\" data-toc-modified-id=\"Problem-«Sum-of-three-numbers»-1.3.0.1\"><span class=\"toc-item-num\">1.3.0.1&nbsp;&nbsp;</span>Problem «Sum of three numbers»</a></span></li><li><span><a href=\"#Problem-«Hi-John»\" data-toc-modified-id=\"Problem-«Hi-John»-1.3.0.2\"><span class=\"toc-item-num\">1.3.0.2&nbsp;&nbsp;</span>Problem «Hi John»</a></span></li><li><span><a href=\"#Problem-«Square»\" data-toc-modified-id=\"Problem-«Square»-1.3.0.3\"><span class=\"toc-item-num\">1.3.0.3&nbsp;&nbsp;</span>Problem «Square»</a></span></li><li><span><a href=\"#Problem-«Area-of-right-angled-triangle»\" data-toc-modified-id=\"Problem-«Area-of-right-angled-triangle»-1.3.0.4\"><span class=\"toc-item-num\">1.3.0.4&nbsp;&nbsp;</span>Problem «Area of right-angled triangle»</a></span></li><li><span><a href=\"#Problem-«Hello,-Harry!»\" data-toc-modified-id=\"Problem-«Hello,-Harry!»-1.3.0.5\"><span class=\"toc-item-num\">1.3.0.5&nbsp;&nbsp;</span>Problem «Hello, Harry!»</a></span></li><li><span><a href=\"#Problem-«Apple-sharing»\" data-toc-modified-id=\"Problem-«Apple-sharing»-1.3.0.6\"><span class=\"toc-item-num\">1.3.0.6&nbsp;&nbsp;</span>Problem «Apple sharing»</a></span></li><li><span><a href=\"#Problem-«Previous-and-next»\" data-toc-modified-id=\"Problem-«Previous-and-next»-1.3.0.7\"><span class=\"toc-item-num\">1.3.0.7&nbsp;&nbsp;</span>Problem «Previous and next»</a></span></li><li><span><a href=\"#Problem-«Two-timestamps»\" data-toc-modified-id=\"Problem-«Two-timestamps»-1.3.0.8\"><span class=\"toc-item-num\">1.3.0.8&nbsp;&nbsp;</span>Problem «Two timestamps»</a></span></li><li><span><a href=\"#Problem-«School-desks»\" data-toc-modified-id=\"Problem-«School-desks»-1.3.0.9\"><span class=\"toc-item-num\">1.3.0.9&nbsp;&nbsp;</span>Problem «School desks»</a></span></li></ul></li></ul></li></ul></li><li><span><a href=\"#Lesson-2---Integer-and-float-numbers\" data-toc-modified-id=\"Lesson-2---Integer-and-float-numbers-2\"><span class=\"toc-item-num\">2&nbsp;&nbsp;</span>Lesson 2 - Integer and float numbers</a></span><ul class=\"toc-item\"><li><span><a href=\"#Theory\" data-toc-modified-id=\"Theory-2.1\"><span class=\"toc-item-num\">2.1&nbsp;&nbsp;</span>Theory</a></span><ul class=\"toc-item\"><li><span><a href=\"#Integer-arithmetics\" data-toc-modified-id=\"Integer-arithmetics-2.1.1\"><span class=\"toc-item-num\">2.1.1&nbsp;&nbsp;</span>Integer arithmetics</a></span></li><li><span><a href=\"#Floating-point-numbers\" data-toc-modified-id=\"Floating-point-numbers-2.1.2\"><span class=\"toc-item-num\">2.1.2&nbsp;&nbsp;</span>Floating-point numbers</a></span></li><li><span><a href=\"#math-module\" data-toc-modified-id=\"math-module-2.1.3\"><span class=\"toc-item-num\">2.1.3&nbsp;&nbsp;</span>math module</a></span></li></ul></li><li><span><a href=\"#Steps\" data-toc-modified-id=\"Steps-2.2\"><span class=\"toc-item-num\">2.2&nbsp;&nbsp;</span>Steps</a></span><ul class=\"toc-item\"><li><ul class=\"toc-item\"><li><span><a href=\"#Integer-arithmetics\" data-toc-modified-id=\"Integer-arithmetics-2.2.0.1\"><span class=\"toc-item-num\">2.2.0.1&nbsp;&nbsp;</span>Integer arithmetics</a></span></li><li><span><a href=\"#Integer-division\" data-toc-modified-id=\"Integer-division-2.2.0.2\"><span class=\"toc-item-num\">2.2.0.2&nbsp;&nbsp;</span>Integer division</a></span></li><li><span><a href=\"#Floating-point-numbers\" data-toc-modified-id=\"Floating-point-numbers-2.2.0.3\"><span class=\"toc-item-num\">2.2.0.3&nbsp;&nbsp;</span>Floating-point numbers</a></span></li><li><span><a href=\"#Very-big-and-very-small-numbers\" data-toc-modified-id=\"Very-big-and-very-small-numbers-2.2.0.4\"><span class=\"toc-item-num\">2.2.0.4&nbsp;&nbsp;</span>Very big and very small numbers</a></span></li><li><span><a href=\"#Round-and-round\" data-toc-modified-id=\"Round-and-round-2.2.0.5\"><span class=\"toc-item-num\">2.2.0.5&nbsp;&nbsp;</span>Round and round</a></span></li><li><span><a href=\"#Floats-can-confuse-you\" data-toc-modified-id=\"Floats-can-confuse-you-2.2.0.6\"><span class=\"toc-item-num\">2.2.0.6&nbsp;&nbsp;</span>Floats can confuse you</a></span></li><li><span><a href=\"#Math-module\" data-toc-modified-id=\"Math-module-2.2.0.7\"><span class=\"toc-item-num\">2.2.0.7&nbsp;&nbsp;</span>Math module</a></span></li><li><span><a href=\"#More-ways-to-import-math\" data-toc-modified-id=\"More-ways-to-import-math-2.2.0.8\"><span class=\"toc-item-num\">2.2.0.8&nbsp;&nbsp;</span>More ways to import math</a></span></li><li><span><a href=\"#Absolute-value-of-a-number\" data-toc-modified-id=\"Absolute-value-of-a-number-2.2.0.9\"><span class=\"toc-item-num\">2.2.0.9&nbsp;&nbsp;</span>Absolute value of a number</a></span></li><li><span><a href=\"#Some-functions-from-math-module\" data-toc-modified-id=\"Some-functions-from-math-module-2.2.0.10\"><span class=\"toc-item-num\">2.2.0.10&nbsp;&nbsp;</span>Some functions from math module</a></span></li><li><span><a href=\"#Remember-the-rules:\" data-toc-modified-id=\"Remember-the-rules:-2.2.0.11\"><span class=\"toc-item-num\">2.2.0.11&nbsp;&nbsp;</span>Remember the rules:</a></span></li></ul></li></ul></li><li><span><a href=\"#Problems\" data-toc-modified-id=\"Problems-2.3\"><span class=\"toc-item-num\">2.3&nbsp;&nbsp;</span>Problems</a></span><ul class=\"toc-item\"><li><ul class=\"toc-item\"><li><span><a href=\"#Last-digit-of-integer\" data-toc-modified-id=\"Last-digit-of-integer-2.3.0.1\"><span class=\"toc-item-num\">2.3.0.1&nbsp;&nbsp;</span>Last digit of integer</a></span></li><li><span><a href=\"#Tens-digit\" data-toc-modified-id=\"Tens-digit-2.3.0.2\"><span class=\"toc-item-num\">2.3.0.2&nbsp;&nbsp;</span>Tens digit</a></span></li><li><span><a href=\"#Sum-of-digits\" data-toc-modified-id=\"Sum-of-digits-2.3.0.3\"><span class=\"toc-item-num\">2.3.0.3&nbsp;&nbsp;</span>Sum of digits</a></span></li><li><span><a href=\"#Fractional-part\" data-toc-modified-id=\"Fractional-part-2.3.0.4\"><span class=\"toc-item-num\">2.3.0.4&nbsp;&nbsp;</span>Fractional part</a></span></li><li><span><a href=\"#First-digit-after-decimal-point\" data-toc-modified-id=\"First-digit-after-decimal-point-2.3.0.5\"><span class=\"toc-item-num\">2.3.0.5&nbsp;&nbsp;</span>First digit after decimal point</a></span></li><li><span><a href=\"#Car-route\" data-toc-modified-id=\"Car-route-2.3.0.6\"><span class=\"toc-item-num\">2.3.0.6&nbsp;&nbsp;</span>Car route</a></span></li><li><span><a href=\"#Digital-clock\" data-toc-modified-id=\"Digital-clock-2.3.0.7\"><span class=\"toc-item-num\">2.3.0.7&nbsp;&nbsp;</span>Digital clock</a></span></li><li><span><a href=\"#Total-cost\" data-toc-modified-id=\"Total-cost-2.3.0.8\"><span class=\"toc-item-num\">2.3.0.8&nbsp;&nbsp;</span>Total cost</a></span></li><li><span><a href=\"#Clock-face---1\" data-toc-modified-id=\"Clock-face---1-2.3.0.9\"><span class=\"toc-item-num\">2.3.0.9&nbsp;&nbsp;</span>Clock face - 1</a></span></li><li><span><a href=\"#Clock-face---2\" data-toc-modified-id=\"Clock-face---2-2.3.0.10\"><span class=\"toc-item-num\">2.3.0.10&nbsp;&nbsp;</span>Clock face - 2</a></span></li></ul></li></ul></li></ul></li><li><span><a href=\"#Conditions:-if,-then,-else\" data-toc-modified-id=\"Conditions:-if,-then,-else-3\"><span class=\"toc-item-num\">3&nbsp;&nbsp;</span>Conditions: if, then, else</a></span><ul class=\"toc-item\"><li><span><a href=\"#Theory\" data-toc-modified-id=\"Theory-3.1\"><span class=\"toc-item-num\">3.1&nbsp;&nbsp;</span>Theory</a></span><ul class=\"toc-item\"><li><span><a href=\"#Syntax\" data-toc-modified-id=\"Syntax-3.1.1\"><span class=\"toc-item-num\">3.1.1&nbsp;&nbsp;</span>Syntax</a></span></li><li><span><a href=\"#Nested-conditions\" data-toc-modified-id=\"Nested-conditions-3.1.2\"><span class=\"toc-item-num\">3.1.2&nbsp;&nbsp;</span>Nested conditions</a></span></li><li><span><a href=\"#Comparison-operators\" data-toc-modified-id=\"Comparison-operators-3.1.3\"><span class=\"toc-item-num\">3.1.3&nbsp;&nbsp;</span>Comparison operators</a></span></li><li><span><a href=\"#Bool-objects-and-logical-operators\" data-toc-modified-id=\"Bool-objects-and-logical-operators-3.1.4\"><span class=\"toc-item-num\">3.1.4&nbsp;&nbsp;</span>Bool objects and logical operators</a></span></li><li><span><a href=\"#'elif'-word\" data-toc-modified-id=\"'elif'-word-3.1.5\"><span class=\"toc-item-num\">3.1.5&nbsp;&nbsp;</span>'elif' word</a></span></li></ul></li><li><span><a href=\"#Steps\" data-toc-modified-id=\"Steps-3.2\"><span class=\"toc-item-num\">3.2&nbsp;&nbsp;</span>Steps</a></span></li><li><span><a href=\"#Problems\" data-toc-modified-id=\"Problems-3.3\"><span class=\"toc-item-num\">3.3&nbsp;&nbsp;</span>Problems</a></span><ul class=\"toc-item\"><li><ul class=\"toc-item\"><li><span><a href=\"#Minimum-of-two-numbers\" data-toc-modified-id=\"Minimum-of-two-numbers-3.3.0.1\"><span class=\"toc-item-num\">3.3.0.1&nbsp;&nbsp;</span>Minimum of two numbers</a></span></li><li><span><a href=\"#Sign-function\" data-toc-modified-id=\"Sign-function-3.3.0.2\"><span class=\"toc-item-num\">3.3.0.2&nbsp;&nbsp;</span>Sign function</a></span></li><li><span><a href=\"#Minimum-of-three-numbers\" data-toc-modified-id=\"Minimum-of-three-numbers-3.3.0.3\"><span class=\"toc-item-num\">3.3.0.3&nbsp;&nbsp;</span>Minimum of three numbers</a></span></li><li><span><a href=\"#Equal-numbers\" data-toc-modified-id=\"Equal-numbers-3.3.0.4\"><span class=\"toc-item-num\">3.3.0.4&nbsp;&nbsp;</span>Equal numbers</a></span></li></ul></li><li><span><a href=\"#Rook-move\" data-toc-modified-id=\"Rook-move-3.3.1\"><span class=\"toc-item-num\">3.3.1&nbsp;&nbsp;</span>Rook move</a></span></li><li><span><a href=\"#Chess-board---same-color\" data-toc-modified-id=\"Chess-board---same-color-3.3.2\"><span class=\"toc-item-num\">3.3.2&nbsp;&nbsp;</span>Chess board - same color</a></span><ul class=\"toc-item\"><li><span><a href=\"#King-move\" data-toc-modified-id=\"King-move-3.3.2.1\"><span class=\"toc-item-num\">3.3.2.1&nbsp;&nbsp;</span>King move</a></span></li><li><span><a href=\"#Bishop-moves\" data-toc-modified-id=\"Bishop-moves-3.3.2.2\"><span class=\"toc-item-num\">3.3.2.2&nbsp;&nbsp;</span>Bishop moves</a></span></li><li><span><a href=\"#Queen-move\" data-toc-modified-id=\"Queen-move-3.3.2.3\"><span class=\"toc-item-num\">3.3.2.3&nbsp;&nbsp;</span>Queen move</a></span></li><li><span><a href=\"#Knight-move\" data-toc-modified-id=\"Knight-move-3.3.2.4\"><span class=\"toc-item-num\">3.3.2.4&nbsp;&nbsp;</span>Knight move</a></span></li><li><span><a href=\"#Chocolate-bar\" data-toc-modified-id=\"Chocolate-bar-3.3.2.5\"><span class=\"toc-item-num\">3.3.2.5&nbsp;&nbsp;</span>Chocolate bar</a></span></li><li><span><a href=\"#Leap-year\" data-toc-modified-id=\"Leap-year-3.3.2.6\"><span class=\"toc-item-num\">3.3.2.6&nbsp;&nbsp;</span>Leap year</a></span></li></ul></li></ul></li></ul></li></ul></div>"
   ]
  },
  {
   "cell_type": "markdown",
   "id": "3f598058",
   "metadata": {},
   "source": [
    "Данный ноутбук - конспект и мой прогресс по обучению языку Python на курсах от МФТИ - DataScientist. Нужен он, чтобы я всегда мог повторить все, что изучил и лучше обучаться.\n",
    "\n",
    "Основные задачи на курсе решаются на сайте: https://snakify.org/en/\n",
    "\n",
    "В данном ноутбуке по мере прохождения я буду прикладывать ссылки на дополнительные материалы по мере изучения языка, а так же здесь будут мои решения задач.\n",
    "\n",
    "Полезные ссылки:\n",
    "1. [Документация Python](https://docs.python.org/3/)\n",
    "2. [Туториал](https://docs.python.org/3/tutorial/index.html)"
   ]
  },
  {
   "cell_type": "markdown",
   "id": "c3546a12",
   "metadata": {},
   "source": [
    "# Lesson 1 - Input, print and numbers\n",
    "---\n",
    "[Ссылка на урок на snakify](https://snakify.org/en/lessons/print_input_numbers/)\n",
    "\n",
    "[Ссылка на документацию Python 7.Input and Output](https://docs.python.org/3/tutorial/inputoutput.html#fancier-output-formatting)\n",
    "\n",
    "[Ссылка на документацию Python 3.1. Using Python as a Calculator](https://docs.python.org/3.11/tutorial/introduction.html#using-python-as-a-calculator)"
   ]
  },
  {
   "cell_type": "markdown",
   "id": "37c66b37",
   "metadata": {},
   "source": [
    "## Theory\n",
    "---\n",
    "[Ссылка на раздел урока](https://snakify.org/en/lessons/print_input_numbers/)"
   ]
  },
  {
   "cell_type": "markdown",
   "id": "322fe7ed",
   "metadata": {},
   "source": [
    "### How to read and write in Python\n",
    "---\n",
    "Every program is eventually a data processor, so we should know how to input and output data within it. There exists a function, print(), to output data from any Python program. To use it, pass a comma separated list of arguments that you want to print to the print() function. Let's see an example. Press \"run\" and then \"next\" to see how the program is being executed line by line:"
   ]
  },
  {
   "cell_type": "code",
   "execution_count": 2,
   "id": "f7b90ef3",
   "metadata": {},
   "outputs": [
    {
     "name": "stdout",
     "output_type": "stream",
     "text": [
      "15\n"
     ]
    }
   ],
   "source": [
    "print(5 + 10)"
   ]
  },
  {
   "cell_type": "code",
   "execution_count": 3,
   "id": "3731c16d",
   "metadata": {},
   "outputs": [
    {
     "name": "stdout",
     "output_type": "stream",
     "text": [
      "21 120\n"
     ]
    }
   ],
   "source": [
    "print(3 * 7, (17 - 2) * 8)"
   ]
  },
  {
   "cell_type": "code",
   "execution_count": 7,
   "id": "1ede0e75",
   "metadata": {},
   "outputs": [
    {
     "name": "stdout",
     "output_type": "stream",
     "text": [
      "65536\n"
     ]
    }
   ],
   "source": [
    "#Возведение в степень\n",
    "print(2 ** 16)  # two stars are used for exponentiation (2 to the power of 16)"
   ]
  },
  {
   "cell_type": "code",
   "execution_count": 8,
   "id": "f2b268ba",
   "metadata": {},
   "outputs": [
    {
     "name": "stdout",
     "output_type": "stream",
     "text": [
      "12.333333333333334\n"
     ]
    }
   ],
   "source": [
    "#Операция деления\n",
    "print(37 / 3)  # single forward slash is a division"
   ]
  },
  {
   "cell_type": "code",
   "execution_count": 10,
   "id": "fa52c3cd",
   "metadata": {},
   "outputs": [
    {
     "name": "stdout",
     "output_type": "stream",
     "text": [
      "12\n"
     ]
    }
   ],
   "source": [
    "#Операция целочисленного деления\n",
    "print(37 // 3)  # double forward slash is an integer division\n",
    "        # it returns only the quotient of the division (i.e. no remainder)"
   ]
  },
  {
   "cell_type": "code",
   "execution_count": 12,
   "id": "df350eb6",
   "metadata": {},
   "outputs": [
    {
     "name": "stdout",
     "output_type": "stream",
     "text": [
      "1\n"
     ]
    }
   ],
   "source": [
    "#Получение остатка от целочисленного деления\n",
    "print(37 % 3)  # percent sign is a modulus operator\n",
    "        # it gives the remainder of the left value divided by the right value"
   ]
  },
  {
   "cell_type": "markdown",
   "id": "111b3de3",
   "metadata": {},
   "source": [
    "To input data into a program, we use input(). This function reads a single line of text, as a String.\n",
    "\n",
    "Here's a program that reads the user's name and greets them:"
   ]
  },
  {
   "cell_type": "code",
   "execution_count": 17,
   "id": "1a4fdeec",
   "metadata": {},
   "outputs": [
    {
     "name": "stdout",
     "output_type": "stream",
     "text": [
      "What is yout name?\n",
      "Vitaliy\n",
      "Hi, Vitaliy!\n"
     ]
    }
   ],
   "source": [
    "print('What is yout name?')\n",
    "name = input()  # read a single line and store it in the variable \"name\"\n",
    "print('Hi, ' + name + '!')"
   ]
  },
  {
   "cell_type": "markdown",
   "id": "ab6e6fea",
   "metadata": {},
   "source": [
    "### Sum of numbers and strings"
   ]
  },
  {
   "cell_type": "markdown",
   "id": "edc99c57",
   "metadata": {},
   "source": [
    "Let's try to write a program that inputs two numbers and prints their sum. We read the two numbers and store them in the variables a and b using the assignment operator =. On the left side of an assignment operator we put the name of the variable. The name could be a string of latin characters (A-Z, a-z, 0-9, _) but must start with a letter in the range A-Z or a-z. On the right side of an assignment operator we put any expression that Python can evaluate. The name starts pointing to the result of the evaluation. Read this example, run it and look at the output:"
   ]
  },
  {
   "cell_type": "code",
   "execution_count": 18,
   "id": "e336aff0",
   "metadata": {},
   "outputs": [
    {
     "name": "stdout",
     "output_type": "stream",
     "text": [
      "5\n",
      "7\n",
      "57\n"
     ]
    }
   ],
   "source": [
    "a = input()\n",
    "b = input()\n",
    "s = a + b\n",
    "print(s)"
   ]
  },
  {
   "cell_type": "markdown",
   "id": "ed65090e",
   "metadata": {},
   "source": [
    "After running the example we can see that it prints 57. As we were taught in school, 5 + 7 gives 12. So, the program is wrong, and it's important to understand why. The thing is, in the third line s = a + b Python has \"summed\" two strings, rather than two numbers. The sum of two strings in Python works as follows: they are just glued one after another. It's also sometimes called \"string concatenation\".\n",
    "\n",
    "Do you see in the variable inspector, on the right hand side, that the values bound to variables a and b are wrapped in quotes? That means that the values there are string, not numbers. Strings and numbers are represented in Python differently.\n",
    "\n",
    "All the values in Python are called \"objects\". Every object has a certain type. The number 2 corresponds to an object \"number 2\" of type \"int\" (i.e., an integer number). The string 'hello' corresponds to an object \"string 'hello'\" of type \"str\". Every floating-point number is represented as an object of type \"float\". The type of an object specifies what kind of operations may be applied to it. For instance, if the two variables \"first\" and \"second\" are pointing to the objects of type int, Python can multiply them. However, if they are pointing to the objects of type str, Python can't do that:"
   ]
  },
  {
   "cell_type": "code",
   "execution_count": 19,
   "id": "10933aca",
   "metadata": {},
   "outputs": [
    {
     "name": "stdout",
     "output_type": "stream",
     "text": [
      "35\n"
     ]
    }
   ],
   "source": [
    "first = 5\n",
    "second = 7\n",
    "print(first * second)"
   ]
  },
  {
   "cell_type": "code",
   "execution_count": 20,
   "id": "d142cc1a",
   "metadata": {},
   "outputs": [
    {
     "ename": "TypeError",
     "evalue": "can't multiply sequence by non-int of type 'str'",
     "output_type": "error",
     "traceback": [
      "\u001b[1;31m---------------------------------------------------------------------------\u001b[0m",
      "\u001b[1;31mTypeError\u001b[0m                                 Traceback (most recent call last)",
      "Input \u001b[1;32mIn [20]\u001b[0m, in \u001b[0;36m<cell line: 4>\u001b[1;34m()\u001b[0m\n\u001b[0;32m      2\u001b[0m first \u001b[38;5;241m=\u001b[39m \u001b[38;5;124m'\u001b[39m\u001b[38;5;124m5\u001b[39m\u001b[38;5;124m'\u001b[39m\n\u001b[0;32m      3\u001b[0m second \u001b[38;5;241m=\u001b[39m \u001b[38;5;124m\"\u001b[39m\u001b[38;5;124m7\u001b[39m\u001b[38;5;124m\"\u001b[39m\n\u001b[1;32m----> 4\u001b[0m \u001b[38;5;28mprint\u001b[39m(\u001b[43mfirst\u001b[49m\u001b[43m \u001b[49m\u001b[38;5;241;43m*\u001b[39;49m\u001b[43m \u001b[49m\u001b[43msecond\u001b[49m)\n",
      "\u001b[1;31mTypeError\u001b[0m: can't multiply sequence by non-int of type 'str'"
     ]
    }
   ],
   "source": [
    "# you can use single or double quotes to define a string\n",
    "first = '5'\n",
    "second = \"7\"\n",
    "print(first * second)"
   ]
  },
  {
   "cell_type": "markdown",
   "id": "3fdea200",
   "metadata": {},
   "source": [
    "To cast (convert) the string of digits into an integer number, we can use the function int(). For example, int('23') gives an int object with value 23.\n",
    "\n",
    "Given the information above, we can now fix the incorrect output and output the sum of the two numbers correctly:"
   ]
  },
  {
   "cell_type": "code",
   "execution_count": 21,
   "id": "7926f535",
   "metadata": {},
   "outputs": [
    {
     "name": "stdout",
     "output_type": "stream",
     "text": [
      "7\n",
      "5\n",
      "12\n"
     ]
    }
   ],
   "source": [
    "a = int(input())\n",
    "b = int(input())\n",
    "s = a + b\n",
    "print(s)"
   ]
  },
  {
   "cell_type": "markdown",
   "id": "6ea3898d",
   "metadata": {},
   "source": [
    "## Steps\n",
    "---\n",
    "[Ссылка на раздел урока](https://snakify.org/en/lessons/print_input_numbers/steps/1/)"
   ]
  },
  {
   "cell_type": "markdown",
   "id": "93b9b1b1",
   "metadata": {},
   "source": [
    "#### It's all about the data\n",
    "---\n",
    "Every program deals with data. It can take some data for input, and it can output something. So we should know how to input data into it and how to output.\n",
    "\n",
    "There's the function print() to output data from a Python program."
   ]
  },
  {
   "cell_type": "code",
   "execution_count": 22,
   "id": "fb17b5fc",
   "metadata": {},
   "outputs": [
    {
     "name": "stdout",
     "output_type": "stream",
     "text": [
      "15\n"
     ]
    }
   ],
   "source": [
    "print(5 + 10)"
   ]
  },
  {
   "cell_type": "markdown",
   "id": "fde95bf7",
   "metadata": {},
   "source": [
    "#### Your own. Personal. Calculator.\n",
    "---\n",
    "Of course you can perform any other mathematical operations!\n",
    "\n",
    "**Instructions**:\n",
    "1. Type in the program window: print(7 - 3)\n",
    "2. Then delete the previous code, type print(4 * 5)\n",
    "3. Then delete the previous code, type print(5 / 3)"
   ]
  },
  {
   "cell_type": "code",
   "execution_count": 23,
   "id": "faa0da11",
   "metadata": {},
   "outputs": [
    {
     "name": "stdout",
     "output_type": "stream",
     "text": [
      "4\n"
     ]
    }
   ],
   "source": [
    "print(7 - 3)"
   ]
  },
  {
   "cell_type": "code",
   "execution_count": 24,
   "id": "d680532e",
   "metadata": {},
   "outputs": [
    {
     "name": "stdout",
     "output_type": "stream",
     "text": [
      "20\n"
     ]
    }
   ],
   "source": [
    "print(4 * 5)"
   ]
  },
  {
   "cell_type": "code",
   "execution_count": 25,
   "id": "22098054",
   "metadata": {},
   "outputs": [
    {
     "name": "stdout",
     "output_type": "stream",
     "text": [
      "1.6666666666666667\n"
     ]
    }
   ],
   "source": [
    "print(5 / 3)"
   ]
  },
  {
   "cell_type": "markdown",
   "id": "1b0b30dd",
   "metadata": {},
   "source": [
    "#### Reach out and touch faith.\n",
    "---\n",
    "We are excited to show you some more mathematical operations. In Python, you can easily calculate the value of some number to the power of another number. How to calculate 216 (2 to the power of 16)? Just type in: print(2 ** 16)\n",
    "\n",
    "**Instructions**\n",
    "1. Type in: print(2 ** 16) and press \"Run\"."
   ]
  },
  {
   "cell_type": "code",
   "execution_count": 27,
   "id": "4861529b",
   "metadata": {},
   "outputs": [
    {
     "name": "stdout",
     "output_type": "stream",
     "text": [
      "65536\n"
     ]
    }
   ],
   "source": [
    "print(2 ** 16)"
   ]
  },
  {
   "cell_type": "markdown",
   "id": "22495262",
   "metadata": {},
   "source": [
    "#### Weird arithmetic comes in\n",
    "---\n",
    "Moreover, you can perform integer division and division with remainder. If you are interested in an integer result of division, you print print(37 // 3). If you are interested in the remainder, you print print(37 % 3).\n",
    "\n",
    "**Instructions**\n",
    "1. Type in the program window: print(37 // 3)\n",
    "2. Then delete the previous code and type print(37 % 3)\n"
   ]
  },
  {
   "cell_type": "code",
   "execution_count": 28,
   "id": "0e59d8f1",
   "metadata": {},
   "outputs": [
    {
     "name": "stdout",
     "output_type": "stream",
     "text": [
      "12\n"
     ]
    }
   ],
   "source": [
    "print(37 // 3)"
   ]
  },
  {
   "cell_type": "code",
   "execution_count": 29,
   "id": "122dabf9",
   "metadata": {},
   "outputs": [
    {
     "name": "stdout",
     "output_type": "stream",
     "text": [
      "1\n"
     ]
    }
   ],
   "source": [
    "print(37 % 3)"
   ]
  },
  {
   "cell_type": "markdown",
   "id": "bc447a7e",
   "metadata": {},
   "source": [
    "So, // sign is integer division; % returns you the remainder of the left value divided by the right value. 37 = 12 * 3 + 1, and this is why 37 // 3 = 12 and 37 % 3 = 1."
   ]
  },
  {
   "cell_type": "markdown",
   "id": "3a7fea57",
   "metadata": {},
   "source": [
    "#### print(a, b, c)\n",
    "---\n",
    "You may print any number of values on one line.\n",
    "\n",
    "**Instructions**\n",
    "1. Just type print(3*7, (17 - 2) * 8) to see how this works."
   ]
  },
  {
   "cell_type": "code",
   "execution_count": 30,
   "id": "fea8df0a",
   "metadata": {},
   "outputs": [
    {
     "name": "stdout",
     "output_type": "stream",
     "text": [
      "21 120\n"
     ]
    }
   ],
   "source": [
    "print(3 * 7, (17 - 2) * 8)"
   ]
  },
  {
   "cell_type": "markdown",
   "id": "04437d8f",
   "metadata": {},
   "source": [
    "#### Come together! Right now...\n",
    "---\n",
    "Now carnival ends, and they come to the scene all together:"
   ]
  },
  {
   "cell_type": "code",
   "execution_count": 32,
   "id": "5cfcc085",
   "metadata": {},
   "outputs": [
    {
     "name": "stdout",
     "output_type": "stream",
     "text": [
      "15\n",
      "4\n",
      "20\n",
      "1.6666666666666667\n",
      "65536\n",
      "12.333333333333334\n",
      "12\n",
      "1\n",
      "21 120\n"
     ]
    }
   ],
   "source": [
    "print(5 + 10)\n",
    "print(7 - 3)\n",
    "print(4 * 5)\n",
    "print(5 / 3)\n",
    "print(2 ** 16)\n",
    "print(37 / 3)\n",
    "print(37 // 3)\n",
    "print(37 % 3)\n",
    "print(3 * 7, (17 - 2) * 8)"
   ]
  },
  {
   "cell_type": "markdown",
   "id": "a5d656c8",
   "metadata": {},
   "source": [
    "#### ...over me!\n",
    "---\n",
    "Note that you are allowed\n",
    "- to make spaces between the lines\n",
    "- to make spaces inside any line"
   ]
  },
  {
   "cell_type": "code",
   "execution_count": 33,
   "id": "cfd44f83",
   "metadata": {},
   "outputs": [
    {
     "name": "stdout",
     "output_type": "stream",
     "text": [
      "15\n",
      "4\n",
      "20\n",
      "1.6666666666666667\n",
      "65536\n",
      "12.333333333333334\n",
      "12\n",
      "1\n",
      "21 120\n"
     ]
    }
   ],
   "source": [
    "print(5 + 10)\n",
    "print(7 - 3      )\n",
    "print(4*     5)\n",
    "\n",
    "print(5 / 3)\n",
    "print(2 ** 16)  # two stars are used for exponentiation\n",
    "\n",
    "print(37  / 3)  # single forward slash is a division\n",
    "\n",
    "\n",
    "\n",
    "print(37 // 3)\n",
    "print           (37 % 3)\n",
    "print(  3  * 7, (  17 - 2) *   8)\n"
   ]
  },
  {
   "cell_type": "markdown",
   "id": "b11ce6e2",
   "metadata": {},
   "source": [
    "#### Your marvellous comments\n",
    "---\n",
    "See the English phrases after the sign #? They don't look like the other code. They are just text, they are remarks.\n",
    "\n",
    "They are called comments. A comment is text. You write comments to clarify what happens in the code. If Python sees the sign #, it ignores the rest of the line and starts reading the next line, so feel free to write anything after the sign #.\n",
    "\n",
    "In another words, comments are explanatory text that has no effect on program execution. This text starts with # and lasts till the end of the line."
   ]
  },
  {
   "cell_type": "code",
   "execution_count": 36,
   "id": "9a37e371",
   "metadata": {},
   "outputs": [
    {
     "name": "stdout",
     "output_type": "stream",
     "text": [
      "15\n",
      "4\n",
      "20\n",
      "1.6666666666666667\n",
      "65536\n",
      "12.333333333333334\n",
      "12\n",
      "1\n",
      "21 120\n"
     ]
    }
   ],
   "source": [
    "# This program prints ton of numbers.\n",
    "print(5 + 10)  #Комментарий №1\n",
    "print(7 - 3)\n",
    "print(4 * 5)\n",
    "print(5 / 3)\n",
    "print(2 ** 16)  # two stars are used for exponentiation\n",
    "print(37 / 3)  # single forward slash is a division\n",
    "print(37 // 3)\n",
    "print(37 % 3)\n",
    "print(3 * 7, (17 - 2) * 8)"
   ]
  },
  {
   "cell_type": "markdown",
   "id": "7d87788b",
   "metadata": {},
   "source": [
    "#### Say what you think of Scott and Mary\n",
    "---\n",
    "**Instructions**\n",
    "1. Try to write your own comment about Scott and Mary. Then press \"Run\".\n",
    "\n",
    "Remember that comments start with #."
   ]
  },
  {
   "cell_type": "code",
   "execution_count": 38,
   "id": "a181814e",
   "metadata": {},
   "outputs": [
    {
     "name": "stdout",
     "output_type": "stream",
     "text": [
      "Scott + Mary = peace, love and death metal\n"
     ]
    }
   ],
   "source": [
    "print(\"Scott + Mary = peace, love and death metal\")"
   ]
  },
  {
   "cell_type": "code",
   "execution_count": 41,
   "id": "60a28dc0",
   "metadata": {},
   "outputs": [],
   "source": [
    "#\"Scott + Mary = peace, love and death metal\""
   ]
  },
  {
   "cell_type": "markdown",
   "id": "f1d73c6f",
   "metadata": {},
   "source": [
    "#### The Oscar goes to you\n",
    "---\n",
    "**Instructions**\n",
    "1. Now print the remainder of the division of 41 by 7."
   ]
  },
  {
   "cell_type": "code",
   "execution_count": 43,
   "id": "21966868",
   "metadata": {},
   "outputs": [
    {
     "name": "stdout",
     "output_type": "stream",
     "text": [
      "6\n"
     ]
    }
   ],
   "source": [
    "print(41 % 7)"
   ]
  },
  {
   "cell_type": "markdown",
   "id": "1bd5fec1",
   "metadata": {},
   "source": [
    "#### The task, it goes to you\n",
    "---\n",
    "**Instructions**\n",
    "1. Now print 3^5."
   ]
  },
  {
   "cell_type": "code",
   "execution_count": 44,
   "id": "5354d435",
   "metadata": {},
   "outputs": [
    {
     "name": "stdout",
     "output_type": "stream",
     "text": [
      "243\n"
     ]
    }
   ],
   "source": [
    "print(3 ** 5)"
   ]
  },
  {
   "cell_type": "markdown",
   "id": "c0c307fd",
   "metadata": {},
   "source": [
    "#### The task for Elon Musk\n",
    "---\n",
    "**Instructions**\n",
    "1. Now print 5 % (101 % 3) and (76 // 3) * 4 on one line."
   ]
  },
  {
   "cell_type": "code",
   "execution_count": 45,
   "id": "1c260ddb",
   "metadata": {},
   "outputs": [
    {
     "name": "stdout",
     "output_type": "stream",
     "text": [
      "1 100\n"
     ]
    }
   ],
   "source": [
    "print( 5 % (101 % 3), (76 // 3) * 4)"
   ]
  },
  {
   "cell_type": "markdown",
   "id": "f458b425",
   "metadata": {},
   "source": [
    "#### Know how to input\n",
    "---\n",
    "So far, this section was empty in our programs.\n",
    "\n",
    "But as a serious programmer, you will want to make some of your programs universal: each time you launch them, you will want to pass different data to input. (Generally, that means you will get different data at output.)\n",
    "\n",
    "To read your data from input, the function input() exists."
   ]
  },
  {
   "cell_type": "code",
   "execution_count": 46,
   "id": "640564bd",
   "metadata": {},
   "outputs": [
    {
     "name": "stdout",
     "output_type": "stream",
     "text": [
      "Значение, которое я ввожу)))\n",
      "Значение, которое я ввожу)))\n"
     ]
    }
   ],
   "source": [
    "print(input())"
   ]
  },
  {
   "cell_type": "markdown",
   "id": "4d76124d",
   "metadata": {},
   "source": [
    "#### What you input is always a string\n",
    "---\n",
    "The function input() reads your input as a string. Even if you typed 23."
   ]
  },
  {
   "cell_type": "code",
   "execution_count": 51,
   "id": "947d6e99",
   "metadata": {},
   "outputs": [
    {
     "name": "stdout",
     "output_type": "stream",
     "text": [
      "23\n",
      "<class 'str'>\n"
     ]
    }
   ],
   "source": [
    "print(type(input()))"
   ]
  },
  {
   "cell_type": "markdown",
   "id": "344fa081",
   "metadata": {},
   "source": [
    "#### Variables\n",
    "---\n",
    "When writing a complex program, you usually can't print the answer of your calculation right away. Instead you use variables to store intermediate results.\n",
    "\n",
    "Look at the code section. The first line has three parts: a = 3\n",
    "\n",
    "To the left of the assignment operator* we put a name of variable, in this case, a. The name can be any string of latin characters mixed with numbers and the underscore _ but cannot start with a number. So, much3q1 is a valid name for a variable, and 2pac is not.\n",
    "\n",
    "To the right of the assignment operator* we put any expression that Python can evaluate. It can be 3 as in the code below, or it can be, say, 1 + (2 ** 8) % 5.\n",
    "\n",
    "*The assignment operator is =.\n",
    "\n",
    "Look what we've done: we assigned to the variable a the value of 3. We can read this as \"a is assigned the value of 3\" or \"a gets 3\". All right, now.\n",
    "**Instructions**\n",
    "1. Change the second line to print(a * a), run the program and see what happens.\n",
    "2. Erase the line print(a * a). Type b = a * a * a, type print(b) on the next line, then run the code and see what happens."
   ]
  },
  {
   "cell_type": "code",
   "execution_count": 52,
   "id": "51385b99",
   "metadata": {},
   "outputs": [
    {
     "name": "stdout",
     "output_type": "stream",
     "text": [
      "3\n"
     ]
    }
   ],
   "source": [
    "a = 3\n",
    "print(a)"
   ]
  },
  {
   "cell_type": "code",
   "execution_count": 53,
   "id": "c0a18852",
   "metadata": {},
   "outputs": [
    {
     "name": "stdout",
     "output_type": "stream",
     "text": [
      "9\n"
     ]
    }
   ],
   "source": [
    "a = 3\n",
    "print(a * a)"
   ]
  },
  {
   "cell_type": "code",
   "execution_count": 54,
   "id": "636f631e",
   "metadata": {},
   "outputs": [
    {
     "name": "stdout",
     "output_type": "stream",
     "text": [
      "27\n"
     ]
    }
   ],
   "source": [
    "a = 3\n",
    "b = a * a *a \n",
    "print(b)"
   ]
  },
  {
   "cell_type": "markdown",
   "id": "d2b09883",
   "metadata": {},
   "source": [
    "#### The more variables the better\n",
    "---\n",
    "Never hesitate to introduce different variables! The more variables you introduce, and the more logical the names are, the more readable your code will be."
   ]
  },
  {
   "cell_type": "code",
   "execution_count": 58,
   "id": "ed862afd",
   "metadata": {},
   "outputs": [
    {
     "name": "stdout",
     "output_type": "stream",
     "text": [
      "42.8097902097902\n",
      "42.8097902097902\n"
     ]
    }
   ],
   "source": [
    "# Compare this:\n",
    "print(( 2 ** 10 - 3.7 ) / ( 95 / 6 + 8))\n",
    "\n",
    "# to this:\n",
    "\n",
    "numerator = 2 ** 10 - 3.7\n",
    "denominator = 95 / 6 + 8\n",
    "\n",
    "N = numerator/denominator\n",
    "\n",
    "print(N)"
   ]
  },
  {
   "cell_type": "markdown",
   "id": "320e82be",
   "metadata": {},
   "source": [
    "#### Greet yourself\n",
    "---\n",
    "Here's a program that reads the user's name and greets him.\n",
    "**Instructions**\n",
    "1. Write your own name in the input section! Let the program greet you!"
   ]
  },
  {
   "cell_type": "code",
   "execution_count": 59,
   "id": "a8db4ee2",
   "metadata": {},
   "outputs": [
    {
     "name": "stdout",
     "output_type": "stream",
     "text": [
      "What is your name?\n",
      "Vitaliy\n",
      "Hi Vitaliy!\n"
     ]
    }
   ],
   "source": [
    "print('What is your name?')\n",
    "name = input()  # read a single line and store it in the variable \"name\"\n",
    "print('Hi ' + name + '!')"
   ]
  },
  {
   "cell_type": "markdown",
   "id": "3e5f4a10",
   "metadata": {},
   "source": [
    "#### The very start: summing two numbers\n",
    "---\n",
    "Let's try to write a program that has two numbers as an input and prints their sum.\n",
    "\n",
    "We read the two numbers and store them in the variables a and b.\n",
    "\n",
    "**Instructions**\n",
    "1. Read the code, run it and look at its output."
   ]
  },
  {
   "cell_type": "code",
   "execution_count": 61,
   "id": "eaee1564",
   "metadata": {},
   "outputs": [
    {
     "name": "stdout",
     "output_type": "stream",
     "text": [
      "12\n",
      "5\n",
      "125\n"
     ]
    }
   ],
   "source": [
    "a = input()\n",
    "b = input()\n",
    "s = a + b\n",
    "print(s)"
   ]
  },
  {
   "cell_type": "markdown",
   "id": "2357f90d",
   "metadata": {},
   "source": [
    "#### Oops: you added strings, not numbers\n",
    "---\n",
    "After running the previous example we can see that it prints 57. As we were taught in school, 5 + 7 gives 12. What happened?\n",
    "\n",
    "So, the program does not give the expected result, and it is important to understand why.\n",
    "\n",
    "The reason is, in the line s = a + b Python has joined two strings, rather than adding two numbers. Applying + to two strings in Python just glues one after the other. This is called string concatenation.\n",
    "\n",
    "**Instructions**\n",
    "1. Put two different numbers into the 'input' section, and then watch as they are glued to each other, not added :("
   ]
  },
  {
   "cell_type": "code",
   "execution_count": 60,
   "id": "6887dadb",
   "metadata": {},
   "outputs": [
    {
     "name": "stdout",
     "output_type": "stream",
     "text": [
      "15\n",
      "546\n",
      "561\n"
     ]
    }
   ],
   "source": [
    "a = int(input())\n",
    "b = int(input())\n",
    "sum = (a + b)\n",
    "print(sum)"
   ]
  },
  {
   "cell_type": "markdown",
   "id": "02e9a0e3",
   "metadata": {},
   "source": [
    "#### What are strings and what are numbers\n",
    "---\n",
    "Look at the code below. Do you see that the values bound to variables s and que are wrapped in quotes?\n",
    "\n",
    "That means these values are strings, not numbers. Strings and numbers are represented in Python differently.\n",
    "\n",
    "(It doesn't matter what quotation marks will you use to define a string: these ' ' or these \" \".)"
   ]
  },
  {
   "cell_type": "code",
   "execution_count": 62,
   "id": "ca13667d",
   "metadata": {},
   "outputs": [
    {
     "name": "stdout",
     "output_type": "stream",
     "text": [
      "hadoopwroom\n"
     ]
    }
   ],
   "source": [
    "num = 14       # This is the number\n",
    "s = 'hadoop'   # This is the string\n",
    "que = \"wroom\"   # This is also a string\n",
    "print (s + que)\n",
    "\n",
    "# 'hadoop' and \"wroom\" have different\n",
    "# quotation marks, but Python has no problem\n",
    "# with it,\n",
    "# and the output is\n",
    "# 'hadoopwroom'"
   ]
  },
  {
   "cell_type": "markdown",
   "id": "170a96b9",
   "metadata": {},
   "source": [
    "#### I can't multiply strings :(\n",
    "---\n",
    "All the values in Python are called objects. Every object has a certain type. The number 2 corresponds to an object \"2\" of type \"int\" (i.e., an integer number).\n",
    "\n",
    "The string 'hello' corresponds to an object \"hello\" of type \"str\".\n",
    "\n",
    "Every real number can be represented as an object of type \"float\".\n",
    "\n",
    "The type of an object specifies what kind of operations may be applied to it. For instance, if the two variables \"first\" and \"second\" are pointing to the objects of type int, Python can multiply them. However, Python can't multiply strings."
   ]
  },
  {
   "cell_type": "code",
   "execution_count": 63,
   "id": "e63d089f",
   "metadata": {},
   "outputs": [
    {
     "name": "stdout",
     "output_type": "stream",
     "text": [
      "35\n"
     ]
    },
    {
     "ename": "TypeError",
     "evalue": "can't multiply sequence by non-int of type 'str'",
     "output_type": "error",
     "traceback": [
      "\u001b[1;31m---------------------------------------------------------------------------\u001b[0m",
      "\u001b[1;31mTypeError\u001b[0m                                 Traceback (most recent call last)",
      "Input \u001b[1;32mIn [63]\u001b[0m, in \u001b[0;36m<cell line: 8>\u001b[1;34m()\u001b[0m\n\u001b[0;32m      6\u001b[0m first \u001b[38;5;241m=\u001b[39m \u001b[38;5;124m'\u001b[39m\u001b[38;5;124m5\u001b[39m\u001b[38;5;124m'\u001b[39m\n\u001b[0;32m      7\u001b[0m second \u001b[38;5;241m=\u001b[39m \u001b[38;5;124m\"\u001b[39m\u001b[38;5;124m7\u001b[39m\u001b[38;5;124m\"\u001b[39m\n\u001b[1;32m----> 8\u001b[0m \u001b[38;5;28mprint\u001b[39m(\u001b[43mfirst\u001b[49m\u001b[43m \u001b[49m\u001b[38;5;241;43m*\u001b[39;49m\u001b[43m \u001b[49m\u001b[43msecond\u001b[49m)\n",
      "\u001b[1;31mTypeError\u001b[0m: can't multiply sequence by non-int of type 'str'"
     ]
    }
   ],
   "source": [
    "first = 5\n",
    "second = 7\n",
    "print(first * second)\n",
    "\n",
    "# you can use single or double quotes to define a string\n",
    "first = '5'\n",
    "second = \"7\"\n",
    "print(first * second)"
   ]
  },
  {
   "cell_type": "markdown",
   "id": "58dbf7df",
   "metadata": {},
   "source": [
    "The first three lines of code here successfully gave us the result of multiplication, and the last three lines gave us the error."
   ]
  },
  {
   "cell_type": "markdown",
   "id": "9eb878a8",
   "metadata": {},
   "source": [
    "#### Transformers: transforming strings to integers\n",
    "---\n",
    "To cast the string of digits into an integer number, we can use the function int(). Eg., int('23') transforms the string '23' into the number 23, and int(input()) transforms the input string into an integer (if the input is made of digits!).\n",
    "\n",
    "**Instructions**\n",
    "1. Read the number from input, then transform it to integer using int() and print the result."
   ]
  },
  {
   "cell_type": "code",
   "execution_count": 65,
   "id": "40a9623d",
   "metadata": {},
   "outputs": [
    {
     "name": "stdout",
     "output_type": "stream",
     "text": [
      "365\n",
      "<class 'str'> <class 'int'>\n"
     ]
    }
   ],
   "source": [
    "num = input()\n",
    "num_int = int(num)\n",
    "print(type(num), type(num_int))"
   ]
  },
  {
   "cell_type": "markdown",
   "id": "e8d0cc63",
   "metadata": {},
   "source": [
    "#### Summing numbers, not strings\n",
    "---\n",
    "Using the magic of int(), we can now fix our incorrect program to sum the two numbers:"
   ]
  },
  {
   "cell_type": "code",
   "execution_count": 67,
   "id": "a913b41f",
   "metadata": {},
   "outputs": [
    {
     "name": "stdout",
     "output_type": "stream",
     "text": [
      "7\n",
      "5\n",
      "12\n"
     ]
    }
   ],
   "source": [
    "a = int(input())\n",
    "# the function input() reads the first string, then int() casts it into the integer 5 \n",
    "b = int(input())\n",
    "# reads the second string, then casts it into the integer 7\n",
    "s = a + b\n",
    "print(s)"
   ]
  },
  {
   "cell_type": "markdown",
   "id": "4cac87e7",
   "metadata": {},
   "source": [
    "This is when we're rewarded for watching the types! 5+7 resulted in 12! Hooray!\n",
    "\n",
    "Congratulations. This is the end of the first level. You've passed it. Now try to solve some problems!"
   ]
  },
  {
   "cell_type": "markdown",
   "id": "949b9a25",
   "metadata": {},
   "source": [
    "## Problems\n",
    "---\n",
    "[Ссылка на раздел урока](https://snakify.org/en/lessons/print_input_numbers/problems/)"
   ]
  },
  {
   "cell_type": "markdown",
   "id": "c09c2784",
   "metadata": {},
   "source": [
    "#### Problem «Sum of three numbers»\n",
    "---\n",
    "**Statement**\n",
    "\n",
    "Write a program that takes three numbers and prints their sum. Every number is given on a separate line.\n",
    "\n",
    "**Your solution**"
   ]
  },
  {
   "cell_type": "code",
   "execution_count": 68,
   "id": "66113ca4",
   "metadata": {},
   "outputs": [
    {
     "name": "stdout",
     "output_type": "stream",
     "text": [
      "5\n",
      "6\n",
      "8\n",
      "19\n"
     ]
    }
   ],
   "source": [
    "a = int(input())\n",
    "b = int(input())\n",
    "с = int(input())\n",
    "print(a + b + с)"
   ]
  },
  {
   "cell_type": "markdown",
   "id": "f757cd09",
   "metadata": {},
   "source": [
    "**Suggested solution**"
   ]
  },
  {
   "cell_type": "code",
   "execution_count": 69,
   "id": "5b98e110",
   "metadata": {},
   "outputs": [
    {
     "name": "stdout",
     "output_type": "stream",
     "text": [
      "1\n",
      "5\n",
      "7\n",
      "13\n"
     ]
    }
   ],
   "source": [
    "a = int(input())\n",
    "b = int(input())\n",
    "c = int(input())\n",
    "print(a + b + c)"
   ]
  },
  {
   "cell_type": "markdown",
   "id": "83758277",
   "metadata": {},
   "source": [
    "#### Problem «Hi John»\n",
    "---\n",
    "**Statement**\n",
    "\n",
    "Write a program that greets the person by printing the word \"Hi\" and the name of the person. See the examples below.\n",
    "\n",
    "**Your solution**"
   ]
  },
  {
   "cell_type": "code",
   "execution_count": 70,
   "id": "7efb59e8",
   "metadata": {},
   "outputs": [
    {
     "name": "stdout",
     "output_type": "stream",
     "text": [
      "Vitaliy\n",
      "Hi Vitaliy\n"
     ]
    }
   ],
   "source": [
    "print('Hi', input())"
   ]
  },
  {
   "cell_type": "markdown",
   "id": "ac7333a1",
   "metadata": {},
   "source": [
    "**Suggested solution**"
   ]
  },
  {
   "cell_type": "code",
   "execution_count": 71,
   "id": "038d93ef",
   "metadata": {},
   "outputs": [
    {
     "name": "stdout",
     "output_type": "stream",
     "text": [
      "Vitaliy\n",
      "Hi Vitaliy\n"
     ]
    }
   ],
   "source": [
    "# Read the name:\n",
    "name = input()\n",
    "\n",
    "# Print the result using\n",
    "print('Hi', name)"
   ]
  },
  {
   "cell_type": "markdown",
   "id": "cc652ecc",
   "metadata": {},
   "source": [
    "#### Problem «Square»\n",
    "---\n",
    "**Statement**\n",
    "\n",
    "Write a program that takes a number and print its square.\n",
    "\n",
    "**Your solution**"
   ]
  },
  {
   "cell_type": "code",
   "execution_count": 72,
   "id": "f6f5a70a",
   "metadata": {},
   "outputs": [
    {
     "name": "stdout",
     "output_type": "stream",
     "text": [
      "5\n",
      "25\n"
     ]
    }
   ],
   "source": [
    "print(int(input()) ** 2)"
   ]
  },
  {
   "cell_type": "markdown",
   "id": "a9cad380",
   "metadata": {},
   "source": [
    "**Suggested solution**"
   ]
  },
  {
   "cell_type": "code",
   "execution_count": 73,
   "id": "570da38f",
   "metadata": {},
   "outputs": [
    {
     "name": "stdout",
     "output_type": "stream",
     "text": [
      "5\n",
      "25\n"
     ]
    }
   ],
   "source": [
    "a = int(input())\n",
    "\n",
    "print(a ** 2)"
   ]
  },
  {
   "cell_type": "markdown",
   "id": "019864aa",
   "metadata": {},
   "source": [
    "#### Problem «Area of right-angled triangle»\n",
    "---\n",
    "**Statement**\n",
    "\n",
    "Write a program that reads the length of the base and the height of a right-angled triangle and prints the area. Every number is given on a separate line.\n",
    "\n",
    "**Your solution**"
   ]
  },
  {
   "cell_type": "code",
   "execution_count": 74,
   "id": "e6339586",
   "metadata": {},
   "outputs": [
    {
     "name": "stdout",
     "output_type": "stream",
     "text": [
      "5\n",
      "7\n",
      "17.5\n"
     ]
    }
   ],
   "source": [
    "a = int(input())\n",
    "b = int(input())\n",
    "\n",
    "area = a * b / 2\n",
    "\n",
    "print(area)"
   ]
  },
  {
   "cell_type": "markdown",
   "id": "c9cdcbe2",
   "metadata": {},
   "source": [
    "**Suggested solution**"
   ]
  },
  {
   "cell_type": "code",
   "execution_count": 75,
   "id": "f348bda1",
   "metadata": {},
   "outputs": [
    {
     "name": "stdout",
     "output_type": "stream",
     "text": [
      "5\n",
      "7\n",
      "17.5\n"
     ]
    }
   ],
   "source": [
    "a = int(input())\n",
    "b = int(input())\n",
    "print(a * b / 2)"
   ]
  },
  {
   "cell_type": "markdown",
   "id": "0c23bac8",
   "metadata": {},
   "source": [
    "#### Problem «Hello, Harry!»\n",
    "---\n",
    "**Statement**\n",
    "\n",
    "Write a program that greets the user by printing the word \"Hello\", a comma, the name of the user and an exclamation mark after it. See the examples below.\n",
    "Warning. Your program's output should strictly match the desired one, character by character. There shouldn't be any space between the name and the exclamation mark. You can use + operator to concatenate two strings. See the lesson for details.\n",
    "\n",
    "**Your solution**"
   ]
  },
  {
   "cell_type": "code",
   "execution_count": 77,
   "id": "11b3ecdd",
   "metadata": {},
   "outputs": [
    {
     "name": "stdout",
     "output_type": "stream",
     "text": [
      "qwerty\n",
      "Hello, qwerty!\n"
     ]
    }
   ],
   "source": [
    "print('Hello,', input() + '!')"
   ]
  },
  {
   "cell_type": "markdown",
   "id": "84ff81c2",
   "metadata": {},
   "source": [
    "**Suggested solution**"
   ]
  },
  {
   "cell_type": "code",
   "execution_count": 78,
   "id": "a55c876f",
   "metadata": {},
   "outputs": [
    {
     "name": "stdout",
     "output_type": "stream",
     "text": [
      "qwerty\n",
      "Hello, qwerty!\n"
     ]
    }
   ],
   "source": [
    "print('Hello,', input() + '!')"
   ]
  },
  {
   "cell_type": "markdown",
   "id": "53561dd2",
   "metadata": {},
   "source": [
    "#### Problem «Apple sharing»\n",
    "---\n",
    "**Statement**\n",
    "\n",
    "N students take K apples and distribute them among each other evenly. The remaining (the undivisible) part remains in the basket. How many apples will each single student get? How many apples will remain in the basket?\n",
    "The program reads the numbers N and K. It should print the two answers for the questions above.\n",
    "\n",
    "**Your solution**"
   ]
  },
  {
   "cell_type": "code",
   "execution_count": 79,
   "id": "4f1bbb7a",
   "metadata": {},
   "outputs": [
    {
     "name": "stdout",
     "output_type": "stream",
     "text": [
      "5\n",
      "10\n",
      "2\n",
      "0\n"
     ]
    }
   ],
   "source": [
    "N = int(input()) #  students\n",
    "k = int(input()) #  apples\n",
    "\n",
    "print(k // N)\n",
    "print(k % N)"
   ]
  },
  {
   "cell_type": "markdown",
   "id": "f8c9f173",
   "metadata": {},
   "source": [
    "**Suggested solution**"
   ]
  },
  {
   "cell_type": "code",
   "execution_count": 80,
   "id": "6fe5ed74",
   "metadata": {},
   "outputs": [
    {
     "name": "stdout",
     "output_type": "stream",
     "text": [
      "5\n",
      "10\n",
      "2\n",
      "0\n"
     ]
    }
   ],
   "source": [
    "n = int(input())\n",
    "k = int(input())\n",
    "print(k // n)\n",
    "print(k % n)"
   ]
  },
  {
   "cell_type": "markdown",
   "id": "b6abf3a5",
   "metadata": {},
   "source": [
    "#### Problem «Previous and next»\n",
    "---\n",
    "**Statement**\n",
    "\n",
    "Write a program that reads an integer number and prints its previous and next numbers. See the examples below for the exact format your answers should take. There shouldn't be a space before the period.\n",
    "Remember that you can convert the numbers to strings using the function str.\n",
    "\n",
    "**Your solution**"
   ]
  },
  {
   "cell_type": "code",
   "execution_count": 82,
   "id": "44b968d3",
   "metadata": {},
   "outputs": [
    {
     "name": "stdout",
     "output_type": "stream",
     "text": [
      "123456\n",
      "The next number for the number 123456 is 123457.\n",
      "The previous number for the number 123456 is 123455.\n"
     ]
    }
   ],
   "source": [
    "num = input()\n",
    "\n",
    "print('The next number for the number', num, 'is', str(int(num) + 1) + '.')\n",
    "print('The previous number for the number', num, 'is', str(int(num) - 1) + '.')"
   ]
  },
  {
   "cell_type": "markdown",
   "id": "4ec4606a",
   "metadata": {},
   "source": [
    "**Suggested solution**"
   ]
  },
  {
   "cell_type": "code",
   "execution_count": 83,
   "id": "5687b195",
   "metadata": {},
   "outputs": [
    {
     "name": "stdout",
     "output_type": "stream",
     "text": [
      "1564\n",
      "The next number for the number 1564 is 1565.\n",
      "The previous number for the number 1564 is 1563.\n"
     ]
    }
   ],
   "source": [
    "n = int(input())\n",
    "print('The next number for the number ' + str(n) + ' is ' + str(n + 1) + '.')\n",
    "print('The previous number for the number ' + str(n) + ' is ' + str(n - 1) + '.')"
   ]
  },
  {
   "cell_type": "markdown",
   "id": "38ccebb3",
   "metadata": {},
   "source": [
    "#### Problem «Two timestamps»\n",
    "---\n",
    "**Statement**\n",
    "\n",
    "A timestamp is three numbers: a number of hours, minutes and seconds. Given two timestamps, calculate how many seconds is between them. The moment of the first timestamp occurred before the moment of the second timestamp.\n",
    "\n",
    "**Your solution**"
   ]
  },
  {
   "cell_type": "code",
   "execution_count": 86,
   "id": "c6f00784",
   "metadata": {},
   "outputs": [
    {
     "name": "stdout",
     "output_type": "stream",
     "text": [
      "2\n",
      "35\n",
      "50\n",
      "4\n",
      "15\n",
      "25\n",
      "5975\n"
     ]
    }
   ],
   "source": [
    "h1, m1, s1, h2, m2, s2 = int(input()), int(input()), int(input()), int(input()), int(input()), int(input())\n",
    "\n",
    "print((h2-h1)*3600 + (m2-m1)*60 + s2-s1)"
   ]
  },
  {
   "cell_type": "markdown",
   "id": "9dee3133",
   "metadata": {},
   "source": [
    "**Suggested solution**"
   ]
  },
  {
   "cell_type": "code",
   "execution_count": 87,
   "id": "b0c78214",
   "metadata": {},
   "outputs": [
    {
     "name": "stdout",
     "output_type": "stream",
     "text": [
      "2\n",
      "35\n",
      "50\n",
      "4\n",
      "15\n",
      "25\n",
      "5975\n"
     ]
    }
   ],
   "source": [
    "hours_1 = int(input())\n",
    "minutes_1 = int(input())\n",
    "seconds_1 = int(input())\n",
    "hours_2 = int(input())\n",
    "minutes_2 = int(input())\n",
    "seconds_2 = int(input())\n",
    "print(hours_2 * 3600 + minutes_2 * 60 + seconds_2\n",
    "    - hours_1 * 3600 - minutes_1 * 60 - seconds_1)"
   ]
  },
  {
   "cell_type": "markdown",
   "id": "3196b8a8",
   "metadata": {},
   "source": [
    "#### Problem «School desks»\n",
    "---\n",
    "**Statement**\n",
    "\n",
    "A school decided to replace the desks in three classrooms. Each desk sits two students. Given the number of students in each class, print the smallest possible number of desks that can be purchased.\n",
    "The program should read three integers: the number of students in each of the three classes, a, b and c respectively.\n",
    "\n",
    "In the first test there are three groups. The first group has 20 students and thus needs 10 desks. The second group has 21 students, so they can get by with no fewer than 11 desks. 11 desks is also enough for the third group of 22 students. So we need 32 desks in total.\n",
    "\n",
    "**Your solution**"
   ]
  },
  {
   "cell_type": "code",
   "execution_count": 88,
   "id": "42b271f9",
   "metadata": {},
   "outputs": [
    {
     "name": "stdout",
     "output_type": "stream",
     "text": [
      "5\n",
      "6\n",
      "7\n",
      "10\n"
     ]
    }
   ],
   "source": [
    "a, b, c = int(input()), int(input()), int(input())\n",
    "\n",
    "print(a//2 + b//2+ c//2 + a%2 + b%2 + c%2)"
   ]
  },
  {
   "cell_type": "markdown",
   "id": "082bcb9a",
   "metadata": {},
   "source": [
    "**Suggested solution**"
   ]
  },
  {
   "cell_type": "code",
   "execution_count": 89,
   "id": "62ef0333",
   "metadata": {},
   "outputs": [
    {
     "name": "stdout",
     "output_type": "stream",
     "text": [
      "5\n",
      "6\n",
      "7\n",
      "10\n"
     ]
    }
   ],
   "source": [
    "a = int(input())\n",
    "b = int(input())\n",
    "c = int(input())\n",
    "print(a // 2 + b // 2 + c // 2 + a % 2 + b % 2 + c % 2)"
   ]
  },
  {
   "cell_type": "markdown",
   "id": "d7ef0bd3",
   "metadata": {},
   "source": [
    "# Lesson 2 - Integer and float numbers\n",
    "---\n",
    "[Ссылка на урок](https://snakify.org/en/lessons/integer_float_numbers/)\n",
    "\n",
    "[Ссылка на документацию Python](https://docs.python.org/3.11/tutorial/index.html)"
   ]
  },
  {
   "cell_type": "markdown",
   "id": "8126faee",
   "metadata": {},
   "source": [
    "## Theory\n",
    "---\n",
    "[Ссылка на раздел урока](https://snakify.org/en/lessons/integer_float_numbers/#)"
   ]
  },
  {
   "cell_type": "markdown",
   "id": "0cccab87",
   "metadata": {},
   "source": [
    "### Integer arithmetics"
   ]
  },
  {
   "cell_type": "markdown",
   "id": "f7298d98",
   "metadata": {},
   "source": [
    "We already know the following operators which may be applied to numbers: +, -, * and \\*\\*. The division operator / for integers gives a floating-point real number (an object of type float). The exponentiation ** also returns a float when the power is negative:"
   ]
  },
  {
   "cell_type": "code",
   "execution_count": 1,
   "id": "1dcb3105",
   "metadata": {},
   "outputs": [
    {
     "name": "stdout",
     "output_type": "stream",
     "text": [
      "5.666666666666667\n",
      "16\n",
      "0.25\n"
     ]
    }
   ],
   "source": [
    "print(17 / 3)  # gives 5.66666666667\n",
    "print(2 ** 4)  # gives 16\n",
    "print(2 ** -2) # gives 0.25"
   ]
  },
  {
   "cell_type": "markdown",
   "id": "22b658ab",
   "metadata": {},
   "source": [
    "There's a special operation for integer division where the remainder is discarded: //. The operation that yields a remainder of such a division looks like %. Both operation always yield an object of type int."
   ]
  },
  {
   "cell_type": "code",
   "execution_count": 2,
   "id": "3ba238ad",
   "metadata": {},
   "outputs": [
    {
     "name": "stdout",
     "output_type": "stream",
     "text": [
      "5.666666666666667\n",
      "5\n",
      "2\n"
     ]
    }
   ],
   "source": [
    "print(17 / 3)   # gives 5.66666666667\n",
    "print(17 // 3)  # gives 5\n",
    "print(17 % 3)   # gives 2"
   ]
  },
  {
   "cell_type": "markdown",
   "id": "9e586b5d",
   "metadata": {},
   "source": [
    "### Floating-point numbers"
   ]
  },
  {
   "cell_type": "markdown",
   "id": "cb844b3a",
   "metadata": {},
   "source": [
    "When we read an integer value, we read a line with input() and then cast a string to integer using int(). When we read a floating-point number, we need to cast the string to float using float():"
   ]
  },
  {
   "cell_type": "code",
   "execution_count": 4,
   "id": "ce179e41",
   "metadata": {},
   "outputs": [
    {
     "name": "stdout",
     "output_type": "stream",
     "text": [
      "15\n",
      "15.0\n"
     ]
    }
   ],
   "source": [
    "x = float(input())\n",
    "print(x)"
   ]
  },
  {
   "cell_type": "markdown",
   "id": "c71dd752",
   "metadata": {},
   "source": [
    "Floats with very big or very small absolute value can be written using a scientific notation. Eg., the distance from the Earth to the Sun is 1.496·1011, or 1.496e11 in Python. The mass of one molecule of the water is 2.99·10-23, or 2.99e-23 in Python.\n",
    "\n",
    "One can cast float objects to int objects by discarding the fraction part using the int() function. This function demonstrates so called rounding towards zero behavior:"
   ]
  },
  {
   "cell_type": "code",
   "execution_count": 5,
   "id": "b4f9adc2",
   "metadata": {},
   "outputs": [
    {
     "name": "stdout",
     "output_type": "stream",
     "text": [
      "1\n",
      "1\n",
      "-1\n",
      "-1\n"
     ]
    }
   ],
   "source": [
    "print(int(1.3))   # gives 1\n",
    "print(int(1.7))   # gives 1\n",
    "print(int(-1.3))  # gives -1\n",
    "print(int(-1.7))  # gives -1"
   ]
  },
  {
   "cell_type": "markdown",
   "id": "58672b5e",
   "metadata": {},
   "source": [
    "There's also a function round() that performs the usual rounding:"
   ]
  },
  {
   "cell_type": "code",
   "execution_count": 7,
   "id": "89dde401",
   "metadata": {},
   "outputs": [
    {
     "name": "stdout",
     "output_type": "stream",
     "text": [
      "1\n",
      "2\n",
      "-1\n",
      "-2\n"
     ]
    }
   ],
   "source": [
    "print(round(1.3))   # gives 1\n",
    "print(round(1.7))   # gives 2\n",
    "print(round(-1.3))  # gives -1\n",
    "print(round(-1.7))  # gives -2"
   ]
  },
  {
   "cell_type": "markdown",
   "id": "66d666e4",
   "metadata": {},
   "source": [
    "Floating-point real numbers can't be represented with exact precision due to hardware limitations. This can lead to cumbersome effects. See the Python docs for the details."
   ]
  },
  {
   "cell_type": "code",
   "execution_count": 8,
   "id": "0f78a1f1",
   "metadata": {},
   "outputs": [
    {
     "name": "stdout",
     "output_type": "stream",
     "text": [
      "0.30000000000000004\n"
     ]
    }
   ],
   "source": [
    "print(0.1 + 0.2)  # gives 0.30000000000000004"
   ]
  },
  {
   "cell_type": "markdown",
   "id": "6d0e0bf3",
   "metadata": {},
   "source": [
    "### math module"
   ]
  },
  {
   "cell_type": "markdown",
   "id": "16e63cf6",
   "metadata": {},
   "source": [
    "Python has many auxiliary functions for calculations with floats. They can be found in the math module.\n",
    "\n",
    "To use this module, we need to import it first by writing the following instruction at the beginning of the program:"
   ]
  },
  {
   "cell_type": "markdown",
   "id": "5ca5d186",
   "metadata": {},
   "source": [
    "> import math"
   ]
  },
  {
   "cell_type": "code",
   "execution_count": 12,
   "id": "081be61a",
   "metadata": {},
   "outputs": [
    {
     "name": "stdout",
     "output_type": "stream",
     "text": [
      "5\n",
      "5\n"
     ]
    }
   ],
   "source": [
    "import math\n",
    "\n",
    "x = math.ceil(4.2)\n",
    "print(x)\n",
    "print(math.ceil(1 + 3.8))"
   ]
  },
  {
   "cell_type": "markdown",
   "id": "8bbac877",
   "metadata": {},
   "source": [
    "There's another way to use functions from modules: to import the certain functions by naming them:"
   ]
  },
  {
   "cell_type": "code",
   "execution_count": 13,
   "id": "885af8f8",
   "metadata": {},
   "outputs": [
    {
     "name": "stdout",
     "output_type": "stream",
     "text": [
      "4\n"
     ]
    }
   ],
   "source": [
    "from math import ceil\n",
    " \n",
    "x = 7 / 2\n",
    "y = ceil(x)\n",
    "print(y)"
   ]
  },
  {
   "cell_type": "markdown",
   "id": "9e369910",
   "metadata": {},
   "source": [
    "Some of the functions dealing with numbers - int(), round() and abs() (absolute value aka modulus) - are built-in and don't require any imports.\n",
    "\n",
    "All the functions of any standard Python module are documented on the official Python website. Here's the description for math module. The description of some functions is given:"
   ]
  },
  {
   "cell_type": "markdown",
   "id": "c6409fdc",
   "metadata": {},
   "source": [
    "Function\tDescription\n",
    "Rounding\n",
    "floor(x)\tReturn the floor of x, the largest integer less than or equal to x.\n",
    "ceil(x)\tReturn the ceiling of x, the smallest integer greater than or equal to x.\n",
    "Roots and logarithms\n",
    "sqrt(x)\tReturn the square root of x\n",
    "log(x)\tWith one argument, return the natural logarithm of x (to base e). With two arguments, return the logarithm of x to the given base\n",
    "e\tThe mathematical constant e = 2,71828...\n",
    "Trigonometry\n",
    "sin(x)\tReturn the sine of x radians\n",
    "asin(x)\tReturn the arcsine of x, in radians\n",
    "pi\tThe mathematical constant π = 3.1415..."
   ]
  },
  {
   "cell_type": "code",
   "execution_count": null,
   "id": "e9ce5337",
   "metadata": {},
   "outputs": [],
   "source": []
  },
  {
   "cell_type": "markdown",
   "id": "40c05eef",
   "metadata": {},
   "source": [
    "## Steps\n",
    "---\n",
    "[Ссылка на раздел урока](https://snakify.org/en/lessons/integer_float_numbers/steps/1/)"
   ]
  },
  {
   "cell_type": "markdown",
   "id": "2431141c",
   "metadata": {},
   "source": [
    "#### Integer arithmetics\n",
    "We already know the following operations which may be applied to numbers: +, -, * and \\*\\*.\n",
    "\n",
    "The division / always gives you a float (a floating-point real number, an object of type float).\n",
    "\n",
    "From high school, you probably remember how to calculate negative powers. We want to provide an example if you don't remember: 2-3 = 1 / ( 23 ) = 0.125. Of course, Python allows you to calculate negative powers just the same way as positive ones: print(2 ** -3).\n",
    "\n",
    "The exponentiation ** also returns a float when the power is negative.\n",
    "**Instructions**\n",
    "1. Click \"Run\" to see what happens in output!"
   ]
  },
  {
   "cell_type": "code",
   "execution_count": 15,
   "id": "8677849f",
   "metadata": {},
   "outputs": [
    {
     "name": "stdout",
     "output_type": "stream",
     "text": [
      "5.666666666666667\n",
      "5.0\n",
      "16\n",
      "0.125\n"
     ]
    }
   ],
   "source": [
    "print(17 / 3)  \n",
    "print(20 / 4)\n",
    "print(2 ** 4)  \n",
    "print(2 ** -3)"
   ]
  },
  {
   "cell_type": "markdown",
   "id": "1335152e",
   "metadata": {},
   "source": [
    "#### Integer division\n",
    "There's a special operation for integer division where the remainder is discarded: //.\n",
    "\n",
    "The operation that yields a remainder of such a division, though, occurs more often and is denoted by %.\n",
    "\n",
    "Both operations always yield an object of type int.\n",
    "**Instructions**\n",
    "1. Click \"Run\" to see what happens in output!"
   ]
  },
  {
   "cell_type": "code",
   "execution_count": 17,
   "id": "de16698b",
   "metadata": {},
   "outputs": [
    {
     "name": "stdout",
     "output_type": "stream",
     "text": [
      "5.666666666666667\n",
      "5\n",
      "2\n"
     ]
    }
   ],
   "source": [
    "print(17 / 3)  \n",
    "print(17 // 3)\n",
    "print(17 % 3)"
   ]
  },
  {
   "cell_type": "markdown",
   "id": "8c9dea64",
   "metadata": {},
   "source": [
    "#### Floating-point numbers\n",
    "When we read an integer value, we read a line with input() and then cast a string to integer using int(). When we read a floating-point number, we need to cast a string to float using float():\n",
    "\n",
    "**Instructions**\n",
    "1. Click \"Run\" to see what happens in output!"
   ]
  },
  {
   "cell_type": "code",
   "execution_count": 18,
   "id": "3182306a",
   "metadata": {},
   "outputs": [
    {
     "name": "stdout",
     "output_type": "stream",
     "text": [
      "1.492\n",
      "1.492\n",
      "6\n",
      "6.0\n"
     ]
    }
   ],
   "source": [
    "x = float(input())\n",
    "print(x)\n",
    "y = float(input())\n",
    "print(y)"
   ]
  },
  {
   "cell_type": "markdown",
   "id": "e57ecb27",
   "metadata": {},
   "source": [
    "#### Very big and very small numbers\n",
    "You can write floats with very big or very small absolute values using the scientific notation. Eg., the distance from the Earth to the Sun is 1.496·1011 meters, or 1.496e11 in Python. The mass of one molecule of water is 2.99·10-23 grams, or 2.99e-23 in Python.\n",
    "\n",
    "**Instructions**\n",
    "\n",
    "1. Click \"Run\" to see what happens in output!\n",
    "\n",
    "Hint\n",
    "A billion is 109, so you can print 3.9e9"
   ]
  },
  {
   "cell_type": "code",
   "execution_count": 20,
   "id": "1390b2c8",
   "metadata": {},
   "outputs": [
    {
     "name": "stdout",
     "output_type": "stream",
     "text": [
      "3900000000.0\n"
     ]
    }
   ],
   "source": [
    "print(3.9e9)"
   ]
  },
  {
   "cell_type": "markdown",
   "id": "ff163a8a",
   "metadata": {},
   "source": [
    "#### Round and round\n",
    "You can also cast float objects to int objects. Of course, it can be achieved using the int() function, which simply discards the fractional part (rounding, thus, every number towards 0).\n",
    "\n",
    "But, generally, it is much more convenient to use round(), which performs that rounding we are used to.\n",
    "\n",
    "**Instructions**\n",
    "1. Click \"Run\" to see what happens in output!"
   ]
  },
  {
   "cell_type": "code",
   "execution_count": 21,
   "id": "b806764a",
   "metadata": {},
   "outputs": [
    {
     "name": "stdout",
     "output_type": "stream",
     "text": [
      "1\n",
      "1\n",
      "-1\n",
      "-1\n",
      "1\n",
      "2\n",
      "-1\n",
      "-2\n"
     ]
    }
   ],
   "source": [
    "print(int(1.3))   # gives 1\n",
    "print(int(1.7))   # gives 1\n",
    "print(int(-1.3))  # gives -1\n",
    "print(int(-1.7))  # gives -1\n",
    "\n",
    "print(round(1.3))   # gives 1\n",
    "print(round(1.7))   # gives 2\n",
    "print(round(-1.3))  # gives -1\n",
    "print(round(-1.7))  # gives -2"
   ]
  },
  {
   "cell_type": "markdown",
   "id": "130203e9",
   "metadata": {},
   "source": [
    "#### Floats can confuse you\n",
    "Floating-point real numbers can't be represented with exact precision due to hardware limitations. This can lead to cumbersome effects. See the official Python docs for the details.\n",
    "\n",
    "**Instructions**\n",
    "1. Click \"Run\" to see what happens in output!"
   ]
  },
  {
   "cell_type": "code",
   "execution_count": 23,
   "id": "12a6d710",
   "metadata": {},
   "outputs": [
    {
     "name": "stdout",
     "output_type": "stream",
     "text": [
      "0.30000000000000004\n"
     ]
    }
   ],
   "source": [
    "print(0.1 + 0.2)  # gives 0.30000000000000004"
   ]
  },
  {
   "cell_type": "markdown",
   "id": "585e49e3",
   "metadata": {},
   "source": [
    "#### Math module\n",
    "Python has a ton of functions for calculations with floats. Most of them can be found in the math module.\n",
    "\n",
    "To use this module, you need to import it first by writing the following instruction at the beginning of your program:\n",
    "> import math\n",
    "\n",
    "For example, if we want to find the ceiling value for x — the smallest integer not less than x — we call the corresponding function from the math module: math.ceil(x).\n",
    "**Instructions**\n",
    "1. Click \"Run\" to see what happens in output!"
   ]
  },
  {
   "cell_type": "code",
   "execution_count": 24,
   "id": "2d304193",
   "metadata": {},
   "outputs": [
    {
     "name": "stdout",
     "output_type": "stream",
     "text": [
      "5\n",
      "5\n"
     ]
    }
   ],
   "source": [
    "import math\n",
    "\n",
    "x = math.ceil(4.2)\n",
    "print(x)\n",
    "print(math.ceil(1 + 3.8))"
   ]
  },
  {
   "cell_type": "markdown",
   "id": "6c5c0198",
   "metadata": {},
   "source": [
    "#### More ways to import math\n",
    "You may import only one method from the whole module and use it under its short name.\n",
    "\n",
    "Look at the code to see what syntax is used for that.\n",
    "\n",
    "**Instructions**\n",
    "1. Click \"Run\" to see what happens in output!"
   ]
  },
  {
   "cell_type": "code",
   "execution_count": 25,
   "id": "cec6b7e8",
   "metadata": {},
   "outputs": [
    {
     "name": "stdout",
     "output_type": "stream",
     "text": [
      "4\n"
     ]
    }
   ],
   "source": [
    "from math import ceil\n",
    " \n",
    "x = 7 / 2\n",
    "y = ceil(x)\n",
    "print(y)"
   ]
  },
  {
   "cell_type": "markdown",
   "id": "05c4353f",
   "metadata": {},
   "source": [
    "#### Absolute value of a number\n",
    "Another function we haven't mentioned yet is abs() (the absolute value of a number, modulus). Just as functions int() and round(), this function is built-in function and doesn't require any imports.\n",
    "\n",
    "**Instructions**\n",
    "1. Click \"Run\" to see what happens in output!"
   ]
  },
  {
   "cell_type": "code",
   "execution_count": 26,
   "id": "61dd79a2",
   "metadata": {},
   "outputs": [
    {
     "name": "stdout",
     "output_type": "stream",
     "text": [
      "6\n",
      "3.81\n",
      "0\n"
     ]
    }
   ],
   "source": [
    "print(abs(-6))\n",
    "print(abs(3.81))\n",
    "print(abs(0))"
   ]
  },
  {
   "cell_type": "markdown",
   "id": "21a30edb",
   "metadata": {},
   "source": [
    "#### Some functions from math module\n",
    "All the functions of any standard Python module are documented on the official Python website. Here's the description for math module. Arguably most popular functions are:\n",
    "\n",
    "floor(x) — returns the largest integer less than or equal to x,\n",
    "\n",
    "ceil(x) — returns the smallest integer greater than or equal to x,\n",
    "\n",
    "sqrt(x) — returns the square root of x,\n",
    "\n",
    "log(x) — returns the natural logarithm of x,\n",
    "\n",
    "log(x,a) — returns the logarithm of x to base a,\n",
    "\n",
    "pi is the mathematical constant pi = 3,1415926..\n",
    "\n",
    "e — is the mathematical constant e = 2,71828..\n",
    "\n",
    "sin(x) returns the sine of x in radians\n",
    "\n",
    "cos(x) returns the cosine of x in radians\n",
    "\n",
    "tan(x) returns the tangent function of x\n",
    "\n",
    "asin(x) returns the arcsine of x in radians\n",
    "\n",
    "**Instructions**\n",
    "1. Print the square root of 256.\n",
    "2. Print the floor of pie + epi."
   ]
  },
  {
   "cell_type": "code",
   "execution_count": 36,
   "id": "397a9d56",
   "metadata": {},
   "outputs": [
    {
     "name": "stdout",
     "output_type": "stream",
     "text": [
      "16\n",
      "45\n"
     ]
    }
   ],
   "source": [
    "import math\n",
    "from math import floor, sqrt, pi, e\n",
    "\n",
    "print(sqrt(256))\n",
    "print(floor(pi ** e + e ** pi))"
   ]
  },
  {
   "cell_type": "markdown",
   "id": "4d654175",
   "metadata": {},
   "source": [
    "#### Remember the rules:\n",
    "If you use \"import math\", you must call the desired function like math.sqrt(x) or math.cos(y)\n",
    "\n",
    "But if you use \"from math import cos\" this is how you call the function: cos(x)\n",
    "\n",
    "Then, if you what to calculate a logarithm, you need to write \"from math import log\" and then you may call your logarithm with log(y) or log(z,10)"
   ]
  },
  {
   "cell_type": "markdown",
   "id": "e614526b",
   "metadata": {},
   "source": [
    "## Problems\n",
    "---\n",
    "[Ссылка на раздел урока](https://snakify.org/en/lessons/integer_float_numbers/problems/)"
   ]
  },
  {
   "cell_type": "markdown",
   "id": "c93b740d",
   "metadata": {},
   "source": [
    "#### Last digit of integer\n",
    "Given an integer number, print its last digit."
   ]
  },
  {
   "cell_type": "code",
   "execution_count": 39,
   "id": "5fc4f23b",
   "metadata": {},
   "outputs": [
    {
     "name": "stdout",
     "output_type": "stream",
     "text": [
      "179\n",
      "9\n"
     ]
    }
   ],
   "source": [
    "a = int(input())\n",
    "print(a % 10)"
   ]
  },
  {
   "cell_type": "markdown",
   "id": "ec605e79",
   "metadata": {},
   "source": [
    "#### Tens digit\n",
    "Given an integer. Print its tens digit."
   ]
  },
  {
   "cell_type": "code",
   "execution_count": 65,
   "id": "cdc04d0c",
   "metadata": {},
   "outputs": [
    {
     "name": "stdout",
     "output_type": "stream",
     "text": [
      "179\n",
      "7\n"
     ]
    }
   ],
   "source": [
    "num = int(input())\n",
    "print(((num - (num - num % 100)) // 10))"
   ]
  },
  {
   "cell_type": "code",
   "execution_count": 66,
   "id": "7f4c1ceb",
   "metadata": {},
   "outputs": [
    {
     "name": "stdout",
     "output_type": "stream",
     "text": [
      "179\n",
      "7\n"
     ]
    }
   ],
   "source": [
    "n = int(input())\n",
    "print(n // 10 % 10)"
   ]
  },
  {
   "cell_type": "markdown",
   "id": "ed4d47e5",
   "metadata": {},
   "source": [
    "#### Sum of digits\n",
    "Given a three-digit number. Find the sum of its digits."
   ]
  },
  {
   "cell_type": "code",
   "execution_count": 73,
   "id": "19a1b5d9",
   "metadata": {},
   "outputs": [
    {
     "name": "stdout",
     "output_type": "stream",
     "text": [
      "829\n",
      "19\n"
     ]
    }
   ],
   "source": [
    "n = int(input())\n",
    "print(n // 100 + n // 10 % 10 + n % 10)"
   ]
  },
  {
   "cell_type": "markdown",
   "id": "4689fab1",
   "metadata": {},
   "source": [
    "#### Fractional part\n",
    "Given a positive real number, print its fractional part."
   ]
  },
  {
   "cell_type": "code",
   "execution_count": 6,
   "id": "dc3e500a",
   "metadata": {},
   "outputs": [
    {
     "name": "stdout",
     "output_type": "stream",
     "text": [
      "19.99\n",
      "0.9899999999999984\n"
     ]
    }
   ],
   "source": [
    "#мой вариант решения\n",
    "num = float(input())\n",
    "print(num - num // 1)"
   ]
  },
  {
   "cell_type": "code",
   "execution_count": 7,
   "id": "81e95544",
   "metadata": {},
   "outputs": [
    {
     "name": "stdout",
     "output_type": "stream",
     "text": [
      "6.5\n",
      "0.5\n"
     ]
    }
   ],
   "source": [
    "#Решение с сайта для запоминания того, что int округляет до целого\n",
    "x = float(input())\n",
    "print(x - int(x))"
   ]
  },
  {
   "cell_type": "markdown",
   "id": "04376219",
   "metadata": {},
   "source": [
    "#### First digit after decimal point\n",
    "Given a positive real number, print its first digit to the right of the decimal point."
   ]
  },
  {
   "cell_type": "code",
   "execution_count": 11,
   "id": "be57cf3b",
   "metadata": {},
   "outputs": [
    {
     "name": "stdout",
     "output_type": "stream",
     "text": [
      "1.79\n",
      "7\n"
     ]
    }
   ],
   "source": [
    "#мое решение\n",
    "num = float(input())\n",
    "print(int((num - int(num)) * 10))"
   ]
  },
  {
   "cell_type": "code",
   "execution_count": 13,
   "id": "9c7ff4b4",
   "metadata": {},
   "outputs": [
    {
     "name": "stdout",
     "output_type": "stream",
     "text": [
      "6.5\n",
      "5\n"
     ]
    }
   ],
   "source": [
    "# Эталонное решение\n",
    "x = float(input())\n",
    "print(int(x * 10) % 10)"
   ]
  },
  {
   "cell_type": "markdown",
   "id": "535567a6",
   "metadata": {},
   "source": [
    "#### Car route\n",
    "A car can cover distance of N kilometers per day. How many days will it take to cover a route of length M kilometers? The program gets two numbers: N and M."
   ]
  },
  {
   "cell_type": "code",
   "execution_count": 17,
   "id": "d1b94734",
   "metadata": {},
   "outputs": [
    {
     "name": "stdout",
     "output_type": "stream",
     "text": [
      "700\n",
      "750\n",
      "2\n"
     ]
    }
   ],
   "source": [
    "import math as m\n",
    "N = int(input())\n",
    "M = int(input())\n",
    "print(m.ceil(M / N))"
   ]
  },
  {
   "cell_type": "markdown",
   "id": "fbfb2a0e",
   "metadata": {},
   "source": [
    "#### Digital clock\n",
    "Given the integer N - the number of minutes that is passed since midnight - how many hours and minutes are displayed on the 24h digital clock?\n",
    "\n",
    "The program should print two numbers: the number of hours (between 0 and 23) and the number of minutes (between 0 and 59).\n",
    "\n",
    "For example, if N = 150, then 150 minutes have passed since midnight - i.e. now is 2:30 am. So the program should print 2 30."
   ]
  },
  {
   "cell_type": "code",
   "execution_count": 20,
   "id": "bfa1f88d",
   "metadata": {},
   "outputs": [
    {
     "name": "stdout",
     "output_type": "stream",
     "text": [
      "150\n",
      "2 30\n"
     ]
    }
   ],
   "source": [
    "num = int(input())\n",
    "h = num // 60\n",
    "m = num % 60\n",
    "print(h, m)"
   ]
  },
  {
   "cell_type": "markdown",
   "id": "0fdbaf6e",
   "metadata": {},
   "source": [
    "#### Total cost\n",
    "A cupcake costs A dollars and B cents. Determine, how many dollars and cents should one pay for N cupcakes. A program gets three numbers: A, B, N. It should print two numbers: total cost in dollars and cents."
   ]
  },
  {
   "cell_type": "code",
   "execution_count": 23,
   "id": "f2010b85",
   "metadata": {},
   "outputs": [
    {
     "name": "stdout",
     "output_type": "stream",
     "text": [
      "2\n",
      "50\n",
      "4\n",
      "10 0\n"
     ]
    }
   ],
   "source": [
    "A = int(input())\n",
    "B = int(input())\n",
    "N = int(input())\n",
    "\n",
    "cents = (A * 100 + B) * N\n",
    "t_dol = cents // 100\n",
    "t_cent = cents % 100\n",
    "\n",
    "print(t_dol, t_cent)"
   ]
  },
  {
   "cell_type": "markdown",
   "id": "2a402de7",
   "metadata": {},
   "source": [
    "#### Clock face - 1\n",
    "H hours, M minutes and S seconds are passed since the midnight (0 ≤ H < 12, 0 ≤ M < 60, 0 ≤ S < 60). Determine the angle (in degrees) of the hour hand on the clock face right now."
   ]
  },
  {
   "cell_type": "code",
   "execution_count": 25,
   "id": "de40d8ae",
   "metadata": {},
   "outputs": [
    {
     "name": "stdout",
     "output_type": "stream",
     "text": [
      "1\n",
      "2\n",
      "6\n",
      "31.05\n"
     ]
    }
   ],
   "source": [
    "H = int(input())\n",
    "M = int(input())\n",
    "S = int(input())\n",
    "\n",
    "angle = 360 / 12 * H + 360 / 12 / 60 * M + 360 / 12 / 60 / 60 * S\n",
    "print(angle)"
   ]
  },
  {
   "cell_type": "markdown",
   "id": "01b5dbf8",
   "metadata": {},
   "source": [
    "#### Clock face - 2\n",
    "Hour hand turned by α degrees since the midnight. Determine the angle by which minute hand turned since the start of the current hour. Input and output in this problems are floating-point numbers."
   ]
  },
  {
   "cell_type": "code",
   "execution_count": 38,
   "id": "604e4865",
   "metadata": {},
   "outputs": [
    {
     "name": "stdout",
     "output_type": "stream",
     "text": [
      "231.3452\n",
      "256.14240000000007\n"
     ]
    }
   ],
   "source": [
    "α = float(input())\n",
    "print((α % 30) * 12)"
   ]
  },
  {
   "cell_type": "markdown",
   "id": "f30db8ab",
   "metadata": {},
   "source": [
    "# Conditions: if, then, else\n",
    "---"
   ]
  },
  {
   "cell_type": "markdown",
   "id": "7b2a1c18",
   "metadata": {},
   "source": [
    "## Theory\n",
    "---\n",
    "[Ссылка на раздел урока](https://snakify.org/en/lessons/if_then_else_conditions/)"
   ]
  },
  {
   "cell_type": "markdown",
   "id": "565d5fb2",
   "metadata": {},
   "source": [
    "### Syntax"
   ]
  },
  {
   "cell_type": "markdown",
   "id": "ebe9df5c",
   "metadata": {},
   "source": [
    "All the programs in the first lesson were executed sequentially, line after line. No line could be skipped.\n",
    "\n",
    "Let's consider the following problem: for the given integer X determine its absolute value. If X>0 then the program should print the value X, otherwise it should print -X. This behavior can't be reached using the sequential program. The program should conditionally select the next step. That's where the conditions help:"
   ]
  },
  {
   "cell_type": "code",
   "execution_count": 39,
   "id": "13b3ae82",
   "metadata": {},
   "outputs": [
    {
     "name": "stdout",
     "output_type": "stream",
     "text": [
      "-273\n",
      "273\n"
     ]
    }
   ],
   "source": [
    "x = int(input())\n",
    "if x > 0:\n",
    "    print(x)\n",
    "else:\n",
    "    print(-x)"
   ]
  },
  {
   "cell_type": "markdown",
   "id": "3578d7d3",
   "metadata": {},
   "source": [
    "This program uses a conditional statement **if**. After the **if** we put a condition **(x > 0)** following by a colon. After that we put a block of instructions which will be executed only if the condition is true (i.e. evaluates to **True**). This block may be followed by the word **else**, colon and another block of instructions which will be executed only if the condition is false (i.e. evaluates to **False**). Is the case above, the condition is false, so the 'else' block is executed. Each block should be indented using spaces.\n",
    "\n",
    "To sum up, the conditional statement in Python has the following syntax:"
   ]
  },
  {
   "cell_type": "code",
   "execution_count": 42,
   "id": "f6a9f089",
   "metadata": {},
   "outputs": [],
   "source": [
    "#if condition:\n",
    "    #true-block\n",
    "    #several instructions that are executed\n",
    "    #if the condition evaluates to True\n",
    "#else:\n",
    "    #false-block\n",
    "    #several instructions that are executed\n",
    "    #if the condition evaluates to False"
   ]
  },
  {
   "cell_type": "markdown",
   "id": "c75a5af7",
   "metadata": {},
   "source": [
    "The **else** keyword with the 'false' block may be omitted in case nothing should be done if the condition is false. For example, we can replace the variable *x* with its absolute value like this:"
   ]
  },
  {
   "cell_type": "code",
   "execution_count": 43,
   "id": "8b2aafca",
   "metadata": {},
   "outputs": [
    {
     "name": "stdout",
     "output_type": "stream",
     "text": [
      "-273\n",
      "273\n"
     ]
    }
   ],
   "source": [
    "x = int(input())\n",
    "if x < 0:\n",
    "    x = -x\n",
    "print(x)"
   ]
  },
  {
   "cell_type": "markdown",
   "id": "c4ec51c2",
   "metadata": {},
   "source": [
    "In this example the variable x is assigned to -x only if x < 0. In contrast, the instruction print(x) is executed every time, because it's not indented, so it doesn't belong to the 'true' block.\n",
    "\n",
    "Indentation is a general way in Python to separate blocks of code. All instructions within the same block should be indented in the same way, i.e. they should have the same number of spaces at the beginning of the line. It's recommended to use 4 spaces for indentation.\n",
    "\n",
    "The indentation is what makes Python different from the most of other language, in which the curly braces { and } are used to form the blocks.\n",
    "\n",
    "By the way, there's a builtin-function for absolute value in Python:"
   ]
  },
  {
   "cell_type": "code",
   "execution_count": 44,
   "id": "0d58095c",
   "metadata": {},
   "outputs": [
    {
     "name": "stdout",
     "output_type": "stream",
     "text": [
      "-152\n",
      "152\n"
     ]
    }
   ],
   "source": [
    "x = int(input())\n",
    "print(abs(x))"
   ]
  },
  {
   "cell_type": "markdown",
   "id": "5fa5daf1",
   "metadata": {},
   "source": [
    "### Nested conditions"
   ]
  },
  {
   "cell_type": "markdown",
   "id": "afac06e5",
   "metadata": {},
   "source": [
    "Any Python instruction may be put into 'true' blocks and 'false' block, including another conditional statement. This way we get nested conditions. The blocks of inner conditions are indented using twice more spaces (eg. 8 spaces). Let's see an example. Given the coordinates of the point on the plane, print its quadrant."
   ]
  },
  {
   "cell_type": "code",
   "execution_count": 45,
   "id": "67799fae",
   "metadata": {},
   "outputs": [
    {
     "name": "stdout",
     "output_type": "stream",
     "text": [
      "2\n",
      "-3\n",
      "Quadrant IV\n"
     ]
    }
   ],
   "source": [
    "x = int(input())\n",
    "y = int(input())\n",
    "if x > 0:\n",
    "    if y > 0:\n",
    "        # x is greater than 0, y is greater than 0\n",
    "        print(\"Quadrant I\")\n",
    "    else:    \n",
    "        # x is greater than 0, y is less or equal than 0\n",
    "        print(\"Quadrant IV\")\n",
    "else:\n",
    "    if y > 0:\n",
    "        # x is less or equal than 0, y is greater than 0\n",
    "        print(\"Quadrant II\")\n",
    "    else:    \n",
    "        # x is less or equal than 0, y is less or equal than 0\n",
    "        print(\"Quadrant III\")"
   ]
  },
  {
   "cell_type": "markdown",
   "id": "b26aea95",
   "metadata": {},
   "source": [
    "In this example we use the comments: the explanatory text that has no effect on program execution. This text starts with the hash # and lasts till the end of the line."
   ]
  },
  {
   "cell_type": "markdown",
   "id": "bd4f7700",
   "metadata": {},
   "source": [
    "### Comparison operators"
   ]
  },
  {
   "cell_type": "markdown",
   "id": "437b8ba3",
   "metadata": {},
   "source": [
    "Usually the condition after if has one or more of the following operators:\n",
    "\n",
    "1. < - less — the condition is true if left side is less than right side.\n",
    "2. \\> - greater — the condition is true if left side is greater than right side.\n",
    "3. <= - less or equal.\n",
    "4. \\>= - greater or equal.\n",
    "5. == - equal.\n",
    "6. != - not equal.\n",
    "\n",
    "\n",
    "For example, the condition x * x < 1000 means “the value of the expression x * x is less than 1000”, and the condition 2 * x != y means “the doubled value of the variable x is not equal to the value of the variable y”.\n",
    "\n",
    "The comparison operators in Python may be grouped together like this: a == b == c or x <= y >= 10. It's a rare thing among programming languages."
   ]
  },
  {
   "cell_type": "markdown",
   "id": "4c5a0dab",
   "metadata": {},
   "source": [
    "### Bool objects and logical operators"
   ]
  },
  {
   "cell_type": "markdown",
   "id": "078fbf91",
   "metadata": {},
   "source": [
    "When we sum two integer objects using the + operator, like 2 + 5, we get a new object: 7. \n",
    "\n",
    "In the same way, when we compare two integers using the < operator, like 2 < 5, we get a new object: True."
   ]
  },
  {
   "cell_type": "code",
   "execution_count": 1,
   "id": "a778ab60",
   "metadata": {},
   "outputs": [
    {
     "name": "stdout",
     "output_type": "stream",
     "text": [
      "True\n",
      "False\n"
     ]
    }
   ],
   "source": [
    "print(2 < 5)\n",
    "print(2 > 5)"
   ]
  },
  {
   "cell_type": "markdown",
   "id": "d0d1899f",
   "metadata": {},
   "source": [
    "The True and False objects have a special type called bool. As every type name can be used to cast objects into that type, let's see what this cast gives for numbers:"
   ]
  },
  {
   "cell_type": "code",
   "execution_count": 2,
   "id": "ad20a794",
   "metadata": {},
   "outputs": [
    {
     "name": "stdout",
     "output_type": "stream",
     "text": [
      "True\n",
      "False\n",
      "True\n",
      "False\n",
      "True\n"
     ]
    }
   ],
   "source": [
    "print(bool(-10))    # True\n",
    "print(bool(0))      # False - zero is the only false number\n",
    "print(bool(10))     # True\n",
    "\n",
    "print(bool(''))     # False - empty string is the only false string\n",
    "print(bool('abc'))  # True"
   ]
  },
  {
   "cell_type": "markdown",
   "id": "12f741e3",
   "metadata": {},
   "source": [
    "Sometimes you need to check several conditions at once. For example, you can check if a number n is divisible by 2 using the condition n % 2 == 0 (n gives a remainder 0 when dividing by 2). If you need to check that two numbers n and m are both divisble by 2, you should check both n % 2 == 0 and m % 2 == 0. To do that, you join them using an operator and (logical AND): n % 2 == 0 and m % 2 == 0.\n",
    "\n",
    "Python has logical AND, logical OR and negation.\n",
    "\n",
    "Operator and is a binary operator which evaluates to True if and only if both its left-hand side and right-hand side are True.\n",
    "\n",
    "Operator or is a binary operator which evaluates to True if at least one of its sides is True.\n",
    "\n",
    "Operator not is a unary negation, it's followed by some value. It's evaluated to True if that value is False and vice versa.\n",
    "\n",
    "Let's check that at least one of the two numbers ends with 0:"
   ]
  },
  {
   "cell_type": "code",
   "execution_count": 3,
   "id": "059e755c",
   "metadata": {},
   "outputs": [
    {
     "name": "stdout",
     "output_type": "stream",
     "text": [
      "11\n",
      "654\n",
      "NO\n"
     ]
    }
   ],
   "source": [
    "a = int(input())\n",
    "b = int(input())\n",
    "if a % 10 == 0 or b % 10 == 0:\n",
    "    print('YES')\n",
    "else:\n",
    "    print('NO')"
   ]
  },
  {
   "cell_type": "markdown",
   "id": "0bb9578a",
   "metadata": {},
   "source": [
    "Let's check that the number a is positive and the number b is non-negative:\n",
    "\n",
    "> if a > 0 and not (b < 0):\n",
    "    \n",
    "Instead of not (b < 0) we can write (b >= 0)."
   ]
  },
  {
   "cell_type": "markdown",
   "id": "40725f5f",
   "metadata": {},
   "source": [
    "### 'elif' word"
   ]
  },
  {
   "cell_type": "markdown",
   "id": "f412beb6",
   "metadata": {},
   "source": [
    "If you have more than two options to tell apart using the conditional operator, you can use if... elif... else statement.\n",
    "\n",
    "Let's show how it works by rewriting the example with point (x,y) on the plane and quadrants from above:"
   ]
  },
  {
   "cell_type": "code",
   "execution_count": 5,
   "id": "66c07ad3",
   "metadata": {},
   "outputs": [
    {
     "name": "stdout",
     "output_type": "stream",
     "text": [
      "54\n",
      "15\n",
      "Quadrant I\n"
     ]
    }
   ],
   "source": [
    "x = int(input())\n",
    "y = int(input())\n",
    "if x > 0 and y > 0:\n",
    "    print(\"Quadrant I\")\n",
    "elif x > 0 and y < 0:\n",
    "    print(\"Quadrant IV\")\n",
    "elif y > 0:\n",
    "    print(\"Quadrant II\")\n",
    "else:\n",
    "    print(\"Quadrant III\")"
   ]
  },
  {
   "cell_type": "markdown",
   "id": "94774c7b",
   "metadata": {},
   "source": [
    "In this case the conditions in if and elif are checked one after another until the first true condition is found. \n",
    "\n",
    "Then only the true-block for that condition is being executed. If all the conditions are false, the 'else' block is being executed, if it's present."
   ]
  },
  {
   "cell_type": "markdown",
   "id": "83c55b89",
   "metadata": {},
   "source": [
    "## Steps\n",
    "---\n",
    "[Ссылка на раздел урока](https://snakify.org/en/lessons/if_then_else_conditions/steps/1/)"
   ]
  },
  {
   "cell_type": "code",
   "execution_count": null,
   "id": "3db906d4",
   "metadata": {},
   "outputs": [],
   "source": []
  },
  {
   "cell_type": "code",
   "execution_count": null,
   "id": "620d4bd6",
   "metadata": {},
   "outputs": [],
   "source": []
  },
  {
   "cell_type": "code",
   "execution_count": null,
   "id": "27995c82",
   "metadata": {},
   "outputs": [],
   "source": []
  },
  {
   "cell_type": "markdown",
   "id": "9407e797",
   "metadata": {},
   "source": [
    "## Problems\n",
    "---\n",
    "[Ссылка на раздел урока](https://snakify.org/en/lessons/if_then_else_conditions/problems/)"
   ]
  },
  {
   "cell_type": "markdown",
   "id": "0383bffb",
   "metadata": {},
   "source": [
    "#### Minimum of two numbers\n",
    "---\n",
    "Given two integers, print the smaller value."
   ]
  },
  {
   "cell_type": "code",
   "execution_count": 14,
   "id": "69e08a61",
   "metadata": {},
   "outputs": [
    {
     "name": "stdout",
     "output_type": "stream",
     "text": [
      "2\n",
      "2\n",
      "2\n"
     ]
    }
   ],
   "source": [
    "a = int(input())\n",
    "b = int(input())\n",
    "if a < b:\n",
    "    print(a)\n",
    "else:\n",
    "    print(b)"
   ]
  },
  {
   "cell_type": "markdown",
   "id": "e031057e",
   "metadata": {},
   "source": [
    "#### Sign function\n",
    "---\n",
    "For the given integer X print 1 if it's positive, -1 if it's negative, or 0 if it's equal to zero.\n",
    "\n",
    "Try to use the cascade if-elif-else for it."
   ]
  },
  {
   "cell_type": "code",
   "execution_count": 16,
   "id": "5f030db1",
   "metadata": {},
   "outputs": [
    {
     "name": "stdout",
     "output_type": "stream",
     "text": [
      "5\n",
      "1\n"
     ]
    }
   ],
   "source": [
    "x = int(input())\n",
    "if x < 0:\n",
    "    print(-1)\n",
    "elif x > 0:\n",
    "    print(1)\n",
    "else:\n",
    "    print(0)"
   ]
  },
  {
   "cell_type": "markdown",
   "id": "4a18866f",
   "metadata": {},
   "source": [
    "#### Minimum of three numbers\n",
    "---\n",
    "Given three integers, print the smallest value."
   ]
  },
  {
   "cell_type": "code",
   "execution_count": 13,
   "id": "64d598b4",
   "metadata": {},
   "outputs": [
    {
     "name": "stdout",
     "output_type": "stream",
     "text": [
      "-2\n",
      "-3\n",
      "-4\n",
      "-4\n"
     ]
    }
   ],
   "source": [
    "a = int(input())\n",
    "b = int(input())\n",
    "c = int(input())\n",
    "if b >= a <= c:\n",
    "    print(a)\n",
    "elif a >= b <= c:\n",
    "    print(b)\n",
    "else:\n",
    "    print(c)"
   ]
  },
  {
   "cell_type": "markdown",
   "id": "65e405a0",
   "metadata": {},
   "source": [
    "#### Equal numbers\n",
    "---\n",
    "Given three integers, determine how many of them are equal to each other. The program must print one of these numbers: 3 (if all are the same), 2 (if two of them are equal to each other and the third is different) or 0 (if all numbers are different)."
   ]
  },
  {
   "cell_type": "code",
   "execution_count": 17,
   "id": "c9c3ad72",
   "metadata": {},
   "outputs": [
    {
     "name": "stdout",
     "output_type": "stream",
     "text": [
      "5\n",
      "5\n",
      "6\n",
      "2\n"
     ]
    }
   ],
   "source": [
    "a = int(input())\n",
    "b = int(input())\n",
    "c = int(input())\n",
    "\n",
    "if a == b == c:\n",
    "    print(3)\n",
    "elif a == b:\n",
    "    print(2)\n",
    "elif b == c:\n",
    "    print(2)\n",
    "elif a == c:\n",
    "    print(2)\n",
    "else:\n",
    "    print(0)"
   ]
  },
  {
   "cell_type": "markdown",
   "id": "c944c50a",
   "metadata": {},
   "source": [
    "### Rook move\n",
    "---\n",
    "Chess rook moves horizontally or vertically. Given two different cells of the chessboard, determine whether a rook can go from the first cell to the second in one move.\n",
    "\n",
    "The program receives the input of four numbers from 1 to 8, each specifying the column and row number, first two - for the first cell, and then the last two - for the second cell. The program should output YES if a rook can go from the first cell to the second in one move, or NO otherwise."
   ]
  },
  {
   "cell_type": "code",
   "execution_count": 4,
   "id": "027e2fa5",
   "metadata": {},
   "outputs": [],
   "source": [
    "def rook_move():\n",
    "    x1 = int(input())\n",
    "    y1 = int(input())\n",
    "    x2 = int(input())\n",
    "    y2 = int(input())\n",
    "    if x1 == x2:\n",
    "        print('YES')\n",
    "    elif y1 == y2:\n",
    "        print('YES')\n",
    "    else:\n",
    "        print('NO')"
   ]
  },
  {
   "cell_type": "code",
   "execution_count": 5,
   "id": "6baed3d1",
   "metadata": {},
   "outputs": [
    {
     "name": "stdout",
     "output_type": "stream",
     "text": [
      "4\n",
      "4\n",
      "5\n",
      "5\n",
      "NO\n"
     ]
    }
   ],
   "source": [
    "rook_move()"
   ]
  },
  {
   "cell_type": "markdown",
   "id": "7cb8acbe",
   "metadata": {},
   "source": [
    "### Chess board - same color\n",
    "---\n",
    "Given two cells of a chessboard. If they are painted in one color, print the word YES, and if in a different color - NO.\n",
    "\n",
    "The program receives the input of four numbers from 1 to 8, each specifying the column and row number, first two - for the first cell, and then the last two - for the second cell."
   ]
  },
  {
   "cell_type": "code",
   "execution_count": 8,
   "id": "d526446f",
   "metadata": {},
   "outputs": [],
   "source": [
    "#Мое решение\n",
    "def same_color():\n",
    "    x1 = int(input())\n",
    "    y1 = int(input())\n",
    "    x2 = int(input())\n",
    "    y2 = int(input())\n",
    "    if (x1 % 2 != 0 and y1 % 2 == 0) or (x1 % 2 == 0 and y1 % 2 != 0):\n",
    "        c1 = 'White'\n",
    "    else:\n",
    "        c1 = 'Black'\n",
    "    if (x2 % 2 != 0 and y2 % 2 == 0) or (x2 % 2 == 0 and y2 % 2 != 0):\n",
    "        c2 = 'White'\n",
    "    else:\n",
    "        c2 = 'Black'\n",
    "    if c1 == c2:\n",
    "        return print('YES')\n",
    "    else:\n",
    "        return print('NO')"
   ]
  },
  {
   "cell_type": "code",
   "execution_count": 7,
   "id": "d1b4e3d8",
   "metadata": {},
   "outputs": [
    {
     "name": "stdout",
     "output_type": "stream",
     "text": [
      "1\n",
      "1\n",
      "2\n",
      "6\n",
      "YES\n"
     ]
    }
   ],
   "source": [
    "same_color()"
   ]
  },
  {
   "cell_type": "code",
   "execution_count": 9,
   "id": "99a2fc1e",
   "metadata": {},
   "outputs": [],
   "source": [
    "#Решение разработчиков\n",
    "x1 = int(input())\n",
    "y1 = int(input())\n",
    "x2 = int(input())\n",
    "y2 = int(input())\n",
    "if (x1 + y1 + x2 + y2) % 2 == 0:\n",
    "    print('YES')\n",
    "else:\n",
    "    print('NO')"
   ]
  },
  {
   "cell_type": "markdown",
   "id": "2c960aae",
   "metadata": {},
   "source": [
    "#### King move\n",
    "---\n",
    "Chess king moves horizontally, vertically or diagonally to any adjacent cell. Given two different cells of the chessboard, determine whether a king can go from the first cell to the second in one move.\n",
    "\n",
    "The program receives the input of four numbers from 1 to 8, each specifying the column and row number, first two - for the first cell, and then the last two - for the second cell. The program should output YES if a king can go from the first cell to the second in one move, or NO otherwise."
   ]
  },
  {
   "cell_type": "code",
   "execution_count": 8,
   "id": "e302ad84",
   "metadata": {},
   "outputs": [],
   "source": [
    "def king_step():\n",
    "    x1 = int(input())\n",
    "    y1 = int(input())\n",
    "    x2 = int(input())\n",
    "    y2 = int(input())\n",
    "    if abs(x1 - x2) <= 1 and abs(y1 - y2) <= 1:\n",
    "        return print('YES')\n",
    "    else:\n",
    "        return print('NO')"
   ]
  },
  {
   "cell_type": "code",
   "execution_count": 3,
   "id": "e61b1bea",
   "metadata": {},
   "outputs": [
    {
     "name": "stdout",
     "output_type": "stream",
     "text": [
      "4\n",
      "4\n",
      "5\n",
      "5\n",
      "YES\n"
     ]
    }
   ],
   "source": [
    "king_step()"
   ]
  },
  {
   "cell_type": "markdown",
   "id": "4d3ef4ae",
   "metadata": {},
   "source": [
    "#### Bishop moves\n",
    "---\n",
    "In chess, the bishop moves diagonally, any number of squares. Given two different squares of the chessboard, determine whether a bishop can go from the first to the second in one move.\n",
    "\n",
    "The program receives as input four numbers from 1 to 8, specifying the column and row numbers of the starting square and the column and row numbers of the ending square. The program should output YES if a Bishop can go from the first square to the second in one move, or NO otherwise."
   ]
  },
  {
   "cell_type": "code",
   "execution_count": 11,
   "id": "a71c09e1",
   "metadata": {},
   "outputs": [],
   "source": [
    "def bishop_step():    \n",
    "    x1 = int(input())\n",
    "    y1 = int(input())\n",
    "    x2 = int(input())\n",
    "    y2 = int(input())\n",
    "\n",
    "    if abs(x1 - x2) == abs(y1 - y2):\n",
    "        print('YES')\n",
    "    else:\n",
    "        print('NO')"
   ]
  },
  {
   "cell_type": "code",
   "execution_count": 10,
   "id": "f8a375e0",
   "metadata": {},
   "outputs": [
    {
     "name": "stdout",
     "output_type": "stream",
     "text": [
      "4\n",
      "5\n",
      "8\n",
      "4\n",
      "NO\n"
     ]
    }
   ],
   "source": [
    "bishop_step()"
   ]
  },
  {
   "cell_type": "markdown",
   "id": "a741f309",
   "metadata": {},
   "source": [
    "#### Queen move\n",
    "---\n",
    "Chess queen moves horizontally, vertically or diagonally to any number of cells. Given two different cells of the chessboard, determine whether a queen can go from the first cell to the second in one move.\n",
    "\n",
    "The program receives the input of four numbers from 1 to 8, each specifying the column and row number, first two - for the first cell, and then the last two - for the second cell. The program should output YES if a queen can go from the first cell to the second in one move, or NO otherwise."
   ]
  },
  {
   "cell_type": "code",
   "execution_count": 21,
   "id": "f4ca590d",
   "metadata": {},
   "outputs": [],
   "source": [
    "def queen_move():\n",
    "    x1 = int(input())\n",
    "    y1 = int(input())\n",
    "    x2 = int(input())\n",
    "    y2 = int(input())\n",
    "\n",
    "    if (abs(x1 - x2) == abs(y1 - y2)) or (x1 - x2 == 0 and y1 - y2 != 0) or (x1 - x2 != 0 and y1 - y2 == 0):\n",
    "        print('YES')\n",
    "    else:\n",
    "        print('NO')"
   ]
  },
  {
   "cell_type": "code",
   "execution_count": 22,
   "id": "0a0d6cf5",
   "metadata": {},
   "outputs": [
    {
     "name": "stdout",
     "output_type": "stream",
     "text": [
      "4\n",
      "5\n",
      "6\n",
      "7\n",
      "YES\n"
     ]
    }
   ],
   "source": [
    "queen_move()"
   ]
  },
  {
   "cell_type": "code",
   "execution_count": 18,
   "id": "0096c5f5",
   "metadata": {},
   "outputs": [
    {
     "name": "stdout",
     "output_type": "stream",
     "text": [
      "4\n",
      "5\n",
      "8\n",
      "7\n",
      "NO\n"
     ]
    }
   ],
   "source": [
    "#Решение разработчиков\n",
    "x1 = int(input())\n",
    "y1 = int(input())\n",
    "x2 = int(input())\n",
    "y2 = int(input())\n",
    "if abs(x1 - x2) == abs(y1 - y2) or x1 == x2 or y1 == y2:\n",
    "    print('YES')\n",
    "else:\n",
    "    print('NO')"
   ]
  },
  {
   "cell_type": "markdown",
   "id": "c6221e14",
   "metadata": {},
   "source": [
    "#### Knight move\n",
    "---\n",
    "Chess knight moves like the letter L. It can move two cells horizontally and one cell vertically, or two cells vertically and one cells horizontally. Given two different cells of the chessboard, determine whether a knight can go from the first cell to the second in one move.\n",
    "\n",
    "The program receives the input of four numbers from 1 to 8, each specifying the column and row number, first two - for the first cell, and then the last two - for the second cell. The program should output YES if a knight can go from the first cell to the second in one move, or NO otherwise."
   ]
  },
  {
   "cell_type": "code",
   "execution_count": 25,
   "id": "9297f825",
   "metadata": {},
   "outputs": [],
   "source": [
    "def knight_move():    \n",
    "    x1 = int(input())\n",
    "    y1 = int(input())\n",
    "    x2 = int(input())\n",
    "    y2 = int(input())\n",
    "    if abs(x1 - x2) == 1 and abs(y1 - y2) == 2 or abs(x1 - x2) == 2 and abs(y1 - y2) == 1:\n",
    "        return print('YES')\n",
    "    else:\n",
    "        return print('NO')"
   ]
  },
  {
   "cell_type": "code",
   "execution_count": 27,
   "id": "01f64965",
   "metadata": {},
   "outputs": [
    {
     "name": "stdout",
     "output_type": "stream",
     "text": [
      "4\n",
      "5\n",
      "6\n",
      "7\n",
      "NO\n"
     ]
    }
   ],
   "source": [
    "knight_move()"
   ]
  },
  {
   "cell_type": "code",
   "execution_count": 29,
   "id": "08b2f88b",
   "metadata": {},
   "outputs": [
    {
     "name": "stdout",
     "output_type": "stream",
     "text": [
      "4\n",
      "5\n",
      "6\n",
      "7\n",
      "NO\n"
     ]
    }
   ],
   "source": [
    "#Решение разработчиков\n",
    "x1 = int(input())\n",
    "y1 = int(input())\n",
    "x2 = int(input())\n",
    "y2 = int(input())\n",
    "dx = abs(x1 - x2)\n",
    "dy = abs(y1 - y2)\n",
    "if dx == 1 and dy == 2 or dx == 2 and dy == 1:\n",
    "    print('YES')\n",
    "else:\n",
    "    print('NO')"
   ]
  },
  {
   "cell_type": "markdown",
   "id": "e6722f13",
   "metadata": {},
   "source": [
    "#### Chocolate bar\n",
    "---\n",
    "Chocolate bar has the form of a rectangle divided into n×m portions. \n",
    "\n",
    "Chocolate bar can be split into two rectangular parts by breaking it along a selected straight line on its pattern. Determine whether it is possible to split it so that one of the parts will have exactly k squares.\n",
    " \n",
    "The program reads three integers: n, m, and k. It should print YES or NO."
   ]
  },
  {
   "cell_type": "code",
   "execution_count": 30,
   "id": "6e86b5e0",
   "metadata": {},
   "outputs": [
    {
     "name": "stdout",
     "output_type": "stream",
     "text": [
      "4\n",
      "2\n",
      "6\n",
      "YES\n"
     ]
    }
   ],
   "source": [
    "#Мое решение\n",
    "n = int(input())\n",
    "m = int(input())\n",
    "k = int(input())\n",
    "counter = 0\n",
    "\n",
    "for i in range(1, n):\n",
    "    if i * m == k:\n",
    "        counter += 1\n",
    "        break\n",
    "    \n",
    "for i in range(1, m):\n",
    "    if i * n == k:\n",
    "        counter += 1\n",
    "        break\n",
    "\n",
    "if counter > 0:\n",
    "    print('YES')\n",
    "else:\n",
    "    print('NO')"
   ]
  },
  {
   "cell_type": "code",
   "execution_count": 31,
   "id": "5312c512",
   "metadata": {},
   "outputs": [
    {
     "name": "stdout",
     "output_type": "stream",
     "text": [
      "4\n",
      "2\n",
      "6\n",
      "YES\n"
     ]
    }
   ],
   "source": [
    "#Решение разработчиков\n",
    "n = int(input())\n",
    "m = int(input())\n",
    "k = int(input())\n",
    "if k < n * m and ((k % n == 0) or (k % m == 0)):\n",
    "    print('YES')\n",
    "else:\n",
    "    print('NO')"
   ]
  },
  {
   "cell_type": "markdown",
   "id": "0a9ae496",
   "metadata": {},
   "source": [
    "#### Leap year\n",
    "---\n",
    "Given the year number. You need to check if this year is a leap year. If it is, print LEAP, otherwise print COMMON.\n",
    "\n",
    "The rules in Gregorian calendar are as follows:\n",
    "- a year is a leap year if its number is exactly divisible by 4 and is not exactly divisible by 100\n",
    "- a year is always a leap year if its number is exactly divisible by 400\n",
    "\n",
    "Warning. The words LEAP and COMMON should be printed all caps."
   ]
  },
  {
   "cell_type": "code",
   "execution_count": null,
   "id": "edaa5bbb",
   "metadata": {},
   "outputs": [],
   "source": []
  }
 ],
 "metadata": {
  "kernelspec": {
   "display_name": "Python 3 (ipykernel)",
   "language": "python",
   "name": "python3"
  },
  "language_info": {
   "codemirror_mode": {
    "name": "ipython",
    "version": 3
   },
   "file_extension": ".py",
   "mimetype": "text/x-python",
   "name": "python",
   "nbconvert_exporter": "python",
   "pygments_lexer": "ipython3",
   "version": "3.9.12"
  },
  "toc": {
   "base_numbering": 1,
   "nav_menu": {},
   "number_sections": true,
   "sideBar": true,
   "skip_h1_title": false,
   "title_cell": "Table of Contents",
   "title_sidebar": "Contents",
   "toc_cell": true,
   "toc_position": {
    "height": "calc(100% - 180px)",
    "left": "10px",
    "top": "150px",
    "width": "232.699px"
   },
   "toc_section_display": true,
   "toc_window_display": true
  }
 },
 "nbformat": 4,
 "nbformat_minor": 5
}
