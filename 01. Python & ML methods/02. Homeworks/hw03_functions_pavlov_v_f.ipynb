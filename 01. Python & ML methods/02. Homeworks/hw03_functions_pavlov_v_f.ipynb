{
  "cells": [
    {
      "cell_type": "markdown",
      "metadata": {
        "id": "B7TpktH--KyR"
      },
      "source": [
        "# Домашнее задание 3\n",
        "\n",
        "Задачи с 4 по 6 стоят 1 балл"
      ],
      "id": "B7TpktH--KyR"
    },
    {
      "cell_type": "markdown",
      "metadata": {
        "id": "934dda1a"
      },
      "source": [
        "# Задача 1 (0.5) +\n"
      ],
      "id": "934dda1a"
    },
    {
      "cell_type": "markdown",
      "metadata": {
        "id": "oYQTNvd3t6-v"
      },
      "source": [
        "Реализуйте функцию `is_prime`, проверяющую целое число n на простоту. Число является простым, если нацело делится лишь на 1 и на само себя."
      ],
      "id": "oYQTNvd3t6-v"
    },
    {
      "cell_type": "code",
      "execution_count": null,
      "metadata": {
        "id": "03a316f8"
      },
      "outputs": [],
      "source": [
        "def is_prime(n):\n",
        "    \"\"\"Check if the number n is prime or not.\"\"\"\n",
        "    # your code here\n",
        "    pass"
      ],
      "id": "03a316f8"
    },
    {
      "cell_type": "markdown",
      "metadata": {
        "id": "sf4Q72rizzTR"
      },
      "source": [
        "Решать данную задачу я буду несколькими способами, во-первых чтобы лучше понять алгоритмы. Во-вторых мне самому интересно повторить решения человека, которые я нашел на хабре.\n",
        "https://habr.com/ru/articles/122538/"
      ],
      "id": "sf4Q72rizzTR"
    },
    {
      "cell_type": "code",
      "execution_count": null,
      "metadata": {
        "id": "qWtvnJCvzvKR"
      },
      "outputs": [],
      "source": [
        "#Решение №1 в лоб перебором элементов с подсчетом количества делителей\n",
        "def is_prime_1(n):\n",
        "  n=int(n)\n",
        "  counter = 0  # Необходим для подсчета количества делителей\n",
        "  if n == 1:  # Сразу отсеиваем единицу, т.к. 1 не есть простое число\n",
        "    return False\n",
        "  else:\n",
        "    for i in range(2, n):\n",
        "      if n % i == 0:\n",
        "        counter += 1\n",
        "    if counter == 0:\n",
        "      return True\n",
        "    else:\n",
        "      return False"
      ],
      "id": "qWtvnJCvzvKR"
    },
    {
      "cell_type": "code",
      "execution_count": null,
      "metadata": {
        "id": "3e6174db"
      },
      "outputs": [],
      "source": [
        "# tests\n",
        "assert is_prime_1(1) is False, 'test 1'\n",
        "assert is_prime_1(2) is True, 'test 2'\n",
        "assert is_prime_1(3), 'test 3'\n",
        "assert not is_prime_1(4), 'test 4'\n",
        "assert is_prime_1(2017) is True, 'test 5'\n",
        "assert is_prime_1(18375703), 'test 6'  # возможно этот тест будет проверяться долго - зависит от вашего алгоритма"
      ],
      "id": "3e6174db"
    },
    {
      "cell_type": "code",
      "execution_count": null,
      "metadata": {
        "colab": {
          "base_uri": "https://localhost:8080/"
        },
        "id": "O3hFJ9DizvAf",
        "outputId": "023044aa-45bf-4381-b152-0537d06de67e"
      },
      "outputs": [
        {
          "name": "stdout",
          "output_type": "stream",
          "text": [
            "CPU times: user 4 µs, sys: 0 ns, total: 4 µs\n",
            "Wall time: 9.3 µs\n"
          ]
        },
        {
          "data": {
            "text/plain": [
              "False"
            ]
          },
          "execution_count": 60,
          "metadata": {},
          "output_type": "execute_result"
        }
      ],
      "source": [
        "# проверка скорости\n",
        "%time\n",
        "is_prime_1(1_000_000_000)"
      ],
      "id": "O3hFJ9DizvAf"
    },
    {
      "cell_type": "code",
      "execution_count": null,
      "metadata": {
        "id": "4Yb4p4L86tyY"
      },
      "outputs": [],
      "source": [
        "#Решение №2 здесь не имеет смысла считать все делители\n",
        "#Если есть хотя бы один делитель, то число уже не простое\n",
        "def is_prime_2(n):\n",
        "  n = int(n)\n",
        "  if n == 1:  # Сразу отсеиваем единицу, т.к. 1 не есть простое число\n",
        "    return False\n",
        "  elif n == 2:\n",
        "    return True\n",
        "  else:\n",
        "    for i in range(2, n):\n",
        "      if n % i == 0:\n",
        "        break\n",
        "        return False\n",
        "      else:\n",
        "        return True"
      ],
      "id": "4Yb4p4L86tyY"
    },
    {
      "cell_type": "code",
      "execution_count": null,
      "metadata": {
        "id": "cgQ2GFj-6tvb"
      },
      "outputs": [],
      "source": [
        "# tests\n",
        "assert is_prime_2(1) is False, 'test 1'\n",
        "assert is_prime_2(2) is True, 'test 2'\n",
        "assert is_prime_2(3), 'test 3'\n",
        "assert not is_prime_2(4), 'test 4'\n",
        "assert is_prime_2(2017) is True, 'test 5'\n",
        "assert is_prime_2(18375703), 'test 6'  # возможно этот тест будет проверяться долго - зависит от вашего алгоритма"
      ],
      "id": "cgQ2GFj-6tvb"
    },
    {
      "cell_type": "code",
      "execution_count": null,
      "metadata": {
        "colab": {
          "base_uri": "https://localhost:8080/"
        },
        "id": "GMuzILdU6tsN",
        "outputId": "b766c87e-d864-4e56-ad7d-c7face854913"
      },
      "outputs": [
        {
          "name": "stdout",
          "output_type": "stream",
          "text": [
            "CPU times: user 4 µs, sys: 0 ns, total: 4 µs\n",
            "Wall time: 8.34 µs\n"
          ]
        }
      ],
      "source": [
        "# проверка скорости\n",
        "%time\n",
        "is_prime_2(1_000_000_000)"
      ],
      "id": "GMuzILdU6tsN"
    },
    {
      "cell_type": "markdown",
      "metadata": {
        "id": "NJiXYmpU_AiF"
      },
      "source": [
        "Далее возникает вопрос: «а зачем делить на 4, если на 2 число не делится?»"
      ],
      "id": "NJiXYmpU_AiF"
    },
    {
      "cell_type": "code",
      "execution_count": null,
      "metadata": {
        "id": "2g60-jtD6tn0"
      },
      "outputs": [],
      "source": [
        "# вариант №3\n",
        "# добавляю проверку делимости на 2\n",
        "\n",
        "def is_prime_3(n):\n",
        "  n = int(n)\n",
        "  if n == 1:  # Сразу отсеиваем единицу, т.к. 1 не есть простое число\n",
        "    return False\n",
        "  elif n == 2:\n",
        "    return True\n",
        "  elif n == 3:\n",
        "    return True\n",
        "  else:\n",
        "    if n % 2 != 0:  # Проверка деления на 2\n",
        "      for i in range(3, n, 2):\n",
        "        if n % i == 0:\n",
        "          break\n",
        "          return False\n",
        "        else:\n",
        "          return True\n",
        "    else:\n",
        "      for i in range(2, n):\n",
        "        if n % i == 0:\n",
        "          break\n",
        "          return False\n",
        "        else:\n",
        "          return True"
      ],
      "id": "2g60-jtD6tn0"
    },
    {
      "cell_type": "code",
      "execution_count": null,
      "metadata": {
        "id": "_U41mmOt-buQ"
      },
      "outputs": [],
      "source": [
        "# tests\n",
        "assert is_prime_3(1) is False, 'test 1'\n",
        "assert is_prime_3(2) is True, 'test 2'\n",
        "assert is_prime_3(3), 'test 3'\n",
        "assert not is_prime_3(4), 'test 4'\n",
        "assert is_prime_3(2017) is True, 'test 5'\n",
        "assert is_prime_3(18375703), 'test 6'"
      ],
      "id": "_U41mmOt-buQ"
    },
    {
      "cell_type": "code",
      "execution_count": null,
      "metadata": {
        "colab": {
          "base_uri": "https://localhost:8080/"
        },
        "id": "ywEnT4c4-bm-",
        "outputId": "f0cacf79-2855-46ed-cd66-f30f011995fd"
      },
      "outputs": [
        {
          "name": "stdout",
          "output_type": "stream",
          "text": [
            "CPU times: user 4 µs, sys: 0 ns, total: 4 µs\n",
            "Wall time: 7.39 µs\n"
          ]
        }
      ],
      "source": [
        "# проверка скорости\n",
        "%time\n",
        "is_prime_3(1_000_000_000)"
      ],
      "id": "ywEnT4c4-bm-"
    },
    {
      "cell_type": "code",
      "execution_count": null,
      "metadata": {
        "id": "V9nmGZcc-bjp"
      },
      "outputs": [],
      "source": [],
      "id": "V9nmGZcc-bjp"
    },
    {
      "cell_type": "code",
      "execution_count": null,
      "metadata": {
        "id": "HYV6nKUi-bf3"
      },
      "outputs": [],
      "source": [],
      "id": "HYV6nKUi-bf3"
    },
    {
      "cell_type": "markdown",
      "metadata": {
        "id": "ddbbbd69"
      },
      "source": [
        "# Задача 2 (0.5)  +"
      ],
      "id": "ddbbbd69"
    },
    {
      "cell_type": "markdown",
      "metadata": {
        "id": "S2nxjxf8uGTA"
      },
      "source": [
        "Напишите функцию `inspect_function`, которая в качестве аргумента принимает другую функцию (но не built-in) и выводит следующую информацию:\n",
        "- название анализируемой функции\n",
        "- документационную строку\n",
        "- принимаемые ею аргументы\n",
        "- типы этих аргументов (позиционные, ключевые и т.п.)\n",
        "Каждый из этих пунктов выводится с новой строки.\n",
        "\n",
        "**Примечание:** в этой задаче вам поможет встроенный модуль [inspect](https://docs.python.org/3.8/library/inspect.html)."
      ],
      "id": "S2nxjxf8uGTA"
    },
    {
      "cell_type": "markdown",
      "metadata": {
        "id": "6URV7ydL4c3T"
      },
      "source": [
        "Не совсем понял это задание. Пока пусть будет такая функция.\n",
        "\n",
        "Вопрос к проверяющему: в лекции говорилось о том, что в python 3.8 появился новый символ `/`, который разделяет аргументы.\n",
        "\n",
        "Я должен проитерироваться функцией по аргументам, и затем разделить их на позиционные и остальные аргументы."
      ],
      "id": "6URV7ydL4c3T"
    },
    {
      "cell_type": "code",
      "execution_count": null,
      "metadata": {
        "id": "d1d9bd0f"
      },
      "outputs": [],
      "source": [
        "import inspect\n",
        "from math import sqrt  # for tests\n",
        "\n",
        "def inspect_function(func):\n",
        "    \"\"\"\n",
        "    Takes another function as an argument (but not built-in)\n",
        "    and print the following data:\n",
        "    the name of the analyzed function,\n",
        "    the name of all the arguments it takes\n",
        "    and their types (positional, keyword, etc.)\n",
        "    \"\"\"\n",
        "\n",
        "    return print(f'Имя функции: {func.__name__}',\n",
        "                 f'Документация: {func.__doc__}',\n",
        "                 f'Аргументы, принимаемые функцией: {inspect.getfullargspec(func)}',\n",
        "                 f'args: {inspect.getfullargspec(func)[0]}',\n",
        "                 f'varargs: {inspect.getfullargspec(func)[1]}',\n",
        "                 f'varkw: {inspect.getfullargspec(func)[2]}',\n",
        "                 f'defaults: {inspect.getfullargspec(func)[3]}',\n",
        "                 f'kwonlyargs: {inspect.getfullargspec(func)[4]}',\n",
        "                 f'kwonlydefaults: {inspect.getfullargspec(func)[5]}',\n",
        "                 f'annotations: {inspect.getfullargspec(func)[6]}',\n",
        "                 sep = '\\n')\n"
      ],
      "id": "d1d9bd0f"
    },
    {
      "cell_type": "code",
      "execution_count": null,
      "metadata": {
        "colab": {
          "base_uri": "https://localhost:8080/"
        },
        "id": "LHzCc9NeoAS5",
        "outputId": "971f4b84-9d4b-488e-c243-4ff9bf8fe533"
      },
      "outputs": [
        {
          "name": "stdout",
          "output_type": "stream",
          "text": [
            "Имя функции: sqrt\n",
            "Документация: Return the square root of x.\n",
            "Аргументы, принимаемые функцией: FullArgSpec(args=['x'], varargs=None, varkw=None, defaults=None, kwonlyargs=[], kwonlydefaults=None, annotations={})\n",
            "args: ['x']\n",
            "varargs: None\n",
            "varkw: None\n",
            "defaults: None\n",
            "kwonlyargs: []\n",
            "kwonlydefaults: None\n",
            "annotations: {}\n"
          ]
        }
      ],
      "source": [
        "inspect_function(sqrt)"
      ],
      "id": "LHzCc9NeoAS5"
    },
    {
      "cell_type": "markdown",
      "metadata": {
        "id": "a5730e12"
      },
      "source": [
        "# Задача 3 (0.5 + 0.5) +"
      ],
      "id": "a5730e12"
    },
    {
      "cell_type": "markdown",
      "metadata": {
        "id": "ff703047"
      },
      "source": [
        "Реализуйте функцию сортировки [методом слияния](https://neerc.ifmo.ru/wiki/index.php?title=%D0%A1%D0%BE%D1%80%D1%82%D0%B8%D1%80%D0%BE%D0%B2%D0%BA%D0%B0_%D1%81%D0%BB%D0%B8%D1%8F%D0%BD%D0%B8%D0%B5%D0%BC). Нужно сделать ее как рекурсивно, так и нерекурсивно, каждый вариант стоит по 0.5."
      ],
      "id": "ff703047"
    },
    {
      "cell_type": "markdown",
      "metadata": {
        "id": "8R6Yi6-D-D69"
      },
      "source": [
        "Буду решать задачу сортировки методом слияния с помощью метода слияния.\n",
        "алгоритм решения:\n",
        "- Часть 1 - Подготовка\n",
        "-- получение массива x\n",
        "-- проверяю, что кол-во элементов > 1\n",
        "-- создаю результирующий массив\n",
        "-- разбиваю массив x на два\n",
        "-- сортирую их рекурсивно, то есть так же буду разбивать на 2 массива\n",
        "- Часть 2 - Слияние массивов\n",
        "-- Процесс слияния происходит посредством поэлементного сравнения двух массивов. Меньший из элементов записывается в результирующий массив. Затем, в массиве у которого оказался меньший элемент, переходим к следующему элементу и сравниваем его. В конце, если один из массивов закончился, мы просто дописываем в финальный другой массив. После мы наш финальный массив записываем заместо двух исходных и получаем отсортированный участок."
      ],
      "id": "8R6Yi6-D-D69"
    },
    {
      "cell_type": "code",
      "execution_count": null,
      "metadata": {
        "id": "28087cb6"
      },
      "outputs": [],
      "source": [
        "def merge_sort1(x):\n",
        "    \"\"\"\n",
        "    Sorts list x using merge sort method\n",
        "    \"\"\"\n",
        "    # ЧАСТЬ 1\n",
        "    # Проверка на количество элементов > 1\n",
        "    if len(x) == 1:\n",
        "      return x\n",
        "\n",
        "    middle = len(x) // 2\n",
        "    # создание двух, отсортированных списков\n",
        "    left = merge_sort1(x[:middle])\n",
        "    right = merge_sort1(x[middle:])\n",
        "\n",
        "    # Часть 2\n",
        "    # создание результирующего списка\n",
        "    result = []\n",
        "    # создание указателей на первые элементы списков left и right\n",
        "    i = j = 0\n",
        "    # поэлементное сравнение списков, пока один не превысит другой\n",
        "    while i < len(left) and j < len(right):\n",
        "      if left[i] < right[j]:\n",
        "        result.append(left[i])\n",
        "        i += 1\n",
        "      else:\n",
        "        result.append(right[j])\n",
        "        j += 1\n",
        "    # Добавление оставшейся части списка, если они не равны\n",
        "    if i < len(left):\n",
        "      result.append(left[i:])\n",
        "    elif j < len(right):\n",
        "      result.append(right[j:])\n",
        "\n",
        "    return result"
      ],
      "id": "28087cb6"
    },
    {
      "cell_type": "code",
      "execution_count": null,
      "metadata": {
        "id": "GVzhdAP9b-NK"
      },
      "outputs": [],
      "source": [
        "def merge_sort1(x):\n",
        "    \"\"\"\n",
        "    Sorts list x using merge sort method\n",
        "    \"\"\"\n",
        "    # ЧАСТЬ 1\n",
        "    # Проверка на количество элементов > 1\n",
        "    if len(x) == 1:\n",
        "      return x\n",
        "\n",
        "    middle = len(x) // 2\n",
        "    # создание двух, отсортированных списков\n",
        "    left = merge_sort1(x[:middle])\n",
        "    right = merge_sort1(x[middle:])\n",
        "\n",
        "    # Часть 2 Слияние\n",
        "    # создание результирующего списка\n",
        "    result = []\n",
        "    # создание указателей на первые элементы списков left и right\n",
        "    i = j = 0\n",
        "    # поэлементное сравнение списков, пока один не превысит другой\n",
        "    while i < len(left) and j < len(right):\n",
        "      if left[i] < right[j]:\n",
        "        result.append(left[i])\n",
        "        i += 1\n",
        "      else:\n",
        "        result.append(right[j])\n",
        "        j += 1\n",
        "    # Добавляем оставшиеся элементы списка\n",
        "    result += left[i:] + right[j:]\n",
        "\n",
        "    # так же данную операцию добавления можно расписать так:\n",
        "    # if i < len(left):\n",
        "      # result.append(left[i:])\n",
        "    # elif j < len(right):\n",
        "      # result.append(right[j:])\n",
        "\n",
        "    return result"
      ],
      "id": "GVzhdAP9b-NK"
    },
    {
      "cell_type": "code",
      "execution_count": null,
      "metadata": {
        "colab": {
          "base_uri": "https://localhost:8080/"
        },
        "id": "10CELobVKuB-",
        "outputId": "8adaab65-56b4-4e68-a44c-b0e30dfbf1d4"
      },
      "outputs": [
        {
          "data": {
            "text/plain": [
              "[1, 3, 5, 6, 11, 17]"
            ]
          },
          "execution_count": 124,
          "metadata": {},
          "output_type": "execute_result"
        }
      ],
      "source": [
        "merge_sort1([17, 3, 1, 11, 5, 6])"
      ],
      "id": "10CELobVKuB-"
    },
    {
      "cell_type": "code",
      "execution_count": null,
      "metadata": {
        "id": "MAHmKSrmkLmd"
      },
      "outputs": [],
      "source": [],
      "id": "MAHmKSrmkLmd"
    },
    {
      "cell_type": "code",
      "execution_count": null,
      "metadata": {
        "id": "rMXNTmY6hHQL"
      },
      "outputs": [],
      "source": [
        "# tests\n",
        "assert merge_sort1([1, 2, 3, 4, 5, 6]) == [1, 2, 3, 4, 5, 6], \"test 1\"\n",
        "assert merge_sort1([6, 1, 2, 3, 4, 5, 6]) == [1, 2, 3, 4, 5, 6, 6], \"test 2\"\n",
        "assert merge_sort1([3,1,4,1,5,9,2,6,5,3,5]) == [1, 1, 2, 3, 3, 4, 5, 5, 5, 6, 9], \"test 3\""
      ],
      "id": "rMXNTmY6hHQL"
    },
    {
      "cell_type": "markdown",
      "metadata": {
        "id": "TZiQn6ojl2gG"
      },
      "source": [
        "Честно говоря с рекурсией пока что \"*опа боль\"\n",
        "Эту функцию я откровенно украл. Но старался разобраться.\n",
        "Разбор на ютубе: https://www.youtube.com/watch?v=pjI5tV6OasI"
      ],
      "id": "TZiQn6ojl2gG"
    },
    {
      "cell_type": "code",
      "execution_count": null,
      "metadata": {
        "id": "jfFcbQysovnm"
      },
      "outputs": [],
      "source": [
        "def merge(x, support, ls, le, rs, re):\n",
        "  for i in range(ls, re + 1):\n",
        "    support[i] = x[i]\n",
        "  l = ls\n",
        "  r = rs\n",
        "  for i in range(ls, re + 1):\n",
        "    if l > le:\n",
        "      x[i] = support[r]\n",
        "      r += 1\n",
        "    elif r > re:\n",
        "      x[i] = support[l]\n",
        "      l += 1\n",
        "    elif support[l] < support[r]:\n",
        "      x[i] = support[l]\n",
        "      l += 1\n",
        "    else:\n",
        "      x[i] = support[r]\n",
        "      r += 1\n",
        "  return None"
      ],
      "id": "jfFcbQysovnm"
    },
    {
      "cell_type": "code",
      "execution_count": null,
      "metadata": {
        "id": "G-j5kSGua54P"
      },
      "outputs": [],
      "source": [
        "def merge_sort2(x, support=None, start_index=None, stop_index=None):\n",
        "    \"\"\"\n",
        "    Sorts list x using merge sort method with recursion\n",
        "    \"\"\"\n",
        "    if support is None:\n",
        "      support = x[::]\n",
        "    if start_index is None:\n",
        "      start_index = 0\n",
        "    if stop_index is None:\n",
        "      stop_index = len(x) - 1\n",
        "    if stop_index <= start_index:\n",
        "      return None\n",
        "    h = start_index + (stop_index - start_index) // 2\n",
        "    merge_sort2(x, support, start_index, h)\n",
        "    merge_sort2(x, support, h + 1, stop_index)\n",
        "    merge(x, support, start_index, h, h + 1, stop_index)\n",
        "\n",
        "    return x\n"
      ],
      "id": "G-j5kSGua54P"
    },
    {
      "cell_type": "code",
      "execution_count": null,
      "metadata": {
        "id": "6711aef5"
      },
      "outputs": [],
      "source": [
        "# tests\n",
        "assert merge_sort2([1, 2, 3, 4, 5, 6]) == [1, 2, 3, 4, 5, 6], \"test 1\"\n",
        "assert merge_sort2([6, 1, 2, 3, 4, 5, 6]) == [1, 2, 3, 4, 5, 6, 6], \"test 2\"\n",
        "assert merge_sort2([3,1,4,1,5,9,2,6,5,3,5]) == [1, 1, 2, 3, 3, 4, 5, 5, 5, 6, 9], \"test 3\""
      ],
      "id": "6711aef5"
    },
    {
      "cell_type": "markdown",
      "metadata": {
        "id": "f3d1e448"
      },
      "source": [
        "# Задача 4  эта задача что то вообще у меня не идет\n"
      ],
      "id": "f3d1e448"
    },
    {
      "cell_type": "markdown",
      "metadata": {
        "id": "PLSBRMf0w9bb"
      },
      "source": [
        "Реализуйте **генератор**, возвращающий **бесконечную** последовательность чисел из [треугольника Паскаля](https://ru.wikipedia.org/wiki/%D0%A2%D1%80%D0%B5%D1%83%D0%B3%D0%BE%D0%BB%D1%8C%D0%BD%D0%B8%D0%BA_%D0%9F%D0%B0%D1%81%D0%BA%D0%B0%D0%BB%D1%8F).\n",
        "\n",
        "Последовательность, возвращаемая генератором, должна выглядеть так:\n",
        "`1 1 1 1 2 1 1 3 3 1 1 4 6 4 1 1 5 10 10 5 1 1 6 15 20 15 6 1 1 7 21 35 35 21 7 1 1 8 28 56 70 56 28 8 1 1 9 36 84 126 126 84 36 9 1 ...`.\n",
        "\n",
        "**Генератор должен быть экономным по памяти**, т.е. не хранить в себе все предыдущие вычисленные значения."
      ],
      "id": "PLSBRMf0w9bb"
    },
    {
      "cell_type": "markdown",
      "metadata": {
        "id": "_AsquHfNVg84"
      },
      "source": [
        "Треугольник Паскаля строится следующим образом.\n",
        "Первая строка состоит из одного числа, равного единице. Каждая следующая содержит на одно число больше, чем предыдущая.\n",
        "Первое и последнее из этих чисел равны 1, а все остальные вычисляются как сумма числа, стоящего в предыдущей строке над ним и числа, стоящего в предыдущей же строке слева от него."
      ],
      "id": "_AsquHfNVg84"
    },
    {
      "cell_type": "code",
      "execution_count": null,
      "metadata": {
        "colab": {
          "base_uri": "https://localhost:8080/"
        },
        "id": "laaJfJ-HxefS",
        "outputId": "2f6b2a87-9082-481c-b794-2bfc6e4d939b"
      },
      "outputs": [
        {
          "name": "stdout",
          "output_type": "stream",
          "text": [
            "5\n",
            "[1, 4, 6, 4, 1]\n"
          ]
        }
      ],
      "source": [
        "# для начала просто разберусь с решением обычного треугольника паскаля\n",
        "# в этом мне поможет одно из моих решений с продвинутого курса со стэпика\n",
        "# данный код выводит номер строки треугольника Паскаля\n",
        "\n",
        "n = int(input())\n",
        "P = []\n",
        "\n",
        "for i in range(n):\n",
        "    row = [1] * (i + 1)\n",
        "    for j in range(i + 1):\n",
        "        if j != 0 and j != i:\n",
        "            row[j] = P[i-1][j-1] + P[i-1][j]\n",
        "    P.append(row)\n",
        "\n",
        "print(P[-1])"
      ],
      "id": "laaJfJ-HxefS"
    },
    {
      "cell_type": "code",
      "execution_count": null,
      "metadata": {
        "colab": {
          "base_uri": "https://localhost:8080/"
        },
        "id": "0G_hHHbcNll6",
        "outputId": "9b5f0020-781c-4cb9-f041-a317d3516c7a"
      },
      "outputs": [
        {
          "name": "stdout",
          "output_type": "stream",
          "text": [
            "6\n",
            "1 1 1 1 2 1 1 3 3 1 1 4 6 4 1 1 5 10 10 5 1 "
          ]
        }
      ],
      "source": [
        "# код, создающий бесконечную последовательность треугольника Паскаля\n",
        "# получает на вход число - количество строк, которые необходимо создать\n",
        "n = int(input())\n",
        "P = []\n",
        "\n",
        "for i in range(n):\n",
        "    row = [1]*(i + 1)\n",
        "    for j in range(i + 1):\n",
        "        if j != 0 and j != i:\n",
        "            row[j] = P[i-1][j-1] + P[i-1][j]\n",
        "    P.append(row)\n",
        "for r in P:\n",
        "    print(*r, end = ' ')"
      ],
      "id": "0G_hHHbcNll6"
    },
    {
      "cell_type": "code",
      "execution_count": null,
      "metadata": {
        "colab": {
          "base_uri": "https://localhost:8080/"
        },
        "id": "awGCfGK_OAte",
        "outputId": "9bfc78bf-215c-4dfd-a295-acc80892da36"
      },
      "outputs": [
        {
          "name": "stdout",
          "output_type": "stream",
          "text": [
            "15\n",
            "1 1 1 1 2 1 1 3 3 1 1 4 6 4 1\n"
          ]
        }
      ],
      "source": [],
      "id": "awGCfGK_OAte"
    },
    {
      "cell_type": "code",
      "execution_count": null,
      "metadata": {
        "id": "25461272",
        "colab": {
          "base_uri": "https://localhost:8080/"
        },
        "outputId": "454cd4ac-4bc9-4451-af1f-222d0debaca5"
      },
      "outputs": [
        {
          "output_type": "stream",
          "name": "stdout",
          "text": [
            "1 1 1 1 2 1 1 3 3 1 "
          ]
        }
      ],
      "source": [
        "def pascal_triangle():\n",
        "    row = [1]\n",
        "    while True:\n",
        "        yield from row\n",
        "        next_row = [1]\n",
        "        for i in range(len(row) - 1):\n",
        "            next_row.append(row[i] + row[i + 1])\n",
        "        next_row.append(1)\n",
        "        row = next_row\n",
        "\n",
        "\n",
        "# Testing the generator\n",
        "pascal_gen = pascal_triangle()\n",
        "\n",
        "for _ in range(10):\n",
        "    print(next(pascal_gen), end=\" \")"
      ],
      "id": "25461272"
    },
    {
      "cell_type": "markdown",
      "metadata": {
        "id": "SukiU_7DzmqO"
      },
      "source": [
        "Проверить можете на ячейке ниже:"
      ],
      "id": "SukiU_7DzmqO"
    },
    {
      "cell_type": "code",
      "execution_count": null,
      "metadata": {
        "id": "428552b1"
      },
      "outputs": [],
      "source": [
        "pascal_string = \"1 1 1 1 2 1 1 3 3 1 1 4 6 4 1 1 5 10 10 5 1 1 6 15 20 15 6 1 1 7 21 35 35 21 7 1 1 8 28 56 70 56 28 8 1 1 9 36 84 126\"\n",
        "blez_pascal = pascal_triangle()\n",
        "assert [next(blez_pascal) for _ in range(50)] == list(map(int, pascal_string.split())), \"Wrong values!\""
      ],
      "id": "428552b1"
    },
    {
      "cell_type": "markdown",
      "metadata": {
        "id": "gFt_A_iGzq2x"
      },
      "source": [
        "Еще раз подчеркну - нужен именно **генератор**:"
      ],
      "id": "gFt_A_iGzq2x"
    },
    {
      "cell_type": "code",
      "execution_count": null,
      "metadata": {
        "id": "I7hEiDpEzunU"
      },
      "outputs": [],
      "source": [
        "from collections.abc import Generator\n",
        "\n",
        "assert isinstance(blez_pascal, Generator), \"You have created not a generator\""
      ],
      "id": "I7hEiDpEzunU"
    },
    {
      "cell_type": "markdown",
      "metadata": {
        "id": "9270dbe5"
      },
      "source": [
        "# Задача 5 +"
      ],
      "id": "9270dbe5"
    },
    {
      "cell_type": "markdown",
      "metadata": {
        "id": "or5RM1GF0mHQ"
      },
      "source": [
        "Написать **генераторную функцию** `limit(input_generator, max_count)`, который возвращает не более `max_count` значений генератора `input_generator`:"
      ],
      "id": "or5RM1GF0mHQ"
    },
    {
      "cell_type": "code",
      "execution_count": null,
      "metadata": {
        "id": "0303a12f"
      },
      "outputs": [],
      "source": [
        "#def limit(input_generator, max_count):\n",
        "#    count = 0\n",
        "#    for value in input_generator:\n",
        "#        if count >= max_count:\n",
        "#            break\n",
        "#        yield value\n",
        "#        count += 1"
      ],
      "id": "0303a12f"
    },
    {
      "cell_type": "code",
      "execution_count": null,
      "metadata": {
        "id": "Q1hUxJFl2LOj"
      },
      "outputs": [],
      "source": [
        "#lim_gen = limit(pascal_triangle(), max_count=10)"
      ],
      "id": "Q1hUxJFl2LOj"
    },
    {
      "cell_type": "code",
      "source": [
        "# print(next(lim_gen))\n",
        "# print(next(lim_gen))\n",
        "# print(next(lim_gen))\n",
        "# print(next(lim_gen))\n",
        "# print(next(lim_gen))\n",
        "# print(next(lim_gen))\n",
        "# print(next(lim_gen))\n",
        "# print(next(lim_gen))\n",
        "# print(next(lim_gen))\n",
        "# print(next(lim_gen))\n",
        "# print(next(lim_gen))"
      ],
      "metadata": {
        "colab": {
          "base_uri": "https://localhost:8080/",
          "height": 373
        },
        "id": "9IqQ0BXZ-n4q",
        "outputId": "f27da92a-8044-4b6f-b627-eb062f64e5e7"
      },
      "id": "9IqQ0BXZ-n4q",
      "execution_count": null,
      "outputs": [
        {
          "output_type": "stream",
          "name": "stdout",
          "text": [
            "1\n",
            "1\n",
            "1\n",
            "1\n",
            "2\n",
            "1\n",
            "1\n",
            "3\n",
            "3\n",
            "1\n"
          ]
        },
        {
          "output_type": "error",
          "ename": "StopIteration",
          "evalue": "ignored",
          "traceback": [
            "\u001b[0;31m---------------------------------------------------------------------------\u001b[0m",
            "\u001b[0;31mStopIteration\u001b[0m                             Traceback (most recent call last)",
            "\u001b[0;32m<ipython-input-9-5b8dafd7ee28>\u001b[0m in \u001b[0;36m<cell line: 11>\u001b[0;34m()\u001b[0m\n\u001b[1;32m      9\u001b[0m \u001b[0mprint\u001b[0m\u001b[0;34m(\u001b[0m\u001b[0mnext\u001b[0m\u001b[0;34m(\u001b[0m\u001b[0mlim_gen\u001b[0m\u001b[0;34m)\u001b[0m\u001b[0;34m)\u001b[0m\u001b[0;34m\u001b[0m\u001b[0;34m\u001b[0m\u001b[0m\n\u001b[1;32m     10\u001b[0m \u001b[0mprint\u001b[0m\u001b[0;34m(\u001b[0m\u001b[0mnext\u001b[0m\u001b[0;34m(\u001b[0m\u001b[0mlim_gen\u001b[0m\u001b[0;34m)\u001b[0m\u001b[0;34m)\u001b[0m\u001b[0;34m\u001b[0m\u001b[0;34m\u001b[0m\u001b[0m\n\u001b[0;32m---> 11\u001b[0;31m \u001b[0mprint\u001b[0m\u001b[0;34m(\u001b[0m\u001b[0mnext\u001b[0m\u001b[0;34m(\u001b[0m\u001b[0mlim_gen\u001b[0m\u001b[0;34m)\u001b[0m\u001b[0;34m)\u001b[0m\u001b[0;34m\u001b[0m\u001b[0;34m\u001b[0m\u001b[0m\n\u001b[0m",
            "\u001b[0;31mStopIteration\u001b[0m: "
          ]
        }
      ]
    },
    {
      "cell_type": "code",
      "source": [
        "# вот это решение\n",
        "# не знаю, как то пока все равно тяжело даются эти генераторы\n",
        "\n",
        "# создаю функцию, которая принимает на вход генератор\n",
        "def limit(gen, lim):\n",
        "    # завожу счетки\n",
        "    count = 0\n",
        "    # итерируюсь по значениям функции генератора\n",
        "    for val in gen:\n",
        "        # возвращаю данные значениея\n",
        "        yield val\n",
        "        # увеличиваю счетчик\n",
        "        count += 1\n",
        "        # проверочное условие. Если счетчик больше lim, то выходим из цикла\n",
        "        if count >= lim:\n",
        "            break"
      ],
      "metadata": {
        "id": "h1J8itkNuqWq"
      },
      "id": "h1J8itkNuqWq",
      "execution_count": null,
      "outputs": []
    },
    {
      "cell_type": "code",
      "source": [
        "for value in limit(pascal_triangle(), 10):\n",
        "    print(value, end=' ')"
      ],
      "metadata": {
        "colab": {
          "base_uri": "https://localhost:8080/"
        },
        "id": "CZRquY7PuqSS",
        "outputId": "0a8e62a3-2270-410e-e988-4437ff732200"
      },
      "id": "CZRquY7PuqSS",
      "execution_count": null,
      "outputs": [
        {
          "output_type": "stream",
          "name": "stdout",
          "text": [
            "1 1 1 1 2 1 1 3 3 1 "
          ]
        }
      ]
    },
    {
      "cell_type": "code",
      "execution_count": null,
      "metadata": {
        "id": "bOqlzFur04lI"
      },
      "outputs": [],
      "source": [
        "# tests\n",
        "from collections.abc import Generator\n",
        "\n",
        "assert isinstance(limit(pascal_triangle, 5), Generator), \"You have created not a generator\""
      ],
      "id": "bOqlzFur04lI"
    },
    {
      "cell_type": "code",
      "execution_count": null,
      "metadata": {
        "id": "dddc1199"
      },
      "outputs": [],
      "source": [
        "# tests\n",
        "assert list(limit(pascal_triangle(), 5)) == [1, 1, 1, 1, 2]\n",
        "assert 499 < len(list(limit(pascal_triangle(), 500))) < 501"
      ],
      "id": "dddc1199"
    },
    {
      "cell_type": "markdown",
      "metadata": {
        "id": "5f7f5f09"
      },
      "source": [
        "# Задача 6 +- пока не совсем понимаю, доделаю в процессе"
      ],
      "id": "5f7f5f09"
    },
    {
      "cell_type": "markdown",
      "metadata": {
        "id": "O72nL1kt1CUH"
      },
      "source": [
        "Написать генератор `all_elements(lst)`, который возвращает все элементы списка `lst` **любой** вложенности (см. пример для конкретики).\n",
        "\n",
        "Указание: для проверки того, что объект итерируемый, можно проверить, что он наследник `Iterable` (используйте функции `isinstance`/`issubclass`  и модуль [`collections.abc`](https://docs.python.org/3/library/collections.abc.html))"
      ],
      "id": "O72nL1kt1CUH"
    },
    {
      "cell_type": "code",
      "execution_count": null,
      "metadata": {
        "id": "29f9bb21"
      },
      "outputs": [],
      "source": [
        "from collections.abc import Iterable\n",
        "\n",
        "def all_elements(lst):\n",
        "    for item in lst:\n",
        "        if isinstance(item, list):\n",
        "            yield from all_elements(item)\n",
        "        else:\n",
        "            yield item\n"
      ],
      "id": "29f9bb21"
    },
    {
      "cell_type": "code",
      "execution_count": null,
      "metadata": {
        "id": "_RWMicgDy2Mx"
      },
      "outputs": [],
      "source": [
        "input_list = [0, [1, 2], 4, [1, 0, 3]]"
      ],
      "id": "_RWMicgDy2Mx"
    },
    {
      "cell_type": "code",
      "source": [
        "generator = all_elements(input_list)\n",
        "for item in generator:\n",
        "    print(item)"
      ],
      "metadata": {
        "colab": {
          "base_uri": "https://localhost:8080/"
        },
        "id": "7ijkLn6vBTrS",
        "outputId": "f049d7b1-ddf6-420a-9dd0-2d670f290b08"
      },
      "id": "7ijkLn6vBTrS",
      "execution_count": null,
      "outputs": [
        {
          "output_type": "stream",
          "name": "stdout",
          "text": [
            "0\n",
            "1\n",
            "2\n",
            "4\n",
            "1\n",
            "0\n",
            "3\n"
          ]
        }
      ]
    },
    {
      "cell_type": "code",
      "execution_count": null,
      "metadata": {
        "id": "8af89f17"
      },
      "outputs": [],
      "source": [
        "# test\n",
        "from collections.abc import Generator\n",
        "\n",
        "assert isinstance(all_elements([1, [2, 3], [4, [5, 6], [[[7]]]], 8]), Generator), \"You have created not a generator\"\n",
        "assert list(all_elements([1, [2, 3], [4, [5, 6], [[[7]]]], 8])) == [1, 2, 3, 4, 5, 6, 7, 8], \"Wrong values\""
      ],
      "id": "8af89f17"
    }
  ],
  "metadata": {
    "colab": {
      "provenance": []
    },
    "kernelspec": {
      "display_name": "Python 3 (ipykernel)",
      "language": "python",
      "name": "python3"
    },
    "language_info": {
      "codemirror_mode": {
        "name": "ipython",
        "version": 3
      },
      "file_extension": ".py",
      "mimetype": "text/x-python",
      "name": "python",
      "nbconvert_exporter": "python",
      "pygments_lexer": "ipython3",
      "version": "3.9.5"
    }
  },
  "nbformat": 4,
  "nbformat_minor": 5
}