{
  "cells": [
    {
      "cell_type": "markdown",
      "source": [
        "# Домашнее задание 5. NumPy"
      ],
      "metadata": {
        "id": "B7TpktH--KyR"
      }
    },
    {
      "cell_type": "markdown",
      "metadata": {
        "id": "KaEoPM0PXy3W"
      },
      "source": [
        "## Полезные ссылки по NumPy:\n",
        "\n",
        "- быстрый старт в NumPy: https://numpy.org/doc/stable/user/quickstart.html\n",
        "- руководство для совсем начинающих изучать NumPy: https://numpy.org/doc/stable/user/absolute_beginners.html\n",
        "- документация с примерами по основным методам NumPy: https://numpy.org/doc/stable/user/basics.html\n",
        "- Справочник методов NumPy: https://www.w3resource.com/python-exercises/numpy/index.php"
      ]
    },
    {
      "cell_type": "markdown",
      "metadata": {
        "id": "wbA9ooKfXy3X"
      },
      "source": [
        "**Примечание.** В этом разделе запрещается пользоваться циклами! Только функции и методы NumPy! Каждая задача в этом разделе решается одной-двумя строками кода. Нужно просто подумать или найти подходящий метод в numpy."
      ]
    },
    {
      "cell_type": "code",
      "execution_count": null,
      "metadata": {
        "id": "zljkZCKYXy3Y"
      },
      "outputs": [],
      "source": [
        "import numpy as np"
      ]
    },
    {
      "cell_type": "markdown",
      "metadata": {
        "id": "0cpznsR-5wpj"
      },
      "source": [
        "# Работа с одномерными массивами"
      ]
    },
    {
      "cell_type": "markdown",
      "metadata": {
        "id": "4pW30ELYXy3Z"
      },
      "source": [
        "## Задача 1 +"
      ]
    },
    {
      "cell_type": "markdown",
      "source": [
        "Создайте одномерный массив чисел от 0 до 8.\n",
        "\n",
        "Сделайте это двумя способами:"
      ],
      "metadata": {
        "id": "k-_qotBq3vKs"
      }
    },
    {
      "cell_type": "markdown",
      "source": [
        "- с помощью `arange`"
      ],
      "metadata": {
        "id": "jD8I5A4T31sI"
      }
    },
    {
      "cell_type": "code",
      "execution_count": null,
      "metadata": {
        "id": "9yP0C45YXy3Z",
        "colab": {
          "base_uri": "https://localhost:8080/"
        },
        "outputId": "e3e46f89-cf25-45c8-f288-9cc5f00fd715"
      },
      "outputs": [
        {
          "output_type": "execute_result",
          "data": {
            "text/plain": [
              "array([0, 1, 2, 3, 4, 5, 6, 7, 8])"
            ]
          },
          "metadata": {},
          "execution_count": 3
        }
      ],
      "source": [
        "np.arange(9)"
      ]
    },
    {
      "cell_type": "markdown",
      "source": [
        "- с помощью преобразования списка (list) в numpy `array`"
      ],
      "metadata": {
        "id": "_NBzid_E30a7"
      }
    },
    {
      "cell_type": "code",
      "source": [
        "np.array([x for x in range(9)])"
      ],
      "metadata": {
        "id": "7KKn5sd33yY8",
        "colab": {
          "base_uri": "https://localhost:8080/"
        },
        "outputId": "ce9c582b-09da-47f4-a34e-44f7269eb4ba"
      },
      "execution_count": null,
      "outputs": [
        {
          "output_type": "execute_result",
          "data": {
            "text/plain": [
              "array([0, 1, 2, 3, 4, 5, 6, 7, 8])"
            ]
          },
          "metadata": {},
          "execution_count": 4
        }
      ]
    },
    {
      "cell_type": "markdown",
      "source": [
        "`array([0, 1, 2, 3, 4, 5, 6, 7, 8])`"
      ],
      "metadata": {
        "id": "JIowtWtM3e4-"
      }
    },
    {
      "cell_type": "markdown",
      "metadata": {
        "id": "ns8SlkFyXy3a"
      },
      "source": [
        "## Задача 2 +"
      ]
    },
    {
      "cell_type": "markdown",
      "source": [
        "Создайте массив numpy размером 3×3 со всеми значениями, равными `True`.\n",
        "\n",
        "*Подсказка:* создайте массив из единиц и приведите тип массива к `bool`."
      ],
      "metadata": {
        "id": "O_ktDJgS4G7J"
      }
    },
    {
      "cell_type": "code",
      "execution_count": null,
      "metadata": {
        "id": "SEpr7fNhXy3a",
        "colab": {
          "base_uri": "https://localhost:8080/"
        },
        "outputId": "09f0fa73-7e98-41a5-c188-c42b1cb7bc99"
      },
      "outputs": [
        {
          "output_type": "execute_result",
          "data": {
            "text/plain": [
              "array([[ True,  True,  True],\n",
              "       [ True,  True,  True],\n",
              "       [ True,  True,  True]])"
            ]
          },
          "metadata": {},
          "execution_count": 15
        }
      ],
      "source": [
        "M = np.full((3, 3), True)\n",
        "M"
      ]
    },
    {
      "cell_type": "markdown",
      "source": [
        "```\n",
        "array([[ True,  True,  True],\n",
        "       [ True,  True,  True],\n",
        "       [ True,  True,  True]])\n",
        "```"
      ],
      "metadata": {
        "id": "6BSP_ryE3gwl"
      }
    },
    {
      "cell_type": "markdown",
      "metadata": {
        "id": "1d4vFBzRXy3b"
      },
      "source": [
        "## Задача 3 +"
      ]
    },
    {
      "cell_type": "markdown",
      "source": [
        "Вам дан массив под названием `test_array`. Выведите положительные элементы этого массива."
      ],
      "metadata": {
        "id": "RIiuxzem4PRy"
      }
    },
    {
      "cell_type": "code",
      "execution_count": null,
      "metadata": {
        "id": "VH61lY4jXy3b"
      },
      "outputs": [],
      "source": [
        "test_array = np.array([ 0, -1,  5, -3,  7, -1,  6, -1,  8, -1])"
      ]
    },
    {
      "cell_type": "code",
      "execution_count": null,
      "metadata": {
        "id": "gbVnapX0Xy3b",
        "colab": {
          "base_uri": "https://localhost:8080/"
        },
        "outputId": "47896343-22f2-4106-a213-e9d116a855ae"
      },
      "outputs": [
        {
          "output_type": "execute_result",
          "data": {
            "text/plain": [
              "array([5, 7, 6, 8])"
            ]
          },
          "metadata": {},
          "execution_count": 16
        }
      ],
      "source": [
        "test_array[test_array > 0]"
      ]
    },
    {
      "cell_type": "markdown",
      "source": [
        "`array([5, 7, 6, 8])`"
      ],
      "metadata": {
        "id": "_sKqU7Kk3sXa"
      }
    },
    {
      "cell_type": "markdown",
      "metadata": {
        "id": "6mX1p74CXy3c"
      },
      "source": [
        "## Задача 4 +"
      ]
    },
    {
      "cell_type": "markdown",
      "source": [
        "Замените отрицательные элементы из массива `test_array` на `0`.\n",
        "\n",
        "*Подсказка:* вам пригодится функция `np.where`."
      ],
      "metadata": {
        "id": "1Vpnei8U4V_A"
      }
    },
    {
      "cell_type": "code",
      "execution_count": null,
      "metadata": {
        "id": "awP9wvhOXy3c",
        "colab": {
          "base_uri": "https://localhost:8080/"
        },
        "outputId": "1a249dc9-d855-4e1e-b74b-2cdec6699ea5"
      },
      "outputs": [
        {
          "output_type": "execute_result",
          "data": {
            "text/plain": [
              "array([0, 0, 5, 0, 7, 0, 6, 0, 8, 0])"
            ]
          },
          "metadata": {},
          "execution_count": 36
        }
      ],
      "source": [
        "test_array[np.where(test_array < 0)] = 0\n",
        "test_array"
      ]
    },
    {
      "cell_type": "markdown",
      "source": [
        "`array([0, 0, 5, 0, 7, 0, 6, 0, 8, 0])`"
      ],
      "metadata": {
        "id": "8O4wwV334tM3"
      }
    },
    {
      "cell_type": "markdown",
      "metadata": {
        "id": "MIqnug_bXy3c"
      },
      "source": [
        "## Задача 5 +"
      ]
    },
    {
      "cell_type": "markdown",
      "source": [
        "Вам дан массив из 10 чисел. Найдите позицию максимального элемента в заданном массиве."
      ],
      "metadata": {
        "id": "i8ykO8C642bi"
      }
    },
    {
      "cell_type": "code",
      "execution_count": null,
      "metadata": {
        "id": "sjQWGZ5tXy3d"
      },
      "outputs": [],
      "source": [
        "array = np.array([6, 8, 4, 2, 11, -3, 7, 22, -20, -30])"
      ]
    },
    {
      "cell_type": "code",
      "execution_count": null,
      "metadata": {
        "id": "xD8erENBXy3d",
        "colab": {
          "base_uri": "https://localhost:8080/"
        },
        "outputId": "d52886a1-b246-409e-d85e-5986bfd05d6f"
      },
      "outputs": [
        {
          "output_type": "execute_result",
          "data": {
            "text/plain": [
              "(array([7]),)"
            ]
          },
          "metadata": {},
          "execution_count": 32
        }
      ],
      "source": [
        "np.where(array == array.max())"
      ]
    },
    {
      "cell_type": "markdown",
      "source": [
        "`7`"
      ],
      "metadata": {
        "id": "6pKF_L1R47Gt"
      }
    },
    {
      "cell_type": "markdown",
      "metadata": {
        "id": "spWminyiXy3d"
      },
      "source": [
        "## Задача 6 +"
      ]
    },
    {
      "cell_type": "markdown",
      "source": [
        "Вам дан словарь, в котором подсчитаны частоты женских имен в выборке из 26 новорожденных девочек."
      ],
      "metadata": {
        "id": "6Nb0fiNA5KEH"
      }
    },
    {
      "cell_type": "code",
      "execution_count": null,
      "metadata": {
        "id": "x1FcthKzXy3e",
        "outputId": "bd147c12-4777-4fe8-8b04-40164e9e3a13",
        "colab": {
          "base_uri": "https://localhost:8080/"
        }
      },
      "outputs": [
        {
          "output_type": "execute_result",
          "data": {
            "text/plain": [
              "{'Катя': 8, 'Maша': 5, 'Вероника': 2, 'Ярослава': 1, 'Александра': 10}"
            ]
          },
          "metadata": {},
          "execution_count": 110
        }
      ],
      "source": [
        "names = dict()\n",
        "names['Катя'] = 8\n",
        "names[\"Maша\"] = 5\n",
        "names[\"Вероника\"] = 2\n",
        "names[\"Ярослава\"] = 1\n",
        "names[\"Александра\"] = 10\n",
        "\n",
        "names"
      ]
    },
    {
      "cell_type": "markdown",
      "metadata": {
        "id": "CXetA03XXy3e"
      },
      "source": [
        "Посчитайте процентные доли имен с помощью нормирования вектора значений.\n",
        "\n",
        "*Подсказка:* просто возьмите этот вектор значений и поделите его на сумму элементов в нем"
      ]
    },
    {
      "cell_type": "code",
      "source": [
        "arr = np.array(list(names.values()))\n",
        "arr/arr.sum()"
      ],
      "metadata": {
        "colab": {
          "base_uri": "https://localhost:8080/"
        },
        "id": "8Qqk0DTd8qtx",
        "outputId": "33700f4a-9c70-4564-84eb-38eda58af9ee"
      },
      "execution_count": null,
      "outputs": [
        {
          "output_type": "execute_result",
          "data": {
            "text/plain": [
              "array([0.30769231, 0.19230769, 0.07692308, 0.03846154, 0.38461538])"
            ]
          },
          "metadata": {},
          "execution_count": 124
        }
      ]
    },
    {
      "cell_type": "markdown",
      "source": [
        "`array([0.30769231, 0.19230769, 0.07692308, 0.03846154, 0.38461538])`"
      ],
      "metadata": {
        "id": "NO8WLL1S5OS3"
      }
    },
    {
      "cell_type": "markdown",
      "metadata": {
        "id": "q9xFaYhrXy3f"
      },
      "source": [
        "**Примечание:** мы только что произвели операцию **нормирования вектора** (теперь его элементы суммируются в 1), а получившиеся элементы можно интерпретировать как **вероятности** (в примере выше это вероятности того, что случайно взятая новорожденная девочка будет иметь какое-то конкретное имя)"
      ]
    },
    {
      "cell_type": "markdown",
      "metadata": {
        "id": "15ng8uLSXy3g"
      },
      "source": [
        "## Задача 7 +"
      ]
    },
    {
      "cell_type": "markdown",
      "source": [
        "Вам дан массив `arr`. Выведите все его элементы, которые строго больше 5, и строго меньше 9.\n",
        "\n",
        "*Подсказка:* здесь можно также использовать булевы маски."
      ],
      "metadata": {
        "id": "raESZnSU5RNM"
      }
    },
    {
      "cell_type": "code",
      "execution_count": null,
      "metadata": {
        "id": "vqmEaKZuXy3g"
      },
      "outputs": [],
      "source": [
        "arr = np.array([7, 2, 10, 2, 7, 4, 9, 4, 9, 8])"
      ]
    },
    {
      "cell_type": "code",
      "execution_count": null,
      "metadata": {
        "id": "78qJl67tXy3g",
        "colab": {
          "base_uri": "https://localhost:8080/"
        },
        "outputId": "a5e7e1b6-663f-4a67-cf20-2e4683941849"
      },
      "outputs": [
        {
          "output_type": "execute_result",
          "data": {
            "text/plain": [
              "array([7, 7, 8])"
            ]
          },
          "metadata": {},
          "execution_count": 39
        }
      ],
      "source": [
        "mask = (arr > 5) & (arr < 9)\n",
        "arr[mask]"
      ]
    },
    {
      "cell_type": "markdown",
      "source": [
        "`array([7, 7, 8])`"
      ],
      "metadata": {
        "id": "GPit3gpI5r09"
      }
    },
    {
      "cell_type": "markdown",
      "metadata": {
        "id": "zk2fbpIkXy3h"
      },
      "source": [
        "# Работа с двумерными массивами"
      ]
    },
    {
      "cell_type": "markdown",
      "metadata": {
        "id": "fN5ZnOMjXy3h"
      },
      "source": [
        "## Задача 8 +"
      ]
    },
    {
      "cell_type": "markdown",
      "source": [
        "Создайте одномерный массив из 12 элементов от 0 до 11 и сделайте из него матрицу размером 3х4 (вам пригодится функция `np.reshape`)"
      ],
      "metadata": {
        "id": "S1evhWE651KV"
      }
    },
    {
      "cell_type": "code",
      "execution_count": null,
      "metadata": {
        "id": "naHaxgwwXy3h",
        "colab": {
          "base_uri": "https://localhost:8080/"
        },
        "outputId": "301ac8de-0e3c-42f6-f8eb-7771c417b550"
      },
      "outputs": [
        {
          "output_type": "execute_result",
          "data": {
            "text/plain": [
              "array([[ 0,  1,  2,  3],\n",
              "       [ 4,  5,  6,  7],\n",
              "       [ 8,  9, 10, 11]])"
            ]
          },
          "metadata": {},
          "execution_count": 41
        }
      ],
      "source": [
        "np.arange(12).reshape((3, 4))"
      ]
    },
    {
      "cell_type": "markdown",
      "source": [
        "```\n",
        "array([[ 0,  1,  2,  3],\n",
        "       [ 4,  5,  6,  7],\n",
        "       [ 8,  9, 10, 11]])\n",
        "```"
      ],
      "metadata": {
        "id": "eHGQXwef556I"
      }
    },
    {
      "cell_type": "markdown",
      "metadata": {
        "id": "PmVPHNT9Xy3h"
      },
      "source": [
        "## Задача 9 +"
      ]
    },
    {
      "cell_type": "markdown",
      "source": [
        "Соедините вертикально две созданные матрицы `a` и `b`."
      ],
      "metadata": {
        "id": "QGaBYbOI5-WP"
      }
    },
    {
      "cell_type": "code",
      "execution_count": null,
      "metadata": {
        "id": "s6cvlL7GXy3i"
      },
      "outputs": [],
      "source": [
        "a = np.arange(8).reshape(2,4)\n",
        "b = np.ones(8).reshape(2,4)"
      ]
    },
    {
      "cell_type": "code",
      "source": [
        "np.vstack((a,b))"
      ],
      "metadata": {
        "colab": {
          "base_uri": "https://localhost:8080/"
        },
        "id": "un0MjXcP_jRa",
        "outputId": "0323d36d-e52b-4e2a-f117-2fa971edcd2f"
      },
      "execution_count": null,
      "outputs": [
        {
          "output_type": "execute_result",
          "data": {
            "text/plain": [
              "array([[0., 1., 2., 3.],\n",
              "       [4., 5., 6., 7.],\n",
              "       [1., 1., 1., 1.],\n",
              "       [1., 1., 1., 1.]])"
            ]
          },
          "metadata": {},
          "execution_count": 46
        }
      ]
    },
    {
      "cell_type": "markdown",
      "source": [
        "```\n",
        "array([[0., 1., 2., 3.],\n",
        "       [4., 5., 6., 7.],\n",
        "       [1., 1., 1., 1.],\n",
        "       [1., 1., 1., 1.]])\n",
        "```"
      ],
      "metadata": {
        "id": "O_sD3isa6BJ9"
      }
    },
    {
      "cell_type": "markdown",
      "metadata": {
        "id": "Hp3QgzqsXy3i"
      },
      "source": [
        "## Задача 10 +"
      ]
    },
    {
      "cell_type": "markdown",
      "source": [
        "Теперь соедините эти же две матрицы горизонтально."
      ],
      "metadata": {
        "id": "kS6BMuCE6Ej8"
      }
    },
    {
      "cell_type": "code",
      "execution_count": null,
      "metadata": {
        "id": "AW1ysttaXy3j",
        "colab": {
          "base_uri": "https://localhost:8080/"
        },
        "outputId": "8b0c7d75-f9d7-4b14-a41c-2acb469f70fd"
      },
      "outputs": [
        {
          "output_type": "execute_result",
          "data": {
            "text/plain": [
              "array([[0., 1., 2., 3., 1., 1., 1., 1.],\n",
              "       [4., 5., 6., 7., 1., 1., 1., 1.]])"
            ]
          },
          "metadata": {},
          "execution_count": 47
        }
      ],
      "source": [
        "np.hstack((a,b))"
      ]
    },
    {
      "cell_type": "markdown",
      "source": [
        "```\n",
        "array([[0., 1., 2., 3., 1., 1., 1., 1.],\n",
        "       [4., 5., 6., 7., 1., 1., 1., 1.]])\n",
        "```"
      ],
      "metadata": {
        "id": "1FctFjGK6Gma"
      }
    },
    {
      "cell_type": "markdown",
      "metadata": {
        "id": "cO0UywATXy3j"
      },
      "source": [
        "## Задача 11 +"
      ]
    },
    {
      "cell_type": "markdown",
      "source": [
        "Сохраните в отдельную переменную второй столбец (столбец с индексом 1) из данного вам двумерного массива.\n",
        "\n",
        "**Примечание:** при вырезании столбца из матрицы, у вас получится одномерный numpy-array, а не двумерная матрица с одним столбцом!"
      ],
      "metadata": {
        "id": "hR0sTWRt6PzD"
      }
    },
    {
      "cell_type": "code",
      "execution_count": null,
      "metadata": {
        "id": "OiF6PNLaXy3j",
        "outputId": "1b9134bc-18a9-4cf0-da92-a9456f2e2745",
        "colab": {
          "base_uri": "https://localhost:8080/"
        }
      },
      "outputs": [
        {
          "output_type": "execute_result",
          "data": {
            "text/plain": [
              "array([[ 0,  1,  2,  3],\n",
              "       [ 4,  5,  6,  7],\n",
              "       [ 8,  9, 10, 11]])"
            ]
          },
          "metadata": {},
          "execution_count": 30
        }
      ],
      "source": [
        "arr = np.arange(12).reshape(3,4)\n",
        "arr"
      ]
    },
    {
      "cell_type": "code",
      "execution_count": null,
      "metadata": {
        "id": "p3kfwxOVXy3k",
        "colab": {
          "base_uri": "https://localhost:8080/"
        },
        "outputId": "aa907616-ce58-49f4-b8ea-1f59430b516b"
      },
      "outputs": [
        {
          "output_type": "execute_result",
          "data": {
            "text/plain": [
              "array([4, 5, 6, 7])"
            ]
          },
          "metadata": {},
          "execution_count": 31
        }
      ],
      "source": [
        "arr[1][:]"
      ]
    },
    {
      "cell_type": "code",
      "source": [
        "arr[:, 1]"
      ],
      "metadata": {
        "colab": {
          "base_uri": "https://localhost:8080/"
        },
        "id": "HZ4vJ6YNjfSQ",
        "outputId": "2fb8d9d8-d07e-4aef-d029-0b323aee46ae"
      },
      "execution_count": null,
      "outputs": [
        {
          "output_type": "execute_result",
          "data": {
            "text/plain": [
              "array([1, 5, 9])"
            ]
          },
          "metadata": {},
          "execution_count": 37
        }
      ]
    },
    {
      "cell_type": "markdown",
      "source": [
        "```\n",
        "array([1, 5, 9])\n",
        "```"
      ],
      "metadata": {
        "id": "R5OYd2bM6WHV"
      }
    },
    {
      "cell_type": "markdown",
      "metadata": {
        "id": "Kqx9ejwSXy3k"
      },
      "source": [
        "## Задача 12 +"
      ]
    },
    {
      "cell_type": "markdown",
      "source": [
        "Создайте массив из случайных чисел размера 3 на 4 (3 строки и 4 столбца) и сохраните его в переменную `random_array`. Найдите среднее, медиану, стандартное отклонение созданной матрицы `random_array` по строкам и по столбцам.\n",
        "\n",
        "**Вывод вашего кода** - по одной строке на среднее, медиану, и стандартное отклонение для операций по строкам и по столбцам (всего 6 строк кода)."
      ],
      "metadata": {
        "id": "QV7bbrJq6gEe"
      }
    },
    {
      "cell_type": "code",
      "source": [
        "# импортирую необходимый мне модуль\n",
        "import numpy.random as rand"
      ],
      "metadata": {
        "id": "fRzNfQUlm_l6"
      },
      "execution_count": null,
      "outputs": []
    },
    {
      "cell_type": "code",
      "source": [
        "random_array = np.random.randint(0, 666, 12).reshape(3, 4)\n",
        "random_array"
      ],
      "metadata": {
        "colab": {
          "base_uri": "https://localhost:8080/"
        },
        "id": "xM6aFGK3oVnY",
        "outputId": "47d987ec-25c5-4206-f09f-0048d58a9ea0"
      },
      "execution_count": null,
      "outputs": [
        {
          "output_type": "execute_result",
          "data": {
            "text/plain": [
              "array([[122, 363, 553, 116],\n",
              "       [349, 578, 388, 240],\n",
              "       [372, 111, 199,   9]])"
            ]
          },
          "metadata": {},
          "execution_count": 74
        }
      ]
    },
    {
      "cell_type": "code",
      "source": [
        "# среднее\n",
        "print(random_array.mean())\n",
        "# медиана\n",
        "print(np.median(random_array))\n",
        "# стандартное отклонение по строкам\n",
        "print(np.std(random_array, axis = 0))\n",
        "# стандартное отклонение по столбцам\n",
        "print(np.std(random_array, axis = 1))"
      ],
      "metadata": {
        "colab": {
          "base_uri": "https://localhost:8080/"
        },
        "id": "8hpVDtyWojlc",
        "outputId": "153670e0-e434-4c20-90f5-6b8cb8bab9d3"
      },
      "execution_count": null,
      "outputs": [
        {
          "output_type": "stream",
          "name": "stdout",
          "text": [
            "283.3333333333333\n",
            "294.5\n",
            "[112.82139277 190.8513092  144.63056385  94.39044208]\n",
            "[182.33828452 121.98642342 133.24484043]\n"
          ]
        }
      ]
    },
    {
      "cell_type": "code",
      "execution_count": null,
      "metadata": {
        "id": "NqnBKuG1Xy3l",
        "colab": {
          "base_uri": "https://localhost:8080/"
        },
        "outputId": "20e35067-9a35-443f-8333-4c8bec4089c6"
      },
      "outputs": [
        {
          "output_type": "stream",
          "name": "stdout",
          "text": [
            "[0.69469912 0.25457053 0.70051703 0.19791334 0.99620366 0.28601895\n",
            " 0.64698998 0.29775783 0.96646266 0.82626997 0.60751037 0.88873495]\n",
            "\n",
            "[654 444   3 484  30 552 398 461 240 585 454 615]\n",
            "\n",
            "[229 571 293 423 278 264 524 239  76  43 506 627]\n"
          ]
        },
        {
          "output_type": "stream",
          "name": "stderr",
          "text": [
            "<ipython-input-76-deeb4b8095cf>:8: DeprecationWarning: This function is deprecated. Please call randint(0, 666 + 1) instead\n",
            "  random_array3 = np.random.random_integers(0, 666, 12)\n"
          ]
        }
      ],
      "source": [
        "# Для себя, повспоминаю варианты создания рандомных значений, а то в Numpy не развлекался с января\n",
        "random_array1 = np.random.sample(12)\n",
        "print(random_array1)\n",
        "print()\n",
        "random_array2 = np.random.randint(0, 666, 12)\n",
        "print(random_array2)\n",
        "print()\n",
        "random_array3 = np.random.random_integers(0, 666, 12)\n",
        "print(random_array3)"
      ]
    },
    {
      "cell_type": "markdown",
      "metadata": {
        "id": "983ZZbxkXy3l"
      },
      "source": [
        "## Задача 13 +"
      ]
    },
    {
      "cell_type": "markdown",
      "source": [
        "Преобразуйте заданный одномерный массив `arr` в двумерную матрицу из одного столбца и проверьте ее форму."
      ],
      "metadata": {
        "id": "a4RkNBVG7JRN"
      }
    },
    {
      "cell_type": "code",
      "execution_count": null,
      "metadata": {
        "id": "IdoA2v75Xy3l",
        "colab": {
          "base_uri": "https://localhost:8080/"
        },
        "outputId": "fa26fb40-93d4-4d25-e2a2-05dd62543d30"
      },
      "outputs": [
        {
          "output_type": "execute_result",
          "data": {
            "text/plain": [
              "(5, 1)"
            ]
          },
          "metadata": {},
          "execution_count": 61
        }
      ],
      "source": [
        "arr = np.array([2, 4, 5, 7, 100]).reshape(5, 1)\n",
        "arr.shape"
      ]
    },
    {
      "cell_type": "code",
      "execution_count": null,
      "metadata": {
        "id": "JljZ7PTgXy3l",
        "colab": {
          "base_uri": "https://localhost:8080/"
        },
        "outputId": "a480b9a6-398a-4943-96eb-7d06a689a12a"
      },
      "outputs": [
        {
          "output_type": "execute_result",
          "data": {
            "text/plain": [
              "array([[  2],\n",
              "       [  4],\n",
              "       [  5],\n",
              "       [  7],\n",
              "       [100]])"
            ]
          },
          "metadata": {},
          "execution_count": 62
        }
      ],
      "source": [
        "arr"
      ]
    },
    {
      "cell_type": "markdown",
      "source": [
        "```\n",
        "array([[  2],\n",
        "       [  4],\n",
        "       [  5],\n",
        "       [  7],\n",
        "       [100]])\n",
        "```"
      ],
      "metadata": {
        "id": "IvOpwsbd7ShD"
      }
    },
    {
      "cell_type": "markdown",
      "source": [
        "```\n",
        "(5, 1)\n",
        "```"
      ],
      "metadata": {
        "id": "jlKNJVeU7VCT"
      }
    },
    {
      "cell_type": "markdown",
      "metadata": {
        "id": "Oh4yiBjRXy3m"
      },
      "source": [
        "Проверьте, что будет, если этот столбец вычесть из какой-нибудь матрицы размерности `(5, 3)`? Как numpy вычитает столбец из матрицы?"
      ]
    },
    {
      "cell_type": "code",
      "execution_count": null,
      "metadata": {
        "id": "Q0tPMl4nXy3m",
        "colab": {
          "base_uri": "https://localhost:8080/"
        },
        "outputId": "a4d2cd2d-0b70-4562-fd1d-c22cb5157500"
      },
      "outputs": [
        {
          "output_type": "execute_result",
          "data": {
            "text/plain": [
              "array([[63, 28, 32],\n",
              "       [41, 59, 18],\n",
              "       [50,  0,  1],\n",
              "       [11, 46, 50],\n",
              "       [20, 55, 48]])"
            ]
          },
          "metadata": {},
          "execution_count": 64
        }
      ],
      "source": [
        "matrix = np.random.randint(0, 64, 15).reshape(5, 3)\n",
        "matrix"
      ]
    },
    {
      "cell_type": "code",
      "source": [
        " # он итерируется по всем столбцам\n",
        " matrix - arr"
      ],
      "metadata": {
        "colab": {
          "base_uri": "https://localhost:8080/"
        },
        "id": "YtTHYKQLqID1",
        "outputId": "889ff141-5104-4b69-c26a-1858ac1c1bd9"
      },
      "execution_count": null,
      "outputs": [
        {
          "output_type": "execute_result",
          "data": {
            "text/plain": [
              "array([[ 61,  26,  30],\n",
              "       [ 37,  55,  14],\n",
              "       [ 45,  -5,  -4],\n",
              "       [  4,  39,  43],\n",
              "       [-80, -45, -52]])"
            ]
          },
          "metadata": {},
          "execution_count": 65
        }
      ]
    },
    {
      "cell_type": "markdown",
      "metadata": {
        "id": "glQ2eltPXy3n"
      },
      "source": [
        "## Задача 14 +-"
      ]
    },
    {
      "cell_type": "markdown",
      "source": [
        "Найдите средние значения по строкам у созданной в 12-м задании матрицы `random_array`. Вычтите полученные средние значения из соответствующих строк изначальной матрицы `random_array`. Проверьте, что после вычитания средних, среднее по каждой строке стало равно 0."
      ],
      "metadata": {
        "id": "mtfTZjEh7bbA"
      }
    },
    {
      "cell_type": "code",
      "execution_count": null,
      "metadata": {
        "id": "NhGpsNl_Xy3n",
        "colab": {
          "base_uri": "https://localhost:8080/"
        },
        "outputId": "e6f6d04d-fdff-4a60-8c37-092834080b37"
      },
      "outputs": [
        {
          "output_type": "execute_result",
          "data": {
            "text/plain": [
              "array([[122, 363, 553, 116],\n",
              "       [349, 578, 388, 240],\n",
              "       [372, 111, 199,   9]])"
            ]
          },
          "metadata": {},
          "execution_count": 116
        }
      ],
      "source": [
        "r_a = random_array.copy()\n",
        "r_a"
      ]
    },
    {
      "cell_type": "code",
      "source": [
        "r_a.mean(axis=1)"
      ],
      "metadata": {
        "colab": {
          "base_uri": "https://localhost:8080/"
        },
        "id": "_XkrOn9R7T6L",
        "outputId": "cc884f9c-8805-4140-e881-7de3cffdb6c9"
      },
      "execution_count": null,
      "outputs": [
        {
          "output_type": "execute_result",
          "data": {
            "text/plain": [
              "array([288.5 , 388.75, 172.75])"
            ]
          },
          "metadata": {},
          "execution_count": 119
        }
      ]
    },
    {
      "cell_type": "code",
      "source": [
        "f_s = r_a[0].mean()\n",
        "s_s = r_a[1].mean()\n",
        "t_s = r_a[2].mean()"
      ],
      "metadata": {
        "id": "Xo1FV3fm1pom"
      },
      "execution_count": null,
      "outputs": []
    },
    {
      "cell_type": "code",
      "source": [
        "print(f_s, s_s, t_s)"
      ],
      "metadata": {
        "colab": {
          "base_uri": "https://localhost:8080/"
        },
        "id": "zUW189UY3CGx",
        "outputId": "d547ae5d-6c87-467f-c875-7db61c16d414"
      },
      "execution_count": null,
      "outputs": [
        {
          "output_type": "stream",
          "name": "stdout",
          "text": [
            "288.5 388.75 172.75\n"
          ]
        }
      ]
    },
    {
      "cell_type": "code",
      "source": [
        "r_a[0] = r_a[0] - r_a[0].mean()\n",
        "r_a[1] = r_a[1] - r_a[1].mean()\n",
        "r_a[2] = r_a[2] - r_a[2].mean()"
      ],
      "metadata": {
        "id": "WMRMq2l32Zf4"
      },
      "execution_count": null,
      "outputs": []
    },
    {
      "cell_type": "code",
      "source": [
        "r_a"
      ],
      "metadata": {
        "colab": {
          "base_uri": "https://localhost:8080/"
        },
        "id": "NrKogbMK6J57",
        "outputId": "9e666a51-9b09-45f6-ab17-e4c5ee2125a5"
      },
      "execution_count": null,
      "outputs": [
        {
          "output_type": "execute_result",
          "data": {
            "text/plain": [
              "array([[-166,   74,  264, -172],\n",
              "       [ -39,  189,    0, -148],\n",
              "       [ 199,  -61,   26, -163]])"
            ]
          },
          "metadata": {},
          "execution_count": 107
        }
      ]
    },
    {
      "cell_type": "code",
      "source": [
        "f_s = r_a[0].mean()\n",
        "s_s = r_a[1].mean()\n",
        "t_s = r_a[2].mean()"
      ],
      "metadata": {
        "id": "AFrSGN422up-"
      },
      "execution_count": null,
      "outputs": []
    },
    {
      "cell_type": "code",
      "source": [
        "# не знаю, у меня нули не выходят, по итогу\n",
        "# т.к после вычитания, матрица округляется до целых чисел\n",
        "# соответтсвенно новые средние у нас не равны нулю\n",
        "# попозже поищу способ решения\n",
        "print(f_s, s_s, t_s)"
      ],
      "metadata": {
        "colab": {
          "base_uri": "https://localhost:8080/"
        },
        "id": "jcvhFZ6p2unG",
        "outputId": "25f5817e-8344-4a91-e71a-dea1e4a78635"
      },
      "execution_count": null,
      "outputs": [
        {
          "output_type": "stream",
          "name": "stdout",
          "text": [
            "0.0 0.5 0.25\n"
          ]
        }
      ]
    },
    {
      "cell_type": "markdown",
      "metadata": {
        "id": "-tbDXnFTXy3n"
      },
      "source": [
        "**Примечание:** умение numpy догадываться о том, как можно прибавлять число к вектору/число к матрице/вектор к матрице и прочие подобные операции, называется ```broadcasting```. То есть numpy растягивает массивы меньшей размерности до массива большей размерности, чтобы у них стали одинаковые размерности, по особым правилам, которые позволяют довольно интуитивно вычесть строку из матрицы, и эта строка вычтется из каждой строки матрицы. Почитать об этом подробнее можно [здесь](https://numpy.org/doc/stable/user/basics.broadcasting.html) и[здесь](https://machinelearningmastery.com/broadcasting-with-numpy-arrays/) .\n",
        "\n",
        "А вот еще и наглядные картинки, которые показывают, как работает broadcasting\n",
        "\n",
        "![](https://www.tutorialspoint.com/numpy/images/array.jpg)\n",
        "![](https://jakevdp.github.io/PythonDataScienceHandbook/figures/02.05-broadcasting.png)\n",
        "![](https://i.stack.imgur.com/JcKv1.png)"
      ]
    },
    {
      "cell_type": "markdown",
      "metadata": {
        "id": "GvOsRYmHXy3o"
      },
      "source": [
        "## Задача 15 +"
      ]
    },
    {
      "cell_type": "markdown",
      "source": [
        "Запрограммируйте вычисление следующей формулы с помощью numpy:\n",
        "\n",
        "$$\n",
        "y = x + 2\\sqrt{x} + 8 \\cos (\\frac{x^2}{5})\n",
        "$$\n",
        "\n",
        "И постройте ее график (достаточно запустить ячейку с кодом)\n",
        "\n",
        "Справочник по математическим функциям в numpy: https://numpy.org/doc/stable/reference/routines.math.html\n",
        "\n",
        "Помните, что операции над массивами в numpу поэлементные, а значит, вы можете просто писать формулу для одной переменной, и numpy применит ее ко всем элементам массива."
      ],
      "metadata": {
        "id": "OklwSdgN7nHz"
      }
    },
    {
      "cell_type": "code",
      "execution_count": null,
      "metadata": {
        "id": "ks2QiYbdXy3o"
      },
      "outputs": [],
      "source": [
        "x = np.linspace(0, 10, 100)\n",
        "y = x + 2 * np.sqrt(x) + 8 * np.cos(np.power(x, 2) / 5)"
      ]
    },
    {
      "cell_type": "code",
      "execution_count": null,
      "metadata": {
        "id": "AwpXTRstXy3o",
        "outputId": "84504bf6-082d-4bba-f2e3-83789b2dc49b",
        "colab": {
          "base_uri": "https://localhost:8080/",
          "height": 434
        }
      },
      "outputs": [
        {
          "output_type": "display_data",
          "data": {
            "text/plain": [
              "<Figure size 640x480 with 1 Axes>"
            ],
            "image/png": "[encoded data removed]"
          },
          "metadata": {}
        }
      ],
      "source": [
        "from matplotlib import pyplot as plt\n",
        "\n",
        "plt.plot(x, y)\n",
        "plt.show()"
      ]
    },
    {
      "cell_type": "markdown",
      "metadata": {
        "id": "A48P3O7hdyS2"
      },
      "source": [
        "## Задача 16 +\n"
      ]
    },
    {
      "cell_type": "markdown",
      "source": [
        "**Реализуйте задачу с и без помощи numpy, сравните время выполнения.**\n",
        "\n",
        "Написать две функции `py_mean(n)` и `np_mean(n)`, каждая из которых принимает на вход целое число n - длину последовательности, генерирует ее (использовать range и np.arange), а затем находит и возвращает среднее арифметическое ее членов (вам помогут `sum` и `np.mean`).\n",
        "\n",
        "Важно, что в одном случае должны использоваться только встроенные функции языка Python3, а в случае с numpy работать нужно **только** с его абстракциями (от создания массива и заканчивая вычислением).\n",
        "\n",
        "Произведите измерения для различных размеров выборки: `1e1, 1e3, 1e5, 1e7`\n",
        "\n",
        "Напишите выводы, что вы заметили."
      ],
      "metadata": {
        "id": "stz-TvN67yPZ"
      }
    },
    {
      "cell_type": "code",
      "execution_count": null,
      "metadata": {
        "id": "hvmLROE2d84h"
      },
      "outputs": [],
      "source": [
        "%%time\n",
        "print('Указывайте %%time в начале клетки, чтобы посмотреть время её выполнения')"
      ]
    },
    {
      "cell_type": "code",
      "execution_count": null,
      "metadata": {
        "id": "O1k2LTh9fJq5"
      },
      "outputs": [],
      "source": [
        "def py_mean(n):\n",
        "    l = [x for x in range(n)]\n",
        "    return sum(l)/n"
      ]
    },
    {
      "cell_type": "code",
      "source": [
        "def np_mean(n):\n",
        "    l = np.arange(n)\n",
        "    return np.mean(l)"
      ],
      "metadata": {
        "id": "0y0FEG9UP20G"
      },
      "execution_count": null,
      "outputs": []
    },
    {
      "cell_type": "code",
      "source": [
        "%%time\n",
        "py_mean(10)"
      ],
      "metadata": {
        "colab": {
          "base_uri": "https://localhost:8080/"
        },
        "id": "bDZLGKouggp2",
        "outputId": "07ab6a6e-3f7f-4f10-8f4a-9abb730d3f04"
      },
      "execution_count": null,
      "outputs": [
        {
          "output_type": "stream",
          "name": "stdout",
          "text": [
            "CPU times: user 10 µs, sys: 1 µs, total: 11 µs\n",
            "Wall time: 16 µs\n"
          ]
        },
        {
          "output_type": "execute_result",
          "data": {
            "text/plain": [
              "4.5"
            ]
          },
          "metadata": {},
          "execution_count": 17
        }
      ]
    },
    {
      "cell_type": "code",
      "source": [
        "%%time\n",
        "np_mean(10)"
      ],
      "metadata": {
        "colab": {
          "base_uri": "https://localhost:8080/"
        },
        "id": "XQRe8suzggkC",
        "outputId": "4c0a3348-b1bc-4bd4-bc06-36a5b6537efe"
      },
      "execution_count": null,
      "outputs": [
        {
          "output_type": "stream",
          "name": "stdout",
          "text": [
            "CPU times: user 171 µs, sys: 18 µs, total: 189 µs\n",
            "Wall time: 180 µs\n"
          ]
        },
        {
          "output_type": "execute_result",
          "data": {
            "text/plain": [
              "4.5"
            ]
          },
          "metadata": {},
          "execution_count": 23
        }
      ]
    },
    {
      "cell_type": "code",
      "source": [
        "%%time\n",
        "py_mean(10_000_000)"
      ],
      "metadata": {
        "colab": {
          "base_uri": "https://localhost:8080/"
        },
        "id": "lT4EvarqjTkd",
        "outputId": "661cbcf6-0cc7-4b4e-b91f-8d4026ac3b6a"
      },
      "execution_count": null,
      "outputs": [
        {
          "output_type": "stream",
          "name": "stdout",
          "text": [
            "CPU times: user 604 ms, sys: 265 ms, total: 868 ms\n",
            "Wall time: 1.26 s\n"
          ]
        },
        {
          "output_type": "execute_result",
          "data": {
            "text/plain": [
              "4999999.5"
            ]
          },
          "metadata": {},
          "execution_count": 24
        }
      ]
    },
    {
      "cell_type": "code",
      "source": [
        "%%time\n",
        "np_mean(10_000_000)"
      ],
      "metadata": {
        "colab": {
          "base_uri": "https://localhost:8080/"
        },
        "id": "bEnwyhKQjThD",
        "outputId": "761fef5d-8b90-4770-c16f-6fa5866a055e"
      },
      "execution_count": null,
      "outputs": [
        {
          "output_type": "stream",
          "name": "stdout",
          "text": [
            "CPU times: user 25.3 ms, sys: 24 ms, total: 49.3 ms\n",
            "Wall time: 53.8 ms\n"
          ]
        },
        {
          "output_type": "execute_result",
          "data": {
            "text/plain": [
              "4999999.5"
            ]
          },
          "metadata": {},
          "execution_count": 25
        }
      ]
    },
    {
      "cell_type": "markdown",
      "source": [
        "**Ваш вывод**\n",
        "\n",
        "Без решения этих задач могу сказать, что numpy работает в 100500 раз быстрее, так как он написан на языках C"
      ],
      "metadata": {
        "id": "jjFV6h7mpjFX"
      }
    },
    {
      "cell_type": "markdown",
      "metadata": {
        "id": "oKNt01d0eGjv"
      },
      "source": [
        "## Задача 17 +"
      ]
    },
    {
      "cell_type": "markdown",
      "source": [
        "Пусть мы имеем 2 массива (заданы ниже в коде). Требуется создать массив, который получает результат поэлементно `True`, если четные элементы 1го массива больше 2го и `True`, если нечетные элементы 2го больше элементов первого. В противном случае возвращать `False`.\n",
        "\n",
        "Реализовать задачу с помощью numpy\n",
        "\n",
        "Пример массивов и результата:\n",
        "\n",
        "```\n",
        "a = [7, 3, 5, 9, 2, 5, 4, 8, 9, 0]\n",
        "b = [2, 8, 6, 7, 1, 3, 2, 9, 5, 1]\n",
        "res = [ True, True, False, False, True, False, True, True, True, True]\n",
        "```\n",
        "\n",
        "Вы можете сделать задачу с помощью слайсинга или комбинации функций `np.arange` и `np.where`."
      ],
      "metadata": {
        "id": "1gpYauqG7_8O"
      }
    },
    {
      "cell_type": "code",
      "execution_count": null,
      "metadata": {
        "id": "sTb3Ht9aeN6U",
        "colab": {
          "base_uri": "https://localhost:8080/"
        },
        "outputId": "4d163355-c399-4402-de0e-0d740d4202e4"
      },
      "outputs": [
        {
          "output_type": "stream",
          "name": "stdout",
          "text": [
            "[9 5 0 3 3 4 4 6 5 9]\n",
            "[8 8 5 5 0 9 3 8 2 9]\n"
          ]
        }
      ],
      "source": [
        "a = np.random.randint(0, 10, 10)\n",
        "b = np.random.randint(0, 10, 10)\n",
        "print(a)\n",
        "print(b)"
      ]
    },
    {
      "cell_type": "code",
      "source": [
        "a = np.array([7, 3, 5, 9, 2, 5, 4, 8, 9, 0])\n",
        "b = np.array([2, 8, 6, 7, 1, 3, 2, 9, 5, 1])"
      ],
      "metadata": {
        "id": "8u6e0MO70Gpl"
      },
      "execution_count": null,
      "outputs": []
    },
    {
      "cell_type": "code",
      "source": [
        "first = a[::] > b[::]\n",
        "second = a[::] < b[::]"
      ],
      "metadata": {
        "id": "y3KF6ELw6IRj"
      },
      "execution_count": null,
      "outputs": []
    },
    {
      "cell_type": "code",
      "source": [
        "# наверняка есть и другой способ, но я нашел только numpy.equal(),\n",
        "# но тут он нам не подходит, поэтому решил вот так\n",
        "res = first\n",
        "res[1::2] = second[1::2]\n",
        "res"
      ],
      "metadata": {
        "colab": {
          "base_uri": "https://localhost:8080/"
        },
        "id": "SDW4msUAz4mL",
        "outputId": "a75058f3-100d-4401-a0dd-9e213d3256b1"
      },
      "execution_count": null,
      "outputs": [
        {
          "output_type": "execute_result",
          "data": {
            "text/plain": [
              "array([ True,  True, False, False,  True, False,  True,  True,  True,\n",
              "        True])"
            ]
          },
          "metadata": {},
          "execution_count": 25
        }
      ]
    },
    {
      "cell_type": "markdown",
      "metadata": {
        "id": "UeJ5Ogg_eOVZ"
      },
      "source": [
        "## Задача 18 +"
      ]
    },
    {
      "cell_type": "markdown",
      "source": [
        "Найдите общие элементы двух numpy массивов (воспользуйтесь готовой функцией)."
      ],
      "metadata": {
        "id": "0feXiyl18KCm"
      }
    },
    {
      "cell_type": "code",
      "execution_count": null,
      "metadata": {
        "id": "J7azboiPeTt4"
      },
      "outputs": [],
      "source": [
        "arr1 = np.random.randint(0, 10, 10)\n",
        "arr2 = np.random.randint(0, 10, 10)"
      ]
    },
    {
      "cell_type": "code",
      "source": [
        "print(arr1)\n",
        "print(arr2)\n",
        "arr3 = arr1[np.in1d(arr1, arr2)]\n",
        "print(f'Общие элементы списков: {arr3}')"
      ],
      "metadata": {
        "id": "zmFtUrav8MwE",
        "colab": {
          "base_uri": "https://localhost:8080/"
        },
        "outputId": "7c0fcd35-a6dd-4c45-b024-22ce494d46a2"
      },
      "execution_count": null,
      "outputs": [
        {
          "output_type": "stream",
          "name": "stdout",
          "text": [
            "[9 2 1 2 9 5 0 8 0 6]\n",
            "[0 2 1 8 5 4 9 3 7 0]\n",
            "Общие элементы списков: [9 2 1 2 9 5 0 8 0]\n"
          ]
        }
      ]
    },
    {
      "cell_type": "markdown",
      "metadata": {
        "id": "iy8oPUa7ebvV"
      },
      "source": [
        "## Задача 19 +"
      ]
    },
    {
      "cell_type": "markdown",
      "source": [
        "Создайте массив размера 10 со значениями от 0 до 1 (интервал между значениями равномерный), не включая концы.\n",
        "\n",
        "*Примечание:* см. `np.linspace` + слайсинг"
      ],
      "metadata": {
        "id": "CP639-l58QFH"
      }
    },
    {
      "cell_type": "code",
      "execution_count": null,
      "metadata": {
        "id": "MCEXaem0fZym",
        "colab": {
          "base_uri": "https://localhost:8080/"
        },
        "outputId": "8bef7655-6cca-48d1-a6f6-9808483b5a59"
      },
      "outputs": [
        {
          "output_type": "execute_result",
          "data": {
            "text/plain": [
              "array([0.09090909, 0.18181818, 0.27272727, 0.36363636, 0.45454545,\n",
              "       0.54545455, 0.63636364, 0.72727273, 0.81818182, 0.90909091])"
            ]
          },
          "metadata": {},
          "execution_count": 16
        }
      ],
      "source": [
        "np.linspace(0, 1, 12)[1:-1]"
      ]
    },
    {
      "cell_type": "markdown",
      "metadata": {
        "id": "gnrh4ss9elZc"
      },
      "source": [
        "## Задача 20 +"
      ]
    },
    {
      "cell_type": "markdown",
      "source": [
        "Создайте случайный вектор размера 10, и замените в нем максимальное значение на 0."
      ],
      "metadata": {
        "id": "nbX3f0G-8Wt9"
      }
    },
    {
      "cell_type": "code",
      "execution_count": null,
      "metadata": {
        "id": "bqt33AZjfdl5"
      },
      "outputs": [],
      "source": [
        "vec_rand = np.random.random(10)"
      ]
    },
    {
      "cell_type": "code",
      "source": [
        "vec_rand"
      ],
      "metadata": {
        "colab": {
          "base_uri": "https://localhost:8080/"
        },
        "id": "o6kXwlerdGwp",
        "outputId": "5f1ba8b7-0a6f-415f-f29d-855763462a55"
      },
      "execution_count": null,
      "outputs": [
        {
          "output_type": "execute_result",
          "data": {
            "text/plain": [
              "array([0.88355055, 0.60689549, 0.99230842, 0.62707797, 0.32113342,\n",
              "       0.50502564, 0.65063829, 0.84963939, 0.7401419 , 0.72511402])"
            ]
          },
          "metadata": {},
          "execution_count": 5
        }
      ]
    },
    {
      "cell_type": "code",
      "source": [
        "vec_rand[vec_rand.argmax()] = 0"
      ],
      "metadata": {
        "id": "eAf-zrKzdCbm"
      },
      "execution_count": null,
      "outputs": []
    },
    {
      "cell_type": "code",
      "source": [
        "vec_rand"
      ],
      "metadata": {
        "colab": {
          "base_uri": "https://localhost:8080/"
        },
        "id": "nipNc-w0dCXQ",
        "outputId": "001411bf-42b5-479b-e99c-25c349533b0f"
      },
      "execution_count": null,
      "outputs": [
        {
          "output_type": "execute_result",
          "data": {
            "text/plain": [
              "array([0.88355055, 0.60689549, 0.        , 0.62707797, 0.32113342,\n",
              "       0.50502564, 0.65063829, 0.84963939, 0.7401419 , 0.72511402])"
            ]
          },
          "metadata": {},
          "execution_count": 8
        }
      ]
    },
    {
      "cell_type": "markdown",
      "metadata": {
        "id": "Ce8dqq1CXy3p"
      },
      "source": [
        "# Дополнительные материалы"
      ]
    },
    {
      "cell_type": "markdown",
      "source": [
        "Для самых любознательных и тех, кто хочет еще порешать задачи, есть сборник \"100 заданий по Numpy\": https://www.machinelearningplus.com/python/101-numpy-exercises-python/\n",
        "\n",
        "Для тех, кому нужно руководство по матричным операциям в Numpy: https://www.programiz.com/python-programming/matrix"
      ],
      "metadata": {
        "id": "vadNm9DX8bQM"
      }
    }
  ],
  "metadata": {
    "colab": {
      "provenance": [],
      "toc_visible": true
    },
    "kernelspec": {
      "display_name": "Python 3 (ipykernel)",
      "language": "python",
      "name": "python3"
    },
    "language_info": {
      "codemirror_mode": {
        "name": "ipython",
        "version": 3
      },
      "file_extension": ".py",
      "mimetype": "text/x-python",
      "name": "python",
      "nbconvert_exporter": "python",
      "pygments_lexer": "ipython3",
      "version": "3.8.12"
    }
  },
  "nbformat": 4,
  "nbformat_minor": 0
}