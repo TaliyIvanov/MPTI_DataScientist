{
  "cells": [
    {
      "cell_type": "markdown",
      "source": [
        "# Домашнее задание 6. Pandas"
      ],
      "metadata": {
        "id": "B7TpktH--KyR"
      }
    },
    {
      "cell_type": "markdown",
      "metadata": {
        "id": "aG3qP-8iogxq"
      },
      "source": [
        "**Примечание:**\n",
        "\n",
        "В заданиях вам даны подсказки по выполнению, a также вывод работы кода авторского решения - вы можете смотреть на этот вывод и понимать, в правильном ли направлении вы движетесь при выполнении задания."
      ]
    },
    {
      "cell_type": "markdown",
      "source": [
        "Скачиваем данные:"
      ],
      "metadata": {
        "id": "PuY91PfpeBw3"
      }
    },
    {
      "cell_type": "code",
      "source": [
        "!curl -L -o 'articles.csv' 'https://drive.google.com/uc?id=1nht5Pd7kuqJSCz7B9jwU4qScnCO1ZPop&export=download&confirm=t'"
      ],
      "metadata": {
        "id": "iZWah5Etd_pT",
        "colab": {
          "base_uri": "https://localhost:8080/"
        },
        "outputId": "1f13e8b6-3828-4a64-c6a2-a23631432a6f"
      },
      "execution_count": null,
      "outputs": [
        {
          "output_type": "stream",
          "name": "stdout",
          "text": [
            "  % Total    % Received % Xferd  Average Speed   Time    Time     Time  Current\n",
            "                                 Dload  Upload   Total   Spent    Left  Speed\n",
            "  0     0    0     0    0     0      0      0 --:--:-- --:--:-- --:--:--     0\n",
            "100  193M  100  193M    0     0  33.6M      0  0:00:05  0:00:05 --:--:-- 39.2M\n"
          ]
        }
      ]
    },
    {
      "cell_type": "code",
      "source": [
        "import pandas as pd"
      ],
      "metadata": {
        "id": "BLeiyeHqkqJO"
      },
      "execution_count": null,
      "outputs": []
    },
    {
      "cell_type": "markdown",
      "source": [
        "# Задача 0 +"
      ],
      "metadata": {
        "id": "HM_Y_nCYkrTy"
      }
    },
    {
      "cell_type": "markdown",
      "metadata": {
        "id": "q6_oalbnogxr"
      },
      "source": [
        "Загрузите таблицу с данными из `articles.csv`:\n"
      ]
    },
    {
      "cell_type": "code",
      "execution_count": null,
      "metadata": {
        "id": "OGGXSChjogxr"
      },
      "outputs": [],
      "source": [
        "articles = pd.read_csv('/content/articles.csv')"
      ]
    },
    {
      "cell_type": "markdown",
      "metadata": {
        "id": "nlzguGOQogxs"
      },
      "source": [
        "Посмотрите на первые 5 строк датафрейма (метод `head`):"
      ]
    },
    {
      "cell_type": "code",
      "execution_count": null,
      "metadata": {
        "id": "bcsGuyObogxt",
        "colab": {
          "base_uri": "https://localhost:8080/",
          "height": 206
        },
        "outputId": "7bc65a96-43ee-4020-9d6a-c2888ab064cc"
      },
      "outputs": [
        {
          "output_type": "execute_result",
          "data": {
            "text/plain": [
              "      id                                              title     publication  \\\n",
              "0  17283  House Republicans Fret About Winning Their Hea...  New York Times   \n",
              "1  17284  Rift Between Officers and Residents as Killing...  New York Times   \n",
              "2  17285  Tyrus Wong, ‘Bambi’ Artist Thwarted by Racial ...  New York Times   \n",
              "3  17286  Among Deaths in 2016, a Heavy Toll in Pop Musi...  New York Times   \n",
              "4  17287  Kim Jong-un Says North Korea Is Preparing to T...  New York Times   \n",
              "\n",
              "                          author        date  year  month  \\\n",
              "0                     Carl Hulse  2016-12-31  2016     12   \n",
              "1  Benjamin Mueller and Al Baker  2017-06-19  2017      6   \n",
              "2                   Margalit Fox  2017-01-06  2017      1   \n",
              "3               William McDonald  2017-04-10  2017      4   \n",
              "4                  Choe Sang-Hun  2017-01-02  2017      1   \n",
              "\n",
              "                                             content  \n",
              "0  WASHINGTON  —   Congressional Republicans have...  \n",
              "1  After the bullet shells get counted, the blood...  \n",
              "2  When Walt Disney’s “Bambi” opened in 1942, cri...  \n",
              "3  Death may be the great equalizer, but it isn’t...  \n",
              "4  SEOUL, South Korea  —   North Korea’s leader, ...  "
            ],
            "text/html": [
              "\n",
              "\n",
              "  <div id=\"df-99e6f2c6-9800-4518-842c-abf5a0df2b56\">\n",
              "    <div class=\"colab-df-container\">\n",
              "      <div>\n",
              "<style scoped>\n",
              "    .dataframe tbody tr th:only-of-type {\n",
              "        vertical-align: middle;\n",
              "    }\n",
              "\n",
              "    .dataframe tbody tr th {\n",
              "        vertical-align: top;\n",
              "    }\n",
              "\n",
              "    .dataframe thead th {\n",
              "        text-align: right;\n",
              "    }\n",
              "</style>\n",
              "<table border=\"1\" class=\"dataframe\">\n",
              "  <thead>\n",
              "    <tr style=\"text-align: right;\">\n",
              "      <th></th>\n",
              "      <th>id</th>\n",
              "      <th>title</th>\n",
              "      <th>publication</th>\n",
              "      <th>author</th>\n",
              "      <th>date</th>\n",
              "      <th>year</th>\n",
              "      <th>month</th>\n",
              "      <th>content</th>\n",
              "    </tr>\n",
              "  </thead>\n",
              "  <tbody>\n",
              "    <tr>\n",
              "      <th>0</th>\n",
              "      <td>17283</td>\n",
              "      <td>House Republicans Fret About Winning Their Hea...</td>\n",
              "      <td>New York Times</td>\n",
              "      <td>Carl Hulse</td>\n",
              "      <td>2016-12-31</td>\n",
              "      <td>2016</td>\n",
              "      <td>12</td>\n",
              "      <td>WASHINGTON  —   Congressional Republicans have...</td>\n",
              "    </tr>\n",
              "    <tr>\n",
              "      <th>1</th>\n",
              "      <td>17284</td>\n",
              "      <td>Rift Between Officers and Residents as Killing...</td>\n",
              "      <td>New York Times</td>\n",
              "      <td>Benjamin Mueller and Al Baker</td>\n",
              "      <td>2017-06-19</td>\n",
              "      <td>2017</td>\n",
              "      <td>6</td>\n",
              "      <td>After the bullet shells get counted, the blood...</td>\n",
              "    </tr>\n",
              "    <tr>\n",
              "      <th>2</th>\n",
              "      <td>17285</td>\n",
              "      <td>Tyrus Wong, ‘Bambi’ Artist Thwarted by Racial ...</td>\n",
              "      <td>New York Times</td>\n",
              "      <td>Margalit Fox</td>\n",
              "      <td>2017-01-06</td>\n",
              "      <td>2017</td>\n",
              "      <td>1</td>\n",
              "      <td>When Walt Disney’s “Bambi” opened in 1942, cri...</td>\n",
              "    </tr>\n",
              "    <tr>\n",
              "      <th>3</th>\n",
              "      <td>17286</td>\n",
              "      <td>Among Deaths in 2016, a Heavy Toll in Pop Musi...</td>\n",
              "      <td>New York Times</td>\n",
              "      <td>William McDonald</td>\n",
              "      <td>2017-04-10</td>\n",
              "      <td>2017</td>\n",
              "      <td>4</td>\n",
              "      <td>Death may be the great equalizer, but it isn’t...</td>\n",
              "    </tr>\n",
              "    <tr>\n",
              "      <th>4</th>\n",
              "      <td>17287</td>\n",
              "      <td>Kim Jong-un Says North Korea Is Preparing to T...</td>\n",
              "      <td>New York Times</td>\n",
              "      <td>Choe Sang-Hun</td>\n",
              "      <td>2017-01-02</td>\n",
              "      <td>2017</td>\n",
              "      <td>1</td>\n",
              "      <td>SEOUL, South Korea  —   North Korea’s leader, ...</td>\n",
              "    </tr>\n",
              "  </tbody>\n",
              "</table>\n",
              "</div>\n",
              "      <button class=\"colab-df-convert\" onclick=\"convertToInteractive('df-99e6f2c6-9800-4518-842c-abf5a0df2b56')\"\n",
              "              title=\"Convert this dataframe to an interactive table.\"\n",
              "              style=\"display:none;\">\n",
              "\n",
              "  <svg xmlns=\"http://www.w3.org/2000/svg\" height=\"24px\"viewBox=\"0 0 24 24\"\n",
              "       width=\"24px\">\n",
              "    <path d=\"M0 0h24v24H0V0z\" fill=\"none\"/>\n",
              "    <path d=\"M18.56 5.44l.94 2.06.94-2.06 2.06-.94-2.06-.94-.94-2.06-.94 2.06-2.06.94zm-11 1L8.5 8.5l.94-2.06 2.06-.94-2.06-.94L8.5 2.5l-.94 2.06-2.06.94zm10 10l.94 2.06.94-2.06 2.06-.94-2.06-.94-.94-2.06-.94 2.06-2.06.94z\"/><path d=\"M17.41 7.96l-1.37-1.37c-.4-.4-.92-.59-1.43-.59-.52 0-1.04.2-1.43.59L10.3 9.45l-7.72 7.72c-.78.78-.78 2.05 0 2.83L4 21.41c.39.39.9.59 1.41.59.51 0 1.02-.2 1.41-.59l7.78-7.78 2.81-2.81c.8-.78.8-2.07 0-2.86zM5.41 20L4 18.59l7.72-7.72 1.47 1.35L5.41 20z\"/>\n",
              "  </svg>\n",
              "      </button>\n",
              "\n",
              "\n",
              "\n",
              "    <div id=\"df-62cb9db4-a21b-46bf-b2d4-2d6312e626a6\">\n",
              "      <button class=\"colab-df-quickchart\" onclick=\"quickchart('df-62cb9db4-a21b-46bf-b2d4-2d6312e626a6')\"\n",
              "              title=\"Suggest charts.\"\n",
              "              style=\"display:none;\">\n",
              "\n",
              "<svg xmlns=\"http://www.w3.org/2000/svg\" height=\"24px\"viewBox=\"0 0 24 24\"\n",
              "     width=\"24px\">\n",
              "    <g>\n",
              "        <path d=\"M19 3H5c-1.1 0-2 .9-2 2v14c0 1.1.9 2 2 2h14c1.1 0 2-.9 2-2V5c0-1.1-.9-2-2-2zM9 17H7v-7h2v7zm4 0h-2V7h2v10zm4 0h-2v-4h2v4z\"/>\n",
              "    </g>\n",
              "</svg>\n",
              "      </button>\n",
              "    </div>\n",
              "\n",
              "<style>\n",
              "  .colab-df-quickchart {\n",
              "    background-color: #E8F0FE;\n",
              "    border: none;\n",
              "    border-radius: 50%;\n",
              "    cursor: pointer;\n",
              "    display: none;\n",
              "    fill: #1967D2;\n",
              "    height: 32px;\n",
              "    padding: 0 0 0 0;\n",
              "    width: 32px;\n",
              "  }\n",
              "\n",
              "  .colab-df-quickchart:hover {\n",
              "    background-color: #E2EBFA;\n",
              "    box-shadow: 0px 1px 2px rgba(60, 64, 67, 0.3), 0px 1px 3px 1px rgba(60, 64, 67, 0.15);\n",
              "    fill: #174EA6;\n",
              "  }\n",
              "\n",
              "  [theme=dark] .colab-df-quickchart {\n",
              "    background-color: #3B4455;\n",
              "    fill: #D2E3FC;\n",
              "  }\n",
              "\n",
              "  [theme=dark] .colab-df-quickchart:hover {\n",
              "    background-color: #434B5C;\n",
              "    box-shadow: 0px 1px 3px 1px rgba(0, 0, 0, 0.15);\n",
              "    filter: drop-shadow(0px 1px 2px rgba(0, 0, 0, 0.3));\n",
              "    fill: #FFFFFF;\n",
              "  }\n",
              "</style>\n",
              "\n",
              "    <script>\n",
              "      async function quickchart(key) {\n",
              "        const containerElement = document.querySelector('#' + key);\n",
              "        const charts = await google.colab.kernel.invokeFunction(\n",
              "            'suggestCharts', [key], {});\n",
              "      }\n",
              "    </script>\n",
              "\n",
              "      <script>\n",
              "\n",
              "function displayQuickchartButton(domScope) {\n",
              "  let quickchartButtonEl =\n",
              "    domScope.querySelector('#df-62cb9db4-a21b-46bf-b2d4-2d6312e626a6 button.colab-df-quickchart');\n",
              "  quickchartButtonEl.style.display =\n",
              "    google.colab.kernel.accessAllowed ? 'block' : 'none';\n",
              "}\n",
              "\n",
              "        displayQuickchartButton(document);\n",
              "      </script>\n",
              "      <style>\n",
              "    .colab-df-container {\n",
              "      display:flex;\n",
              "      flex-wrap:wrap;\n",
              "      gap: 12px;\n",
              "    }\n",
              "\n",
              "    .colab-df-convert {\n",
              "      background-color: #E8F0FE;\n",
              "      border: none;\n",
              "      border-radius: 50%;\n",
              "      cursor: pointer;\n",
              "      display: none;\n",
              "      fill: #1967D2;\n",
              "      height: 32px;\n",
              "      padding: 0 0 0 0;\n",
              "      width: 32px;\n",
              "    }\n",
              "\n",
              "    .colab-df-convert:hover {\n",
              "      background-color: #E2EBFA;\n",
              "      box-shadow: 0px 1px 2px rgba(60, 64, 67, 0.3), 0px 1px 3px 1px rgba(60, 64, 67, 0.15);\n",
              "      fill: #174EA6;\n",
              "    }\n",
              "\n",
              "    [theme=dark] .colab-df-convert {\n",
              "      background-color: #3B4455;\n",
              "      fill: #D2E3FC;\n",
              "    }\n",
              "\n",
              "    [theme=dark] .colab-df-convert:hover {\n",
              "      background-color: #434B5C;\n",
              "      box-shadow: 0px 1px 3px 1px rgba(0, 0, 0, 0.15);\n",
              "      filter: drop-shadow(0px 1px 2px rgba(0, 0, 0, 0.3));\n",
              "      fill: #FFFFFF;\n",
              "    }\n",
              "  </style>\n",
              "\n",
              "      <script>\n",
              "        const buttonEl =\n",
              "          document.querySelector('#df-99e6f2c6-9800-4518-842c-abf5a0df2b56 button.colab-df-convert');\n",
              "        buttonEl.style.display =\n",
              "          google.colab.kernel.accessAllowed ? 'block' : 'none';\n",
              "\n",
              "        async function convertToInteractive(key) {\n",
              "          const element = document.querySelector('#df-99e6f2c6-9800-4518-842c-abf5a0df2b56');\n",
              "          const dataTable =\n",
              "            await google.colab.kernel.invokeFunction('convertToInteractive',\n",
              "                                                     [key], {});\n",
              "          if (!dataTable) return;\n",
              "\n",
              "          const docLinkHtml = 'Like what you see? Visit the ' +\n",
              "            '<a target=\"_blank\" href=https://colab.research.google.com/notebooks/data_table.ipynb>data table notebook</a>'\n",
              "            + ' to learn more about interactive tables.';\n",
              "          element.innerHTML = '';\n",
              "          dataTable['output_type'] = 'display_data';\n",
              "          await google.colab.output.renderOutput(dataTable, element);\n",
              "          const docLink = document.createElement('div');\n",
              "          docLink.innerHTML = docLinkHtml;\n",
              "          element.appendChild(docLink);\n",
              "        }\n",
              "      </script>\n",
              "    </div>\n",
              "  </div>\n"
            ]
          },
          "metadata": {},
          "execution_count": 17
        }
      ],
      "source": [
        "articles.head(5)"
      ]
    },
    {
      "cell_type": "markdown",
      "source": [
        "```\n",
        "\tid\ttitle\tpublication\tauthor\tdate\tyear\tmonth\tcontent\n",
        "0\t17283\tHouse Republicans Fret About Winning Their Hea...\tNew York Times\tCarl Hulse\t2016-12-31\t2016\t12\tWASHINGTON — Congressional Republicans have...\n",
        "1\t17284\tRift Between Officers and Residents as Killing...\tNew York Times\tBenjamin Mueller and Al Baker\t2017-06-19\t2017\t6\tAfter the bullet shells get counted, the blood...\n",
        "2\t17285\tTyrus Wong, ‘Bambi’ Artist Thwarted by Racial ...\tNew York Times\tMargalit Fox\t2017-01-06\t2017\t1\tWhen Walt Disney’s “Bambi” opened in 1942, cri...\n",
        "3\t17286\tAmong Deaths in 2016, a Heavy Toll in Pop Musi...\tNew York Times\tWilliam McDonald\t2017-04-10\t2017\t4\tDeath may be the great equalizer, but it isn’t...\n",
        "4\t17287\tKim Jong-un Says North Korea Is Preparing to T...\tNew York Times\tChoe Sang-Hun\t2017-01-02\t2017\t1\tSEOUL, South Korea — North Korea’s leader, ...\n",
        "```"
      ],
      "metadata": {
        "id": "OQ4Ecb25kyIY"
      }
    },
    {
      "cell_type": "markdown",
      "metadata": {
        "id": "XwCF4v0Yogxu"
      },
      "source": [
        "Определите количество строк и столбцов в датафрейме (атрибут `shape`)"
      ]
    },
    {
      "cell_type": "code",
      "execution_count": null,
      "metadata": {
        "id": "moLW_YZ_ogxv",
        "colab": {
          "base_uri": "https://localhost:8080/"
        },
        "outputId": "0f8b6727-5138-4b35-873c-cf842da48623"
      },
      "outputs": [
        {
          "output_type": "execute_result",
          "data": {
            "text/plain": [
              "(50000, 8)"
            ]
          },
          "metadata": {},
          "execution_count": 18
        }
      ],
      "source": [
        "articles.shape"
      ]
    },
    {
      "cell_type": "markdown",
      "source": [
        "`(50000, 8)`"
      ],
      "metadata": {
        "id": "BndudeyMlAbh"
      }
    },
    {
      "cell_type": "markdown",
      "metadata": {
        "id": "ceevlcngogxw"
      },
      "source": [
        "Посмотрите, в каких столбцах есть пропуски (используйте методы ```isnull``` и ```sum```)"
      ]
    },
    {
      "cell_type": "code",
      "execution_count": null,
      "metadata": {
        "id": "63-WI3iFogxw",
        "colab": {
          "base_uri": "https://localhost:8080/"
        },
        "outputId": "687c8c9c-9e8b-471d-ffbd-aed16c80d882"
      },
      "outputs": [
        {
          "output_type": "execute_result",
          "data": {
            "text/plain": [
              "id                0\n",
              "title             0\n",
              "publication       0\n",
              "author         6306\n",
              "date              0\n",
              "year              0\n",
              "month             0\n",
              "content           0\n",
              "dtype: int64"
            ]
          },
          "metadata": {},
          "execution_count": 19
        }
      ],
      "source": [
        "articles.isnull().sum()"
      ]
    },
    {
      "cell_type": "markdown",
      "source": [
        "```\n",
        "id                0\n",
        "title             0\n",
        "publication       0\n",
        "author         6306\n",
        "date              0\n",
        "year              0\n",
        "month             0\n",
        "content           0\n",
        "dtype: int64\n",
        "```"
      ],
      "metadata": {
        "id": "5D27ke8RlHTp"
      }
    },
    {
      "cell_type": "markdown",
      "metadata": {
        "id": "C_aRGGRLogxw"
      },
      "source": [
        "Видим, что в колонке ```author``` есть пропуски.\n",
        "\n",
        "Посчитайте, какая доля пропусков содержится в этой колонке (используйте методы ```isnull``` и ```mean```)"
      ]
    },
    {
      "cell_type": "code",
      "execution_count": null,
      "metadata": {
        "id": "-Bzxinehogxx",
        "colab": {
          "base_uri": "https://localhost:8080/"
        },
        "outputId": "2ec0fece-2717-4d27-f0be-60cf3218c29b"
      },
      "outputs": [
        {
          "output_type": "execute_result",
          "data": {
            "text/plain": [
              "0.12612"
            ]
          },
          "metadata": {},
          "execution_count": 20
        }
      ],
      "source": [
        "articles['author'].isnull().mean()"
      ]
    },
    {
      "cell_type": "markdown",
      "source": [
        "`0.12612`"
      ],
      "metadata": {
        "id": "p2H-1Qu-lKwK"
      }
    },
    {
      "cell_type": "markdown",
      "metadata": {
        "id": "XvR8PawNogxx"
      },
      "source": [
        "Видим, что в колонке ```author``` 12% пропусков. Давайте удалим те строки, в которых пропущено значение в колонке ```author```"
      ]
    },
    {
      "cell_type": "markdown",
      "metadata": {
        "id": "UX8tzA7nogxy"
      },
      "source": [
        "Для этого используйте функцию ```dropna```, которой в качестве аргумента можно передать параметр ```axis```, чтобы удалить строки или столбцы с пропусками.\n",
        "\n",
        "Не забудьте, что чтобы сохранить результат удаления строк, нужно либо перезаписать датафрейм (```df = df.same_method()```), либо выставить в методе ```dropna``` параметр ```inplace=True```, который говорит о том, что операция будет производиться с самим датафреймом, а не с его копией\n"
      ]
    },
    {
      "cell_type": "code",
      "source": [
        "articles.dropna(inplace = True)"
      ],
      "metadata": {
        "id": "6Hj17DlSD57w"
      },
      "execution_count": null,
      "outputs": []
    },
    {
      "cell_type": "markdown",
      "metadata": {
        "id": "-ppAL-g3ogxy"
      },
      "source": [
        "Проверим размер датафрейма после удаления пропусков и убедимся, что в датафрейме теперь нет пропусков в данных"
      ]
    },
    {
      "cell_type": "code",
      "execution_count": null,
      "metadata": {
        "id": "IKBwrzSRogxz",
        "colab": {
          "base_uri": "https://localhost:8080/"
        },
        "outputId": "a229b7d7-ae5b-4661-85ea-7c7313aec509"
      },
      "outputs": [
        {
          "output_type": "execute_result",
          "data": {
            "text/plain": [
              "(43694, 8)"
            ]
          },
          "metadata": {},
          "execution_count": 22
        }
      ],
      "source": [
        "articles.shape"
      ]
    },
    {
      "cell_type": "markdown",
      "source": [
        "`(43694, 8)`"
      ],
      "metadata": {
        "id": "P-DoLhgFlVBW"
      }
    },
    {
      "cell_type": "code",
      "execution_count": null,
      "metadata": {
        "id": "VZmd3_7vogxz",
        "colab": {
          "base_uri": "https://localhost:8080/"
        },
        "outputId": "dd517127-2abd-4c5e-e69b-0026775e145a"
      },
      "outputs": [
        {
          "output_type": "execute_result",
          "data": {
            "text/plain": [
              "id             0\n",
              "title          0\n",
              "publication    0\n",
              "author         0\n",
              "date           0\n",
              "year           0\n",
              "month          0\n",
              "content        0\n",
              "dtype: int64"
            ]
          },
          "metadata": {},
          "execution_count": 23
        }
      ],
      "source": [
        "articles.isnull().sum()"
      ]
    },
    {
      "cell_type": "markdown",
      "source": [
        "```\n",
        "id             0\n",
        "title          0\n",
        "publication    0\n",
        "author         0\n",
        "date           0\n",
        "year           0\n",
        "month          0\n",
        "content        0\n",
        "dtype: int64\n",
        "```"
      ],
      "metadata": {
        "id": "d9W3MsTnlXPS"
      }
    },
    {
      "cell_type": "markdown",
      "metadata": {
        "id": "CCet7g-Hogxz"
      },
      "source": [
        "Проделайте следующие базовые операции с датафреймами:"
      ]
    },
    {
      "cell_type": "markdown",
      "metadata": {
        "id": "28Q9sO6aogxz"
      },
      "source": [
        "\n",
        "# Задача 1 +\n"
      ]
    },
    {
      "cell_type": "markdown",
      "source": [
        "Определите количество различных издательств в таблице и их имена (используйте для этого методы датафрейма ```unique``` или ```nunique```):"
      ],
      "metadata": {
        "id": "OS--17Qulvma"
      }
    },
    {
      "cell_type": "code",
      "source": [
        "articles['publication'].nunique()"
      ],
      "metadata": {
        "id": "32nqwH0-ccnW",
        "colab": {
          "base_uri": "https://localhost:8080/"
        },
        "outputId": "b72d25f3-2dfe-4635-8ebb-0ee3c8c0c27f"
      },
      "execution_count": null,
      "outputs": [
        {
          "output_type": "execute_result",
          "data": {
            "text/plain": [
              "5"
            ]
          },
          "metadata": {},
          "execution_count": 24
        }
      ]
    },
    {
      "cell_type": "markdown",
      "source": [
        "`5`"
      ],
      "metadata": {
        "id": "8tmACjP7dc-E"
      }
    },
    {
      "cell_type": "code",
      "execution_count": null,
      "metadata": {
        "id": "MZj6Oi8Qogx0",
        "colab": {
          "base_uri": "https://localhost:8080/"
        },
        "outputId": "2ab9bd4c-c4aa-4757-e18b-96a435615407"
      },
      "outputs": [
        {
          "output_type": "execute_result",
          "data": {
            "text/plain": [
              "array(['New York Times', 'Breitbart', 'CNN', 'Business Insider',\n",
              "       'Atlantic'], dtype=object)"
            ]
          },
          "metadata": {},
          "execution_count": 25
        }
      ],
      "source": [
        "articles['publication'].unique()"
      ]
    },
    {
      "cell_type": "markdown",
      "source": [
        "```\n",
        "array(['New York Times', 'Breitbart', 'CNN', 'Business Insider',\n",
        "       'Atlantic'], dtype=object)\n",
        "```"
      ],
      "metadata": {
        "id": "6FLDGdwbdfmh"
      }
    },
    {
      "cell_type": "markdown",
      "metadata": {
        "id": "0Jt6UCvfogx0"
      },
      "source": [
        "# Задача 2 +"
      ]
    },
    {
      "cell_type": "markdown",
      "source": [
        "Найдите количество опубликованных статей в отрезке с ```2016-06-03``` по ```2016-12-07``` (включая эти дни)\n",
        "\n",
        "Для этого используйте фильтрацию по условию. С датами можно обращаться просто как со строками.\n",
        "\n",
        "При желании это все можно написать одной строкой."
      ],
      "metadata": {
        "id": "0ImARIkdl1kt"
      }
    },
    {
      "cell_type": "markdown",
      "source": [
        "**Подсказка:** найдите строки c датой публикации ```>=``` стартовой даты и получите булеву маску. Аналогично получите булеву маску для второй даты. Затем с помощью операции ```&``` над двумя булевыми масками получите новый булев массив, в котором ```True``` будет стоять только у тех строк, у которых дата публикации попадает в желаемый отрезок. А затем используйте эту булеву маску как индексы датафрейма."
      ],
      "metadata": {
        "id": "oQynEOb-l4fb"
      }
    },
    {
      "cell_type": "code",
      "execution_count": null,
      "metadata": {
        "id": "9Qdh-Gxvogx1",
        "colab": {
          "base_uri": "https://localhost:8080/"
        },
        "outputId": "053f08cf-1b49-490e-bab3-fc62ff54a3f0"
      },
      "outputs": [
        {
          "output_type": "execute_result",
          "data": {
            "text/plain": [
              "15079"
            ]
          },
          "metadata": {},
          "execution_count": 26
        }
      ],
      "source": [
        "articles[(articles['date'] >= '2016-06-03') & (articles['date'] <= '2016-12-07')].count()[0]"
      ]
    },
    {
      "cell_type": "markdown",
      "source": [
        "`15079`"
      ],
      "metadata": {
        "id": "Vr6v2VAQdwqi"
      }
    },
    {
      "cell_type": "markdown",
      "metadata": {
        "id": "XQQ3Qkovogx1"
      },
      "source": [
        "# Задача 3 +"
      ]
    },
    {
      "cell_type": "markdown",
      "source": [
        "Какое издание выпустило больше всего статей в 2016 году?"
      ],
      "metadata": {
        "id": "_2socamRl91B"
      }
    },
    {
      "cell_type": "code",
      "source": [
        "articles['publication'][articles.groupby(['publication']).publication.count().max()]"
      ],
      "metadata": {
        "colab": {
          "base_uri": "https://localhost:8080/",
          "height": 35
        },
        "id": "hZM4MpJ-ei1q",
        "outputId": "c101bb85-94c1-4f38-8ec4-02c9519e88ae"
      },
      "execution_count": null,
      "outputs": [
        {
          "output_type": "execute_result",
          "data": {
            "text/plain": [
              "'Breitbart'"
            ],
            "application/vnd.google.colaboratory.intrinsic+json": {
              "type": "string"
            }
          },
          "metadata": {},
          "execution_count": 27
        }
      ]
    },
    {
      "cell_type": "markdown",
      "source": [
        "`'Breitbart'`"
      ],
      "metadata": {
        "id": "glldF4jxd0_e"
      }
    },
    {
      "cell_type": "markdown",
      "metadata": {
        "id": "JyygmXqdogx1"
      },
      "source": [
        "# Задача 4 +"
      ]
    },
    {
      "cell_type": "markdown",
      "source": [
        "Посчитайте количество статей автора *Tom Ciccotta* в каждом году.\n",
        "\n",
        "Для этого сначала отберите строки, в которых автором является *Tom Ciccotta*, а затем создайте счетчик из столбца ```year``` (для этого просто позовите метод ```value_counts()``` от столбца ```year```)"
      ],
      "metadata": {
        "id": "muPaLXTamApv"
      }
    },
    {
      "cell_type": "code",
      "execution_count": null,
      "metadata": {
        "id": "pTvLIbutogx2",
        "colab": {
          "base_uri": "https://localhost:8080/"
        },
        "outputId": "32619b0b-4a4a-4e4e-b906-1d39d7dbf6f6"
      },
      "outputs": [
        {
          "output_type": "execute_result",
          "data": {
            "text/plain": [
              "2017    132\n",
              "2016    124\n",
              "Name: year, dtype: int64"
            ]
          },
          "metadata": {},
          "execution_count": 28
        }
      ],
      "source": [
        "articles[articles['author'] == 'Tom Ciccotta'].year.value_counts()"
      ]
    },
    {
      "cell_type": "markdown",
      "source": [
        "```\n",
        "2017    132\n",
        "2016    124\n",
        "Name: year, dtype: int64\n",
        "```"
      ],
      "metadata": {
        "id": "fTazxCqNd3rT"
      }
    },
    {
      "cell_type": "markdown",
      "metadata": {
        "id": "yySMXrd2ogx2"
      },
      "source": [
        "## Задача 5 +"
      ]
    },
    {
      "cell_type": "markdown",
      "source": [
        "Выпишите названия 3х первых статей автора *John Hayward* в 2016 году.\n",
        "\n",
        "**Подсказка 1:** после отбора статей по автору и году, не забудте отсортировать датафрейм по столбцу даты публикации.\n",
        "\n",
        "**Подсказка 2:** срезы по строкам датафреймов работают так же, как срезы по спискам."
      ],
      "metadata": {
        "id": "3qdDYYJqmGM4"
      }
    },
    {
      "cell_type": "code",
      "execution_count": null,
      "metadata": {
        "id": "IZGcO-90ogx2",
        "colab": {
          "base_uri": "https://localhost:8080/"
        },
        "outputId": "ad736f10-39df-467d-ede0-65e429fd2d22"
      },
      "outputs": [
        {
          "output_type": "execute_result",
          "data": {
            "text/plain": [
              "16861    Islamic sharia law was enforced with canes onc...\n",
              "22041    The Islamic State has claimed responsibility f...\n",
              "27561    Protests over Saudi Arabia’s execution of Shii...\n",
              "Name: content, dtype: object"
            ]
          },
          "metadata": {},
          "execution_count": 29
        }
      ],
      "source": [
        "articles[(articles['author'] == 'John Hayward') & (articles['year'] == 2016)].sort_values(by='date').content[:3]"
      ]
    },
    {
      "cell_type": "markdown",
      "source": [
        "```\n",
        "array(['Indonesian Couple Beaten with Canes for Violating Sharia Law',\n",
        "       'Islamic State Claims Credit For Gun Attack On Russian Tourists',\n",
        "       'Protests Across India Against Saudi Execution of Shiite Cleric'],\n",
        "      dtype=object)\n",
        "```"
      ],
      "metadata": {
        "id": "lSjYtvgad-fS"
      }
    },
    {
      "cell_type": "markdown",
      "metadata": {
        "id": "I3NGnVn1ogx2"
      },
      "source": [
        "# Задача 6 +"
      ]
    },
    {
      "cell_type": "markdown",
      "source": [
        "Какой автор на сотом месте по количеству опубликованных статей? Сколько статей он опубликовал?\n",
        "\n",
        "**Подсказка:** для подсчета встречаемости значений используйте метод ```value_counts```. Для доступа к индексам полученного после ```value_counts``` ```pd.Series``` используйте атрибут ```index```"
      ],
      "metadata": {
        "id": "Quq3tUknmOPh"
      }
    },
    {
      "cell_type": "code",
      "source": [
        "# какое то время не мог понять в чем прикол с индексом, потом понял, что 'author' становится индексом в данном случае\n",
        "articles['author'].value_counts().index[99]"
      ],
      "metadata": {
        "colab": {
          "base_uri": "https://localhost:8080/",
          "height": 35
        },
        "id": "uEIj54aEiPU3",
        "outputId": "60c1255c-45d1-4a1f-af5f-e77896005220"
      },
      "execution_count": null,
      "outputs": [
        {
          "output_type": "execute_result",
          "data": {
            "text/plain": [
              "'Milo'"
            ],
            "application/vnd.google.colaboratory.intrinsic+json": {
              "type": "string"
            }
          },
          "metadata": {},
          "execution_count": 30
        }
      ]
    },
    {
      "cell_type": "markdown",
      "source": [
        "`'Milo'`"
      ],
      "metadata": {
        "id": "ltbFjaEBeNGh"
      }
    },
    {
      "cell_type": "code",
      "execution_count": null,
      "metadata": {
        "id": "AtCA-i2Kdq1_",
        "colab": {
          "base_uri": "https://localhost:8080/"
        },
        "outputId": "d03b04d3-fa34-410a-fa2a-4b5707067e85"
      },
      "outputs": [
        {
          "output_type": "execute_result",
          "data": {
            "text/plain": [
              "86"
            ]
          },
          "metadata": {},
          "execution_count": 31
        }
      ],
      "source": [
        "articles['author'].value_counts()[99]"
      ]
    },
    {
      "cell_type": "markdown",
      "source": [
        "`86`"
      ],
      "metadata": {
        "id": "yxSaaFGKeOW-"
      }
    },
    {
      "cell_type": "markdown",
      "metadata": {
        "id": "Rpu5t2tWogx3"
      },
      "source": [
        "# Работа со строками в датафрейме"
      ]
    },
    {
      "cell_type": "markdown",
      "source": [
        "Еще одной важной частью работы с данными является **нормализация данных**.\n",
        "\n",
        "Это особенно актуально при работе с данными в текством формате и при работе с данными из нескольких разнородных источников. Например, один и тот же номер телефона пользователя может записан в базах данных в разных форматах:\n",
        "\n",
        "- `+7(918)123-45-67`\n",
        "- `+7(918)1234567`\n",
        "- `+79181234567`\n",
        "- `+8(918)123-45-67`\n",
        "- `8(918)1234567`\n",
        "- `89181234567`\n",
        "\n",
        "Поэтому важно нормализовывать данные, чтобы иметь возможность объединить все данные, которые относятся к одному реальному объекту.\n",
        "\n",
        "Именно нормализации данных при работе со строками будем учиться в этой части домашней работы."
      ],
      "metadata": {
        "id": "f4h7ifAemrPq"
      }
    },
    {
      "cell_type": "markdown",
      "metadata": {
        "id": "Xkln992Bogx4"
      },
      "source": [
        "Для датафреймов существуют методы работы со строковыми данными. Чтобы применить их, необходимо воспользоваться атрибутом ```str```, после чего вызвать нужные методы работы со строками. Например, вызов:\n",
        "\n",
        "```df['content'].str.len() ```\n",
        "\n",
        "подсчитает для каждой строчки в датафрейме количество символов в колонке content. Примеры кода по работе с текстовыми данными в pandas можно найти в гайде [working with text data](https://pandas.pydata.org/pandas-docs/stable/user_guide/text.html) документации, там же вы найдете список методов пандаса по работе с текстовыми данными.\n"
      ]
    },
    {
      "cell_type": "markdown",
      "metadata": {
        "id": "jxENWKcYogx4"
      },
      "source": [
        "# Задача 7 +"
      ]
    },
    {
      "cell_type": "markdown",
      "source": [
        "Найдите в датафрейме всех авторов, имя которых содержит ```Faith```. Выведите Series, состоящий из всех таких уникальных имен."
      ],
      "metadata": {
        "id": "x9P6zjNQmwrG"
      }
    },
    {
      "cell_type": "code",
      "source": [
        "# почему то еще выводить некий nan , странно, попозже еще поковыряюсь\n",
        "articles['author'][articles['author'].str.find('Faith') != -1].unique()"
      ],
      "metadata": {
        "id": "5uP7vGeYj4lB",
        "colab": {
          "base_uri": "https://localhost:8080/"
        },
        "outputId": "956cf0f3-14f0-4f09-923e-23f0ff23a4f3"
      },
      "execution_count": null,
      "outputs": [
        {
          "output_type": "execute_result",
          "data": {
            "text/plain": [
              "array([' Faith Haleh Robinson', 'Faith Karimi', 'Faith Haleh Robinson',\n",
              "       'Faith Karimi,', 'Faith Karimi ', 'Faith Karimi, ',\n",
              "       ' Faith Karimi', ' Faith Karimi '], dtype=object)"
            ]
          },
          "metadata": {},
          "execution_count": 32
        }
      ]
    },
    {
      "cell_type": "markdown",
      "source": [
        "```\n",
        "0     Faith Haleh Robinson\n",
        "1             Faith Karimi\n",
        "2     Faith Haleh Robinson\n",
        "3            Faith Karimi,\n",
        "4            Faith Karimi\n",
        "5           Faith Karimi,\n",
        "6             Faith Karimi\n",
        "7            Faith Karimi\n",
        "dtype: object\n",
        "```"
      ],
      "metadata": {
        "id": "k4yoZNyzedCL"
      }
    },
    {
      "cell_type": "markdown",
      "metadata": {
        "id": "ra73RA_Rogx4"
      },
      "source": [
        "Как можно заметить, в таблице существует множество различных написаний имени Faith Karimi. В основном эти написания различаются пунктуацией - лишние пробелы и запятые. Для правильного подсчета статистик для текстовых данных зачастую возникает необходимость в их предобработке.\n",
        "\n",
        "**Методы строк** можно вспомнить по этой ссылке: https://pythonworld.ru/tipy-dannyx-v-python/stroki-funkcii-i-metody-strok.html\n",
        "\n",
        "Проведите следующие преобразования для колонок ```author``` и ```content```:"
      ]
    },
    {
      "cell_type": "markdown",
      "metadata": {
        "id": "sg9RTogiogx5"
      },
      "source": [
        "# Задача 8 +"
      ]
    },
    {
      "cell_type": "markdown",
      "source": [
        "Приведение текста к нижнему регистру:"
      ],
      "metadata": {
        "id": "Pk0XLWDrm5z9"
      }
    },
    {
      "cell_type": "code",
      "execution_count": null,
      "metadata": {
        "id": "cpwVoU3wogx5",
        "colab": {
          "base_uri": "https://localhost:8080/",
          "height": 206
        },
        "outputId": "f83dea30-5cf8-4e7c-c2a2-ad236b472c6a"
      },
      "outputs": [
        {
          "output_type": "execute_result",
          "data": {
            "text/plain": [
              "      id                                              title     publication  \\\n",
              "0  17283  House Republicans Fret About Winning Their Hea...  New York Times   \n",
              "1  17284  Rift Between Officers and Residents as Killing...  New York Times   \n",
              "2  17285  Tyrus Wong, ‘Bambi’ Artist Thwarted by Racial ...  New York Times   \n",
              "3  17286  Among Deaths in 2016, a Heavy Toll in Pop Musi...  New York Times   \n",
              "4  17287  Kim Jong-un Says North Korea Is Preparing to T...  New York Times   \n",
              "\n",
              "                          author        date  year  month  \\\n",
              "0                     carl hulse  2016-12-31  2016     12   \n",
              "1  benjamin mueller and al baker  2017-06-19  2017      6   \n",
              "2                   margalit fox  2017-01-06  2017      1   \n",
              "3               william mcdonald  2017-04-10  2017      4   \n",
              "4                  choe sang-hun  2017-01-02  2017      1   \n",
              "\n",
              "                                             content  \n",
              "0  washington  —   congressional republicans have...  \n",
              "1  after the bullet shells get counted, the blood...  \n",
              "2  when walt disney’s “bambi” opened in 1942, cri...  \n",
              "3  death may be the great equalizer, but it isn’t...  \n",
              "4  seoul, south korea  —   north korea’s leader, ...  "
            ],
            "text/html": [
              "\n",
              "\n",
              "  <div id=\"df-66615ae2-4326-4c3d-8413-7eaafb8e30fb\">\n",
              "    <div class=\"colab-df-container\">\n",
              "      <div>\n",
              "<style scoped>\n",
              "    .dataframe tbody tr th:only-of-type {\n",
              "        vertical-align: middle;\n",
              "    }\n",
              "\n",
              "    .dataframe tbody tr th {\n",
              "        vertical-align: top;\n",
              "    }\n",
              "\n",
              "    .dataframe thead th {\n",
              "        text-align: right;\n",
              "    }\n",
              "</style>\n",
              "<table border=\"1\" class=\"dataframe\">\n",
              "  <thead>\n",
              "    <tr style=\"text-align: right;\">\n",
              "      <th></th>\n",
              "      <th>id</th>\n",
              "      <th>title</th>\n",
              "      <th>publication</th>\n",
              "      <th>author</th>\n",
              "      <th>date</th>\n",
              "      <th>year</th>\n",
              "      <th>month</th>\n",
              "      <th>content</th>\n",
              "    </tr>\n",
              "  </thead>\n",
              "  <tbody>\n",
              "    <tr>\n",
              "      <th>0</th>\n",
              "      <td>17283</td>\n",
              "      <td>House Republicans Fret About Winning Their Hea...</td>\n",
              "      <td>New York Times</td>\n",
              "      <td>carl hulse</td>\n",
              "      <td>2016-12-31</td>\n",
              "      <td>2016</td>\n",
              "      <td>12</td>\n",
              "      <td>washington  —   congressional republicans have...</td>\n",
              "    </tr>\n",
              "    <tr>\n",
              "      <th>1</th>\n",
              "      <td>17284</td>\n",
              "      <td>Rift Between Officers and Residents as Killing...</td>\n",
              "      <td>New York Times</td>\n",
              "      <td>benjamin mueller and al baker</td>\n",
              "      <td>2017-06-19</td>\n",
              "      <td>2017</td>\n",
              "      <td>6</td>\n",
              "      <td>after the bullet shells get counted, the blood...</td>\n",
              "    </tr>\n",
              "    <tr>\n",
              "      <th>2</th>\n",
              "      <td>17285</td>\n",
              "      <td>Tyrus Wong, ‘Bambi’ Artist Thwarted by Racial ...</td>\n",
              "      <td>New York Times</td>\n",
              "      <td>margalit fox</td>\n",
              "      <td>2017-01-06</td>\n",
              "      <td>2017</td>\n",
              "      <td>1</td>\n",
              "      <td>when walt disney’s “bambi” opened in 1942, cri...</td>\n",
              "    </tr>\n",
              "    <tr>\n",
              "      <th>3</th>\n",
              "      <td>17286</td>\n",
              "      <td>Among Deaths in 2016, a Heavy Toll in Pop Musi...</td>\n",
              "      <td>New York Times</td>\n",
              "      <td>william mcdonald</td>\n",
              "      <td>2017-04-10</td>\n",
              "      <td>2017</td>\n",
              "      <td>4</td>\n",
              "      <td>death may be the great equalizer, but it isn’t...</td>\n",
              "    </tr>\n",
              "    <tr>\n",
              "      <th>4</th>\n",
              "      <td>17287</td>\n",
              "      <td>Kim Jong-un Says North Korea Is Preparing to T...</td>\n",
              "      <td>New York Times</td>\n",
              "      <td>choe sang-hun</td>\n",
              "      <td>2017-01-02</td>\n",
              "      <td>2017</td>\n",
              "      <td>1</td>\n",
              "      <td>seoul, south korea  —   north korea’s leader, ...</td>\n",
              "    </tr>\n",
              "  </tbody>\n",
              "</table>\n",
              "</div>\n",
              "      <button class=\"colab-df-convert\" onclick=\"convertToInteractive('df-66615ae2-4326-4c3d-8413-7eaafb8e30fb')\"\n",
              "              title=\"Convert this dataframe to an interactive table.\"\n",
              "              style=\"display:none;\">\n",
              "\n",
              "  <svg xmlns=\"http://www.w3.org/2000/svg\" height=\"24px\"viewBox=\"0 0 24 24\"\n",
              "       width=\"24px\">\n",
              "    <path d=\"M0 0h24v24H0V0z\" fill=\"none\"/>\n",
              "    <path d=\"M18.56 5.44l.94 2.06.94-2.06 2.06-.94-2.06-.94-.94-2.06-.94 2.06-2.06.94zm-11 1L8.5 8.5l.94-2.06 2.06-.94-2.06-.94L8.5 2.5l-.94 2.06-2.06.94zm10 10l.94 2.06.94-2.06 2.06-.94-2.06-.94-.94-2.06-.94 2.06-2.06.94z\"/><path d=\"M17.41 7.96l-1.37-1.37c-.4-.4-.92-.59-1.43-.59-.52 0-1.04.2-1.43.59L10.3 9.45l-7.72 7.72c-.78.78-.78 2.05 0 2.83L4 21.41c.39.39.9.59 1.41.59.51 0 1.02-.2 1.41-.59l7.78-7.78 2.81-2.81c.8-.78.8-2.07 0-2.86zM5.41 20L4 18.59l7.72-7.72 1.47 1.35L5.41 20z\"/>\n",
              "  </svg>\n",
              "      </button>\n",
              "\n",
              "\n",
              "\n",
              "    <div id=\"df-b8f9ae47-edfd-4950-9b64-1547ffd6ab8e\">\n",
              "      <button class=\"colab-df-quickchart\" onclick=\"quickchart('df-b8f9ae47-edfd-4950-9b64-1547ffd6ab8e')\"\n",
              "              title=\"Suggest charts.\"\n",
              "              style=\"display:none;\">\n",
              "\n",
              "<svg xmlns=\"http://www.w3.org/2000/svg\" height=\"24px\"viewBox=\"0 0 24 24\"\n",
              "     width=\"24px\">\n",
              "    <g>\n",
              "        <path d=\"M19 3H5c-1.1 0-2 .9-2 2v14c0 1.1.9 2 2 2h14c1.1 0 2-.9 2-2V5c0-1.1-.9-2-2-2zM9 17H7v-7h2v7zm4 0h-2V7h2v10zm4 0h-2v-4h2v4z\"/>\n",
              "    </g>\n",
              "</svg>\n",
              "      </button>\n",
              "    </div>\n",
              "\n",
              "<style>\n",
              "  .colab-df-quickchart {\n",
              "    background-color: #E8F0FE;\n",
              "    border: none;\n",
              "    border-radius: 50%;\n",
              "    cursor: pointer;\n",
              "    display: none;\n",
              "    fill: #1967D2;\n",
              "    height: 32px;\n",
              "    padding: 0 0 0 0;\n",
              "    width: 32px;\n",
              "  }\n",
              "\n",
              "  .colab-df-quickchart:hover {\n",
              "    background-color: #E2EBFA;\n",
              "    box-shadow: 0px 1px 2px rgba(60, 64, 67, 0.3), 0px 1px 3px 1px rgba(60, 64, 67, 0.15);\n",
              "    fill: #174EA6;\n",
              "  }\n",
              "\n",
              "  [theme=dark] .colab-df-quickchart {\n",
              "    background-color: #3B4455;\n",
              "    fill: #D2E3FC;\n",
              "  }\n",
              "\n",
              "  [theme=dark] .colab-df-quickchart:hover {\n",
              "    background-color: #434B5C;\n",
              "    box-shadow: 0px 1px 3px 1px rgba(0, 0, 0, 0.15);\n",
              "    filter: drop-shadow(0px 1px 2px rgba(0, 0, 0, 0.3));\n",
              "    fill: #FFFFFF;\n",
              "  }\n",
              "</style>\n",
              "\n",
              "    <script>\n",
              "      async function quickchart(key) {\n",
              "        const containerElement = document.querySelector('#' + key);\n",
              "        const charts = await google.colab.kernel.invokeFunction(\n",
              "            'suggestCharts', [key], {});\n",
              "      }\n",
              "    </script>\n",
              "\n",
              "      <script>\n",
              "\n",
              "function displayQuickchartButton(domScope) {\n",
              "  let quickchartButtonEl =\n",
              "    domScope.querySelector('#df-b8f9ae47-edfd-4950-9b64-1547ffd6ab8e button.colab-df-quickchart');\n",
              "  quickchartButtonEl.style.display =\n",
              "    google.colab.kernel.accessAllowed ? 'block' : 'none';\n",
              "}\n",
              "\n",
              "        displayQuickchartButton(document);\n",
              "      </script>\n",
              "      <style>\n",
              "    .colab-df-container {\n",
              "      display:flex;\n",
              "      flex-wrap:wrap;\n",
              "      gap: 12px;\n",
              "    }\n",
              "\n",
              "    .colab-df-convert {\n",
              "      background-color: #E8F0FE;\n",
              "      border: none;\n",
              "      border-radius: 50%;\n",
              "      cursor: pointer;\n",
              "      display: none;\n",
              "      fill: #1967D2;\n",
              "      height: 32px;\n",
              "      padding: 0 0 0 0;\n",
              "      width: 32px;\n",
              "    }\n",
              "\n",
              "    .colab-df-convert:hover {\n",
              "      background-color: #E2EBFA;\n",
              "      box-shadow: 0px 1px 2px rgba(60, 64, 67, 0.3), 0px 1px 3px 1px rgba(60, 64, 67, 0.15);\n",
              "      fill: #174EA6;\n",
              "    }\n",
              "\n",
              "    [theme=dark] .colab-df-convert {\n",
              "      background-color: #3B4455;\n",
              "      fill: #D2E3FC;\n",
              "    }\n",
              "\n",
              "    [theme=dark] .colab-df-convert:hover {\n",
              "      background-color: #434B5C;\n",
              "      box-shadow: 0px 1px 3px 1px rgba(0, 0, 0, 0.15);\n",
              "      filter: drop-shadow(0px 1px 2px rgba(0, 0, 0, 0.3));\n",
              "      fill: #FFFFFF;\n",
              "    }\n",
              "  </style>\n",
              "\n",
              "      <script>\n",
              "        const buttonEl =\n",
              "          document.querySelector('#df-66615ae2-4326-4c3d-8413-7eaafb8e30fb button.colab-df-convert');\n",
              "        buttonEl.style.display =\n",
              "          google.colab.kernel.accessAllowed ? 'block' : 'none';\n",
              "\n",
              "        async function convertToInteractive(key) {\n",
              "          const element = document.querySelector('#df-66615ae2-4326-4c3d-8413-7eaafb8e30fb');\n",
              "          const dataTable =\n",
              "            await google.colab.kernel.invokeFunction('convertToInteractive',\n",
              "                                                     [key], {});\n",
              "          if (!dataTable) return;\n",
              "\n",
              "          const docLinkHtml = 'Like what you see? Visit the ' +\n",
              "            '<a target=\"_blank\" href=https://colab.research.google.com/notebooks/data_table.ipynb>data table notebook</a>'\n",
              "            + ' to learn more about interactive tables.';\n",
              "          element.innerHTML = '';\n",
              "          dataTable['output_type'] = 'display_data';\n",
              "          await google.colab.output.renderOutput(dataTable, element);\n",
              "          const docLink = document.createElement('div');\n",
              "          docLink.innerHTML = docLinkHtml;\n",
              "          element.appendChild(docLink);\n",
              "        }\n",
              "      </script>\n",
              "    </div>\n",
              "  </div>\n"
            ]
          },
          "metadata": {},
          "execution_count": 33
        }
      ],
      "source": [
        "articles['author'] = articles['author'].str.lower()\n",
        "articles['content'] = articles['content'].str.lower()\n",
        "articles.head(5)"
      ]
    },
    {
      "cell_type": "markdown",
      "source": [
        "```\n",
        "     id\ttitle\tpublication\tauthor\tdate\tyear\tmonth\tcontent\n",
        "0\t17283\tHouse Republicans Fret About Winning Their Hea...\tNew York Times\tcarl hulse\t2016-12-31\t2016\t12\twashington — congressional republicans have...\n",
        "1\t17284\tRift Between Officers and Residents as Killing...\tNew York Times\tbenjamin mueller and al baker\t2017-06-19\t2017\t6\tafter the bullet shells get counted, the blood...\n",
        "2\t17285\tTyrus Wong, ‘Bambi’ Artist Thwarted by Racial ...\tNew York Times\tmargalit fox\t2017-01-06\t2017\t1\twhen walt disney’s “bambi” opened in 1942, cri...\n",
        "3\t17286\tAmong Deaths in 2016, a Heavy Toll in Pop Musi...\tNew York Times\twilliam mcdonald\t2017-04-10\t2017\t4\tdeath may be the great equalizer, but it isn’t...\n",
        "4\t17287\tKim Jong-un Says North Korea Is Preparing to T...\tNew York Times\tchoe sang-hun\t2017-01-02\t2017\t1\tseoul, south korea — north korea’s leader, ...\n",
        "```"
      ],
      "metadata": {
        "id": "gcf2w2zTfOvN"
      }
    },
    {
      "cell_type": "markdown",
      "metadata": {
        "id": "X74CppvJogx5"
      },
      "source": [
        "# Задача 9 +"
      ]
    },
    {
      "cell_type": "markdown",
      "source": [
        "Удаление всей пунктуации из текста.\n",
        "\n",
        "**Подсказка:** для вас уже создано начальное множество символов (достаточно ли его?). Символы надо исключить с помощью метода ```replace```."
      ],
      "metadata": {
        "id": "Z8pwc3LUm9sW"
      }
    },
    {
      "cell_type": "markdown",
      "source": [
        "Данного множества недостаточно, для примера, не хватает следующих символов: ’, ” и тд."
      ],
      "metadata": {
        "id": "Z5_hquhj70cO"
      }
    },
    {
      "cell_type": "code",
      "execution_count": null,
      "metadata": {
        "id": "7q3cAes_ogx5"
      },
      "outputs": [],
      "source": [
        "import string\n",
        "punctuation = list(string.punctuation + '”’.—')"
      ]
    },
    {
      "cell_type": "code",
      "execution_count": null,
      "metadata": {
        "id": "Znv69fOuogx6",
        "colab": {
          "base_uri": "https://localhost:8080/"
        },
        "outputId": "2775db54-297a-49c5-830f-d46268801f07"
      },
      "outputs": [
        {
          "output_type": "execute_result",
          "data": {
            "text/plain": [
              "['!',\n",
              " '\"',\n",
              " '#',\n",
              " '$',\n",
              " '%',\n",
              " '&',\n",
              " \"'\",\n",
              " '(',\n",
              " ')',\n",
              " '*',\n",
              " '+',\n",
              " ',',\n",
              " '-',\n",
              " '.',\n",
              " '/',\n",
              " ':',\n",
              " ';',\n",
              " '<',\n",
              " '=',\n",
              " '>',\n",
              " '?',\n",
              " '@',\n",
              " '[',\n",
              " '\\\\',\n",
              " ']',\n",
              " '^',\n",
              " '_',\n",
              " '`',\n",
              " '{',\n",
              " '|',\n",
              " '}',\n",
              " '~',\n",
              " '”',\n",
              " '’',\n",
              " '.',\n",
              " '—']"
            ]
          },
          "metadata": {},
          "execution_count": 93
        }
      ],
      "source": [
        "# может работать несколько секунд\n",
        "punctuation"
      ]
    },
    {
      "cell_type": "code",
      "source": [
        "for punc in punctuation:\n",
        "  articles['content'] = articles['content'].str.replace(punc, '')"
      ],
      "metadata": {
        "colab": {
          "base_uri": "https://localhost:8080/"
        },
        "id": "nVaCDa9Rz5M2",
        "outputId": "76e0a19f-b0db-4dae-9378-5a87a55a6506"
      },
      "execution_count": null,
      "outputs": [
        {
          "output_type": "stream",
          "name": "stderr",
          "text": [
            "<ipython-input-100-56d1cd66f076>:2: FutureWarning: The default value of regex will change from True to False in a future version. In addition, single character regular expressions will *not* be treated as literal strings when regex=True.\n",
            "  articles['content'] = articles['content'].str.replace(punc, '')\n"
          ]
        }
      ]
    },
    {
      "cell_type": "code",
      "execution_count": null,
      "metadata": {
        "id": "67xpski1ogx6",
        "colab": {
          "base_uri": "https://localhost:8080/",
          "height": 53
        },
        "outputId": "6a437151-a008-453f-f3f2-0533eacd0b2d"
      },
      "outputs": [
        {
          "output_type": "execute_result",
          "data": {
            "text/plain": [
              "'Back in the late 90s getting a startup big enough to get onto the stock market was the thing to do  Now a market crash a Great Recession and a possible   burst later     investors are  and the public stock market is increasingly volatile Still going public is often viewed as the end goal for ambitious young tech companies  Heres how and why startups wind up on the stock market     and why  Back in the late 90s getting a startup big '"
            ],
            "application/vnd.google.colaboratory.intrinsic+json": {
              "type": "string"
            }
          },
          "metadata": {},
          "execution_count": 101
        }
      ],
      "source": [
        "# пример того, что должно получиться после этого шага\n",
        "articles.content.loc[45926]"
      ]
    },
    {
      "cell_type": "markdown",
      "source": [
        "```\n",
        "'back in the late 90s getting a startup big enough to get onto the stock market was the thing to do  now a market crash a great recession and a possible burst later  investors are and the public stock market is increasingly volatile still going public is often viewed as the end goal for ambitious young tech companies  heres how and why startups wind up on the stock market  and why  back in the late 90s getting a startup big '\n",
        "```"
      ],
      "metadata": {
        "id": "gMQnnXElgR_e"
      }
    },
    {
      "cell_type": "markdown",
      "metadata": {
        "id": "bLCpap-nogx6"
      },
      "source": [
        "# Задача 10 +"
      ]
    },
    {
      "cell_type": "markdown",
      "source": [
        "Удаление пробелов в начале и конце строки (воспользуйтесь готовым методом):"
      ],
      "metadata": {
        "id": "Of73mm9WnFHa"
      }
    },
    {
      "cell_type": "code",
      "source": [
        "articles.content.str.strip()"
      ],
      "metadata": {
        "id": "Hbg9z8BACi9_",
        "colab": {
          "base_uri": "https://localhost:8080/"
        },
        "outputId": "d326f9fb-a82a-4c0e-ea11-1579083d6c41"
      },
      "execution_count": null,
      "outputs": [
        {
          "output_type": "execute_result",
          "data": {
            "text/plain": [
              "0        WASHINGTON     Congressional Republicans have ...\n",
              "1        After the bullet shells get counted the blood ...\n",
              "2        When Walt Disneys “Bambi opened in 1942 critic...\n",
              "3        Death may be the great equalizer but it isnt n...\n",
              "4        SEOUL South Korea     North Koreas leader Kim ...\n",
              "                               ...                        \n",
              "49995    As chairman and CEO of ExxonMobil Rex Tillerso...\n",
              "49996    Ive spent nearly 20 years looking at intellige...\n",
              "49997    Donald Trump will not be taking necessary step...\n",
              "49998    Dozens of   colleges could be forced to close ...\n",
              "49999    The force of gravity can be described using a ...\n",
              "Name: content, Length: 50000, dtype: object"
            ]
          },
          "metadata": {},
          "execution_count": 102
        }
      ]
    },
    {
      "cell_type": "code",
      "execution_count": null,
      "metadata": {
        "id": "6fEM9ws9ogx6",
        "colab": {
          "base_uri": "https://localhost:8080/",
          "height": 53
        },
        "outputId": "e0749c96-60ac-4b23-81e3-a0b27a021c9c"
      },
      "outputs": [
        {
          "output_type": "execute_result",
          "data": {
            "text/plain": [
              "'Back in the late 90s getting a startup big enough to get onto the stock market was the thing to do  Now a market crash a Great Recession and a possible   burst later     investors are  and the public stock market is increasingly volatile Still going public is often viewed as the end goal for ambitious young tech companies  Heres how and why startups wind up on the stock market     and why  Back in the late 90s getting a startup big '"
            ],
            "application/vnd.google.colaboratory.intrinsic+json": {
              "type": "string"
            }
          },
          "metadata": {},
          "execution_count": 103
        }
      ],
      "source": [
        "# check\n",
        "articles.content.loc[45926]"
      ]
    },
    {
      "cell_type": "markdown",
      "source": [
        "```\n",
        "'back in the late 90s getting a startup big enough to get onto the stock market was the thing to do  now a market crash a great recession and a possible burst later  investors are and the public stock market is increasingly volatile still going public is often viewed as the end goal for ambitious young tech companies  heres how and why startups wind up on the stock market  and why  back in the late 90s getting a startup big'\n",
        "```"
      ],
      "metadata": {
        "id": "7EyR7juAgYkz"
      }
    },
    {
      "cell_type": "markdown",
      "metadata": {
        "id": "j3rnMvbsogx6"
      },
      "source": [
        "\n",
        "\n",
        "# Задача 11 +"
      ]
    },
    {
      "cell_type": "markdown",
      "source": [
        "Замена подряд идущих пробелов одним пробелом:"
      ],
      "metadata": {
        "id": "wtINqVchnTXn"
      }
    },
    {
      "cell_type": "code",
      "source": [
        "# заменяем двойные пробелы с помощью регулярного выражения \\s+\n",
        "# Где:\n",
        "# \\s - любой пробельный символ\n",
        "# + - символ встречается 1 и более раз\n",
        "articles['content'].replace('\\s+', ' ', regex = True, inplace=True)"
      ],
      "metadata": {
        "id": "sjmXPb4qHDTF"
      },
      "execution_count": null,
      "outputs": []
    },
    {
      "cell_type": "code",
      "execution_count": null,
      "metadata": {
        "id": "lbxJXv7xogx7",
        "colab": {
          "base_uri": "https://localhost:8080/",
          "height": 53
        },
        "outputId": "5a223b20-a187-4285-d5a8-fecf7aa9ef1f"
      },
      "outputs": [
        {
          "output_type": "execute_result",
          "data": {
            "text/plain": [
              "'Back in the late 90s getting a startup big enough to get onto the stock market was the thing to do Now a market crash a Great Recession and a possible burst later investors are and the public stock market is increasingly volatile Still going public is often viewed as the end goal for ambitious young tech companies Heres how and why startups wind up on the stock market and why Back in the late 90s getting a startup big '"
            ],
            "application/vnd.google.colaboratory.intrinsic+json": {
              "type": "string"
            }
          },
          "metadata": {},
          "execution_count": 105
        }
      ],
      "source": [
        "# check\n",
        "articles.content.loc[45926]"
      ]
    },
    {
      "cell_type": "markdown",
      "source": [
        "```\n",
        "'back in the late 90s getting a startup big enough to get onto the stock market was the thing to do now a market crash a great recession and a possible burst later investors are and the public stock market is increasingly volatile still going public is often viewed as the end goal for ambitious young tech companies heres how and why startups wind up on the stock market and why back in the late 90s getting a startup big'\n",
        "```"
      ],
      "metadata": {
        "id": "L3sE4ksVgeim"
      }
    },
    {
      "cell_type": "markdown",
      "metadata": {
        "id": "-qYZmgxcogx7"
      },
      "source": [
        "Если последовательно применить код из задач 8-11 к строке ```\"   It's 6 a.m. and I'm still doing this homework :((    \"```, то она преобразуется в строку  ```its 6 am and im still doing this homework```"
      ]
    },
    {
      "cell_type": "code",
      "source": [],
      "metadata": {
        "id": "IkdwmaFiPt11"
      },
      "execution_count": null,
      "outputs": []
    },
    {
      "cell_type": "markdown",
      "metadata": {
        "id": "KLd2agwGogx7"
      },
      "source": [
        "\n",
        "Снова найдите в датафрейме всех авторов, имя которых содержит faith. Проверьте, что теперь различные способы написания «схлопываются» в один."
      ]
    },
    {
      "cell_type": "code",
      "execution_count": null,
      "metadata": {
        "id": "1ocDvicfogx7",
        "colab": {
          "base_uri": "https://localhost:8080/"
        },
        "outputId": "e5eb3f0c-6b73-4239-c4b1-6a50cb9e7c10"
      },
      "outputs": [
        {
          "output_type": "execute_result",
          "data": {
            "text/plain": [
              "array([nan, ' Faith Haleh Robinson', 'Faith Karimi',\n",
              "       'Faith Haleh Robinson', 'Faith Karimi,', 'Faith Karimi ',\n",
              "       'Faith Karimi, ', ' Faith Karimi', ' Faith Karimi '], dtype=object)"
            ]
          },
          "metadata": {},
          "execution_count": 108
        }
      ],
      "source": [
        "articles['author'][articles['author'].str.find('Faith') != -1].unique()"
      ]
    },
    {
      "cell_type": "markdown",
      "source": [
        "```\n",
        "0    faith haleh robinson\n",
        "1            faith karimi\n",
        "dtype: object\n",
        "```"
      ],
      "metadata": {
        "id": "wUCdNA7sgkIR"
      }
    }
  ],
  "metadata": {
    "colab": {
      "provenance": [],
      "toc_visible": true
    },
    "kernelspec": {
      "display_name": "Python 3 (ipykernel)",
      "language": "python",
      "name": "python3"
    },
    "language_info": {
      "codemirror_mode": {
        "name": "ipython",
        "version": 3
      },
      "file_extension": ".py",
      "mimetype": "text/x-python",
      "name": "python",
      "nbconvert_exporter": "python",
      "pygments_lexer": "ipython3",
      "version": "3.8.12"
    }
  },
  "nbformat": 4,
  "nbformat_minor": 0
}