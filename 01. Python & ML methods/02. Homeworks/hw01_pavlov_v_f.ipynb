{
  "cells": [
    {
      "cell_type": "markdown",
      "metadata": {
        "toc": true,
        "id": "EraZiaVDkhCp"
      },
      "source": [
        "<h1>Table of Contents<span class=\"tocSkip\"></span></h1>\n",
        "<div class=\"toc\"><ul class=\"toc-item\"><li><span><a href=\"#Домашнее-задание-1\" data-toc-modified-id=\"Домашнее-задание-1-1\"><span class=\"toc-item-num\">1&nbsp;&nbsp;</span>Домашнее задание 1</a></span><ul class=\"toc-item\"><li><span><a href=\"#Задача-1.-Большая-из-двух-строк\" data-toc-modified-id=\"Задача-1.-Большая-из-двух-строк-1.1\"><span class=\"toc-item-num\">1.1&nbsp;&nbsp;</span>Задача 1. Большая из двух строк</a></span><ul class=\"toc-item\"><li><span><a href=\"#Пример\" data-toc-modified-id=\"Пример-1.1.1\"><span class=\"toc-item-num\">1.1.1&nbsp;&nbsp;</span>Пример</a></span></li></ul></li><li><span><a href=\"#Задача-2.-Встречающиеся-символы\" data-toc-modified-id=\"Задача-2.-Встречающиеся-символы-1.2\"><span class=\"toc-item-num\">1.2&nbsp;&nbsp;</span>Задача 2. Встречающиеся символы</a></span><ul class=\"toc-item\"><li><span><a href=\"#Пример\" data-toc-modified-id=\"Пример-1.2.1\"><span class=\"toc-item-num\">1.2.1&nbsp;&nbsp;</span>Пример</a></span></li></ul></li><li><span><a href=\"#Задача-3.-100-раз-подряд-в-квадрате\" data-toc-modified-id=\"Задача-3.-100-раз-подряд-в-квадрате-1.3\"><span class=\"toc-item-num\">1.3&nbsp;&nbsp;</span>Задача 3. 100 раз подряд в квадрате</a></span><ul class=\"toc-item\"><li><span><a href=\"#Пример\" data-toc-modified-id=\"Пример-1.3.1\"><span class=\"toc-item-num\">1.3.1&nbsp;&nbsp;</span>Пример</a></span></li></ul></li><li><span><a href=\"#Задача-4.-Проверка-палиндрома\" data-toc-modified-id=\"Задача-4.-Проверка-палиндрома-1.4\"><span class=\"toc-item-num\">1.4&nbsp;&nbsp;</span>Задача 4. Проверка палиндрома</a></span><ul class=\"toc-item\"><li><span><a href=\"#Пример\" data-toc-modified-id=\"Пример-1.4.1\"><span class=\"toc-item-num\">1.4.1&nbsp;&nbsp;</span>Пример</a></span></li></ul></li><li><span><a href=\"#Задача-5.-Преобразования-времени\" data-toc-modified-id=\"Задача-5.-Преобразования-времени-1.5\"><span class=\"toc-item-num\">1.5&nbsp;&nbsp;</span>Задача 5. Преобразования времени</a></span><ul class=\"toc-item\"><li><span><a href=\"#Пример\" data-toc-modified-id=\"Пример-1.5.1\"><span class=\"toc-item-num\">1.5.1&nbsp;&nbsp;</span>Пример</a></span></li></ul></li><li><span><a href=\"#Задача-6.-Расширение-файла\" data-toc-modified-id=\"Задача-6.-Расширение-файла-1.6\"><span class=\"toc-item-num\">1.6&nbsp;&nbsp;</span>Задача 6. Расширение файла</a></span><ul class=\"toc-item\"><li><span><a href=\"#Пример\" data-toc-modified-id=\"Пример-1.6.1\"><span class=\"toc-item-num\">1.6.1&nbsp;&nbsp;</span>Пример</a></span></li></ul></li><li><span><a href=\"#Задача-7.-Обмен-значениями\" data-toc-modified-id=\"Задача-7.-Обмен-значениями-1.7\"><span class=\"toc-item-num\">1.7&nbsp;&nbsp;</span>Задача 7. Обмен значениями</a></span><ul class=\"toc-item\"><li><span><a href=\"#Пример\" data-toc-modified-id=\"Пример-1.7.1\"><span class=\"toc-item-num\">1.7.1&nbsp;&nbsp;</span>Пример</a></span></li></ul></li><li><span><a href=\"#Задача-8.-Уникальное-содержимое\" data-toc-modified-id=\"Задача-8.-Уникальное-содержимое-1.8\"><span class=\"toc-item-num\">1.8&nbsp;&nbsp;</span>Задача 8. Уникальное содержимое</a></span><ul class=\"toc-item\"><li><span><a href=\"#Пример\" data-toc-modified-id=\"Пример-1.8.1\"><span class=\"toc-item-num\">1.8.1&nbsp;&nbsp;</span>Пример</a></span></li></ul></li><li><span><a href=\"#Задача-9.-Простой-анализ-рынка\" data-toc-modified-id=\"Задача-9.-Простой-анализ-рынка-1.9\"><span class=\"toc-item-num\">1.9&nbsp;&nbsp;</span>Задача 9. Простой анализ рынка</a></span><ul class=\"toc-item\"><li><span><a href=\"#Пример\" data-toc-modified-id=\"Пример-1.9.1\"><span class=\"toc-item-num\">1.9.1&nbsp;&nbsp;</span>Пример</a></span></li></ul></li><li><span><a href=\"#Задача-10.-Частичный-разворот\" data-toc-modified-id=\"Задача-10.-Частичный-разворот-1.10\"><span class=\"toc-item-num\">1.10&nbsp;&nbsp;</span>Задача 10. Частичный разворот</a></span><ul class=\"toc-item\"><li><span><a href=\"#Пример\" data-toc-modified-id=\"Пример-1.10.1\"><span class=\"toc-item-num\">1.10.1&nbsp;&nbsp;</span>Пример</a></span></li></ul></li></ul></li></ul></div>"
      ]
    },
    {
      "cell_type": "markdown",
      "metadata": {
        "id": "EVbqAmZF1ckK"
      },
      "source": [
        "# Домашнее задание 1"
      ]
    },
    {
      "cell_type": "markdown",
      "metadata": {
        "id": "QMlUzOq0oAI5"
      },
      "source": [
        "## Задача 1. Большая из двух строк\n",
        "\n",
        "Вы получаете на вход две строки. Нужно вывести только ту, что является лексикографически больше."
      ]
    },
    {
      "cell_type": "markdown",
      "metadata": {
        "id": "LqTAjBrNzVw9"
      },
      "source": [
        "### Пример\n",
        "\n",
        "**Ввод:**\n",
        "\n",
        "```\n",
        "string_b\n",
        "string_a\n",
        "```\n",
        "\n",
        "**Вывод:**\n",
        "\n",
        "```\n",
        "string_b\n",
        "```"
      ]
    },
    {
      "cell_type": "code",
      "execution_count": null,
      "metadata": {
        "id": "s8S2idAn-C8R",
        "outputId": "c3c5aa15-b714-470f-d13e-95be9c9c6d40"
      },
      "outputs": [
        {
          "name": "stdout",
          "output_type": "stream",
          "text": [
            "Введите строку 1: string_b\n",
            "Введите строку 2: string_a\n"
          ]
        }
      ],
      "source": [
        "a = input(\"Введите строку 1: \")\n",
        "b = input(\"Введите строку 2: \")"
      ]
    },
    {
      "cell_type": "code",
      "execution_count": null,
      "metadata": {
        "id": "rwJIfKOdnfGW",
        "outputId": "1616db15-7bf0-4956-b76c-312367fb178b"
      },
      "outputs": [
        {
          "name": "stdout",
          "output_type": "stream",
          "text": [
            "string_b\n"
          ]
        }
      ],
      "source": [
        "if a > b:\n",
        "    print(a)\n",
        "elif b > a:\n",
        "    print(b)\n",
        "else:\n",
        "    print('Строки Лексикографически равны')"
      ]
    },
    {
      "cell_type": "markdown",
      "metadata": {
        "id": "0PxuwdtZoB9-"
      },
      "source": [
        "## Задача 2. Встречающиеся символы\n",
        "\n",
        "Вы получаете на вход две строки. Нужно вывести все уникальные символы, которые встречаются хотя бы в одной из этих строк."
      ]
    },
    {
      "cell_type": "markdown",
      "metadata": {
        "id": "euYQ05rO0Be9"
      },
      "source": [
        "### Пример\n",
        "\n",
        "**Ввод:**\n",
        "\n",
        "```\n",
        "aabccdee\n",
        "ddeffggaaz\n",
        "```\n",
        "\n",
        "**Вывод:**\n",
        "\n",
        "```\n",
        "abcdefgz\n",
        "```"
      ]
    },
    {
      "cell_type": "code",
      "execution_count": null,
      "metadata": {
        "id": "hScgKDMq-bx4",
        "outputId": "0fd0ae28-9f69-4138-b0c3-37ebfaaffe3f"
      },
      "outputs": [
        {
          "name": "stdout",
          "output_type": "stream",
          "text": [
            "Введите строку 1: aabccdee\n",
            "Введите строку 2: ddeffggaaz\n"
          ]
        }
      ],
      "source": [
        "a = input(\"Введите строку 1: \")\n",
        "b = input(\"Введите строку 2: \")"
      ]
    },
    {
      "cell_type": "code",
      "execution_count": null,
      "metadata": {
        "id": "sU5KMCcbkhCz",
        "outputId": "0346c60e-a469-4eb1-f925-1e8afe6fbd5e"
      },
      "outputs": [
        {
          "name": "stdout",
          "output_type": "stream",
          "text": [
            "bcgazdfe\n"
          ]
        }
      ],
      "source": [
        "s_set = set(a + b)\n",
        "print(*s_set, sep='')"
      ]
    },
    {
      "cell_type": "markdown",
      "metadata": {
        "id": "H71MtrI6khCz"
      },
      "source": [
        "Получил уникальные символы через множество.\n",
        "\n",
        "Не знаю, важно ли, чтобы у нас символы выводились именно в порядке abcdefgz?"
      ]
    },
    {
      "cell_type": "markdown",
      "metadata": {
        "id": "D-7vU_xMoGXW"
      },
      "source": [
        "## Задача 3. 100 раз подряд в квадрате\n",
        "\n",
        "Вы получаете на вход число `n`. Нужно записать его 100 раз подряд, а затем вывести квадрат этого числа.\n",
        "\n",
        "$$n\\to\\underbrace{nnn\\ldots n}_{100\\text{ раз}}\\to(\\underbrace{nnn\\ldots n}_{100\\text{ раз}})^2$$"
      ]
    },
    {
      "cell_type": "markdown",
      "metadata": {
        "id": "Po1h0VLB0LiQ"
      },
      "source": [
        "### Пример\n",
        "\n",
        "**Ввод:**\n",
        "\n",
        "```\n",
        "1\n",
        "```\n",
        "\n",
        "**Вывод:**\n",
        "\n",
        "```\n",
        "1234567901234567901234567901234567901234567901234567901234567901234567901234567901234567901234567900987654320987654320987654320987654320987654320987654320987654320987654320987654320987654320987654321\n",
        "```"
      ]
    },
    {
      "cell_type": "code",
      "execution_count": null,
      "metadata": {
        "id": "VDcFSgAtS_kD",
        "outputId": "3fe5b775-8ea9-4842-d4ea-423937f6d63f",
        "colab": {
          "base_uri": "https://localhost:8080/"
        }
      },
      "outputs": [
        {
          "name": "stdout",
          "output_type": "stream",
          "text": [
            "Введите число n: 1\n"
          ]
        }
      ],
      "source": [
        "n = int(input('Введите число n: '))"
      ]
    },
    {
      "cell_type": "code",
      "execution_count": null,
      "metadata": {
        "id": "ORxlMF5XoHaf",
        "outputId": "3be4f55f-1875-4419-de91-edcb92444854"
      },
      "outputs": [
        {
          "name": "stdout",
          "output_type": "stream",
          "text": [
            "1234567901234567901234567901234567901234567901234567901234567901234567901234567901234567901234567900987654320987654320987654320987654320987654320987654320987654320987654320987654320987654320987654321\n"
          ]
        }
      ],
      "source": [
        "# мое первое решение\n",
        "\n",
        "s = str(n)\n",
        "res = str()\n",
        "for i in range(100):\n",
        "    res += s\n",
        "\n",
        "print(int(res) ** 2)\n",
        ""
      ]
    },
    {
      "cell_type": "code",
      "source": [
        "# Исправленное решение без цикла.\n",
        "# Не подумал я про умножение строки на число)\n",
        "\n",
        "s = str(n) * 100  # переводим в строку а записываем сто раз\n",
        "s = int(s)  # переводим число к инту, чтобы возвести в квадрат\n",
        "s = s ** 2  # возводим в квадрат\n",
        "print(s)  # выводим результат"
      ],
      "metadata": {
        "colab": {
          "base_uri": "https://localhost:8080/"
        },
        "id": "5Rt6JAg8xYV9",
        "outputId": "c087e1e4-8f36-47dd-a836-035b75bd1a4b"
      },
      "execution_count": null,
      "outputs": [
        {
          "output_type": "stream",
          "name": "stdout",
          "text": [
            "1234567901234567901234567901234567901234567901234567901234567901234567901234567901234567901234567900987654320987654320987654320987654320987654320987654320987654320987654320987654320987654320987654321\n"
          ]
        }
      ]
    },
    {
      "cell_type": "markdown",
      "metadata": {
        "id": "LZFh27IYoH-M"
      },
      "source": [
        "## Задача 4. Проверка палиндрома\n",
        "\n",
        "Напишите проверку на то, является ли строка палиндромом. Палиндром — это слово или фраза, которые одинаково читаются слева направо и справа налево."
      ]
    },
    {
      "cell_type": "markdown",
      "metadata": {
        "id": "kZiGtagN0rn1"
      },
      "source": [
        "### Пример\n",
        "\n",
        "**Ввод:**\n",
        "\n",
        "```\n",
        "saippuakivikauppias\n",
        "```\n",
        "\n",
        "**Вывод:**\n",
        "\n",
        "```\n",
        "True\n",
        "```"
      ]
    },
    {
      "cell_type": "code",
      "execution_count": null,
      "metadata": {
        "id": "dbmC6TJNTERJ",
        "outputId": "1fcc1f6b-4cf9-49cc-9981-964c7f4fa3d9"
      },
      "outputs": [
        {
          "name": "stdout",
          "output_type": "stream",
          "text": [
            "Введите строку для проверки: saippuakivikauppias\n"
          ]
        }
      ],
      "source": [
        "string = input('Введите строку для проверки: ')"
      ]
    },
    {
      "cell_type": "code",
      "execution_count": null,
      "metadata": {
        "id": "VqX0WpalkhC2",
        "outputId": "8bd22833-68c9-4728-f2aa-2ddab2d668e7"
      },
      "outputs": [
        {
          "data": {
            "text/plain": [
              "True"
            ]
          },
          "execution_count": 14,
          "metadata": {},
          "output_type": "execute_result"
        }
      ],
      "source": [
        "string == string[::-1]    #Эту задачку легко решить через срез"
      ]
    },
    {
      "cell_type": "markdown",
      "metadata": {
        "id": "0dG5QsDnoJw4"
      },
      "source": [
        "## Задача 5. Преобразования времени\n",
        "\n",
        "Преобразуйте количество секунд в формат `дни:часы:минуты:секунды` (без использования `datetime`)."
      ]
    },
    {
      "cell_type": "markdown",
      "metadata": {
        "id": "oFDgkaCb1gjT"
      },
      "source": [
        "### Пример\n",
        "\n",
        "**Ввод:**\n",
        "\n",
        "```\n",
        "90061\n",
        "```\n",
        "\n",
        "**Вывод:**\n",
        "\n",
        "```\n",
        "1:1:1:1\n",
        "```"
      ]
    },
    {
      "cell_type": "code",
      "execution_count": null,
      "metadata": {
        "id": "riZL3l86TJ2Z",
        "outputId": "9c4c3353-dc4e-4068-89f4-f45911d9d3a0"
      },
      "outputs": [
        {
          "name": "stdout",
          "output_type": "stream",
          "text": [
            "Введите число секунд90061\n"
          ]
        }
      ],
      "source": [
        "seconds = int(input(\"Введите число секунд\"))"
      ]
    },
    {
      "cell_type": "code",
      "execution_count": null,
      "metadata": {
        "id": "hZ9eY7HsoKyd"
      },
      "outputs": [],
      "source": [
        "d = 60 * 60 * 24    #секунд в сутках\n",
        "h = 60 * 60         #секунд в часах\n",
        "m = 60              #секунд в минуте\n",
        "s = '%'"
      ]
    },
    {
      "cell_type": "code",
      "execution_count": null,
      "metadata": {
        "id": "Uvz4l1eVkhC3"
      },
      "outputs": [],
      "source": [
        "days = seconds // d    #вычисляю дни"
      ]
    },
    {
      "cell_type": "code",
      "execution_count": null,
      "metadata": {
        "id": "gsxRD0xvkhC3"
      },
      "outputs": [],
      "source": [
        "hours = (seconds - days * d) // h    #вычисляю часы"
      ]
    },
    {
      "cell_type": "code",
      "execution_count": null,
      "metadata": {
        "id": "2cFeb1aHkhC3"
      },
      "outputs": [],
      "source": [
        "minutes = (seconds - days * d - hours * h) // m    #вычисляю минуты"
      ]
    },
    {
      "cell_type": "code",
      "execution_count": null,
      "metadata": {
        "id": "GQH19ExdkhC4"
      },
      "outputs": [],
      "source": [
        "sec = (seconds - days * d - hours * h - minutes * m)    #вычисляю секунды"
      ]
    },
    {
      "cell_type": "code",
      "execution_count": null,
      "metadata": {
        "id": "hzXDbrTDkhC4",
        "outputId": "7bac0c47-beb7-4001-a4f3-772325dcbb80"
      },
      "outputs": [
        {
          "name": "stdout",
          "output_type": "stream",
          "text": [
            "1:1:1:1\n"
          ]
        }
      ],
      "source": [
        "print(days, hours, minutes, sec, sep = ':')"
      ]
    },
    {
      "cell_type": "markdown",
      "metadata": {
        "id": "RONwF247oOGw"
      },
      "source": [
        "## Задача 6. Расширение файла\n",
        "\n",
        "Вы получаете на вход имя файла. Необходимо вывести его расширение. Если расширения у файла нет, выводите `\"Нет расширения\"`.\n",
        "\n",
        "Под разрешением файла понимают определённую последовательность букв или цифр, отделенную от основного имени файла точкой.\n",
        "\n",
        "**Примечание:** для файла `not_a_virus.jpg.exe` расширением является `.exe`, а не `.jpg.exe`."
      ]
    },
    {
      "cell_type": "markdown",
      "metadata": {
        "id": "LTt6E0kH1xRk"
      },
      "source": [
        "### Пример\n",
        "\n",
        "**Ввод:**\n",
        "\n",
        "```\n",
        "absolutely_not_a_virus.exe\n",
        "```\n",
        "\n",
        "**Вывод:**\n",
        "\n",
        "```\n",
        ".exe\n",
        "```"
      ]
    },
    {
      "cell_type": "code",
      "execution_count": null,
      "metadata": {
        "id": "QLVzQwCqkhC5"
      },
      "outputs": [],
      "source": [
        "#мое первое решение через цикл\n",
        "\n",
        "def file_extension(filename):\n",
        "    result = str()\n",
        "    error = 'Нет расширения'\n",
        "    if '.' in filename:\n",
        "        for i in range(len(filename) - 1, 0, -1):\n",
        "            result += filename[i]\n",
        "            if filename[i] == '.':\n",
        "                break\n",
        "        return print(result[::-1])\n",
        "    else:\n",
        "        return print(error)"
      ]
    },
    {
      "cell_type": "code",
      "source": [
        "# Второе решение без цикла\n",
        "def file_extension_2(filename):\n",
        "  error = 'Нет расширения'\n",
        "  if filename.rfind('.') == -1:\n",
        "    return print(error)\n",
        "  else:\n",
        "    return print(filename[filename.rfind('.'):])"
      ],
      "metadata": {
        "id": "Y7d1du0KVf_r"
      },
      "execution_count": null,
      "outputs": []
    },
    {
      "cell_type": "code",
      "source": [
        "filename.rfind('.') == -1"
      ],
      "metadata": {
        "colab": {
          "base_uri": "https://localhost:8080/"
        },
        "id": "ifi8pQFPWI1z",
        "outputId": "d4f05ee6-bd33-4735-ee5e-3a11911c1ef0"
      },
      "execution_count": null,
      "outputs": [
        {
          "output_type": "execute_result",
          "data": {
            "text/plain": [
              "True"
            ]
          },
          "metadata": {},
          "execution_count": 7
        }
      ]
    },
    {
      "cell_type": "markdown",
      "metadata": {
        "id": "nsjfCzrokhC5"
      },
      "source": [
        "Проверка функции"
      ]
    },
    {
      "cell_type": "code",
      "execution_count": null,
      "metadata": {
        "id": "vtdlFYq6Ei3o",
        "outputId": "ac50084b-a6b4-42a3-e9bd-0b9e07a27e8e",
        "colab": {
          "base_uri": "https://localhost:8080/"
        }
      },
      "outputs": [
        {
          "name": "stdout",
          "output_type": "stream",
          "text": [
            "Введите имя файла: absolutely_not_a_virus.exe\n"
          ]
        }
      ],
      "source": [
        "filename = input(\"Введите имя файла: \")"
      ]
    },
    {
      "cell_type": "code",
      "execution_count": null,
      "metadata": {
        "id": "PRW_DSDVkhC5",
        "outputId": "b7c4756d-d092-4b9f-c257-b6786c813900"
      },
      "outputs": [
        {
          "name": "stdout",
          "output_type": "stream",
          "text": [
            ".exe\n"
          ]
        }
      ],
      "source": [
        "# Проверка первого варианта функции\n",
        "file_extension(filename)"
      ]
    },
    {
      "cell_type": "code",
      "source": [
        "# Проверка второго варианта функции\n",
        "file_extension_2(filename)"
      ],
      "metadata": {
        "colab": {
          "base_uri": "https://localhost:8080/"
        },
        "id": "2JRcTs30WxWk",
        "outputId": "6b7f05b9-038e-446e-e45f-65a8f2ea57b2"
      },
      "execution_count": null,
      "outputs": [
        {
          "output_type": "stream",
          "name": "stdout",
          "text": [
            ".exe\n"
          ]
        }
      ]
    },
    {
      "cell_type": "markdown",
      "metadata": {
        "id": "uQ0raFjUkhC5"
      },
      "source": [
        "Проверка на отсутствие расширения"
      ]
    },
    {
      "cell_type": "code",
      "execution_count": null,
      "metadata": {
        "id": "nWx57tLckhC6",
        "outputId": "88c834f4-0a3c-4c39-ebc7-7952acd28a60",
        "colab": {
          "base_uri": "https://localhost:8080/"
        }
      },
      "outputs": [
        {
          "name": "stdout",
          "output_type": "stream",
          "text": [
            "Введите имя файла: absolutely_not_a_virusexe\n"
          ]
        }
      ],
      "source": [
        "filename = input(\"Введите имя файла: \")"
      ]
    },
    {
      "cell_type": "code",
      "execution_count": null,
      "metadata": {
        "id": "CHY9UuLSkhC6",
        "outputId": "64237862-c3d0-4205-dfc6-e5f3fea95641",
        "colab": {
          "base_uri": "https://localhost:8080/"
        }
      },
      "outputs": [
        {
          "output_type": "stream",
          "name": "stdout",
          "text": [
            "Нет расширения\n"
          ]
        }
      ],
      "source": [
        "# Проверка первого варианта функции\n",
        "file_extension(filename)"
      ]
    },
    {
      "cell_type": "code",
      "source": [
        "# Проверка второго варианта функции\n",
        "file_extension_2(filename)"
      ],
      "metadata": {
        "colab": {
          "base_uri": "https://localhost:8080/"
        },
        "id": "TrDFiHfgXPqA",
        "outputId": "d967eabc-216c-44c3-cd3b-81c4646a41b2"
      },
      "execution_count": null,
      "outputs": [
        {
          "output_type": "stream",
          "name": "stdout",
          "text": [
            "Нет расширения\n"
          ]
        }
      ]
    },
    {
      "cell_type": "markdown",
      "metadata": {
        "id": "FRaMg1KnkhC6"
      },
      "source": [
        "Проверка на расширение длинной больше 3 символов"
      ]
    },
    {
      "cell_type": "code",
      "execution_count": null,
      "metadata": {
        "id": "B_33ulJAkhDE",
        "outputId": "832c83ec-3885-4d84-f886-81d18dbaee3a",
        "colab": {
          "base_uri": "https://localhost:8080/"
        }
      },
      "outputs": [
        {
          "name": "stdout",
          "output_type": "stream",
          "text": [
            "Введите имя файла: Проверка_Расширения.ipynb\n"
          ]
        }
      ],
      "source": [
        "filename = input(\"Введите имя файла: \")"
      ]
    },
    {
      "cell_type": "code",
      "execution_count": null,
      "metadata": {
        "id": "LIULvMWwkhDE",
        "outputId": "c858a931-73b9-41c1-bbc5-f72b0071d71f",
        "colab": {
          "base_uri": "https://localhost:8080/"
        }
      },
      "outputs": [
        {
          "output_type": "stream",
          "name": "stdout",
          "text": [
            ".ipynb\n"
          ]
        }
      ],
      "source": [
        "# Проверка первого варианта функции\n",
        "file_extension(filename)"
      ]
    },
    {
      "cell_type": "code",
      "source": [
        "# Проверка второго варианта функции\n",
        "file_extension_2(filename)"
      ],
      "metadata": {
        "id": "d192fpKnXaI-",
        "outputId": "e21aa448-8527-4e33-c7b6-05d81493689b",
        "colab": {
          "base_uri": "https://localhost:8080/"
        }
      },
      "execution_count": null,
      "outputs": [
        {
          "output_type": "stream",
          "name": "stdout",
          "text": [
            ".ipynb\n"
          ]
        }
      ]
    },
    {
      "cell_type": "markdown",
      "metadata": {
        "id": "FF0C3-cTp0uy"
      },
      "source": [
        "## Задача 7. Обмен значениями\n",
        "\n",
        "Поменяйте значения переменных местами."
      ]
    },
    {
      "cell_type": "markdown",
      "metadata": {
        "id": "VXdwo36R1929"
      },
      "source": [
        "### Пример\n",
        "\n",
        "**Ввод:**\n",
        "\n",
        "```\n",
        "variable1\n",
        "variable2\n",
        "```\n",
        "\n",
        "**Вывод:**\n",
        "\n",
        "```\n",
        "variable2\n",
        "variable1\n",
        "```"
      ]
    },
    {
      "cell_type": "markdown",
      "metadata": {
        "id": "HyLVts9_khDF"
      },
      "source": [
        "Обмен значений знаю, очень крутая штука в пайтоне)"
      ]
    },
    {
      "cell_type": "code",
      "execution_count": null,
      "metadata": {
        "id": "KRHJfO1dcwNr",
        "outputId": "2f6f2617-cea7-40d2-c1a8-44b4dd1f87bc"
      },
      "outputs": [
        {
          "name": "stdout",
          "output_type": "stream",
          "text": [
            "variable1\n",
            "variable2\n"
          ]
        }
      ],
      "source": [
        "val1 = input()\n",
        "val2 = input()"
      ]
    },
    {
      "cell_type": "code",
      "execution_count": null,
      "metadata": {
        "id": "1BLkWTA5p2FZ"
      },
      "outputs": [],
      "source": [
        "def change_values(val1, val2):\n",
        "    val1, val2 = val2, val1\n",
        "    return print(val1, val2, sep='\\n')"
      ]
    },
    {
      "cell_type": "code",
      "execution_count": null,
      "metadata": {
        "id": "TJ5gtZoEkhDG",
        "outputId": "12c4300c-44e1-4159-fe71-3214ece1d13b"
      },
      "outputs": [
        {
          "name": "stdout",
          "output_type": "stream",
          "text": [
            "variable2\n",
            "variable1\n"
          ]
        }
      ],
      "source": [
        "change_values(val1, val2)"
      ]
    },
    {
      "cell_type": "markdown",
      "metadata": {
        "id": "I2x5B2_Np9kO"
      },
      "source": [
        "## Задача 8. Уникальное содержимое\n",
        "\n",
        "Вы получаете на вход строку. Нужно проверить, все ли символы в ней уникальны (встречаются в строке только один раз), и вывести `True`, если все символы уникальные, иначе `False`."
      ]
    },
    {
      "cell_type": "markdown",
      "metadata": {
        "id": "XELI_NG82FMH"
      },
      "source": [
        "### Пример\n",
        "\n",
        "**Ввод:**\n",
        "\n",
        "```\n",
        "эй,жлоб!Гдетуз?Прячьюныхсъёмщицвшкаф.\n",
        "```\n",
        "\n",
        "**Вывод:**\n",
        "\n",
        "```\n",
        "True\n",
        "```"
      ]
    },
    {
      "cell_type": "code",
      "execution_count": null,
      "metadata": {
        "id": "eS-5cLEDkhDG"
      },
      "outputs": [],
      "source": [
        "def unique_symbol(s):\n",
        "    s_set = set(string)\n",
        "    if len(string) == len(s_set):\n",
        "        return print('True')\n",
        "    else:\n",
        "        return print('False')"
      ]
    },
    {
      "cell_type": "code",
      "execution_count": null,
      "metadata": {
        "id": "f9t98R-5EUU4",
        "outputId": "50d787da-dd54-47e7-95fa-2dd8233b788e"
      },
      "outputs": [
        {
          "name": "stdout",
          "output_type": "stream",
          "text": [
            "Введите строку: эй,жлоб!Гдетуз?Прячьюныхсъёмщицвшкаф.\n"
          ]
        }
      ],
      "source": [
        "string = input(\"Введите строку: \")"
      ]
    },
    {
      "cell_type": "code",
      "execution_count": null,
      "metadata": {
        "id": "gsiB8H61p_Bb",
        "outputId": "f3f5017d-ee8d-405c-e78f-ec4c72dec9f0"
      },
      "outputs": [
        {
          "name": "stdout",
          "output_type": "stream",
          "text": [
            "True\n"
          ]
        }
      ],
      "source": [
        "unique_symbol(string)"
      ]
    },
    {
      "cell_type": "markdown",
      "metadata": {
        "id": "Dj3SgDdLahaZ"
      },
      "source": [
        "## Задача 9. Простой анализ рынка\n",
        "\n",
        "Вы принимаете на ввод с клавиатуры целое число. Необходимо вывести `\"цена выше рынка\"`, если число выше 1200, `\"цена ниже рыночной\"`, если число меньше 800 и `\"все ок\"` в остальных случаях."
      ]
    },
    {
      "cell_type": "markdown",
      "metadata": {
        "id": "PZGXP0gR3Mqw"
      },
      "source": [
        "### Пример\n",
        "\n",
        "**Ввод:**\n",
        "\n",
        "```\n",
        "1400\n",
        "```\n",
        "\n",
        "**Вывод:**\n",
        "\n",
        "```\n",
        "цена выше рынка\n",
        "```"
      ]
    },
    {
      "cell_type": "code",
      "execution_count": null,
      "metadata": {
        "id": "J3GbLr6cJia7",
        "outputId": "2c1fc0ca-0434-4fc7-da7e-85699302ca4e"
      },
      "outputs": [
        {
          "name": "stdout",
          "output_type": "stream",
          "text": [
            "Введите цену: 799\n"
          ]
        }
      ],
      "source": [
        "price = int(input(\"Введите цену: \"))"
      ]
    },
    {
      "cell_type": "code",
      "execution_count": null,
      "metadata": {
        "id": "jVi685NrawKc"
      },
      "outputs": [],
      "source": [
        "def market(price):\n",
        "    if price > 1200:\n",
        "        return print('цена выше рынка')\n",
        "    elif price < 800:\n",
        "        return print('цена ниже рыночной')\n",
        "    else:\n",
        "        return print('все ок')"
      ]
    },
    {
      "cell_type": "code",
      "execution_count": null,
      "metadata": {
        "id": "Y9SvelS5khDI",
        "outputId": "aec1e4bd-9785-408a-a1a0-0679639077ce"
      },
      "outputs": [
        {
          "name": "stdout",
          "output_type": "stream",
          "text": [
            "цена ниже рыночной\n"
          ]
        }
      ],
      "source": [
        "market(price)"
      ]
    },
    {
      "cell_type": "code",
      "execution_count": null,
      "metadata": {
        "id": "6ZLwxhcVkhDI",
        "outputId": "2a43b0c5-90d4-437d-db91-5800b0ed3ef8"
      },
      "outputs": [
        {
          "name": "stdout",
          "output_type": "stream",
          "text": [
            "Введите цену: 1199\n"
          ]
        }
      ],
      "source": [
        "price = int(input(\"Введите цену: \"))"
      ]
    },
    {
      "cell_type": "code",
      "execution_count": null,
      "metadata": {
        "id": "wOd9U-YzkhDJ",
        "outputId": "58830fdc-2c06-4cbb-a724-5b53f545cb55"
      },
      "outputs": [
        {
          "name": "stdout",
          "output_type": "stream",
          "text": [
            "все ок\n"
          ]
        }
      ],
      "source": [
        "market(price)"
      ]
    },
    {
      "cell_type": "code",
      "execution_count": null,
      "metadata": {
        "id": "Zof0V7w8khDJ",
        "outputId": "6878df65-6305-4f6a-e00c-dd9c58662946"
      },
      "outputs": [
        {
          "name": "stdout",
          "output_type": "stream",
          "text": [
            "Введите цену: 1201\n"
          ]
        }
      ],
      "source": [
        "price = int(input(\"Введите цену: \"))"
      ]
    },
    {
      "cell_type": "code",
      "execution_count": null,
      "metadata": {
        "id": "WkT8NU9BkhDJ",
        "outputId": "e97a1200-dc0c-445e-a5e4-68ecc5e86bfe"
      },
      "outputs": [
        {
          "name": "stdout",
          "output_type": "stream",
          "text": [
            "цена выше рынка\n"
          ]
        }
      ],
      "source": [
        "market(price)"
      ]
    },
    {
      "cell_type": "markdown",
      "metadata": {
        "id": "rO-Amdrhbfc5"
      },
      "source": [
        "## Задача 10. Частичный разворот\n",
        "\n",
        "Вы принимаете на вход строку. Необходимо переставить символы этой строки с **нечетными индексами** в обратном порядке и вывести получившуюся строку.\n",
        "\n",
        "**Подсказка:** срезы можно использовать не только, чтобы получить элементы строки, но и чтобы присвоить элементы строки."
      ]
    },
    {
      "cell_type": "markdown",
      "metadata": {
        "id": "j7r_BtmI3SkH"
      },
      "source": [
        "### Пример\n",
        "\n",
        "**Ввод:**\n",
        "\n",
        "```\n",
        "0123456789\n",
        "```\n",
        "\n",
        "**Вывод:**\n",
        "\n",
        "```\n",
        "0927456381\n",
        "```"
      ]
    },
    {
      "cell_type": "markdown",
      "metadata": {
        "id": "B3tfPsYfkhDK"
      },
      "source": [
        "Я вот подсказку не понял, так что у меня вопрос.\n",
        "Строки же не изменные, я могу разве что новую строку перенабрать, но мне кажется это гемморой и проще конвертнуть в список это дело.\n",
        "\n",
        "Терпеть не могу строки за то , что их отдельные символы нельзя поменять с помощью срезов ыуы"
      ]
    },
    {
      "cell_type": "code",
      "execution_count": null,
      "metadata": {
        "id": "R--qKZF5Jv29",
        "outputId": "4813b681-35a0-4593-a24c-f3a430625749"
      },
      "outputs": [
        {
          "name": "stdout",
          "output_type": "stream",
          "text": [
            "Введите строку: 0123456789\n"
          ]
        }
      ],
      "source": [
        "string = input(\"Введите строку: \")"
      ]
    },
    {
      "cell_type": "code",
      "execution_count": null,
      "metadata": {
        "id": "e3SdQqGLbnI9"
      },
      "outputs": [],
      "source": [
        "def mirror(string):\n",
        "    l1 = list(string)\n",
        "    l2 = list(string)\n",
        "    l1[1::2], l2[::-2] = l2[::-2], l1[1::2]\n",
        "    return print(*l1, sep='')"
      ]
    },
    {
      "cell_type": "code",
      "execution_count": null,
      "metadata": {
        "id": "A-MJQNgfkhDK",
        "outputId": "5bd1c03e-3a17-45af-954a-836f6d2d8c7a"
      },
      "outputs": [
        {
          "name": "stdout",
          "output_type": "stream",
          "text": [
            "0927456381\n"
          ]
        }
      ],
      "source": [
        "mirror(string)"
      ]
    },
    {
      "cell_type": "code",
      "execution_count": null,
      "metadata": {
        "id": "USIrkV-ukhDL",
        "outputId": "02e6113a-b726-405d-be96-8835f5f80ca4"
      },
      "outputs": [
        {
          "ename": "TypeError",
          "evalue": "'str' object does not support item assignment",
          "output_type": "error",
          "traceback": [
            "\u001b[1;31m---------------------------------------------------------------------------\u001b[0m",
            "\u001b[1;31mTypeError\u001b[0m                                 Traceback (most recent call last)",
            "Input \u001b[1;32mIn [206]\u001b[0m, in \u001b[0;36m<cell line: 2>\u001b[1;34m()\u001b[0m\n\u001b[0;32m      1\u001b[0m \u001b[38;5;66;03m#Если пытаться сделать то же самое со строкой, то ничего не получится\u001b[39;00m\n\u001b[1;32m----> 2\u001b[0m string[\u001b[38;5;241m1\u001b[39m::\u001b[38;5;241m2\u001b[39m], string[::\u001b[38;5;241m-\u001b[39m\u001b[38;5;241m2\u001b[39m] \u001b[38;5;241m=\u001b[39m string[::\u001b[38;5;241m-\u001b[39m\u001b[38;5;241m2\u001b[39m], string[\u001b[38;5;241m1\u001b[39m::\u001b[38;5;241m2\u001b[39m]\n",
            "\u001b[1;31mTypeError\u001b[0m: 'str' object does not support item assignment"
          ]
        }
      ],
      "source": [
        "#Если пытаться сделать то же самое со строкой, то ничего не получится\n",
        "string[1::2], string[::-2] = string[::-2], string[1::2]"
      ]
    },
    {
      "cell_type": "code",
      "execution_count": null,
      "metadata": {
        "id": "MoMM8m78khDL",
        "outputId": "d4e8e632-ef9c-4be0-b8f3-acdd3c9bcc1f"
      },
      "outputs": [
        {
          "ename": "TypeError",
          "evalue": "'str' object does not support item assignment",
          "output_type": "error",
          "traceback": [
            "\u001b[1;31m---------------------------------------------------------------------------\u001b[0m",
            "\u001b[1;31mTypeError\u001b[0m                                 Traceback (most recent call last)",
            "Input \u001b[1;32mIn [208]\u001b[0m, in \u001b[0;36m<cell line: 1>\u001b[1;34m()\u001b[0m\n\u001b[1;32m----> 1\u001b[0m string[\u001b[38;5;241m2\u001b[39m] \u001b[38;5;241m=\u001b[39m string[\u001b[38;5;241m-\u001b[39m\u001b[38;5;241m2\u001b[39m]\n",
            "\u001b[1;31mTypeError\u001b[0m: 'str' object does not support item assignment"
          ]
        }
      ],
      "source": [
        "string[2] = string[-2]"
      ]
    }
  ],
  "metadata": {
    "colab": {
      "provenance": [],
      "toc_visible": true
    },
    "kernelspec": {
      "display_name": "Python 3 (ipykernel)",
      "language": "python",
      "name": "python3"
    },
    "language_info": {
      "codemirror_mode": {
        "name": "ipython",
        "version": 3
      },
      "file_extension": ".py",
      "mimetype": "text/x-python",
      "name": "python",
      "nbconvert_exporter": "python",
      "pygments_lexer": "ipython3",
      "version": "3.9.12"
    },
    "toc": {
      "base_numbering": 1,
      "nav_menu": {},
      "number_sections": true,
      "sideBar": true,
      "skip_h1_title": false,
      "title_cell": "Table of Contents",
      "title_sidebar": "Contents",
      "toc_cell": true,
      "toc_position": {},
      "toc_section_display": true,
      "toc_window_display": true
    }
  },
  "nbformat": 4,
  "nbformat_minor": 0
}