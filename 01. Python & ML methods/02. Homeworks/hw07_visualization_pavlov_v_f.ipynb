{
  "nbformat": 4,
  "nbformat_minor": 0,
  "metadata": {
    "kernelspec": {
      "display_name": "Python 3",
      "language": "python",
      "name": "python3"
    },
    "language_info": {
      "codemirror_mode": {
        "name": "ipython",
        "version": 3
      },
      "file_extension": ".py",
      "mimetype": "text/x-python",
      "name": "python",
      "nbconvert_exporter": "python",
      "pygments_lexer": "ipython3",
      "version": "3.8.7"
    },
    "colab": {
      "provenance": []
    }
  },
  "cells": [
    {
      "cell_type": "markdown",
      "source": [
        "# Домашнее задание 7. Визуализация данных"
      ],
      "metadata": {
        "id": "B7TpktH--KyR"
      }
    },
    {
      "cell_type": "markdown",
      "metadata": {
        "id": "lAwiybQ1dKsp"
      },
      "source": [
        "Вся работа состоит из трех больших блоков:\n",
        "\n",
        "- Базовые операции с датафреймами\n",
        "- Вычисление новых признаков и группировка данных\n",
        "- Визуализация данных"
      ]
    },
    {
      "cell_type": "markdown",
      "source": [
        "**Авторские подсказки**\n",
        "\n",
        "Во многих заданиях вам даны авторские подсказки - результат выполнения авторского кода для решения этой задачи. Они вам даны просто для понимания, в правильном ли направлении вы идете. Формат вывода вашего кода не обязательно должен совпадать с форматом в подсказках. Ячейки с ответом изменять не рекомендуется - проводите эксперименты в новых.\n"
      ],
      "metadata": {
        "id": "7ZQsh6Sicp28"
      }
    },
    {
      "cell_type": "markdown",
      "metadata": {
        "id": "C8oqsuokdKsw"
      },
      "source": [
        "# Описание задачи"
      ]
    },
    {
      "cell_type": "markdown",
      "metadata": {
        "id": "S2bpR0JFdKsw"
      },
      "source": [
        "**Задача кредитного скоринга** - одна из наиболее популярных областей в банковской индустрии, где применяется анализ данных"
      ]
    },
    {
      "cell_type": "markdown",
      "source": [
        "Признаки клиентов банка:\n",
        "\n",
        "- ```age``` - возраст (вещественный)\n",
        "- ```MonthlyIncome``` - месячный доход (вещественный)\n",
        "- ```DebtRatio``` - Debt-to-income Ratio (вещественный)\n",
        "- ```NumberOfOpenCreditLinesAndLoans``` - число заемов и кредитных линий\n",
        "- ```NumberRealEstateLoansOrLines``` - число ипотек и заемов, связанных с недвижимостью (натуральное число)\n",
        "- ```NumberOfDependents``` - число членов семьи, которых содержит клиент, исключая самого клиента (натуральное число)\n",
        "- ```defaulted``` - выплачен или не выплачен в конечном итоге кредит заемщиком\n",
        "\n",
        "В этой работе мы будем исследовать данные о заемщиках и научимся отвечать на вопросы о предоставленных нам данных."
      ],
      "metadata": {
        "id": "tzBEfSvcdBLb"
      }
    },
    {
      "cell_type": "markdown",
      "metadata": {
        "id": "AOZIK42cdKsx"
      },
      "source": [
        "# Базовые операции с датафреймами"
      ]
    },
    {
      "cell_type": "markdown",
      "source": [],
      "metadata": {
        "id": "XVdO6j3m8zW7"
      }
    },
    {
      "cell_type": "markdown",
      "metadata": {
        "id": "mTo-0lPcdKsy"
      },
      "source": [
        "## Задача 1 +"
      ]
    },
    {
      "cell_type": "markdown",
      "source": [
        "Скачайте набор данных:"
      ],
      "metadata": {
        "id": "3LVFD2v1dKYC"
      }
    },
    {
      "cell_type": "code",
      "source": [
        "!gdown 1Y327Wvlw1GVY1SSTJ4g6DuTujCFc5TsH"
      ],
      "metadata": {
        "id": "-UnkK0S5j5DE",
        "colab": {
          "base_uri": "https://localhost:8080/"
        },
        "outputId": "31ba13aa-88a2-49ea-a897-684346e69fe8"
      },
      "execution_count": null,
      "outputs": [
        {
          "output_type": "stream",
          "name": "stdout",
          "text": [
            "Downloading...\n",
            "From: https://drive.google.com/uc?id=1Y327Wvlw1GVY1SSTJ4g6DuTujCFc5TsH\n",
            "To: /content/credit_data.csv\n",
            "100% 4.55M/4.55M [00:00<00:00, 19.8MB/s]\n"
          ]
        }
      ]
    },
    {
      "cell_type": "markdown",
      "metadata": {
        "id": "Q0B5b3KEdKsy"
      },
      "source": [
        "Считайте файл ```credit_data.csv``` в переменную ```df```:"
      ]
    },
    {
      "cell_type": "code",
      "metadata": {
        "id": "HbGK5vY1dKsz"
      },
      "source": [
        "import pandas as pd"
      ],
      "execution_count": null,
      "outputs": []
    },
    {
      "cell_type": "code",
      "metadata": {
        "id": "9_C1hDfQdKs1"
      },
      "source": [
        "df = pd.read_csv('credit_data.csv')"
      ],
      "execution_count": null,
      "outputs": []
    },
    {
      "cell_type": "markdown",
      "metadata": {
        "id": "6-O-oItxdKs1"
      },
      "source": [
        "Определите размер таблицы:"
      ]
    },
    {
      "cell_type": "code",
      "metadata": {
        "id": "H5ifn6UwdKs2",
        "colab": {
          "base_uri": "https://localhost:8080/"
        },
        "outputId": "52536d36-d6b1-4f2b-a8df-23be7247a3ed"
      },
      "source": [
        "df.shape"
      ],
      "execution_count": null,
      "outputs": [
        {
          "output_type": "execute_result",
          "data": {
            "text/plain": [
              "(150000, 7)"
            ]
          },
          "metadata": {},
          "execution_count": 93
        }
      ]
    },
    {
      "cell_type": "markdown",
      "source": [
        "```(150000, 7)```"
      ],
      "metadata": {
        "id": "gbZCbMVKX_PE"
      }
    },
    {
      "cell_type": "markdown",
      "metadata": {
        "id": "OlUIqfSTdKs3"
      },
      "source": [
        "Посмотрите первые пять строк:"
      ]
    },
    {
      "cell_type": "code",
      "metadata": {
        "id": "wWJXhdxcdKs4",
        "colab": {
          "base_uri": "https://localhost:8080/",
          "height": 206
        },
        "outputId": "879ff9ab-2ff8-4c7d-c7a3-0b9ec07f32a1"
      },
      "source": [
        "df.head()"
      ],
      "execution_count": null,
      "outputs": [
        {
          "output_type": "execute_result",
          "data": {
            "text/plain": [
              "   defaulted  age  DebtRatio  MonthlyIncome  NumberOfOpenCreditLinesAndLoans  \\\n",
              "0          1   45   0.802982         9120.0                               13   \n",
              "1          0   40   0.121876         2600.0                                4   \n",
              "2          0   38   0.085113         3042.0                                2   \n",
              "3          0   30   0.036050         3300.0                                5   \n",
              "4          0   49   0.024926        63588.0                                7   \n",
              "\n",
              "   NumberRealEstateLoansOrLines  NumberOfDependents  \n",
              "0                             6                 2.0  \n",
              "1                             0                 1.0  \n",
              "2                             0                 0.0  \n",
              "3                             0                 0.0  \n",
              "4                             1                 0.0  "
            ],
            "text/html": [
              "\n",
              "\n",
              "  <div id=\"df-6bc07fba-323a-47ec-aa05-25ee92fb388e\">\n",
              "    <div class=\"colab-df-container\">\n",
              "      <div>\n",
              "<style scoped>\n",
              "    .dataframe tbody tr th:only-of-type {\n",
              "        vertical-align: middle;\n",
              "    }\n",
              "\n",
              "    .dataframe tbody tr th {\n",
              "        vertical-align: top;\n",
              "    }\n",
              "\n",
              "    .dataframe thead th {\n",
              "        text-align: right;\n",
              "    }\n",
              "</style>\n",
              "<table border=\"1\" class=\"dataframe\">\n",
              "  <thead>\n",
              "    <tr style=\"text-align: right;\">\n",
              "      <th></th>\n",
              "      <th>defaulted</th>\n",
              "      <th>age</th>\n",
              "      <th>DebtRatio</th>\n",
              "      <th>MonthlyIncome</th>\n",
              "      <th>NumberOfOpenCreditLinesAndLoans</th>\n",
              "      <th>NumberRealEstateLoansOrLines</th>\n",
              "      <th>NumberOfDependents</th>\n",
              "    </tr>\n",
              "  </thead>\n",
              "  <tbody>\n",
              "    <tr>\n",
              "      <th>0</th>\n",
              "      <td>1</td>\n",
              "      <td>45</td>\n",
              "      <td>0.802982</td>\n",
              "      <td>9120.0</td>\n",
              "      <td>13</td>\n",
              "      <td>6</td>\n",
              "      <td>2.0</td>\n",
              "    </tr>\n",
              "    <tr>\n",
              "      <th>1</th>\n",
              "      <td>0</td>\n",
              "      <td>40</td>\n",
              "      <td>0.121876</td>\n",
              "      <td>2600.0</td>\n",
              "      <td>4</td>\n",
              "      <td>0</td>\n",
              "      <td>1.0</td>\n",
              "    </tr>\n",
              "    <tr>\n",
              "      <th>2</th>\n",
              "      <td>0</td>\n",
              "      <td>38</td>\n",
              "      <td>0.085113</td>\n",
              "      <td>3042.0</td>\n",
              "      <td>2</td>\n",
              "      <td>0</td>\n",
              "      <td>0.0</td>\n",
              "    </tr>\n",
              "    <tr>\n",
              "      <th>3</th>\n",
              "      <td>0</td>\n",
              "      <td>30</td>\n",
              "      <td>0.036050</td>\n",
              "      <td>3300.0</td>\n",
              "      <td>5</td>\n",
              "      <td>0</td>\n",
              "      <td>0.0</td>\n",
              "    </tr>\n",
              "    <tr>\n",
              "      <th>4</th>\n",
              "      <td>0</td>\n",
              "      <td>49</td>\n",
              "      <td>0.024926</td>\n",
              "      <td>63588.0</td>\n",
              "      <td>7</td>\n",
              "      <td>1</td>\n",
              "      <td>0.0</td>\n",
              "    </tr>\n",
              "  </tbody>\n",
              "</table>\n",
              "</div>\n",
              "      <button class=\"colab-df-convert\" onclick=\"convertToInteractive('df-6bc07fba-323a-47ec-aa05-25ee92fb388e')\"\n",
              "              title=\"Convert this dataframe to an interactive table.\"\n",
              "              style=\"display:none;\">\n",
              "\n",
              "  <svg xmlns=\"http://www.w3.org/2000/svg\" height=\"24px\"viewBox=\"0 0 24 24\"\n",
              "       width=\"24px\">\n",
              "    <path d=\"M0 0h24v24H0V0z\" fill=\"none\"/>\n",
              "    <path d=\"M18.56 5.44l.94 2.06.94-2.06 2.06-.94-2.06-.94-.94-2.06-.94 2.06-2.06.94zm-11 1L8.5 8.5l.94-2.06 2.06-.94-2.06-.94L8.5 2.5l-.94 2.06-2.06.94zm10 10l.94 2.06.94-2.06 2.06-.94-2.06-.94-.94-2.06-.94 2.06-2.06.94z\"/><path d=\"M17.41 7.96l-1.37-1.37c-.4-.4-.92-.59-1.43-.59-.52 0-1.04.2-1.43.59L10.3 9.45l-7.72 7.72c-.78.78-.78 2.05 0 2.83L4 21.41c.39.39.9.59 1.41.59.51 0 1.02-.2 1.41-.59l7.78-7.78 2.81-2.81c.8-.78.8-2.07 0-2.86zM5.41 20L4 18.59l7.72-7.72 1.47 1.35L5.41 20z\"/>\n",
              "  </svg>\n",
              "      </button>\n",
              "\n",
              "\n",
              "\n",
              "    <div id=\"df-81f5ee1d-f167-4067-b776-a087a69f9771\">\n",
              "      <button class=\"colab-df-quickchart\" onclick=\"quickchart('df-81f5ee1d-f167-4067-b776-a087a69f9771')\"\n",
              "              title=\"Suggest charts.\"\n",
              "              style=\"display:none;\">\n",
              "\n",
              "<svg xmlns=\"http://www.w3.org/2000/svg\" height=\"24px\"viewBox=\"0 0 24 24\"\n",
              "     width=\"24px\">\n",
              "    <g>\n",
              "        <path d=\"M19 3H5c-1.1 0-2 .9-2 2v14c0 1.1.9 2 2 2h14c1.1 0 2-.9 2-2V5c0-1.1-.9-2-2-2zM9 17H7v-7h2v7zm4 0h-2V7h2v10zm4 0h-2v-4h2v4z\"/>\n",
              "    </g>\n",
              "</svg>\n",
              "      </button>\n",
              "    </div>\n",
              "\n",
              "<style>\n",
              "  .colab-df-quickchart {\n",
              "    background-color: #E8F0FE;\n",
              "    border: none;\n",
              "    border-radius: 50%;\n",
              "    cursor: pointer;\n",
              "    display: none;\n",
              "    fill: #1967D2;\n",
              "    height: 32px;\n",
              "    padding: 0 0 0 0;\n",
              "    width: 32px;\n",
              "  }\n",
              "\n",
              "  .colab-df-quickchart:hover {\n",
              "    background-color: #E2EBFA;\n",
              "    box-shadow: 0px 1px 2px rgba(60, 64, 67, 0.3), 0px 1px 3px 1px rgba(60, 64, 67, 0.15);\n",
              "    fill: #174EA6;\n",
              "  }\n",
              "\n",
              "  [theme=dark] .colab-df-quickchart {\n",
              "    background-color: #3B4455;\n",
              "    fill: #D2E3FC;\n",
              "  }\n",
              "\n",
              "  [theme=dark] .colab-df-quickchart:hover {\n",
              "    background-color: #434B5C;\n",
              "    box-shadow: 0px 1px 3px 1px rgba(0, 0, 0, 0.15);\n",
              "    filter: drop-shadow(0px 1px 2px rgba(0, 0, 0, 0.3));\n",
              "    fill: #FFFFFF;\n",
              "  }\n",
              "</style>\n",
              "\n",
              "    <script>\n",
              "      async function quickchart(key) {\n",
              "        const containerElement = document.querySelector('#' + key);\n",
              "        const charts = await google.colab.kernel.invokeFunction(\n",
              "            'suggestCharts', [key], {});\n",
              "      }\n",
              "    </script>\n",
              "\n",
              "      <script>\n",
              "\n",
              "function displayQuickchartButton(domScope) {\n",
              "  let quickchartButtonEl =\n",
              "    domScope.querySelector('#df-81f5ee1d-f167-4067-b776-a087a69f9771 button.colab-df-quickchart');\n",
              "  quickchartButtonEl.style.display =\n",
              "    google.colab.kernel.accessAllowed ? 'block' : 'none';\n",
              "}\n",
              "\n",
              "        displayQuickchartButton(document);\n",
              "      </script>\n",
              "      <style>\n",
              "    .colab-df-container {\n",
              "      display:flex;\n",
              "      flex-wrap:wrap;\n",
              "      gap: 12px;\n",
              "    }\n",
              "\n",
              "    .colab-df-convert {\n",
              "      background-color: #E8F0FE;\n",
              "      border: none;\n",
              "      border-radius: 50%;\n",
              "      cursor: pointer;\n",
              "      display: none;\n",
              "      fill: #1967D2;\n",
              "      height: 32px;\n",
              "      padding: 0 0 0 0;\n",
              "      width: 32px;\n",
              "    }\n",
              "\n",
              "    .colab-df-convert:hover {\n",
              "      background-color: #E2EBFA;\n",
              "      box-shadow: 0px 1px 2px rgba(60, 64, 67, 0.3), 0px 1px 3px 1px rgba(60, 64, 67, 0.15);\n",
              "      fill: #174EA6;\n",
              "    }\n",
              "\n",
              "    [theme=dark] .colab-df-convert {\n",
              "      background-color: #3B4455;\n",
              "      fill: #D2E3FC;\n",
              "    }\n",
              "\n",
              "    [theme=dark] .colab-df-convert:hover {\n",
              "      background-color: #434B5C;\n",
              "      box-shadow: 0px 1px 3px 1px rgba(0, 0, 0, 0.15);\n",
              "      filter: drop-shadow(0px 1px 2px rgba(0, 0, 0, 0.3));\n",
              "      fill: #FFFFFF;\n",
              "    }\n",
              "  </style>\n",
              "\n",
              "      <script>\n",
              "        const buttonEl =\n",
              "          document.querySelector('#df-6bc07fba-323a-47ec-aa05-25ee92fb388e button.colab-df-convert');\n",
              "        buttonEl.style.display =\n",
              "          google.colab.kernel.accessAllowed ? 'block' : 'none';\n",
              "\n",
              "        async function convertToInteractive(key) {\n",
              "          const element = document.querySelector('#df-6bc07fba-323a-47ec-aa05-25ee92fb388e');\n",
              "          const dataTable =\n",
              "            await google.colab.kernel.invokeFunction('convertToInteractive',\n",
              "                                                     [key], {});\n",
              "          if (!dataTable) return;\n",
              "\n",
              "          const docLinkHtml = 'Like what you see? Visit the ' +\n",
              "            '<a target=\"_blank\" href=https://colab.research.google.com/notebooks/data_table.ipynb>data table notebook</a>'\n",
              "            + ' to learn more about interactive tables.';\n",
              "          element.innerHTML = '';\n",
              "          dataTable['output_type'] = 'display_data';\n",
              "          await google.colab.output.renderOutput(dataTable, element);\n",
              "          const docLink = document.createElement('div');\n",
              "          docLink.innerHTML = docLinkHtml;\n",
              "          element.appendChild(docLink);\n",
              "        }\n",
              "      </script>\n",
              "    </div>\n",
              "  </div>\n"
            ]
          },
          "metadata": {},
          "execution_count": 5
        }
      ]
    },
    {
      "cell_type": "markdown",
      "metadata": {
        "id": "Cw1vWxPkdKs5"
      },
      "source": [
        "Выведите список названий столбцов:"
      ]
    },
    {
      "cell_type": "code",
      "metadata": {
        "id": "dCqEW6y2dKs5",
        "colab": {
          "base_uri": "https://localhost:8080/"
        },
        "outputId": "595d7716-6013-415f-ea56-3e52b9c60912"
      },
      "source": [
        "list(df.columns.values)"
      ],
      "execution_count": null,
      "outputs": [
        {
          "output_type": "execute_result",
          "data": {
            "text/plain": [
              "['defaulted',\n",
              " 'age',\n",
              " 'DebtRatio',\n",
              " 'MonthlyIncome',\n",
              " 'NumberOfOpenCreditLinesAndLoans',\n",
              " 'NumberRealEstateLoansOrLines',\n",
              " 'NumberOfDependents']"
            ]
          },
          "metadata": {},
          "execution_count": 6
        }
      ]
    },
    {
      "cell_type": "markdown",
      "source": [
        "```\n",
        "['defaulted',\n",
        " 'age',\n",
        " 'DebtRatio',\n",
        " 'MonthlyIncome',\n",
        " 'NumberOfOpenCreditLinesAndLoans',\n",
        " 'NumberRealEstateLoansOrLines',\n",
        " 'NumberOfDependents']\n",
        " ```"
      ],
      "metadata": {
        "id": "YWfEHVwQYBAB"
      }
    },
    {
      "cell_type": "markdown",
      "metadata": {
        "id": "WpSLgazLdKs6"
      },
      "source": [
        "## Задача 2 +"
      ]
    },
    {
      "cell_type": "markdown",
      "metadata": {
        "id": "ULvNfAxtdKs6"
      },
      "source": [
        "Определите число пропусков в каждом столбце (могут пригодиться методы ```isnull``` и ```sum```):"
      ]
    },
    {
      "cell_type": "code",
      "metadata": {
        "id": "KnKRkbuXdKs6",
        "colab": {
          "base_uri": "https://localhost:8080/"
        },
        "outputId": "6004fcc9-d5e8-4de6-955d-326925d9a8a9"
      },
      "source": [
        "df.isnull().sum()"
      ],
      "execution_count": null,
      "outputs": [
        {
          "output_type": "execute_result",
          "data": {
            "text/plain": [
              "defaulted                              0\n",
              "age                                    0\n",
              "DebtRatio                              0\n",
              "MonthlyIncome                      29731\n",
              "NumberOfOpenCreditLinesAndLoans        0\n",
              "NumberRealEstateLoansOrLines           0\n",
              "NumberOfDependents                  3924\n",
              "dtype: int64"
            ]
          },
          "metadata": {},
          "execution_count": 7
        }
      ]
    },
    {
      "cell_type": "markdown",
      "source": [
        "\n",
        "```\n",
        "defaulted                              0\n",
        "age                                    0\n",
        "DebtRatio                              0\n",
        "MonthlyIncome                      29731\n",
        "NumberOfOpenCreditLinesAndLoans        0\n",
        "NumberRealEstateLoansOrLines           0\n",
        "NumberOfDependents                  3924\n",
        "dtype: int64\n",
        "```\n",
        "\n"
      ],
      "metadata": {
        "id": "HPcInbD3YHkB"
      }
    },
    {
      "cell_type": "markdown",
      "metadata": {
        "id": "-6nWWy0vdKs7"
      },
      "source": [
        "Определите долю пропусков в каждом столбце (могут пригодиться методы ```isnull``` и ```mean```):"
      ]
    },
    {
      "cell_type": "code",
      "metadata": {
        "id": "GLiQIrvwdKs7",
        "colab": {
          "base_uri": "https://localhost:8080/"
        },
        "outputId": "b94a836f-be07-4429-e713-3214419ed965"
      },
      "source": [
        "df.isnull().mean()"
      ],
      "execution_count": null,
      "outputs": [
        {
          "output_type": "execute_result",
          "data": {
            "text/plain": [
              "defaulted                          0.000000\n",
              "age                                0.000000\n",
              "DebtRatio                          0.000000\n",
              "MonthlyIncome                      0.198207\n",
              "NumberOfOpenCreditLinesAndLoans    0.000000\n",
              "NumberRealEstateLoansOrLines       0.000000\n",
              "NumberOfDependents                 0.026160\n",
              "dtype: float64"
            ]
          },
          "metadata": {},
          "execution_count": 8
        }
      ]
    },
    {
      "cell_type": "markdown",
      "source": [
        "```\n",
        "defaulted                          0.000000\n",
        "age                                0.000000\n",
        "DebtRatio                          0.000000\n",
        "MonthlyIncome                      0.198207\n",
        "NumberOfOpenCreditLinesAndLoans    0.000000\n",
        "NumberRealEstateLoansOrLines       0.000000\n",
        "NumberOfDependents                 0.026160\n",
        "dtype: float64\n",
        "```"
      ],
      "metadata": {
        "id": "lxiF4WbjYRi-"
      }
    },
    {
      "cell_type": "markdown",
      "metadata": {
        "id": "vxVMh9UDdKs7"
      },
      "source": [
        "## Задача 3 +"
      ]
    },
    {
      "cell_type": "markdown",
      "source": [
        "Определите долю заемщиков, которые не выплатили кредит (колонка ```defaulted```):"
      ],
      "metadata": {
        "id": "fKEjMQl0eIZz"
      }
    },
    {
      "cell_type": "code",
      "metadata": {
        "id": "s5IS56FNdKs8",
        "colab": {
          "base_uri": "https://localhost:8080/"
        },
        "outputId": "3e0cf45f-98d4-4372-c794-d6f1735c9db0"
      },
      "source": [
        "df.defaulted.mean()"
      ],
      "execution_count": null,
      "outputs": [
        {
          "output_type": "execute_result",
          "data": {
            "text/plain": [
              "0.06684"
            ]
          },
          "metadata": {},
          "execution_count": 9
        }
      ]
    },
    {
      "cell_type": "markdown",
      "source": [
        "```0.06684```"
      ],
      "metadata": {
        "id": "K-iBtSBoYdBX"
      }
    },
    {
      "cell_type": "markdown",
      "metadata": {
        "id": "2euhSaR8dKs8"
      },
      "source": [
        "## Задача 4 +"
      ]
    },
    {
      "cell_type": "markdown",
      "source": [
        "Определите количество заемщиков, у которых ежемесячный доход ```MonthlyIncome``` выше среднего:"
      ],
      "metadata": {
        "id": "LKABQ5PGeKfW"
      }
    },
    {
      "cell_type": "code",
      "source": [
        "# в данной ситуации считаю длину датафрэйма, соответствующего условию\n",
        "len(df[df.MonthlyIncome > df.MonthlyIncome.mean()])"
      ],
      "metadata": {
        "colab": {
          "base_uri": "https://localhost:8080/"
        },
        "id": "Me_JjXIOOe7Z",
        "outputId": "40614c13-cf5a-415a-a105-b73b43497791"
      },
      "execution_count": null,
      "outputs": [
        {
          "output_type": "execute_result",
          "data": {
            "text/plain": [
              "44146"
            ]
          },
          "metadata": {},
          "execution_count": 10
        }
      ]
    },
    {
      "cell_type": "markdown",
      "source": [
        "```44146```"
      ],
      "metadata": {
        "id": "O0KMIlICYt4r"
      }
    },
    {
      "cell_type": "markdown",
      "metadata": {
        "id": "FD9j5sQGdKs8"
      },
      "source": [
        "## Задача 5 +"
      ]
    },
    {
      "cell_type": "markdown",
      "source": [
        "Вычислите медианный возраст заемщиков, которые не вернули кредит (```defaulted=1```):"
      ],
      "metadata": {
        "id": "SGrDZ5XkeMU2"
      }
    },
    {
      "cell_type": "code",
      "metadata": {
        "id": "freki_-VdKs9",
        "colab": {
          "base_uri": "https://localhost:8080/"
        },
        "outputId": "77726910-78b8-46fc-d5f2-623795213897"
      },
      "source": [
        "# отсеиваем тех, кто не вернул defaulted == 1\n",
        "# вытягиваем столбец с возрастом у неплательщиков\n",
        "# вычисляем медиану соответствующим методом\n",
        "df[df['defaulted'] == 1].age.median()"
      ],
      "execution_count": null,
      "outputs": [
        {
          "output_type": "execute_result",
          "data": {
            "text/plain": [
              "45.0"
            ]
          },
          "metadata": {},
          "execution_count": 11
        }
      ]
    },
    {
      "cell_type": "markdown",
      "source": [
        "```45.0```"
      ],
      "metadata": {
        "id": "Xiwz_gfwY0m7"
      }
    },
    {
      "cell_type": "markdown",
      "source": [
        "Проверьте, больше ли он или меньше медианного возраста всех заемщиков:"
      ],
      "metadata": {
        "id": "Z2K1WOZ4dkls"
      }
    },
    {
      "cell_type": "code",
      "metadata": {
        "id": "UYB4hW8kdKs9",
        "colab": {
          "base_uri": "https://localhost:8080/"
        },
        "outputId": "40b9cb3d-a996-4160-ffbf-6c892333ce40"
      },
      "source": [
        "# возраст неплательщиков меньше\n",
        "df.age.median() > df[df['defaulted'] == 1].age.median()"
      ],
      "execution_count": null,
      "outputs": [
        {
          "output_type": "execute_result",
          "data": {
            "text/plain": [
              "True"
            ]
          },
          "metadata": {},
          "execution_count": 12
        }
      ]
    },
    {
      "cell_type": "markdown",
      "metadata": {
        "id": "YsaEANcFdKs9"
      },
      "source": [
        "## Задача 6 +"
      ]
    },
    {
      "cell_type": "markdown",
      "source": [
        "Вычислите сколько заемщиков старше 40 лет имеют ежемесячный доход больше среднего ежемесячного дохода по всей выборке:"
      ],
      "metadata": {
        "id": "Rnc5xebMeORH"
      }
    },
    {
      "cell_type": "code",
      "metadata": {
        "id": "NeQv8cFDdKs-"
      },
      "source": [
        "# получаем заемщиков старше 40\n",
        "df40 = df[df['age'] > 40]"
      ],
      "execution_count": null,
      "outputs": []
    },
    {
      "cell_type": "code",
      "source": [
        "# получаем средний ежемесячный доход по всей выборке\n",
        "MI_mean = df.MonthlyIncome.mean()\n",
        "MI_mean"
      ],
      "metadata": {
        "colab": {
          "base_uri": "https://localhost:8080/"
        },
        "id": "GhybWASVR0n3",
        "outputId": "9ddd58f3-7c95-4e30-ad7a-3b25b139b050"
      },
      "execution_count": null,
      "outputs": [
        {
          "output_type": "execute_result",
          "data": {
            "text/plain": [
              "6670.221237392844"
            ]
          },
          "metadata": {},
          "execution_count": 8
        }
      ]
    },
    {
      "cell_type": "code",
      "source": [
        "#Проиизводим сравнение и подсчет\n",
        "(df40.MonthlyIncome > MI_mean).sum()"
      ],
      "metadata": {
        "colab": {
          "base_uri": "https://localhost:8080/"
        },
        "id": "4AufP-l-R9BW",
        "outputId": "3f2777fa-57d8-497d-a7d1-f08c33aeedb4"
      },
      "execution_count": null,
      "outputs": [
        {
          "output_type": "execute_result",
          "data": {
            "text/plain": [
              "37629"
            ]
          },
          "metadata": {},
          "execution_count": 9
        }
      ]
    },
    {
      "cell_type": "markdown",
      "source": [
        "```37629```"
      ],
      "metadata": {
        "id": "Vts7_0FTY2xL"
      }
    },
    {
      "cell_type": "markdown",
      "metadata": {
        "id": "XwLzrBY3dKs-"
      },
      "source": [
        "# Вычисление новых признаков и группировка данных"
      ]
    },
    {
      "cell_type": "markdown",
      "metadata": {
        "id": "Ww14rrZBdKs-"
      },
      "source": [
        "## Задача 7 +"
      ]
    },
    {
      "cell_type": "markdown",
      "source": [
        "Вычислите новый признак ```age_group``` на основе признака ```age```, который разбивает заемщиков на 3 возрастные группы:\n",
        "- до 30 лет включительно (операция ```<=```) - **группа 1**\n",
        "- от 30 лет не включительно и до 50 лет включительно - **группа 2**\n",
        "- строго старше 50 лет - **группа 3**\n",
        "\n",
        "Для этого заведите отдельную функцию `calculate_age_group` и передайте ее в метод `apply`, который позовете от столбца `age`:"
      ],
      "metadata": {
        "id": "pO52qJXgeR0O"
      }
    },
    {
      "cell_type": "code",
      "metadata": {
        "id": "vwJeahmkdKs_"
      },
      "source": [
        "# создаю функцию calculate_age_group\n",
        "def calculate_age_group(age):\n",
        "  if age <= 30:\n",
        "    return 'группа 1'\n",
        "  elif 30 < age <= 50:\n",
        "    return 'группа 2'\n",
        "  else:\n",
        "    return 'группа 3'"
      ],
      "execution_count": null,
      "outputs": []
    },
    {
      "cell_type": "code",
      "source": [
        "# вычисляю новый признак\n",
        "df['age_group'] = df.age.apply(calculate_age_group)"
      ],
      "metadata": {
        "id": "YXzKJDbpTtVO"
      },
      "execution_count": null,
      "outputs": []
    },
    {
      "cell_type": "code",
      "source": [
        "# чекаю новый признак\n",
        "df['age_group']"
      ],
      "metadata": {
        "colab": {
          "base_uri": "https://localhost:8080/"
        },
        "id": "WVIIy9bgT9PM",
        "outputId": "00b748f6-e39e-4fab-f523-02630973aa69"
      },
      "execution_count": null,
      "outputs": [
        {
          "output_type": "execute_result",
          "data": {
            "text/plain": [
              "0         группа 2\n",
              "1         группа 2\n",
              "2         группа 2\n",
              "3         группа 1\n",
              "4         группа 2\n",
              "            ...   \n",
              "149995    группа 3\n",
              "149996    группа 2\n",
              "149997    группа 3\n",
              "149998    группа 1\n",
              "149999    группа 3\n",
              "Name: age_group, Length: 150000, dtype: object"
            ]
          },
          "metadata": {},
          "execution_count": 12
        }
      ]
    },
    {
      "cell_type": "markdown",
      "metadata": {
        "id": "UIe-sOOGdKs_"
      },
      "source": [
        "## Задача 8 +"
      ]
    },
    {
      "cell_type": "markdown",
      "source": [
        "Вычислите количество заемщиков в каждой группе нового вычисленного признака `age_group` с помощью метода `value_counts`:"
      ],
      "metadata": {
        "id": "-SLWHLQAeVfl"
      }
    },
    {
      "cell_type": "code",
      "metadata": {
        "id": "bqk4zcxzdKs_",
        "colab": {
          "base_uri": "https://localhost:8080/"
        },
        "outputId": "c1989d67-fec9-4f37-a33b-2357573c5aaf"
      },
      "source": [
        "df.age_group.value_counts()"
      ],
      "execution_count": null,
      "outputs": [
        {
          "output_type": "execute_result",
          "data": {
            "text/plain": [
              "группа 3    79866\n",
              "группа 2    59376\n",
              "группа 1    10758\n",
              "Name: age_group, dtype: int64"
            ]
          },
          "metadata": {},
          "execution_count": 13
        }
      ]
    },
    {
      "cell_type": "markdown",
      "source": [
        "```\n",
        "3    79866\n",
        "2    59376\n",
        "1    10758\n",
        "Name: age_group, dtype: int64\n",
        "```"
      ],
      "metadata": {
        "id": "EYmnay8JY6TO"
      }
    },
    {
      "cell_type": "markdown",
      "metadata": {
        "id": "dYIbwaKndKs_"
      },
      "source": [
        "## Задача 9 +"
      ]
    },
    {
      "cell_type": "markdown",
      "source": [
        "Посчитайте долю заемщиков, которые не вернули кредит, в каждой из вычисленных возрастных групп (группировка по возрастной группе и применение метода `mean` к колонке `defaulted`):"
      ],
      "metadata": {
        "id": "0QdedBNVeX0o"
      }
    },
    {
      "cell_type": "code",
      "source": [
        "df.groupby(df['age_group']).defaulted.mean()"
      ],
      "metadata": {
        "id": "xGY7OunzWSy6",
        "colab": {
          "base_uri": "https://localhost:8080/"
        },
        "outputId": "de7c5309-3208-452d-ab04-4a285c65d074"
      },
      "execution_count": null,
      "outputs": [
        {
          "output_type": "execute_result",
          "data": {
            "text/plain": [
              "age_group\n",
              "группа 1    0.115635\n",
              "группа 2    0.088975\n",
              "группа 3    0.043811\n",
              "Name: defaulted, dtype: float64"
            ]
          },
          "metadata": {},
          "execution_count": 14
        }
      ]
    },
    {
      "cell_type": "markdown",
      "metadata": {
        "id": "x-BCEZc7dKtA"
      },
      "source": [
        "## Задача 10 +"
      ]
    },
    {
      "cell_type": "markdown",
      "source": [
        "Визуализируйте полученные данные в виде гистограммы. Добавьте сетку на график, дайте графику название:"
      ],
      "metadata": {
        "id": "17UyfgUOejKK"
      }
    },
    {
      "cell_type": "code",
      "source": [
        "# это для удобства)\n",
        "s = df.age_group.value_counts()\n",
        "b = df.groupby(df['age_group']).defaulted.mean()"
      ],
      "metadata": {
        "id": "_c4BapMw5AGx"
      },
      "execution_count": null,
      "outputs": []
    },
    {
      "cell_type": "code",
      "metadata": {
        "id": "Zjus1bJSdKtA"
      },
      "source": [
        "# Импортируем модуль для визуализации данных\n",
        "from matplotlib import pyplot as plt"
      ],
      "execution_count": null,
      "outputs": []
    },
    {
      "cell_type": "code",
      "source": [
        "fig, ax = plt.subplots()\n",
        "groups = list(s.index)\n",
        "counts = list(s.values)\n",
        "bar_labels = ['red', 'green', 'brown']\n",
        "bar_colors = ['tab:red', 'tab:green', 'tab:brown']\n",
        "\n",
        "ax.bar(groups, counts, label=bar_labels, color=bar_colors)\n",
        "# задаю название оси y\n",
        "ax.set_ylabel('Количество заемщиков')\n",
        "# задаю название оси x\n",
        "ax.set_xlabel('Группы')\n",
        "# задаю название данной гистограммы\n",
        "ax.set_title('Количество заемщиков, сгруппированных по возрастам')\n",
        "# даю имя легенде\n",
        "ax.legend(title='Условные обозначения')\n",
        "\n",
        "#создание сетки\n",
        "ax.grid(True)\n",
        "\n",
        "#вывожу график\n",
        "plt.show()"
      ],
      "metadata": {
        "colab": {
          "base_uri": "https://localhost:8080/",
          "height": 472
        },
        "id": "JFCjS-Rv4sY4",
        "outputId": "69d7210b-e97d-4932-a85d-1529c7d663bd"
      },
      "execution_count": null,
      "outputs": [
        {
          "output_type": "display_data",
          "data": {
            "text/plain": [
              "<Figure size 640x480 with 1 Axes>"
            ],
            "image/png": "[encoded data removed]"
          },
          "metadata": {}
        }
      ]
    },
    {
      "cell_type": "code",
      "source": [
        "fig, ax = plt.subplots()\n",
        "groups = list(b.index)\n",
        "counts = list(b.values)\n",
        "bar_labels = ['red', 'green', 'brown']\n",
        "bar_colors = ['tab:red', 'tab:green', 'tab:brown']\n",
        "\n",
        "ax.bar(groups, counts, label=bar_labels, color=bar_colors)\n",
        "# задаю название оси y\n",
        "ax.set_ylabel('Количество заемщиков')\n",
        "# задаю название оси x\n",
        "ax.set_xlabel('Группы')\n",
        "# задаю название данной гистограммы\n",
        "ax.set_title('Количество заемщиков не вернувших кредит, сгруппированных по возрастам')\n",
        "# даю имя легенде\n",
        "ax.legend(title='Условные обозначения')\n",
        "\n",
        "#создание сетки\n",
        "ax.grid(True)\n",
        "\n",
        "#вывожу график\n",
        "plt.show()"
      ],
      "metadata": {
        "colab": {
          "base_uri": "https://localhost:8080/",
          "height": 472
        },
        "id": "h7zmU7_19vpK",
        "outputId": "157cba92-8ec2-4a2b-bd69-aa555ea524bb"
      },
      "execution_count": null,
      "outputs": [
        {
          "output_type": "display_data",
          "data": {
            "text/plain": [
              "<Figure size 640x480 with 1 Axes>"
            ],
            "image/png": "[encoded data removed]"
          },
          "metadata": {}
        }
      ]
    },
    {
      "cell_type": "markdown",
      "metadata": {
        "id": "deEBZ0v7dKtB"
      },
      "source": [
        "## Задача 11 +"
      ]
    },
    {
      "cell_type": "markdown",
      "source": [
        "Какие выводы вы можете сделать? С увеличением возраста заемщика риск невозврата кредита становится больше или меньше? Дайте ответ на вопрос в текстовой ячейке ниже:"
      ],
      "metadata": {
        "id": "Qtxk_V6Hem6q"
      }
    },
    {
      "cell_type": "markdown",
      "metadata": {
        "id": "89NKup8voVna"
      },
      "source": [
        "**Ответ: Чем старше заемщик, тем ниже риск невозврата кредита**"
      ]
    },
    {
      "cell_type": "markdown",
      "metadata": {
        "id": "I89l2WAsdKtB"
      },
      "source": [
        "## Задача 12 +"
      ]
    },
    {
      "cell_type": "markdown",
      "source": [
        "Вычислите новый признак `alone_and_poor`, который равен `1` у заемщиков, которые не содержат никого, кроме себя (`NumberOfDependents == 0`) и у которых месячный доход (`MonthlyIncome`) меньше 10% квантили по этому признаку среди всех заемщиков. Иначе этот признак сделайте равным 0.\n",
        "\n",
        "Для этого напишите функцию `calculate_alone_and_poor`, в которой вы будете принимать строку, доставать нужные поля у этой строки, и проверять перечисленные выше условия.\n",
        "\n",
        "Заранее посчитайте значение 10% квантили по столбцу `MonthlyIncome`, и передайте это значение в функцию как аргумент по-умолчанию.\n",
        "\n",
        "Затем полученную функцию примените ко всему датафрейму с помощью метода `apply`. Не забудьте указать параметр `axis=1` в методе `apply` (применять переданную функцию ко строкам), иначе код упадет с ошибкой."
      ],
      "metadata": {
        "id": "TaSzKeuSeuOd"
      }
    },
    {
      "cell_type": "code",
      "source": [
        "# заранее считаю 10% значение квантили для MonthlyIncome\n",
        "MI_quant_10 = df.MonthlyIncome.quantile(.1)"
      ],
      "metadata": {
        "id": "y8TgCxOO__Pt"
      },
      "execution_count": null,
      "outputs": []
    },
    {
      "cell_type": "code",
      "metadata": {
        "id": "x4QpASAIdKtB"
      },
      "source": [
        "# создаю функцию calculate_alone_and_poor\n",
        "def calculate_alone_and_poor(df_str, mi10=MI_quant_10):\n",
        "  if df_str.NumberOfDependents == 0 and df_str.MonthlyIncome < mi10:\n",
        "    return 1\n",
        "  else:\n",
        "    return 0"
      ],
      "execution_count": null,
      "outputs": []
    },
    {
      "cell_type": "code",
      "source": [
        "df['alone_and_poor'] = df.apply(calculate_alone_and_poor, axis=1)"
      ],
      "metadata": {
        "id": "pKxJvHxc7xbs"
      },
      "execution_count": null,
      "outputs": []
    },
    {
      "cell_type": "markdown",
      "metadata": {
        "id": "x7P_z7KYdKtC"
      },
      "source": [
        "Сколько получилось людей с признаком ```alone_and_poor``` равным 1?"
      ]
    },
    {
      "cell_type": "code",
      "metadata": {
        "id": "OjhMTSrydKtC",
        "colab": {
          "base_uri": "https://localhost:8080/"
        },
        "outputId": "41ccf3bd-d239-4747-dcda-061e7219a8e9"
      },
      "source": [
        "# количество людей\n",
        "df['alone_and_poor'].sum()"
      ],
      "execution_count": null,
      "outputs": [
        {
          "output_type": "execute_result",
          "data": {
            "text/plain": [
              "8719"
            ]
          },
          "metadata": {},
          "execution_count": 22
        }
      ]
    },
    {
      "cell_type": "markdown",
      "metadata": {
        "id": "3_mIoa_OdKtC"
      },
      "source": [
        "# Визуализация данных"
      ]
    },
    {
      "cell_type": "markdown",
      "metadata": {
        "id": "hktewsS_dKtC"
      },
      "source": [
        "## Задача 13 +"
      ]
    },
    {
      "cell_type": "markdown",
      "source": [
        "Постройте гистограмму распределения возрастов всех заемщиков. Для этого вам может понадобиться метод `plot.hist()`. Обратите внимание, что у метода `hist()` есть параметр `bins`, который отвечает за мелкость разбиения гистограммы. Постройте два отдельных графика с параметрами `bins=10` и `bins=30`.\n",
        "\n",
        "Подпишите оси, добавьте сетку на графики, дайте графикам название.\n",
        "\n",
        "Также не забывайте, что чтобы картинка отрисовалась корректно, нужно последней строкой кода написать `plt.show()`."
      ],
      "metadata": {
        "id": "QFVHpkbvfJVn"
      }
    },
    {
      "cell_type": "code",
      "metadata": {
        "id": "gsM3gYpHdKtD"
      },
      "source": [
        "from matplotlib import pyplot as plt"
      ],
      "execution_count": null,
      "outputs": []
    },
    {
      "cell_type": "code",
      "source": [
        "plt.hist(df.age, bins=10)\n",
        "# заголовок графика\n",
        "plt.title('Распределение возрастов заемщиков')\n",
        "# добавление осей\n",
        "plt.grid()\n",
        "# подпись осей\n",
        "plt.ylabel('Количество заемщиков')\n",
        "plt.xlabel('Возраст')\n",
        "\n",
        "plt.show()"
      ],
      "metadata": {
        "id": "7ymlmUymNz23",
        "colab": {
          "base_uri": "https://localhost:8080/",
          "height": 472
        },
        "outputId": "6725ab33-d114-434c-c605-56b2988e070e"
      },
      "execution_count": null,
      "outputs": [
        {
          "output_type": "display_data",
          "data": {
            "text/plain": [
              "<Figure size 640x480 with 1 Axes>"
            ],
            "image/png": "[encoded data removed]"
          },
          "metadata": {}
        }
      ]
    },
    {
      "cell_type": "code",
      "source": [
        "plt.hist(df.age, bins=30)\n",
        "# заголовок графика\n",
        "plt.title('Распределение возрастов заемщиков')\n",
        "# добавление осей\n",
        "plt.grid()\n",
        "# подпись осей\n",
        "plt.ylabel('Количество заемщиков')\n",
        "plt.xlabel('Возраст')\n",
        "\n",
        "plt.show()"
      ],
      "metadata": {
        "id": "hMjJRxEvMyxp",
        "colab": {
          "base_uri": "https://localhost:8080/",
          "height": 472
        },
        "outputId": "24f4ed2b-eb6e-4dd9-fb76-4abc72ad5c82"
      },
      "execution_count": null,
      "outputs": [
        {
          "output_type": "display_data",
          "data": {
            "text/plain": [
              "<Figure size 640x480 with 1 Axes>"
            ],
            "image/png": "[encoded data removed]"
          },
          "metadata": {}
        }
      ]
    },
    {
      "cell_type": "markdown",
      "metadata": {
        "id": "lFW3P9etdKtE"
      },
      "source": [
        "## Задача 14 +"
      ]
    },
    {
      "cell_type": "markdown",
      "source": [
        "Теперь постройте гистограмму распределения числа открытых кредитных линий (`NumberOfOpenCreditLinesAndLoans`) с помощью функции `distplot()` из модуля `seaborn`.\n",
        "\n",
        "Подпишите оси, добавьте сетку на графики, дайте графику название:"
      ],
      "metadata": {
        "id": "GC3HuIKVfivh"
      }
    },
    {
      "cell_type": "code",
      "metadata": {
        "id": "vm36okVzdKtF"
      },
      "source": [
        "import seaborn as sns"
      ],
      "execution_count": null,
      "outputs": []
    },
    {
      "cell_type": "code",
      "source": [
        "ax = sns.distplot(df.NumberOfOpenCreditLinesAndLoans, bins=100, color='red')\n",
        "sns.set_style(\"darkgrid\", {'axes.axisbelow': False})\n",
        "\n",
        "# меняю название осей\n",
        "ax.set (xlabel='Открытые кредитные линии',\n",
        "        ylabel='Плотность',\n",
        "        title='Кредитные линии')\n",
        "\n",
        "plt.show()"
      ],
      "metadata": {
        "id": "17bg1_IoThyp",
        "colab": {
          "base_uri": "https://localhost:8080/",
          "height": 663
        },
        "outputId": "b137590d-a102-468e-b065-ea559ddb7d4e"
      },
      "execution_count": null,
      "outputs": [
        {
          "output_type": "stream",
          "name": "stderr",
          "text": [
            "<ipython-input-27-5f4c9361e5a8>:1: UserWarning: \n",
            "\n",
            "`distplot` is a deprecated function and will be removed in seaborn v0.14.0.\n",
            "\n",
            "Please adapt your code to use either `displot` (a figure-level function with\n",
            "similar flexibility) or `histplot` (an axes-level function for histograms).\n",
            "\n",
            "For a guide to updating your code to use the new functions, please see\n",
            "https://gist.github.com/mwaskom/de44147ed2974457ad6372750bbe5751\n",
            "\n",
            "  ax = sns.distplot(df.NumberOfOpenCreditLinesAndLoans, bins=100, color='red')\n"
          ]
        },
        {
          "output_type": "display_data",
          "data": {
            "text/plain": [
              "<Figure size 640x480 with 1 Axes>"
            ],
            "image/png": "[encoded data removed]"
          },
          "metadata": {}
        }
      ]
    },
    {
      "cell_type": "markdown",
      "metadata": {
        "id": "CzQrvJ68dKtF"
      },
      "source": [
        "## Задача 15 +"
      ]
    },
    {
      "cell_type": "markdown",
      "source": [
        "Постройте гистограмму распределения признака `NumberOfDependents` для заемщиков, которые успешно вернули кредит (`defaulted = 0`).\n",
        "\n",
        "Подпишите оси, добавьте сетку на графики, дайте графику название:"
      ],
      "metadata": {
        "id": "qnue6fFJfpSK"
      }
    },
    {
      "cell_type": "code",
      "metadata": {
        "id": "081qlJDbdKtF"
      },
      "source": [
        "# получаю заемщиков, вернувших кредит\n",
        "data = df[df['defaulted'] == 0].NumberOfDependents"
      ],
      "execution_count": null,
      "outputs": []
    },
    {
      "cell_type": "code",
      "source": [
        "# строю гистаграмму\n",
        "plt.hist(data, bins=50)\n",
        "# задаю название осям\n",
        "plt.xlabel('Кол-во членов семьи')\n",
        "plt.ylabel('Количество заемщиков')\n",
        "# задаю название гистограммы\n",
        "plt.title('Распределение заемщиков по количеству членов семьи')\n",
        "# сетка осей\n",
        "plt.grid(True)\n",
        "# вывод графика\n",
        "plt.show()"
      ],
      "metadata": {
        "colab": {
          "base_uri": "https://localhost:8080/",
          "height": 472
        },
        "id": "ZT5NDnagevjL",
        "outputId": "1c424c52-36cb-496e-d721-e03675941540"
      },
      "execution_count": null,
      "outputs": [
        {
          "output_type": "display_data",
          "data": {
            "text/plain": [
              "<Figure size 640x480 with 1 Axes>"
            ],
            "image/png": "[encoded data removed]"
          },
          "metadata": {}
        }
      ]
    },
    {
      "cell_type": "markdown",
      "metadata": {
        "id": "nDEgPKhPdKtF"
      },
      "source": [
        "## Задача 16"
      ]
    },
    {
      "cell_type": "markdown",
      "source": [
        "Вычислите среднее значение признака `NumberOfDependents` для каждого возраста\n",
        "\n",
        "---\n",
        "\n",
        "(`groupby` по возрасту и `mean` от столбца `NumberOfDependents`) и постройте гистограмму распределения полученных значений (`plot.bar()`).\n",
        "\n",
        "Сделайте график покрупнее, например 14 на 10 дюймов с помощью параметра `figsize`.\n",
        "\n",
        "Подпишите оси, добавьте сетку на графики, дайте графику название."
      ],
      "metadata": {
        "id": "4C48yggdftxb"
      }
    },
    {
      "cell_type": "markdown",
      "source": [
        "NumberOfDependents - число членов семьи, которых содержит клиент, исключая самого клиента (натуральное число)"
      ],
      "metadata": {
        "id": "uCTDPyCvoV9K"
      }
    },
    {
      "cell_type": "code",
      "source": [
        "# пример использования plt.bar() это для меня, чтобы разобраться что не так\n",
        "\n",
        "import matplotlib.pyplot as plt\n",
        "\n",
        "# Sample data\n",
        "categories = ['Category A', 'Category B', 'Category C', 'Category D']\n",
        "values = [25, 40, 30, 50]\n",
        "\n",
        "# Creating a bar chart\n",
        "plt.bar(categories, values)\n",
        "\n",
        "# Adding labels and title\n",
        "plt.xlabel('Categories')\n",
        "plt.ylabel('Values')\n",
        "plt.title('Bar Chart Example')\n",
        "\n",
        "# Displaying the chart\n",
        "plt.show()"
      ],
      "metadata": {
        "colab": {
          "base_uri": "https://localhost:8080/",
          "height": 472
        },
        "id": "5Qj9Eaimm-c4",
        "outputId": "3ba9df52-bca2-4fa3-da81-75663464443a"
      },
      "execution_count": null,
      "outputs": [
        {
          "output_type": "display_data",
          "data": {
            "text/plain": [
              "<Figure size 640x480 with 1 Axes>"
            ],
            "image/png": "[encoded data removed]"
          },
          "metadata": {}
        }
      ]
    },
    {
      "cell_type": "code",
      "source": [
        "# разбивка количества иждевенцев по возрастам людей\n",
        "plt.bar(df.groupby(df['age']).NumberOfDependents.mean().index, df.groupby('age')['NumberOfDependents'].mean())\n",
        "fig = plt.figure(figsize=(14, 10))\n",
        "plt.show()"
      ],
      "metadata": {
        "colab": {
          "base_uri": "https://localhost:8080/",
          "height": 447
        },
        "id": "uvCGaPs5q7Vt",
        "outputId": "8137cacc-7d8f-428c-a155-5526c196ae4e"
      },
      "execution_count": null,
      "outputs": [
        {
          "output_type": "display_data",
          "data": {
            "text/plain": [
              "<Figure size 640x480 with 1 Axes>"
            ],
            "image/png": "[encoded data removed]"
          },
          "metadata": {}
        },
        {
          "output_type": "display_data",
          "data": {
            "text/plain": [
              "<Figure size 1400x1000 with 0 Axes>"
            ]
          },
          "metadata": {}
        }
      ]
    },
    {
      "cell_type": "markdown",
      "metadata": {
        "id": "EuUZjHsDdKtG"
      },
      "source": [
        "## Задача 17"
      ]
    },
    {
      "cell_type": "markdown",
      "source": [
        "Видите ли вы теперь какие-то аномалии в данных? Определите, что это за аномалии, и очистите данные от этих аномалий. Затем снова постройте такой же график, как в предыдущем задании, только уже на датафрейме с очищенными выбросами:"
      ],
      "metadata": {
        "id": "vvpx4bOzf3e8"
      }
    },
    {
      "cell_type": "markdown",
      "source": [
        "После того, как построил график, то все встало на свои места.\n",
        "Ну, разумеется выбросами у нас являются те, кто или не указал возраст или чей возраст равен 0.\n",
        "\n",
        "Так же у нас по идее есть товарищи, которым за 100 лет, и у них на иждевение есть родственники. Очень сильно сомневаюсь, что это ребятки из семьи Рокфеллеров =)\n",
        "\n",
        "Остальные возраста меня не смущают. Если эти данные по РФ, то вообще не удивлен, что у людей, которые 80+ есть дети на иждевение. Лично знаю одну женщину 75+, которая воспитывает двоих внуков."
      ],
      "metadata": {
        "id": "9b9LKznKoLr0"
      }
    },
    {
      "cell_type": "code",
      "source": [
        "# узнаем у кого же, возраст равен нулю)\n",
        "df[df['age'] == 0]"
      ],
      "metadata": {
        "colab": {
          "base_uri": "https://localhost:8080/",
          "height": 81
        },
        "id": "mNNm3YV1FYoL",
        "outputId": "7bab1db7-499d-4d21-d13d-6950ce6c05ee"
      },
      "execution_count": null,
      "outputs": [
        {
          "output_type": "execute_result",
          "data": {
            "text/plain": [
              "       defaulted  age  DebtRatio  MonthlyIncome  \\\n",
              "65695          0    0   0.436927         6000.0   \n",
              "\n",
              "       NumberOfOpenCreditLinesAndLoans  NumberRealEstateLoansOrLines  \\\n",
              "65695                                6                             2   \n",
              "\n",
              "       NumberOfDependents  \n",
              "65695                 2.0  "
            ],
            "text/html": [
              "\n",
              "\n",
              "  <div id=\"df-56b49d92-1370-4228-99fd-f91af785765d\">\n",
              "    <div class=\"colab-df-container\">\n",
              "      <div>\n",
              "<style scoped>\n",
              "    .dataframe tbody tr th:only-of-type {\n",
              "        vertical-align: middle;\n",
              "    }\n",
              "\n",
              "    .dataframe tbody tr th {\n",
              "        vertical-align: top;\n",
              "    }\n",
              "\n",
              "    .dataframe thead th {\n",
              "        text-align: right;\n",
              "    }\n",
              "</style>\n",
              "<table border=\"1\" class=\"dataframe\">\n",
              "  <thead>\n",
              "    <tr style=\"text-align: right;\">\n",
              "      <th></th>\n",
              "      <th>defaulted</th>\n",
              "      <th>age</th>\n",
              "      <th>DebtRatio</th>\n",
              "      <th>MonthlyIncome</th>\n",
              "      <th>NumberOfOpenCreditLinesAndLoans</th>\n",
              "      <th>NumberRealEstateLoansOrLines</th>\n",
              "      <th>NumberOfDependents</th>\n",
              "    </tr>\n",
              "  </thead>\n",
              "  <tbody>\n",
              "    <tr>\n",
              "      <th>65695</th>\n",
              "      <td>0</td>\n",
              "      <td>0</td>\n",
              "      <td>0.436927</td>\n",
              "      <td>6000.0</td>\n",
              "      <td>6</td>\n",
              "      <td>2</td>\n",
              "      <td>2.0</td>\n",
              "    </tr>\n",
              "  </tbody>\n",
              "</table>\n",
              "</div>\n",
              "      <button class=\"colab-df-convert\" onclick=\"convertToInteractive('df-56b49d92-1370-4228-99fd-f91af785765d')\"\n",
              "              title=\"Convert this dataframe to an interactive table.\"\n",
              "              style=\"display:none;\">\n",
              "\n",
              "  <svg xmlns=\"http://www.w3.org/2000/svg\" height=\"24px\"viewBox=\"0 0 24 24\"\n",
              "       width=\"24px\">\n",
              "    <path d=\"M0 0h24v24H0V0z\" fill=\"none\"/>\n",
              "    <path d=\"M18.56 5.44l.94 2.06.94-2.06 2.06-.94-2.06-.94-.94-2.06-.94 2.06-2.06.94zm-11 1L8.5 8.5l.94-2.06 2.06-.94-2.06-.94L8.5 2.5l-.94 2.06-2.06.94zm10 10l.94 2.06.94-2.06 2.06-.94-2.06-.94-.94-2.06-.94 2.06-2.06.94z\"/><path d=\"M17.41 7.96l-1.37-1.37c-.4-.4-.92-.59-1.43-.59-.52 0-1.04.2-1.43.59L10.3 9.45l-7.72 7.72c-.78.78-.78 2.05 0 2.83L4 21.41c.39.39.9.59 1.41.59.51 0 1.02-.2 1.41-.59l7.78-7.78 2.81-2.81c.8-.78.8-2.07 0-2.86zM5.41 20L4 18.59l7.72-7.72 1.47 1.35L5.41 20z\"/>\n",
              "  </svg>\n",
              "      </button>\n",
              "\n",
              "\n",
              "\n",
              "    <div id=\"df-a7157292-30b1-4578-b3a6-1abd785c772b\">\n",
              "      <button class=\"colab-df-quickchart\" onclick=\"quickchart('df-a7157292-30b1-4578-b3a6-1abd785c772b')\"\n",
              "              title=\"Suggest charts.\"\n",
              "              style=\"display:none;\">\n",
              "\n",
              "<svg xmlns=\"http://www.w3.org/2000/svg\" height=\"24px\"viewBox=\"0 0 24 24\"\n",
              "     width=\"24px\">\n",
              "    <g>\n",
              "        <path d=\"M19 3H5c-1.1 0-2 .9-2 2v14c0 1.1.9 2 2 2h14c1.1 0 2-.9 2-2V5c0-1.1-.9-2-2-2zM9 17H7v-7h2v7zm4 0h-2V7h2v10zm4 0h-2v-4h2v4z\"/>\n",
              "    </g>\n",
              "</svg>\n",
              "      </button>\n",
              "    </div>\n",
              "\n",
              "<style>\n",
              "  .colab-df-quickchart {\n",
              "    background-color: #E8F0FE;\n",
              "    border: none;\n",
              "    border-radius: 50%;\n",
              "    cursor: pointer;\n",
              "    display: none;\n",
              "    fill: #1967D2;\n",
              "    height: 32px;\n",
              "    padding: 0 0 0 0;\n",
              "    width: 32px;\n",
              "  }\n",
              "\n",
              "  .colab-df-quickchart:hover {\n",
              "    background-color: #E2EBFA;\n",
              "    box-shadow: 0px 1px 2px rgba(60, 64, 67, 0.3), 0px 1px 3px 1px rgba(60, 64, 67, 0.15);\n",
              "    fill: #174EA6;\n",
              "  }\n",
              "\n",
              "  [theme=dark] .colab-df-quickchart {\n",
              "    background-color: #3B4455;\n",
              "    fill: #D2E3FC;\n",
              "  }\n",
              "\n",
              "  [theme=dark] .colab-df-quickchart:hover {\n",
              "    background-color: #434B5C;\n",
              "    box-shadow: 0px 1px 3px 1px rgba(0, 0, 0, 0.15);\n",
              "    filter: drop-shadow(0px 1px 2px rgba(0, 0, 0, 0.3));\n",
              "    fill: #FFFFFF;\n",
              "  }\n",
              "</style>\n",
              "\n",
              "    <script>\n",
              "      async function quickchart(key) {\n",
              "        const containerElement = document.querySelector('#' + key);\n",
              "        const charts = await google.colab.kernel.invokeFunction(\n",
              "            'suggestCharts', [key], {});\n",
              "      }\n",
              "    </script>\n",
              "\n",
              "      <script>\n",
              "\n",
              "function displayQuickchartButton(domScope) {\n",
              "  let quickchartButtonEl =\n",
              "    domScope.querySelector('#df-a7157292-30b1-4578-b3a6-1abd785c772b button.colab-df-quickchart');\n",
              "  quickchartButtonEl.style.display =\n",
              "    google.colab.kernel.accessAllowed ? 'block' : 'none';\n",
              "}\n",
              "\n",
              "        displayQuickchartButton(document);\n",
              "      </script>\n",
              "      <style>\n",
              "    .colab-df-container {\n",
              "      display:flex;\n",
              "      flex-wrap:wrap;\n",
              "      gap: 12px;\n",
              "    }\n",
              "\n",
              "    .colab-df-convert {\n",
              "      background-color: #E8F0FE;\n",
              "      border: none;\n",
              "      border-radius: 50%;\n",
              "      cursor: pointer;\n",
              "      display: none;\n",
              "      fill: #1967D2;\n",
              "      height: 32px;\n",
              "      padding: 0 0 0 0;\n",
              "      width: 32px;\n",
              "    }\n",
              "\n",
              "    .colab-df-convert:hover {\n",
              "      background-color: #E2EBFA;\n",
              "      box-shadow: 0px 1px 2px rgba(60, 64, 67, 0.3), 0px 1px 3px 1px rgba(60, 64, 67, 0.15);\n",
              "      fill: #174EA6;\n",
              "    }\n",
              "\n",
              "    [theme=dark] .colab-df-convert {\n",
              "      background-color: #3B4455;\n",
              "      fill: #D2E3FC;\n",
              "    }\n",
              "\n",
              "    [theme=dark] .colab-df-convert:hover {\n",
              "      background-color: #434B5C;\n",
              "      box-shadow: 0px 1px 3px 1px rgba(0, 0, 0, 0.15);\n",
              "      filter: drop-shadow(0px 1px 2px rgba(0, 0, 0, 0.3));\n",
              "      fill: #FFFFFF;\n",
              "    }\n",
              "  </style>\n",
              "\n",
              "      <script>\n",
              "        const buttonEl =\n",
              "          document.querySelector('#df-56b49d92-1370-4228-99fd-f91af785765d button.colab-df-convert');\n",
              "        buttonEl.style.display =\n",
              "          google.colab.kernel.accessAllowed ? 'block' : 'none';\n",
              "\n",
              "        async function convertToInteractive(key) {\n",
              "          const element = document.querySelector('#df-56b49d92-1370-4228-99fd-f91af785765d');\n",
              "          const dataTable =\n",
              "            await google.colab.kernel.invokeFunction('convertToInteractive',\n",
              "                                                     [key], {});\n",
              "          if (!dataTable) return;\n",
              "\n",
              "          const docLinkHtml = 'Like what you see? Visit the ' +\n",
              "            '<a target=\"_blank\" href=https://colab.research.google.com/notebooks/data_table.ipynb>data table notebook</a>'\n",
              "            + ' to learn more about interactive tables.';\n",
              "          element.innerHTML = '';\n",
              "          dataTable['output_type'] = 'display_data';\n",
              "          await google.colab.output.renderOutput(dataTable, element);\n",
              "          const docLink = document.createElement('div');\n",
              "          docLink.innerHTML = docLinkHtml;\n",
              "          element.appendChild(docLink);\n",
              "        }\n",
              "      </script>\n",
              "    </div>\n",
              "  </div>\n"
            ]
          },
          "metadata": {},
          "execution_count": 108
        }
      ]
    },
    {
      "cell_type": "code",
      "source": [
        "# теперь посмотрим на того, кто старше 100 и имеет не иждевении ребенка\n",
        "df[(df['age'] > 100) & (df['NumberOfDependents'] > 0)]"
      ],
      "metadata": {
        "colab": {
          "base_uri": "https://localhost:8080/",
          "height": 81
        },
        "id": "iN92zOl4G2ep",
        "outputId": "ef165923-33a9-41d6-db60-04a216474286"
      },
      "execution_count": null,
      "outputs": [
        {
          "output_type": "execute_result",
          "data": {
            "text/plain": [
              "       defaulted  age  DebtRatio  MonthlyIncome  \\\n",
              "96450          0  102   0.273844         3417.0   \n",
              "\n",
              "       NumberOfOpenCreditLinesAndLoans  NumberRealEstateLoansOrLines  \\\n",
              "96450                                7                             0   \n",
              "\n",
              "       NumberOfDependents  \n",
              "96450                 1.0  "
            ],
            "text/html": [
              "\n",
              "\n",
              "  <div id=\"df-c57ee55b-e437-4407-9065-e4ec29a29e1a\">\n",
              "    <div class=\"colab-df-container\">\n",
              "      <div>\n",
              "<style scoped>\n",
              "    .dataframe tbody tr th:only-of-type {\n",
              "        vertical-align: middle;\n",
              "    }\n",
              "\n",
              "    .dataframe tbody tr th {\n",
              "        vertical-align: top;\n",
              "    }\n",
              "\n",
              "    .dataframe thead th {\n",
              "        text-align: right;\n",
              "    }\n",
              "</style>\n",
              "<table border=\"1\" class=\"dataframe\">\n",
              "  <thead>\n",
              "    <tr style=\"text-align: right;\">\n",
              "      <th></th>\n",
              "      <th>defaulted</th>\n",
              "      <th>age</th>\n",
              "      <th>DebtRatio</th>\n",
              "      <th>MonthlyIncome</th>\n",
              "      <th>NumberOfOpenCreditLinesAndLoans</th>\n",
              "      <th>NumberRealEstateLoansOrLines</th>\n",
              "      <th>NumberOfDependents</th>\n",
              "    </tr>\n",
              "  </thead>\n",
              "  <tbody>\n",
              "    <tr>\n",
              "      <th>96450</th>\n",
              "      <td>0</td>\n",
              "      <td>102</td>\n",
              "      <td>0.273844</td>\n",
              "      <td>3417.0</td>\n",
              "      <td>7</td>\n",
              "      <td>0</td>\n",
              "      <td>1.0</td>\n",
              "    </tr>\n",
              "  </tbody>\n",
              "</table>\n",
              "</div>\n",
              "      <button class=\"colab-df-convert\" onclick=\"convertToInteractive('df-c57ee55b-e437-4407-9065-e4ec29a29e1a')\"\n",
              "              title=\"Convert this dataframe to an interactive table.\"\n",
              "              style=\"display:none;\">\n",
              "\n",
              "  <svg xmlns=\"http://www.w3.org/2000/svg\" height=\"24px\"viewBox=\"0 0 24 24\"\n",
              "       width=\"24px\">\n",
              "    <path d=\"M0 0h24v24H0V0z\" fill=\"none\"/>\n",
              "    <path d=\"M18.56 5.44l.94 2.06.94-2.06 2.06-.94-2.06-.94-.94-2.06-.94 2.06-2.06.94zm-11 1L8.5 8.5l.94-2.06 2.06-.94-2.06-.94L8.5 2.5l-.94 2.06-2.06.94zm10 10l.94 2.06.94-2.06 2.06-.94-2.06-.94-.94-2.06-.94 2.06-2.06.94z\"/><path d=\"M17.41 7.96l-1.37-1.37c-.4-.4-.92-.59-1.43-.59-.52 0-1.04.2-1.43.59L10.3 9.45l-7.72 7.72c-.78.78-.78 2.05 0 2.83L4 21.41c.39.39.9.59 1.41.59.51 0 1.02-.2 1.41-.59l7.78-7.78 2.81-2.81c.8-.78.8-2.07 0-2.86zM5.41 20L4 18.59l7.72-7.72 1.47 1.35L5.41 20z\"/>\n",
              "  </svg>\n",
              "      </button>\n",
              "\n",
              "\n",
              "\n",
              "    <div id=\"df-682d0c76-2207-4c0a-b2fa-3c0933e5f8d6\">\n",
              "      <button class=\"colab-df-quickchart\" onclick=\"quickchart('df-682d0c76-2207-4c0a-b2fa-3c0933e5f8d6')\"\n",
              "              title=\"Suggest charts.\"\n",
              "              style=\"display:none;\">\n",
              "\n",
              "<svg xmlns=\"http://www.w3.org/2000/svg\" height=\"24px\"viewBox=\"0 0 24 24\"\n",
              "     width=\"24px\">\n",
              "    <g>\n",
              "        <path d=\"M19 3H5c-1.1 0-2 .9-2 2v14c0 1.1.9 2 2 2h14c1.1 0 2-.9 2-2V5c0-1.1-.9-2-2-2zM9 17H7v-7h2v7zm4 0h-2V7h2v10zm4 0h-2v-4h2v4z\"/>\n",
              "    </g>\n",
              "</svg>\n",
              "      </button>\n",
              "    </div>\n",
              "\n",
              "<style>\n",
              "  .colab-df-quickchart {\n",
              "    background-color: #E8F0FE;\n",
              "    border: none;\n",
              "    border-radius: 50%;\n",
              "    cursor: pointer;\n",
              "    display: none;\n",
              "    fill: #1967D2;\n",
              "    height: 32px;\n",
              "    padding: 0 0 0 0;\n",
              "    width: 32px;\n",
              "  }\n",
              "\n",
              "  .colab-df-quickchart:hover {\n",
              "    background-color: #E2EBFA;\n",
              "    box-shadow: 0px 1px 2px rgba(60, 64, 67, 0.3), 0px 1px 3px 1px rgba(60, 64, 67, 0.15);\n",
              "    fill: #174EA6;\n",
              "  }\n",
              "\n",
              "  [theme=dark] .colab-df-quickchart {\n",
              "    background-color: #3B4455;\n",
              "    fill: #D2E3FC;\n",
              "  }\n",
              "\n",
              "  [theme=dark] .colab-df-quickchart:hover {\n",
              "    background-color: #434B5C;\n",
              "    box-shadow: 0px 1px 3px 1px rgba(0, 0, 0, 0.15);\n",
              "    filter: drop-shadow(0px 1px 2px rgba(0, 0, 0, 0.3));\n",
              "    fill: #FFFFFF;\n",
              "  }\n",
              "</style>\n",
              "\n",
              "    <script>\n",
              "      async function quickchart(key) {\n",
              "        const containerElement = document.querySelector('#' + key);\n",
              "        const charts = await google.colab.kernel.invokeFunction(\n",
              "            'suggestCharts', [key], {});\n",
              "      }\n",
              "    </script>\n",
              "\n",
              "      <script>\n",
              "\n",
              "function displayQuickchartButton(domScope) {\n",
              "  let quickchartButtonEl =\n",
              "    domScope.querySelector('#df-682d0c76-2207-4c0a-b2fa-3c0933e5f8d6 button.colab-df-quickchart');\n",
              "  quickchartButtonEl.style.display =\n",
              "    google.colab.kernel.accessAllowed ? 'block' : 'none';\n",
              "}\n",
              "\n",
              "        displayQuickchartButton(document);\n",
              "      </script>\n",
              "      <style>\n",
              "    .colab-df-container {\n",
              "      display:flex;\n",
              "      flex-wrap:wrap;\n",
              "      gap: 12px;\n",
              "    }\n",
              "\n",
              "    .colab-df-convert {\n",
              "      background-color: #E8F0FE;\n",
              "      border: none;\n",
              "      border-radius: 50%;\n",
              "      cursor: pointer;\n",
              "      display: none;\n",
              "      fill: #1967D2;\n",
              "      height: 32px;\n",
              "      padding: 0 0 0 0;\n",
              "      width: 32px;\n",
              "    }\n",
              "\n",
              "    .colab-df-convert:hover {\n",
              "      background-color: #E2EBFA;\n",
              "      box-shadow: 0px 1px 2px rgba(60, 64, 67, 0.3), 0px 1px 3px 1px rgba(60, 64, 67, 0.15);\n",
              "      fill: #174EA6;\n",
              "    }\n",
              "\n",
              "    [theme=dark] .colab-df-convert {\n",
              "      background-color: #3B4455;\n",
              "      fill: #D2E3FC;\n",
              "    }\n",
              "\n",
              "    [theme=dark] .colab-df-convert:hover {\n",
              "      background-color: #434B5C;\n",
              "      box-shadow: 0px 1px 3px 1px rgba(0, 0, 0, 0.15);\n",
              "      filter: drop-shadow(0px 1px 2px rgba(0, 0, 0, 0.3));\n",
              "      fill: #FFFFFF;\n",
              "    }\n",
              "  </style>\n",
              "\n",
              "      <script>\n",
              "        const buttonEl =\n",
              "          document.querySelector('#df-c57ee55b-e437-4407-9065-e4ec29a29e1a button.colab-df-convert');\n",
              "        buttonEl.style.display =\n",
              "          google.colab.kernel.accessAllowed ? 'block' : 'none';\n",
              "\n",
              "        async function convertToInteractive(key) {\n",
              "          const element = document.querySelector('#df-c57ee55b-e437-4407-9065-e4ec29a29e1a');\n",
              "          const dataTable =\n",
              "            await google.colab.kernel.invokeFunction('convertToInteractive',\n",
              "                                                     [key], {});\n",
              "          if (!dataTable) return;\n",
              "\n",
              "          const docLinkHtml = 'Like what you see? Visit the ' +\n",
              "            '<a target=\"_blank\" href=https://colab.research.google.com/notebooks/data_table.ipynb>data table notebook</a>'\n",
              "            + ' to learn more about interactive tables.';\n",
              "          element.innerHTML = '';\n",
              "          dataTable['output_type'] = 'display_data';\n",
              "          await google.colab.output.renderOutput(dataTable, element);\n",
              "          const docLink = document.createElement('div');\n",
              "          docLink.innerHTML = docLinkHtml;\n",
              "          element.appendChild(docLink);\n",
              "        }\n",
              "      </script>\n",
              "    </div>\n",
              "  </div>\n"
            ]
          },
          "metadata": {},
          "execution_count": 109
        }
      ]
    },
    {
      "cell_type": "code",
      "source": [
        "# можно, конечно удалять значения, с помощью дропов, но, я наткнулся ну инфу\n",
        "# о том, что это может быть дольше, чем через присвоение датасету самого себя,\n",
        "# отфильтрованного по условиям)\n",
        "# поэтому я создам новый датафрейм, в котором будут исключительно люди старше 0 и младше 100 лет\n",
        "df_NOD = df[(df['age'] < 100) & (df['age'] > 0)]"
      ],
      "metadata": {
        "id": "bRWyogsiHAIA"
      },
      "execution_count": null,
      "outputs": []
    },
    {
      "cell_type": "code",
      "source": [
        "plt.bar(df.groupby(df_NOD['age']).NumberOfDependents.mean().index, df_NOD.groupby('age')['NumberOfDependents'].mean())\n",
        "fig = plt.figure(figsize=(14, 10))\n",
        "plt.show()"
      ],
      "metadata": {
        "colab": {
          "base_uri": "https://localhost:8080/",
          "height": 447
        },
        "id": "ULBRLJG7FCzs",
        "outputId": "78189fac-ac4e-4645-8dd2-6c30ad196b75"
      },
      "execution_count": null,
      "outputs": [
        {
          "output_type": "display_data",
          "data": {
            "text/plain": [
              "<Figure size 640x480 with 1 Axes>"
            ],
            "image/png": "[encoded data removed]"
          },
          "metadata": {}
        },
        {
          "output_type": "display_data",
          "data": {
            "text/plain": [
              "<Figure size 1400x1000 with 0 Axes>"
            ]
          },
          "metadata": {}
        }
      ]
    }
  ]
}