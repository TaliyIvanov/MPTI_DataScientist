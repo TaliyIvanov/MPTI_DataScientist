{
  "cells": [
    {
      "cell_type": "markdown",
      "metadata": {
        "id": "ehMkXe5IvhsQ"
      },
      "source": [
        "# Домашнее задание 4"
      ]
    },
    {
      "cell_type": "markdown",
      "metadata": {
        "id": "KM7tnu8SnXX6"
      },
      "source": [
        "В этом задании вам нужно реализовать класс `MathComplex` для комплексных чисел. Они должны быть идентичны привычным нам комплексным числам из математики, а не объектам класса `complex` из питона. Например, число `0+1i` должно печататься как `i`, число `42+0i` как просто `42`."
      ]
    },
    {
      "cell_type": "markdown",
      "metadata": {
        "id": "HB110VgAvhsU"
      },
      "source": [
        "Вспомнить базовые свойства и операции комплексных чисел можно [здесь](http://www.mathprofi.ru/kompleksnye_chisla_dlya_chainikov.html) и [здесь](http://mathportal.net/index.php/kompleksnye-chisla/dejstviya-s-kompleksnymi-chislami)."
      ]
    },
    {
      "cell_type": "markdown",
      "metadata": {
        "id": "PI6TSugmvhsU"
      },
      "source": [
        "Задание состоит из 4 последовательных пунктов:\n",
        "1. реализовать методы `__init__` и нахождение модуля `__abs__`. Атрибуты назовите `real` и `imag`\n",
        "2. красивый вывод на печать (достаточно реализовать `__repr__`). Для обозначения мнимой части используйте символ `i`.\n",
        "3. перегрузить операторы:\n",
        "    - сложения\n",
        "    - умножения\n",
        "    - вычитания\n",
        "    - деления (`__truediv__`)\n",
        "4. Этот пункт стоит __2 балла__. В математике у нас определены выражения вида (1+5i)  + 42. Если перевести это на язык объектов питона, то мы к комплексному числу прибавляем объект `int`. Поэтому теперь вам нужно отнаследовать класс `ExtendedComplex` и реализовать в нем соответствующие специальные методы, чтобы арифметические операции из пункта 2 выполнялись еще и с операндами типа `int/float`. Немного подробнее: если `а` - объект любого из классов `(int, float, ExtendedComplex`), x - экземпляр `ExtendedComplex`, то должны выполняться оба выражения `x + a` и `a + x`.\n",
        "\n",
        "*Подсказки для 4 пункта*: вспомните про функцию `isinstance`, а также поищите специальные методы для правых выражений (`a + x`) [тут](https://pythonworld.ru/osnovy/peregruzka-operatorov.html). Например, `__radd__`.\n",
        "\n",
        "Если у вас возникли вопросы, что должно печататься или получаться для той или иной операции, то загляните в ячейки с тестами или спросите в чате."
      ]
    },
    {
      "cell_type": "code",
      "source": [
        "# импортирую math\n",
        "import math"
      ],
      "metadata": {
        "id": "yKFvpnw1iBxi"
      },
      "execution_count": null,
      "outputs": []
    },
    {
      "cell_type": "code",
      "source": [
        "# пункт 1\n",
        "# создаю класс\n",
        "class MathComplex:\n",
        "    # создаю метод инициализации\n",
        "    def __init__(self, real=0, imag=0):\n",
        "      self.real = real\n",
        "      self.imag = imag\n",
        "\n",
        "    # создаю метод abs\n",
        "    def __abs__(self):\n",
        "      # для нахождения модуля использую метод, который был описан в лекции\n",
        "      # а вообще, если нет желания импортировать math, то можно сделать так:\n",
        "      # return MathComplex1((self.real**2 + self.imag**2)**0.5)\n",
        "      return math.hypot(self.real, self.imag)\n",
        "\n",
        "# пункт 2\n",
        "    def __repr__(self):\n",
        "      # задаю условие для вещественной части real\n",
        "      if self.real != 0:\n",
        "        real = self.real\n",
        "      else:\n",
        "        real = ''\n",
        "      # задаю условие для символа sign\n",
        "      if self.real != 0 and self.imag > 0:\n",
        "        sign = '+'\n",
        "      else:\n",
        "        if self.imag < 0:\n",
        "          sign = '-'\n",
        "        else:\n",
        "          sign = ''\n",
        "      # задаю условие для мнимой части imag\n",
        "      if self.imag == 0 or abs(self.imag) == 1:\n",
        "        imag = ''\n",
        "      else:\n",
        "        imag = abs(self.imag)\n",
        "      # задаю условие для символа sign_i\n",
        "      if self.imag != 0:\n",
        "        sign_i = 'i'\n",
        "      else:\n",
        "        sign_i = ''\n",
        "\n",
        "      return f'{real}{sign}{imag}{sign_i}'\n",
        "\n",
        "# пункт 3\n",
        "    def __add__(self, other):\n",
        "      return MathComplex(self.real + other.real, self.imag + other.imag)\n",
        "    # умножение\n",
        "    def __mul__(self, other):\n",
        "      return MathComplex(self.real*other.real - self.imag*other.imag, self.real*other.imag + self.imag*other.real)\n",
        "    # вычитание\n",
        "    def __sub__(self, other):\n",
        "      return MathComplex(self.real - other.real, self.imag - other.imag)\n",
        "    # деление (truediv)\n",
        "    def __truediv__(self, other):\n",
        "      real = (self.real*other.real + self.imag*other.imag) / (other.real**2 + other.imag**2)\n",
        "      imag = (self.imag*other.real - self.real*other.imag) / (other.real**2 + other.imag**2)\n",
        "      return MathComplex(real, imag)"
      ],
      "metadata": {
        "id": "X4mmS1biPfBB"
      },
      "execution_count": null,
      "outputs": []
    },
    {
      "cell_type": "code",
      "source": [
        "# пункт 4\n",
        "class ExtendedComplex(MathComplex):\n",
        "\n",
        "    def __add__(self, other):\n",
        "        if isinstance(other, (int, float)):\n",
        "            return MathComplex(self.real + other, self.imag)\n",
        "\n",
        "    def __radd__(self, other):\n",
        "            return self.__add__(other)\n",
        "\n",
        "    def __mul__(self, other):\n",
        "          return MathComplex(self.real*other.real - self.imag*other.imag, self.real*other.imag + self.imag*other.real)\n",
        "\n",
        "    def __rmul__(self, other):\n",
        "        return self.__mul__(other)\n",
        "\n",
        "    def __sub__(self, other):\n",
        "        return MathComplex(self.real - other.real, self.imag - other.imag)\n",
        "        if isinstance(other, (int, float)):\n",
        "            return MathComplex(self.real - other.real, self.imag)\n",
        "\n",
        "    def __rsub__(self, other):\n",
        "        return self.__sub__(other)\n",
        "\n",
        "    def __truediv__(self, other):\n",
        "        real = (self.real*other.real + self.imag*other.imag) / (other.real**2 + other.imag**2)\n",
        "        imag = (self.imag*other.real - self.real*other.imag) / (other.real**2 + other.imag**2)\n",
        "        return MathComplex(real, imag)\n",
        "        if isinstance(other, (int, float)):\n",
        "            return MathComplex(self.real / other, self.imag / other)\n",
        "\n",
        "    def __rtruediv__(self, other):\n",
        "      return self.__truediv__(other)"
      ],
      "metadata": {
        "id": "LNWaliBtQdG9"
      },
      "execution_count": null,
      "outputs": []
    },
    {
      "cell_type": "code",
      "source": [
        "# ТЕСТЫ\n",
        "# test 1 for __init__ and __abs__\n",
        "e = MathComplex()\n",
        "a = MathComplex(2, 1)\n",
        "b = MathComplex(4, 3)\n",
        "\n",
        "assert e.imag == 0 and e.real == 0\n",
        "assert a.imag == 1 and a.real == 2\n",
        "assert b.real == 4 and b.imag == 3\n",
        "assert abs(b) == 5\n",
        "assert round(abs(a), 3) == 2.236\n",
        "\n",
        "# test 2 for __repr__\n",
        "\n",
        "e = MathComplex()\n",
        "a = MathComplex(2, 1)\n",
        "b = MathComplex(4, 3)\n",
        "\n",
        "assert str(MathComplex(0, 1)) == 'i'\n",
        "assert str(MathComplex(0, -1)) == '-i'\n",
        "assert str(MathComplex(42, 0)) == '42'\n",
        "assert str(a) == '2+i'\n",
        "assert str(MathComplex(-42, -42)) == '-42-42i'\n",
        "\n",
        "# test 3 for arithmetic operators +, -, *, /\n",
        "\n",
        "# Обратите внимание, что проверка равенства\n",
        "# MathComplex(5, 10) == MathComplex(5, 10) вернет False\n",
        "# Чтобы сравнения работали, надо также реализовать специальные методы,\n",
        "# но в этом задании от вас этого не требуется\n",
        "\n",
        "\n",
        "e = MathComplex()\n",
        "a = MathComplex(2, 1)\n",
        "b = MathComplex(4, 3)\n",
        "\n",
        "assert str(a + e) == str(b + MathComplex(-2, -2)), 'ошибка в __add__'\n",
        "assert str(a - e) == str(a)\n",
        "assert str(b * a) == str(MathComplex(5, 10))\n",
        "assert str(b / a) == str(MathComplex(2.2, 0.4)), 'проверьте, выполняете ли вы деление по правилам математики'\n",
        "\n",
        "# test 4\n",
        "\n",
        "e = ExtendedComplex()\n",
        "a = ExtendedComplex(2, 1)\n",
        "b = ExtendedComplex(4, 3)\n",
        "\n",
        "assert str(a * 5) == str(5 * a), 'упс, что-то пошло не так'"
      ],
      "metadata": {
        "id": "MCYYXrMnRGF0"
      },
      "execution_count": null,
      "outputs": []
    },
    {
      "cell_type": "markdown",
      "source": [
        "ДАЛЬШЕ ИДЕТ МОЙ ЧЕРНОВИК"
      ],
      "metadata": {
        "id": "2QSSDcXAR4wD"
      }
    },
    {
      "cell_type": "markdown",
      "source": [
        "Пункт 1:\n",
        "реализовать методы `__init__` и нахождение модуля `__abs__`. Атрибуты назовите `real` и `imag`\n",
        "\n",
        "В целом здесь ничего сложного, достаточно открыть лекции"
      ],
      "metadata": {
        "id": "S6qYdqMjpNSr"
      }
    },
    {
      "cell_type": "code",
      "execution_count": null,
      "metadata": {
        "id": "Dd3bbqFRnqn5"
      },
      "outputs": [],
      "source": [
        "# создаю класс\n",
        "class MathComplex1:\n",
        "    # создаю метод инициализации\n",
        "    def __init__(self, real=0, imag=0):\n",
        "      self.real = real\n",
        "      self.imag = imag\n",
        "\n",
        "    # создаю метод abs\n",
        "    def __abs__(self):\n",
        "      # для нахождения модуля использую метод, который был описан в лекции\n",
        "      # а вообще, если нет желания импортировать math, то можно сделать так:\n",
        "      # return MathComplex1((self.real**2 + self.imag**2)**0.5)\n",
        "      return math.hypot(self.real, self.imag)\n"
      ]
    },
    {
      "cell_type": "markdown",
      "metadata": {
        "id": "vJaEN8w8vhsW"
      },
      "source": [
        "Тесты для __пункта 1__:"
      ]
    },
    {
      "cell_type": "code",
      "execution_count": null,
      "metadata": {
        "id": "H1QtPl_PwPrd"
      },
      "outputs": [],
      "source": [
        "# test 1 for __init__ and __abs__\n",
        "e = MathComplex1()\n",
        "a = MathComplex1(2, 1)\n",
        "b = MathComplex1(4, 3)\n",
        "\n",
        "assert e.imag == 0 and e.real == 0\n",
        "assert a.imag == 1 and a.real == 2\n",
        "assert b.real == 4 and b.imag == 3\n",
        "assert abs(b) == 5\n",
        "assert round(abs(a), 3) == 2.236"
      ]
    },
    {
      "cell_type": "markdown",
      "source": [
        "Пункт 2:\n",
        "красивый вывод на печать (достаточно реализовать `__repr__`). Для обозначения мнимой части используйте символ `i`.\n",
        "\n",
        "Вот тут не все так просто.\n",
        "Вернее просто, но нужно понять что именно нужно.\n",
        "1 - ответ необходимо разделить на 4 части:\n",
        "- вещественная часть\n",
        "- символ между частями: \"+\" или \"-\" или \"\"\n",
        "- мнимая часть\n",
        "- символ мнимой части i\n",
        "\n",
        "2 - для каждой из частей необходимо задать условия\n",
        "\n",
        "3 - вещественная часть:\n",
        "\n",
        "если число != 0, то вещественная часть, в противном случае \"\".\n",
        "\n",
        "4 - символ между частями:\n",
        "- если вещественное число != 0 и мнимая часть > 0, то \"+\", в противном случае если мнимая часть < 0, то \"-\", в противном случае \"\"\n",
        "\n",
        "5 - мнимая часть:\n",
        "\n",
        "- если мнимая часть == 0 или модуль мнимой части == 1, то \"\"\n",
        "- в противном случае модуль мнимой части\n",
        "\n",
        "6 - символ мнимой части i:\n",
        "\n",
        "- если мнимая часть != 0, то \"i\", в противном случае \"\".\n"
      ],
      "metadata": {
        "id": "ULGowAeppIF6"
      }
    },
    {
      "cell_type": "code",
      "source": [
        "# Наследую класс. Не просто же так нам об это рассказывали)\n",
        "class MathComplex2(MathComplex1):\n",
        "  # создаю метод __repr__\n",
        "  def __repr__(self):\n",
        "    # задаю условие для вещественной части real\n",
        "    if self.real != 0:\n",
        "      real = self.real\n",
        "    else:\n",
        "      real = ''\n",
        "    # задаю условие для символа sign\n",
        "    if self.real != 0 and self.imag > 0:\n",
        "      sign = '+'\n",
        "    else:\n",
        "      if self.imag < 0:\n",
        "        sign = '-'\n",
        "      else:\n",
        "        sign = ''\n",
        "    # задаю условие для мнимой части imag\n",
        "    if self.imag == 0 or abs(self.imag) == 1:\n",
        "      imag = ''\n",
        "    else:\n",
        "      imag = abs(self.imag)\n",
        "    # задаю условие для символа sign_i\n",
        "    if self.imag != 0:\n",
        "      sign_i = 'i'\n",
        "    else:\n",
        "      sign_i = ''\n",
        "\n",
        "    return f'{real}{sign}{imag}{sign_i}'\n"
      ],
      "metadata": {
        "id": "5pWhYtLkRD4X"
      },
      "execution_count": null,
      "outputs": []
    },
    {
      "cell_type": "markdown",
      "metadata": {
        "id": "2aEfAhOcvhsX"
      },
      "source": [
        "Тесты для __пункта 2__:"
      ]
    },
    {
      "cell_type": "code",
      "execution_count": null,
      "metadata": {
        "id": "0INS0l6gvhsX"
      },
      "outputs": [],
      "source": [
        "# test 2 for __repr__\n",
        "\n",
        "e = MathComplex2()\n",
        "a = MathComplex2(2, 1)\n",
        "b = MathComplex2(4, 3)\n",
        "\n",
        "assert str(MathComplex2(0, 1)) == 'i'\n",
        "assert str(MathComplex2(0, -1)) == '-i'\n",
        "assert str(MathComplex2(42, 0)) == '42'\n",
        "assert str(a) == '2+i'\n",
        "assert str(MathComplex2(-42, -42)) == '-42-42i'"
      ]
    },
    {
      "cell_type": "markdown",
      "source": [
        "Пункт 3:\n",
        "\n",
        "перегрузить операторы:\n",
        "\n",
        "- сложения\n",
        "- умножения\n",
        "- вычитания\n",
        "- деления (__truediv__)"
      ],
      "metadata": {
        "id": "DMMl9dHBpR7W"
      }
    },
    {
      "cell_type": "code",
      "source": [
        "# снова наследую класс\n",
        "class MathComplex3(MathComplex2):\n",
        "    # сложение\n",
        "    def __add__(self, other):\n",
        "      return MathComplex3(self.real + other.real, self.imag + other.imag)\n",
        "    # умножение\n",
        "    def __mul__(self, other):\n",
        "      return MathComplex3(self.real*other.real - self.imag*other.imag, self.real*other.imag + self.imag*other.real)\n",
        "    # вычитание\n",
        "    def __sub__(self, other):\n",
        "      return MathComplex3(self.real - other.real, self.imag - other.imag)\n",
        "    # деление (truediv)\n",
        "    def __truediv__(self, other):\n",
        "        real = (self.real*other.real + self.imag*other.imag) / (other.real**2 + other.imag**2)\n",
        "        imag = (self.imag*other.real - self.real*other.imag) / (other.real**2 + other.imag**2)\n",
        "        return MathComplex3(real, imag)\n"
      ],
      "metadata": {
        "id": "BSgc-5R4RDnC"
      },
      "execution_count": null,
      "outputs": []
    },
    {
      "cell_type": "markdown",
      "metadata": {
        "id": "b2p_ST_YvhsY"
      },
      "source": [
        "Тесты для __пункта 3__:"
      ]
    },
    {
      "cell_type": "code",
      "execution_count": null,
      "metadata": {
        "id": "HUVFB2i3sFZ9"
      },
      "outputs": [],
      "source": [
        "# test 3 for arithmetic operators +, -, *, /\n",
        "\n",
        "# Обратите внимание, что проверка равенства\n",
        "# MathComplex(5, 10) == MathComplex(5, 10) вернет False\n",
        "# Чтобы сравнения работали, надо также реализовать специальные методы,\n",
        "# но в этом задании от вас этого не требуется\n",
        "\n",
        "\n",
        "e = MathComplex3()\n",
        "a = MathComplex3(2, 1)\n",
        "b = MathComplex3(4, 3)\n",
        "\n",
        "assert str(a + e) == str(b + MathComplex3(-2, -2)), 'ошибка в __add__'\n",
        "assert str(a - e) == str(a)\n",
        "assert str(b * a) == str(MathComplex3(5, 10))\n",
        "assert str(b / a) == str(MathComplex3(2.2, 0.4)), 'проверьте, выполняете ли вы деление по правилам математики'"
      ]
    },
    {
      "cell_type": "markdown",
      "metadata": {
        "id": "Gl_bjLn6vhsY"
      },
      "source": [
        "__Пункт 4__:\n",
        "Этот пункт стоит __2 балла__. В математике у нас определены выражения вида (1+5i)  + 42. Если перевести это на язык объектов питона, то мы к комплексному числу прибавляем объект `int`. Поэтому теперь вам нужно отнаследовать класс `ExtendedComplex` и реализовать в нем соответствующие специальные методы, чтобы арифметические операции из пункта 2 выполнялись еще и с операндами типа `int/float`. Немного подробнее: если `а` - объект любого из классов `(int, float, ExtendedComplex`), x - экземпляр `ExtendedComplex`, то должны выполняться оба выражения `x + a` и `a + x`.\n",
        "\n",
        "*Подсказки для 4 пункта*: вспомните про функцию `isinstance`, а также поищите специальные методы для правых выражений (`a + x`) [тут](https://pythonworld.ru/osnovy/peregruzka-operatorov.html). Например, `__radd__`.\n",
        "\n",
        "Если у вас возникли вопросы, что должно печататься или получаться для той или иной операции, то загляните в ячейки с тестами или спросите в чате."
      ]
    },
    {
      "cell_type": "markdown",
      "source": [
        "тут конечно жопа жопная, я даже скрывать не буду, вот сюда залез и стырил решение, но я его не бездумно скопировал. А постарался разобраться.\n",
        "\n",
        "https://ru.stackoverflow.com/questions/1511885/%D0%9F%D0%BE%D0%BC%D0%BE%D0%B3%D0%B8%D1%82%D0%B5-%D1%81-%D0%BA%D0%B0%D0%BB%D1%8C%D0%BA%D1%83%D0%BB%D1%8F%D1%82%D0%BE%D1%80%D0%BE%D0%BC-%D0%BA%D0%BE%D0%BC%D0%BF%D0%BB%D0%B5%D0%BA%D1%81%D0%BD%D1%8B%D1%85-%D1%87%D0%B8%D1%81%D0%B5%D0%BB-python"
      ],
      "metadata": {
        "id": "JGU-wKTZBfcb"
      }
    },
    {
      "cell_type": "code",
      "source": [
        "class ExtendedComplex(MathComplex3):\n",
        "\n",
        "    def __add__(self, other):\n",
        "        if isinstance(other, (int, float)):\n",
        "            return MathComplex3(self.real + other, self.imag)\n",
        "\n",
        "    def __radd__(self, other):\n",
        "            return self.__add__(other)\n",
        "\n",
        "    def __mul__(self, other):\n",
        "          return MathComplex3(self.real*other.real - self.imag*other.imag, self.real*other.imag + self.imag*other.real)\n",
        "\n",
        "    def __rmul__(self, other):\n",
        "        return self.__mul__(other)\n",
        "\n",
        "    def __sub__(self, other):\n",
        "        return MathComplex3(self.real - other.real, self.imag - other.imag)\n",
        "        if isinstance(other, (int, float)):\n",
        "            return MathComplex3(self.real - other.real, self.imag)\n",
        "\n",
        "    def __rsub__(self, other):\n",
        "        return self.__sub__(other)\n",
        "\n",
        "    def __truediv__(self, other):\n",
        "        real = (self.real*other.real + self.imag*other.imag) / (other.real**2 + other.imag**2)\n",
        "        imag = (self.imag*other.real - self.real*other.imag) / (other.real**2 + other.imag**2)\n",
        "        return MathComplex3(real, imag)\n",
        "        if isinstance(other, (int, float)):\n",
        "            return MathComplex3(self.real / other, self.imag / other)\n",
        "\n",
        "    def __rtruediv__(self, other):\n",
        "      return self.__truediv__(other)"
      ],
      "metadata": {
        "id": "bPbwBt9fQzke"
      },
      "execution_count": null,
      "outputs": []
    },
    {
      "cell_type": "markdown",
      "metadata": {
        "id": "p8xrJu6NvhsZ"
      },
      "source": [
        "В этом пункте попробуйте написать также и свои тесты!"
      ]
    },
    {
      "cell_type": "code",
      "execution_count": null,
      "metadata": {
        "id": "MFgD8allvhsZ"
      },
      "outputs": [],
      "source": [
        "# test 4\n",
        "\n",
        "e = ExtendedComplex()\n",
        "a = ExtendedComplex(2, 1)\n",
        "b = ExtendedComplex(44, 3)\n",
        "\n",
        "assert str(a * 5) == str(5 * a), 'упс, что-то пошло не так'\n",
        "assert str(a / 5) == str(5 / a), 'упс, что-то пошло не так'\n",
        "assert str(a + 5) == str(5 + a), 'упс, что-то пошло не так'\n",
        "assert str(a - 5) == str(5 - a), 'упс, что-то пошло не так'"
      ]
    },
    {
      "cell_type": "code",
      "source": [],
      "metadata": {
        "id": "5e9Yj-2VYEvD"
      },
      "execution_count": null,
      "outputs": []
    },
    {
      "cell_type": "code",
      "source": [],
      "metadata": {
        "id": "QlgUzeHqYEqm"
      },
      "execution_count": null,
      "outputs": []
    },
    {
      "cell_type": "code",
      "source": [
        "# пример решения со StackOverflow\n",
        "# Это лично для меня, чтобы сесть и разобраться, расписать все пошагово\n",
        "# пока что очень тяжело это все воспринимается\n",
        "class MathComplex:\n",
        "    def __init__(self, real=0, imag=0):\n",
        "        self.real = real\n",
        "        self.imag = imag\n",
        "\n",
        "    def __abs__(self):\n",
        "        return MathComplex((self.real**2 + self.imag**2)**0.5)\n",
        "        if isinstance(self, (int, float)):\n",
        "            return(abs(self))\n",
        "\n",
        "    def __repr__(self):\n",
        "        real = self.real if self.real != 0 else \"\"\n",
        "        imag = \"\" if self.imag == 0 or abs(self.imag) == 1 else abs(self.imag)\n",
        "        i_sign = \"i\" if self.imag != 0 else \"\"\n",
        "        sign = \"+\" if self.imag > 0 and self.real != 0 else \"-\" if self.imag < 0 else \"\"\n",
        "        return '{}{}{}{}'.format(real, sign, imag,i_sign)\n",
        "\n",
        "    def __add__(self, other):\n",
        "        return MathComplex(self.real + other.real, self.imag + other.imag)\n",
        "        if isinstance(other, (int, float)):\n",
        "            return MathComplex(self.real + other, self.imag)\n",
        "    def __radd__(self, other):\n",
        "        return self.__add__(other)\n",
        "\n",
        "    def __sub__(self, other):\n",
        "        return MathComplex(self.real - other.real, self.imag - other.imag)\n",
        "        if isinstance(other, (int, float)):\n",
        "            return MathComplex(self.real - other.real, self.imag)\n",
        "\n",
        "    def __rsub__(self, other):\n",
        "        return self.__sub__(other)\n",
        "\n",
        "    def __mul__(self, other):\n",
        "        return MathComplex(self.real*other.real - self.imag*other.imag, self.real*other.imag + self.imag*other.real)\n",
        "        if isinstance(other, (int, float)):\n",
        "            return MathComplex(other*self.real, other*self.imag)\n",
        "\n",
        "    def __rmul__(self, other):\n",
        "        return self.__mul__(other)\n",
        "\n",
        "    def __truediv__(self, other):\n",
        "        real = (self.real*other.real + self.imag*other.imag) / (other.real**2 + other.imag**2)\n",
        "        imag = (self.imag*other.real - self.real*other.imag) / (other.real**2 + other.imag**2)\n",
        "        return MathComplex(real, imag)\n",
        "        if isinstance(other, (int, float)):\n",
        "            return MathComplex(self.real / other, self.imag / other)\n",
        "\n",
        "    def __rtruediv__(self, other):\n",
        "        return self.__truediv__(other)\n",
        "\n",
        "    def __neg__(self):\n",
        "        return MathComplex(self.imag)\n",
        "        if isinstance(self, (int, float)):\n",
        "            return 'Отсутствует мнимая часть'\n",
        "\n",
        "    def __eq__(self, other):\n",
        "        return self.real == other.real and self.imag == other.imag\n",
        "\n",
        "    def __round__(self, n):\n",
        "\n",
        "        return MathComplex(round(self.real, n), round(self.imag, n))\n",
        "\n",
        "    def conjugate(self):\n",
        "        self.imag = - self.imag\n",
        "        return MathComplex()\n",
        "        if isinstance(self, (int, float)):\n",
        "            return 'Отсутствует мнимая часть'\n",
        "\n",
        "e = MathComplex()\n",
        "a = MathComplex(2, 1)\n",
        "b = MathComplex(4, 3)\n",
        "d = 4\n",
        "x = 4.67\n",
        "\n",
        "assert str(a + e) == str(b + MathComplex(-2, -2)),\n",
        "assert str(a - e) == str(a)\n",
        "assert a - e == a\n",
        "assert str(b * a) == str(MathComplex(5, 10))\n",
        "assert str(b / a) == str(MathComplex(2.2, 0.4))\n",
        "assert str(a + e) == str(e + a)\n",
        "assert str(a - d) == str(MathComplex(-2, 1))\n",
        "assert a - x == MathComplex(-2.67, 1)\n",
        "assert str(b * d) == str(d * b)\n",
        "assert round(abs(b / x), 4) == 1.0707"
      ],
      "metadata": {
        "id": "k3YUNLtZYEjT"
      },
      "execution_count": null,
      "outputs": []
    },
    {
      "cell_type": "code",
      "source": [],
      "metadata": {
        "id": "pbg5JgexYKtu"
      },
      "execution_count": null,
      "outputs": []
    }
  ],
  "metadata": {
    "colab": {
      "private_outputs": true,
      "provenance": []
    },
    "kernelspec": {
      "display_name": "Python 3 (ipykernel)",
      "language": "python",
      "name": "python3"
    },
    "language_info": {
      "codemirror_mode": {
        "name": "ipython",
        "version": 3
      },
      "file_extension": ".py",
      "mimetype": "text/x-python",
      "name": "python",
      "nbconvert_exporter": "python",
      "pygments_lexer": "ipython3",
      "version": "3.8.12"
    }
  },
  "nbformat": 4,
  "nbformat_minor": 0
}